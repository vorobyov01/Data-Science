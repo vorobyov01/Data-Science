{
  "nbformat": 4,
  "nbformat_minor": 0,
  "metadata": {
    "orig_nbformat": 4,
    "language_info": {
      "name": "python",
      "version": "3.7.6",
      "mimetype": "text/x-python",
      "codemirror_mode": {
        "name": "ipython",
        "version": 3
      },
      "pygments_lexer": "ipython3",
      "nbconvert_exporter": "python",
      "file_extension": ".py"
    },
    "kernelspec": {
      "name": "python3",
      "display_name": "Python 3.7.6 64-bit ('base': conda)"
    },
    "interpreter": {
      "hash": "cf39f8642901a9050bfbdc067501de50365fec840872b09e86afaaf587ef1c39"
    },
    "colab": {
      "name": "prac1_experiments.ipynb",
      "provenance": [],
      "collapsed_sections": [
        "ZpcyeU76gvsS",
        "WlqVNw0ZgvsV",
        "Vb6DZTXIgvsX",
        "lowikAozgvsZ",
        "_ZklDXv2gvsg"
      ],
      "machine_shape": "hm"
    },
    "widgets": {
      "application/vnd.jupyter.widget-state+json": {
        "828e34765b43425db2e1b1cbf5ac4948": {
          "model_module": "@jupyter-widgets/controls",
          "model_name": "HBoxModel",
          "model_module_version": "1.5.0",
          "state": {
            "_view_name": "HBoxView",
            "_dom_classes": [],
            "_model_name": "HBoxModel",
            "_view_module": "@jupyter-widgets/controls",
            "_model_module_version": "1.5.0",
            "_view_count": null,
            "_view_module_version": "1.5.0",
            "box_style": "",
            "layout": "IPY_MODEL_ccd92544a2b34f3c8a6b17cd734affd5",
            "_model_module": "@jupyter-widgets/controls",
            "children": [
              "IPY_MODEL_ad72c9b8d0cd4aa182e7dfc90de78530",
              "IPY_MODEL_8bba278fc590435da556468f960c6e2f",
              "IPY_MODEL_34354b931f3a4efa9e4217c31e9ca1fa"
            ]
          }
        },
        "ccd92544a2b34f3c8a6b17cd734affd5": {
          "model_module": "@jupyter-widgets/base",
          "model_name": "LayoutModel",
          "model_module_version": "1.2.0",
          "state": {
            "_view_name": "LayoutView",
            "grid_template_rows": null,
            "right": null,
            "justify_content": null,
            "_view_module": "@jupyter-widgets/base",
            "overflow": null,
            "_model_module_version": "1.2.0",
            "_view_count": null,
            "flex_flow": null,
            "width": null,
            "min_width": null,
            "border": null,
            "align_items": null,
            "bottom": null,
            "_model_module": "@jupyter-widgets/base",
            "top": null,
            "grid_column": null,
            "overflow_y": null,
            "overflow_x": null,
            "grid_auto_flow": null,
            "grid_area": null,
            "grid_template_columns": null,
            "flex": null,
            "_model_name": "LayoutModel",
            "justify_items": null,
            "grid_row": null,
            "max_height": null,
            "align_content": null,
            "visibility": null,
            "align_self": null,
            "height": null,
            "min_height": null,
            "padding": null,
            "grid_auto_rows": null,
            "grid_gap": null,
            "max_width": null,
            "order": null,
            "_view_module_version": "1.2.0",
            "grid_template_areas": null,
            "object_position": null,
            "object_fit": null,
            "grid_auto_columns": null,
            "margin": null,
            "display": null,
            "left": null
          }
        },
        "ad72c9b8d0cd4aa182e7dfc90de78530": {
          "model_module": "@jupyter-widgets/controls",
          "model_name": "HTMLModel",
          "model_module_version": "1.5.0",
          "state": {
            "_view_name": "HTMLView",
            "style": "IPY_MODEL_aeebaf9f8e014102a713e50ae6ae3e7a",
            "_dom_classes": [],
            "description": "",
            "_model_name": "HTMLModel",
            "placeholder": "​",
            "_view_module": "@jupyter-widgets/controls",
            "_model_module_version": "1.5.0",
            "value": "",
            "_view_count": null,
            "_view_module_version": "1.5.0",
            "description_tooltip": null,
            "_model_module": "@jupyter-widgets/controls",
            "layout": "IPY_MODEL_a9ba32bea498463c97b983a4376554af"
          }
        },
        "8bba278fc590435da556468f960c6e2f": {
          "model_module": "@jupyter-widgets/controls",
          "model_name": "FloatProgressModel",
          "model_module_version": "1.5.0",
          "state": {
            "_view_name": "ProgressView",
            "style": "IPY_MODEL_437b551aeebe4ac1892fabe163467a89",
            "_dom_classes": [],
            "description": "",
            "_model_name": "FloatProgressModel",
            "bar_style": "success",
            "max": 1,
            "_view_module": "@jupyter-widgets/controls",
            "_model_module_version": "1.5.0",
            "value": 1,
            "_view_count": null,
            "_view_module_version": "1.5.0",
            "orientation": "horizontal",
            "min": 0,
            "description_tooltip": null,
            "_model_module": "@jupyter-widgets/controls",
            "layout": "IPY_MODEL_2e62359381dd43e7b1046950c22c1cda"
          }
        },
        "34354b931f3a4efa9e4217c31e9ca1fa": {
          "model_module": "@jupyter-widgets/controls",
          "model_name": "HTMLModel",
          "model_module_version": "1.5.0",
          "state": {
            "_view_name": "HTMLView",
            "style": "IPY_MODEL_6e9f42d0916f410e84b20dbae49c568c",
            "_dom_classes": [],
            "description": "",
            "_model_name": "HTMLModel",
            "placeholder": "​",
            "_view_module": "@jupyter-widgets/controls",
            "_model_module_version": "1.5.0",
            "value": " 60000/? [00:08&lt;00:00, 6655.43it/s]",
            "_view_count": null,
            "_view_module_version": "1.5.0",
            "description_tooltip": null,
            "_model_module": "@jupyter-widgets/controls",
            "layout": "IPY_MODEL_fb9e7220ce4245958b6eff355e0fbdb7"
          }
        },
        "aeebaf9f8e014102a713e50ae6ae3e7a": {
          "model_module": "@jupyter-widgets/controls",
          "model_name": "DescriptionStyleModel",
          "model_module_version": "1.5.0",
          "state": {
            "_view_name": "StyleView",
            "_model_name": "DescriptionStyleModel",
            "description_width": "",
            "_view_module": "@jupyter-widgets/base",
            "_model_module_version": "1.5.0",
            "_view_count": null,
            "_view_module_version": "1.2.0",
            "_model_module": "@jupyter-widgets/controls"
          }
        },
        "a9ba32bea498463c97b983a4376554af": {
          "model_module": "@jupyter-widgets/base",
          "model_name": "LayoutModel",
          "model_module_version": "1.2.0",
          "state": {
            "_view_name": "LayoutView",
            "grid_template_rows": null,
            "right": null,
            "justify_content": null,
            "_view_module": "@jupyter-widgets/base",
            "overflow": null,
            "_model_module_version": "1.2.0",
            "_view_count": null,
            "flex_flow": null,
            "width": null,
            "min_width": null,
            "border": null,
            "align_items": null,
            "bottom": null,
            "_model_module": "@jupyter-widgets/base",
            "top": null,
            "grid_column": null,
            "overflow_y": null,
            "overflow_x": null,
            "grid_auto_flow": null,
            "grid_area": null,
            "grid_template_columns": null,
            "flex": null,
            "_model_name": "LayoutModel",
            "justify_items": null,
            "grid_row": null,
            "max_height": null,
            "align_content": null,
            "visibility": null,
            "align_self": null,
            "height": null,
            "min_height": null,
            "padding": null,
            "grid_auto_rows": null,
            "grid_gap": null,
            "max_width": null,
            "order": null,
            "_view_module_version": "1.2.0",
            "grid_template_areas": null,
            "object_position": null,
            "object_fit": null,
            "grid_auto_columns": null,
            "margin": null,
            "display": null,
            "left": null
          }
        },
        "437b551aeebe4ac1892fabe163467a89": {
          "model_module": "@jupyter-widgets/controls",
          "model_name": "ProgressStyleModel",
          "model_module_version": "1.5.0",
          "state": {
            "_view_name": "StyleView",
            "_model_name": "ProgressStyleModel",
            "description_width": "",
            "_view_module": "@jupyter-widgets/base",
            "_model_module_version": "1.5.0",
            "_view_count": null,
            "_view_module_version": "1.2.0",
            "bar_color": null,
            "_model_module": "@jupyter-widgets/controls"
          }
        },
        "2e62359381dd43e7b1046950c22c1cda": {
          "model_module": "@jupyter-widgets/base",
          "model_name": "LayoutModel",
          "model_module_version": "1.2.0",
          "state": {
            "_view_name": "LayoutView",
            "grid_template_rows": null,
            "right": null,
            "justify_content": null,
            "_view_module": "@jupyter-widgets/base",
            "overflow": null,
            "_model_module_version": "1.2.0",
            "_view_count": null,
            "flex_flow": null,
            "width": "20px",
            "min_width": null,
            "border": null,
            "align_items": null,
            "bottom": null,
            "_model_module": "@jupyter-widgets/base",
            "top": null,
            "grid_column": null,
            "overflow_y": null,
            "overflow_x": null,
            "grid_auto_flow": null,
            "grid_area": null,
            "grid_template_columns": null,
            "flex": null,
            "_model_name": "LayoutModel",
            "justify_items": null,
            "grid_row": null,
            "max_height": null,
            "align_content": null,
            "visibility": null,
            "align_self": null,
            "height": null,
            "min_height": null,
            "padding": null,
            "grid_auto_rows": null,
            "grid_gap": null,
            "max_width": null,
            "order": null,
            "_view_module_version": "1.2.0",
            "grid_template_areas": null,
            "object_position": null,
            "object_fit": null,
            "grid_auto_columns": null,
            "margin": null,
            "display": null,
            "left": null
          }
        },
        "6e9f42d0916f410e84b20dbae49c568c": {
          "model_module": "@jupyter-widgets/controls",
          "model_name": "DescriptionStyleModel",
          "model_module_version": "1.5.0",
          "state": {
            "_view_name": "StyleView",
            "_model_name": "DescriptionStyleModel",
            "description_width": "",
            "_view_module": "@jupyter-widgets/base",
            "_model_module_version": "1.5.0",
            "_view_count": null,
            "_view_module_version": "1.2.0",
            "_model_module": "@jupyter-widgets/controls"
          }
        },
        "fb9e7220ce4245958b6eff355e0fbdb7": {
          "model_module": "@jupyter-widgets/base",
          "model_name": "LayoutModel",
          "model_module_version": "1.2.0",
          "state": {
            "_view_name": "LayoutView",
            "grid_template_rows": null,
            "right": null,
            "justify_content": null,
            "_view_module": "@jupyter-widgets/base",
            "overflow": null,
            "_model_module_version": "1.2.0",
            "_view_count": null,
            "flex_flow": null,
            "width": null,
            "min_width": null,
            "border": null,
            "align_items": null,
            "bottom": null,
            "_model_module": "@jupyter-widgets/base",
            "top": null,
            "grid_column": null,
            "overflow_y": null,
            "overflow_x": null,
            "grid_auto_flow": null,
            "grid_area": null,
            "grid_template_columns": null,
            "flex": null,
            "_model_name": "LayoutModel",
            "justify_items": null,
            "grid_row": null,
            "max_height": null,
            "align_content": null,
            "visibility": null,
            "align_self": null,
            "height": null,
            "min_height": null,
            "padding": null,
            "grid_auto_rows": null,
            "grid_gap": null,
            "max_width": null,
            "order": null,
            "_view_module_version": "1.2.0",
            "grid_template_areas": null,
            "object_position": null,
            "object_fit": null,
            "grid_auto_columns": null,
            "margin": null,
            "display": null,
            "left": null
          }
        },
        "9379add937504b89bb5197ca7d952522": {
          "model_module": "@jupyter-widgets/controls",
          "model_name": "HBoxModel",
          "model_module_version": "1.5.0",
          "state": {
            "_view_name": "HBoxView",
            "_dom_classes": [],
            "_model_name": "HBoxModel",
            "_view_module": "@jupyter-widgets/controls",
            "_model_module_version": "1.5.0",
            "_view_count": null,
            "_view_module_version": "1.5.0",
            "box_style": "",
            "layout": "IPY_MODEL_e4f8e0fd8ec84937adfbefae8418bd07",
            "_model_module": "@jupyter-widgets/controls",
            "children": [
              "IPY_MODEL_22eb4fd198934546ba98eeceb1f7ad8e",
              "IPY_MODEL_5227df24c4034fa097c1256a838763d1",
              "IPY_MODEL_ee46c1286d574c7e82c623fe77733246"
            ]
          }
        },
        "e4f8e0fd8ec84937adfbefae8418bd07": {
          "model_module": "@jupyter-widgets/base",
          "model_name": "LayoutModel",
          "model_module_version": "1.2.0",
          "state": {
            "_view_name": "LayoutView",
            "grid_template_rows": null,
            "right": null,
            "justify_content": null,
            "_view_module": "@jupyter-widgets/base",
            "overflow": null,
            "_model_module_version": "1.2.0",
            "_view_count": null,
            "flex_flow": null,
            "width": null,
            "min_width": null,
            "border": null,
            "align_items": null,
            "bottom": null,
            "_model_module": "@jupyter-widgets/base",
            "top": null,
            "grid_column": null,
            "overflow_y": null,
            "overflow_x": null,
            "grid_auto_flow": null,
            "grid_area": null,
            "grid_template_columns": null,
            "flex": null,
            "_model_name": "LayoutModel",
            "justify_items": null,
            "grid_row": null,
            "max_height": null,
            "align_content": null,
            "visibility": null,
            "align_self": null,
            "height": null,
            "min_height": null,
            "padding": null,
            "grid_auto_rows": null,
            "grid_gap": null,
            "max_width": null,
            "order": null,
            "_view_module_version": "1.2.0",
            "grid_template_areas": null,
            "object_position": null,
            "object_fit": null,
            "grid_auto_columns": null,
            "margin": null,
            "display": null,
            "left": null
          }
        },
        "22eb4fd198934546ba98eeceb1f7ad8e": {
          "model_module": "@jupyter-widgets/controls",
          "model_name": "HTMLModel",
          "model_module_version": "1.5.0",
          "state": {
            "_view_name": "HTMLView",
            "style": "IPY_MODEL_1d1526ecfd584a8da74021d681a0ed18",
            "_dom_classes": [],
            "description": "",
            "_model_name": "HTMLModel",
            "placeholder": "​",
            "_view_module": "@jupyter-widgets/controls",
            "_model_module_version": "1.5.0",
            "value": "",
            "_view_count": null,
            "_view_module_version": "1.5.0",
            "description_tooltip": null,
            "_model_module": "@jupyter-widgets/controls",
            "layout": "IPY_MODEL_54c2c3e30e56478089a795a1d24ae9a7"
          }
        },
        "5227df24c4034fa097c1256a838763d1": {
          "model_module": "@jupyter-widgets/controls",
          "model_name": "FloatProgressModel",
          "model_module_version": "1.5.0",
          "state": {
            "_view_name": "ProgressView",
            "style": "IPY_MODEL_432005ee69ba4c4baf620d8ac1c1f937",
            "_dom_classes": [],
            "description": "",
            "_model_name": "FloatProgressModel",
            "bar_style": "success",
            "max": 1,
            "_view_module": "@jupyter-widgets/controls",
            "_model_module_version": "1.5.0",
            "value": 1,
            "_view_count": null,
            "_view_module_version": "1.5.0",
            "orientation": "horizontal",
            "min": 0,
            "description_tooltip": null,
            "_model_module": "@jupyter-widgets/controls",
            "layout": "IPY_MODEL_dc732feebc2d43658bbba093350b2eee"
          }
        },
        "ee46c1286d574c7e82c623fe77733246": {
          "model_module": "@jupyter-widgets/controls",
          "model_name": "HTMLModel",
          "model_module_version": "1.5.0",
          "state": {
            "_view_name": "HTMLView",
            "style": "IPY_MODEL_e030c1decaa340178142adc67ea694a9",
            "_dom_classes": [],
            "description": "",
            "_model_name": "HTMLModel",
            "placeholder": "​",
            "_view_module": "@jupyter-widgets/controls",
            "_model_module_version": "1.5.0",
            "value": " 10000/? [00:00&lt;00:00, 238430.59it/s]",
            "_view_count": null,
            "_view_module_version": "1.5.0",
            "description_tooltip": null,
            "_model_module": "@jupyter-widgets/controls",
            "layout": "IPY_MODEL_faa1c1c3982c4867a0ecd5b93dd45e5a"
          }
        },
        "1d1526ecfd584a8da74021d681a0ed18": {
          "model_module": "@jupyter-widgets/controls",
          "model_name": "DescriptionStyleModel",
          "model_module_version": "1.5.0",
          "state": {
            "_view_name": "StyleView",
            "_model_name": "DescriptionStyleModel",
            "description_width": "",
            "_view_module": "@jupyter-widgets/base",
            "_model_module_version": "1.5.0",
            "_view_count": null,
            "_view_module_version": "1.2.0",
            "_model_module": "@jupyter-widgets/controls"
          }
        },
        "54c2c3e30e56478089a795a1d24ae9a7": {
          "model_module": "@jupyter-widgets/base",
          "model_name": "LayoutModel",
          "model_module_version": "1.2.0",
          "state": {
            "_view_name": "LayoutView",
            "grid_template_rows": null,
            "right": null,
            "justify_content": null,
            "_view_module": "@jupyter-widgets/base",
            "overflow": null,
            "_model_module_version": "1.2.0",
            "_view_count": null,
            "flex_flow": null,
            "width": null,
            "min_width": null,
            "border": null,
            "align_items": null,
            "bottom": null,
            "_model_module": "@jupyter-widgets/base",
            "top": null,
            "grid_column": null,
            "overflow_y": null,
            "overflow_x": null,
            "grid_auto_flow": null,
            "grid_area": null,
            "grid_template_columns": null,
            "flex": null,
            "_model_name": "LayoutModel",
            "justify_items": null,
            "grid_row": null,
            "max_height": null,
            "align_content": null,
            "visibility": null,
            "align_self": null,
            "height": null,
            "min_height": null,
            "padding": null,
            "grid_auto_rows": null,
            "grid_gap": null,
            "max_width": null,
            "order": null,
            "_view_module_version": "1.2.0",
            "grid_template_areas": null,
            "object_position": null,
            "object_fit": null,
            "grid_auto_columns": null,
            "margin": null,
            "display": null,
            "left": null
          }
        },
        "432005ee69ba4c4baf620d8ac1c1f937": {
          "model_module": "@jupyter-widgets/controls",
          "model_name": "ProgressStyleModel",
          "model_module_version": "1.5.0",
          "state": {
            "_view_name": "StyleView",
            "_model_name": "ProgressStyleModel",
            "description_width": "",
            "_view_module": "@jupyter-widgets/base",
            "_model_module_version": "1.5.0",
            "_view_count": null,
            "_view_module_version": "1.2.0",
            "bar_color": null,
            "_model_module": "@jupyter-widgets/controls"
          }
        },
        "dc732feebc2d43658bbba093350b2eee": {
          "model_module": "@jupyter-widgets/base",
          "model_name": "LayoutModel",
          "model_module_version": "1.2.0",
          "state": {
            "_view_name": "LayoutView",
            "grid_template_rows": null,
            "right": null,
            "justify_content": null,
            "_view_module": "@jupyter-widgets/base",
            "overflow": null,
            "_model_module_version": "1.2.0",
            "_view_count": null,
            "flex_flow": null,
            "width": "20px",
            "min_width": null,
            "border": null,
            "align_items": null,
            "bottom": null,
            "_model_module": "@jupyter-widgets/base",
            "top": null,
            "grid_column": null,
            "overflow_y": null,
            "overflow_x": null,
            "grid_auto_flow": null,
            "grid_area": null,
            "grid_template_columns": null,
            "flex": null,
            "_model_name": "LayoutModel",
            "justify_items": null,
            "grid_row": null,
            "max_height": null,
            "align_content": null,
            "visibility": null,
            "align_self": null,
            "height": null,
            "min_height": null,
            "padding": null,
            "grid_auto_rows": null,
            "grid_gap": null,
            "max_width": null,
            "order": null,
            "_view_module_version": "1.2.0",
            "grid_template_areas": null,
            "object_position": null,
            "object_fit": null,
            "grid_auto_columns": null,
            "margin": null,
            "display": null,
            "left": null
          }
        },
        "e030c1decaa340178142adc67ea694a9": {
          "model_module": "@jupyter-widgets/controls",
          "model_name": "DescriptionStyleModel",
          "model_module_version": "1.5.0",
          "state": {
            "_view_name": "StyleView",
            "_model_name": "DescriptionStyleModel",
            "description_width": "",
            "_view_module": "@jupyter-widgets/base",
            "_model_module_version": "1.5.0",
            "_view_count": null,
            "_view_module_version": "1.2.0",
            "_model_module": "@jupyter-widgets/controls"
          }
        },
        "faa1c1c3982c4867a0ecd5b93dd45e5a": {
          "model_module": "@jupyter-widgets/base",
          "model_name": "LayoutModel",
          "model_module_version": "1.2.0",
          "state": {
            "_view_name": "LayoutView",
            "grid_template_rows": null,
            "right": null,
            "justify_content": null,
            "_view_module": "@jupyter-widgets/base",
            "overflow": null,
            "_model_module_version": "1.2.0",
            "_view_count": null,
            "flex_flow": null,
            "width": null,
            "min_width": null,
            "border": null,
            "align_items": null,
            "bottom": null,
            "_model_module": "@jupyter-widgets/base",
            "top": null,
            "grid_column": null,
            "overflow_y": null,
            "overflow_x": null,
            "grid_auto_flow": null,
            "grid_area": null,
            "grid_template_columns": null,
            "flex": null,
            "_model_name": "LayoutModel",
            "justify_items": null,
            "grid_row": null,
            "max_height": null,
            "align_content": null,
            "visibility": null,
            "align_self": null,
            "height": null,
            "min_height": null,
            "padding": null,
            "grid_auto_rows": null,
            "grid_gap": null,
            "max_width": null,
            "order": null,
            "_view_module_version": "1.2.0",
            "grid_template_areas": null,
            "object_position": null,
            "object_fit": null,
            "grid_auto_columns": null,
            "margin": null,
            "display": null,
            "left": null
          }
        },
        "9b7a0a41b0094f31b0557fb060e2d5df": {
          "model_module": "@jupyter-widgets/controls",
          "model_name": "HBoxModel",
          "model_module_version": "1.5.0",
          "state": {
            "_view_name": "HBoxView",
            "_dom_classes": [],
            "_model_name": "HBoxModel",
            "_view_module": "@jupyter-widgets/controls",
            "_model_module_version": "1.5.0",
            "_view_count": null,
            "_view_module_version": "1.5.0",
            "box_style": "",
            "layout": "IPY_MODEL_58bd87dc8c574f45862d7d2c0be3ce8a",
            "_model_module": "@jupyter-widgets/controls",
            "children": [
              "IPY_MODEL_0a5cbe1299e44efb81136ed0581f9c7d",
              "IPY_MODEL_ed9697dfad7c44aba29d18f4f54e2941",
              "IPY_MODEL_16aa84ea93124e0a87182f9ed4501ac8"
            ]
          }
        },
        "58bd87dc8c574f45862d7d2c0be3ce8a": {
          "model_module": "@jupyter-widgets/base",
          "model_name": "LayoutModel",
          "model_module_version": "1.2.0",
          "state": {
            "_view_name": "LayoutView",
            "grid_template_rows": null,
            "right": null,
            "justify_content": null,
            "_view_module": "@jupyter-widgets/base",
            "overflow": null,
            "_model_module_version": "1.2.0",
            "_view_count": null,
            "flex_flow": null,
            "width": null,
            "min_width": null,
            "border": null,
            "align_items": null,
            "bottom": null,
            "_model_module": "@jupyter-widgets/base",
            "top": null,
            "grid_column": null,
            "overflow_y": null,
            "overflow_x": null,
            "grid_auto_flow": null,
            "grid_area": null,
            "grid_template_columns": null,
            "flex": null,
            "_model_name": "LayoutModel",
            "justify_items": null,
            "grid_row": null,
            "max_height": null,
            "align_content": null,
            "visibility": null,
            "align_self": null,
            "height": null,
            "min_height": null,
            "padding": null,
            "grid_auto_rows": null,
            "grid_gap": null,
            "max_width": null,
            "order": null,
            "_view_module_version": "1.2.0",
            "grid_template_areas": null,
            "object_position": null,
            "object_fit": null,
            "grid_auto_columns": null,
            "margin": null,
            "display": null,
            "left": null
          }
        },
        "0a5cbe1299e44efb81136ed0581f9c7d": {
          "model_module": "@jupyter-widgets/controls",
          "model_name": "HTMLModel",
          "model_module_version": "1.5.0",
          "state": {
            "_view_name": "HTMLView",
            "style": "IPY_MODEL_8a2542ab316740068bf1aa4f4f51d005",
            "_dom_classes": [],
            "description": "",
            "_model_name": "HTMLModel",
            "placeholder": "​",
            "_view_module": "@jupyter-widgets/controls",
            "_model_module_version": "1.5.0",
            "value": "",
            "_view_count": null,
            "_view_module_version": "1.5.0",
            "description_tooltip": null,
            "_model_module": "@jupyter-widgets/controls",
            "layout": "IPY_MODEL_84a79ab5a3834e0e83d1ada002ce2439"
          }
        },
        "ed9697dfad7c44aba29d18f4f54e2941": {
          "model_module": "@jupyter-widgets/controls",
          "model_name": "FloatProgressModel",
          "model_module_version": "1.5.0",
          "state": {
            "_view_name": "ProgressView",
            "style": "IPY_MODEL_cab549ccee414acc9cdd4fde512d93f9",
            "_dom_classes": [],
            "description": "",
            "_model_name": "FloatProgressModel",
            "bar_style": "success",
            "max": 1,
            "_view_module": "@jupyter-widgets/controls",
            "_model_module_version": "1.5.0",
            "value": 1,
            "_view_count": null,
            "_view_module_version": "1.5.0",
            "orientation": "horizontal",
            "min": 0,
            "description_tooltip": null,
            "_model_module": "@jupyter-widgets/controls",
            "layout": "IPY_MODEL_69b1ec9c6c654f5cb7254d29efd6fca2"
          }
        },
        "16aa84ea93124e0a87182f9ed4501ac8": {
          "model_module": "@jupyter-widgets/controls",
          "model_name": "HTMLModel",
          "model_module_version": "1.5.0",
          "state": {
            "_view_name": "HTMLView",
            "style": "IPY_MODEL_136d61352d2d47b798b1a679b20b15f9",
            "_dom_classes": [],
            "description": "",
            "_model_name": "HTMLModel",
            "placeholder": "​",
            "_view_module": "@jupyter-widgets/controls",
            "_model_module_version": "1.5.0",
            "value": " 10000/? [00:01&lt;00:00, 5081.14it/s]",
            "_view_count": null,
            "_view_module_version": "1.5.0",
            "description_tooltip": null,
            "_model_module": "@jupyter-widgets/controls",
            "layout": "IPY_MODEL_e862db13823c4ecabdfa264146172e47"
          }
        },
        "8a2542ab316740068bf1aa4f4f51d005": {
          "model_module": "@jupyter-widgets/controls",
          "model_name": "DescriptionStyleModel",
          "model_module_version": "1.5.0",
          "state": {
            "_view_name": "StyleView",
            "_model_name": "DescriptionStyleModel",
            "description_width": "",
            "_view_module": "@jupyter-widgets/base",
            "_model_module_version": "1.5.0",
            "_view_count": null,
            "_view_module_version": "1.2.0",
            "_model_module": "@jupyter-widgets/controls"
          }
        },
        "84a79ab5a3834e0e83d1ada002ce2439": {
          "model_module": "@jupyter-widgets/base",
          "model_name": "LayoutModel",
          "model_module_version": "1.2.0",
          "state": {
            "_view_name": "LayoutView",
            "grid_template_rows": null,
            "right": null,
            "justify_content": null,
            "_view_module": "@jupyter-widgets/base",
            "overflow": null,
            "_model_module_version": "1.2.0",
            "_view_count": null,
            "flex_flow": null,
            "width": null,
            "min_width": null,
            "border": null,
            "align_items": null,
            "bottom": null,
            "_model_module": "@jupyter-widgets/base",
            "top": null,
            "grid_column": null,
            "overflow_y": null,
            "overflow_x": null,
            "grid_auto_flow": null,
            "grid_area": null,
            "grid_template_columns": null,
            "flex": null,
            "_model_name": "LayoutModel",
            "justify_items": null,
            "grid_row": null,
            "max_height": null,
            "align_content": null,
            "visibility": null,
            "align_self": null,
            "height": null,
            "min_height": null,
            "padding": null,
            "grid_auto_rows": null,
            "grid_gap": null,
            "max_width": null,
            "order": null,
            "_view_module_version": "1.2.0",
            "grid_template_areas": null,
            "object_position": null,
            "object_fit": null,
            "grid_auto_columns": null,
            "margin": null,
            "display": null,
            "left": null
          }
        },
        "cab549ccee414acc9cdd4fde512d93f9": {
          "model_module": "@jupyter-widgets/controls",
          "model_name": "ProgressStyleModel",
          "model_module_version": "1.5.0",
          "state": {
            "_view_name": "StyleView",
            "_model_name": "ProgressStyleModel",
            "description_width": "",
            "_view_module": "@jupyter-widgets/base",
            "_model_module_version": "1.5.0",
            "_view_count": null,
            "_view_module_version": "1.2.0",
            "bar_color": null,
            "_model_module": "@jupyter-widgets/controls"
          }
        },
        "69b1ec9c6c654f5cb7254d29efd6fca2": {
          "model_module": "@jupyter-widgets/base",
          "model_name": "LayoutModel",
          "model_module_version": "1.2.0",
          "state": {
            "_view_name": "LayoutView",
            "grid_template_rows": null,
            "right": null,
            "justify_content": null,
            "_view_module": "@jupyter-widgets/base",
            "overflow": null,
            "_model_module_version": "1.2.0",
            "_view_count": null,
            "flex_flow": null,
            "width": "20px",
            "min_width": null,
            "border": null,
            "align_items": null,
            "bottom": null,
            "_model_module": "@jupyter-widgets/base",
            "top": null,
            "grid_column": null,
            "overflow_y": null,
            "overflow_x": null,
            "grid_auto_flow": null,
            "grid_area": null,
            "grid_template_columns": null,
            "flex": null,
            "_model_name": "LayoutModel",
            "justify_items": null,
            "grid_row": null,
            "max_height": null,
            "align_content": null,
            "visibility": null,
            "align_self": null,
            "height": null,
            "min_height": null,
            "padding": null,
            "grid_auto_rows": null,
            "grid_gap": null,
            "max_width": null,
            "order": null,
            "_view_module_version": "1.2.0",
            "grid_template_areas": null,
            "object_position": null,
            "object_fit": null,
            "grid_auto_columns": null,
            "margin": null,
            "display": null,
            "left": null
          }
        },
        "136d61352d2d47b798b1a679b20b15f9": {
          "model_module": "@jupyter-widgets/controls",
          "model_name": "DescriptionStyleModel",
          "model_module_version": "1.5.0",
          "state": {
            "_view_name": "StyleView",
            "_model_name": "DescriptionStyleModel",
            "description_width": "",
            "_view_module": "@jupyter-widgets/base",
            "_model_module_version": "1.5.0",
            "_view_count": null,
            "_view_module_version": "1.2.0",
            "_model_module": "@jupyter-widgets/controls"
          }
        },
        "e862db13823c4ecabdfa264146172e47": {
          "model_module": "@jupyter-widgets/base",
          "model_name": "LayoutModel",
          "model_module_version": "1.2.0",
          "state": {
            "_view_name": "LayoutView",
            "grid_template_rows": null,
            "right": null,
            "justify_content": null,
            "_view_module": "@jupyter-widgets/base",
            "overflow": null,
            "_model_module_version": "1.2.0",
            "_view_count": null,
            "flex_flow": null,
            "width": null,
            "min_width": null,
            "border": null,
            "align_items": null,
            "bottom": null,
            "_model_module": "@jupyter-widgets/base",
            "top": null,
            "grid_column": null,
            "overflow_y": null,
            "overflow_x": null,
            "grid_auto_flow": null,
            "grid_area": null,
            "grid_template_columns": null,
            "flex": null,
            "_model_name": "LayoutModel",
            "justify_items": null,
            "grid_row": null,
            "max_height": null,
            "align_content": null,
            "visibility": null,
            "align_self": null,
            "height": null,
            "min_height": null,
            "padding": null,
            "grid_auto_rows": null,
            "grid_gap": null,
            "max_width": null,
            "order": null,
            "_view_module_version": "1.2.0",
            "grid_template_areas": null,
            "object_position": null,
            "object_fit": null,
            "grid_auto_columns": null,
            "margin": null,
            "display": null,
            "left": null
          }
        },
        "3566cb0ce65f4743a02fcc8d82b9abf7": {
          "model_module": "@jupyter-widgets/controls",
          "model_name": "HBoxModel",
          "model_module_version": "1.5.0",
          "state": {
            "_view_name": "HBoxView",
            "_dom_classes": [],
            "_model_name": "HBoxModel",
            "_view_module": "@jupyter-widgets/controls",
            "_model_module_version": "1.5.0",
            "_view_count": null,
            "_view_module_version": "1.5.0",
            "box_style": "",
            "layout": "IPY_MODEL_20c2eaea57fd40d4aa0333dd3747224c",
            "_model_module": "@jupyter-widgets/controls",
            "children": [
              "IPY_MODEL_eecae692434d4e59ad55ea93f2ecfd52",
              "IPY_MODEL_c6bc0275980a421280cf875f78e45fa8",
              "IPY_MODEL_4fd2e5adb0fc4336aa52e047a012d504"
            ]
          }
        },
        "20c2eaea57fd40d4aa0333dd3747224c": {
          "model_module": "@jupyter-widgets/base",
          "model_name": "LayoutModel",
          "model_module_version": "1.2.0",
          "state": {
            "_view_name": "LayoutView",
            "grid_template_rows": null,
            "right": null,
            "justify_content": null,
            "_view_module": "@jupyter-widgets/base",
            "overflow": null,
            "_model_module_version": "1.2.0",
            "_view_count": null,
            "flex_flow": null,
            "width": null,
            "min_width": null,
            "border": null,
            "align_items": null,
            "bottom": null,
            "_model_module": "@jupyter-widgets/base",
            "top": null,
            "grid_column": null,
            "overflow_y": null,
            "overflow_x": null,
            "grid_auto_flow": null,
            "grid_area": null,
            "grid_template_columns": null,
            "flex": null,
            "_model_name": "LayoutModel",
            "justify_items": null,
            "grid_row": null,
            "max_height": null,
            "align_content": null,
            "visibility": null,
            "align_self": null,
            "height": null,
            "min_height": null,
            "padding": null,
            "grid_auto_rows": null,
            "grid_gap": null,
            "max_width": null,
            "order": null,
            "_view_module_version": "1.2.0",
            "grid_template_areas": null,
            "object_position": null,
            "object_fit": null,
            "grid_auto_columns": null,
            "margin": null,
            "display": null,
            "left": null
          }
        },
        "eecae692434d4e59ad55ea93f2ecfd52": {
          "model_module": "@jupyter-widgets/controls",
          "model_name": "HTMLModel",
          "model_module_version": "1.5.0",
          "state": {
            "_view_name": "HTMLView",
            "style": "IPY_MODEL_491d34476f4f477c8b1da34642b575ec",
            "_dom_classes": [],
            "description": "",
            "_model_name": "HTMLModel",
            "placeholder": "​",
            "_view_module": "@jupyter-widgets/controls",
            "_model_module_version": "1.5.0",
            "value": "",
            "_view_count": null,
            "_view_module_version": "1.5.0",
            "description_tooltip": null,
            "_model_module": "@jupyter-widgets/controls",
            "layout": "IPY_MODEL_81f52444dcbd4c55bbcdf91edf20d243"
          }
        },
        "c6bc0275980a421280cf875f78e45fa8": {
          "model_module": "@jupyter-widgets/controls",
          "model_name": "FloatProgressModel",
          "model_module_version": "1.5.0",
          "state": {
            "_view_name": "ProgressView",
            "style": "IPY_MODEL_e8c3264be6344c83af2c14ff74b28f8e",
            "_dom_classes": [],
            "description": "",
            "_model_name": "FloatProgressModel",
            "bar_style": "success",
            "max": 1,
            "_view_module": "@jupyter-widgets/controls",
            "_model_module_version": "1.5.0",
            "value": 1,
            "_view_count": null,
            "_view_module_version": "1.5.0",
            "orientation": "horizontal",
            "min": 0,
            "description_tooltip": null,
            "_model_module": "@jupyter-widgets/controls",
            "layout": "IPY_MODEL_dcef3e3ed50c4bacaf9dfda938f5dcaf"
          }
        },
        "4fd2e5adb0fc4336aa52e047a012d504": {
          "model_module": "@jupyter-widgets/controls",
          "model_name": "HTMLModel",
          "model_module_version": "1.5.0",
          "state": {
            "_view_name": "HTMLView",
            "style": "IPY_MODEL_8fed0bd859cb40edbaffed5424e670a6",
            "_dom_classes": [],
            "description": "",
            "_model_name": "HTMLModel",
            "placeholder": "​",
            "_view_module": "@jupyter-widgets/controls",
            "_model_module_version": "1.5.0",
            "value": " 10000/? [00:01&lt;00:00, 6985.72it/s]",
            "_view_count": null,
            "_view_module_version": "1.5.0",
            "description_tooltip": null,
            "_model_module": "@jupyter-widgets/controls",
            "layout": "IPY_MODEL_24b4ed5f11f84faf843ad40e392e8812"
          }
        },
        "491d34476f4f477c8b1da34642b575ec": {
          "model_module": "@jupyter-widgets/controls",
          "model_name": "DescriptionStyleModel",
          "model_module_version": "1.5.0",
          "state": {
            "_view_name": "StyleView",
            "_model_name": "DescriptionStyleModel",
            "description_width": "",
            "_view_module": "@jupyter-widgets/base",
            "_model_module_version": "1.5.0",
            "_view_count": null,
            "_view_module_version": "1.2.0",
            "_model_module": "@jupyter-widgets/controls"
          }
        },
        "81f52444dcbd4c55bbcdf91edf20d243": {
          "model_module": "@jupyter-widgets/base",
          "model_name": "LayoutModel",
          "model_module_version": "1.2.0",
          "state": {
            "_view_name": "LayoutView",
            "grid_template_rows": null,
            "right": null,
            "justify_content": null,
            "_view_module": "@jupyter-widgets/base",
            "overflow": null,
            "_model_module_version": "1.2.0",
            "_view_count": null,
            "flex_flow": null,
            "width": null,
            "min_width": null,
            "border": null,
            "align_items": null,
            "bottom": null,
            "_model_module": "@jupyter-widgets/base",
            "top": null,
            "grid_column": null,
            "overflow_y": null,
            "overflow_x": null,
            "grid_auto_flow": null,
            "grid_area": null,
            "grid_template_columns": null,
            "flex": null,
            "_model_name": "LayoutModel",
            "justify_items": null,
            "grid_row": null,
            "max_height": null,
            "align_content": null,
            "visibility": null,
            "align_self": null,
            "height": null,
            "min_height": null,
            "padding": null,
            "grid_auto_rows": null,
            "grid_gap": null,
            "max_width": null,
            "order": null,
            "_view_module_version": "1.2.0",
            "grid_template_areas": null,
            "object_position": null,
            "object_fit": null,
            "grid_auto_columns": null,
            "margin": null,
            "display": null,
            "left": null
          }
        },
        "e8c3264be6344c83af2c14ff74b28f8e": {
          "model_module": "@jupyter-widgets/controls",
          "model_name": "ProgressStyleModel",
          "model_module_version": "1.5.0",
          "state": {
            "_view_name": "StyleView",
            "_model_name": "ProgressStyleModel",
            "description_width": "",
            "_view_module": "@jupyter-widgets/base",
            "_model_module_version": "1.5.0",
            "_view_count": null,
            "_view_module_version": "1.2.0",
            "bar_color": null,
            "_model_module": "@jupyter-widgets/controls"
          }
        },
        "dcef3e3ed50c4bacaf9dfda938f5dcaf": {
          "model_module": "@jupyter-widgets/base",
          "model_name": "LayoutModel",
          "model_module_version": "1.2.0",
          "state": {
            "_view_name": "LayoutView",
            "grid_template_rows": null,
            "right": null,
            "justify_content": null,
            "_view_module": "@jupyter-widgets/base",
            "overflow": null,
            "_model_module_version": "1.2.0",
            "_view_count": null,
            "flex_flow": null,
            "width": "20px",
            "min_width": null,
            "border": null,
            "align_items": null,
            "bottom": null,
            "_model_module": "@jupyter-widgets/base",
            "top": null,
            "grid_column": null,
            "overflow_y": null,
            "overflow_x": null,
            "grid_auto_flow": null,
            "grid_area": null,
            "grid_template_columns": null,
            "flex": null,
            "_model_name": "LayoutModel",
            "justify_items": null,
            "grid_row": null,
            "max_height": null,
            "align_content": null,
            "visibility": null,
            "align_self": null,
            "height": null,
            "min_height": null,
            "padding": null,
            "grid_auto_rows": null,
            "grid_gap": null,
            "max_width": null,
            "order": null,
            "_view_module_version": "1.2.0",
            "grid_template_areas": null,
            "object_position": null,
            "object_fit": null,
            "grid_auto_columns": null,
            "margin": null,
            "display": null,
            "left": null
          }
        },
        "8fed0bd859cb40edbaffed5424e670a6": {
          "model_module": "@jupyter-widgets/controls",
          "model_name": "DescriptionStyleModel",
          "model_module_version": "1.5.0",
          "state": {
            "_view_name": "StyleView",
            "_model_name": "DescriptionStyleModel",
            "description_width": "",
            "_view_module": "@jupyter-widgets/base",
            "_model_module_version": "1.5.0",
            "_view_count": null,
            "_view_module_version": "1.2.0",
            "_model_module": "@jupyter-widgets/controls"
          }
        },
        "24b4ed5f11f84faf843ad40e392e8812": {
          "model_module": "@jupyter-widgets/base",
          "model_name": "LayoutModel",
          "model_module_version": "1.2.0",
          "state": {
            "_view_name": "LayoutView",
            "grid_template_rows": null,
            "right": null,
            "justify_content": null,
            "_view_module": "@jupyter-widgets/base",
            "overflow": null,
            "_model_module_version": "1.2.0",
            "_view_count": null,
            "flex_flow": null,
            "width": null,
            "min_width": null,
            "border": null,
            "align_items": null,
            "bottom": null,
            "_model_module": "@jupyter-widgets/base",
            "top": null,
            "grid_column": null,
            "overflow_y": null,
            "overflow_x": null,
            "grid_auto_flow": null,
            "grid_area": null,
            "grid_template_columns": null,
            "flex": null,
            "_model_name": "LayoutModel",
            "justify_items": null,
            "grid_row": null,
            "max_height": null,
            "align_content": null,
            "visibility": null,
            "align_self": null,
            "height": null,
            "min_height": null,
            "padding": null,
            "grid_auto_rows": null,
            "grid_gap": null,
            "max_width": null,
            "order": null,
            "_view_module_version": "1.2.0",
            "grid_template_areas": null,
            "object_position": null,
            "object_fit": null,
            "grid_auto_columns": null,
            "margin": null,
            "display": null,
            "left": null
          }
        },
        "d09b849f99b6473680af626d36a4a4d1": {
          "model_module": "@jupyter-widgets/controls",
          "model_name": "HBoxModel",
          "model_module_version": "1.5.0",
          "state": {
            "_view_name": "HBoxView",
            "_dom_classes": [],
            "_model_name": "HBoxModel",
            "_view_module": "@jupyter-widgets/controls",
            "_model_module_version": "1.5.0",
            "_view_count": null,
            "_view_module_version": "1.5.0",
            "box_style": "",
            "layout": "IPY_MODEL_cafa7af0b6624acab200d1d681f4f7f7",
            "_model_module": "@jupyter-widgets/controls",
            "children": [
              "IPY_MODEL_b14cc51f9fc44dc4b18abed4b852ef7d",
              "IPY_MODEL_d36125179bd2485cb3abca17139bf2e3",
              "IPY_MODEL_05123ed0d0734ac29d136861197ecc88"
            ]
          }
        },
        "cafa7af0b6624acab200d1d681f4f7f7": {
          "model_module": "@jupyter-widgets/base",
          "model_name": "LayoutModel",
          "model_module_version": "1.2.0",
          "state": {
            "_view_name": "LayoutView",
            "grid_template_rows": null,
            "right": null,
            "justify_content": null,
            "_view_module": "@jupyter-widgets/base",
            "overflow": null,
            "_model_module_version": "1.2.0",
            "_view_count": null,
            "flex_flow": null,
            "width": null,
            "min_width": null,
            "border": null,
            "align_items": null,
            "bottom": null,
            "_model_module": "@jupyter-widgets/base",
            "top": null,
            "grid_column": null,
            "overflow_y": null,
            "overflow_x": null,
            "grid_auto_flow": null,
            "grid_area": null,
            "grid_template_columns": null,
            "flex": null,
            "_model_name": "LayoutModel",
            "justify_items": null,
            "grid_row": null,
            "max_height": null,
            "align_content": null,
            "visibility": null,
            "align_self": null,
            "height": null,
            "min_height": null,
            "padding": null,
            "grid_auto_rows": null,
            "grid_gap": null,
            "max_width": null,
            "order": null,
            "_view_module_version": "1.2.0",
            "grid_template_areas": null,
            "object_position": null,
            "object_fit": null,
            "grid_auto_columns": null,
            "margin": null,
            "display": null,
            "left": null
          }
        },
        "b14cc51f9fc44dc4b18abed4b852ef7d": {
          "model_module": "@jupyter-widgets/controls",
          "model_name": "HTMLModel",
          "model_module_version": "1.5.0",
          "state": {
            "_view_name": "HTMLView",
            "style": "IPY_MODEL_8f5b2e8fb32a4a76bbfc646c8e343798",
            "_dom_classes": [],
            "description": "",
            "_model_name": "HTMLModel",
            "placeholder": "​",
            "_view_module": "@jupyter-widgets/controls",
            "_model_module_version": "1.5.0",
            "value": "",
            "_view_count": null,
            "_view_module_version": "1.5.0",
            "description_tooltip": null,
            "_model_module": "@jupyter-widgets/controls",
            "layout": "IPY_MODEL_de7e948a633944648db12ec5018125d4"
          }
        },
        "d36125179bd2485cb3abca17139bf2e3": {
          "model_module": "@jupyter-widgets/controls",
          "model_name": "FloatProgressModel",
          "model_module_version": "1.5.0",
          "state": {
            "_view_name": "ProgressView",
            "style": "IPY_MODEL_98927167715b4bf0851847fd4c0125b7",
            "_dom_classes": [],
            "description": "",
            "_model_name": "FloatProgressModel",
            "bar_style": "success",
            "max": 1,
            "_view_module": "@jupyter-widgets/controls",
            "_model_module_version": "1.5.0",
            "value": 1,
            "_view_count": null,
            "_view_module_version": "1.5.0",
            "orientation": "horizontal",
            "min": 0,
            "description_tooltip": null,
            "_model_module": "@jupyter-widgets/controls",
            "layout": "IPY_MODEL_0243ad59ac4e4b1682656574dbc177bc"
          }
        },
        "05123ed0d0734ac29d136861197ecc88": {
          "model_module": "@jupyter-widgets/controls",
          "model_name": "HTMLModel",
          "model_module_version": "1.5.0",
          "state": {
            "_view_name": "HTMLView",
            "style": "IPY_MODEL_6b95633794de400eba34adb8c0fc2224",
            "_dom_classes": [],
            "description": "",
            "_model_name": "HTMLModel",
            "placeholder": "​",
            "_view_module": "@jupyter-widgets/controls",
            "_model_module_version": "1.5.0",
            "value": " 60000/? [00:29&lt;00:00, 1993.94it/s]",
            "_view_count": null,
            "_view_module_version": "1.5.0",
            "description_tooltip": null,
            "_model_module": "@jupyter-widgets/controls",
            "layout": "IPY_MODEL_416013aec04c4a6695a2eaae562c603b"
          }
        },
        "8f5b2e8fb32a4a76bbfc646c8e343798": {
          "model_module": "@jupyter-widgets/controls",
          "model_name": "DescriptionStyleModel",
          "model_module_version": "1.5.0",
          "state": {
            "_view_name": "StyleView",
            "_model_name": "DescriptionStyleModel",
            "description_width": "",
            "_view_module": "@jupyter-widgets/base",
            "_model_module_version": "1.5.0",
            "_view_count": null,
            "_view_module_version": "1.2.0",
            "_model_module": "@jupyter-widgets/controls"
          }
        },
        "de7e948a633944648db12ec5018125d4": {
          "model_module": "@jupyter-widgets/base",
          "model_name": "LayoutModel",
          "model_module_version": "1.2.0",
          "state": {
            "_view_name": "LayoutView",
            "grid_template_rows": null,
            "right": null,
            "justify_content": null,
            "_view_module": "@jupyter-widgets/base",
            "overflow": null,
            "_model_module_version": "1.2.0",
            "_view_count": null,
            "flex_flow": null,
            "width": null,
            "min_width": null,
            "border": null,
            "align_items": null,
            "bottom": null,
            "_model_module": "@jupyter-widgets/base",
            "top": null,
            "grid_column": null,
            "overflow_y": null,
            "overflow_x": null,
            "grid_auto_flow": null,
            "grid_area": null,
            "grid_template_columns": null,
            "flex": null,
            "_model_name": "LayoutModel",
            "justify_items": null,
            "grid_row": null,
            "max_height": null,
            "align_content": null,
            "visibility": null,
            "align_self": null,
            "height": null,
            "min_height": null,
            "padding": null,
            "grid_auto_rows": null,
            "grid_gap": null,
            "max_width": null,
            "order": null,
            "_view_module_version": "1.2.0",
            "grid_template_areas": null,
            "object_position": null,
            "object_fit": null,
            "grid_auto_columns": null,
            "margin": null,
            "display": null,
            "left": null
          }
        },
        "98927167715b4bf0851847fd4c0125b7": {
          "model_module": "@jupyter-widgets/controls",
          "model_name": "ProgressStyleModel",
          "model_module_version": "1.5.0",
          "state": {
            "_view_name": "StyleView",
            "_model_name": "ProgressStyleModel",
            "description_width": "",
            "_view_module": "@jupyter-widgets/base",
            "_model_module_version": "1.5.0",
            "_view_count": null,
            "_view_module_version": "1.2.0",
            "bar_color": null,
            "_model_module": "@jupyter-widgets/controls"
          }
        },
        "0243ad59ac4e4b1682656574dbc177bc": {
          "model_module": "@jupyter-widgets/base",
          "model_name": "LayoutModel",
          "model_module_version": "1.2.0",
          "state": {
            "_view_name": "LayoutView",
            "grid_template_rows": null,
            "right": null,
            "justify_content": null,
            "_view_module": "@jupyter-widgets/base",
            "overflow": null,
            "_model_module_version": "1.2.0",
            "_view_count": null,
            "flex_flow": null,
            "width": "20px",
            "min_width": null,
            "border": null,
            "align_items": null,
            "bottom": null,
            "_model_module": "@jupyter-widgets/base",
            "top": null,
            "grid_column": null,
            "overflow_y": null,
            "overflow_x": null,
            "grid_auto_flow": null,
            "grid_area": null,
            "grid_template_columns": null,
            "flex": null,
            "_model_name": "LayoutModel",
            "justify_items": null,
            "grid_row": null,
            "max_height": null,
            "align_content": null,
            "visibility": null,
            "align_self": null,
            "height": null,
            "min_height": null,
            "padding": null,
            "grid_auto_rows": null,
            "grid_gap": null,
            "max_width": null,
            "order": null,
            "_view_module_version": "1.2.0",
            "grid_template_areas": null,
            "object_position": null,
            "object_fit": null,
            "grid_auto_columns": null,
            "margin": null,
            "display": null,
            "left": null
          }
        },
        "6b95633794de400eba34adb8c0fc2224": {
          "model_module": "@jupyter-widgets/controls",
          "model_name": "DescriptionStyleModel",
          "model_module_version": "1.5.0",
          "state": {
            "_view_name": "StyleView",
            "_model_name": "DescriptionStyleModel",
            "description_width": "",
            "_view_module": "@jupyter-widgets/base",
            "_model_module_version": "1.5.0",
            "_view_count": null,
            "_view_module_version": "1.2.0",
            "_model_module": "@jupyter-widgets/controls"
          }
        },
        "416013aec04c4a6695a2eaae562c603b": {
          "model_module": "@jupyter-widgets/base",
          "model_name": "LayoutModel",
          "model_module_version": "1.2.0",
          "state": {
            "_view_name": "LayoutView",
            "grid_template_rows": null,
            "right": null,
            "justify_content": null,
            "_view_module": "@jupyter-widgets/base",
            "overflow": null,
            "_model_module_version": "1.2.0",
            "_view_count": null,
            "flex_flow": null,
            "width": null,
            "min_width": null,
            "border": null,
            "align_items": null,
            "bottom": null,
            "_model_module": "@jupyter-widgets/base",
            "top": null,
            "grid_column": null,
            "overflow_y": null,
            "overflow_x": null,
            "grid_auto_flow": null,
            "grid_area": null,
            "grid_template_columns": null,
            "flex": null,
            "_model_name": "LayoutModel",
            "justify_items": null,
            "grid_row": null,
            "max_height": null,
            "align_content": null,
            "visibility": null,
            "align_self": null,
            "height": null,
            "min_height": null,
            "padding": null,
            "grid_auto_rows": null,
            "grid_gap": null,
            "max_width": null,
            "order": null,
            "_view_module_version": "1.2.0",
            "grid_template_areas": null,
            "object_position": null,
            "object_fit": null,
            "grid_auto_columns": null,
            "margin": null,
            "display": null,
            "left": null
          }
        }
      }
    }
  },
  "cells": [
    {
      "cell_type": "code",
      "metadata": {
        "id": "lqATO2m6gvsM"
      },
      "source": [
        "%load_ext autoreload\n",
        "%autoreload 2"
      ],
      "execution_count": 2,
      "outputs": []
    },
    {
      "cell_type": "code",
      "metadata": {
        "colab": {
          "base_uri": "https://localhost:8080/"
        },
        "id": "2GHZQ3Ofg2ln",
        "outputId": "e1dbc201-fded-4a38-bcc3-6d0a6ca7ee3c"
      },
      "source": [
        "from google.colab import drive\n",
        "drive.mount('/content/drive')"
      ],
      "execution_count": 3,
      "outputs": [
        {
          "output_type": "stream",
          "name": "stdout",
          "text": [
            "Mounted at /content/drive\n"
          ]
        }
      ]
    },
    {
      "cell_type": "code",
      "metadata": {
        "colab": {
          "base_uri": "https://localhost:8080/"
        },
        "id": "VlHUXG9qhfJw",
        "outputId": "6d72f7f6-b113-434e-eae4-7a97744ee160"
      },
      "source": [
        "cd /content/drive/MyDrive/MMP/Projects/KNN"
      ],
      "execution_count": 4,
      "outputs": [
        {
          "output_type": "stream",
          "name": "stdout",
          "text": [
            "/content/drive/MyDrive/MMP/Projects/KNN\n"
          ]
        }
      ]
    },
    {
      "cell_type": "code",
      "metadata": {
        "id": "L-jy_I3FgvsQ"
      },
      "source": [
        "import cross_validation\n",
        "import distances\n",
        "import nearest_neighbors"
      ],
      "execution_count": 5,
      "outputs": []
    },
    {
      "cell_type": "code",
      "metadata": {
        "id": "dTj9Gs8KgvsR"
      },
      "source": [
        "import numpy as np\n",
        "import sklearn.datasets\n",
        "from sklearn.datasets import make_blobs\n",
        "from sklearn.model_selection import train_test_split\n",
        "from sklearn.metrics import accuracy_score, confusion_matrix, multilabel_confusion_matrix\n",
        "import matplotlib.pyplot as plt\n",
        "from matplotlib import cm\n",
        "import seaborn as sns"
      ],
      "execution_count": 6,
      "outputs": []
    },
    {
      "cell_type": "code",
      "metadata": {
        "colab": {
          "base_uri": "https://localhost:8080/"
        },
        "id": "StdWpbzjgvsS",
        "outputId": "31adb2bd-f85a-4b32-afdf-a17a7675d673"
      },
      "source": [
        "import pandas as pd\n",
        "mnist = pd.read_csv(\"/content/drive/MyDrive/MMP/Datasets/mnist_784.csv\")\n",
        "mnist.shape"
      ],
      "execution_count": 7,
      "outputs": [
        {
          "output_type": "execute_result",
          "data": {
            "text/plain": [
              "(70000, 785)"
            ]
          },
          "metadata": {},
          "execution_count": 7
        }
      ]
    },
    {
      "cell_type": "code",
      "metadata": {
        "colab": {
          "base_uri": "https://localhost:8080/"
        },
        "id": "ZRGb_r_VgvsS",
        "outputId": "ad1b8362-9463-4c52-bdf1-9d7f2a73c921"
      },
      "source": [
        "target = np.array(mnist['class'].astype(int)[:60000])\n",
        "target_test = np.array(mnist['class'].astype(int)[60000:])\n",
        "mnist = mnist.drop(['class'], axis='columns')\n",
        "data = mnist.iloc[:60000, :].to_numpy()\n",
        "data_test = mnist.iloc[60000:, :].to_numpy()\n",
        "print('train shape: ', data.shape, target.shape)\n",
        "print('test shape: ', data_test.shape, target_test.shape)\n",
        "del mnist"
      ],
      "execution_count": 8,
      "outputs": [
        {
          "output_type": "stream",
          "name": "stdout",
          "text": [
            "train shape:  (60000, 784) (60000,)\n",
            "test shape:  (10000, 784) (10000,)\n"
          ]
        }
      ]
    },
    {
      "cell_type": "markdown",
      "metadata": {
        "id": "ZpcyeU76gvsS"
      },
      "source": [
        "# Task 1"
      ]
    },
    {
      "cell_type": "code",
      "metadata": {
        "id": "A4SLkacZA0wV"
      },
      "source": [
        "import random\n",
        "import time\n",
        "idx = list(np.arange(data.shape[1]))\n",
        "idx10 = random.sample(idx, 10)\n",
        "idx20 = random.sample(idx, 20)\n",
        "idx100 = random.sample(idx, 100)\n",
        "params = {\n",
        "    'metric': 'euclidean',\n",
        "    'test_block_size': 100,\n",
        "    'k': 5,\n",
        "}"
      ],
      "execution_count": 7,
      "outputs": []
    },
    {
      "cell_type": "code",
      "metadata": {
        "colab": {
          "base_uri": "https://localhost:8080/"
        },
        "id": "5oEGhzFKgvsU",
        "outputId": "c8ab9e7f-be6e-4480-a9ba-bd0b8cf9e98d"
      },
      "source": [
        "for i in (idx10, idx20, idx100):\n",
        "    print(f'{len(i)} features are used: ')\n",
        "    for strategy in ('my_own', 'brute', 'kd_tree', 'ball_tree'):\n",
        "        params['strategy'] = strategy\n",
        "        start = time.time()\n",
        "        clf1 = nearest_neighbors.KNNClassifier(**params)\n",
        "        clf1.fit(data[:, i], target)\n",
        "        clf1.find_kneighbors(data_test[:, i], True)\n",
        "        end = time.time()\n",
        "        print('\\t', strategy, ', time is:', end - start)"
      ],
      "execution_count": 8,
      "outputs": [
        {
          "output_type": "stream",
          "name": "stdout",
          "text": [
            "10 features are used: \n",
            "\t my_own , time is: 61.547545194625854\n",
            "\t brute , time is: 8.57012391090393\n",
            "\t kd_tree , time is: 3.9650275707244873\n",
            "\t ball_tree , time is: 6.569613695144653\n",
            "20 features are used: \n",
            "\t my_own , time is: 69.5153534412384\n",
            "\t brute , time is: 8.031169176101685\n",
            "\t kd_tree , time is: 7.108087062835693\n",
            "\t ball_tree , time is: 23.383166074752808\n",
            "100 features are used: \n",
            "\t my_own , time is: 209.11522269248962\n",
            "\t brute , time is: 10.281789064407349\n",
            "\t kd_tree , time is: 129.33909273147583\n",
            "\t ball_tree , time is: 119.29954695701599\n"
          ]
        }
      ]
    },
    {
      "cell_type": "markdown",
      "metadata": {
        "id": "WlqVNw0ZgvsV"
      },
      "source": [
        "# Task 2"
      ]
    },
    {
      "cell_type": "code",
      "metadata": {
        "id": "one2tVPvgvsW"
      },
      "source": [
        "params = {\n",
        "    'metric': 'euclidean',\n",
        "    'strategy': 'brute',\n",
        "}\n",
        "k_axis = np.arange(1, 11)\n",
        "scores = cross_validation.knn_cross_val_score(\n",
        "                        X=data,\n",
        "                        y=target,\n",
        "                        k_list=[i for i in range(1, 11)], \n",
        "                        score='accuracy',\n",
        "                        cv=None,\n",
        "                        **params)\n",
        "array1 = np.array([s.mean() for s in scores.values()])\n",
        "\n",
        "params['metric'] = 'cosine'\n",
        "scores = cross_validation.knn_cross_val_score(\n",
        "                        X=data,\n",
        "                        y=target,\n",
        "                        k_list=[i for i in range(1, 11)], \n",
        "                        score='accuracy',\n",
        "                        cv=None,\n",
        "                        **params)\n",
        "array2 = np.array([s.mean() for s in scores.values()])"
      ],
      "execution_count": 14,
      "outputs": []
    },
    {
      "cell_type": "code",
      "metadata": {
        "id": "HF29O-3VMIEJ"
      },
      "source": [
        "%config InlineBackend.figure_formats = ['svg']\n",
        "sns.set_theme(style=\"darkgrid\")"
      ],
      "execution_count": 29,
      "outputs": []
    },
    {
      "cell_type": "code",
      "metadata": {
        "colab": {
          "base_uri": "https://localhost:8080/",
          "height": 398
        },
        "id": "0sY2j3x8JWKp",
        "outputId": "9f309eea-37d0-45bc-a8fe-9c9cba264a93"
      },
      "source": [
        "g = sns.lineplot(x=k_axis, y=array1, color='red', label='euclidean')\n",
        "sns.lineplot(x=k_axis, y=array2, color='blue', label='cosine')\n",
        "plt.title('accuracy в зависимости от k и метрики')\n",
        "plt.xlabel('k')\n",
        "plt.ylabel('accuracy')\n",
        "g.set_xticks(k_axis)\n",
        "plt.legend(title='metric')\n",
        "plt.savefig('task2.pdf')\n",
        "plt.show()"
      ],
      "execution_count": 42,
      "outputs": [
        {
          "output_type": "display_data",
          "data": {
            "text/plain": [
              "<Figure size 432x288 with 1 Axes>"
            ],
            "image/svg+xml": "<?xml version=\"1.0\" encoding=\"utf-8\" standalone=\"no\"?>\n<!DOCTYPE svg PUBLIC \"-//W3C//DTD SVG 1.1//EN\"\n  \"http://www.w3.org/Graphics/SVG/1.1/DTD/svg11.dtd\">\n<!-- Created with matplotlib (https://matplotlib.org/) -->\n<svg height=\"282.717813pt\" version=\"1.1\" viewBox=\"0 0 405.804687 282.717813\" width=\"405.804687pt\" xmlns=\"http://www.w3.org/2000/svg\" xmlns:xlink=\"http://www.w3.org/1999/xlink\">\n <defs>\n  <style type=\"text/css\">\n*{stroke-linecap:butt;stroke-linejoin:round;}\n  </style>\n </defs>\n <g id=\"figure_1\">\n  <g id=\"patch_1\">\n   <path d=\"M 0 282.717813 \nL 405.804687 282.717813 \nL 405.804687 0 \nL 0 0 \nz\n\" style=\"fill:#ffffff;\"/>\n  </g>\n  <g id=\"axes_1\">\n   <g id=\"patch_2\">\n    <path d=\"M 63.804688 239.758125 \nL 398.604688 239.758125 \nL 398.604688 22.318125 \nL 63.804688 22.318125 \nz\n\" style=\"fill:#eaeaf2;\"/>\n   </g>\n   <g id=\"matplotlib.axis_1\">\n    <g id=\"xtick_1\">\n     <g id=\"line2d_1\">\n      <path clip-path=\"url(#pe3d2e5540d)\" d=\"M 79.022869 239.758125 \nL 79.022869 22.318125 \n\" style=\"fill:none;stroke:#ffffff;stroke-linecap:round;\"/>\n     </g>\n     <g id=\"text_1\">\n      <!-- 1 -->\n      <defs>\n       <path d=\"M 12.40625 8.296875 \nL 28.515625 8.296875 \nL 28.515625 63.921875 \nL 10.984375 60.40625 \nL 10.984375 69.390625 \nL 28.421875 72.90625 \nL 38.28125 72.90625 \nL 38.28125 8.296875 \nL 54.390625 8.296875 \nL 54.390625 0 \nL 12.40625 0 \nz\n\" id=\"DejaVuSans-49\"/>\n      </defs>\n      <g style=\"fill:#262626;\" transform=\"translate(75.523494 257.616406)scale(0.11 -0.11)\">\n       <use xlink:href=\"#DejaVuSans-49\"/>\n      </g>\n     </g>\n    </g>\n    <g id=\"xtick_2\">\n     <g id=\"line2d_2\">\n      <path clip-path=\"url(#pe3d2e5540d)\" d=\"M 112.841051 239.758125 \nL 112.841051 22.318125 \n\" style=\"fill:none;stroke:#ffffff;stroke-linecap:round;\"/>\n     </g>\n     <g id=\"text_2\">\n      <!-- 2 -->\n      <defs>\n       <path d=\"M 19.1875 8.296875 \nL 53.609375 8.296875 \nL 53.609375 0 \nL 7.328125 0 \nL 7.328125 8.296875 \nQ 12.9375 14.109375 22.625 23.890625 \nQ 32.328125 33.6875 34.8125 36.53125 \nQ 39.546875 41.84375 41.421875 45.53125 \nQ 43.3125 49.21875 43.3125 52.78125 \nQ 43.3125 58.59375 39.234375 62.25 \nQ 35.15625 65.921875 28.609375 65.921875 \nQ 23.96875 65.921875 18.8125 64.3125 \nQ 13.671875 62.703125 7.8125 59.421875 \nL 7.8125 69.390625 \nQ 13.765625 71.78125 18.9375 73 \nQ 24.125 74.21875 28.421875 74.21875 \nQ 39.75 74.21875 46.484375 68.546875 \nQ 53.21875 62.890625 53.21875 53.421875 \nQ 53.21875 48.921875 51.53125 44.890625 \nQ 49.859375 40.875 45.40625 35.40625 \nQ 44.1875 33.984375 37.640625 27.21875 \nQ 31.109375 20.453125 19.1875 8.296875 \nz\n\" id=\"DejaVuSans-50\"/>\n      </defs>\n      <g style=\"fill:#262626;\" transform=\"translate(109.341676 257.616406)scale(0.11 -0.11)\">\n       <use xlink:href=\"#DejaVuSans-50\"/>\n      </g>\n     </g>\n    </g>\n    <g id=\"xtick_3\">\n     <g id=\"line2d_3\">\n      <path clip-path=\"url(#pe3d2e5540d)\" d=\"M 146.659233 239.758125 \nL 146.659233 22.318125 \n\" style=\"fill:none;stroke:#ffffff;stroke-linecap:round;\"/>\n     </g>\n     <g id=\"text_3\">\n      <!-- 3 -->\n      <defs>\n       <path d=\"M 40.578125 39.3125 \nQ 47.65625 37.796875 51.625 33 \nQ 55.609375 28.21875 55.609375 21.1875 \nQ 55.609375 10.40625 48.1875 4.484375 \nQ 40.765625 -1.421875 27.09375 -1.421875 \nQ 22.515625 -1.421875 17.65625 -0.515625 \nQ 12.796875 0.390625 7.625 2.203125 \nL 7.625 11.71875 \nQ 11.71875 9.328125 16.59375 8.109375 \nQ 21.484375 6.890625 26.8125 6.890625 \nQ 36.078125 6.890625 40.9375 10.546875 \nQ 45.796875 14.203125 45.796875 21.1875 \nQ 45.796875 27.640625 41.28125 31.265625 \nQ 36.765625 34.90625 28.71875 34.90625 \nL 20.21875 34.90625 \nL 20.21875 43.015625 \nL 29.109375 43.015625 \nQ 36.375 43.015625 40.234375 45.921875 \nQ 44.09375 48.828125 44.09375 54.296875 \nQ 44.09375 59.90625 40.109375 62.90625 \nQ 36.140625 65.921875 28.71875 65.921875 \nQ 24.65625 65.921875 20.015625 65.03125 \nQ 15.375 64.15625 9.8125 62.3125 \nL 9.8125 71.09375 \nQ 15.4375 72.65625 20.34375 73.4375 \nQ 25.25 74.21875 29.59375 74.21875 \nQ 40.828125 74.21875 47.359375 69.109375 \nQ 53.90625 64.015625 53.90625 55.328125 \nQ 53.90625 49.265625 50.4375 45.09375 \nQ 46.96875 40.921875 40.578125 39.3125 \nz\n\" id=\"DejaVuSans-51\"/>\n      </defs>\n      <g style=\"fill:#262626;\" transform=\"translate(143.159858 257.616406)scale(0.11 -0.11)\">\n       <use xlink:href=\"#DejaVuSans-51\"/>\n      </g>\n     </g>\n    </g>\n    <g id=\"xtick_4\">\n     <g id=\"line2d_4\">\n      <path clip-path=\"url(#pe3d2e5540d)\" d=\"M 180.477415 239.758125 \nL 180.477415 22.318125 \n\" style=\"fill:none;stroke:#ffffff;stroke-linecap:round;\"/>\n     </g>\n     <g id=\"text_4\">\n      <!-- 4 -->\n      <defs>\n       <path d=\"M 37.796875 64.3125 \nL 12.890625 25.390625 \nL 37.796875 25.390625 \nz\nM 35.203125 72.90625 \nL 47.609375 72.90625 \nL 47.609375 25.390625 \nL 58.015625 25.390625 \nL 58.015625 17.1875 \nL 47.609375 17.1875 \nL 47.609375 0 \nL 37.796875 0 \nL 37.796875 17.1875 \nL 4.890625 17.1875 \nL 4.890625 26.703125 \nz\n\" id=\"DejaVuSans-52\"/>\n      </defs>\n      <g style=\"fill:#262626;\" transform=\"translate(176.97804 257.616406)scale(0.11 -0.11)\">\n       <use xlink:href=\"#DejaVuSans-52\"/>\n      </g>\n     </g>\n    </g>\n    <g id=\"xtick_5\">\n     <g id=\"line2d_5\">\n      <path clip-path=\"url(#pe3d2e5540d)\" d=\"M 214.295597 239.758125 \nL 214.295597 22.318125 \n\" style=\"fill:none;stroke:#ffffff;stroke-linecap:round;\"/>\n     </g>\n     <g id=\"text_5\">\n      <!-- 5 -->\n      <defs>\n       <path d=\"M 10.796875 72.90625 \nL 49.515625 72.90625 \nL 49.515625 64.59375 \nL 19.828125 64.59375 \nL 19.828125 46.734375 \nQ 21.96875 47.46875 24.109375 47.828125 \nQ 26.265625 48.1875 28.421875 48.1875 \nQ 40.625 48.1875 47.75 41.5 \nQ 54.890625 34.8125 54.890625 23.390625 \nQ 54.890625 11.625 47.5625 5.09375 \nQ 40.234375 -1.421875 26.90625 -1.421875 \nQ 22.3125 -1.421875 17.546875 -0.640625 \nQ 12.796875 0.140625 7.71875 1.703125 \nL 7.71875 11.625 \nQ 12.109375 9.234375 16.796875 8.0625 \nQ 21.484375 6.890625 26.703125 6.890625 \nQ 35.15625 6.890625 40.078125 11.328125 \nQ 45.015625 15.765625 45.015625 23.390625 \nQ 45.015625 31 40.078125 35.4375 \nQ 35.15625 39.890625 26.703125 39.890625 \nQ 22.75 39.890625 18.8125 39.015625 \nQ 14.890625 38.140625 10.796875 36.28125 \nz\n\" id=\"DejaVuSans-53\"/>\n      </defs>\n      <g style=\"fill:#262626;\" transform=\"translate(210.796222 257.616406)scale(0.11 -0.11)\">\n       <use xlink:href=\"#DejaVuSans-53\"/>\n      </g>\n     </g>\n    </g>\n    <g id=\"xtick_6\">\n     <g id=\"line2d_6\">\n      <path clip-path=\"url(#pe3d2e5540d)\" d=\"M 248.113778 239.758125 \nL 248.113778 22.318125 \n\" style=\"fill:none;stroke:#ffffff;stroke-linecap:round;\"/>\n     </g>\n     <g id=\"text_6\">\n      <!-- 6 -->\n      <defs>\n       <path d=\"M 33.015625 40.375 \nQ 26.375 40.375 22.484375 35.828125 \nQ 18.609375 31.296875 18.609375 23.390625 \nQ 18.609375 15.53125 22.484375 10.953125 \nQ 26.375 6.390625 33.015625 6.390625 \nQ 39.65625 6.390625 43.53125 10.953125 \nQ 47.40625 15.53125 47.40625 23.390625 \nQ 47.40625 31.296875 43.53125 35.828125 \nQ 39.65625 40.375 33.015625 40.375 \nz\nM 52.59375 71.296875 \nL 52.59375 62.3125 \nQ 48.875 64.0625 45.09375 64.984375 \nQ 41.3125 65.921875 37.59375 65.921875 \nQ 27.828125 65.921875 22.671875 59.328125 \nQ 17.53125 52.734375 16.796875 39.40625 \nQ 19.671875 43.65625 24.015625 45.921875 \nQ 28.375 48.1875 33.59375 48.1875 \nQ 44.578125 48.1875 50.953125 41.515625 \nQ 57.328125 34.859375 57.328125 23.390625 \nQ 57.328125 12.15625 50.6875 5.359375 \nQ 44.046875 -1.421875 33.015625 -1.421875 \nQ 20.359375 -1.421875 13.671875 8.265625 \nQ 6.984375 17.96875 6.984375 36.375 \nQ 6.984375 53.65625 15.1875 63.9375 \nQ 23.390625 74.21875 37.203125 74.21875 \nQ 40.921875 74.21875 44.703125 73.484375 \nQ 48.484375 72.75 52.59375 71.296875 \nz\n\" id=\"DejaVuSans-54\"/>\n      </defs>\n      <g style=\"fill:#262626;\" transform=\"translate(244.614403 257.616406)scale(0.11 -0.11)\">\n       <use xlink:href=\"#DejaVuSans-54\"/>\n      </g>\n     </g>\n    </g>\n    <g id=\"xtick_7\">\n     <g id=\"line2d_7\">\n      <path clip-path=\"url(#pe3d2e5540d)\" d=\"M 281.93196 239.758125 \nL 281.93196 22.318125 \n\" style=\"fill:none;stroke:#ffffff;stroke-linecap:round;\"/>\n     </g>\n     <g id=\"text_7\">\n      <!-- 7 -->\n      <defs>\n       <path d=\"M 8.203125 72.90625 \nL 55.078125 72.90625 \nL 55.078125 68.703125 \nL 28.609375 0 \nL 18.3125 0 \nL 43.21875 64.59375 \nL 8.203125 64.59375 \nz\n\" id=\"DejaVuSans-55\"/>\n      </defs>\n      <g style=\"fill:#262626;\" transform=\"translate(278.432585 257.616406)scale(0.11 -0.11)\">\n       <use xlink:href=\"#DejaVuSans-55\"/>\n      </g>\n     </g>\n    </g>\n    <g id=\"xtick_8\">\n     <g id=\"line2d_8\">\n      <path clip-path=\"url(#pe3d2e5540d)\" d=\"M 315.750142 239.758125 \nL 315.750142 22.318125 \n\" style=\"fill:none;stroke:#ffffff;stroke-linecap:round;\"/>\n     </g>\n     <g id=\"text_8\">\n      <!-- 8 -->\n      <defs>\n       <path d=\"M 31.78125 34.625 \nQ 24.75 34.625 20.71875 30.859375 \nQ 16.703125 27.09375 16.703125 20.515625 \nQ 16.703125 13.921875 20.71875 10.15625 \nQ 24.75 6.390625 31.78125 6.390625 \nQ 38.8125 6.390625 42.859375 10.171875 \nQ 46.921875 13.96875 46.921875 20.515625 \nQ 46.921875 27.09375 42.890625 30.859375 \nQ 38.875 34.625 31.78125 34.625 \nz\nM 21.921875 38.8125 \nQ 15.578125 40.375 12.03125 44.71875 \nQ 8.5 49.078125 8.5 55.328125 \nQ 8.5 64.0625 14.71875 69.140625 \nQ 20.953125 74.21875 31.78125 74.21875 \nQ 42.671875 74.21875 48.875 69.140625 \nQ 55.078125 64.0625 55.078125 55.328125 \nQ 55.078125 49.078125 51.53125 44.71875 \nQ 48 40.375 41.703125 38.8125 \nQ 48.828125 37.15625 52.796875 32.3125 \nQ 56.78125 27.484375 56.78125 20.515625 \nQ 56.78125 9.90625 50.3125 4.234375 \nQ 43.84375 -1.421875 31.78125 -1.421875 \nQ 19.734375 -1.421875 13.25 4.234375 \nQ 6.78125 9.90625 6.78125 20.515625 \nQ 6.78125 27.484375 10.78125 32.3125 \nQ 14.796875 37.15625 21.921875 38.8125 \nz\nM 18.3125 54.390625 \nQ 18.3125 48.734375 21.84375 45.5625 \nQ 25.390625 42.390625 31.78125 42.390625 \nQ 38.140625 42.390625 41.71875 45.5625 \nQ 45.3125 48.734375 45.3125 54.390625 \nQ 45.3125 60.0625 41.71875 63.234375 \nQ 38.140625 66.40625 31.78125 66.40625 \nQ 25.390625 66.40625 21.84375 63.234375 \nQ 18.3125 60.0625 18.3125 54.390625 \nz\n\" id=\"DejaVuSans-56\"/>\n      </defs>\n      <g style=\"fill:#262626;\" transform=\"translate(312.250767 257.616406)scale(0.11 -0.11)\">\n       <use xlink:href=\"#DejaVuSans-56\"/>\n      </g>\n     </g>\n    </g>\n    <g id=\"xtick_9\">\n     <g id=\"line2d_9\">\n      <path clip-path=\"url(#pe3d2e5540d)\" d=\"M 349.568324 239.758125 \nL 349.568324 22.318125 \n\" style=\"fill:none;stroke:#ffffff;stroke-linecap:round;\"/>\n     </g>\n     <g id=\"text_9\">\n      <!-- 9 -->\n      <defs>\n       <path d=\"M 10.984375 1.515625 \nL 10.984375 10.5 \nQ 14.703125 8.734375 18.5 7.8125 \nQ 22.3125 6.890625 25.984375 6.890625 \nQ 35.75 6.890625 40.890625 13.453125 \nQ 46.046875 20.015625 46.78125 33.40625 \nQ 43.953125 29.203125 39.59375 26.953125 \nQ 35.25 24.703125 29.984375 24.703125 \nQ 19.046875 24.703125 12.671875 31.3125 \nQ 6.296875 37.9375 6.296875 49.421875 \nQ 6.296875 60.640625 12.9375 67.421875 \nQ 19.578125 74.21875 30.609375 74.21875 \nQ 43.265625 74.21875 49.921875 64.515625 \nQ 56.59375 54.828125 56.59375 36.375 \nQ 56.59375 19.140625 48.40625 8.859375 \nQ 40.234375 -1.421875 26.421875 -1.421875 \nQ 22.703125 -1.421875 18.890625 -0.6875 \nQ 15.09375 0.046875 10.984375 1.515625 \nz\nM 30.609375 32.421875 \nQ 37.25 32.421875 41.125 36.953125 \nQ 45.015625 41.5 45.015625 49.421875 \nQ 45.015625 57.28125 41.125 61.84375 \nQ 37.25 66.40625 30.609375 66.40625 \nQ 23.96875 66.40625 20.09375 61.84375 \nQ 16.21875 57.28125 16.21875 49.421875 \nQ 16.21875 41.5 20.09375 36.953125 \nQ 23.96875 32.421875 30.609375 32.421875 \nz\n\" id=\"DejaVuSans-57\"/>\n      </defs>\n      <g style=\"fill:#262626;\" transform=\"translate(346.068949 257.616406)scale(0.11 -0.11)\">\n       <use xlink:href=\"#DejaVuSans-57\"/>\n      </g>\n     </g>\n    </g>\n    <g id=\"xtick_10\">\n     <g id=\"line2d_10\">\n      <path clip-path=\"url(#pe3d2e5540d)\" d=\"M 383.386506 239.758125 \nL 383.386506 22.318125 \n\" style=\"fill:none;stroke:#ffffff;stroke-linecap:round;\"/>\n     </g>\n     <g id=\"text_10\">\n      <!-- 10 -->\n      <defs>\n       <path d=\"M 31.78125 66.40625 \nQ 24.171875 66.40625 20.328125 58.90625 \nQ 16.5 51.421875 16.5 36.375 \nQ 16.5 21.390625 20.328125 13.890625 \nQ 24.171875 6.390625 31.78125 6.390625 \nQ 39.453125 6.390625 43.28125 13.890625 \nQ 47.125 21.390625 47.125 36.375 \nQ 47.125 51.421875 43.28125 58.90625 \nQ 39.453125 66.40625 31.78125 66.40625 \nz\nM 31.78125 74.21875 \nQ 44.046875 74.21875 50.515625 64.515625 \nQ 56.984375 54.828125 56.984375 36.375 \nQ 56.984375 17.96875 50.515625 8.265625 \nQ 44.046875 -1.421875 31.78125 -1.421875 \nQ 19.53125 -1.421875 13.0625 8.265625 \nQ 6.59375 17.96875 6.59375 36.375 \nQ 6.59375 54.828125 13.0625 64.515625 \nQ 19.53125 74.21875 31.78125 74.21875 \nz\n\" id=\"DejaVuSans-48\"/>\n      </defs>\n      <g style=\"fill:#262626;\" transform=\"translate(376.387756 257.616406)scale(0.11 -0.11)\">\n       <use xlink:href=\"#DejaVuSans-49\"/>\n       <use x=\"63.623047\" xlink:href=\"#DejaVuSans-48\"/>\n      </g>\n     </g>\n    </g>\n    <g id=\"text_11\">\n     <!-- k -->\n     <defs>\n      <path d=\"M 9.078125 75.984375 \nL 18.109375 75.984375 \nL 18.109375 31.109375 \nL 44.921875 54.6875 \nL 56.390625 54.6875 \nL 27.390625 29.109375 \nL 57.625 0 \nL 45.90625 0 \nL 18.109375 26.703125 \nL 18.109375 0 \nL 9.078125 0 \nz\n\" id=\"DejaVuSans-107\"/>\n     </defs>\n     <g style=\"fill:#262626;\" transform=\"translate(227.730312 273.022188)scale(0.12 -0.12)\">\n      <use xlink:href=\"#DejaVuSans-107\"/>\n     </g>\n    </g>\n   </g>\n   <g id=\"matplotlib.axis_2\">\n    <g id=\"ytick_1\">\n     <g id=\"line2d_11\">\n      <path clip-path=\"url(#pe3d2e5540d)\" d=\"M 63.804688 238.444116 \nL 398.604688 238.444116 \n\" style=\"fill:none;stroke:#ffffff;stroke-linecap:round;\"/>\n     </g>\n     <g id=\"text_12\">\n      <!-- 0.960 -->\n      <defs>\n       <path d=\"M 10.6875 12.40625 \nL 21 12.40625 \nL 21 0 \nL 10.6875 0 \nz\n\" id=\"DejaVuSans-46\"/>\n      </defs>\n      <g style=\"fill:#262626;\" transform=\"translate(22.81375 242.623256)scale(0.11 -0.11)\">\n       <use xlink:href=\"#DejaVuSans-48\"/>\n       <use x=\"63.623047\" xlink:href=\"#DejaVuSans-46\"/>\n       <use x=\"95.410156\" xlink:href=\"#DejaVuSans-57\"/>\n       <use x=\"159.033203\" xlink:href=\"#DejaVuSans-54\"/>\n       <use x=\"222.65625\" xlink:href=\"#DejaVuSans-48\"/>\n      </g>\n     </g>\n    </g>\n    <g id=\"ytick_2\">\n     <g id=\"line2d_12\">\n      <path clip-path=\"url(#pe3d2e5540d)\" d=\"M 63.804688 204.165608 \nL 398.604688 204.165608 \n\" style=\"fill:none;stroke:#ffffff;stroke-linecap:round;\"/>\n     </g>\n     <g id=\"text_13\">\n      <!-- 0.962 -->\n      <g style=\"fill:#262626;\" transform=\"translate(22.81375 208.344749)scale(0.11 -0.11)\">\n       <use xlink:href=\"#DejaVuSans-48\"/>\n       <use x=\"63.623047\" xlink:href=\"#DejaVuSans-46\"/>\n       <use x=\"95.410156\" xlink:href=\"#DejaVuSans-57\"/>\n       <use x=\"159.033203\" xlink:href=\"#DejaVuSans-54\"/>\n       <use x=\"222.65625\" xlink:href=\"#DejaVuSans-50\"/>\n      </g>\n     </g>\n    </g>\n    <g id=\"ytick_3\">\n     <g id=\"line2d_13\">\n      <path clip-path=\"url(#pe3d2e5540d)\" d=\"M 63.804688 169.8871 \nL 398.604688 169.8871 \n\" style=\"fill:none;stroke:#ffffff;stroke-linecap:round;\"/>\n     </g>\n     <g id=\"text_14\">\n      <!-- 0.964 -->\n      <g style=\"fill:#262626;\" transform=\"translate(22.81375 174.066241)scale(0.11 -0.11)\">\n       <use xlink:href=\"#DejaVuSans-48\"/>\n       <use x=\"63.623047\" xlink:href=\"#DejaVuSans-46\"/>\n       <use x=\"95.410156\" xlink:href=\"#DejaVuSans-57\"/>\n       <use x=\"159.033203\" xlink:href=\"#DejaVuSans-54\"/>\n       <use x=\"222.65625\" xlink:href=\"#DejaVuSans-52\"/>\n      </g>\n     </g>\n    </g>\n    <g id=\"ytick_4\">\n     <g id=\"line2d_14\">\n      <path clip-path=\"url(#pe3d2e5540d)\" d=\"M 63.804688 135.608593 \nL 398.604688 135.608593 \n\" style=\"fill:none;stroke:#ffffff;stroke-linecap:round;\"/>\n     </g>\n     <g id=\"text_15\">\n      <!-- 0.966 -->\n      <g style=\"fill:#262626;\" transform=\"translate(22.81375 139.787733)scale(0.11 -0.11)\">\n       <use xlink:href=\"#DejaVuSans-48\"/>\n       <use x=\"63.623047\" xlink:href=\"#DejaVuSans-46\"/>\n       <use x=\"95.410156\" xlink:href=\"#DejaVuSans-57\"/>\n       <use x=\"159.033203\" xlink:href=\"#DejaVuSans-54\"/>\n       <use x=\"222.65625\" xlink:href=\"#DejaVuSans-54\"/>\n      </g>\n     </g>\n    </g>\n    <g id=\"ytick_5\">\n     <g id=\"line2d_15\">\n      <path clip-path=\"url(#pe3d2e5540d)\" d=\"M 63.804688 101.330085 \nL 398.604688 101.330085 \n\" style=\"fill:none;stroke:#ffffff;stroke-linecap:round;\"/>\n     </g>\n     <g id=\"text_16\">\n      <!-- 0.968 -->\n      <g style=\"fill:#262626;\" transform=\"translate(22.81375 105.509226)scale(0.11 -0.11)\">\n       <use xlink:href=\"#DejaVuSans-48\"/>\n       <use x=\"63.623047\" xlink:href=\"#DejaVuSans-46\"/>\n       <use x=\"95.410156\" xlink:href=\"#DejaVuSans-57\"/>\n       <use x=\"159.033203\" xlink:href=\"#DejaVuSans-54\"/>\n       <use x=\"222.65625\" xlink:href=\"#DejaVuSans-56\"/>\n      </g>\n     </g>\n    </g>\n    <g id=\"ytick_6\">\n     <g id=\"line2d_16\">\n      <path clip-path=\"url(#pe3d2e5540d)\" d=\"M 63.804688 67.051577 \nL 398.604688 67.051577 \n\" style=\"fill:none;stroke:#ffffff;stroke-linecap:round;\"/>\n     </g>\n     <g id=\"text_17\">\n      <!-- 0.970 -->\n      <g style=\"fill:#262626;\" transform=\"translate(22.81375 71.230718)scale(0.11 -0.11)\">\n       <use xlink:href=\"#DejaVuSans-48\"/>\n       <use x=\"63.623047\" xlink:href=\"#DejaVuSans-46\"/>\n       <use x=\"95.410156\" xlink:href=\"#DejaVuSans-57\"/>\n       <use x=\"159.033203\" xlink:href=\"#DejaVuSans-55\"/>\n       <use x=\"222.65625\" xlink:href=\"#DejaVuSans-48\"/>\n      </g>\n     </g>\n    </g>\n    <g id=\"ytick_7\">\n     <g id=\"line2d_17\">\n      <path clip-path=\"url(#pe3d2e5540d)\" d=\"M 63.804688 32.77307 \nL 398.604688 32.77307 \n\" style=\"fill:none;stroke:#ffffff;stroke-linecap:round;\"/>\n     </g>\n     <g id=\"text_18\">\n      <!-- 0.972 -->\n      <g style=\"fill:#262626;\" transform=\"translate(22.81375 36.95221)scale(0.11 -0.11)\">\n       <use xlink:href=\"#DejaVuSans-48\"/>\n       <use x=\"63.623047\" xlink:href=\"#DejaVuSans-46\"/>\n       <use x=\"95.410156\" xlink:href=\"#DejaVuSans-57\"/>\n       <use x=\"159.033203\" xlink:href=\"#DejaVuSans-55\"/>\n       <use x=\"222.65625\" xlink:href=\"#DejaVuSans-50\"/>\n      </g>\n     </g>\n    </g>\n    <g id=\"text_19\">\n     <!-- accuracy -->\n     <defs>\n      <path d=\"M 34.28125 27.484375 \nQ 23.390625 27.484375 19.1875 25 \nQ 14.984375 22.515625 14.984375 16.5 \nQ 14.984375 11.71875 18.140625 8.90625 \nQ 21.296875 6.109375 26.703125 6.109375 \nQ 34.1875 6.109375 38.703125 11.40625 \nQ 43.21875 16.703125 43.21875 25.484375 \nL 43.21875 27.484375 \nz\nM 52.203125 31.203125 \nL 52.203125 0 \nL 43.21875 0 \nL 43.21875 8.296875 \nQ 40.140625 3.328125 35.546875 0.953125 \nQ 30.953125 -1.421875 24.3125 -1.421875 \nQ 15.921875 -1.421875 10.953125 3.296875 \nQ 6 8.015625 6 15.921875 \nQ 6 25.140625 12.171875 29.828125 \nQ 18.359375 34.515625 30.609375 34.515625 \nL 43.21875 34.515625 \nL 43.21875 35.40625 \nQ 43.21875 41.609375 39.140625 45 \nQ 35.0625 48.390625 27.6875 48.390625 \nQ 23 48.390625 18.546875 47.265625 \nQ 14.109375 46.140625 10.015625 43.890625 \nL 10.015625 52.203125 \nQ 14.9375 54.109375 19.578125 55.046875 \nQ 24.21875 56 28.609375 56 \nQ 40.484375 56 46.34375 49.84375 \nQ 52.203125 43.703125 52.203125 31.203125 \nz\n\" id=\"DejaVuSans-97\"/>\n      <path d=\"M 48.78125 52.59375 \nL 48.78125 44.1875 \nQ 44.96875 46.296875 41.140625 47.34375 \nQ 37.3125 48.390625 33.40625 48.390625 \nQ 24.65625 48.390625 19.8125 42.84375 \nQ 14.984375 37.3125 14.984375 27.296875 \nQ 14.984375 17.28125 19.8125 11.734375 \nQ 24.65625 6.203125 33.40625 6.203125 \nQ 37.3125 6.203125 41.140625 7.25 \nQ 44.96875 8.296875 48.78125 10.40625 \nL 48.78125 2.09375 \nQ 45.015625 0.34375 40.984375 -0.53125 \nQ 36.96875 -1.421875 32.421875 -1.421875 \nQ 20.0625 -1.421875 12.78125 6.34375 \nQ 5.515625 14.109375 5.515625 27.296875 \nQ 5.515625 40.671875 12.859375 48.328125 \nQ 20.21875 56 33.015625 56 \nQ 37.15625 56 41.109375 55.140625 \nQ 45.0625 54.296875 48.78125 52.59375 \nz\n\" id=\"DejaVuSans-99\"/>\n      <path d=\"M 8.5 21.578125 \nL 8.5 54.6875 \nL 17.484375 54.6875 \nL 17.484375 21.921875 \nQ 17.484375 14.15625 20.5 10.265625 \nQ 23.53125 6.390625 29.59375 6.390625 \nQ 36.859375 6.390625 41.078125 11.03125 \nQ 45.3125 15.671875 45.3125 23.6875 \nL 45.3125 54.6875 \nL 54.296875 54.6875 \nL 54.296875 0 \nL 45.3125 0 \nL 45.3125 8.40625 \nQ 42.046875 3.421875 37.71875 1 \nQ 33.40625 -1.421875 27.6875 -1.421875 \nQ 18.265625 -1.421875 13.375 4.4375 \nQ 8.5 10.296875 8.5 21.578125 \nz\nM 31.109375 56 \nz\n\" id=\"DejaVuSans-117\"/>\n      <path d=\"M 41.109375 46.296875 \nQ 39.59375 47.171875 37.8125 47.578125 \nQ 36.03125 48 33.890625 48 \nQ 26.265625 48 22.1875 43.046875 \nQ 18.109375 38.09375 18.109375 28.8125 \nL 18.109375 0 \nL 9.078125 0 \nL 9.078125 54.6875 \nL 18.109375 54.6875 \nL 18.109375 46.1875 \nQ 20.953125 51.171875 25.484375 53.578125 \nQ 30.03125 56 36.53125 56 \nQ 37.453125 56 38.578125 55.875 \nQ 39.703125 55.765625 41.0625 55.515625 \nz\n\" id=\"DejaVuSans-114\"/>\n      <path d=\"M 32.171875 -5.078125 \nQ 28.375 -14.84375 24.75 -17.8125 \nQ 21.140625 -20.796875 15.09375 -20.796875 \nL 7.90625 -20.796875 \nL 7.90625 -13.28125 \nL 13.1875 -13.28125 \nQ 16.890625 -13.28125 18.9375 -11.515625 \nQ 21 -9.765625 23.484375 -3.21875 \nL 25.09375 0.875 \nL 2.984375 54.6875 \nL 12.5 54.6875 \nL 29.59375 11.921875 \nL 46.6875 54.6875 \nL 56.203125 54.6875 \nz\n\" id=\"DejaVuSans-121\"/>\n     </defs>\n     <g style=\"fill:#262626;\" transform=\"translate(16.318125 158.109375)rotate(-90)scale(0.12 -0.12)\">\n      <use xlink:href=\"#DejaVuSans-97\"/>\n      <use x=\"61.279297\" xlink:href=\"#DejaVuSans-99\"/>\n      <use x=\"116.259766\" xlink:href=\"#DejaVuSans-99\"/>\n      <use x=\"171.240234\" xlink:href=\"#DejaVuSans-117\"/>\n      <use x=\"234.619141\" xlink:href=\"#DejaVuSans-114\"/>\n      <use x=\"275.732422\" xlink:href=\"#DejaVuSans-97\"/>\n      <use x=\"337.011719\" xlink:href=\"#DejaVuSans-99\"/>\n      <use x=\"391.992188\" xlink:href=\"#DejaVuSans-121\"/>\n     </g>\n    </g>\n   </g>\n   <g id=\"line2d_18\">\n    <path clip-path=\"url(#pe3d2e5540d)\" d=\"M 79.022869 110.47102 \nL 112.841051 229.874489 \nL 146.659233 95.902655 \nL 180.477415 119.326302 \nL 214.295597 109.328404 \nL 248.113778 145.892145 \nL 281.93196 148.177379 \nL 315.750142 162.46009 \nL 349.568324 173.029297 \nL 383.386506 190.739859 \n\" style=\"fill:none;stroke:#ff0000;stroke-linecap:round;stroke-width:1.5;\"/>\n   </g>\n   <g id=\"line2d_19\">\n    <path clip-path=\"url(#pe3d2e5540d)\" d=\"M 79.022869 41.057042 \nL 112.841051 106.471861 \nL 146.659233 32.201761 \nL 180.477415 34.772649 \nL 214.295597 41.342697 \nL 248.113778 45.341856 \nL 281.93196 66.194615 \nL 315.750142 60.48153 \nL 349.568324 79.906018 \nL 383.386506 88.761299 \n\" style=\"fill:none;stroke:#0000ff;stroke-linecap:round;stroke-width:1.5;\"/>\n   </g>\n   <g id=\"patch_3\">\n    <path d=\"M 63.804688 239.758125 \nL 63.804688 22.318125 \n\" style=\"fill:none;stroke:#ffffff;stroke-linecap:square;stroke-linejoin:miter;stroke-width:1.25;\"/>\n   </g>\n   <g id=\"patch_4\">\n    <path d=\"M 398.604688 239.758125 \nL 398.604688 22.318125 \n\" style=\"fill:none;stroke:#ffffff;stroke-linecap:square;stroke-linejoin:miter;stroke-width:1.25;\"/>\n   </g>\n   <g id=\"patch_5\">\n    <path d=\"M 63.804687 239.758125 \nL 398.604687 239.758125 \n\" style=\"fill:none;stroke:#ffffff;stroke-linecap:square;stroke-linejoin:miter;stroke-width:1.25;\"/>\n   </g>\n   <g id=\"patch_6\">\n    <path d=\"M 63.804687 22.318125 \nL 398.604687 22.318125 \n\" style=\"fill:none;stroke:#ffffff;stroke-linecap:square;stroke-linejoin:miter;stroke-width:1.25;\"/>\n   </g>\n   <g id=\"text_20\">\n    <!-- Сравнение accuracy в зависимости от k и метрики -->\n    <defs>\n     <path d=\"M 64.40625 67.28125 \nL 64.40625 56.890625 \nQ 59.421875 61.53125 53.78125 63.8125 \nQ 48.140625 66.109375 41.796875 66.109375 \nQ 29.296875 66.109375 22.65625 58.46875 \nQ 16.015625 50.828125 16.015625 36.375 \nQ 16.015625 21.96875 22.65625 14.328125 \nQ 29.296875 6.6875 41.796875 6.6875 \nQ 48.140625 6.6875 53.78125 8.984375 \nQ 59.421875 11.28125 64.40625 15.921875 \nL 64.40625 5.609375 \nQ 59.234375 2.09375 53.4375 0.328125 \nQ 47.65625 -1.421875 41.21875 -1.421875 \nQ 24.65625 -1.421875 15.125 8.703125 \nQ 5.609375 18.84375 5.609375 36.375 \nQ 5.609375 53.953125 15.125 64.078125 \nQ 24.65625 74.21875 41.21875 74.21875 \nQ 47.75 74.21875 53.53125 72.484375 \nQ 59.328125 70.75 64.40625 67.28125 \nz\n\" id=\"DejaVuSans-1057\"/>\n     <path d=\"M 18.109375 8.203125 \nL 18.109375 -20.796875 \nL 9.078125 -20.796875 \nL 9.078125 54.6875 \nL 18.109375 54.6875 \nL 18.109375 46.390625 \nQ 20.953125 51.265625 25.265625 53.625 \nQ 29.59375 56 35.59375 56 \nQ 45.5625 56 51.78125 48.09375 \nQ 58.015625 40.1875 58.015625 27.296875 \nQ 58.015625 14.40625 51.78125 6.484375 \nQ 45.5625 -1.421875 35.59375 -1.421875 \nQ 29.59375 -1.421875 25.265625 0.953125 \nQ 20.953125 3.328125 18.109375 8.203125 \nz\nM 48.6875 27.296875 \nQ 48.6875 37.203125 44.609375 42.84375 \nQ 40.53125 48.484375 33.40625 48.484375 \nQ 26.265625 48.484375 22.1875 42.84375 \nQ 18.109375 37.203125 18.109375 27.296875 \nQ 18.109375 17.390625 22.1875 11.75 \nQ 26.265625 6.109375 33.40625 6.109375 \nQ 40.53125 6.109375 44.609375 11.75 \nQ 48.6875 17.390625 48.6875 27.296875 \nz\n\" id=\"DejaVuSans-1088\"/>\n     <path d=\"M 34.28125 27.484375 \nQ 23.390625 27.484375 19.1875 25 \nQ 14.984375 22.515625 14.984375 16.5 \nQ 14.984375 11.71875 18.140625 8.90625 \nQ 21.296875 6.109375 26.703125 6.109375 \nQ 34.1875 6.109375 38.703125 11.40625 \nQ 43.21875 16.703125 43.21875 25.484375 \nL 43.21875 27.484375 \nz\nM 52.203125 31.203125 \nL 52.203125 0 \nL 43.21875 0 \nL 43.21875 8.296875 \nQ 40.140625 3.328125 35.546875 0.953125 \nQ 30.953125 -1.421875 24.3125 -1.421875 \nQ 15.921875 -1.421875 10.953125 3.296875 \nQ 6 8.015625 6 15.921875 \nQ 6 25.140625 12.171875 29.828125 \nQ 18.359375 34.515625 30.609375 34.515625 \nL 43.21875 34.515625 \nL 43.21875 35.40625 \nQ 43.21875 41.609375 39.140625 45 \nQ 35.0625 48.390625 27.6875 48.390625 \nQ 23 48.390625 18.546875 47.265625 \nQ 14.109375 46.140625 10.015625 43.890625 \nL 10.015625 52.203125 \nQ 14.9375 54.109375 19.578125 55.046875 \nQ 24.21875 56 28.609375 56 \nQ 40.484375 56 46.34375 49.84375 \nQ 52.203125 43.703125 52.203125 31.203125 \nz\n\" id=\"DejaVuSans-1072\"/>\n     <path d=\"M 18.0625 25.203125 \nL 18.0625 7.171875 \nL 30.859375 7.171875 \nQ 37.015625 7.171875 40.234375 9.484375 \nQ 43.453125 11.8125 43.453125 16.21875 \nQ 43.453125 20.609375 40.234375 22.90625 \nQ 37.015625 25.203125 30.859375 25.203125 \nz\nM 18.0625 47.515625 \nL 18.0625 32.375 \nL 29.890625 32.375 \nQ 34.96875 32.375 38.1875 34.390625 \nQ 41.40625 36.421875 41.40625 40.046875 \nQ 41.40625 43.65625 38.1875 45.578125 \nQ 34.96875 47.515625 29.890625 47.515625 \nz\nM 9.078125 54.6875 \nL 30.46875 54.6875 \nQ 40.09375 54.6875 45.265625 51.171875 \nQ 50.4375 47.65625 50.4375 41.15625 \nQ 50.4375 36.140625 47.796875 33.171875 \nQ 45.171875 30.21875 39.984375 29.5 \nQ 46.1875 28.328125 49.609375 24.609375 \nQ 53.03125 20.90625 53.03125 15.328125 \nQ 53.03125 8.015625 47.390625 4 \nQ 41.75 0 31.296875 0 \nL 9.078125 0 \nz\n\" id=\"DejaVuSans-1074\"/>\n     <path d=\"M 9.078125 54.6875 \nL 18.109375 54.6875 \nL 18.109375 32.375 \nL 47.265625 32.375 \nL 47.265625 54.6875 \nL 56.296875 54.6875 \nL 56.296875 0 \nL 47.265625 0 \nL 47.265625 25.203125 \nL 18.109375 25.203125 \nL 18.109375 0 \nL 9.078125 0 \nz\n\" id=\"DejaVuSans-1085\"/>\n     <path d=\"M 56.203125 29.59375 \nL 56.203125 25.203125 \nL 14.890625 25.203125 \nQ 15.484375 15.921875 20.484375 11.0625 \nQ 25.484375 6.203125 34.421875 6.203125 \nQ 39.59375 6.203125 44.453125 7.46875 \nQ 49.3125 8.734375 54.109375 11.28125 \nL 54.109375 2.78125 \nQ 49.265625 0.734375 44.1875 -0.34375 \nQ 39.109375 -1.421875 33.890625 -1.421875 \nQ 20.796875 -1.421875 13.15625 6.1875 \nQ 5.515625 13.8125 5.515625 26.8125 \nQ 5.515625 40.234375 12.765625 48.109375 \nQ 20.015625 56 32.328125 56 \nQ 43.359375 56 49.78125 48.890625 \nQ 56.203125 41.796875 56.203125 29.59375 \nz\nM 47.21875 32.234375 \nQ 47.125 39.59375 43.09375 43.984375 \nQ 39.0625 48.390625 32.421875 48.390625 \nQ 24.90625 48.390625 20.390625 44.140625 \nQ 15.875 39.890625 15.1875 32.171875 \nz\n\" id=\"DejaVuSans-1077\"/>\n     <path d=\"M 55.90625 54.6875 \nL 55.90625 0 \nL 46.96875 0 \nL 46.96875 43.890625 \nL 20.609375 0 \nL 9.078125 0 \nL 9.078125 54.6875 \nL 18.015625 54.6875 \nL 18.015625 10.890625 \nL 44.34375 54.6875 \nz\n\" id=\"DejaVuSans-1080\"/>\n     <path id=\"DejaVuSans-32\"/>\n     <path d=\"M 34.46875 29.5 \nQ 40.53125 28.328125 43.890625 24.75 \nQ 47.265625 21.1875 47.265625 15.921875 \nQ 47.265625 7.46875 40.96875 3.015625 \nQ 34.671875 -1.421875 23.046875 -1.421875 \nQ 19.140625 -1.421875 15.015625 -0.734375 \nQ 10.890625 -0.046875 6.5 1.3125 \nL 6.5 9.671875 \nQ 9.96875 7.859375 14.109375 6.953125 \nQ 18.265625 6.0625 22.796875 6.0625 \nQ 30.171875 6.0625 34.296875 8.796875 \nQ 38.421875 11.53125 38.421875 15.921875 \nQ 38.421875 20.21875 34.765625 22.828125 \nQ 31.109375 25.4375 24.421875 25.4375 \nL 17.1875 25.4375 \nL 17.1875 32.859375 \nL 24.75 32.859375 \nQ 30.421875 32.859375 33.71875 35.03125 \nQ 37.015625 37.203125 37.015625 40.625 \nQ 37.015625 43.75 33.609375 46 \nQ 30.21875 48.25 24.421875 48.25 \nQ 20.953125 48.25 17.015625 47.609375 \nQ 13.09375 46.96875 8.34375 45.5625 \nL 8.34375 53.71875 \nQ 13.140625 54.890625 17.28125 55.46875 \nQ 21.4375 56.0625 25.140625 56.0625 \nQ 34.71875 56.0625 40.25 52.21875 \nQ 45.796875 48.390625 45.796875 41.5 \nQ 45.796875 36.96875 42.859375 33.8125 \nQ 39.9375 30.671875 34.46875 29.5 \nz\n\" id=\"DejaVuSans-1079\"/>\n     <path d=\"M 48.78125 52.59375 \nL 48.78125 44.1875 \nQ 44.96875 46.296875 41.140625 47.34375 \nQ 37.3125 48.390625 33.40625 48.390625 \nQ 24.65625 48.390625 19.8125 42.84375 \nQ 14.984375 37.3125 14.984375 27.296875 \nQ 14.984375 17.28125 19.8125 11.734375 \nQ 24.65625 6.203125 33.40625 6.203125 \nQ 37.3125 6.203125 41.140625 7.25 \nQ 44.96875 8.296875 48.78125 10.40625 \nL 48.78125 2.09375 \nQ 45.015625 0.34375 40.984375 -0.53125 \nQ 36.96875 -1.421875 32.421875 -1.421875 \nQ 20.0625 -1.421875 12.78125 6.34375 \nQ 5.515625 14.109375 5.515625 27.296875 \nQ 5.515625 40.671875 12.859375 48.328125 \nQ 20.21875 56 33.015625 56 \nQ 37.15625 56 41.109375 55.140625 \nQ 45.0625 54.296875 48.78125 52.59375 \nz\n\" id=\"DejaVuSans-1089\"/>\n     <path d=\"M 9.078125 54.6875 \nL 22.21875 54.6875 \nL 37.75 18.0625 \nL 53.328125 54.6875 \nL 66.359375 54.6875 \nL 66.359375 0 \nL 57.328125 0 \nL 57.328125 46.09375 \nL 42.234375 10.5 \nL 33.25 10.5 \nL 18.109375 46.09375 \nL 18.109375 0 \nL 9.078125 0 \nz\n\" id=\"DejaVuSans-1084\"/>\n     <path d=\"M 30.609375 48.390625 \nQ 23.390625 48.390625 19.1875 42.75 \nQ 14.984375 37.109375 14.984375 27.296875 \nQ 14.984375 17.484375 19.15625 11.84375 \nQ 23.34375 6.203125 30.609375 6.203125 \nQ 37.796875 6.203125 41.984375 11.859375 \nQ 46.1875 17.53125 46.1875 27.296875 \nQ 46.1875 37.015625 41.984375 42.703125 \nQ 37.796875 48.390625 30.609375 48.390625 \nz\nM 30.609375 56 \nQ 42.328125 56 49.015625 48.375 \nQ 55.71875 40.765625 55.71875 27.296875 \nQ 55.71875 13.875 49.015625 6.21875 \nQ 42.328125 -1.421875 30.609375 -1.421875 \nQ 18.84375 -1.421875 12.171875 6.21875 \nQ 5.515625 13.875 5.515625 27.296875 \nQ 5.515625 40.765625 12.171875 48.375 \nQ 18.84375 56 30.609375 56 \nz\n\" id=\"DejaVuSans-1086\"/>\n     <path d=\"M 2.9375 54.6875 \nL 55.328125 54.6875 \nL 55.328125 47.515625 \nL 33.546875 47.515625 \nL 33.546875 0 \nL 24.703125 0 \nL 24.703125 47.515625 \nL 2.9375 47.515625 \nz\n\" id=\"DejaVuSans-1090\"/>\n     <path d=\"M 9.078125 54.6875 \nL 18.015625 54.6875 \nL 18.015625 29 \nL 43.359375 54.6875 \nL 54.390625 54.6875 \nL 33.5 33.546875 \nL 57.078125 0 \nL 47.015625 0 \nL 27.640625 27.59375 \nL 18.015625 17.828125 \nL 18.015625 0 \nL 9.078125 0 \nz\n\" id=\"DejaVuSans-1082\"/>\n    </defs>\n    <g style=\"fill:#262626;\" transform=\"translate(71.03375 16.318125)scale(0.12 -0.12)\">\n     <use xlink:href=\"#DejaVuSans-1057\"/>\n     <use x=\"69.824219\" xlink:href=\"#DejaVuSans-1088\"/>\n     <use x=\"133.300781\" xlink:href=\"#DejaVuSans-1072\"/>\n     <use x=\"194.580078\" xlink:href=\"#DejaVuSans-1074\"/>\n     <use x=\"253.515625\" xlink:href=\"#DejaVuSans-1085\"/>\n     <use x=\"318.896484\" xlink:href=\"#DejaVuSans-1077\"/>\n     <use x=\"380.419922\" xlink:href=\"#DejaVuSans-1085\"/>\n     <use x=\"445.800781\" xlink:href=\"#DejaVuSans-1080\"/>\n     <use x=\"510.791016\" xlink:href=\"#DejaVuSans-1077\"/>\n     <use x=\"572.314453\" xlink:href=\"#DejaVuSans-32\"/>\n     <use x=\"604.101562\" xlink:href=\"#DejaVuSans-97\"/>\n     <use x=\"665.380859\" xlink:href=\"#DejaVuSans-99\"/>\n     <use x=\"720.361328\" xlink:href=\"#DejaVuSans-99\"/>\n     <use x=\"775.341797\" xlink:href=\"#DejaVuSans-117\"/>\n     <use x=\"838.720703\" xlink:href=\"#DejaVuSans-114\"/>\n     <use x=\"879.833984\" xlink:href=\"#DejaVuSans-97\"/>\n     <use x=\"941.113281\" xlink:href=\"#DejaVuSans-99\"/>\n     <use x=\"996.09375\" xlink:href=\"#DejaVuSans-121\"/>\n     <use x=\"1055.273438\" xlink:href=\"#DejaVuSans-32\"/>\n     <use x=\"1087.060547\" xlink:href=\"#DejaVuSans-1074\"/>\n     <use x=\"1145.996094\" xlink:href=\"#DejaVuSans-32\"/>\n     <use x=\"1177.783203\" xlink:href=\"#DejaVuSans-1079\"/>\n     <use x=\"1230.957031\" xlink:href=\"#DejaVuSans-1072\"/>\n     <use x=\"1292.236328\" xlink:href=\"#DejaVuSans-1074\"/>\n     <use x=\"1351.171875\" xlink:href=\"#DejaVuSans-1080\"/>\n     <use x=\"1416.162109\" xlink:href=\"#DejaVuSans-1089\"/>\n     <use x=\"1471.142578\" xlink:href=\"#DejaVuSans-1080\"/>\n     <use x=\"1536.132812\" xlink:href=\"#DejaVuSans-1084\"/>\n     <use x=\"1611.572266\" xlink:href=\"#DejaVuSans-1086\"/>\n     <use x=\"1672.753906\" xlink:href=\"#DejaVuSans-1089\"/>\n     <use x=\"1727.734375\" xlink:href=\"#DejaVuSans-1090\"/>\n     <use x=\"1785.986328\" xlink:href=\"#DejaVuSans-1080\"/>\n     <use x=\"1850.976562\" xlink:href=\"#DejaVuSans-32\"/>\n     <use x=\"1882.763672\" xlink:href=\"#DejaVuSans-1086\"/>\n     <use x=\"1943.945312\" xlink:href=\"#DejaVuSans-1090\"/>\n     <use x=\"2002.197266\" xlink:href=\"#DejaVuSans-32\"/>\n     <use x=\"2033.984375\" xlink:href=\"#DejaVuSans-107\"/>\n     <use x=\"2091.894531\" xlink:href=\"#DejaVuSans-32\"/>\n     <use x=\"2123.681641\" xlink:href=\"#DejaVuSans-1080\"/>\n     <use x=\"2188.671875\" xlink:href=\"#DejaVuSans-32\"/>\n     <use x=\"2220.458984\" xlink:href=\"#DejaVuSans-1084\"/>\n     <use x=\"2295.898438\" xlink:href=\"#DejaVuSans-1077\"/>\n     <use x=\"2357.421875\" xlink:href=\"#DejaVuSans-1090\"/>\n     <use x=\"2415.673828\" xlink:href=\"#DejaVuSans-1088\"/>\n     <use x=\"2479.150391\" xlink:href=\"#DejaVuSans-1080\"/>\n     <use x=\"2544.140625\" xlink:href=\"#DejaVuSans-1082\"/>\n     <use x=\"2604.541016\" xlink:href=\"#DejaVuSans-1080\"/>\n    </g>\n   </g>\n   <g id=\"legend_1\">\n    <g id=\"patch_7\">\n     <path d=\"M 186.922812 234.258125 \nL 275.486563 234.258125 \nQ 277.686563 234.258125 277.686563 232.058125 \nL 277.686563 183.7525 \nQ 277.686563 181.5525 275.486563 181.5525 \nL 186.922812 181.5525 \nQ 184.722813 181.5525 184.722813 183.7525 \nL 184.722813 232.058125 \nQ 184.722813 234.258125 186.922812 234.258125 \nz\n\" style=\"fill:#eaeaf2;opacity:0.8;stroke:#cccccc;stroke-linejoin:miter;\"/>\n    </g>\n    <g id=\"text_21\">\n     <!-- metric -->\n     <defs>\n      <path d=\"M 52 44.1875 \nQ 55.375 50.25 60.0625 53.125 \nQ 64.75 56 71.09375 56 \nQ 79.640625 56 84.28125 50.015625 \nQ 88.921875 44.046875 88.921875 33.015625 \nL 88.921875 0 \nL 79.890625 0 \nL 79.890625 32.71875 \nQ 79.890625 40.578125 77.09375 44.375 \nQ 74.3125 48.1875 68.609375 48.1875 \nQ 61.625 48.1875 57.5625 43.546875 \nQ 53.515625 38.921875 53.515625 30.90625 \nL 53.515625 0 \nL 44.484375 0 \nL 44.484375 32.71875 \nQ 44.484375 40.625 41.703125 44.40625 \nQ 38.921875 48.1875 33.109375 48.1875 \nQ 26.21875 48.1875 22.15625 43.53125 \nQ 18.109375 38.875 18.109375 30.90625 \nL 18.109375 0 \nL 9.078125 0 \nL 9.078125 54.6875 \nL 18.109375 54.6875 \nL 18.109375 46.1875 \nQ 21.1875 51.21875 25.484375 53.609375 \nQ 29.78125 56 35.6875 56 \nQ 41.65625 56 45.828125 52.96875 \nQ 50 49.953125 52 44.1875 \nz\n\" id=\"DejaVuSans-109\"/>\n      <path d=\"M 56.203125 29.59375 \nL 56.203125 25.203125 \nL 14.890625 25.203125 \nQ 15.484375 15.921875 20.484375 11.0625 \nQ 25.484375 6.203125 34.421875 6.203125 \nQ 39.59375 6.203125 44.453125 7.46875 \nQ 49.3125 8.734375 54.109375 11.28125 \nL 54.109375 2.78125 \nQ 49.265625 0.734375 44.1875 -0.34375 \nQ 39.109375 -1.421875 33.890625 -1.421875 \nQ 20.796875 -1.421875 13.15625 6.1875 \nQ 5.515625 13.8125 5.515625 26.8125 \nQ 5.515625 40.234375 12.765625 48.109375 \nQ 20.015625 56 32.328125 56 \nQ 43.359375 56 49.78125 48.890625 \nQ 56.203125 41.796875 56.203125 29.59375 \nz\nM 47.21875 32.234375 \nQ 47.125 39.59375 43.09375 43.984375 \nQ 39.0625 48.390625 32.421875 48.390625 \nQ 24.90625 48.390625 20.390625 44.140625 \nQ 15.875 39.890625 15.1875 32.171875 \nz\n\" id=\"DejaVuSans-101\"/>\n      <path d=\"M 18.3125 70.21875 \nL 18.3125 54.6875 \nL 36.8125 54.6875 \nL 36.8125 47.703125 \nL 18.3125 47.703125 \nL 18.3125 18.015625 \nQ 18.3125 11.328125 20.140625 9.421875 \nQ 21.96875 7.515625 27.59375 7.515625 \nL 36.8125 7.515625 \nL 36.8125 0 \nL 27.59375 0 \nQ 17.1875 0 13.234375 3.875 \nQ 9.28125 7.765625 9.28125 18.015625 \nL 9.28125 47.703125 \nL 2.6875 47.703125 \nL 2.6875 54.6875 \nL 9.28125 54.6875 \nL 9.28125 70.21875 \nz\n\" id=\"DejaVuSans-116\"/>\n      <path d=\"M 9.421875 54.6875 \nL 18.40625 54.6875 \nL 18.40625 0 \nL 9.421875 0 \nz\nM 9.421875 75.984375 \nL 18.40625 75.984375 \nL 18.40625 64.59375 \nL 9.421875 64.59375 \nz\n\" id=\"DejaVuSans-105\"/>\n     </defs>\n     <g style=\"fill:#262626;\" transform=\"translate(211.88375 195.070625)scale(0.12 -0.12)\">\n      <use xlink:href=\"#DejaVuSans-109\"/>\n      <use x=\"97.412109\" xlink:href=\"#DejaVuSans-101\"/>\n      <use x=\"158.935547\" xlink:href=\"#DejaVuSans-116\"/>\n      <use x=\"198.144531\" xlink:href=\"#DejaVuSans-114\"/>\n      <use x=\"239.257812\" xlink:href=\"#DejaVuSans-105\"/>\n      <use x=\"267.041016\" xlink:href=\"#DejaVuSans-99\"/>\n     </g>\n    </g>\n    <g id=\"line2d_20\">\n     <path d=\"M 189.122813 207.574531 \nL 211.122813 207.574531 \n\" style=\"fill:none;stroke:#ff0000;stroke-linecap:round;stroke-width:1.5;\"/>\n    </g>\n    <g id=\"line2d_21\"/>\n    <g id=\"text_22\">\n     <!-- euclidean -->\n     <defs>\n      <path d=\"M 9.421875 75.984375 \nL 18.40625 75.984375 \nL 18.40625 0 \nL 9.421875 0 \nz\n\" id=\"DejaVuSans-108\"/>\n      <path d=\"M 45.40625 46.390625 \nL 45.40625 75.984375 \nL 54.390625 75.984375 \nL 54.390625 0 \nL 45.40625 0 \nL 45.40625 8.203125 \nQ 42.578125 3.328125 38.25 0.953125 \nQ 33.9375 -1.421875 27.875 -1.421875 \nQ 17.96875 -1.421875 11.734375 6.484375 \nQ 5.515625 14.40625 5.515625 27.296875 \nQ 5.515625 40.1875 11.734375 48.09375 \nQ 17.96875 56 27.875 56 \nQ 33.9375 56 38.25 53.625 \nQ 42.578125 51.265625 45.40625 46.390625 \nz\nM 14.796875 27.296875 \nQ 14.796875 17.390625 18.875 11.75 \nQ 22.953125 6.109375 30.078125 6.109375 \nQ 37.203125 6.109375 41.296875 11.75 \nQ 45.40625 17.390625 45.40625 27.296875 \nQ 45.40625 37.203125 41.296875 42.84375 \nQ 37.203125 48.484375 30.078125 48.484375 \nQ 22.953125 48.484375 18.875 42.84375 \nQ 14.796875 37.203125 14.796875 27.296875 \nz\n\" id=\"DejaVuSans-100\"/>\n      <path d=\"M 54.890625 33.015625 \nL 54.890625 0 \nL 45.90625 0 \nL 45.90625 32.71875 \nQ 45.90625 40.484375 42.875 44.328125 \nQ 39.84375 48.1875 33.796875 48.1875 \nQ 26.515625 48.1875 22.3125 43.546875 \nQ 18.109375 38.921875 18.109375 30.90625 \nL 18.109375 0 \nL 9.078125 0 \nL 9.078125 54.6875 \nL 18.109375 54.6875 \nL 18.109375 46.1875 \nQ 21.34375 51.125 25.703125 53.5625 \nQ 30.078125 56 35.796875 56 \nQ 45.21875 56 50.046875 50.171875 \nQ 54.890625 44.34375 54.890625 33.015625 \nz\n\" id=\"DejaVuSans-110\"/>\n     </defs>\n     <g style=\"fill:#262626;\" transform=\"translate(219.922813 211.424531)scale(0.11 -0.11)\">\n      <use xlink:href=\"#DejaVuSans-101\"/>\n      <use x=\"61.523438\" xlink:href=\"#DejaVuSans-117\"/>\n      <use x=\"124.902344\" xlink:href=\"#DejaVuSans-99\"/>\n      <use x=\"179.882812\" xlink:href=\"#DejaVuSans-108\"/>\n      <use x=\"207.666016\" xlink:href=\"#DejaVuSans-105\"/>\n      <use x=\"235.449219\" xlink:href=\"#DejaVuSans-100\"/>\n      <use x=\"298.925781\" xlink:href=\"#DejaVuSans-101\"/>\n      <use x=\"360.449219\" xlink:href=\"#DejaVuSans-97\"/>\n      <use x=\"421.728516\" xlink:href=\"#DejaVuSans-110\"/>\n     </g>\n    </g>\n    <g id=\"line2d_22\">\n     <path d=\"M 189.122813 223.720469 \nL 211.122813 223.720469 \n\" style=\"fill:none;stroke:#0000ff;stroke-linecap:round;stroke-width:1.5;\"/>\n    </g>\n    <g id=\"line2d_23\"/>\n    <g id=\"text_23\">\n     <!-- cosine -->\n     <defs>\n      <path d=\"M 30.609375 48.390625 \nQ 23.390625 48.390625 19.1875 42.75 \nQ 14.984375 37.109375 14.984375 27.296875 \nQ 14.984375 17.484375 19.15625 11.84375 \nQ 23.34375 6.203125 30.609375 6.203125 \nQ 37.796875 6.203125 41.984375 11.859375 \nQ 46.1875 17.53125 46.1875 27.296875 \nQ 46.1875 37.015625 41.984375 42.703125 \nQ 37.796875 48.390625 30.609375 48.390625 \nz\nM 30.609375 56 \nQ 42.328125 56 49.015625 48.375 \nQ 55.71875 40.765625 55.71875 27.296875 \nQ 55.71875 13.875 49.015625 6.21875 \nQ 42.328125 -1.421875 30.609375 -1.421875 \nQ 18.84375 -1.421875 12.171875 6.21875 \nQ 5.515625 13.875 5.515625 27.296875 \nQ 5.515625 40.765625 12.171875 48.375 \nQ 18.84375 56 30.609375 56 \nz\n\" id=\"DejaVuSans-111\"/>\n      <path d=\"M 44.28125 53.078125 \nL 44.28125 44.578125 \nQ 40.484375 46.53125 36.375 47.5 \nQ 32.28125 48.484375 27.875 48.484375 \nQ 21.1875 48.484375 17.84375 46.4375 \nQ 14.5 44.390625 14.5 40.28125 \nQ 14.5 37.15625 16.890625 35.375 \nQ 19.28125 33.59375 26.515625 31.984375 \nL 29.59375 31.296875 \nQ 39.15625 29.25 43.1875 25.515625 \nQ 47.21875 21.78125 47.21875 15.09375 \nQ 47.21875 7.46875 41.1875 3.015625 \nQ 35.15625 -1.421875 24.609375 -1.421875 \nQ 20.21875 -1.421875 15.453125 -0.5625 \nQ 10.6875 0.296875 5.421875 2 \nL 5.421875 11.28125 \nQ 10.40625 8.6875 15.234375 7.390625 \nQ 20.0625 6.109375 24.8125 6.109375 \nQ 31.15625 6.109375 34.5625 8.28125 \nQ 37.984375 10.453125 37.984375 14.40625 \nQ 37.984375 18.0625 35.515625 20.015625 \nQ 33.0625 21.96875 24.703125 23.78125 \nL 21.578125 24.515625 \nQ 13.234375 26.265625 9.515625 29.90625 \nQ 5.8125 33.546875 5.8125 39.890625 \nQ 5.8125 47.609375 11.28125 51.796875 \nQ 16.75 56 26.8125 56 \nQ 31.78125 56 36.171875 55.265625 \nQ 40.578125 54.546875 44.28125 53.078125 \nz\n\" id=\"DejaVuSans-115\"/>\n     </defs>\n     <g style=\"fill:#262626;\" transform=\"translate(219.922813 227.570469)scale(0.11 -0.11)\">\n      <use xlink:href=\"#DejaVuSans-99\"/>\n      <use x=\"54.980469\" xlink:href=\"#DejaVuSans-111\"/>\n      <use x=\"116.162109\" xlink:href=\"#DejaVuSans-115\"/>\n      <use x=\"168.261719\" xlink:href=\"#DejaVuSans-105\"/>\n      <use x=\"196.044922\" xlink:href=\"#DejaVuSans-110\"/>\n      <use x=\"259.423828\" xlink:href=\"#DejaVuSans-101\"/>\n     </g>\n    </g>\n   </g>\n  </g>\n </g>\n <defs>\n  <clipPath id=\"pe3d2e5540d\">\n   <rect height=\"217.44\" width=\"334.8\" x=\"63.804688\" y=\"22.318125\"/>\n  </clipPath>\n </defs>\n</svg>\n"
          },
          "metadata": {}
        }
      ]
    },
    {
      "cell_type": "code",
      "metadata": {
        "id": "R9kkgbo2dVHX"
      },
      "source": [
        "params = {\n",
        "    'metric': 'euclidean',\n",
        "    'strategy': 'brute',\n",
        "}\n",
        "array1 = []\n",
        "for k in range(1, 11):\n",
        "    print(f'{k} neighbours are used', end='')\n",
        "    start = time.time()\n",
        "    clf1 = nearest_neighbors.KNNClassifier(**params)\n",
        "    clf1.fit(data, target)\n",
        "    clf1.find_kneighbors(data_test, True)\n",
        "    end = time.time()\n",
        "    array1.append(end - start)\n",
        "    print(', time is:', end - start)\n",
        "\n",
        "array2 = []\n",
        "params['metric'] = 'cosine'\n",
        "for k in range(1, 11):\n",
        "    print(f'{k} neighbours are used', end='')\n",
        "    start = time.time()\n",
        "    clf1 = nearest_neighbors.KNNClassifier(**params)\n",
        "    clf1.fit(data, target)\n",
        "    clf1.find_kneighbors(data_test, True)\n",
        "    end = time.time()\n",
        "    array2.append(end - start)\n",
        "    print(', time is:', end - start)"
      ],
      "execution_count": null,
      "outputs": []
    },
    {
      "cell_type": "code",
      "metadata": {
        "colab": {
          "base_uri": "https://localhost:8080/",
          "height": 398
        },
        "id": "Lho-NZD7f2L1",
        "outputId": "d7e92285-bb8b-4751-d8b7-b50bb4c12420"
      },
      "source": [
        "g = sns.lineplot(x=k_axis, y=array1, color='red', label='euclidean')\n",
        "sns.lineplot(x=k_axis, y=array2, color='blue', label='cosine')\n",
        "plt.title('время выполнения в зависимости от k и метрики')\n",
        "plt.xlabel('k')\n",
        "plt.ylabel('time, s')\n",
        "g.set_xticks(k_axis)\n",
        "plt.legend(title='metric')\n",
        "plt.savefig('task22.pdf')\n",
        "plt.show()"
      ],
      "execution_count": 141,
      "outputs": [
        {
          "output_type": "display_data",
          "data": {
            "text/plain": [
              "<Figure size 432x288 with 1 Axes>"
            ],
            "image/svg+xml": "<?xml version=\"1.0\" encoding=\"utf-8\" standalone=\"no\"?>\n<!DOCTYPE svg PUBLIC \"-//W3C//DTD SVG 1.1//EN\"\n  \"http://www.w3.org/Graphics/SVG/1.1/DTD/svg11.dtd\">\n<!-- Created with matplotlib (https://matplotlib.org/) -->\n<svg height=\"282.717813pt\" version=\"1.1\" viewBox=\"0 0 398.805937 282.717813\" width=\"398.805937pt\" xmlns=\"http://www.w3.org/2000/svg\" xmlns:xlink=\"http://www.w3.org/1999/xlink\">\n <defs>\n  <style type=\"text/css\">\n*{stroke-linecap:butt;stroke-linejoin:round;}\n  </style>\n </defs>\n <g id=\"figure_1\">\n  <g id=\"patch_1\">\n   <path d=\"M 0 282.717813 \nL 398.805937 282.717813 \nL 398.805937 0 \nL 0 0 \nz\n\" style=\"fill:#ffffff;\"/>\n  </g>\n  <g id=\"axes_1\">\n   <g id=\"patch_2\">\n    <path d=\"M 56.805937 239.758125 \nL 391.605938 239.758125 \nL 391.605938 22.318125 \nL 56.805937 22.318125 \nz\n\" style=\"fill:#eaeaf2;\"/>\n   </g>\n   <g id=\"matplotlib.axis_1\">\n    <g id=\"xtick_1\">\n     <g id=\"line2d_1\">\n      <path clip-path=\"url(#p4b59ad816e)\" d=\"M 72.024119 239.758125 \nL 72.024119 22.318125 \n\" style=\"fill:none;stroke:#ffffff;stroke-linecap:round;\"/>\n     </g>\n     <g id=\"text_1\">\n      <!-- 1 -->\n      <defs>\n       <path d=\"M 12.40625 8.296875 \nL 28.515625 8.296875 \nL 28.515625 63.921875 \nL 10.984375 60.40625 \nL 10.984375 69.390625 \nL 28.421875 72.90625 \nL 38.28125 72.90625 \nL 38.28125 8.296875 \nL 54.390625 8.296875 \nL 54.390625 0 \nL 12.40625 0 \nz\n\" id=\"DejaVuSans-49\"/>\n      </defs>\n      <g style=\"fill:#262626;\" transform=\"translate(68.524744 257.616406)scale(0.11 -0.11)\">\n       <use xlink:href=\"#DejaVuSans-49\"/>\n      </g>\n     </g>\n    </g>\n    <g id=\"xtick_2\">\n     <g id=\"line2d_2\">\n      <path clip-path=\"url(#p4b59ad816e)\" d=\"M 105.842301 239.758125 \nL 105.842301 22.318125 \n\" style=\"fill:none;stroke:#ffffff;stroke-linecap:round;\"/>\n     </g>\n     <g id=\"text_2\">\n      <!-- 2 -->\n      <defs>\n       <path d=\"M 19.1875 8.296875 \nL 53.609375 8.296875 \nL 53.609375 0 \nL 7.328125 0 \nL 7.328125 8.296875 \nQ 12.9375 14.109375 22.625 23.890625 \nQ 32.328125 33.6875 34.8125 36.53125 \nQ 39.546875 41.84375 41.421875 45.53125 \nQ 43.3125 49.21875 43.3125 52.78125 \nQ 43.3125 58.59375 39.234375 62.25 \nQ 35.15625 65.921875 28.609375 65.921875 \nQ 23.96875 65.921875 18.8125 64.3125 \nQ 13.671875 62.703125 7.8125 59.421875 \nL 7.8125 69.390625 \nQ 13.765625 71.78125 18.9375 73 \nQ 24.125 74.21875 28.421875 74.21875 \nQ 39.75 74.21875 46.484375 68.546875 \nQ 53.21875 62.890625 53.21875 53.421875 \nQ 53.21875 48.921875 51.53125 44.890625 \nQ 49.859375 40.875 45.40625 35.40625 \nQ 44.1875 33.984375 37.640625 27.21875 \nQ 31.109375 20.453125 19.1875 8.296875 \nz\n\" id=\"DejaVuSans-50\"/>\n      </defs>\n      <g style=\"fill:#262626;\" transform=\"translate(102.342926 257.616406)scale(0.11 -0.11)\">\n       <use xlink:href=\"#DejaVuSans-50\"/>\n      </g>\n     </g>\n    </g>\n    <g id=\"xtick_3\">\n     <g id=\"line2d_3\">\n      <path clip-path=\"url(#p4b59ad816e)\" d=\"M 139.660483 239.758125 \nL 139.660483 22.318125 \n\" style=\"fill:none;stroke:#ffffff;stroke-linecap:round;\"/>\n     </g>\n     <g id=\"text_3\">\n      <!-- 3 -->\n      <defs>\n       <path d=\"M 40.578125 39.3125 \nQ 47.65625 37.796875 51.625 33 \nQ 55.609375 28.21875 55.609375 21.1875 \nQ 55.609375 10.40625 48.1875 4.484375 \nQ 40.765625 -1.421875 27.09375 -1.421875 \nQ 22.515625 -1.421875 17.65625 -0.515625 \nQ 12.796875 0.390625 7.625 2.203125 \nL 7.625 11.71875 \nQ 11.71875 9.328125 16.59375 8.109375 \nQ 21.484375 6.890625 26.8125 6.890625 \nQ 36.078125 6.890625 40.9375 10.546875 \nQ 45.796875 14.203125 45.796875 21.1875 \nQ 45.796875 27.640625 41.28125 31.265625 \nQ 36.765625 34.90625 28.71875 34.90625 \nL 20.21875 34.90625 \nL 20.21875 43.015625 \nL 29.109375 43.015625 \nQ 36.375 43.015625 40.234375 45.921875 \nQ 44.09375 48.828125 44.09375 54.296875 \nQ 44.09375 59.90625 40.109375 62.90625 \nQ 36.140625 65.921875 28.71875 65.921875 \nQ 24.65625 65.921875 20.015625 65.03125 \nQ 15.375 64.15625 9.8125 62.3125 \nL 9.8125 71.09375 \nQ 15.4375 72.65625 20.34375 73.4375 \nQ 25.25 74.21875 29.59375 74.21875 \nQ 40.828125 74.21875 47.359375 69.109375 \nQ 53.90625 64.015625 53.90625 55.328125 \nQ 53.90625 49.265625 50.4375 45.09375 \nQ 46.96875 40.921875 40.578125 39.3125 \nz\n\" id=\"DejaVuSans-51\"/>\n      </defs>\n      <g style=\"fill:#262626;\" transform=\"translate(136.161108 257.616406)scale(0.11 -0.11)\">\n       <use xlink:href=\"#DejaVuSans-51\"/>\n      </g>\n     </g>\n    </g>\n    <g id=\"xtick_4\">\n     <g id=\"line2d_4\">\n      <path clip-path=\"url(#p4b59ad816e)\" d=\"M 173.478665 239.758125 \nL 173.478665 22.318125 \n\" style=\"fill:none;stroke:#ffffff;stroke-linecap:round;\"/>\n     </g>\n     <g id=\"text_4\">\n      <!-- 4 -->\n      <defs>\n       <path d=\"M 37.796875 64.3125 \nL 12.890625 25.390625 \nL 37.796875 25.390625 \nz\nM 35.203125 72.90625 \nL 47.609375 72.90625 \nL 47.609375 25.390625 \nL 58.015625 25.390625 \nL 58.015625 17.1875 \nL 47.609375 17.1875 \nL 47.609375 0 \nL 37.796875 0 \nL 37.796875 17.1875 \nL 4.890625 17.1875 \nL 4.890625 26.703125 \nz\n\" id=\"DejaVuSans-52\"/>\n      </defs>\n      <g style=\"fill:#262626;\" transform=\"translate(169.97929 257.616406)scale(0.11 -0.11)\">\n       <use xlink:href=\"#DejaVuSans-52\"/>\n      </g>\n     </g>\n    </g>\n    <g id=\"xtick_5\">\n     <g id=\"line2d_5\">\n      <path clip-path=\"url(#p4b59ad816e)\" d=\"M 207.296847 239.758125 \nL 207.296847 22.318125 \n\" style=\"fill:none;stroke:#ffffff;stroke-linecap:round;\"/>\n     </g>\n     <g id=\"text_5\">\n      <!-- 5 -->\n      <defs>\n       <path d=\"M 10.796875 72.90625 \nL 49.515625 72.90625 \nL 49.515625 64.59375 \nL 19.828125 64.59375 \nL 19.828125 46.734375 \nQ 21.96875 47.46875 24.109375 47.828125 \nQ 26.265625 48.1875 28.421875 48.1875 \nQ 40.625 48.1875 47.75 41.5 \nQ 54.890625 34.8125 54.890625 23.390625 \nQ 54.890625 11.625 47.5625 5.09375 \nQ 40.234375 -1.421875 26.90625 -1.421875 \nQ 22.3125 -1.421875 17.546875 -0.640625 \nQ 12.796875 0.140625 7.71875 1.703125 \nL 7.71875 11.625 \nQ 12.109375 9.234375 16.796875 8.0625 \nQ 21.484375 6.890625 26.703125 6.890625 \nQ 35.15625 6.890625 40.078125 11.328125 \nQ 45.015625 15.765625 45.015625 23.390625 \nQ 45.015625 31 40.078125 35.4375 \nQ 35.15625 39.890625 26.703125 39.890625 \nQ 22.75 39.890625 18.8125 39.015625 \nQ 14.890625 38.140625 10.796875 36.28125 \nz\n\" id=\"DejaVuSans-53\"/>\n      </defs>\n      <g style=\"fill:#262626;\" transform=\"translate(203.797472 257.616406)scale(0.11 -0.11)\">\n       <use xlink:href=\"#DejaVuSans-53\"/>\n      </g>\n     </g>\n    </g>\n    <g id=\"xtick_6\">\n     <g id=\"line2d_6\">\n      <path clip-path=\"url(#p4b59ad816e)\" d=\"M 241.115028 239.758125 \nL 241.115028 22.318125 \n\" style=\"fill:none;stroke:#ffffff;stroke-linecap:round;\"/>\n     </g>\n     <g id=\"text_6\">\n      <!-- 6 -->\n      <defs>\n       <path d=\"M 33.015625 40.375 \nQ 26.375 40.375 22.484375 35.828125 \nQ 18.609375 31.296875 18.609375 23.390625 \nQ 18.609375 15.53125 22.484375 10.953125 \nQ 26.375 6.390625 33.015625 6.390625 \nQ 39.65625 6.390625 43.53125 10.953125 \nQ 47.40625 15.53125 47.40625 23.390625 \nQ 47.40625 31.296875 43.53125 35.828125 \nQ 39.65625 40.375 33.015625 40.375 \nz\nM 52.59375 71.296875 \nL 52.59375 62.3125 \nQ 48.875 64.0625 45.09375 64.984375 \nQ 41.3125 65.921875 37.59375 65.921875 \nQ 27.828125 65.921875 22.671875 59.328125 \nQ 17.53125 52.734375 16.796875 39.40625 \nQ 19.671875 43.65625 24.015625 45.921875 \nQ 28.375 48.1875 33.59375 48.1875 \nQ 44.578125 48.1875 50.953125 41.515625 \nQ 57.328125 34.859375 57.328125 23.390625 \nQ 57.328125 12.15625 50.6875 5.359375 \nQ 44.046875 -1.421875 33.015625 -1.421875 \nQ 20.359375 -1.421875 13.671875 8.265625 \nQ 6.984375 17.96875 6.984375 36.375 \nQ 6.984375 53.65625 15.1875 63.9375 \nQ 23.390625 74.21875 37.203125 74.21875 \nQ 40.921875 74.21875 44.703125 73.484375 \nQ 48.484375 72.75 52.59375 71.296875 \nz\n\" id=\"DejaVuSans-54\"/>\n      </defs>\n      <g style=\"fill:#262626;\" transform=\"translate(237.615653 257.616406)scale(0.11 -0.11)\">\n       <use xlink:href=\"#DejaVuSans-54\"/>\n      </g>\n     </g>\n    </g>\n    <g id=\"xtick_7\">\n     <g id=\"line2d_7\">\n      <path clip-path=\"url(#p4b59ad816e)\" d=\"M 274.93321 239.758125 \nL 274.93321 22.318125 \n\" style=\"fill:none;stroke:#ffffff;stroke-linecap:round;\"/>\n     </g>\n     <g id=\"text_7\">\n      <!-- 7 -->\n      <defs>\n       <path d=\"M 8.203125 72.90625 \nL 55.078125 72.90625 \nL 55.078125 68.703125 \nL 28.609375 0 \nL 18.3125 0 \nL 43.21875 64.59375 \nL 8.203125 64.59375 \nz\n\" id=\"DejaVuSans-55\"/>\n      </defs>\n      <g style=\"fill:#262626;\" transform=\"translate(271.433835 257.616406)scale(0.11 -0.11)\">\n       <use xlink:href=\"#DejaVuSans-55\"/>\n      </g>\n     </g>\n    </g>\n    <g id=\"xtick_8\">\n     <g id=\"line2d_8\">\n      <path clip-path=\"url(#p4b59ad816e)\" d=\"M 308.751392 239.758125 \nL 308.751392 22.318125 \n\" style=\"fill:none;stroke:#ffffff;stroke-linecap:round;\"/>\n     </g>\n     <g id=\"text_8\">\n      <!-- 8 -->\n      <defs>\n       <path d=\"M 31.78125 34.625 \nQ 24.75 34.625 20.71875 30.859375 \nQ 16.703125 27.09375 16.703125 20.515625 \nQ 16.703125 13.921875 20.71875 10.15625 \nQ 24.75 6.390625 31.78125 6.390625 \nQ 38.8125 6.390625 42.859375 10.171875 \nQ 46.921875 13.96875 46.921875 20.515625 \nQ 46.921875 27.09375 42.890625 30.859375 \nQ 38.875 34.625 31.78125 34.625 \nz\nM 21.921875 38.8125 \nQ 15.578125 40.375 12.03125 44.71875 \nQ 8.5 49.078125 8.5 55.328125 \nQ 8.5 64.0625 14.71875 69.140625 \nQ 20.953125 74.21875 31.78125 74.21875 \nQ 42.671875 74.21875 48.875 69.140625 \nQ 55.078125 64.0625 55.078125 55.328125 \nQ 55.078125 49.078125 51.53125 44.71875 \nQ 48 40.375 41.703125 38.8125 \nQ 48.828125 37.15625 52.796875 32.3125 \nQ 56.78125 27.484375 56.78125 20.515625 \nQ 56.78125 9.90625 50.3125 4.234375 \nQ 43.84375 -1.421875 31.78125 -1.421875 \nQ 19.734375 -1.421875 13.25 4.234375 \nQ 6.78125 9.90625 6.78125 20.515625 \nQ 6.78125 27.484375 10.78125 32.3125 \nQ 14.796875 37.15625 21.921875 38.8125 \nz\nM 18.3125 54.390625 \nQ 18.3125 48.734375 21.84375 45.5625 \nQ 25.390625 42.390625 31.78125 42.390625 \nQ 38.140625 42.390625 41.71875 45.5625 \nQ 45.3125 48.734375 45.3125 54.390625 \nQ 45.3125 60.0625 41.71875 63.234375 \nQ 38.140625 66.40625 31.78125 66.40625 \nQ 25.390625 66.40625 21.84375 63.234375 \nQ 18.3125 60.0625 18.3125 54.390625 \nz\n\" id=\"DejaVuSans-56\"/>\n      </defs>\n      <g style=\"fill:#262626;\" transform=\"translate(305.252017 257.616406)scale(0.11 -0.11)\">\n       <use xlink:href=\"#DejaVuSans-56\"/>\n      </g>\n     </g>\n    </g>\n    <g id=\"xtick_9\">\n     <g id=\"line2d_9\">\n      <path clip-path=\"url(#p4b59ad816e)\" d=\"M 342.569574 239.758125 \nL 342.569574 22.318125 \n\" style=\"fill:none;stroke:#ffffff;stroke-linecap:round;\"/>\n     </g>\n     <g id=\"text_9\">\n      <!-- 9 -->\n      <defs>\n       <path d=\"M 10.984375 1.515625 \nL 10.984375 10.5 \nQ 14.703125 8.734375 18.5 7.8125 \nQ 22.3125 6.890625 25.984375 6.890625 \nQ 35.75 6.890625 40.890625 13.453125 \nQ 46.046875 20.015625 46.78125 33.40625 \nQ 43.953125 29.203125 39.59375 26.953125 \nQ 35.25 24.703125 29.984375 24.703125 \nQ 19.046875 24.703125 12.671875 31.3125 \nQ 6.296875 37.9375 6.296875 49.421875 \nQ 6.296875 60.640625 12.9375 67.421875 \nQ 19.578125 74.21875 30.609375 74.21875 \nQ 43.265625 74.21875 49.921875 64.515625 \nQ 56.59375 54.828125 56.59375 36.375 \nQ 56.59375 19.140625 48.40625 8.859375 \nQ 40.234375 -1.421875 26.421875 -1.421875 \nQ 22.703125 -1.421875 18.890625 -0.6875 \nQ 15.09375 0.046875 10.984375 1.515625 \nz\nM 30.609375 32.421875 \nQ 37.25 32.421875 41.125 36.953125 \nQ 45.015625 41.5 45.015625 49.421875 \nQ 45.015625 57.28125 41.125 61.84375 \nQ 37.25 66.40625 30.609375 66.40625 \nQ 23.96875 66.40625 20.09375 61.84375 \nQ 16.21875 57.28125 16.21875 49.421875 \nQ 16.21875 41.5 20.09375 36.953125 \nQ 23.96875 32.421875 30.609375 32.421875 \nz\n\" id=\"DejaVuSans-57\"/>\n      </defs>\n      <g style=\"fill:#262626;\" transform=\"translate(339.070199 257.616406)scale(0.11 -0.11)\">\n       <use xlink:href=\"#DejaVuSans-57\"/>\n      </g>\n     </g>\n    </g>\n    <g id=\"xtick_10\">\n     <g id=\"line2d_10\">\n      <path clip-path=\"url(#p4b59ad816e)\" d=\"M 376.387756 239.758125 \nL 376.387756 22.318125 \n\" style=\"fill:none;stroke:#ffffff;stroke-linecap:round;\"/>\n     </g>\n     <g id=\"text_10\">\n      <!-- 10 -->\n      <defs>\n       <path d=\"M 31.78125 66.40625 \nQ 24.171875 66.40625 20.328125 58.90625 \nQ 16.5 51.421875 16.5 36.375 \nQ 16.5 21.390625 20.328125 13.890625 \nQ 24.171875 6.390625 31.78125 6.390625 \nQ 39.453125 6.390625 43.28125 13.890625 \nQ 47.125 21.390625 47.125 36.375 \nQ 47.125 51.421875 43.28125 58.90625 \nQ 39.453125 66.40625 31.78125 66.40625 \nz\nM 31.78125 74.21875 \nQ 44.046875 74.21875 50.515625 64.515625 \nQ 56.984375 54.828125 56.984375 36.375 \nQ 56.984375 17.96875 50.515625 8.265625 \nQ 44.046875 -1.421875 31.78125 -1.421875 \nQ 19.53125 -1.421875 13.0625 8.265625 \nQ 6.59375 17.96875 6.59375 36.375 \nQ 6.59375 54.828125 13.0625 64.515625 \nQ 19.53125 74.21875 31.78125 74.21875 \nz\n\" id=\"DejaVuSans-48\"/>\n      </defs>\n      <g style=\"fill:#262626;\" transform=\"translate(369.389006 257.616406)scale(0.11 -0.11)\">\n       <use xlink:href=\"#DejaVuSans-49\"/>\n       <use x=\"63.623047\" xlink:href=\"#DejaVuSans-48\"/>\n      </g>\n     </g>\n    </g>\n    <g id=\"text_11\">\n     <!-- k -->\n     <defs>\n      <path d=\"M 9.078125 75.984375 \nL 18.109375 75.984375 \nL 18.109375 31.109375 \nL 44.921875 54.6875 \nL 56.390625 54.6875 \nL 27.390625 29.109375 \nL 57.625 0 \nL 45.90625 0 \nL 18.109375 26.703125 \nL 18.109375 0 \nL 9.078125 0 \nz\n\" id=\"DejaVuSans-107\"/>\n     </defs>\n     <g style=\"fill:#262626;\" transform=\"translate(220.731563 273.022188)scale(0.12 -0.12)\">\n      <use xlink:href=\"#DejaVuSans-107\"/>\n     </g>\n    </g>\n   </g>\n   <g id=\"matplotlib.axis_2\">\n    <g id=\"ytick_1\">\n     <g id=\"line2d_11\">\n      <path clip-path=\"url(#p4b59ad816e)\" d=\"M 56.805937 226.468841 \nL 391.605938 226.468841 \n\" style=\"fill:none;stroke:#ffffff;stroke-linecap:round;\"/>\n     </g>\n     <g id=\"text_12\">\n      <!-- 19.6 -->\n      <defs>\n       <path d=\"M 10.6875 12.40625 \nL 21 12.40625 \nL 21 0 \nL 10.6875 0 \nz\n\" id=\"DejaVuSans-46\"/>\n      </defs>\n      <g style=\"fill:#262626;\" transform=\"translate(22.81375 230.647982)scale(0.11 -0.11)\">\n       <use xlink:href=\"#DejaVuSans-49\"/>\n       <use x=\"63.623047\" xlink:href=\"#DejaVuSans-57\"/>\n       <use x=\"127.246094\" xlink:href=\"#DejaVuSans-46\"/>\n       <use x=\"159.033203\" xlink:href=\"#DejaVuSans-54\"/>\n      </g>\n     </g>\n    </g>\n    <g id=\"ytick_2\">\n     <g id=\"line2d_12\">\n      <path clip-path=\"url(#p4b59ad816e)\" d=\"M 56.805937 184.23528 \nL 391.605938 184.23528 \n\" style=\"fill:none;stroke:#ffffff;stroke-linecap:round;\"/>\n     </g>\n     <g id=\"text_13\">\n      <!-- 19.8 -->\n      <g style=\"fill:#262626;\" transform=\"translate(22.81375 188.41442)scale(0.11 -0.11)\">\n       <use xlink:href=\"#DejaVuSans-49\"/>\n       <use x=\"63.623047\" xlink:href=\"#DejaVuSans-57\"/>\n       <use x=\"127.246094\" xlink:href=\"#DejaVuSans-46\"/>\n       <use x=\"159.033203\" xlink:href=\"#DejaVuSans-56\"/>\n      </g>\n     </g>\n    </g>\n    <g id=\"ytick_3\">\n     <g id=\"line2d_13\">\n      <path clip-path=\"url(#p4b59ad816e)\" d=\"M 56.805937 142.001718 \nL 391.605938 142.001718 \n\" style=\"fill:none;stroke:#ffffff;stroke-linecap:round;\"/>\n     </g>\n     <g id=\"text_14\">\n      <!-- 20.0 -->\n      <g style=\"fill:#262626;\" transform=\"translate(22.81375 146.180858)scale(0.11 -0.11)\">\n       <use xlink:href=\"#DejaVuSans-50\"/>\n       <use x=\"63.623047\" xlink:href=\"#DejaVuSans-48\"/>\n       <use x=\"127.246094\" xlink:href=\"#DejaVuSans-46\"/>\n       <use x=\"159.033203\" xlink:href=\"#DejaVuSans-48\"/>\n      </g>\n     </g>\n    </g>\n    <g id=\"ytick_4\">\n     <g id=\"line2d_14\">\n      <path clip-path=\"url(#p4b59ad816e)\" d=\"M 56.805937 99.768156 \nL 391.605938 99.768156 \n\" style=\"fill:none;stroke:#ffffff;stroke-linecap:round;\"/>\n     </g>\n     <g id=\"text_15\">\n      <!-- 20.2 -->\n      <g style=\"fill:#262626;\" transform=\"translate(22.81375 103.947297)scale(0.11 -0.11)\">\n       <use xlink:href=\"#DejaVuSans-50\"/>\n       <use x=\"63.623047\" xlink:href=\"#DejaVuSans-48\"/>\n       <use x=\"127.246094\" xlink:href=\"#DejaVuSans-46\"/>\n       <use x=\"159.033203\" xlink:href=\"#DejaVuSans-50\"/>\n      </g>\n     </g>\n    </g>\n    <g id=\"ytick_5\">\n     <g id=\"line2d_15\">\n      <path clip-path=\"url(#p4b59ad816e)\" d=\"M 56.805937 57.534594 \nL 391.605938 57.534594 \n\" style=\"fill:none;stroke:#ffffff;stroke-linecap:round;\"/>\n     </g>\n     <g id=\"text_16\">\n      <!-- 20.4 -->\n      <g style=\"fill:#262626;\" transform=\"translate(22.81375 61.713735)scale(0.11 -0.11)\">\n       <use xlink:href=\"#DejaVuSans-50\"/>\n       <use x=\"63.623047\" xlink:href=\"#DejaVuSans-48\"/>\n       <use x=\"127.246094\" xlink:href=\"#DejaVuSans-46\"/>\n       <use x=\"159.033203\" xlink:href=\"#DejaVuSans-52\"/>\n      </g>\n     </g>\n    </g>\n    <g id=\"text_17\">\n     <!-- time, s -->\n     <defs>\n      <path d=\"M 18.3125 70.21875 \nL 18.3125 54.6875 \nL 36.8125 54.6875 \nL 36.8125 47.703125 \nL 18.3125 47.703125 \nL 18.3125 18.015625 \nQ 18.3125 11.328125 20.140625 9.421875 \nQ 21.96875 7.515625 27.59375 7.515625 \nL 36.8125 7.515625 \nL 36.8125 0 \nL 27.59375 0 \nQ 17.1875 0 13.234375 3.875 \nQ 9.28125 7.765625 9.28125 18.015625 \nL 9.28125 47.703125 \nL 2.6875 47.703125 \nL 2.6875 54.6875 \nL 9.28125 54.6875 \nL 9.28125 70.21875 \nz\n\" id=\"DejaVuSans-116\"/>\n      <path d=\"M 9.421875 54.6875 \nL 18.40625 54.6875 \nL 18.40625 0 \nL 9.421875 0 \nz\nM 9.421875 75.984375 \nL 18.40625 75.984375 \nL 18.40625 64.59375 \nL 9.421875 64.59375 \nz\n\" id=\"DejaVuSans-105\"/>\n      <path d=\"M 52 44.1875 \nQ 55.375 50.25 60.0625 53.125 \nQ 64.75 56 71.09375 56 \nQ 79.640625 56 84.28125 50.015625 \nQ 88.921875 44.046875 88.921875 33.015625 \nL 88.921875 0 \nL 79.890625 0 \nL 79.890625 32.71875 \nQ 79.890625 40.578125 77.09375 44.375 \nQ 74.3125 48.1875 68.609375 48.1875 \nQ 61.625 48.1875 57.5625 43.546875 \nQ 53.515625 38.921875 53.515625 30.90625 \nL 53.515625 0 \nL 44.484375 0 \nL 44.484375 32.71875 \nQ 44.484375 40.625 41.703125 44.40625 \nQ 38.921875 48.1875 33.109375 48.1875 \nQ 26.21875 48.1875 22.15625 43.53125 \nQ 18.109375 38.875 18.109375 30.90625 \nL 18.109375 0 \nL 9.078125 0 \nL 9.078125 54.6875 \nL 18.109375 54.6875 \nL 18.109375 46.1875 \nQ 21.1875 51.21875 25.484375 53.609375 \nQ 29.78125 56 35.6875 56 \nQ 41.65625 56 45.828125 52.96875 \nQ 50 49.953125 52 44.1875 \nz\n\" id=\"DejaVuSans-109\"/>\n      <path d=\"M 56.203125 29.59375 \nL 56.203125 25.203125 \nL 14.890625 25.203125 \nQ 15.484375 15.921875 20.484375 11.0625 \nQ 25.484375 6.203125 34.421875 6.203125 \nQ 39.59375 6.203125 44.453125 7.46875 \nQ 49.3125 8.734375 54.109375 11.28125 \nL 54.109375 2.78125 \nQ 49.265625 0.734375 44.1875 -0.34375 \nQ 39.109375 -1.421875 33.890625 -1.421875 \nQ 20.796875 -1.421875 13.15625 6.1875 \nQ 5.515625 13.8125 5.515625 26.8125 \nQ 5.515625 40.234375 12.765625 48.109375 \nQ 20.015625 56 32.328125 56 \nQ 43.359375 56 49.78125 48.890625 \nQ 56.203125 41.796875 56.203125 29.59375 \nz\nM 47.21875 32.234375 \nQ 47.125 39.59375 43.09375 43.984375 \nQ 39.0625 48.390625 32.421875 48.390625 \nQ 24.90625 48.390625 20.390625 44.140625 \nQ 15.875 39.890625 15.1875 32.171875 \nz\n\" id=\"DejaVuSans-101\"/>\n      <path d=\"M 11.71875 12.40625 \nL 22.015625 12.40625 \nL 22.015625 4 \nL 14.015625 -11.625 \nL 7.71875 -11.625 \nL 11.71875 4 \nz\n\" id=\"DejaVuSans-44\"/>\n      <path id=\"DejaVuSans-32\"/>\n      <path d=\"M 44.28125 53.078125 \nL 44.28125 44.578125 \nQ 40.484375 46.53125 36.375 47.5 \nQ 32.28125 48.484375 27.875 48.484375 \nQ 21.1875 48.484375 17.84375 46.4375 \nQ 14.5 44.390625 14.5 40.28125 \nQ 14.5 37.15625 16.890625 35.375 \nQ 19.28125 33.59375 26.515625 31.984375 \nL 29.59375 31.296875 \nQ 39.15625 29.25 43.1875 25.515625 \nQ 47.21875 21.78125 47.21875 15.09375 \nQ 47.21875 7.46875 41.1875 3.015625 \nQ 35.15625 -1.421875 24.609375 -1.421875 \nQ 20.21875 -1.421875 15.453125 -0.5625 \nQ 10.6875 0.296875 5.421875 2 \nL 5.421875 11.28125 \nQ 10.40625 8.6875 15.234375 7.390625 \nQ 20.0625 6.109375 24.8125 6.109375 \nQ 31.15625 6.109375 34.5625 8.28125 \nQ 37.984375 10.453125 37.984375 14.40625 \nQ 37.984375 18.0625 35.515625 20.015625 \nQ 33.0625 21.96875 24.703125 23.78125 \nL 21.578125 24.515625 \nQ 13.234375 26.265625 9.515625 29.90625 \nQ 5.8125 33.546875 5.8125 39.890625 \nQ 5.8125 47.609375 11.28125 51.796875 \nQ 16.75 56 26.8125 56 \nQ 31.78125 56 36.171875 55.265625 \nQ 40.578125 54.546875 44.28125 53.078125 \nz\n\" id=\"DejaVuSans-115\"/>\n     </defs>\n     <g style=\"fill:#262626;\" transform=\"translate(16.318125 151.532813)rotate(-90)scale(0.12 -0.12)\">\n      <use xlink:href=\"#DejaVuSans-116\"/>\n      <use x=\"39.208984\" xlink:href=\"#DejaVuSans-105\"/>\n      <use x=\"66.992188\" xlink:href=\"#DejaVuSans-109\"/>\n      <use x=\"164.404297\" xlink:href=\"#DejaVuSans-101\"/>\n      <use x=\"225.927734\" xlink:href=\"#DejaVuSans-44\"/>\n      <use x=\"257.714844\" xlink:href=\"#DejaVuSans-32\"/>\n      <use x=\"289.501953\" xlink:href=\"#DejaVuSans-115\"/>\n     </g>\n    </g>\n   </g>\n   <g id=\"line2d_16\">\n    <path clip-path=\"url(#p4b59ad816e)\" d=\"M 72.024119 204.208132 \nL 105.842301 202.197853 \nL 139.660483 211.48378 \nL 173.478665 229.874489 \nL 207.296847 225.685674 \nL 241.115028 219.707853 \nL 274.93321 213.35173 \nL 308.751392 208.075434 \nL 342.569574 218.203505 \nL 376.387756 217.461803 \n\" style=\"fill:none;stroke:#ff0000;stroke-linecap:round;stroke-width:1.5;\"/>\n   </g>\n   <g id=\"line2d_17\">\n    <path clip-path=\"url(#p4b59ad816e)\" d=\"M 72.024119 54.952814 \nL 105.842301 32.201761 \nL 139.660483 50.562917 \nL 173.478665 40.734407 \nL 207.296847 46.806174 \nL 241.115028 48.201472 \nL 274.93321 53.79943 \nL 308.751392 34.441065 \nL 342.569574 51.903438 \nL 376.387756 62.086839 \n\" style=\"fill:none;stroke:#0000ff;stroke-linecap:round;stroke-width:1.5;\"/>\n   </g>\n   <g id=\"patch_3\">\n    <path d=\"M 56.805937 239.758125 \nL 56.805937 22.318125 \n\" style=\"fill:none;stroke:#ffffff;stroke-linecap:square;stroke-linejoin:miter;stroke-width:1.25;\"/>\n   </g>\n   <g id=\"patch_4\">\n    <path d=\"M 391.605938 239.758125 \nL 391.605938 22.318125 \n\" style=\"fill:none;stroke:#ffffff;stroke-linecap:square;stroke-linejoin:miter;stroke-width:1.25;\"/>\n   </g>\n   <g id=\"patch_5\">\n    <path d=\"M 56.805937 239.758125 \nL 391.605938 239.758125 \n\" style=\"fill:none;stroke:#ffffff;stroke-linecap:square;stroke-linejoin:miter;stroke-width:1.25;\"/>\n   </g>\n   <g id=\"patch_6\">\n    <path d=\"M 56.805937 22.318125 \nL 391.605938 22.318125 \n\" style=\"fill:none;stroke:#ffffff;stroke-linecap:square;stroke-linejoin:miter;stroke-width:1.25;\"/>\n   </g>\n   <g id=\"text_18\">\n    <!-- время выполнения в зависимости от k и метрики -->\n    <defs>\n     <path d=\"M 18.0625 25.203125 \nL 18.0625 7.171875 \nL 30.859375 7.171875 \nQ 37.015625 7.171875 40.234375 9.484375 \nQ 43.453125 11.8125 43.453125 16.21875 \nQ 43.453125 20.609375 40.234375 22.90625 \nQ 37.015625 25.203125 30.859375 25.203125 \nz\nM 18.0625 47.515625 \nL 18.0625 32.375 \nL 29.890625 32.375 \nQ 34.96875 32.375 38.1875 34.390625 \nQ 41.40625 36.421875 41.40625 40.046875 \nQ 41.40625 43.65625 38.1875 45.578125 \nQ 34.96875 47.515625 29.890625 47.515625 \nz\nM 9.078125 54.6875 \nL 30.46875 54.6875 \nQ 40.09375 54.6875 45.265625 51.171875 \nQ 50.4375 47.65625 50.4375 41.15625 \nQ 50.4375 36.140625 47.796875 33.171875 \nQ 45.171875 30.21875 39.984375 29.5 \nQ 46.1875 28.328125 49.609375 24.609375 \nQ 53.03125 20.90625 53.03125 15.328125 \nQ 53.03125 8.015625 47.390625 4 \nQ 41.75 0 31.296875 0 \nL 9.078125 0 \nz\n\" id=\"DejaVuSans-1074\"/>\n     <path d=\"M 18.109375 8.203125 \nL 18.109375 -20.796875 \nL 9.078125 -20.796875 \nL 9.078125 54.6875 \nL 18.109375 54.6875 \nL 18.109375 46.390625 \nQ 20.953125 51.265625 25.265625 53.625 \nQ 29.59375 56 35.59375 56 \nQ 45.5625 56 51.78125 48.09375 \nQ 58.015625 40.1875 58.015625 27.296875 \nQ 58.015625 14.40625 51.78125 6.484375 \nQ 45.5625 -1.421875 35.59375 -1.421875 \nQ 29.59375 -1.421875 25.265625 0.953125 \nQ 20.953125 3.328125 18.109375 8.203125 \nz\nM 48.6875 27.296875 \nQ 48.6875 37.203125 44.609375 42.84375 \nQ 40.53125 48.484375 33.40625 48.484375 \nQ 26.265625 48.484375 22.1875 42.84375 \nQ 18.109375 37.203125 18.109375 27.296875 \nQ 18.109375 17.390625 22.1875 11.75 \nQ 26.265625 6.109375 33.40625 6.109375 \nQ 40.53125 6.109375 44.609375 11.75 \nQ 48.6875 17.390625 48.6875 27.296875 \nz\n\" id=\"DejaVuSans-1088\"/>\n     <path d=\"M 56.203125 29.59375 \nL 56.203125 25.203125 \nL 14.890625 25.203125 \nQ 15.484375 15.921875 20.484375 11.0625 \nQ 25.484375 6.203125 34.421875 6.203125 \nQ 39.59375 6.203125 44.453125 7.46875 \nQ 49.3125 8.734375 54.109375 11.28125 \nL 54.109375 2.78125 \nQ 49.265625 0.734375 44.1875 -0.34375 \nQ 39.109375 -1.421875 33.890625 -1.421875 \nQ 20.796875 -1.421875 13.15625 6.1875 \nQ 5.515625 13.8125 5.515625 26.8125 \nQ 5.515625 40.234375 12.765625 48.109375 \nQ 20.015625 56 32.328125 56 \nQ 43.359375 56 49.78125 48.890625 \nQ 56.203125 41.796875 56.203125 29.59375 \nz\nM 47.21875 32.234375 \nQ 47.125 39.59375 43.09375 43.984375 \nQ 39.0625 48.390625 32.421875 48.390625 \nQ 24.90625 48.390625 20.390625 44.140625 \nQ 15.875 39.890625 15.1875 32.171875 \nz\n\" id=\"DejaVuSans-1077\"/>\n     <path d=\"M 9.078125 54.6875 \nL 22.21875 54.6875 \nL 37.75 18.0625 \nL 53.328125 54.6875 \nL 66.359375 54.6875 \nL 66.359375 0 \nL 57.328125 0 \nL 57.328125 46.09375 \nL 42.234375 10.5 \nL 33.25 10.5 \nL 18.109375 46.09375 \nL 18.109375 0 \nL 9.078125 0 \nz\n\" id=\"DejaVuSans-1084\"/>\n     <path d=\"M 18.453125 38.921875 \nQ 18.453125 34.859375 21.578125 32.5625 \nQ 24.703125 30.28125 30.515625 30.28125 \nL 42.625 30.28125 \nL 42.625 47.515625 \nL 30.515625 47.515625 \nQ 24.703125 47.515625 21.578125 45.265625 \nQ 18.453125 43.015625 18.453125 38.921875 \nz\nM 5.671875 0 \nL 22.359375 23.96875 \nQ 16.703125 25.25 12.9375 28.59375 \nQ 9.1875 31.9375 9.1875 38.921875 \nQ 9.1875 46.828125 14.421875 50.75 \nQ 19.671875 54.6875 30.28125 54.6875 \nL 51.65625 54.6875 \nL 51.65625 0 \nL 42.625 0 \nL 42.625 23.09375 \nL 31.453125 23.09375 \nL 15.328125 0 \nz\n\" id=\"DejaVuSans-1103\"/>\n     <path d=\"M 61.046875 54.6875 \nL 70.03125 54.6875 \nL 70.03125 0 \nL 61.046875 0 \nz\nM 65.546875 56 \nz\nM 43.453125 16.21875 \nQ 43.453125 20.609375 40.25 22.90625 \nQ 37.0625 25.203125 30.90625 25.203125 \nL 18.109375 25.203125 \nL 18.109375 7.171875 \nL 30.90625 7.171875 \nQ 37.0625 7.171875 40.25 9.484375 \nQ 43.453125 11.8125 43.453125 16.21875 \nz\nM 9.078125 54.6875 \nL 18.109375 54.6875 \nL 18.109375 32.375 \nL 31.296875 32.375 \nQ 41.75 32.375 47.390625 28.390625 \nQ 53.03125 24.421875 53.03125 16.21875 \nQ 53.03125 8.015625 47.390625 4 \nQ 41.75 0 31.296875 0 \nL 9.078125 0 \nz\n\" id=\"DejaVuSans-1099\"/>\n     <path d=\"M 56.296875 54.6875 \nL 56.296875 0 \nL 47.265625 0 \nL 47.265625 47.515625 \nL 18.109375 47.515625 \nL 18.109375 0 \nL 9.078125 0 \nL 9.078125 54.6875 \nz\n\" id=\"DejaVuSans-1087\"/>\n     <path d=\"M 30.609375 48.390625 \nQ 23.390625 48.390625 19.1875 42.75 \nQ 14.984375 37.109375 14.984375 27.296875 \nQ 14.984375 17.484375 19.15625 11.84375 \nQ 23.34375 6.203125 30.609375 6.203125 \nQ 37.796875 6.203125 41.984375 11.859375 \nQ 46.1875 17.53125 46.1875 27.296875 \nQ 46.1875 37.015625 41.984375 42.703125 \nQ 37.796875 48.390625 30.609375 48.390625 \nz\nM 30.609375 56 \nQ 42.328125 56 49.015625 48.375 \nQ 55.71875 40.765625 55.71875 27.296875 \nQ 55.71875 13.875 49.015625 6.21875 \nQ 42.328125 -1.421875 30.609375 -1.421875 \nQ 18.84375 -1.421875 12.171875 6.21875 \nQ 5.515625 13.875 5.515625 27.296875 \nQ 5.515625 40.765625 12.171875 48.375 \nQ 18.84375 56 30.609375 56 \nz\n\" id=\"DejaVuSans-1086\"/>\n     <path d=\"M 3.71875 0 \nL 3.71875 7.46875 \nQ 12.59375 8.84375 15.328125 14.984375 \nQ 18.65625 23.640625 18.65625 45.75 \nL 18.65625 54.6875 \nL 55.609375 54.6875 \nL 55.609375 0 \nL 46.625 0 \nL 46.625 47.515625 \nL 27.640625 47.515625 \nL 27.640625 42.09375 \nQ 27.640625 21 23.34375 11.53125 \nQ 18.75 1.421875 3.71875 0 \nz\n\" id=\"DejaVuSans-1083\"/>\n     <path d=\"M 9.078125 54.6875 \nL 18.109375 54.6875 \nL 18.109375 32.375 \nL 47.265625 32.375 \nL 47.265625 54.6875 \nL 56.296875 54.6875 \nL 56.296875 0 \nL 47.265625 0 \nL 47.265625 25.203125 \nL 18.109375 25.203125 \nL 18.109375 0 \nL 9.078125 0 \nz\n\" id=\"DejaVuSans-1085\"/>\n     <path d=\"M 55.90625 54.6875 \nL 55.90625 0 \nL 46.96875 0 \nL 46.96875 43.890625 \nL 20.609375 0 \nL 9.078125 0 \nL 9.078125 54.6875 \nL 18.015625 54.6875 \nL 18.015625 10.890625 \nL 44.34375 54.6875 \nz\n\" id=\"DejaVuSans-1080\"/>\n     <path d=\"M 34.46875 29.5 \nQ 40.53125 28.328125 43.890625 24.75 \nQ 47.265625 21.1875 47.265625 15.921875 \nQ 47.265625 7.46875 40.96875 3.015625 \nQ 34.671875 -1.421875 23.046875 -1.421875 \nQ 19.140625 -1.421875 15.015625 -0.734375 \nQ 10.890625 -0.046875 6.5 1.3125 \nL 6.5 9.671875 \nQ 9.96875 7.859375 14.109375 6.953125 \nQ 18.265625 6.0625 22.796875 6.0625 \nQ 30.171875 6.0625 34.296875 8.796875 \nQ 38.421875 11.53125 38.421875 15.921875 \nQ 38.421875 20.21875 34.765625 22.828125 \nQ 31.109375 25.4375 24.421875 25.4375 \nL 17.1875 25.4375 \nL 17.1875 32.859375 \nL 24.75 32.859375 \nQ 30.421875 32.859375 33.71875 35.03125 \nQ 37.015625 37.203125 37.015625 40.625 \nQ 37.015625 43.75 33.609375 46 \nQ 30.21875 48.25 24.421875 48.25 \nQ 20.953125 48.25 17.015625 47.609375 \nQ 13.09375 46.96875 8.34375 45.5625 \nL 8.34375 53.71875 \nQ 13.140625 54.890625 17.28125 55.46875 \nQ 21.4375 56.0625 25.140625 56.0625 \nQ 34.71875 56.0625 40.25 52.21875 \nQ 45.796875 48.390625 45.796875 41.5 \nQ 45.796875 36.96875 42.859375 33.8125 \nQ 39.9375 30.671875 34.46875 29.5 \nz\n\" id=\"DejaVuSans-1079\"/>\n     <path d=\"M 34.28125 27.484375 \nQ 23.390625 27.484375 19.1875 25 \nQ 14.984375 22.515625 14.984375 16.5 \nQ 14.984375 11.71875 18.140625 8.90625 \nQ 21.296875 6.109375 26.703125 6.109375 \nQ 34.1875 6.109375 38.703125 11.40625 \nQ 43.21875 16.703125 43.21875 25.484375 \nL 43.21875 27.484375 \nz\nM 52.203125 31.203125 \nL 52.203125 0 \nL 43.21875 0 \nL 43.21875 8.296875 \nQ 40.140625 3.328125 35.546875 0.953125 \nQ 30.953125 -1.421875 24.3125 -1.421875 \nQ 15.921875 -1.421875 10.953125 3.296875 \nQ 6 8.015625 6 15.921875 \nQ 6 25.140625 12.171875 29.828125 \nQ 18.359375 34.515625 30.609375 34.515625 \nL 43.21875 34.515625 \nL 43.21875 35.40625 \nQ 43.21875 41.609375 39.140625 45 \nQ 35.0625 48.390625 27.6875 48.390625 \nQ 23 48.390625 18.546875 47.265625 \nQ 14.109375 46.140625 10.015625 43.890625 \nL 10.015625 52.203125 \nQ 14.9375 54.109375 19.578125 55.046875 \nQ 24.21875 56 28.609375 56 \nQ 40.484375 56 46.34375 49.84375 \nQ 52.203125 43.703125 52.203125 31.203125 \nz\n\" id=\"DejaVuSans-1072\"/>\n     <path d=\"M 48.78125 52.59375 \nL 48.78125 44.1875 \nQ 44.96875 46.296875 41.140625 47.34375 \nQ 37.3125 48.390625 33.40625 48.390625 \nQ 24.65625 48.390625 19.8125 42.84375 \nQ 14.984375 37.3125 14.984375 27.296875 \nQ 14.984375 17.28125 19.8125 11.734375 \nQ 24.65625 6.203125 33.40625 6.203125 \nQ 37.3125 6.203125 41.140625 7.25 \nQ 44.96875 8.296875 48.78125 10.40625 \nL 48.78125 2.09375 \nQ 45.015625 0.34375 40.984375 -0.53125 \nQ 36.96875 -1.421875 32.421875 -1.421875 \nQ 20.0625 -1.421875 12.78125 6.34375 \nQ 5.515625 14.109375 5.515625 27.296875 \nQ 5.515625 40.671875 12.859375 48.328125 \nQ 20.21875 56 33.015625 56 \nQ 37.15625 56 41.109375 55.140625 \nQ 45.0625 54.296875 48.78125 52.59375 \nz\n\" id=\"DejaVuSans-1089\"/>\n     <path d=\"M 2.9375 54.6875 \nL 55.328125 54.6875 \nL 55.328125 47.515625 \nL 33.546875 47.515625 \nL 33.546875 0 \nL 24.703125 0 \nL 24.703125 47.515625 \nL 2.9375 47.515625 \nz\n\" id=\"DejaVuSans-1090\"/>\n     <path d=\"M 9.078125 54.6875 \nL 18.015625 54.6875 \nL 18.015625 29 \nL 43.359375 54.6875 \nL 54.390625 54.6875 \nL 33.5 33.546875 \nL 57.078125 0 \nL 47.015625 0 \nL 27.640625 27.59375 \nL 18.015625 17.828125 \nL 18.015625 0 \nL 9.078125 0 \nz\n\" id=\"DejaVuSans-1082\"/>\n    </defs>\n    <g style=\"fill:#262626;\" transform=\"translate(67.525313 16.318125)scale(0.12 -0.12)\">\n     <use xlink:href=\"#DejaVuSans-1074\"/>\n     <use x=\"58.935547\" xlink:href=\"#DejaVuSans-1088\"/>\n     <use x=\"122.412109\" xlink:href=\"#DejaVuSans-1077\"/>\n     <use x=\"183.935547\" xlink:href=\"#DejaVuSans-1084\"/>\n     <use x=\"259.375\" xlink:href=\"#DejaVuSans-1103\"/>\n     <use x=\"319.53125\" xlink:href=\"#DejaVuSans-32\"/>\n     <use x=\"351.318359\" xlink:href=\"#DejaVuSans-1074\"/>\n     <use x=\"410.253906\" xlink:href=\"#DejaVuSans-1099\"/>\n     <use x=\"489.208984\" xlink:href=\"#DejaVuSans-1087\"/>\n     <use x=\"554.589844\" xlink:href=\"#DejaVuSans-1086\"/>\n     <use x=\"615.771484\" xlink:href=\"#DejaVuSans-1083\"/>\n     <use x=\"679.6875\" xlink:href=\"#DejaVuSans-1085\"/>\n     <use x=\"745.068359\" xlink:href=\"#DejaVuSans-1077\"/>\n     <use x=\"806.591797\" xlink:href=\"#DejaVuSans-1085\"/>\n     <use x=\"871.972656\" xlink:href=\"#DejaVuSans-1080\"/>\n     <use x=\"936.962891\" xlink:href=\"#DejaVuSans-1103\"/>\n     <use x=\"997.119141\" xlink:href=\"#DejaVuSans-32\"/>\n     <use x=\"1028.90625\" xlink:href=\"#DejaVuSans-1074\"/>\n     <use x=\"1087.841797\" xlink:href=\"#DejaVuSans-32\"/>\n     <use x=\"1119.628906\" xlink:href=\"#DejaVuSans-1079\"/>\n     <use x=\"1172.802734\" xlink:href=\"#DejaVuSans-1072\"/>\n     <use x=\"1234.082031\" xlink:href=\"#DejaVuSans-1074\"/>\n     <use x=\"1293.017578\" xlink:href=\"#DejaVuSans-1080\"/>\n     <use x=\"1358.007812\" xlink:href=\"#DejaVuSans-1089\"/>\n     <use x=\"1412.988281\" xlink:href=\"#DejaVuSans-1080\"/>\n     <use x=\"1477.978516\" xlink:href=\"#DejaVuSans-1084\"/>\n     <use x=\"1553.417969\" xlink:href=\"#DejaVuSans-1086\"/>\n     <use x=\"1614.599609\" xlink:href=\"#DejaVuSans-1089\"/>\n     <use x=\"1669.580078\" xlink:href=\"#DejaVuSans-1090\"/>\n     <use x=\"1727.832031\" xlink:href=\"#DejaVuSans-1080\"/>\n     <use x=\"1792.822266\" xlink:href=\"#DejaVuSans-32\"/>\n     <use x=\"1824.609375\" xlink:href=\"#DejaVuSans-1086\"/>\n     <use x=\"1885.791016\" xlink:href=\"#DejaVuSans-1090\"/>\n     <use x=\"1944.042969\" xlink:href=\"#DejaVuSans-32\"/>\n     <use x=\"1975.830078\" xlink:href=\"#DejaVuSans-107\"/>\n     <use x=\"2033.740234\" xlink:href=\"#DejaVuSans-32\"/>\n     <use x=\"2065.527344\" xlink:href=\"#DejaVuSans-1080\"/>\n     <use x=\"2130.517578\" xlink:href=\"#DejaVuSans-32\"/>\n     <use x=\"2162.304688\" xlink:href=\"#DejaVuSans-1084\"/>\n     <use x=\"2237.744141\" xlink:href=\"#DejaVuSans-1077\"/>\n     <use x=\"2299.267578\" xlink:href=\"#DejaVuSans-1090\"/>\n     <use x=\"2357.519531\" xlink:href=\"#DejaVuSans-1088\"/>\n     <use x=\"2420.996094\" xlink:href=\"#DejaVuSans-1080\"/>\n     <use x=\"2485.986328\" xlink:href=\"#DejaVuSans-1082\"/>\n     <use x=\"2546.386719\" xlink:href=\"#DejaVuSans-1080\"/>\n    </g>\n   </g>\n   <g id=\"legend_1\">\n    <g id=\"patch_7\">\n     <path d=\"M 295.342188 157.390938 \nL 383.905938 157.390938 \nQ 386.105938 157.390938 386.105938 155.190938 \nL 386.105938 106.885312 \nQ 386.105938 104.685313 383.905938 104.685313 \nL 295.342188 104.685313 \nQ 293.142188 104.685313 293.142188 106.885312 \nL 293.142188 155.190938 \nQ 293.142188 157.390938 295.342188 157.390938 \nz\n\" style=\"fill:#eaeaf2;opacity:0.8;stroke:#cccccc;stroke-linejoin:miter;\"/>\n    </g>\n    <g id=\"text_19\">\n     <!-- metric -->\n     <defs>\n      <path d=\"M 41.109375 46.296875 \nQ 39.59375 47.171875 37.8125 47.578125 \nQ 36.03125 48 33.890625 48 \nQ 26.265625 48 22.1875 43.046875 \nQ 18.109375 38.09375 18.109375 28.8125 \nL 18.109375 0 \nL 9.078125 0 \nL 9.078125 54.6875 \nL 18.109375 54.6875 \nL 18.109375 46.1875 \nQ 20.953125 51.171875 25.484375 53.578125 \nQ 30.03125 56 36.53125 56 \nQ 37.453125 56 38.578125 55.875 \nQ 39.703125 55.765625 41.0625 55.515625 \nz\n\" id=\"DejaVuSans-114\"/>\n      <path d=\"M 48.78125 52.59375 \nL 48.78125 44.1875 \nQ 44.96875 46.296875 41.140625 47.34375 \nQ 37.3125 48.390625 33.40625 48.390625 \nQ 24.65625 48.390625 19.8125 42.84375 \nQ 14.984375 37.3125 14.984375 27.296875 \nQ 14.984375 17.28125 19.8125 11.734375 \nQ 24.65625 6.203125 33.40625 6.203125 \nQ 37.3125 6.203125 41.140625 7.25 \nQ 44.96875 8.296875 48.78125 10.40625 \nL 48.78125 2.09375 \nQ 45.015625 0.34375 40.984375 -0.53125 \nQ 36.96875 -1.421875 32.421875 -1.421875 \nQ 20.0625 -1.421875 12.78125 6.34375 \nQ 5.515625 14.109375 5.515625 27.296875 \nQ 5.515625 40.671875 12.859375 48.328125 \nQ 20.21875 56 33.015625 56 \nQ 37.15625 56 41.109375 55.140625 \nQ 45.0625 54.296875 48.78125 52.59375 \nz\n\" id=\"DejaVuSans-99\"/>\n     </defs>\n     <g style=\"fill:#262626;\" transform=\"translate(320.303125 118.203438)scale(0.12 -0.12)\">\n      <use xlink:href=\"#DejaVuSans-109\"/>\n      <use x=\"97.412109\" xlink:href=\"#DejaVuSans-101\"/>\n      <use x=\"158.935547\" xlink:href=\"#DejaVuSans-116\"/>\n      <use x=\"198.144531\" xlink:href=\"#DejaVuSans-114\"/>\n      <use x=\"239.257812\" xlink:href=\"#DejaVuSans-105\"/>\n      <use x=\"267.041016\" xlink:href=\"#DejaVuSans-99\"/>\n     </g>\n    </g>\n    <g id=\"line2d_18\">\n     <path d=\"M 297.542188 130.707344 \nL 319.542188 130.707344 \n\" style=\"fill:none;stroke:#ff0000;stroke-linecap:round;stroke-width:1.5;\"/>\n    </g>\n    <g id=\"line2d_19\"/>\n    <g id=\"text_20\">\n     <!-- euclidean -->\n     <defs>\n      <path d=\"M 8.5 21.578125 \nL 8.5 54.6875 \nL 17.484375 54.6875 \nL 17.484375 21.921875 \nQ 17.484375 14.15625 20.5 10.265625 \nQ 23.53125 6.390625 29.59375 6.390625 \nQ 36.859375 6.390625 41.078125 11.03125 \nQ 45.3125 15.671875 45.3125 23.6875 \nL 45.3125 54.6875 \nL 54.296875 54.6875 \nL 54.296875 0 \nL 45.3125 0 \nL 45.3125 8.40625 \nQ 42.046875 3.421875 37.71875 1 \nQ 33.40625 -1.421875 27.6875 -1.421875 \nQ 18.265625 -1.421875 13.375 4.4375 \nQ 8.5 10.296875 8.5 21.578125 \nz\nM 31.109375 56 \nz\n\" id=\"DejaVuSans-117\"/>\n      <path d=\"M 9.421875 75.984375 \nL 18.40625 75.984375 \nL 18.40625 0 \nL 9.421875 0 \nz\n\" id=\"DejaVuSans-108\"/>\n      <path d=\"M 45.40625 46.390625 \nL 45.40625 75.984375 \nL 54.390625 75.984375 \nL 54.390625 0 \nL 45.40625 0 \nL 45.40625 8.203125 \nQ 42.578125 3.328125 38.25 0.953125 \nQ 33.9375 -1.421875 27.875 -1.421875 \nQ 17.96875 -1.421875 11.734375 6.484375 \nQ 5.515625 14.40625 5.515625 27.296875 \nQ 5.515625 40.1875 11.734375 48.09375 \nQ 17.96875 56 27.875 56 \nQ 33.9375 56 38.25 53.625 \nQ 42.578125 51.265625 45.40625 46.390625 \nz\nM 14.796875 27.296875 \nQ 14.796875 17.390625 18.875 11.75 \nQ 22.953125 6.109375 30.078125 6.109375 \nQ 37.203125 6.109375 41.296875 11.75 \nQ 45.40625 17.390625 45.40625 27.296875 \nQ 45.40625 37.203125 41.296875 42.84375 \nQ 37.203125 48.484375 30.078125 48.484375 \nQ 22.953125 48.484375 18.875 42.84375 \nQ 14.796875 37.203125 14.796875 27.296875 \nz\n\" id=\"DejaVuSans-100\"/>\n      <path d=\"M 34.28125 27.484375 \nQ 23.390625 27.484375 19.1875 25 \nQ 14.984375 22.515625 14.984375 16.5 \nQ 14.984375 11.71875 18.140625 8.90625 \nQ 21.296875 6.109375 26.703125 6.109375 \nQ 34.1875 6.109375 38.703125 11.40625 \nQ 43.21875 16.703125 43.21875 25.484375 \nL 43.21875 27.484375 \nz\nM 52.203125 31.203125 \nL 52.203125 0 \nL 43.21875 0 \nL 43.21875 8.296875 \nQ 40.140625 3.328125 35.546875 0.953125 \nQ 30.953125 -1.421875 24.3125 -1.421875 \nQ 15.921875 -1.421875 10.953125 3.296875 \nQ 6 8.015625 6 15.921875 \nQ 6 25.140625 12.171875 29.828125 \nQ 18.359375 34.515625 30.609375 34.515625 \nL 43.21875 34.515625 \nL 43.21875 35.40625 \nQ 43.21875 41.609375 39.140625 45 \nQ 35.0625 48.390625 27.6875 48.390625 \nQ 23 48.390625 18.546875 47.265625 \nQ 14.109375 46.140625 10.015625 43.890625 \nL 10.015625 52.203125 \nQ 14.9375 54.109375 19.578125 55.046875 \nQ 24.21875 56 28.609375 56 \nQ 40.484375 56 46.34375 49.84375 \nQ 52.203125 43.703125 52.203125 31.203125 \nz\n\" id=\"DejaVuSans-97\"/>\n      <path d=\"M 54.890625 33.015625 \nL 54.890625 0 \nL 45.90625 0 \nL 45.90625 32.71875 \nQ 45.90625 40.484375 42.875 44.328125 \nQ 39.84375 48.1875 33.796875 48.1875 \nQ 26.515625 48.1875 22.3125 43.546875 \nQ 18.109375 38.921875 18.109375 30.90625 \nL 18.109375 0 \nL 9.078125 0 \nL 9.078125 54.6875 \nL 18.109375 54.6875 \nL 18.109375 46.1875 \nQ 21.34375 51.125 25.703125 53.5625 \nQ 30.078125 56 35.796875 56 \nQ 45.21875 56 50.046875 50.171875 \nQ 54.890625 44.34375 54.890625 33.015625 \nz\n\" id=\"DejaVuSans-110\"/>\n     </defs>\n     <g style=\"fill:#262626;\" transform=\"translate(328.342188 134.557344)scale(0.11 -0.11)\">\n      <use xlink:href=\"#DejaVuSans-101\"/>\n      <use x=\"61.523438\" xlink:href=\"#DejaVuSans-117\"/>\n      <use x=\"124.902344\" xlink:href=\"#DejaVuSans-99\"/>\n      <use x=\"179.882812\" xlink:href=\"#DejaVuSans-108\"/>\n      <use x=\"207.666016\" xlink:href=\"#DejaVuSans-105\"/>\n      <use x=\"235.449219\" xlink:href=\"#DejaVuSans-100\"/>\n      <use x=\"298.925781\" xlink:href=\"#DejaVuSans-101\"/>\n      <use x=\"360.449219\" xlink:href=\"#DejaVuSans-97\"/>\n      <use x=\"421.728516\" xlink:href=\"#DejaVuSans-110\"/>\n     </g>\n    </g>\n    <g id=\"line2d_20\">\n     <path d=\"M 297.542188 146.853281 \nL 319.542188 146.853281 \n\" style=\"fill:none;stroke:#0000ff;stroke-linecap:round;stroke-width:1.5;\"/>\n    </g>\n    <g id=\"line2d_21\"/>\n    <g id=\"text_21\">\n     <!-- cosine -->\n     <defs>\n      <path d=\"M 30.609375 48.390625 \nQ 23.390625 48.390625 19.1875 42.75 \nQ 14.984375 37.109375 14.984375 27.296875 \nQ 14.984375 17.484375 19.15625 11.84375 \nQ 23.34375 6.203125 30.609375 6.203125 \nQ 37.796875 6.203125 41.984375 11.859375 \nQ 46.1875 17.53125 46.1875 27.296875 \nQ 46.1875 37.015625 41.984375 42.703125 \nQ 37.796875 48.390625 30.609375 48.390625 \nz\nM 30.609375 56 \nQ 42.328125 56 49.015625 48.375 \nQ 55.71875 40.765625 55.71875 27.296875 \nQ 55.71875 13.875 49.015625 6.21875 \nQ 42.328125 -1.421875 30.609375 -1.421875 \nQ 18.84375 -1.421875 12.171875 6.21875 \nQ 5.515625 13.875 5.515625 27.296875 \nQ 5.515625 40.765625 12.171875 48.375 \nQ 18.84375 56 30.609375 56 \nz\n\" id=\"DejaVuSans-111\"/>\n     </defs>\n     <g style=\"fill:#262626;\" transform=\"translate(328.342188 150.703281)scale(0.11 -0.11)\">\n      <use xlink:href=\"#DejaVuSans-99\"/>\n      <use x=\"54.980469\" xlink:href=\"#DejaVuSans-111\"/>\n      <use x=\"116.162109\" xlink:href=\"#DejaVuSans-115\"/>\n      <use x=\"168.261719\" xlink:href=\"#DejaVuSans-105\"/>\n      <use x=\"196.044922\" xlink:href=\"#DejaVuSans-110\"/>\n      <use x=\"259.423828\" xlink:href=\"#DejaVuSans-101\"/>\n     </g>\n    </g>\n   </g>\n  </g>\n </g>\n <defs>\n  <clipPath id=\"p4b59ad816e\">\n   <rect height=\"217.44\" width=\"334.8\" x=\"56.805937\" y=\"22.318125\"/>\n  </clipPath>\n </defs>\n</svg>\n"
          },
          "metadata": {}
        }
      ]
    },
    {
      "cell_type": "markdown",
      "metadata": {
        "id": "Vb6DZTXIgvsX"
      },
      "source": [
        "# Task 3"
      ]
    },
    {
      "cell_type": "code",
      "metadata": {
        "id": "ENXxtLYXgvsY",
        "colab": {
          "base_uri": "https://localhost:8080/"
        },
        "outputId": "e1eaecdf-b982-4779-a95e-a92908effad9"
      },
      "source": [
        "params = {\n",
        "    'metric': 'cosine',\n",
        "    'strategy': 'brute',\n",
        "}\n",
        "folds3 = cross_validation.kfold(data.shape[0], 5)\n",
        "params['weights'] = True\n",
        "start = time.time()\n",
        "scores1 = cross_validation.knn_cross_val_score(\n",
        "                    X=data,\n",
        "                    y=target,\n",
        "                    k_list=[3], \n",
        "                    score='accuracy', \n",
        "                    cv=folds3,\n",
        "                    **params\n",
        ")\n",
        "end = time.time()\n",
        "print(\"time with weights: \", start-end)\n",
        "res1 = scores1[3].mean()\n",
        "\n",
        "params['weights'] = False\n",
        "start = time.time()\n",
        "scores2 = cross_validation.knn_cross_val_score(\n",
        "                    X=data,  # <- needs to be fixed\n",
        "                    y=target,   # <- needs to be fixed\n",
        "                    k_list=[3], \n",
        "                    score='accuracy', \n",
        "                    cv=folds3,\n",
        "                    **params\n",
        ")\n",
        "end = time.time()\n",
        "print(\"time witout weights: \", start-end)\n",
        "res2 = scores2[3].mean()"
      ],
      "execution_count": 142,
      "outputs": [
        {
          "output_type": "stream",
          "name": "stdout",
          "text": [
            "time with weights:  -152.8353202342987\n",
            "time witout weights:  -79.2826759815216\n"
          ]
        }
      ]
    },
    {
      "cell_type": "code",
      "metadata": {
        "colab": {
          "base_uri": "https://localhost:8080/"
        },
        "id": "NxN6thP-SES9",
        "outputId": "08df610b-b7d1-4b72-a5af-401abe945c37"
      },
      "source": [
        "res1, res2"
      ],
      "execution_count": 55,
      "outputs": [
        {
          "output_type": "execute_result",
          "data": {
            "text/plain": [
              "(0.9749000000000001, 0.9742166666666667)"
            ]
          },
          "metadata": {},
          "execution_count": 55
        }
      ]
    },
    {
      "cell_type": "markdown",
      "metadata": {
        "id": "lowikAozgvsZ"
      },
      "source": [
        "# Task 4"
      ]
    },
    {
      "cell_type": "code",
      "metadata": {
        "id": "KalSduoWgvsa"
      },
      "source": [
        "params = {\n",
        "    #  'k': 3,\n",
        "    'metric': 'cosine',\n",
        "    'strategy': 'brute',\n",
        "    'weights': True\n",
        "}"
      ],
      "execution_count": 23,
      "outputs": []
    },
    {
      "cell_type": "code",
      "metadata": {
        "colab": {
          "base_uri": "https://localhost:8080/"
        },
        "id": "UL0NLqwRDUdj",
        "outputId": "5cc0ce47-8889-4229-99f9-955ca12b1a9f"
      },
      "source": [
        "scores = cross_validation.knn_cross_val_score(\n",
        "                        X=data,\n",
        "                        y=target,\n",
        "                        k_list=[3], \n",
        "                        score='accuracy',\n",
        "                        cv=None,\n",
        "                        **params)\n",
        "print('best mean cv: ', scores[3].mean())"
      ],
      "execution_count": 24,
      "outputs": [
        {
          "output_type": "stream",
          "name": "stdout",
          "text": [
            "best mean cv:  0.9730666666666666\n"
          ]
        }
      ]
    },
    {
      "cell_type": "code",
      "metadata": {
        "id": "EiWQwtJXgvsa",
        "colab": {
          "base_uri": "https://localhost:8080/"
        },
        "outputId": "58a55a6a-e8f1-4f9a-ccaf-6848974bc211"
      },
      "source": [
        "clf1 = nearest_neighbors.KNNClassifier(**params)\n",
        "clf1.fit(data, target)\n",
        "pred1 = clf1.predict(data_test)\n",
        "print(cross_validation.accuracy(pred1, target_test))"
      ],
      "execution_count": 188,
      "outputs": [
        {
          "output_type": "stream",
          "name": "stdout",
          "text": [
            "0.973\n"
          ]
        }
      ]
    },
    {
      "cell_type": "code",
      "metadata": {
        "id": "Wsg4N6-igvsb"
      },
      "source": [
        "cf_matrix = confusion_matrix(target_test, pred1, labels=np.unique(target))"
      ],
      "execution_count": 189,
      "outputs": []
    },
    {
      "cell_type": "code",
      "metadata": {
        "colab": {
          "base_uri": "https://localhost:8080/",
          "height": 377
        },
        "id": "IWHRycihaT9t",
        "outputId": "458e3aa6-b18f-477b-eeca-f656469c81b5"
      },
      "source": [
        "sns.heatmap(cf_matrix, annot=True, fmt='', )\n",
        "plt.title('Confusion matrix')\n",
        "plt.savefig('task41.pdf')\n",
        "plt.show()"
      ],
      "execution_count": 190,
      "outputs": [
        {
          "output_type": "display_data",
          "data": {
            "text/plain": [
              "<Figure size 432x288 with 2 Axes>"
            ],
            "image/svg+xml": "<?xml version=\"1.0\" encoding=\"utf-8\" standalone=\"no\"?>\n<!DOCTYPE svg PUBLIC \"-//W3C//DTD SVG 1.1//EN\"\n  \"http://www.w3.org/Graphics/SVG/1.1/DTD/svg11.dtd\">\n<!-- Created with matplotlib (https://matplotlib.org/) -->\n<svg height=\"267.104062pt\" version=\"1.1\" viewBox=\"0 0 367.492938 267.104062\" width=\"367.492938pt\" xmlns=\"http://www.w3.org/2000/svg\" xmlns:xlink=\"http://www.w3.org/1999/xlink\">\n <defs>\n  <style type=\"text/css\">\n*{stroke-linecap:butt;stroke-linejoin:round;}\n  </style>\n </defs>\n <g id=\"figure_1\">\n  <g id=\"patch_1\">\n   <path d=\"M 0 267.104062 \nL 367.492938 267.104062 \nL 367.492938 0 \nL 0 0 \nz\n\" style=\"fill:#ffffff;\"/>\n  </g>\n  <g id=\"axes_1\">\n   <g id=\"patch_2\">\n    <path d=\"M 27.345938 239.758125 \nL 295.185938 239.758125 \nL 295.185938 22.318125 \nL 27.345938 22.318125 \nz\n\" style=\"fill:#eaeaf2;\"/>\n   </g>\n   <g id=\"matplotlib.axis_1\">\n    <g id=\"xtick_1\">\n     <g id=\"text_1\">\n      <!-- 0 -->\n      <defs>\n       <path d=\"M 31.78125 66.40625 \nQ 24.171875 66.40625 20.328125 58.90625 \nQ 16.5 51.421875 16.5 36.375 \nQ 16.5 21.390625 20.328125 13.890625 \nQ 24.171875 6.390625 31.78125 6.390625 \nQ 39.453125 6.390625 43.28125 13.890625 \nQ 47.125 21.390625 47.125 36.375 \nQ 47.125 51.421875 43.28125 58.90625 \nQ 39.453125 66.40625 31.78125 66.40625 \nz\nM 31.78125 74.21875 \nQ 44.046875 74.21875 50.515625 64.515625 \nQ 56.984375 54.828125 56.984375 36.375 \nQ 56.984375 17.96875 50.515625 8.265625 \nQ 44.046875 -1.421875 31.78125 -1.421875 \nQ 19.53125 -1.421875 13.0625 8.265625 \nQ 6.59375 17.96875 6.59375 36.375 \nQ 6.59375 54.828125 13.0625 64.515625 \nQ 19.53125 74.21875 31.78125 74.21875 \nz\n\" id=\"DejaVuSans-48\"/>\n      </defs>\n      <g style=\"fill:#262626;\" transform=\"translate(37.238563 257.616406)scale(0.11 -0.11)\">\n       <use xlink:href=\"#DejaVuSans-48\"/>\n      </g>\n     </g>\n    </g>\n    <g id=\"xtick_2\">\n     <g id=\"text_2\">\n      <!-- 1 -->\n      <defs>\n       <path d=\"M 12.40625 8.296875 \nL 28.515625 8.296875 \nL 28.515625 63.921875 \nL 10.984375 60.40625 \nL 10.984375 69.390625 \nL 28.421875 72.90625 \nL 38.28125 72.90625 \nL 38.28125 8.296875 \nL 54.390625 8.296875 \nL 54.390625 0 \nL 12.40625 0 \nz\n\" id=\"DejaVuSans-49\"/>\n      </defs>\n      <g style=\"fill:#262626;\" transform=\"translate(64.022563 257.616406)scale(0.11 -0.11)\">\n       <use xlink:href=\"#DejaVuSans-49\"/>\n      </g>\n     </g>\n    </g>\n    <g id=\"xtick_3\">\n     <g id=\"text_3\">\n      <!-- 2 -->\n      <defs>\n       <path d=\"M 19.1875 8.296875 \nL 53.609375 8.296875 \nL 53.609375 0 \nL 7.328125 0 \nL 7.328125 8.296875 \nQ 12.9375 14.109375 22.625 23.890625 \nQ 32.328125 33.6875 34.8125 36.53125 \nQ 39.546875 41.84375 41.421875 45.53125 \nQ 43.3125 49.21875 43.3125 52.78125 \nQ 43.3125 58.59375 39.234375 62.25 \nQ 35.15625 65.921875 28.609375 65.921875 \nQ 23.96875 65.921875 18.8125 64.3125 \nQ 13.671875 62.703125 7.8125 59.421875 \nL 7.8125 69.390625 \nQ 13.765625 71.78125 18.9375 73 \nQ 24.125 74.21875 28.421875 74.21875 \nQ 39.75 74.21875 46.484375 68.546875 \nQ 53.21875 62.890625 53.21875 53.421875 \nQ 53.21875 48.921875 51.53125 44.890625 \nQ 49.859375 40.875 45.40625 35.40625 \nQ 44.1875 33.984375 37.640625 27.21875 \nQ 31.109375 20.453125 19.1875 8.296875 \nz\n\" id=\"DejaVuSans-50\"/>\n      </defs>\n      <g style=\"fill:#262626;\" transform=\"translate(90.806563 257.616406)scale(0.11 -0.11)\">\n       <use xlink:href=\"#DejaVuSans-50\"/>\n      </g>\n     </g>\n    </g>\n    <g id=\"xtick_4\">\n     <g id=\"text_4\">\n      <!-- 3 -->\n      <defs>\n       <path d=\"M 40.578125 39.3125 \nQ 47.65625 37.796875 51.625 33 \nQ 55.609375 28.21875 55.609375 21.1875 \nQ 55.609375 10.40625 48.1875 4.484375 \nQ 40.765625 -1.421875 27.09375 -1.421875 \nQ 22.515625 -1.421875 17.65625 -0.515625 \nQ 12.796875 0.390625 7.625 2.203125 \nL 7.625 11.71875 \nQ 11.71875 9.328125 16.59375 8.109375 \nQ 21.484375 6.890625 26.8125 6.890625 \nQ 36.078125 6.890625 40.9375 10.546875 \nQ 45.796875 14.203125 45.796875 21.1875 \nQ 45.796875 27.640625 41.28125 31.265625 \nQ 36.765625 34.90625 28.71875 34.90625 \nL 20.21875 34.90625 \nL 20.21875 43.015625 \nL 29.109375 43.015625 \nQ 36.375 43.015625 40.234375 45.921875 \nQ 44.09375 48.828125 44.09375 54.296875 \nQ 44.09375 59.90625 40.109375 62.90625 \nQ 36.140625 65.921875 28.71875 65.921875 \nQ 24.65625 65.921875 20.015625 65.03125 \nQ 15.375 64.15625 9.8125 62.3125 \nL 9.8125 71.09375 \nQ 15.4375 72.65625 20.34375 73.4375 \nQ 25.25 74.21875 29.59375 74.21875 \nQ 40.828125 74.21875 47.359375 69.109375 \nQ 53.90625 64.015625 53.90625 55.328125 \nQ 53.90625 49.265625 50.4375 45.09375 \nQ 46.96875 40.921875 40.578125 39.3125 \nz\n\" id=\"DejaVuSans-51\"/>\n      </defs>\n      <g style=\"fill:#262626;\" transform=\"translate(117.590563 257.616406)scale(0.11 -0.11)\">\n       <use xlink:href=\"#DejaVuSans-51\"/>\n      </g>\n     </g>\n    </g>\n    <g id=\"xtick_5\">\n     <g id=\"text_5\">\n      <!-- 4 -->\n      <defs>\n       <path d=\"M 37.796875 64.3125 \nL 12.890625 25.390625 \nL 37.796875 25.390625 \nz\nM 35.203125 72.90625 \nL 47.609375 72.90625 \nL 47.609375 25.390625 \nL 58.015625 25.390625 \nL 58.015625 17.1875 \nL 47.609375 17.1875 \nL 47.609375 0 \nL 37.796875 0 \nL 37.796875 17.1875 \nL 4.890625 17.1875 \nL 4.890625 26.703125 \nz\n\" id=\"DejaVuSans-52\"/>\n      </defs>\n      <g style=\"fill:#262626;\" transform=\"translate(144.374563 257.616406)scale(0.11 -0.11)\">\n       <use xlink:href=\"#DejaVuSans-52\"/>\n      </g>\n     </g>\n    </g>\n    <g id=\"xtick_6\">\n     <g id=\"text_6\">\n      <!-- 5 -->\n      <defs>\n       <path d=\"M 10.796875 72.90625 \nL 49.515625 72.90625 \nL 49.515625 64.59375 \nL 19.828125 64.59375 \nL 19.828125 46.734375 \nQ 21.96875 47.46875 24.109375 47.828125 \nQ 26.265625 48.1875 28.421875 48.1875 \nQ 40.625 48.1875 47.75 41.5 \nQ 54.890625 34.8125 54.890625 23.390625 \nQ 54.890625 11.625 47.5625 5.09375 \nQ 40.234375 -1.421875 26.90625 -1.421875 \nQ 22.3125 -1.421875 17.546875 -0.640625 \nQ 12.796875 0.140625 7.71875 1.703125 \nL 7.71875 11.625 \nQ 12.109375 9.234375 16.796875 8.0625 \nQ 21.484375 6.890625 26.703125 6.890625 \nQ 35.15625 6.890625 40.078125 11.328125 \nQ 45.015625 15.765625 45.015625 23.390625 \nQ 45.015625 31 40.078125 35.4375 \nQ 35.15625 39.890625 26.703125 39.890625 \nQ 22.75 39.890625 18.8125 39.015625 \nQ 14.890625 38.140625 10.796875 36.28125 \nz\n\" id=\"DejaVuSans-53\"/>\n      </defs>\n      <g style=\"fill:#262626;\" transform=\"translate(171.158563 257.616406)scale(0.11 -0.11)\">\n       <use xlink:href=\"#DejaVuSans-53\"/>\n      </g>\n     </g>\n    </g>\n    <g id=\"xtick_7\">\n     <g id=\"text_7\">\n      <!-- 6 -->\n      <defs>\n       <path d=\"M 33.015625 40.375 \nQ 26.375 40.375 22.484375 35.828125 \nQ 18.609375 31.296875 18.609375 23.390625 \nQ 18.609375 15.53125 22.484375 10.953125 \nQ 26.375 6.390625 33.015625 6.390625 \nQ 39.65625 6.390625 43.53125 10.953125 \nQ 47.40625 15.53125 47.40625 23.390625 \nQ 47.40625 31.296875 43.53125 35.828125 \nQ 39.65625 40.375 33.015625 40.375 \nz\nM 52.59375 71.296875 \nL 52.59375 62.3125 \nQ 48.875 64.0625 45.09375 64.984375 \nQ 41.3125 65.921875 37.59375 65.921875 \nQ 27.828125 65.921875 22.671875 59.328125 \nQ 17.53125 52.734375 16.796875 39.40625 \nQ 19.671875 43.65625 24.015625 45.921875 \nQ 28.375 48.1875 33.59375 48.1875 \nQ 44.578125 48.1875 50.953125 41.515625 \nQ 57.328125 34.859375 57.328125 23.390625 \nQ 57.328125 12.15625 50.6875 5.359375 \nQ 44.046875 -1.421875 33.015625 -1.421875 \nQ 20.359375 -1.421875 13.671875 8.265625 \nQ 6.984375 17.96875 6.984375 36.375 \nQ 6.984375 53.65625 15.1875 63.9375 \nQ 23.390625 74.21875 37.203125 74.21875 \nQ 40.921875 74.21875 44.703125 73.484375 \nQ 48.484375 72.75 52.59375 71.296875 \nz\n\" id=\"DejaVuSans-54\"/>\n      </defs>\n      <g style=\"fill:#262626;\" transform=\"translate(197.942563 257.616406)scale(0.11 -0.11)\">\n       <use xlink:href=\"#DejaVuSans-54\"/>\n      </g>\n     </g>\n    </g>\n    <g id=\"xtick_8\">\n     <g id=\"text_8\">\n      <!-- 7 -->\n      <defs>\n       <path d=\"M 8.203125 72.90625 \nL 55.078125 72.90625 \nL 55.078125 68.703125 \nL 28.609375 0 \nL 18.3125 0 \nL 43.21875 64.59375 \nL 8.203125 64.59375 \nz\n\" id=\"DejaVuSans-55\"/>\n      </defs>\n      <g style=\"fill:#262626;\" transform=\"translate(224.726563 257.616406)scale(0.11 -0.11)\">\n       <use xlink:href=\"#DejaVuSans-55\"/>\n      </g>\n     </g>\n    </g>\n    <g id=\"xtick_9\">\n     <g id=\"text_9\">\n      <!-- 8 -->\n      <defs>\n       <path d=\"M 31.78125 34.625 \nQ 24.75 34.625 20.71875 30.859375 \nQ 16.703125 27.09375 16.703125 20.515625 \nQ 16.703125 13.921875 20.71875 10.15625 \nQ 24.75 6.390625 31.78125 6.390625 \nQ 38.8125 6.390625 42.859375 10.171875 \nQ 46.921875 13.96875 46.921875 20.515625 \nQ 46.921875 27.09375 42.890625 30.859375 \nQ 38.875 34.625 31.78125 34.625 \nz\nM 21.921875 38.8125 \nQ 15.578125 40.375 12.03125 44.71875 \nQ 8.5 49.078125 8.5 55.328125 \nQ 8.5 64.0625 14.71875 69.140625 \nQ 20.953125 74.21875 31.78125 74.21875 \nQ 42.671875 74.21875 48.875 69.140625 \nQ 55.078125 64.0625 55.078125 55.328125 \nQ 55.078125 49.078125 51.53125 44.71875 \nQ 48 40.375 41.703125 38.8125 \nQ 48.828125 37.15625 52.796875 32.3125 \nQ 56.78125 27.484375 56.78125 20.515625 \nQ 56.78125 9.90625 50.3125 4.234375 \nQ 43.84375 -1.421875 31.78125 -1.421875 \nQ 19.734375 -1.421875 13.25 4.234375 \nQ 6.78125 9.90625 6.78125 20.515625 \nQ 6.78125 27.484375 10.78125 32.3125 \nQ 14.796875 37.15625 21.921875 38.8125 \nz\nM 18.3125 54.390625 \nQ 18.3125 48.734375 21.84375 45.5625 \nQ 25.390625 42.390625 31.78125 42.390625 \nQ 38.140625 42.390625 41.71875 45.5625 \nQ 45.3125 48.734375 45.3125 54.390625 \nQ 45.3125 60.0625 41.71875 63.234375 \nQ 38.140625 66.40625 31.78125 66.40625 \nQ 25.390625 66.40625 21.84375 63.234375 \nQ 18.3125 60.0625 18.3125 54.390625 \nz\n\" id=\"DejaVuSans-56\"/>\n      </defs>\n      <g style=\"fill:#262626;\" transform=\"translate(251.510563 257.616406)scale(0.11 -0.11)\">\n       <use xlink:href=\"#DejaVuSans-56\"/>\n      </g>\n     </g>\n    </g>\n    <g id=\"xtick_10\">\n     <g id=\"text_10\">\n      <!-- 9 -->\n      <defs>\n       <path d=\"M 10.984375 1.515625 \nL 10.984375 10.5 \nQ 14.703125 8.734375 18.5 7.8125 \nQ 22.3125 6.890625 25.984375 6.890625 \nQ 35.75 6.890625 40.890625 13.453125 \nQ 46.046875 20.015625 46.78125 33.40625 \nQ 43.953125 29.203125 39.59375 26.953125 \nQ 35.25 24.703125 29.984375 24.703125 \nQ 19.046875 24.703125 12.671875 31.3125 \nQ 6.296875 37.9375 6.296875 49.421875 \nQ 6.296875 60.640625 12.9375 67.421875 \nQ 19.578125 74.21875 30.609375 74.21875 \nQ 43.265625 74.21875 49.921875 64.515625 \nQ 56.59375 54.828125 56.59375 36.375 \nQ 56.59375 19.140625 48.40625 8.859375 \nQ 40.234375 -1.421875 26.421875 -1.421875 \nQ 22.703125 -1.421875 18.890625 -0.6875 \nQ 15.09375 0.046875 10.984375 1.515625 \nz\nM 30.609375 32.421875 \nQ 37.25 32.421875 41.125 36.953125 \nQ 45.015625 41.5 45.015625 49.421875 \nQ 45.015625 57.28125 41.125 61.84375 \nQ 37.25 66.40625 30.609375 66.40625 \nQ 23.96875 66.40625 20.09375 61.84375 \nQ 16.21875 57.28125 16.21875 49.421875 \nQ 16.21875 41.5 20.09375 36.953125 \nQ 23.96875 32.421875 30.609375 32.421875 \nz\n\" id=\"DejaVuSans-57\"/>\n      </defs>\n      <g style=\"fill:#262626;\" transform=\"translate(278.294563 257.616406)scale(0.11 -0.11)\">\n       <use xlink:href=\"#DejaVuSans-57\"/>\n      </g>\n     </g>\n    </g>\n   </g>\n   <g id=\"matplotlib.axis_2\">\n    <g id=\"ytick_1\">\n     <g id=\"text_11\">\n      <!-- 0 -->\n      <g style=\"fill:#262626;\" transform=\"translate(15.558281 36.6895)rotate(-90)scale(0.11 -0.11)\">\n       <use xlink:href=\"#DejaVuSans-48\"/>\n      </g>\n     </g>\n    </g>\n    <g id=\"ytick_2\">\n     <g id=\"text_12\">\n      <!-- 1 -->\n      <g style=\"fill:#262626;\" transform=\"translate(15.558281 58.4335)rotate(-90)scale(0.11 -0.11)\">\n       <use xlink:href=\"#DejaVuSans-49\"/>\n      </g>\n     </g>\n    </g>\n    <g id=\"ytick_3\">\n     <g id=\"text_13\">\n      <!-- 2 -->\n      <g style=\"fill:#262626;\" transform=\"translate(15.558281 80.1775)rotate(-90)scale(0.11 -0.11)\">\n       <use xlink:href=\"#DejaVuSans-50\"/>\n      </g>\n     </g>\n    </g>\n    <g id=\"ytick_4\">\n     <g id=\"text_14\">\n      <!-- 3 -->\n      <g style=\"fill:#262626;\" transform=\"translate(15.558281 101.9215)rotate(-90)scale(0.11 -0.11)\">\n       <use xlink:href=\"#DejaVuSans-51\"/>\n      </g>\n     </g>\n    </g>\n    <g id=\"ytick_5\">\n     <g id=\"text_15\">\n      <!-- 4 -->\n      <g style=\"fill:#262626;\" transform=\"translate(15.558281 123.6655)rotate(-90)scale(0.11 -0.11)\">\n       <use xlink:href=\"#DejaVuSans-52\"/>\n      </g>\n     </g>\n    </g>\n    <g id=\"ytick_6\">\n     <g id=\"text_16\">\n      <!-- 5 -->\n      <g style=\"fill:#262626;\" transform=\"translate(15.558281 145.4095)rotate(-90)scale(0.11 -0.11)\">\n       <use xlink:href=\"#DejaVuSans-53\"/>\n      </g>\n     </g>\n    </g>\n    <g id=\"ytick_7\">\n     <g id=\"text_17\">\n      <!-- 6 -->\n      <g style=\"fill:#262626;\" transform=\"translate(15.558281 167.1535)rotate(-90)scale(0.11 -0.11)\">\n       <use xlink:href=\"#DejaVuSans-54\"/>\n      </g>\n     </g>\n    </g>\n    <g id=\"ytick_8\">\n     <g id=\"text_18\">\n      <!-- 7 -->\n      <g style=\"fill:#262626;\" transform=\"translate(15.558281 188.8975)rotate(-90)scale(0.11 -0.11)\">\n       <use xlink:href=\"#DejaVuSans-55\"/>\n      </g>\n     </g>\n    </g>\n    <g id=\"ytick_9\">\n     <g id=\"text_19\">\n      <!-- 8 -->\n      <g style=\"fill:#262626;\" transform=\"translate(15.558281 210.6415)rotate(-90)scale(0.11 -0.11)\">\n       <use xlink:href=\"#DejaVuSans-56\"/>\n      </g>\n     </g>\n    </g>\n    <g id=\"ytick_10\">\n     <g id=\"text_20\">\n      <!-- 9 -->\n      <g style=\"fill:#262626;\" transform=\"translate(15.558281 232.3855)rotate(-90)scale(0.11 -0.11)\">\n       <use xlink:href=\"#DejaVuSans-57\"/>\n      </g>\n     </g>\n    </g>\n   </g>\n   <g id=\"QuadMesh_1\">\n    <path clip-path=\"url(#p010bbdb150)\" d=\"M 27.345938 22.318125 \nL 54.129938 22.318125 \nL 54.129938 44.062125 \nL 27.345938 44.062125 \nL 27.345938 22.318125 \n\" style=\"fill:#f6b691;\"/>\n    <path clip-path=\"url(#p010bbdb150)\" d=\"M 54.129938 22.318125 \nL 80.913938 22.318125 \nL 80.913938 44.062125 \nL 54.129938 44.062125 \nL 54.129938 22.318125 \n\" style=\"fill:#03051a;\"/>\n    <path clip-path=\"url(#p010bbdb150)\" d=\"M 80.913938 22.318125 \nL 107.697938 22.318125 \nL 107.697938 44.062125 \nL 80.913938 44.062125 \nL 80.913938 22.318125 \n\" style=\"fill:#03051a;\"/>\n    <path clip-path=\"url(#p010bbdb150)\" d=\"M 107.697938 22.318125 \nL 134.481938 22.318125 \nL 134.481938 44.062125 \nL 107.697938 44.062125 \nL 107.697938 22.318125 \n\" style=\"fill:#03051a;\"/>\n    <path clip-path=\"url(#p010bbdb150)\" d=\"M 134.481938 22.318125 \nL 161.265938 22.318125 \nL 161.265938 44.062125 \nL 134.481938 44.062125 \nL 134.481938 22.318125 \n\" style=\"fill:#03051a;\"/>\n    <path clip-path=\"url(#p010bbdb150)\" d=\"M 161.265938 22.318125 \nL 188.049938 22.318125 \nL 188.049938 44.062125 \nL 161.265938 44.062125 \nL 161.265938 22.318125 \n\" style=\"fill:#03051a;\"/>\n    <path clip-path=\"url(#p010bbdb150)\" d=\"M 188.049938 22.318125 \nL 214.833938 22.318125 \nL 214.833938 44.062125 \nL 188.049938 44.062125 \nL 188.049938 22.318125 \n\" style=\"fill:#03051a;\"/>\n    <path clip-path=\"url(#p010bbdb150)\" d=\"M 214.833938 22.318125 \nL 241.617938 22.318125 \nL 241.617938 44.062125 \nL 214.833938 44.062125 \nL 214.833938 22.318125 \n\" style=\"fill:#03051a;\"/>\n    <path clip-path=\"url(#p010bbdb150)\" d=\"M 241.617938 22.318125 \nL 268.401938 22.318125 \nL 268.401938 44.062125 \nL 241.617938 44.062125 \nL 241.617938 22.318125 \n\" style=\"fill:#03051a;\"/>\n    <path clip-path=\"url(#p010bbdb150)\" d=\"M 268.401938 22.318125 \nL 295.185938 22.318125 \nL 295.185938 44.062125 \nL 268.401938 44.062125 \nL 268.401938 22.318125 \n\" style=\"fill:#03051a;\"/>\n    <path clip-path=\"url(#p010bbdb150)\" d=\"M 27.345938 44.062125 \nL 54.129938 44.062125 \nL 54.129938 65.806125 \nL 27.345938 65.806125 \nL 27.345938 44.062125 \n\" style=\"fill:#03051a;\"/>\n    <path clip-path=\"url(#p010bbdb150)\" d=\"M 54.129938 44.062125 \nL 80.913938 44.062125 \nL 80.913938 65.806125 \nL 54.129938 65.806125 \nL 54.129938 44.062125 \n\" style=\"fill:#faebdd;\"/>\n    <path clip-path=\"url(#p010bbdb150)\" d=\"M 80.913938 44.062125 \nL 107.697938 44.062125 \nL 107.697938 65.806125 \nL 80.913938 65.806125 \nL 80.913938 44.062125 \n\" style=\"fill:#03051a;\"/>\n    <path clip-path=\"url(#p010bbdb150)\" d=\"M 107.697938 44.062125 \nL 134.481938 44.062125 \nL 134.481938 65.806125 \nL 107.697938 65.806125 \nL 107.697938 44.062125 \n\" style=\"fill:#03051a;\"/>\n    <path clip-path=\"url(#p010bbdb150)\" d=\"M 134.481938 44.062125 \nL 161.265938 44.062125 \nL 161.265938 65.806125 \nL 134.481938 65.806125 \nL 134.481938 44.062125 \n\" style=\"fill:#03051a;\"/>\n    <path clip-path=\"url(#p010bbdb150)\" d=\"M 161.265938 44.062125 \nL 188.049938 44.062125 \nL 188.049938 65.806125 \nL 161.265938 65.806125 \nL 161.265938 44.062125 \n\" style=\"fill:#03051a;\"/>\n    <path clip-path=\"url(#p010bbdb150)\" d=\"M 188.049938 44.062125 \nL 214.833938 44.062125 \nL 214.833938 65.806125 \nL 188.049938 65.806125 \nL 188.049938 44.062125 \n\" style=\"fill:#03051a;\"/>\n    <path clip-path=\"url(#p010bbdb150)\" d=\"M 214.833938 44.062125 \nL 241.617938 44.062125 \nL 241.617938 65.806125 \nL 214.833938 65.806125 \nL 214.833938 44.062125 \n\" style=\"fill:#03051a;\"/>\n    <path clip-path=\"url(#p010bbdb150)\" d=\"M 241.617938 44.062125 \nL 268.401938 44.062125 \nL 268.401938 65.806125 \nL 241.617938 65.806125 \nL 241.617938 44.062125 \n\" style=\"fill:#03051a;\"/>\n    <path clip-path=\"url(#p010bbdb150)\" d=\"M 268.401938 44.062125 \nL 295.185938 44.062125 \nL 295.185938 65.806125 \nL 268.401938 65.806125 \nL 268.401938 44.062125 \n\" style=\"fill:#03051a;\"/>\n    <path clip-path=\"url(#p010bbdb150)\" d=\"M 27.345938 65.806125 \nL 54.129938 65.806125 \nL 54.129938 87.550125 \nL 27.345938 87.550125 \nL 27.345938 65.806125 \n\" style=\"fill:#05061b;\"/>\n    <path clip-path=\"url(#p010bbdb150)\" d=\"M 54.129938 65.806125 \nL 80.913938 65.806125 \nL 80.913938 87.550125 \nL 54.129938 87.550125 \nL 54.129938 65.806125 \n\" style=\"fill:#03051a;\"/>\n    <path clip-path=\"url(#p010bbdb150)\" d=\"M 80.913938 65.806125 \nL 107.697938 65.806125 \nL 107.697938 87.550125 \nL 80.913938 87.550125 \nL 80.913938 65.806125 \n\" style=\"fill:#f6c19f;\"/>\n    <path clip-path=\"url(#p010bbdb150)\" d=\"M 107.697938 65.806125 \nL 134.481938 65.806125 \nL 134.481938 87.550125 \nL 107.697938 87.550125 \nL 107.697938 65.806125 \n\" style=\"fill:#03051a;\"/>\n    <path clip-path=\"url(#p010bbdb150)\" d=\"M 134.481938 65.806125 \nL 161.265938 65.806125 \nL 161.265938 87.550125 \nL 134.481938 87.550125 \nL 134.481938 65.806125 \n\" style=\"fill:#03051a;\"/>\n    <path clip-path=\"url(#p010bbdb150)\" d=\"M 161.265938 65.806125 \nL 188.049938 65.806125 \nL 188.049938 87.550125 \nL 161.265938 87.550125 \nL 161.265938 65.806125 \n\" style=\"fill:#03051a;\"/>\n    <path clip-path=\"url(#p010bbdb150)\" d=\"M 188.049938 65.806125 \nL 214.833938 65.806125 \nL 214.833938 87.550125 \nL 188.049938 87.550125 \nL 188.049938 65.806125 \n\" style=\"fill:#03051a;\"/>\n    <path clip-path=\"url(#p010bbdb150)\" d=\"M 214.833938 65.806125 \nL 241.617938 65.806125 \nL 241.617938 87.550125 \nL 214.833938 87.550125 \nL 214.833938 65.806125 \n\" style=\"fill:#04051a;\"/>\n    <path clip-path=\"url(#p010bbdb150)\" d=\"M 241.617938 65.806125 \nL 268.401938 65.806125 \nL 268.401938 87.550125 \nL 241.617938 87.550125 \nL 241.617938 65.806125 \n\" style=\"fill:#03051a;\"/>\n    <path clip-path=\"url(#p010bbdb150)\" d=\"M 268.401938 65.806125 \nL 295.185938 65.806125 \nL 295.185938 87.550125 \nL 268.401938 87.550125 \nL 268.401938 65.806125 \n\" style=\"fill:#03051a;\"/>\n    <path clip-path=\"url(#p010bbdb150)\" d=\"M 27.345938 87.550125 \nL 54.129938 87.550125 \nL 54.129938 109.294125 \nL 27.345938 109.294125 \nL 27.345938 87.550125 \n\" style=\"fill:#03051a;\"/>\n    <path clip-path=\"url(#p010bbdb150)\" d=\"M 54.129938 87.550125 \nL 80.913938 87.550125 \nL 80.913938 109.294125 \nL 54.129938 109.294125 \nL 54.129938 87.550125 \n\" style=\"fill:#03051a;\"/>\n    <path clip-path=\"url(#p010bbdb150)\" d=\"M 80.913938 87.550125 \nL 107.697938 87.550125 \nL 107.697938 109.294125 \nL 80.913938 109.294125 \nL 80.913938 87.550125 \n\" style=\"fill:#03051a;\"/>\n    <path clip-path=\"url(#p010bbdb150)\" d=\"M 107.697938 87.550125 \nL 134.481938 87.550125 \nL 134.481938 109.294125 \nL 107.697938 109.294125 \nL 107.697938 87.550125 \n\" style=\"fill:#f6b691;\"/>\n    <path clip-path=\"url(#p010bbdb150)\" d=\"M 134.481938 87.550125 \nL 161.265938 87.550125 \nL 161.265938 109.294125 \nL 134.481938 109.294125 \nL 134.481938 87.550125 \n\" style=\"fill:#03051a;\"/>\n    <path clip-path=\"url(#p010bbdb150)\" d=\"M 161.265938 87.550125 \nL 188.049938 87.550125 \nL 188.049938 109.294125 \nL 161.265938 109.294125 \nL 161.265938 87.550125 \n\" style=\"fill:#05061b;\"/>\n    <path clip-path=\"url(#p010bbdb150)\" d=\"M 188.049938 87.550125 \nL 214.833938 87.550125 \nL 214.833938 109.294125 \nL 188.049938 109.294125 \nL 188.049938 87.550125 \n\" style=\"fill:#03051a;\"/>\n    <path clip-path=\"url(#p010bbdb150)\" d=\"M 214.833938 87.550125 \nL 241.617938 87.550125 \nL 241.617938 109.294125 \nL 214.833938 109.294125 \nL 214.833938 87.550125 \n\" style=\"fill:#04051a;\"/>\n    <path clip-path=\"url(#p010bbdb150)\" d=\"M 241.617938 87.550125 \nL 268.401938 87.550125 \nL 268.401938 109.294125 \nL 241.617938 109.294125 \nL 241.617938 87.550125 \n\" style=\"fill:#05061b;\"/>\n    <path clip-path=\"url(#p010bbdb150)\" d=\"M 268.401938 87.550125 \nL 295.185938 87.550125 \nL 295.185938 109.294125 \nL 268.401938 109.294125 \nL 268.401938 87.550125 \n\" style=\"fill:#03051a;\"/>\n    <path clip-path=\"url(#p010bbdb150)\" d=\"M 27.345938 109.294125 \nL 54.129938 109.294125 \nL 54.129938 131.038125 \nL 27.345938 131.038125 \nL 27.345938 109.294125 \n\" style=\"fill:#03051a;\"/>\n    <path clip-path=\"url(#p010bbdb150)\" d=\"M 54.129938 109.294125 \nL 80.913938 109.294125 \nL 80.913938 131.038125 \nL 54.129938 131.038125 \nL 54.129938 109.294125 \n\" style=\"fill:#03051a;\"/>\n    <path clip-path=\"url(#p010bbdb150)\" d=\"M 80.913938 109.294125 \nL 107.697938 109.294125 \nL 107.697938 131.038125 \nL 80.913938 131.038125 \nL 80.913938 109.294125 \n\" style=\"fill:#03051a;\"/>\n    <path clip-path=\"url(#p010bbdb150)\" d=\"M 107.697938 109.294125 \nL 134.481938 109.294125 \nL 134.481938 131.038125 \nL 107.697938 131.038125 \nL 107.697938 109.294125 \n\" style=\"fill:#03051a;\"/>\n    <path clip-path=\"url(#p010bbdb150)\" d=\"M 134.481938 109.294125 \nL 161.265938 109.294125 \nL 161.265938 131.038125 \nL 134.481938 131.038125 \nL 134.481938 109.294125 \n\" style=\"fill:#f6ab83;\"/>\n    <path clip-path=\"url(#p010bbdb150)\" d=\"M 161.265938 109.294125 \nL 188.049938 109.294125 \nL 188.049938 131.038125 \nL 161.265938 131.038125 \nL 161.265938 109.294125 \n\" style=\"fill:#03051a;\"/>\n    <path clip-path=\"url(#p010bbdb150)\" d=\"M 188.049938 109.294125 \nL 214.833938 109.294125 \nL 214.833938 131.038125 \nL 188.049938 131.038125 \nL 188.049938 109.294125 \n\" style=\"fill:#04051a;\"/>\n    <path clip-path=\"url(#p010bbdb150)\" d=\"M 214.833938 109.294125 \nL 241.617938 109.294125 \nL 241.617938 131.038125 \nL 214.833938 131.038125 \nL 214.833938 109.294125 \n\" style=\"fill:#03051a;\"/>\n    <path clip-path=\"url(#p010bbdb150)\" d=\"M 241.617938 109.294125 \nL 268.401938 109.294125 \nL 268.401938 131.038125 \nL 241.617938 131.038125 \nL 241.617938 109.294125 \n\" style=\"fill:#03051a;\"/>\n    <path clip-path=\"url(#p010bbdb150)\" d=\"M 268.401938 109.294125 \nL 295.185938 109.294125 \nL 295.185938 131.038125 \nL 268.401938 131.038125 \nL 268.401938 109.294125 \n\" style=\"fill:#08081e;\"/>\n    <path clip-path=\"url(#p010bbdb150)\" d=\"M 27.345938 131.038125 \nL 54.129938 131.038125 \nL 54.129938 152.782125 \nL 27.345938 152.782125 \nL 27.345938 131.038125 \n\" style=\"fill:#04051a;\"/>\n    <path clip-path=\"url(#p010bbdb150)\" d=\"M 54.129938 131.038125 \nL 80.913938 131.038125 \nL 80.913938 152.782125 \nL 54.129938 152.782125 \nL 54.129938 131.038125 \n\" style=\"fill:#03051a;\"/>\n    <path clip-path=\"url(#p010bbdb150)\" d=\"M 80.913938 131.038125 \nL 107.697938 131.038125 \nL 107.697938 152.782125 \nL 80.913938 152.782125 \nL 80.913938 131.038125 \n\" style=\"fill:#03051a;\"/>\n    <path clip-path=\"url(#p010bbdb150)\" d=\"M 107.697938 131.038125 \nL 134.481938 131.038125 \nL 134.481938 152.782125 \nL 107.697938 152.782125 \nL 107.697938 131.038125 \n\" style=\"fill:#04051a;\"/>\n    <path clip-path=\"url(#p010bbdb150)\" d=\"M 134.481938 131.038125 \nL 161.265938 131.038125 \nL 161.265938 152.782125 \nL 134.481938 152.782125 \nL 134.481938 131.038125 \n\" style=\"fill:#03051a;\"/>\n    <path clip-path=\"url(#p010bbdb150)\" d=\"M 161.265938 131.038125 \nL 188.049938 131.038125 \nL 188.049938 152.782125 \nL 161.265938 152.782125 \nL 161.265938 131.038125 \n\" style=\"fill:#f58b63;\"/>\n    <path clip-path=\"url(#p010bbdb150)\" d=\"M 188.049938 131.038125 \nL 214.833938 131.038125 \nL 214.833938 152.782125 \nL 188.049938 152.782125 \nL 188.049938 131.038125 \n\" style=\"fill:#04051a;\"/>\n    <path clip-path=\"url(#p010bbdb150)\" d=\"M 214.833938 131.038125 \nL 241.617938 131.038125 \nL 241.617938 152.782125 \nL 214.833938 152.782125 \nL 214.833938 131.038125 \n\" style=\"fill:#03051a;\"/>\n    <path clip-path=\"url(#p010bbdb150)\" d=\"M 241.617938 131.038125 \nL 268.401938 131.038125 \nL 268.401938 152.782125 \nL 241.617938 152.782125 \nL 241.617938 131.038125 \n\" style=\"fill:#04051a;\"/>\n    <path clip-path=\"url(#p010bbdb150)\" d=\"M 268.401938 131.038125 \nL 295.185938 131.038125 \nL 295.185938 152.782125 \nL 268.401938 152.782125 \nL 268.401938 131.038125 \n\" style=\"fill:#03051a;\"/>\n    <path clip-path=\"url(#p010bbdb150)\" d=\"M 27.345938 152.782125 \nL 54.129938 152.782125 \nL 54.129938 174.526125 \nL 27.345938 174.526125 \nL 27.345938 152.782125 \n\" style=\"fill:#03051a;\"/>\n    <path clip-path=\"url(#p010bbdb150)\" d=\"M 54.129938 152.782125 \nL 80.913938 152.782125 \nL 80.913938 174.526125 \nL 54.129938 174.526125 \nL 54.129938 152.782125 \n\" style=\"fill:#03051a;\"/>\n    <path clip-path=\"url(#p010bbdb150)\" d=\"M 80.913938 152.782125 \nL 107.697938 152.782125 \nL 107.697938 174.526125 \nL 80.913938 174.526125 \nL 80.913938 152.782125 \n\" style=\"fill:#03051a;\"/>\n    <path clip-path=\"url(#p010bbdb150)\" d=\"M 107.697938 152.782125 \nL 134.481938 152.782125 \nL 134.481938 174.526125 \nL 107.697938 174.526125 \nL 107.697938 152.782125 \n\" style=\"fill:#03051a;\"/>\n    <path clip-path=\"url(#p010bbdb150)\" d=\"M 134.481938 152.782125 \nL 161.265938 152.782125 \nL 161.265938 174.526125 \nL 134.481938 174.526125 \nL 134.481938 152.782125 \n\" style=\"fill:#03051a;\"/>\n    <path clip-path=\"url(#p010bbdb150)\" d=\"M 161.265938 152.782125 \nL 188.049938 152.782125 \nL 188.049938 174.526125 \nL 161.265938 174.526125 \nL 161.265938 152.782125 \n\" style=\"fill:#03051a;\"/>\n    <path clip-path=\"url(#p010bbdb150)\" d=\"M 188.049938 152.782125 \nL 214.833938 152.782125 \nL 214.833938 174.526125 \nL 188.049938 174.526125 \nL 188.049938 152.782125 \n\" style=\"fill:#f6ad85;\"/>\n    <path clip-path=\"url(#p010bbdb150)\" d=\"M 214.833938 152.782125 \nL 241.617938 152.782125 \nL 241.617938 174.526125 \nL 214.833938 174.526125 \nL 214.833938 152.782125 \n\" style=\"fill:#03051a;\"/>\n    <path clip-path=\"url(#p010bbdb150)\" d=\"M 241.617938 152.782125 \nL 268.401938 152.782125 \nL 268.401938 174.526125 \nL 241.617938 174.526125 \nL 241.617938 152.782125 \n\" style=\"fill:#03051a;\"/>\n    <path clip-path=\"url(#p010bbdb150)\" d=\"M 268.401938 152.782125 \nL 295.185938 152.782125 \nL 295.185938 174.526125 \nL 268.401938 174.526125 \nL 268.401938 152.782125 \n\" style=\"fill:#03051a;\"/>\n    <path clip-path=\"url(#p010bbdb150)\" d=\"M 27.345938 174.526125 \nL 54.129938 174.526125 \nL 54.129938 196.270125 \nL 27.345938 196.270125 \nL 27.345938 174.526125 \n\" style=\"fill:#03051a;\"/>\n    <path clip-path=\"url(#p010bbdb150)\" d=\"M 54.129938 174.526125 \nL 80.913938 174.526125 \nL 80.913938 196.270125 \nL 54.129938 196.270125 \nL 54.129938 174.526125 \n\" style=\"fill:#05061b;\"/>\n    <path clip-path=\"url(#p010bbdb150)\" d=\"M 80.913938 174.526125 \nL 107.697938 174.526125 \nL 107.697938 196.270125 \nL 80.913938 196.270125 \nL 80.913938 174.526125 \n\" style=\"fill:#04051a;\"/>\n    <path clip-path=\"url(#p010bbdb150)\" d=\"M 107.697938 174.526125 \nL 134.481938 174.526125 \nL 134.481938 196.270125 \nL 107.697938 196.270125 \nL 107.697938 174.526125 \n\" style=\"fill:#03051a;\"/>\n    <path clip-path=\"url(#p010bbdb150)\" d=\"M 134.481938 174.526125 \nL 161.265938 174.526125 \nL 161.265938 196.270125 \nL 134.481938 196.270125 \nL 134.481938 174.526125 \n\" style=\"fill:#03051a;\"/>\n    <path clip-path=\"url(#p010bbdb150)\" d=\"M 161.265938 174.526125 \nL 188.049938 174.526125 \nL 188.049938 196.270125 \nL 161.265938 196.270125 \nL 161.265938 174.526125 \n\" style=\"fill:#03051a;\"/>\n    <path clip-path=\"url(#p010bbdb150)\" d=\"M 188.049938 174.526125 \nL 214.833938 174.526125 \nL 214.833938 196.270125 \nL 188.049938 196.270125 \nL 188.049938 174.526125 \n\" style=\"fill:#03051a;\"/>\n    <path clip-path=\"url(#p010bbdb150)\" d=\"M 214.833938 174.526125 \nL 241.617938 174.526125 \nL 241.617938 196.270125 \nL 214.833938 196.270125 \nL 214.833938 174.526125 \n\" style=\"fill:#f6bc99;\"/>\n    <path clip-path=\"url(#p010bbdb150)\" d=\"M 241.617938 174.526125 \nL 268.401938 174.526125 \nL 268.401938 196.270125 \nL 241.617938 196.270125 \nL 241.617938 174.526125 \n\" style=\"fill:#03051a;\"/>\n    <path clip-path=\"url(#p010bbdb150)\" d=\"M 268.401938 174.526125 \nL 295.185938 174.526125 \nL 295.185938 196.270125 \nL 268.401938 196.270125 \nL 268.401938 174.526125 \n\" style=\"fill:#06071c;\"/>\n    <path clip-path=\"url(#p010bbdb150)\" d=\"M 27.345938 196.270125 \nL 54.129938 196.270125 \nL 54.129938 218.014125 \nL 27.345938 218.014125 \nL 27.345938 196.270125 \n\" style=\"fill:#04051a;\"/>\n    <path clip-path=\"url(#p010bbdb150)\" d=\"M 54.129938 196.270125 \nL 80.913938 196.270125 \nL 80.913938 218.014125 \nL 54.129938 218.014125 \nL 54.129938 196.270125 \n\" style=\"fill:#03051a;\"/>\n    <path clip-path=\"url(#p010bbdb150)\" d=\"M 80.913938 196.270125 \nL 107.697938 196.270125 \nL 107.697938 218.014125 \nL 80.913938 218.014125 \nL 80.913938 196.270125 \n\" style=\"fill:#03051a;\"/>\n    <path clip-path=\"url(#p010bbdb150)\" d=\"M 107.697938 196.270125 \nL 134.481938 196.270125 \nL 134.481938 218.014125 \nL 107.697938 218.014125 \nL 107.697938 196.270125 \n\" style=\"fill:#05061b;\"/>\n    <path clip-path=\"url(#p010bbdb150)\" d=\"M 134.481938 196.270125 \nL 161.265938 196.270125 \nL 161.265938 218.014125 \nL 134.481938 218.014125 \nL 134.481938 196.270125 \n\" style=\"fill:#03051a;\"/>\n    <path clip-path=\"url(#p010bbdb150)\" d=\"M 161.265938 196.270125 \nL 188.049938 196.270125 \nL 188.049938 218.014125 \nL 161.265938 218.014125 \nL 161.265938 196.270125 \n\" style=\"fill:#04051a;\"/>\n    <path clip-path=\"url(#p010bbdb150)\" d=\"M 188.049938 196.270125 \nL 214.833938 196.270125 \nL 214.833938 218.014125 \nL 188.049938 218.014125 \nL 188.049938 196.270125 \n\" style=\"fill:#03051a;\"/>\n    <path clip-path=\"url(#p010bbdb150)\" d=\"M 214.833938 196.270125 \nL 241.617938 196.270125 \nL 241.617938 218.014125 \nL 214.833938 218.014125 \nL 214.833938 196.270125 \n\" style=\"fill:#03051a;\"/>\n    <path clip-path=\"url(#p010bbdb150)\" d=\"M 241.617938 196.270125 \nL 268.401938 196.270125 \nL 268.401938 218.014125 \nL 241.617938 218.014125 \nL 241.617938 196.270125 \n\" style=\"fill:#f6a880;\"/>\n    <path clip-path=\"url(#p010bbdb150)\" d=\"M 268.401938 196.270125 \nL 295.185938 196.270125 \nL 295.185938 218.014125 \nL 268.401938 218.014125 \nL 268.401938 196.270125 \n\" style=\"fill:#03051a;\"/>\n    <path clip-path=\"url(#p010bbdb150)\" d=\"M 27.345938 218.014125 \nL 54.129938 218.014125 \nL 54.129938 239.758125 \nL 27.345938 239.758125 \nL 27.345938 218.014125 \n\" style=\"fill:#05061b;\"/>\n    <path clip-path=\"url(#p010bbdb150)\" d=\"M 54.129938 218.014125 \nL 80.913938 218.014125 \nL 80.913938 239.758125 \nL 54.129938 239.758125 \nL 54.129938 218.014125 \n\" style=\"fill:#04051a;\"/>\n    <path clip-path=\"url(#p010bbdb150)\" d=\"M 80.913938 218.014125 \nL 107.697938 218.014125 \nL 107.697938 239.758125 \nL 80.913938 239.758125 \nL 80.913938 218.014125 \n\" style=\"fill:#03051a;\"/>\n    <path clip-path=\"url(#p010bbdb150)\" d=\"M 107.697938 218.014125 \nL 134.481938 218.014125 \nL 134.481938 239.758125 \nL 107.697938 239.758125 \nL 107.697938 218.014125 \n\" style=\"fill:#04051a;\"/>\n    <path clip-path=\"url(#p010bbdb150)\" d=\"M 134.481938 218.014125 \nL 161.265938 218.014125 \nL 161.265938 239.758125 \nL 134.481938 239.758125 \nL 134.481938 218.014125 \n\" style=\"fill:#03051a;\"/>\n    <path clip-path=\"url(#p010bbdb150)\" d=\"M 161.265938 218.014125 \nL 188.049938 218.014125 \nL 188.049938 239.758125 \nL 161.265938 239.758125 \nL 161.265938 218.014125 \n\" style=\"fill:#03051a;\"/>\n    <path clip-path=\"url(#p010bbdb150)\" d=\"M 188.049938 218.014125 \nL 214.833938 218.014125 \nL 214.833938 239.758125 \nL 188.049938 239.758125 \nL 188.049938 218.014125 \n\" style=\"fill:#03051a;\"/>\n    <path clip-path=\"url(#p010bbdb150)\" d=\"M 214.833938 218.014125 \nL 241.617938 218.014125 \nL 241.617938 239.758125 \nL 214.833938 239.758125 \nL 214.833938 218.014125 \n\" style=\"fill:#04051a;\"/>\n    <path clip-path=\"url(#p010bbdb150)\" d=\"M 241.617938 218.014125 \nL 268.401938 218.014125 \nL 268.401938 239.758125 \nL 241.617938 239.758125 \nL 241.617938 218.014125 \n\" style=\"fill:#03051a;\"/>\n    <path clip-path=\"url(#p010bbdb150)\" d=\"M 268.401938 218.014125 \nL 295.185938 218.014125 \nL 295.185938 239.758125 \nL 268.401938 239.758125 \nL 268.401938 218.014125 \n\" style=\"fill:#f6b38d;\"/>\n   </g>\n   <g id=\"text_21\">\n    <!-- 975 -->\n    <g style=\"fill:#262626;\" transform=\"translate(29.285438 36.501375)scale(0.12 -0.12)\">\n     <use xlink:href=\"#DejaVuSans-57\"/>\n     <use x=\"63.623047\" xlink:href=\"#DejaVuSans-55\"/>\n     <use x=\"127.246094\" xlink:href=\"#DejaVuSans-53\"/>\n    </g>\n   </g>\n   <g id=\"text_22\">\n    <!-- 1 -->\n    <g style=\"fill:#ffffff;\" transform=\"translate(63.704438 36.501375)scale(0.12 -0.12)\">\n     <use xlink:href=\"#DejaVuSans-49\"/>\n    </g>\n   </g>\n   <g id=\"text_23\">\n    <!-- 0 -->\n    <g style=\"fill:#ffffff;\" transform=\"translate(90.488438 36.501375)scale(0.12 -0.12)\">\n     <use xlink:href=\"#DejaVuSans-48\"/>\n    </g>\n   </g>\n   <g id=\"text_24\">\n    <!-- 0 -->\n    <g style=\"fill:#ffffff;\" transform=\"translate(117.272438 36.501375)scale(0.12 -0.12)\">\n     <use xlink:href=\"#DejaVuSans-48\"/>\n    </g>\n   </g>\n   <g id=\"text_25\">\n    <!-- 0 -->\n    <g style=\"fill:#ffffff;\" transform=\"translate(144.056438 36.501375)scale(0.12 -0.12)\">\n     <use xlink:href=\"#DejaVuSans-48\"/>\n    </g>\n   </g>\n   <g id=\"text_26\">\n    <!-- 0 -->\n    <g style=\"fill:#ffffff;\" transform=\"translate(170.840438 36.501375)scale(0.12 -0.12)\">\n     <use xlink:href=\"#DejaVuSans-48\"/>\n    </g>\n   </g>\n   <g id=\"text_27\">\n    <!-- 3 -->\n    <g style=\"fill:#ffffff;\" transform=\"translate(197.624438 36.501375)scale(0.12 -0.12)\">\n     <use xlink:href=\"#DejaVuSans-51\"/>\n    </g>\n   </g>\n   <g id=\"text_28\">\n    <!-- 1 -->\n    <g style=\"fill:#ffffff;\" transform=\"translate(224.408438 36.501375)scale(0.12 -0.12)\">\n     <use xlink:href=\"#DejaVuSans-49\"/>\n    </g>\n   </g>\n   <g id=\"text_29\">\n    <!-- 0 -->\n    <g style=\"fill:#ffffff;\" transform=\"translate(251.192438 36.501375)scale(0.12 -0.12)\">\n     <use xlink:href=\"#DejaVuSans-48\"/>\n    </g>\n   </g>\n   <g id=\"text_30\">\n    <!-- 0 -->\n    <g style=\"fill:#ffffff;\" transform=\"translate(277.976438 36.501375)scale(0.12 -0.12)\">\n     <use xlink:href=\"#DejaVuSans-48\"/>\n    </g>\n   </g>\n   <g id=\"text_31\">\n    <!-- 0 -->\n    <g style=\"fill:#ffffff;\" transform=\"translate(36.920438 58.245375)scale(0.12 -0.12)\">\n     <use xlink:href=\"#DejaVuSans-48\"/>\n    </g>\n   </g>\n   <g id=\"text_32\">\n    <!-- 1131 -->\n    <g style=\"fill:#262626;\" transform=\"translate(52.251938 58.245375)scale(0.12 -0.12)\">\n     <use xlink:href=\"#DejaVuSans-49\"/>\n     <use x=\"63.623047\" xlink:href=\"#DejaVuSans-49\"/>\n     <use x=\"127.246094\" xlink:href=\"#DejaVuSans-51\"/>\n     <use x=\"190.869141\" xlink:href=\"#DejaVuSans-49\"/>\n    </g>\n   </g>\n   <g id=\"text_33\">\n    <!-- 2 -->\n    <g style=\"fill:#ffffff;\" transform=\"translate(90.488438 58.245375)scale(0.12 -0.12)\">\n     <use xlink:href=\"#DejaVuSans-50\"/>\n    </g>\n   </g>\n   <g id=\"text_34\">\n    <!-- 0 -->\n    <g style=\"fill:#ffffff;\" transform=\"translate(117.272438 58.245375)scale(0.12 -0.12)\">\n     <use xlink:href=\"#DejaVuSans-48\"/>\n    </g>\n   </g>\n   <g id=\"text_35\">\n    <!-- 0 -->\n    <g style=\"fill:#ffffff;\" transform=\"translate(144.056438 58.245375)scale(0.12 -0.12)\">\n     <use xlink:href=\"#DejaVuSans-48\"/>\n    </g>\n   </g>\n   <g id=\"text_36\">\n    <!-- 0 -->\n    <g style=\"fill:#ffffff;\" transform=\"translate(170.840438 58.245375)scale(0.12 -0.12)\">\n     <use xlink:href=\"#DejaVuSans-48\"/>\n    </g>\n   </g>\n   <g id=\"text_37\">\n    <!-- 2 -->\n    <g style=\"fill:#ffffff;\" transform=\"translate(197.624438 58.245375)scale(0.12 -0.12)\">\n     <use xlink:href=\"#DejaVuSans-50\"/>\n    </g>\n   </g>\n   <g id=\"text_38\">\n    <!-- 0 -->\n    <g style=\"fill:#ffffff;\" transform=\"translate(224.408438 58.245375)scale(0.12 -0.12)\">\n     <use xlink:href=\"#DejaVuSans-48\"/>\n    </g>\n   </g>\n   <g id=\"text_39\">\n    <!-- 0 -->\n    <g style=\"fill:#ffffff;\" transform=\"translate(251.192438 58.245375)scale(0.12 -0.12)\">\n     <use xlink:href=\"#DejaVuSans-48\"/>\n    </g>\n   </g>\n   <g id=\"text_40\">\n    <!-- 0 -->\n    <g style=\"fill:#ffffff;\" transform=\"translate(277.976438 58.245375)scale(0.12 -0.12)\">\n     <use xlink:href=\"#DejaVuSans-48\"/>\n    </g>\n   </g>\n   <g id=\"text_41\">\n    <!-- 10 -->\n    <g style=\"fill:#ffffff;\" transform=\"translate(33.102938 79.989375)scale(0.12 -0.12)\">\n     <use xlink:href=\"#DejaVuSans-49\"/>\n     <use x=\"63.623047\" xlink:href=\"#DejaVuSans-48\"/>\n    </g>\n   </g>\n   <g id=\"text_42\">\n    <!-- 2 -->\n    <g style=\"fill:#ffffff;\" transform=\"translate(63.704438 79.989375)scale(0.12 -0.12)\">\n     <use xlink:href=\"#DejaVuSans-50\"/>\n    </g>\n   </g>\n   <g id=\"text_43\">\n    <!-- 1006 -->\n    <g style=\"fill:#262626;\" transform=\"translate(79.035938 79.989375)scale(0.12 -0.12)\">\n     <use xlink:href=\"#DejaVuSans-49\"/>\n     <use x=\"63.623047\" xlink:href=\"#DejaVuSans-48\"/>\n     <use x=\"127.246094\" xlink:href=\"#DejaVuSans-48\"/>\n     <use x=\"190.869141\" xlink:href=\"#DejaVuSans-54\"/>\n    </g>\n   </g>\n   <g id=\"text_44\">\n    <!-- 1 -->\n    <g style=\"fill:#ffffff;\" transform=\"translate(117.272438 79.989375)scale(0.12 -0.12)\">\n     <use xlink:href=\"#DejaVuSans-49\"/>\n    </g>\n   </g>\n   <g id=\"text_45\">\n    <!-- 1 -->\n    <g style=\"fill:#ffffff;\" transform=\"translate(144.056438 79.989375)scale(0.12 -0.12)\">\n     <use xlink:href=\"#DejaVuSans-49\"/>\n    </g>\n   </g>\n   <g id=\"text_46\">\n    <!-- 0 -->\n    <g style=\"fill:#ffffff;\" transform=\"translate(170.840438 79.989375)scale(0.12 -0.12)\">\n     <use xlink:href=\"#DejaVuSans-48\"/>\n    </g>\n   </g>\n   <g id=\"text_47\">\n    <!-- 0 -->\n    <g style=\"fill:#ffffff;\" transform=\"translate(197.624438 79.989375)scale(0.12 -0.12)\">\n     <use xlink:href=\"#DejaVuSans-48\"/>\n    </g>\n   </g>\n   <g id=\"text_48\">\n    <!-- 8 -->\n    <g style=\"fill:#ffffff;\" transform=\"translate(224.408438 79.989375)scale(0.12 -0.12)\">\n     <use xlink:href=\"#DejaVuSans-56\"/>\n    </g>\n   </g>\n   <g id=\"text_49\">\n    <!-- 4 -->\n    <g style=\"fill:#ffffff;\" transform=\"translate(251.192438 79.989375)scale(0.12 -0.12)\">\n     <use xlink:href=\"#DejaVuSans-52\"/>\n    </g>\n   </g>\n   <g id=\"text_50\">\n    <!-- 0 -->\n    <g style=\"fill:#ffffff;\" transform=\"translate(277.976438 79.989375)scale(0.12 -0.12)\">\n     <use xlink:href=\"#DejaVuSans-48\"/>\n    </g>\n   </g>\n   <g id=\"text_51\">\n    <!-- 3 -->\n    <g style=\"fill:#ffffff;\" transform=\"translate(36.920438 101.733375)scale(0.12 -0.12)\">\n     <use xlink:href=\"#DejaVuSans-51\"/>\n    </g>\n   </g>\n   <g id=\"text_52\">\n    <!-- 1 -->\n    <g style=\"fill:#ffffff;\" transform=\"translate(63.704438 101.733375)scale(0.12 -0.12)\">\n     <use xlink:href=\"#DejaVuSans-49\"/>\n    </g>\n   </g>\n   <g id=\"text_53\">\n    <!-- 3 -->\n    <g style=\"fill:#ffffff;\" transform=\"translate(90.488438 101.733375)scale(0.12 -0.12)\">\n     <use xlink:href=\"#DejaVuSans-51\"/>\n    </g>\n   </g>\n   <g id=\"text_54\">\n    <!-- 975 -->\n    <g style=\"fill:#262626;\" transform=\"translate(109.637438 101.733375)scale(0.12 -0.12)\">\n     <use xlink:href=\"#DejaVuSans-57\"/>\n     <use x=\"63.623047\" xlink:href=\"#DejaVuSans-55\"/>\n     <use x=\"127.246094\" xlink:href=\"#DejaVuSans-53\"/>\n    </g>\n   </g>\n   <g id=\"text_55\">\n    <!-- 1 -->\n    <g style=\"fill:#ffffff;\" transform=\"translate(144.056438 101.733375)scale(0.12 -0.12)\">\n     <use xlink:href=\"#DejaVuSans-49\"/>\n    </g>\n   </g>\n   <g id=\"text_56\">\n    <!-- 9 -->\n    <g style=\"fill:#ffffff;\" transform=\"translate(170.840438 101.733375)scale(0.12 -0.12)\">\n     <use xlink:href=\"#DejaVuSans-57\"/>\n    </g>\n   </g>\n   <g id=\"text_57\">\n    <!-- 0 -->\n    <g style=\"fill:#ffffff;\" transform=\"translate(197.624438 101.733375)scale(0.12 -0.12)\">\n     <use xlink:href=\"#DejaVuSans-48\"/>\n    </g>\n   </g>\n   <g id=\"text_58\">\n    <!-- 6 -->\n    <g style=\"fill:#ffffff;\" transform=\"translate(224.408438 101.733375)scale(0.12 -0.12)\">\n     <use xlink:href=\"#DejaVuSans-54\"/>\n    </g>\n   </g>\n   <g id=\"text_59\">\n    <!-- 9 -->\n    <g style=\"fill:#ffffff;\" transform=\"translate(251.192438 101.733375)scale(0.12 -0.12)\">\n     <use xlink:href=\"#DejaVuSans-57\"/>\n    </g>\n   </g>\n   <g id=\"text_60\">\n    <!-- 3 -->\n    <g style=\"fill:#ffffff;\" transform=\"translate(277.976438 101.733375)scale(0.12 -0.12)\">\n     <use xlink:href=\"#DejaVuSans-51\"/>\n    </g>\n   </g>\n   <g id=\"text_61\">\n    <!-- 3 -->\n    <g style=\"fill:#ffffff;\" transform=\"translate(36.920438 123.477375)scale(0.12 -0.12)\">\n     <use xlink:href=\"#DejaVuSans-51\"/>\n    </g>\n   </g>\n   <g id=\"text_62\">\n    <!-- 2 -->\n    <g style=\"fill:#ffffff;\" transform=\"translate(63.704438 123.477375)scale(0.12 -0.12)\">\n     <use xlink:href=\"#DejaVuSans-50\"/>\n    </g>\n   </g>\n   <g id=\"text_63\">\n    <!-- 0 -->\n    <g style=\"fill:#ffffff;\" transform=\"translate(90.488438 123.477375)scale(0.12 -0.12)\">\n     <use xlink:href=\"#DejaVuSans-48\"/>\n    </g>\n   </g>\n   <g id=\"text_64\">\n    <!-- 0 -->\n    <g style=\"fill:#ffffff;\" transform=\"translate(117.272438 123.477375)scale(0.12 -0.12)\">\n     <use xlink:href=\"#DejaVuSans-48\"/>\n    </g>\n   </g>\n   <g id=\"text_65\">\n    <!-- 943 -->\n    <g style=\"fill:#262626;\" transform=\"translate(136.421438 123.477375)scale(0.12 -0.12)\">\n     <use xlink:href=\"#DejaVuSans-57\"/>\n     <use x=\"63.623047\" xlink:href=\"#DejaVuSans-52\"/>\n     <use x=\"127.246094\" xlink:href=\"#DejaVuSans-51\"/>\n    </g>\n   </g>\n   <g id=\"text_66\">\n    <!-- 0 -->\n    <g style=\"fill:#ffffff;\" transform=\"translate(170.840438 123.477375)scale(0.12 -0.12)\">\n     <use xlink:href=\"#DejaVuSans-48\"/>\n    </g>\n   </g>\n   <g id=\"text_67\">\n    <!-- 6 -->\n    <g style=\"fill:#ffffff;\" transform=\"translate(197.624438 123.477375)scale(0.12 -0.12)\">\n     <use xlink:href=\"#DejaVuSans-54\"/>\n    </g>\n   </g>\n   <g id=\"text_68\">\n    <!-- 1 -->\n    <g style=\"fill:#ffffff;\" transform=\"translate(224.408438 123.477375)scale(0.12 -0.12)\">\n     <use xlink:href=\"#DejaVuSans-49\"/>\n    </g>\n   </g>\n   <g id=\"text_69\">\n    <!-- 2 -->\n    <g style=\"fill:#ffffff;\" transform=\"translate(251.192438 123.477375)scale(0.12 -0.12)\">\n     <use xlink:href=\"#DejaVuSans-50\"/>\n    </g>\n   </g>\n   <g id=\"text_70\">\n    <!-- 25 -->\n    <g style=\"fill:#ffffff;\" transform=\"translate(274.158938 123.477375)scale(0.12 -0.12)\">\n     <use xlink:href=\"#DejaVuSans-50\"/>\n     <use x=\"63.623047\" xlink:href=\"#DejaVuSans-53\"/>\n    </g>\n   </g>\n   <g id=\"text_71\">\n    <!-- 6 -->\n    <g style=\"fill:#ffffff;\" transform=\"translate(36.920438 145.221375)scale(0.12 -0.12)\">\n     <use xlink:href=\"#DejaVuSans-54\"/>\n    </g>\n   </g>\n   <g id=\"text_72\">\n    <!-- 0 -->\n    <g style=\"fill:#ffffff;\" transform=\"translate(63.704438 145.221375)scale(0.12 -0.12)\">\n     <use xlink:href=\"#DejaVuSans-48\"/>\n    </g>\n   </g>\n   <g id=\"text_73\">\n    <!-- 0 -->\n    <g style=\"fill:#ffffff;\" transform=\"translate(90.488438 145.221375)scale(0.12 -0.12)\">\n     <use xlink:href=\"#DejaVuSans-48\"/>\n    </g>\n   </g>\n   <g id=\"text_74\">\n    <!-- 7 -->\n    <g style=\"fill:#ffffff;\" transform=\"translate(117.272438 145.221375)scale(0.12 -0.12)\">\n     <use xlink:href=\"#DejaVuSans-55\"/>\n    </g>\n   </g>\n   <g id=\"text_75\">\n    <!-- 1 -->\n    <g style=\"fill:#ffffff;\" transform=\"translate(144.056438 145.221375)scale(0.12 -0.12)\">\n     <use xlink:href=\"#DejaVuSans-49\"/>\n    </g>\n   </g>\n   <g id=\"text_76\">\n    <!-- 860 -->\n    <g style=\"fill:#ffffff;\" transform=\"translate(163.205438 145.221375)scale(0.12 -0.12)\">\n     <use xlink:href=\"#DejaVuSans-56\"/>\n     <use x=\"63.623047\" xlink:href=\"#DejaVuSans-54\"/>\n     <use x=\"127.246094\" xlink:href=\"#DejaVuSans-48\"/>\n    </g>\n   </g>\n   <g id=\"text_77\">\n    <!-- 7 -->\n    <g style=\"fill:#ffffff;\" transform=\"translate(197.624438 145.221375)scale(0.12 -0.12)\">\n     <use xlink:href=\"#DejaVuSans-55\"/>\n    </g>\n   </g>\n   <g id=\"text_78\">\n    <!-- 2 -->\n    <g style=\"fill:#ffffff;\" transform=\"translate(224.408438 145.221375)scale(0.12 -0.12)\">\n     <use xlink:href=\"#DejaVuSans-50\"/>\n    </g>\n   </g>\n   <g id=\"text_79\">\n    <!-- 6 -->\n    <g style=\"fill:#ffffff;\" transform=\"translate(251.192438 145.221375)scale(0.12 -0.12)\">\n     <use xlink:href=\"#DejaVuSans-54\"/>\n    </g>\n   </g>\n   <g id=\"text_80\">\n    <!-- 3 -->\n    <g style=\"fill:#ffffff;\" transform=\"translate(277.976438 145.221375)scale(0.12 -0.12)\">\n     <use xlink:href=\"#DejaVuSans-51\"/>\n    </g>\n   </g>\n   <g id=\"text_81\">\n    <!-- 4 -->\n    <g style=\"fill:#ffffff;\" transform=\"translate(36.920438 166.965375)scale(0.12 -0.12)\">\n     <use xlink:href=\"#DejaVuSans-52\"/>\n    </g>\n   </g>\n   <g id=\"text_82\">\n    <!-- 2 -->\n    <g style=\"fill:#ffffff;\" transform=\"translate(63.704438 166.965375)scale(0.12 -0.12)\">\n     <use xlink:href=\"#DejaVuSans-50\"/>\n    </g>\n   </g>\n   <g id=\"text_83\">\n    <!-- 0 -->\n    <g style=\"fill:#ffffff;\" transform=\"translate(90.488438 166.965375)scale(0.12 -0.12)\">\n     <use xlink:href=\"#DejaVuSans-48\"/>\n    </g>\n   </g>\n   <g id=\"text_84\">\n    <!-- 0 -->\n    <g style=\"fill:#ffffff;\" transform=\"translate(117.272438 166.965375)scale(0.12 -0.12)\">\n     <use xlink:href=\"#DejaVuSans-48\"/>\n    </g>\n   </g>\n   <g id=\"text_85\">\n    <!-- 2 -->\n    <g style=\"fill:#ffffff;\" transform=\"translate(144.056438 166.965375)scale(0.12 -0.12)\">\n     <use xlink:href=\"#DejaVuSans-50\"/>\n    </g>\n   </g>\n   <g id=\"text_86\">\n    <!-- 2 -->\n    <g style=\"fill:#ffffff;\" transform=\"translate(170.840438 166.965375)scale(0.12 -0.12)\">\n     <use xlink:href=\"#DejaVuSans-50\"/>\n    </g>\n   </g>\n   <g id=\"text_87\">\n    <!-- 948 -->\n    <g style=\"fill:#262626;\" transform=\"translate(189.989438 166.965375)scale(0.12 -0.12)\">\n     <use xlink:href=\"#DejaVuSans-57\"/>\n     <use x=\"63.623047\" xlink:href=\"#DejaVuSans-52\"/>\n     <use x=\"127.246094\" xlink:href=\"#DejaVuSans-56\"/>\n    </g>\n   </g>\n   <g id=\"text_88\">\n    <!-- 0 -->\n    <g style=\"fill:#ffffff;\" transform=\"translate(224.408438 166.965375)scale(0.12 -0.12)\">\n     <use xlink:href=\"#DejaVuSans-48\"/>\n    </g>\n   </g>\n   <g id=\"text_89\">\n    <!-- 0 -->\n    <g style=\"fill:#ffffff;\" transform=\"translate(251.192438 166.965375)scale(0.12 -0.12)\">\n     <use xlink:href=\"#DejaVuSans-48\"/>\n    </g>\n   </g>\n   <g id=\"text_90\">\n    <!-- 0 -->\n    <g style=\"fill:#ffffff;\" transform=\"translate(277.976438 166.965375)scale(0.12 -0.12)\">\n     <use xlink:href=\"#DejaVuSans-48\"/>\n    </g>\n   </g>\n   <g id=\"text_91\">\n    <!-- 2 -->\n    <g style=\"fill:#ffffff;\" transform=\"translate(36.920438 188.709375)scale(0.12 -0.12)\">\n     <use xlink:href=\"#DejaVuSans-50\"/>\n    </g>\n   </g>\n   <g id=\"text_92\">\n    <!-- 12 -->\n    <g style=\"fill:#ffffff;\" transform=\"translate(59.886938 188.709375)scale(0.12 -0.12)\">\n     <use xlink:href=\"#DejaVuSans-49\"/>\n     <use x=\"63.623047\" xlink:href=\"#DejaVuSans-50\"/>\n    </g>\n   </g>\n   <g id=\"text_93\">\n    <!-- 6 -->\n    <g style=\"fill:#ffffff;\" transform=\"translate(90.488438 188.709375)scale(0.12 -0.12)\">\n     <use xlink:href=\"#DejaVuSans-54\"/>\n    </g>\n   </g>\n   <g id=\"text_94\">\n    <!-- 0 -->\n    <g style=\"fill:#ffffff;\" transform=\"translate(117.272438 188.709375)scale(0.12 -0.12)\">\n     <use xlink:href=\"#DejaVuSans-48\"/>\n    </g>\n   </g>\n   <g id=\"text_95\">\n    <!-- 0 -->\n    <g style=\"fill:#ffffff;\" transform=\"translate(144.056438 188.709375)scale(0.12 -0.12)\">\n     <use xlink:href=\"#DejaVuSans-48\"/>\n    </g>\n   </g>\n   <g id=\"text_96\">\n    <!-- 0 -->\n    <g style=\"fill:#ffffff;\" transform=\"translate(170.840438 188.709375)scale(0.12 -0.12)\">\n     <use xlink:href=\"#DejaVuSans-48\"/>\n    </g>\n   </g>\n   <g id=\"text_97\">\n    <!-- 0 -->\n    <g style=\"fill:#ffffff;\" transform=\"translate(197.624438 188.709375)scale(0.12 -0.12)\">\n     <use xlink:href=\"#DejaVuSans-48\"/>\n    </g>\n   </g>\n   <g id=\"text_98\">\n    <!-- 992 -->\n    <g style=\"fill:#262626;\" transform=\"translate(216.773438 188.709375)scale(0.12 -0.12)\">\n     <use xlink:href=\"#DejaVuSans-57\"/>\n     <use x=\"63.623047\" xlink:href=\"#DejaVuSans-57\"/>\n     <use x=\"127.246094\" xlink:href=\"#DejaVuSans-50\"/>\n    </g>\n   </g>\n   <g id=\"text_99\">\n    <!-- 0 -->\n    <g style=\"fill:#ffffff;\" transform=\"translate(251.192438 188.709375)scale(0.12 -0.12)\">\n     <use xlink:href=\"#DejaVuSans-48\"/>\n    </g>\n   </g>\n   <g id=\"text_100\">\n    <!-- 16 -->\n    <g style=\"fill:#ffffff;\" transform=\"translate(274.158938 188.709375)scale(0.12 -0.12)\">\n     <use xlink:href=\"#DejaVuSans-49\"/>\n     <use x=\"63.623047\" xlink:href=\"#DejaVuSans-54\"/>\n    </g>\n   </g>\n   <g id=\"text_101\">\n    <!-- 6 -->\n    <g style=\"fill:#ffffff;\" transform=\"translate(36.920438 210.453375)scale(0.12 -0.12)\">\n     <use xlink:href=\"#DejaVuSans-54\"/>\n    </g>\n   </g>\n   <g id=\"text_102\">\n    <!-- 3 -->\n    <g style=\"fill:#ffffff;\" transform=\"translate(63.704438 210.453375)scale(0.12 -0.12)\">\n     <use xlink:href=\"#DejaVuSans-51\"/>\n    </g>\n   </g>\n   <g id=\"text_103\">\n    <!-- 3 -->\n    <g style=\"fill:#ffffff;\" transform=\"translate(90.488438 210.453375)scale(0.12 -0.12)\">\n     <use xlink:href=\"#DejaVuSans-51\"/>\n    </g>\n   </g>\n   <g id=\"text_104\">\n    <!-- 9 -->\n    <g style=\"fill:#ffffff;\" transform=\"translate(117.272438 210.453375)scale(0.12 -0.12)\">\n     <use xlink:href=\"#DejaVuSans-57\"/>\n    </g>\n   </g>\n   <g id=\"text_105\">\n    <!-- 3 -->\n    <g style=\"fill:#ffffff;\" transform=\"translate(144.056438 210.453375)scale(0.12 -0.12)\">\n     <use xlink:href=\"#DejaVuSans-51\"/>\n    </g>\n   </g>\n   <g id=\"text_106\">\n    <!-- 5 -->\n    <g style=\"fill:#ffffff;\" transform=\"translate(170.840438 210.453375)scale(0.12 -0.12)\">\n     <use xlink:href=\"#DejaVuSans-53\"/>\n    </g>\n   </g>\n   <g id=\"text_107\">\n    <!-- 4 -->\n    <g style=\"fill:#ffffff;\" transform=\"translate(197.624438 210.453375)scale(0.12 -0.12)\">\n     <use xlink:href=\"#DejaVuSans-52\"/>\n    </g>\n   </g>\n   <g id=\"text_108\">\n    <!-- 3 -->\n    <g style=\"fill:#ffffff;\" transform=\"translate(224.408438 210.453375)scale(0.12 -0.12)\">\n     <use xlink:href=\"#DejaVuSans-51\"/>\n    </g>\n   </g>\n   <g id=\"text_109\">\n    <!-- 934 -->\n    <g style=\"fill:#262626;\" transform=\"translate(243.557438 210.453375)scale(0.12 -0.12)\">\n     <use xlink:href=\"#DejaVuSans-57\"/>\n     <use x=\"63.623047\" xlink:href=\"#DejaVuSans-51\"/>\n     <use x=\"127.246094\" xlink:href=\"#DejaVuSans-52\"/>\n    </g>\n   </g>\n   <g id=\"text_110\">\n    <!-- 4 -->\n    <g style=\"fill:#ffffff;\" transform=\"translate(277.976438 210.453375)scale(0.12 -0.12)\">\n     <use xlink:href=\"#DejaVuSans-52\"/>\n    </g>\n   </g>\n   <g id=\"text_111\">\n    <!-- 9 -->\n    <g style=\"fill:#ffffff;\" transform=\"translate(36.920438 232.197375)scale(0.12 -0.12)\">\n     <use xlink:href=\"#DejaVuSans-57\"/>\n    </g>\n   </g>\n   <g id=\"text_112\">\n    <!-- 8 -->\n    <g style=\"fill:#ffffff;\" transform=\"translate(63.704438 232.197375)scale(0.12 -0.12)\">\n     <use xlink:href=\"#DejaVuSans-56\"/>\n    </g>\n   </g>\n   <g id=\"text_113\">\n    <!-- 2 -->\n    <g style=\"fill:#ffffff;\" transform=\"translate(90.488438 232.197375)scale(0.12 -0.12)\">\n     <use xlink:href=\"#DejaVuSans-50\"/>\n    </g>\n   </g>\n   <g id=\"text_114\">\n    <!-- 6 -->\n    <g style=\"fill:#ffffff;\" transform=\"translate(117.272438 232.197375)scale(0.12 -0.12)\">\n     <use xlink:href=\"#DejaVuSans-54\"/>\n    </g>\n   </g>\n   <g id=\"text_115\">\n    <!-- 4 -->\n    <g style=\"fill:#ffffff;\" transform=\"translate(144.056438 232.197375)scale(0.12 -0.12)\">\n     <use xlink:href=\"#DejaVuSans-52\"/>\n    </g>\n   </g>\n   <g id=\"text_116\">\n    <!-- 3 -->\n    <g style=\"fill:#ffffff;\" transform=\"translate(170.840438 232.197375)scale(0.12 -0.12)\">\n     <use xlink:href=\"#DejaVuSans-51\"/>\n    </g>\n   </g>\n   <g id=\"text_117\">\n    <!-- 1 -->\n    <g style=\"fill:#ffffff;\" transform=\"translate(197.624438 232.197375)scale(0.12 -0.12)\">\n     <use xlink:href=\"#DejaVuSans-49\"/>\n    </g>\n   </g>\n   <g id=\"text_118\">\n    <!-- 6 -->\n    <g style=\"fill:#ffffff;\" transform=\"translate(224.408438 232.197375)scale(0.12 -0.12)\">\n     <use xlink:href=\"#DejaVuSans-54\"/>\n    </g>\n   </g>\n   <g id=\"text_119\">\n    <!-- 4 -->\n    <g style=\"fill:#ffffff;\" transform=\"translate(251.192438 232.197375)scale(0.12 -0.12)\">\n     <use xlink:href=\"#DejaVuSans-52\"/>\n    </g>\n   </g>\n   <g id=\"text_120\">\n    <!-- 966 -->\n    <g style=\"fill:#262626;\" transform=\"translate(270.341438 232.197375)scale(0.12 -0.12)\">\n     <use xlink:href=\"#DejaVuSans-57\"/>\n     <use x=\"63.623047\" xlink:href=\"#DejaVuSans-54\"/>\n     <use x=\"127.246094\" xlink:href=\"#DejaVuSans-54\"/>\n    </g>\n   </g>\n   <g id=\"text_121\">\n    <!-- Confusion matrix -->\n    <defs>\n     <path d=\"M 64.40625 67.28125 \nL 64.40625 56.890625 \nQ 59.421875 61.53125 53.78125 63.8125 \nQ 48.140625 66.109375 41.796875 66.109375 \nQ 29.296875 66.109375 22.65625 58.46875 \nQ 16.015625 50.828125 16.015625 36.375 \nQ 16.015625 21.96875 22.65625 14.328125 \nQ 29.296875 6.6875 41.796875 6.6875 \nQ 48.140625 6.6875 53.78125 8.984375 \nQ 59.421875 11.28125 64.40625 15.921875 \nL 64.40625 5.609375 \nQ 59.234375 2.09375 53.4375 0.328125 \nQ 47.65625 -1.421875 41.21875 -1.421875 \nQ 24.65625 -1.421875 15.125 8.703125 \nQ 5.609375 18.84375 5.609375 36.375 \nQ 5.609375 53.953125 15.125 64.078125 \nQ 24.65625 74.21875 41.21875 74.21875 \nQ 47.75 74.21875 53.53125 72.484375 \nQ 59.328125 70.75 64.40625 67.28125 \nz\n\" id=\"DejaVuSans-67\"/>\n     <path d=\"M 30.609375 48.390625 \nQ 23.390625 48.390625 19.1875 42.75 \nQ 14.984375 37.109375 14.984375 27.296875 \nQ 14.984375 17.484375 19.15625 11.84375 \nQ 23.34375 6.203125 30.609375 6.203125 \nQ 37.796875 6.203125 41.984375 11.859375 \nQ 46.1875 17.53125 46.1875 27.296875 \nQ 46.1875 37.015625 41.984375 42.703125 \nQ 37.796875 48.390625 30.609375 48.390625 \nz\nM 30.609375 56 \nQ 42.328125 56 49.015625 48.375 \nQ 55.71875 40.765625 55.71875 27.296875 \nQ 55.71875 13.875 49.015625 6.21875 \nQ 42.328125 -1.421875 30.609375 -1.421875 \nQ 18.84375 -1.421875 12.171875 6.21875 \nQ 5.515625 13.875 5.515625 27.296875 \nQ 5.515625 40.765625 12.171875 48.375 \nQ 18.84375 56 30.609375 56 \nz\n\" id=\"DejaVuSans-111\"/>\n     <path d=\"M 54.890625 33.015625 \nL 54.890625 0 \nL 45.90625 0 \nL 45.90625 32.71875 \nQ 45.90625 40.484375 42.875 44.328125 \nQ 39.84375 48.1875 33.796875 48.1875 \nQ 26.515625 48.1875 22.3125 43.546875 \nQ 18.109375 38.921875 18.109375 30.90625 \nL 18.109375 0 \nL 9.078125 0 \nL 9.078125 54.6875 \nL 18.109375 54.6875 \nL 18.109375 46.1875 \nQ 21.34375 51.125 25.703125 53.5625 \nQ 30.078125 56 35.796875 56 \nQ 45.21875 56 50.046875 50.171875 \nQ 54.890625 44.34375 54.890625 33.015625 \nz\n\" id=\"DejaVuSans-110\"/>\n     <path d=\"M 37.109375 75.984375 \nL 37.109375 68.5 \nL 28.515625 68.5 \nQ 23.6875 68.5 21.796875 66.546875 \nQ 19.921875 64.59375 19.921875 59.515625 \nL 19.921875 54.6875 \nL 34.71875 54.6875 \nL 34.71875 47.703125 \nL 19.921875 47.703125 \nL 19.921875 0 \nL 10.890625 0 \nL 10.890625 47.703125 \nL 2.296875 47.703125 \nL 2.296875 54.6875 \nL 10.890625 54.6875 \nL 10.890625 58.5 \nQ 10.890625 67.625 15.140625 71.796875 \nQ 19.390625 75.984375 28.609375 75.984375 \nz\n\" id=\"DejaVuSans-102\"/>\n     <path d=\"M 8.5 21.578125 \nL 8.5 54.6875 \nL 17.484375 54.6875 \nL 17.484375 21.921875 \nQ 17.484375 14.15625 20.5 10.265625 \nQ 23.53125 6.390625 29.59375 6.390625 \nQ 36.859375 6.390625 41.078125 11.03125 \nQ 45.3125 15.671875 45.3125 23.6875 \nL 45.3125 54.6875 \nL 54.296875 54.6875 \nL 54.296875 0 \nL 45.3125 0 \nL 45.3125 8.40625 \nQ 42.046875 3.421875 37.71875 1 \nQ 33.40625 -1.421875 27.6875 -1.421875 \nQ 18.265625 -1.421875 13.375 4.4375 \nQ 8.5 10.296875 8.5 21.578125 \nz\nM 31.109375 56 \nz\n\" id=\"DejaVuSans-117\"/>\n     <path d=\"M 44.28125 53.078125 \nL 44.28125 44.578125 \nQ 40.484375 46.53125 36.375 47.5 \nQ 32.28125 48.484375 27.875 48.484375 \nQ 21.1875 48.484375 17.84375 46.4375 \nQ 14.5 44.390625 14.5 40.28125 \nQ 14.5 37.15625 16.890625 35.375 \nQ 19.28125 33.59375 26.515625 31.984375 \nL 29.59375 31.296875 \nQ 39.15625 29.25 43.1875 25.515625 \nQ 47.21875 21.78125 47.21875 15.09375 \nQ 47.21875 7.46875 41.1875 3.015625 \nQ 35.15625 -1.421875 24.609375 -1.421875 \nQ 20.21875 -1.421875 15.453125 -0.5625 \nQ 10.6875 0.296875 5.421875 2 \nL 5.421875 11.28125 \nQ 10.40625 8.6875 15.234375 7.390625 \nQ 20.0625 6.109375 24.8125 6.109375 \nQ 31.15625 6.109375 34.5625 8.28125 \nQ 37.984375 10.453125 37.984375 14.40625 \nQ 37.984375 18.0625 35.515625 20.015625 \nQ 33.0625 21.96875 24.703125 23.78125 \nL 21.578125 24.515625 \nQ 13.234375 26.265625 9.515625 29.90625 \nQ 5.8125 33.546875 5.8125 39.890625 \nQ 5.8125 47.609375 11.28125 51.796875 \nQ 16.75 56 26.8125 56 \nQ 31.78125 56 36.171875 55.265625 \nQ 40.578125 54.546875 44.28125 53.078125 \nz\n\" id=\"DejaVuSans-115\"/>\n     <path d=\"M 9.421875 54.6875 \nL 18.40625 54.6875 \nL 18.40625 0 \nL 9.421875 0 \nz\nM 9.421875 75.984375 \nL 18.40625 75.984375 \nL 18.40625 64.59375 \nL 9.421875 64.59375 \nz\n\" id=\"DejaVuSans-105\"/>\n     <path id=\"DejaVuSans-32\"/>\n     <path d=\"M 52 44.1875 \nQ 55.375 50.25 60.0625 53.125 \nQ 64.75 56 71.09375 56 \nQ 79.640625 56 84.28125 50.015625 \nQ 88.921875 44.046875 88.921875 33.015625 \nL 88.921875 0 \nL 79.890625 0 \nL 79.890625 32.71875 \nQ 79.890625 40.578125 77.09375 44.375 \nQ 74.3125 48.1875 68.609375 48.1875 \nQ 61.625 48.1875 57.5625 43.546875 \nQ 53.515625 38.921875 53.515625 30.90625 \nL 53.515625 0 \nL 44.484375 0 \nL 44.484375 32.71875 \nQ 44.484375 40.625 41.703125 44.40625 \nQ 38.921875 48.1875 33.109375 48.1875 \nQ 26.21875 48.1875 22.15625 43.53125 \nQ 18.109375 38.875 18.109375 30.90625 \nL 18.109375 0 \nL 9.078125 0 \nL 9.078125 54.6875 \nL 18.109375 54.6875 \nL 18.109375 46.1875 \nQ 21.1875 51.21875 25.484375 53.609375 \nQ 29.78125 56 35.6875 56 \nQ 41.65625 56 45.828125 52.96875 \nQ 50 49.953125 52 44.1875 \nz\n\" id=\"DejaVuSans-109\"/>\n     <path d=\"M 34.28125 27.484375 \nQ 23.390625 27.484375 19.1875 25 \nQ 14.984375 22.515625 14.984375 16.5 \nQ 14.984375 11.71875 18.140625 8.90625 \nQ 21.296875 6.109375 26.703125 6.109375 \nQ 34.1875 6.109375 38.703125 11.40625 \nQ 43.21875 16.703125 43.21875 25.484375 \nL 43.21875 27.484375 \nz\nM 52.203125 31.203125 \nL 52.203125 0 \nL 43.21875 0 \nL 43.21875 8.296875 \nQ 40.140625 3.328125 35.546875 0.953125 \nQ 30.953125 -1.421875 24.3125 -1.421875 \nQ 15.921875 -1.421875 10.953125 3.296875 \nQ 6 8.015625 6 15.921875 \nQ 6 25.140625 12.171875 29.828125 \nQ 18.359375 34.515625 30.609375 34.515625 \nL 43.21875 34.515625 \nL 43.21875 35.40625 \nQ 43.21875 41.609375 39.140625 45 \nQ 35.0625 48.390625 27.6875 48.390625 \nQ 23 48.390625 18.546875 47.265625 \nQ 14.109375 46.140625 10.015625 43.890625 \nL 10.015625 52.203125 \nQ 14.9375 54.109375 19.578125 55.046875 \nQ 24.21875 56 28.609375 56 \nQ 40.484375 56 46.34375 49.84375 \nQ 52.203125 43.703125 52.203125 31.203125 \nz\n\" id=\"DejaVuSans-97\"/>\n     <path d=\"M 18.3125 70.21875 \nL 18.3125 54.6875 \nL 36.8125 54.6875 \nL 36.8125 47.703125 \nL 18.3125 47.703125 \nL 18.3125 18.015625 \nQ 18.3125 11.328125 20.140625 9.421875 \nQ 21.96875 7.515625 27.59375 7.515625 \nL 36.8125 7.515625 \nL 36.8125 0 \nL 27.59375 0 \nQ 17.1875 0 13.234375 3.875 \nQ 9.28125 7.765625 9.28125 18.015625 \nL 9.28125 47.703125 \nL 2.6875 47.703125 \nL 2.6875 54.6875 \nL 9.28125 54.6875 \nL 9.28125 70.21875 \nz\n\" id=\"DejaVuSans-116\"/>\n     <path d=\"M 41.109375 46.296875 \nQ 39.59375 47.171875 37.8125 47.578125 \nQ 36.03125 48 33.890625 48 \nQ 26.265625 48 22.1875 43.046875 \nQ 18.109375 38.09375 18.109375 28.8125 \nL 18.109375 0 \nL 9.078125 0 \nL 9.078125 54.6875 \nL 18.109375 54.6875 \nL 18.109375 46.1875 \nQ 20.953125 51.171875 25.484375 53.578125 \nQ 30.03125 56 36.53125 56 \nQ 37.453125 56 38.578125 55.875 \nQ 39.703125 55.765625 41.0625 55.515625 \nz\n\" id=\"DejaVuSans-114\"/>\n     <path d=\"M 54.890625 54.6875 \nL 35.109375 28.078125 \nL 55.90625 0 \nL 45.3125 0 \nL 29.390625 21.484375 \nL 13.484375 0 \nL 2.875 0 \nL 24.125 28.609375 \nL 4.6875 54.6875 \nL 15.28125 54.6875 \nL 29.78125 35.203125 \nL 44.28125 54.6875 \nz\n\" id=\"DejaVuSans-120\"/>\n    </defs>\n    <g style=\"fill:#262626;\" transform=\"translate(109.956563 16.318125)scale(0.12 -0.12)\">\n     <use xlink:href=\"#DejaVuSans-67\"/>\n     <use x=\"69.824219\" xlink:href=\"#DejaVuSans-111\"/>\n     <use x=\"131.005859\" xlink:href=\"#DejaVuSans-110\"/>\n     <use x=\"194.384766\" xlink:href=\"#DejaVuSans-102\"/>\n     <use x=\"229.589844\" xlink:href=\"#DejaVuSans-117\"/>\n     <use x=\"292.96875\" xlink:href=\"#DejaVuSans-115\"/>\n     <use x=\"345.068359\" xlink:href=\"#DejaVuSans-105\"/>\n     <use x=\"372.851562\" xlink:href=\"#DejaVuSans-111\"/>\n     <use x=\"434.033203\" xlink:href=\"#DejaVuSans-110\"/>\n     <use x=\"497.412109\" xlink:href=\"#DejaVuSans-32\"/>\n     <use x=\"529.199219\" xlink:href=\"#DejaVuSans-109\"/>\n     <use x=\"626.611328\" xlink:href=\"#DejaVuSans-97\"/>\n     <use x=\"687.890625\" xlink:href=\"#DejaVuSans-116\"/>\n     <use x=\"727.099609\" xlink:href=\"#DejaVuSans-114\"/>\n     <use x=\"768.212891\" xlink:href=\"#DejaVuSans-105\"/>\n     <use x=\"795.996094\" xlink:href=\"#DejaVuSans-120\"/>\n    </g>\n   </g>\n  </g>\n  <g id=\"axes_2\">\n   <g id=\"patch_3\">\n    <path clip-path=\"url(#pc2ce64b545)\" d=\"M 311.925938 239.758125 \nL 311.925938 238.90875 \nL 311.925938 23.1675 \nL 311.925938 22.318125 \nL 322.797938 22.318125 \nL 322.797938 23.1675 \nL 322.797938 238.90875 \nL 322.797938 239.758125 \nz\n\" style=\"fill:#eaeaf2;stroke:#eaeaf2;stroke-linejoin:miter;stroke-width:0.01;\"/>\n   </g>\n   <g id=\"matplotlib.axis_3\"/>\n   <g id=\"matplotlib.axis_4\">\n    <g id=\"ytick_11\">\n     <g id=\"line2d_1\">\n      <defs>\n       <path d=\"M 0 0 \nL 6 0 \n\" id=\"m5c8f444f27\" style=\"stroke:#262626;stroke-width:1.25;\"/>\n      </defs>\n      <g>\n       <use style=\"fill:#262626;stroke:#262626;stroke-width:1.25;\" x=\"322.797938\" xlink:href=\"#m5c8f444f27\" y=\"239.758125\"/>\n      </g>\n     </g>\n     <g id=\"text_122\">\n      <!-- 0 -->\n      <g style=\"fill:#262626;\" transform=\"translate(332.297938 243.937266)scale(0.11 -0.11)\">\n       <use xlink:href=\"#DejaVuSans-48\"/>\n      </g>\n     </g>\n    </g>\n    <g id=\"ytick_12\">\n     <g id=\"line2d_2\">\n      <g>\n       <use style=\"fill:#262626;stroke:#262626;stroke-width:1.25;\" x=\"322.797938\" xlink:href=\"#m5c8f444f27\" y=\"201.307197\"/>\n      </g>\n     </g>\n     <g id=\"text_123\">\n      <!-- 200 -->\n      <g style=\"fill:#262626;\" transform=\"translate(332.297938 205.486337)scale(0.11 -0.11)\">\n       <use xlink:href=\"#DejaVuSans-50\"/>\n       <use x=\"63.623047\" xlink:href=\"#DejaVuSans-48\"/>\n       <use x=\"127.246094\" xlink:href=\"#DejaVuSans-48\"/>\n      </g>\n     </g>\n    </g>\n    <g id=\"ytick_13\">\n     <g id=\"line2d_3\">\n      <g>\n       <use style=\"fill:#262626;stroke:#262626;stroke-width:1.25;\" x=\"322.797938\" xlink:href=\"#m5c8f444f27\" y=\"162.856268\"/>\n      </g>\n     </g>\n     <g id=\"text_124\">\n      <!-- 400 -->\n      <g style=\"fill:#262626;\" transform=\"translate(332.297938 167.035409)scale(0.11 -0.11)\">\n       <use xlink:href=\"#DejaVuSans-52\"/>\n       <use x=\"63.623047\" xlink:href=\"#DejaVuSans-48\"/>\n       <use x=\"127.246094\" xlink:href=\"#DejaVuSans-48\"/>\n      </g>\n     </g>\n    </g>\n    <g id=\"ytick_14\">\n     <g id=\"line2d_4\">\n      <g>\n       <use style=\"fill:#262626;stroke:#262626;stroke-width:1.25;\" x=\"322.797938\" xlink:href=\"#m5c8f444f27\" y=\"124.40534\"/>\n      </g>\n     </g>\n     <g id=\"text_125\">\n      <!-- 600 -->\n      <g style=\"fill:#262626;\" transform=\"translate(332.297938 128.58448)scale(0.11 -0.11)\">\n       <use xlink:href=\"#DejaVuSans-54\"/>\n       <use x=\"63.623047\" xlink:href=\"#DejaVuSans-48\"/>\n       <use x=\"127.246094\" xlink:href=\"#DejaVuSans-48\"/>\n      </g>\n     </g>\n    </g>\n    <g id=\"ytick_15\">\n     <g id=\"line2d_5\">\n      <g>\n       <use style=\"fill:#262626;stroke:#262626;stroke-width:1.25;\" x=\"322.797938\" xlink:href=\"#m5c8f444f27\" y=\"85.954411\"/>\n      </g>\n     </g>\n     <g id=\"text_126\">\n      <!-- 800 -->\n      <g style=\"fill:#262626;\" transform=\"translate(332.297938 90.133552)scale(0.11 -0.11)\">\n       <use xlink:href=\"#DejaVuSans-56\"/>\n       <use x=\"63.623047\" xlink:href=\"#DejaVuSans-48\"/>\n       <use x=\"127.246094\" xlink:href=\"#DejaVuSans-48\"/>\n      </g>\n     </g>\n    </g>\n    <g id=\"ytick_16\">\n     <g id=\"line2d_6\">\n      <g>\n       <use style=\"fill:#262626;stroke:#262626;stroke-width:1.25;\" x=\"322.797938\" xlink:href=\"#m5c8f444f27\" y=\"47.503483\"/>\n      </g>\n     </g>\n     <g id=\"text_127\">\n      <!-- 1000 -->\n      <g style=\"fill:#262626;\" transform=\"translate(332.297938 51.682624)scale(0.11 -0.11)\">\n       <use xlink:href=\"#DejaVuSans-49\"/>\n       <use x=\"63.623047\" xlink:href=\"#DejaVuSans-48\"/>\n       <use x=\"127.246094\" xlink:href=\"#DejaVuSans-48\"/>\n       <use x=\"190.869141\" xlink:href=\"#DejaVuSans-48\"/>\n      </g>\n     </g>\n    </g>\n   </g>\n   <image height=\"218\" id=\"image1261074acf\" transform=\"scale(1 -1)translate(0 -218)\" width=\"11\" x=\"312\" xlink:href=\"data:image/png;base64,\niVBORw0KGgoAAAANSUhEUgAAAAsAAADaCAYAAABwzrisAAAABHNCSVQICAgIfAhkiAAAAWRJREFUaIHt2kGKgzEMg9E4Ti8x9z/n/N12mTcg8EC7FuKz7LhpaPXr51mXn1O3yrXW2Xvfi2vde58qEG8RE0ZLgXtIgeQszLskjRnMyTRaxKkRDQ5/rt1U4JR2z1gFueiupTwbM9LA4R+BcZ9yNOeOTR0VGNwbgnGCuw4wcs7/s93kDOITG6RkdCA+zwiM4K4T53P9YylcoIhjzEfEJRhD0ri/xEdz3uve2jBs8z+CIc5D0ihxtuEn5qAziBtOLDKTs4htkMS59y9gAEcyjRhGdywNOLHB6HYLhjFfa9U5hrHh3mNNgacCTgOcF80GrH7EsDRizlYgXLaxwJTzEueCbxV0tgJjGA3vdYiRcg5G1/B0j8yxnOXF1ZzhN1AQIxidtVsw5CUQT0oujfvVj2fQZiMmpqZIGlOYyTlXYK7dOedvGh/i6lfIeUoaMwos+atAMg0a/tytgKL7FvhHZxl+edtbb2flKyWOo4sRAAAAAElFTkSuQmCC\" y=\"-22\"/>\n   <g id=\"patch_4\">\n    <path d=\"M 311.925938 239.758125 \nL 311.925938 238.90875 \nL 311.925938 23.1675 \nL 311.925938 22.318125 \nL 322.797938 22.318125 \nL 322.797938 23.1675 \nL 322.797938 238.90875 \nL 322.797938 239.758125 \nz\n\" style=\"fill:none;\"/>\n   </g>\n  </g>\n </g>\n <defs>\n  <clipPath id=\"p010bbdb150\">\n   <rect height=\"217.44\" width=\"267.84\" x=\"27.345938\" y=\"22.318125\"/>\n  </clipPath>\n  <clipPath id=\"pc2ce64b545\">\n   <rect height=\"217.44\" width=\"10.872\" x=\"311.925938\" y=\"22.318125\"/>\n  </clipPath>\n </defs>\n</svg>\n"
          },
          "metadata": {}
        }
      ]
    },
    {
      "cell_type": "markdown",
      "metadata": {
        "id": "o8BZ3fL-0CDO"
      },
      "source": [
        "cf_matrix example: https://medium.com/@dtuk81/confusion-matrix-visualization-fc31e3f30fea"
      ]
    },
    {
      "cell_type": "code",
      "metadata": {
        "id": "DBeBoz-Mgvsb",
        "colab": {
          "base_uri": "https://localhost:8080/",
          "height": 411
        },
        "outputId": "44cd09a0-a455-4c10-d8cf-48a4d874f4c4"
      },
      "source": [
        "wrong_answers = data_test[pred1 != target_test]\n",
        "wrong_targets = pred1[pred1 != target_test]\n",
        "correct_targets = target_test[pred1 != target_test]\n",
        "\n",
        "ind1 = np.where([(pred1 == 7) & (target_test == 9)])\n",
        "print(ind1)\n",
        "plt.imshow(data_test[4224].reshape(28, 28), cmap=\"Greys\")\n",
        "plt.title(target_test[4224])"
      ],
      "execution_count": 191,
      "outputs": [
        {
          "output_type": "stream",
          "name": "stdout",
          "text": [
            "(array([0, 0, 0, 0, 0, 0]), array([1695, 3060, 4224, 9544, 9642, 9741]))\n"
          ]
        },
        {
          "output_type": "execute_result",
          "data": {
            "text/plain": [
              "Text(0.5, 1.0, '9')"
            ]
          },
          "metadata": {},
          "execution_count": 191
        },
        {
          "output_type": "display_data",
          "data": {
            "text/plain": [
              "<Figure size 432x288 with 1 Axes>"
            ],
            "image/svg+xml": "<?xml version=\"1.0\" encoding=\"utf-8\" standalone=\"no\"?>\n<!DOCTYPE svg PUBLIC \"-//W3C//DTD SVG 1.1//EN\"\n  \"http://www.w3.org/Graphics/SVG/1.1/DTD/svg11.dtd\">\n<!-- Created with matplotlib (https://matplotlib.org/) -->\n<svg height=\"267.104062pt\" version=\"1.1\" viewBox=\"0 0 255.3375 267.104062\" width=\"255.3375pt\" xmlns=\"http://www.w3.org/2000/svg\" xmlns:xlink=\"http://www.w3.org/1999/xlink\">\n <defs>\n  <style type=\"text/css\">\n*{stroke-linecap:butt;stroke-linejoin:round;}\n  </style>\n </defs>\n <g id=\"figure_1\">\n  <g id=\"patch_1\">\n   <path d=\"M 0 267.104062 \nL 255.3375 267.104062 \nL 255.3375 0 \nL 0 0 \nz\n\" style=\"fill:#ffffff;\"/>\n  </g>\n  <g id=\"axes_1\">\n   <g id=\"patch_2\">\n    <path d=\"M 30.6975 239.758125 \nL 248.1375 239.758125 \nL 248.1375 22.318125 \nL 30.6975 22.318125 \nz\n\" style=\"fill:#eaeaf2;\"/>\n   </g>\n   <g clip-path=\"url(#pcbd525f31c)\">\n    <image height=\"218\" id=\"imageb082366110\" transform=\"scale(1 -1)translate(0 -218)\" width=\"218\" x=\"30.6975\" xlink:href=\"data:image/png;base64,\niVBORw0KGgoAAAANSUhEUgAAANoAAADaCAYAAADAHVzbAAAABHNCSVQICAgIfAhkiAAABJNJREFUeJzt3bGrz3scx3HncCwGJYuBweIPYGCWVcnfYHRCrFZRsrBZjeqsymKUVf4Cssggcsjp3OkOyu996lz3eep3Ho/11UffTp7nU+fb75yV7e3t7QPA/2p1rx8A9gOhQUBoEBAaBIQGAaFBQGgQOLTXD8Dfd/fu3XE/evTowu3mzZvj2dVV35t3w1cNAkKDgNAgIDQICA0CQoOA0CCw4vNoy+fx48fjvr6+vnD78ePHeHZtbW1Xz7TfudEgIDQICA0CQoOA0CAgNAj4mMwSunDhwq7Pbm5ujrsf7++OGw0CQoOA0CAgNAgIDQJCg4DQIOBjMktoa2tr3Kd3YS9evBjPXrp0aVfPtN+50SAgNAgIDQJCg4DQICA0CAgNAj6Pxm82NjbG3Xu03XGjQUBoEBAaBIQGAaFBQGgQEBoEvEfjN58+fdrrR1hKbjQICA0CQoOA0CAgNAgIDQJCg4DQICA0CAgNAkKDgNAgIDQICA0CQoOA0CAgNAgIDQJCg4DQICA0CAgNAkKDgNAgIDQICA0CQoOA0CAgNAgIDQJCg4DQICA0CAgNAkKDgNAgIDQICA0CQoOA0CAgNAgIDQJCg4DQICA0CBza6wfg71tdnb9/Xr16NXoS/uVGg4DQICA0CAgNAkKDgNAgIDQIeI+2hFZWVsb9+PHjC7fPnz//7cfhgBsNEkKDgNAgIDQICA0CQoOA0CDgPRq/ef/+/bj/+vVr3A8d8l/qT9xoEBAaBIQGAaFBQGgQEBoEhAaBpX3psbW1Ne5PnjwZ9w8fPoz7yZMnx/3y5csLt1OnTo1n99KJEyfG/eDBg9GTLBc3GgSEBgGhQUBoEBAaBIQGAaFBYGnfo21ubo77jRs3xv3OnTvj/u7du3F/9uzZwu379+/j2Xv37o37xYsXx/3w4cPjPtnpPdlOvzOSP3OjQUBoEBAaBIQGAaFBQGgQWNof76+trY37mTNnxv3Lly/j/ujRo3Gffkz+8ePH8ez9+/fH/cGDB+N+/vz5cX/z5s3C7du3b+PZnz9/jvt/ebWwzNxoEBAaBIQGAaFBQGgQEBoEhAaBle3t7e29foi9sLGxMe7Xrl0b93Pnzo379OvsTp8+PZ7dyU7v+G7fvj3uT58+Xbjt9N/h69ev437kyJFx36/caBAQGgSEBgGhQUBoEBAaBIQGgX37Hm0nO30u6/r16+P+8uXLhdvZs2fHs1euXBn3Y8eOjftOf7Jq+vfX19fHsw8fPhx3f9bpz9xoEBAaBIQGAaFBQGgQEBoEhAYB79H+J9OfZnr9+vV49vnz5+P+9u3bcX/16tW4T78X8tatW+PZ1VXfm3fDVw0CQoOA0CAgNAgIDQJCg4DQIOA9GgTcaBAQGgSEBgGhQUBoEBAaBIQGAaFBQGgQEBoEhAYBoUFAaBAQGgSEBgGhQUBoEBAaBIQGAaFBQGgQEBoEhAYBoUFAaBAQGgSEBgGhQUBoEBAaBIQGAaFBQGgQEBoEhAYBoUFAaBAQGgSEBgGhQUBoEBAaBIQGAaFBQGgQEBoEhAYBoUFAaBAQGgSEBgGhQUBoEPgHfqucQnp/r3AAAAAASUVORK5CYII=\" y=\"-21.758125\"/>\n   </g>\n   <g id=\"matplotlib.axis_1\">\n    <g id=\"xtick_1\">\n     <g id=\"line2d_1\">\n      <path clip-path=\"url(#pcbd525f31c)\" d=\"M 34.580357 239.758125 \nL 34.580357 22.318125 \n\" style=\"fill:none;stroke:#ffffff;stroke-linecap:round;\"/>\n     </g>\n     <g id=\"text_1\">\n      <!-- 0 -->\n      <defs>\n       <path d=\"M 31.78125 66.40625 \nQ 24.171875 66.40625 20.328125 58.90625 \nQ 16.5 51.421875 16.5 36.375 \nQ 16.5 21.390625 20.328125 13.890625 \nQ 24.171875 6.390625 31.78125 6.390625 \nQ 39.453125 6.390625 43.28125 13.890625 \nQ 47.125 21.390625 47.125 36.375 \nQ 47.125 51.421875 43.28125 58.90625 \nQ 39.453125 66.40625 31.78125 66.40625 \nz\nM 31.78125 74.21875 \nQ 44.046875 74.21875 50.515625 64.515625 \nQ 56.984375 54.828125 56.984375 36.375 \nQ 56.984375 17.96875 50.515625 8.265625 \nQ 44.046875 -1.421875 31.78125 -1.421875 \nQ 19.53125 -1.421875 13.0625 8.265625 \nQ 6.59375 17.96875 6.59375 36.375 \nQ 6.59375 54.828125 13.0625 64.515625 \nQ 19.53125 74.21875 31.78125 74.21875 \nz\n\" id=\"DejaVuSans-48\"/>\n      </defs>\n      <g style=\"fill:#262626;\" transform=\"translate(31.080982 257.616406)scale(0.11 -0.11)\">\n       <use xlink:href=\"#DejaVuSans-48\"/>\n      </g>\n     </g>\n    </g>\n    <g id=\"xtick_2\">\n     <g id=\"line2d_2\">\n      <path clip-path=\"url(#pcbd525f31c)\" d=\"M 73.408929 239.758125 \nL 73.408929 22.318125 \n\" style=\"fill:none;stroke:#ffffff;stroke-linecap:round;\"/>\n     </g>\n     <g id=\"text_2\">\n      <!-- 5 -->\n      <defs>\n       <path d=\"M 10.796875 72.90625 \nL 49.515625 72.90625 \nL 49.515625 64.59375 \nL 19.828125 64.59375 \nL 19.828125 46.734375 \nQ 21.96875 47.46875 24.109375 47.828125 \nQ 26.265625 48.1875 28.421875 48.1875 \nQ 40.625 48.1875 47.75 41.5 \nQ 54.890625 34.8125 54.890625 23.390625 \nQ 54.890625 11.625 47.5625 5.09375 \nQ 40.234375 -1.421875 26.90625 -1.421875 \nQ 22.3125 -1.421875 17.546875 -0.640625 \nQ 12.796875 0.140625 7.71875 1.703125 \nL 7.71875 11.625 \nQ 12.109375 9.234375 16.796875 8.0625 \nQ 21.484375 6.890625 26.703125 6.890625 \nQ 35.15625 6.890625 40.078125 11.328125 \nQ 45.015625 15.765625 45.015625 23.390625 \nQ 45.015625 31 40.078125 35.4375 \nQ 35.15625 39.890625 26.703125 39.890625 \nQ 22.75 39.890625 18.8125 39.015625 \nQ 14.890625 38.140625 10.796875 36.28125 \nz\n\" id=\"DejaVuSans-53\"/>\n      </defs>\n      <g style=\"fill:#262626;\" transform=\"translate(69.909554 257.616406)scale(0.11 -0.11)\">\n       <use xlink:href=\"#DejaVuSans-53\"/>\n      </g>\n     </g>\n    </g>\n    <g id=\"xtick_3\">\n     <g id=\"line2d_3\">\n      <path clip-path=\"url(#pcbd525f31c)\" d=\"M 112.2375 239.758125 \nL 112.2375 22.318125 \n\" style=\"fill:none;stroke:#ffffff;stroke-linecap:round;\"/>\n     </g>\n     <g id=\"text_3\">\n      <!-- 10 -->\n      <defs>\n       <path d=\"M 12.40625 8.296875 \nL 28.515625 8.296875 \nL 28.515625 63.921875 \nL 10.984375 60.40625 \nL 10.984375 69.390625 \nL 28.421875 72.90625 \nL 38.28125 72.90625 \nL 38.28125 8.296875 \nL 54.390625 8.296875 \nL 54.390625 0 \nL 12.40625 0 \nz\n\" id=\"DejaVuSans-49\"/>\n      </defs>\n      <g style=\"fill:#262626;\" transform=\"translate(105.23875 257.616406)scale(0.11 -0.11)\">\n       <use xlink:href=\"#DejaVuSans-49\"/>\n       <use x=\"63.623047\" xlink:href=\"#DejaVuSans-48\"/>\n      </g>\n     </g>\n    </g>\n    <g id=\"xtick_4\">\n     <g id=\"line2d_4\">\n      <path clip-path=\"url(#pcbd525f31c)\" d=\"M 151.066071 239.758125 \nL 151.066071 22.318125 \n\" style=\"fill:none;stroke:#ffffff;stroke-linecap:round;\"/>\n     </g>\n     <g id=\"text_4\">\n      <!-- 15 -->\n      <g style=\"fill:#262626;\" transform=\"translate(144.067321 257.616406)scale(0.11 -0.11)\">\n       <use xlink:href=\"#DejaVuSans-49\"/>\n       <use x=\"63.623047\" xlink:href=\"#DejaVuSans-53\"/>\n      </g>\n     </g>\n    </g>\n    <g id=\"xtick_5\">\n     <g id=\"line2d_5\">\n      <path clip-path=\"url(#pcbd525f31c)\" d=\"M 189.894643 239.758125 \nL 189.894643 22.318125 \n\" style=\"fill:none;stroke:#ffffff;stroke-linecap:round;\"/>\n     </g>\n     <g id=\"text_5\">\n      <!-- 20 -->\n      <defs>\n       <path d=\"M 19.1875 8.296875 \nL 53.609375 8.296875 \nL 53.609375 0 \nL 7.328125 0 \nL 7.328125 8.296875 \nQ 12.9375 14.109375 22.625 23.890625 \nQ 32.328125 33.6875 34.8125 36.53125 \nQ 39.546875 41.84375 41.421875 45.53125 \nQ 43.3125 49.21875 43.3125 52.78125 \nQ 43.3125 58.59375 39.234375 62.25 \nQ 35.15625 65.921875 28.609375 65.921875 \nQ 23.96875 65.921875 18.8125 64.3125 \nQ 13.671875 62.703125 7.8125 59.421875 \nL 7.8125 69.390625 \nQ 13.765625 71.78125 18.9375 73 \nQ 24.125 74.21875 28.421875 74.21875 \nQ 39.75 74.21875 46.484375 68.546875 \nQ 53.21875 62.890625 53.21875 53.421875 \nQ 53.21875 48.921875 51.53125 44.890625 \nQ 49.859375 40.875 45.40625 35.40625 \nQ 44.1875 33.984375 37.640625 27.21875 \nQ 31.109375 20.453125 19.1875 8.296875 \nz\n\" id=\"DejaVuSans-50\"/>\n      </defs>\n      <g style=\"fill:#262626;\" transform=\"translate(182.895893 257.616406)scale(0.11 -0.11)\">\n       <use xlink:href=\"#DejaVuSans-50\"/>\n       <use x=\"63.623047\" xlink:href=\"#DejaVuSans-48\"/>\n      </g>\n     </g>\n    </g>\n    <g id=\"xtick_6\">\n     <g id=\"line2d_6\">\n      <path clip-path=\"url(#pcbd525f31c)\" d=\"M 228.723214 239.758125 \nL 228.723214 22.318125 \n\" style=\"fill:none;stroke:#ffffff;stroke-linecap:round;\"/>\n     </g>\n     <g id=\"text_6\">\n      <!-- 25 -->\n      <g style=\"fill:#262626;\" transform=\"translate(221.724464 257.616406)scale(0.11 -0.11)\">\n       <use xlink:href=\"#DejaVuSans-50\"/>\n       <use x=\"63.623047\" xlink:href=\"#DejaVuSans-53\"/>\n      </g>\n     </g>\n    </g>\n   </g>\n   <g id=\"matplotlib.axis_2\">\n    <g id=\"ytick_1\">\n     <g id=\"line2d_7\">\n      <path clip-path=\"url(#pcbd525f31c)\" d=\"M 30.6975 26.200982 \nL 248.1375 26.200982 \n\" style=\"fill:none;stroke:#ffffff;stroke-linecap:round;\"/>\n     </g>\n     <g id=\"text_7\">\n      <!-- 0 -->\n      <g style=\"fill:#262626;\" transform=\"translate(14.19875 30.380123)scale(0.11 -0.11)\">\n       <use xlink:href=\"#DejaVuSans-48\"/>\n      </g>\n     </g>\n    </g>\n    <g id=\"ytick_2\">\n     <g id=\"line2d_8\">\n      <path clip-path=\"url(#pcbd525f31c)\" d=\"M 30.6975 65.029554 \nL 248.1375 65.029554 \n\" style=\"fill:none;stroke:#ffffff;stroke-linecap:round;\"/>\n     </g>\n     <g id=\"text_8\">\n      <!-- 5 -->\n      <g style=\"fill:#262626;\" transform=\"translate(14.19875 69.208694)scale(0.11 -0.11)\">\n       <use xlink:href=\"#DejaVuSans-53\"/>\n      </g>\n     </g>\n    </g>\n    <g id=\"ytick_3\">\n     <g id=\"line2d_9\">\n      <path clip-path=\"url(#pcbd525f31c)\" d=\"M 30.6975 103.858125 \nL 248.1375 103.858125 \n\" style=\"fill:none;stroke:#ffffff;stroke-linecap:round;\"/>\n     </g>\n     <g id=\"text_9\">\n      <!-- 10 -->\n      <g style=\"fill:#262626;\" transform=\"translate(7.2 108.037266)scale(0.11 -0.11)\">\n       <use xlink:href=\"#DejaVuSans-49\"/>\n       <use x=\"63.623047\" xlink:href=\"#DejaVuSans-48\"/>\n      </g>\n     </g>\n    </g>\n    <g id=\"ytick_4\">\n     <g id=\"line2d_10\">\n      <path clip-path=\"url(#pcbd525f31c)\" d=\"M 30.6975 142.686696 \nL 248.1375 142.686696 \n\" style=\"fill:none;stroke:#ffffff;stroke-linecap:round;\"/>\n     </g>\n     <g id=\"text_10\">\n      <!-- 15 -->\n      <g style=\"fill:#262626;\" transform=\"translate(7.2 146.865837)scale(0.11 -0.11)\">\n       <use xlink:href=\"#DejaVuSans-49\"/>\n       <use x=\"63.623047\" xlink:href=\"#DejaVuSans-53\"/>\n      </g>\n     </g>\n    </g>\n    <g id=\"ytick_5\">\n     <g id=\"line2d_11\">\n      <path clip-path=\"url(#pcbd525f31c)\" d=\"M 30.6975 181.515268 \nL 248.1375 181.515268 \n\" style=\"fill:none;stroke:#ffffff;stroke-linecap:round;\"/>\n     </g>\n     <g id=\"text_11\">\n      <!-- 20 -->\n      <g style=\"fill:#262626;\" transform=\"translate(7.2 185.694408)scale(0.11 -0.11)\">\n       <use xlink:href=\"#DejaVuSans-50\"/>\n       <use x=\"63.623047\" xlink:href=\"#DejaVuSans-48\"/>\n      </g>\n     </g>\n    </g>\n    <g id=\"ytick_6\">\n     <g id=\"line2d_12\">\n      <path clip-path=\"url(#pcbd525f31c)\" d=\"M 30.6975 220.343839 \nL 248.1375 220.343839 \n\" style=\"fill:none;stroke:#ffffff;stroke-linecap:round;\"/>\n     </g>\n     <g id=\"text_12\">\n      <!-- 25 -->\n      <g style=\"fill:#262626;\" transform=\"translate(7.2 224.52298)scale(0.11 -0.11)\">\n       <use xlink:href=\"#DejaVuSans-50\"/>\n       <use x=\"63.623047\" xlink:href=\"#DejaVuSans-53\"/>\n      </g>\n     </g>\n    </g>\n   </g>\n   <g id=\"patch_3\">\n    <path d=\"M 30.6975 239.758125 \nL 30.6975 22.318125 \n\" style=\"fill:none;stroke:#ffffff;stroke-linecap:square;stroke-linejoin:miter;stroke-width:1.25;\"/>\n   </g>\n   <g id=\"patch_4\">\n    <path d=\"M 248.1375 239.758125 \nL 248.1375 22.318125 \n\" style=\"fill:none;stroke:#ffffff;stroke-linecap:square;stroke-linejoin:miter;stroke-width:1.25;\"/>\n   </g>\n   <g id=\"patch_5\">\n    <path d=\"M 30.6975 239.758125 \nL 248.1375 239.758125 \n\" style=\"fill:none;stroke:#ffffff;stroke-linecap:square;stroke-linejoin:miter;stroke-width:1.25;\"/>\n   </g>\n   <g id=\"patch_6\">\n    <path d=\"M 30.6975 22.318125 \nL 248.1375 22.318125 \n\" style=\"fill:none;stroke:#ffffff;stroke-linecap:square;stroke-linejoin:miter;stroke-width:1.25;\"/>\n   </g>\n   <g id=\"text_13\">\n    <!-- 9 -->\n    <defs>\n     <path d=\"M 10.984375 1.515625 \nL 10.984375 10.5 \nQ 14.703125 8.734375 18.5 7.8125 \nQ 22.3125 6.890625 25.984375 6.890625 \nQ 35.75 6.890625 40.890625 13.453125 \nQ 46.046875 20.015625 46.78125 33.40625 \nQ 43.953125 29.203125 39.59375 26.953125 \nQ 35.25 24.703125 29.984375 24.703125 \nQ 19.046875 24.703125 12.671875 31.3125 \nQ 6.296875 37.9375 6.296875 49.421875 \nQ 6.296875 60.640625 12.9375 67.421875 \nQ 19.578125 74.21875 30.609375 74.21875 \nQ 43.265625 74.21875 49.921875 64.515625 \nQ 56.59375 54.828125 56.59375 36.375 \nQ 56.59375 19.140625 48.40625 8.859375 \nQ 40.234375 -1.421875 26.421875 -1.421875 \nQ 22.703125 -1.421875 18.890625 -0.6875 \nQ 15.09375 0.046875 10.984375 1.515625 \nz\nM 30.609375 32.421875 \nQ 37.25 32.421875 41.125 36.953125 \nQ 45.015625 41.5 45.015625 49.421875 \nQ 45.015625 57.28125 41.125 61.84375 \nQ 37.25 66.40625 30.609375 66.40625 \nQ 23.96875 66.40625 20.09375 61.84375 \nQ 16.21875 57.28125 16.21875 49.421875 \nQ 16.21875 41.5 20.09375 36.953125 \nQ 23.96875 32.421875 30.609375 32.421875 \nz\n\" id=\"DejaVuSans-57\"/>\n    </defs>\n    <g style=\"fill:#262626;\" transform=\"translate(135.6 16.318125)scale(0.12 -0.12)\">\n     <use xlink:href=\"#DejaVuSans-57\"/>\n    </g>\n   </g>\n  </g>\n </g>\n <defs>\n  <clipPath id=\"pcbd525f31c\">\n   <rect height=\"217.44\" width=\"217.44\" x=\"30.6975\" y=\"22.318125\"/>\n  </clipPath>\n </defs>\n</svg>\n"
          },
          "metadata": {}
        }
      ]
    },
    {
      "cell_type": "code",
      "metadata": {
        "colab": {
          "base_uri": "https://localhost:8080/",
          "height": 142
        },
        "id": "PkaCs0Neyyf1",
        "outputId": "80cee399-5b12-429b-ace8-91504deb7801"
      },
      "source": [
        "# plt.figure(figsize=(20, 6))\n",
        "shift = 110\n",
        "for i in range(1, 6):\n",
        "    plt.subplot(1, 6, i)\n",
        "    plt.title('pred: ' + str(int(wrong_targets[i+shift])) + '\\ncorr:  ' + str(int(correct_targets[i+shift])))\n",
        "    plt.axis('off')\n",
        "    plt.imshow(wrong_answers[i+shift].reshape(28, 28), cmap=\"Greys\")\n",
        "plt.savefig('task42.pdf')\n",
        "plt.show()"
      ],
      "execution_count": 200,
      "outputs": [
        {
          "output_type": "display_data",
          "data": {
            "text/plain": [
              "<Figure size 432x288 with 5 Axes>"
            ],
            "image/svg+xml": "<?xml version=\"1.0\" encoding=\"utf-8\" standalone=\"no\"?>\n<!DOCTYPE svg PUBLIC \"-//W3C//DTD SVG 1.1//EN\"\n  \"http://www.w3.org/Graphics/SVG/1.1/DTD/svg11.dtd\">\n<!-- Created with matplotlib (https://matplotlib.org/) -->\n<svg height=\"90.784071pt\" version=\"1.1\" viewBox=\"0 0 291.805714 90.784071\" width=\"291.805714pt\" xmlns=\"http://www.w3.org/2000/svg\" xmlns:xlink=\"http://www.w3.org/1999/xlink\">\n <defs>\n  <style type=\"text/css\">\n*{stroke-linecap:butt;stroke-linejoin:round;}\n  </style>\n </defs>\n <g id=\"figure_1\">\n  <g id=\"patch_1\">\n   <path d=\"M 0 90.784071 \nL 291.805714 90.784071 \nL 291.805714 0 \nL 0 0 \nz\n\" style=\"fill:#ffffff;\"/>\n  </g>\n  <g id=\"axes_1\">\n   <g clip-path=\"url(#pb9008f0f00)\">\n    <image height=\"48\" id=\"imaged969a1e637\" transform=\"scale(1 -1)translate(0 -48)\" width=\"48\" x=\"7.2\" xlink:href=\"data:image/png;base64,\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\" y=\"-35.584071\"/>\n   </g>\n   <g id=\"text_1\">\n    <!-- pred: 0 -->\n    <defs>\n     <path d=\"M 18.109375 8.203125 \nL 18.109375 -20.796875 \nL 9.078125 -20.796875 \nL 9.078125 54.6875 \nL 18.109375 54.6875 \nL 18.109375 46.390625 \nQ 20.953125 51.265625 25.265625 53.625 \nQ 29.59375 56 35.59375 56 \nQ 45.5625 56 51.78125 48.09375 \nQ 58.015625 40.1875 58.015625 27.296875 \nQ 58.015625 14.40625 51.78125 6.484375 \nQ 45.5625 -1.421875 35.59375 -1.421875 \nQ 29.59375 -1.421875 25.265625 0.953125 \nQ 20.953125 3.328125 18.109375 8.203125 \nz\nM 48.6875 27.296875 \nQ 48.6875 37.203125 44.609375 42.84375 \nQ 40.53125 48.484375 33.40625 48.484375 \nQ 26.265625 48.484375 22.1875 42.84375 \nQ 18.109375 37.203125 18.109375 27.296875 \nQ 18.109375 17.390625 22.1875 11.75 \nQ 26.265625 6.109375 33.40625 6.109375 \nQ 40.53125 6.109375 44.609375 11.75 \nQ 48.6875 17.390625 48.6875 27.296875 \nz\n\" id=\"DejaVuSans-112\"/>\n     <path d=\"M 41.109375 46.296875 \nQ 39.59375 47.171875 37.8125 47.578125 \nQ 36.03125 48 33.890625 48 \nQ 26.265625 48 22.1875 43.046875 \nQ 18.109375 38.09375 18.109375 28.8125 \nL 18.109375 0 \nL 9.078125 0 \nL 9.078125 54.6875 \nL 18.109375 54.6875 \nL 18.109375 46.1875 \nQ 20.953125 51.171875 25.484375 53.578125 \nQ 30.03125 56 36.53125 56 \nQ 37.453125 56 38.578125 55.875 \nQ 39.703125 55.765625 41.0625 55.515625 \nz\n\" id=\"DejaVuSans-114\"/>\n     <path d=\"M 56.203125 29.59375 \nL 56.203125 25.203125 \nL 14.890625 25.203125 \nQ 15.484375 15.921875 20.484375 11.0625 \nQ 25.484375 6.203125 34.421875 6.203125 \nQ 39.59375 6.203125 44.453125 7.46875 \nQ 49.3125 8.734375 54.109375 11.28125 \nL 54.109375 2.78125 \nQ 49.265625 0.734375 44.1875 -0.34375 \nQ 39.109375 -1.421875 33.890625 -1.421875 \nQ 20.796875 -1.421875 13.15625 6.1875 \nQ 5.515625 13.8125 5.515625 26.8125 \nQ 5.515625 40.234375 12.765625 48.109375 \nQ 20.015625 56 32.328125 56 \nQ 43.359375 56 49.78125 48.890625 \nQ 56.203125 41.796875 56.203125 29.59375 \nz\nM 47.21875 32.234375 \nQ 47.125 39.59375 43.09375 43.984375 \nQ 39.0625 48.390625 32.421875 48.390625 \nQ 24.90625 48.390625 20.390625 44.140625 \nQ 15.875 39.890625 15.1875 32.171875 \nz\n\" id=\"DejaVuSans-101\"/>\n     <path d=\"M 45.40625 46.390625 \nL 45.40625 75.984375 \nL 54.390625 75.984375 \nL 54.390625 0 \nL 45.40625 0 \nL 45.40625 8.203125 \nQ 42.578125 3.328125 38.25 0.953125 \nQ 33.9375 -1.421875 27.875 -1.421875 \nQ 17.96875 -1.421875 11.734375 6.484375 \nQ 5.515625 14.40625 5.515625 27.296875 \nQ 5.515625 40.1875 11.734375 48.09375 \nQ 17.96875 56 27.875 56 \nQ 33.9375 56 38.25 53.625 \nQ 42.578125 51.265625 45.40625 46.390625 \nz\nM 14.796875 27.296875 \nQ 14.796875 17.390625 18.875 11.75 \nQ 22.953125 6.109375 30.078125 6.109375 \nQ 37.203125 6.109375 41.296875 11.75 \nQ 45.40625 17.390625 45.40625 27.296875 \nQ 45.40625 37.203125 41.296875 42.84375 \nQ 37.203125 48.484375 30.078125 48.484375 \nQ 22.953125 48.484375 18.875 42.84375 \nQ 14.796875 37.203125 14.796875 27.296875 \nz\n\" id=\"DejaVuSans-100\"/>\n     <path d=\"M 11.71875 12.40625 \nL 22.015625 12.40625 \nL 22.015625 0 \nL 11.71875 0 \nz\nM 11.71875 51.703125 \nL 22.015625 51.703125 \nL 22.015625 39.3125 \nL 11.71875 39.3125 \nz\n\" id=\"DejaVuSans-58\"/>\n     <path id=\"DejaVuSans-32\"/>\n     <path d=\"M 31.78125 66.40625 \nQ 24.171875 66.40625 20.328125 58.90625 \nQ 16.5 51.421875 16.5 36.375 \nQ 16.5 21.390625 20.328125 13.890625 \nQ 24.171875 6.390625 31.78125 6.390625 \nQ 39.453125 6.390625 43.28125 13.890625 \nQ 47.125 21.390625 47.125 36.375 \nQ 47.125 51.421875 43.28125 58.90625 \nQ 39.453125 66.40625 31.78125 66.40625 \nz\nM 31.78125 74.21875 \nQ 44.046875 74.21875 50.515625 64.515625 \nQ 56.984375 54.828125 56.984375 36.375 \nQ 56.984375 17.96875 50.515625 8.265625 \nQ 44.046875 -1.421875 31.78125 -1.421875 \nQ 19.53125 -1.421875 13.0625 8.265625 \nQ 6.59375 17.96875 6.59375 36.375 \nQ 6.59375 54.828125 13.0625 64.515625 \nQ 19.53125 74.21875 31.78125 74.21875 \nz\n\" id=\"DejaVuSans-48\"/>\n    </defs>\n    <g style=\"fill:#262626;\" transform=\"translate(9.727098 16.318125)scale(0.12 -0.12)\">\n     <use xlink:href=\"#DejaVuSans-112\"/>\n     <use x=\"63.476562\" xlink:href=\"#DejaVuSans-114\"/>\n     <use x=\"102.339844\" xlink:href=\"#DejaVuSans-101\"/>\n     <use x=\"163.863281\" xlink:href=\"#DejaVuSans-100\"/>\n     <use x=\"227.339844\" xlink:href=\"#DejaVuSans-58\"/>\n     <use x=\"261.03125\" xlink:href=\"#DejaVuSans-32\"/>\n     <use x=\"292.818359\" xlink:href=\"#DejaVuSans-48\"/>\n    </g>\n    <!-- corr:  5 -->\n    <defs>\n     <path d=\"M 48.78125 52.59375 \nL 48.78125 44.1875 \nQ 44.96875 46.296875 41.140625 47.34375 \nQ 37.3125 48.390625 33.40625 48.390625 \nQ 24.65625 48.390625 19.8125 42.84375 \nQ 14.984375 37.3125 14.984375 27.296875 \nQ 14.984375 17.28125 19.8125 11.734375 \nQ 24.65625 6.203125 33.40625 6.203125 \nQ 37.3125 6.203125 41.140625 7.25 \nQ 44.96875 8.296875 48.78125 10.40625 \nL 48.78125 2.09375 \nQ 45.015625 0.34375 40.984375 -0.53125 \nQ 36.96875 -1.421875 32.421875 -1.421875 \nQ 20.0625 -1.421875 12.78125 6.34375 \nQ 5.515625 14.109375 5.515625 27.296875 \nQ 5.515625 40.671875 12.859375 48.328125 \nQ 20.21875 56 33.015625 56 \nQ 37.15625 56 41.109375 55.140625 \nQ 45.0625 54.296875 48.78125 52.59375 \nz\n\" id=\"DejaVuSans-99\"/>\n     <path d=\"M 30.609375 48.390625 \nQ 23.390625 48.390625 19.1875 42.75 \nQ 14.984375 37.109375 14.984375 27.296875 \nQ 14.984375 17.484375 19.15625 11.84375 \nQ 23.34375 6.203125 30.609375 6.203125 \nQ 37.796875 6.203125 41.984375 11.859375 \nQ 46.1875 17.53125 46.1875 27.296875 \nQ 46.1875 37.015625 41.984375 42.703125 \nQ 37.796875 48.390625 30.609375 48.390625 \nz\nM 30.609375 56 \nQ 42.328125 56 49.015625 48.375 \nQ 55.71875 40.765625 55.71875 27.296875 \nQ 55.71875 13.875 49.015625 6.21875 \nQ 42.328125 -1.421875 30.609375 -1.421875 \nQ 18.84375 -1.421875 12.171875 6.21875 \nQ 5.515625 13.875 5.515625 27.296875 \nQ 5.515625 40.765625 12.171875 48.375 \nQ 18.84375 56 30.609375 56 \nz\n\" id=\"DejaVuSans-111\"/>\n     <path d=\"M 10.796875 72.90625 \nL 49.515625 72.90625 \nL 49.515625 64.59375 \nL 19.828125 64.59375 \nL 19.828125 46.734375 \nQ 21.96875 47.46875 24.109375 47.828125 \nQ 26.265625 48.1875 28.421875 48.1875 \nQ 40.625 48.1875 47.75 41.5 \nQ 54.890625 34.8125 54.890625 23.390625 \nQ 54.890625 11.625 47.5625 5.09375 \nQ 40.234375 -1.421875 26.90625 -1.421875 \nQ 22.3125 -1.421875 17.546875 -0.640625 \nQ 12.796875 0.140625 7.71875 1.703125 \nL 7.71875 11.625 \nQ 12.109375 9.234375 16.796875 8.0625 \nQ 21.484375 6.890625 26.703125 6.890625 \nQ 35.15625 6.890625 40.078125 11.328125 \nQ 45.015625 15.765625 45.015625 23.390625 \nQ 45.015625 31 40.078125 35.4375 \nQ 35.15625 39.890625 26.703125 39.890625 \nQ 22.75 39.890625 18.8125 39.015625 \nQ 14.890625 38.140625 10.796875 36.28125 \nz\n\" id=\"DejaVuSans-53\"/>\n    </defs>\n    <g style=\"fill:#262626;\" transform=\"translate(9.768348 29.7555)scale(0.12 -0.12)\">\n     <use xlink:href=\"#DejaVuSans-99\"/>\n     <use x=\"54.980469\" xlink:href=\"#DejaVuSans-111\"/>\n     <use x=\"116.162109\" xlink:href=\"#DejaVuSans-114\"/>\n     <use x=\"155.525391\" xlink:href=\"#DejaVuSans-114\"/>\n     <use x=\"194.888672\" xlink:href=\"#DejaVuSans-58\"/>\n     <use x=\"228.580078\" xlink:href=\"#DejaVuSans-32\"/>\n     <use x=\"260.367188\" xlink:href=\"#DejaVuSans-32\"/>\n     <use x=\"292.154297\" xlink:href=\"#DejaVuSans-53\"/>\n    </g>\n   </g>\n  </g>\n  <g id=\"axes_2\">\n   <g clip-path=\"url(#p82fdb4ba88)\">\n    <image height=\"48\" id=\"imaged778f674f3\" transform=\"scale(1 -1)translate(0 -48)\" width=\"48\" x=\"64.594286\" xlink:href=\"data:image/png;base64,\niVBORw0KGgoAAAANSUhEUgAAADAAAAAwCAYAAABXAvmHAAAABHNCSVQICAgIfAhkiAAABT5JREFUaIHtmc1u00oYhh/Hzo9T548EpfkRoRAoqqBICFRAsEKCZRE3gVhwAXAR3AILroEFSCxACIkFlNKaUhoEpVHT0DQWpHH+PPZZoBh6YHOwQw9S310mTr55PPO9882M5DiOw1+swG53wKv2AHZbyqgDCCFwHAfHcQgEAkiSRCDg33sbKUCv1+Pu3busrKwwNzfHpUuXOH/+PGfPnkVVVV9ijBRACIGu68zPz/P06VMymQzRaJTTp0/7FmNkOWDbNpZlsby8zPv37wF48eIFjx49ot1uY9u2L3FGnsTdbhfLsgBQFAVVVZFlGUmSfPn/kQI4jkOn06Hf7wMwNjZGLBb7ewAkSSIej7sJu7W1xdraGr1eDyGELzFGDqBpGqFQCADTNNnc3MSyLPyqYEYGMPT78fFxxsfHATAMg9XVVbrd7v9/BIYAxWKRYrEIfHem4eLmh0a6DiiKwsWLF90kHqrf77sQXpN5pDlg2zYfP37k8+fPbpsQgufPn7OysuLLKIwMwHEchBBUq1WazabbLoTg9evX6LruC4BvU8hxHGzbRgiBEIJPnz5RrVZZXFykUqm4z9m2TaVSIZ1O/38AHMdhMBhgGAbdbhfTNJmfn+fDhw+sra1hGMaOZ2u1GltbWwghCAQCnqpTXwAGgwH1ep1bt27x9u1blpeXsW3bdZ0f6x7HcVhcXCSRSNDpdAAIh8O/HdszgOM41Ot1KpUKuq6zvr5Ou93+5XOSJLl7A78WM88Atm2j6zrPnj1D13W3cPtRw476YZv/li9TaNipHzt36NAh9u/fj6Zp1Ot1FhYWdnxvWRatVotgMOhpCnm2UUmSkGUZWZbdz5IkkU6nKRaLHD9+nMnJyR2QkiQxGAwwTfOXI/ZHAQBisRipVGqHmwyd5/bt29y4ceOn33z9+pVXr17RaDQ8xfYFIJlMkslkdkyRwWCAZVlEo1GSyST79u0jEokAuKPVbDbp9XqeYvsyhXK5HEeOHNkB0O/3XTfSNI2TJ0+SSqWAbxubUChEvV5ne3vbU3zfi7lIJIKmaUxNTTE5OUkgECAcDlMul3EcB03TuHr1KuVymQsXLpDNZj3F8w1gmJyhUIhEIkGhUCCfz7ttBw4cQAhBKpVidnaWgwcPksvlPNuqLwCBQABFUQiHw3Q6HarVKk+ePMEwDGzbJp1Oc/36dXdFjsViKIriy5rgGWBoo6qqMjExQbVaZXNzE8Mw2NjYwLIsQqEQyWTSPZmzbdst/oYj97vyxYVUVaVQKHDz5k0uX74MQLvdptFo0Gg06Ha7KIri2myr1eLLly+YpvnTZue/yrccUBSF6elp3rx5A3w/UtF1Hdu2KZfLbvvc3ByNRoNcLkepVCKfz7ujs2sAwWCQcrnMxMQE8K1G2t7e5uHDhwghOHz4MJIkIYTg3r17LC0tceLECa5du0Y2m/3tqeQbwNAu8/k85XKZ9fV1ut0u9+/fxzAMUqkUmqYhyzLv3r2j0+lw6tQpisWip4T2dR2QZZlkMkmpVKLZbGKaJqurq0QiER4/fkwmk2FsbIx2u42qqhw9epREIrH7Gxr47kb5fJ4rV65Qq9XcvXClUuHOnTuu1c7OzjI9Pc3MzIx76PW78n0lTiQSnDlzhqWlJYLBILVaDVmWicfjZLNZMpkM586d49ixY4TDYc+XHZLft5TD04iXL1+ysLDAgwcPUFWVqakpZmZmKJVKFAoFz29+qJEAwLdyutVqsbGxgaIoxONxkskkqqoSjUZ9u2byHeBP66+/pdwD2G3tAey29gB2W/8Ar21gSvOFCAIAAAAASUVORK5CYII=\" y=\"-35.584071\"/>\n   </g>\n   <g id=\"text_2\">\n    <!-- pred: 4 -->\n    <defs>\n     <path d=\"M 37.796875 64.3125 \nL 12.890625 25.390625 \nL 37.796875 25.390625 \nz\nM 35.203125 72.90625 \nL 47.609375 72.90625 \nL 47.609375 25.390625 \nL 58.015625 25.390625 \nL 58.015625 17.1875 \nL 47.609375 17.1875 \nL 47.609375 0 \nL 37.796875 0 \nL 37.796875 17.1875 \nL 4.890625 17.1875 \nL 4.890625 26.703125 \nz\n\" id=\"DejaVuSans-52\"/>\n    </defs>\n    <g style=\"fill:#262626;\" transform=\"translate(67.121384 16.318125)scale(0.12 -0.12)\">\n     <use xlink:href=\"#DejaVuSans-112\"/>\n     <use x=\"63.476562\" xlink:href=\"#DejaVuSans-114\"/>\n     <use x=\"102.339844\" xlink:href=\"#DejaVuSans-101\"/>\n     <use x=\"163.863281\" xlink:href=\"#DejaVuSans-100\"/>\n     <use x=\"227.339844\" xlink:href=\"#DejaVuSans-58\"/>\n     <use x=\"261.03125\" xlink:href=\"#DejaVuSans-32\"/>\n     <use x=\"292.818359\" xlink:href=\"#DejaVuSans-52\"/>\n    </g>\n    <!-- corr:  9 -->\n    <defs>\n     <path d=\"M 10.984375 1.515625 \nL 10.984375 10.5 \nQ 14.703125 8.734375 18.5 7.8125 \nQ 22.3125 6.890625 25.984375 6.890625 \nQ 35.75 6.890625 40.890625 13.453125 \nQ 46.046875 20.015625 46.78125 33.40625 \nQ 43.953125 29.203125 39.59375 26.953125 \nQ 35.25 24.703125 29.984375 24.703125 \nQ 19.046875 24.703125 12.671875 31.3125 \nQ 6.296875 37.9375 6.296875 49.421875 \nQ 6.296875 60.640625 12.9375 67.421875 \nQ 19.578125 74.21875 30.609375 74.21875 \nQ 43.265625 74.21875 49.921875 64.515625 \nQ 56.59375 54.828125 56.59375 36.375 \nQ 56.59375 19.140625 48.40625 8.859375 \nQ 40.234375 -1.421875 26.421875 -1.421875 \nQ 22.703125 -1.421875 18.890625 -0.6875 \nQ 15.09375 0.046875 10.984375 1.515625 \nz\nM 30.609375 32.421875 \nQ 37.25 32.421875 41.125 36.953125 \nQ 45.015625 41.5 45.015625 49.421875 \nQ 45.015625 57.28125 41.125 61.84375 \nQ 37.25 66.40625 30.609375 66.40625 \nQ 23.96875 66.40625 20.09375 61.84375 \nQ 16.21875 57.28125 16.21875 49.421875 \nQ 16.21875 41.5 20.09375 36.953125 \nQ 23.96875 32.421875 30.609375 32.421875 \nz\n\" id=\"DejaVuSans-57\"/>\n    </defs>\n    <g style=\"fill:#262626;\" transform=\"translate(67.162634 29.7555)scale(0.12 -0.12)\">\n     <use xlink:href=\"#DejaVuSans-99\"/>\n     <use x=\"54.980469\" xlink:href=\"#DejaVuSans-111\"/>\n     <use x=\"116.162109\" xlink:href=\"#DejaVuSans-114\"/>\n     <use x=\"155.525391\" xlink:href=\"#DejaVuSans-114\"/>\n     <use x=\"194.888672\" xlink:href=\"#DejaVuSans-58\"/>\n     <use x=\"228.580078\" xlink:href=\"#DejaVuSans-32\"/>\n     <use x=\"260.367188\" xlink:href=\"#DejaVuSans-32\"/>\n     <use x=\"292.154297\" xlink:href=\"#DejaVuSans-57\"/>\n    </g>\n   </g>\n  </g>\n  <g id=\"axes_3\">\n   <g clip-path=\"url(#p81db0f5857)\">\n    <image height=\"48\" id=\"imagebe53065a30\" transform=\"scale(1 -1)translate(0 -48)\" width=\"48\" x=\"121.988571\" xlink:href=\"data:image/png;base64,\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\" y=\"-35.584071\"/>\n   </g>\n   <g id=\"text_3\">\n    <!-- pred: 0 -->\n    <g style=\"fill:#262626;\" transform=\"translate(124.51567 16.318125)scale(0.12 -0.12)\">\n     <use xlink:href=\"#DejaVuSans-112\"/>\n     <use x=\"63.476562\" xlink:href=\"#DejaVuSans-114\"/>\n     <use x=\"102.339844\" xlink:href=\"#DejaVuSans-101\"/>\n     <use x=\"163.863281\" xlink:href=\"#DejaVuSans-100\"/>\n     <use x=\"227.339844\" xlink:href=\"#DejaVuSans-58\"/>\n     <use x=\"261.03125\" xlink:href=\"#DejaVuSans-32\"/>\n     <use x=\"292.818359\" xlink:href=\"#DejaVuSans-48\"/>\n    </g>\n    <!-- corr:  8 -->\n    <defs>\n     <path d=\"M 31.78125 34.625 \nQ 24.75 34.625 20.71875 30.859375 \nQ 16.703125 27.09375 16.703125 20.515625 \nQ 16.703125 13.921875 20.71875 10.15625 \nQ 24.75 6.390625 31.78125 6.390625 \nQ 38.8125 6.390625 42.859375 10.171875 \nQ 46.921875 13.96875 46.921875 20.515625 \nQ 46.921875 27.09375 42.890625 30.859375 \nQ 38.875 34.625 31.78125 34.625 \nz\nM 21.921875 38.8125 \nQ 15.578125 40.375 12.03125 44.71875 \nQ 8.5 49.078125 8.5 55.328125 \nQ 8.5 64.0625 14.71875 69.140625 \nQ 20.953125 74.21875 31.78125 74.21875 \nQ 42.671875 74.21875 48.875 69.140625 \nQ 55.078125 64.0625 55.078125 55.328125 \nQ 55.078125 49.078125 51.53125 44.71875 \nQ 48 40.375 41.703125 38.8125 \nQ 48.828125 37.15625 52.796875 32.3125 \nQ 56.78125 27.484375 56.78125 20.515625 \nQ 56.78125 9.90625 50.3125 4.234375 \nQ 43.84375 -1.421875 31.78125 -1.421875 \nQ 19.734375 -1.421875 13.25 4.234375 \nQ 6.78125 9.90625 6.78125 20.515625 \nQ 6.78125 27.484375 10.78125 32.3125 \nQ 14.796875 37.15625 21.921875 38.8125 \nz\nM 18.3125 54.390625 \nQ 18.3125 48.734375 21.84375 45.5625 \nQ 25.390625 42.390625 31.78125 42.390625 \nQ 38.140625 42.390625 41.71875 45.5625 \nQ 45.3125 48.734375 45.3125 54.390625 \nQ 45.3125 60.0625 41.71875 63.234375 \nQ 38.140625 66.40625 31.78125 66.40625 \nQ 25.390625 66.40625 21.84375 63.234375 \nQ 18.3125 60.0625 18.3125 54.390625 \nz\n\" id=\"DejaVuSans-56\"/>\n    </defs>\n    <g style=\"fill:#262626;\" transform=\"translate(124.55692 29.7555)scale(0.12 -0.12)\">\n     <use xlink:href=\"#DejaVuSans-99\"/>\n     <use x=\"54.980469\" xlink:href=\"#DejaVuSans-111\"/>\n     <use x=\"116.162109\" xlink:href=\"#DejaVuSans-114\"/>\n     <use x=\"155.525391\" xlink:href=\"#DejaVuSans-114\"/>\n     <use x=\"194.888672\" xlink:href=\"#DejaVuSans-58\"/>\n     <use x=\"228.580078\" xlink:href=\"#DejaVuSans-32\"/>\n     <use x=\"260.367188\" xlink:href=\"#DejaVuSans-32\"/>\n     <use x=\"292.154297\" xlink:href=\"#DejaVuSans-56\"/>\n    </g>\n   </g>\n  </g>\n  <g id=\"axes_4\">\n   <g clip-path=\"url(#pf10cb29536)\">\n    <image height=\"48\" id=\"imagebf44dee863\" transform=\"scale(1 -1)translate(0 -48)\" width=\"48\" x=\"179.382857\" xlink:href=\"data:image/png;base64,\niVBORw0KGgoAAAANSUhEUgAAADAAAAAwCAYAAABXAvmHAAAABHNCSVQICAgIfAhkiAAABRpJREFUaIHtmUlrU10Yx38nye3NzZzbjI3VDpoggSKWil0oLlwoCG7cih/C7+HOD+FWUaguHFaK0FIcAkqsbQaTpnFI2uZmuPe+i5Kg8r680Jy0Cv1vDzzP+Z/n/wznHGHbts1fDMdhb2BYHBE4bLgOypFt21iWhW3bCCEQQuBwDH9+B0Jgd3eXjY0NHjx4wOvXr7l8+TLZbJbFxcWhSRyIhLrdLqVSibdv3/L8+XMKhQLfvn2TYvtACOzs7PDixQs2NjYwTZOJiQmSyaQU2yOVkG3btNttarUay8vLAGSzWc6cOUMqlUIIMbSPkUbAtm22t7fJ5/M8evQIIQQLCwucPn2aRCLx5xOwLItyucz6+jq2bRMOh4nH4zidTmk+Rk5ga2uLer0OgKZphMNhKSffx0hzwDRNHj9+zOrqKgCJRIJsNovLJc/tyHOgXq+ztbUFgMfjIRAISI3AyAlUKhVqtRoAoVAIXdeldOA+pMTSMAza7Tb5fJ5QKMT4+Dgej0eG6f/F0Edh2zaGYbC5ucnS0hIrKytsbm7S6XQGs88orxxDR8A0Te7evcvq6iovX75E0zR0Xefq1auEw2E+fvxIs9mUsdd/hRQJlctlcrkcpVIJIQSfP38mFouh6zqNRoNOpwPslVXLsmS4HEAKgVAoRCwWI5fLYZompmny8OFDhBADGcFerrRaLamSGjoHhBBEo1GSySRCCJLJJBcuXCASieByuX7Z7Pv371laWuLDhw8Ui0WazSatVotut7vvyEiJwPT0NOVyGSEEmUyGK1euYFkWuVyOTqczIPHkyRNWVlao1WqcOnWK+fl5AoEAgUAAt9u9r/I6NAEhBOl0mh8/fuB0Okmn01y/fp3FxUVKpRJ37tyhWCxSrVZpNBoYhsG9e/cIBALEYjGOHTvG9PQ0t27dIh6PHw4Bv99PLBYD9vIhmUySSCSYmpri/v37GIZBtVrFsiw6nQ6lUolKpcKnT5+YnZ2l2+1iGMa+/EufhXq9Hp1OZyCLa9euoes679694/jx48zMzHD+/Hni8TiZTIZUKkUqldp345NCoN1us729DUCz2aRer+P1elEUhampKfL5PACRSIQTJ05w7tw5EokE0WiUYDCI1+vd94g9NIH+wFYul7Esi0KhwLNnz7hx4wa6rpNOp/ny5QsAMzMznD17lkuXLuH3+4d1DUga5nRdZ2JiAk3TqFQqLC8vs7Oz85/1/o+aRn9OYk3T+P79O2/evGF3d3dQ2/vvQD+/DcmCFALj4+PMzs5y8eJFgsEguVyOarVKq9VCVVVCoRDBYJC1tTVevXqFYRjSRgopEnK5XPh8Pubm5jh58iTA4KSdTidutxtN02g0GhSLRVqtFr1eT4ZreWXU7/dz+/Ztnj59SqVSIRgMMjY2hqqq6LpOMpmkUChQLBZZX19H0zQikcjQ+SD1RmZZFi6Xi3A4jMfjweVyDfTfH+xM05R6R5AWAcuyBtLoE1AUZbAu8xr5M6RZFUKgqiqZTIabN28SCoUGa5qmMT8/TyKRAODr16+DxjcspBLoyyedTqOq6mBNURTi8Tg+nw/Y69ymaUrxK01CDocDVVUZGxsjEAj8IhlFUYhGo/h8PoQQxONxaZ1Y6jDXT9bfoSgKk5OThMNhFEXB4XBIy4kDeV53u93Mzc0xOTmJ1+uVmtDiIL5Ze70e7XabtbU1CoUCCwsLeL1eNE0b2vaBEBgl/vpfyiMCh40jAoeNIwKHjX8AiccWHMtkuVkAAAAASUVORK5CYII=\" y=\"-35.584071\"/>\n   </g>\n   <g id=\"text_4\">\n    <!-- pred: 9 -->\n    <g style=\"fill:#262626;\" transform=\"translate(181.909955 16.318125)scale(0.12 -0.12)\">\n     <use xlink:href=\"#DejaVuSans-112\"/>\n     <use x=\"63.476562\" xlink:href=\"#DejaVuSans-114\"/>\n     <use x=\"102.339844\" xlink:href=\"#DejaVuSans-101\"/>\n     <use x=\"163.863281\" xlink:href=\"#DejaVuSans-100\"/>\n     <use x=\"227.339844\" xlink:href=\"#DejaVuSans-58\"/>\n     <use x=\"261.03125\" xlink:href=\"#DejaVuSans-32\"/>\n     <use x=\"292.818359\" xlink:href=\"#DejaVuSans-57\"/>\n    </g>\n    <!-- corr:  4 -->\n    <g style=\"fill:#262626;\" transform=\"translate(181.951205 29.7555)scale(0.12 -0.12)\">\n     <use xlink:href=\"#DejaVuSans-99\"/>\n     <use x=\"54.980469\" xlink:href=\"#DejaVuSans-111\"/>\n     <use x=\"116.162109\" xlink:href=\"#DejaVuSans-114\"/>\n     <use x=\"155.525391\" xlink:href=\"#DejaVuSans-114\"/>\n     <use x=\"194.888672\" xlink:href=\"#DejaVuSans-58\"/>\n     <use x=\"228.580078\" xlink:href=\"#DejaVuSans-32\"/>\n     <use x=\"260.367188\" xlink:href=\"#DejaVuSans-32\"/>\n     <use x=\"292.154297\" xlink:href=\"#DejaVuSans-52\"/>\n    </g>\n   </g>\n  </g>\n  <g id=\"axes_5\">\n   <g clip-path=\"url(#p172e3dfb8a)\">\n    <image height=\"48\" id=\"imageb7ee5fc67b\" transform=\"scale(1 -1)translate(0 -48)\" width=\"48\" x=\"236.777143\" xlink:href=\"data:image/png;base64,\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\" y=\"-35.584071\"/>\n   </g>\n   <g id=\"text_5\">\n    <!-- pred: 2 -->\n    <defs>\n     <path d=\"M 19.1875 8.296875 \nL 53.609375 8.296875 \nL 53.609375 0 \nL 7.328125 0 \nL 7.328125 8.296875 \nQ 12.9375 14.109375 22.625 23.890625 \nQ 32.328125 33.6875 34.8125 36.53125 \nQ 39.546875 41.84375 41.421875 45.53125 \nQ 43.3125 49.21875 43.3125 52.78125 \nQ 43.3125 58.59375 39.234375 62.25 \nQ 35.15625 65.921875 28.609375 65.921875 \nQ 23.96875 65.921875 18.8125 64.3125 \nQ 13.671875 62.703125 7.8125 59.421875 \nL 7.8125 69.390625 \nQ 13.765625 71.78125 18.9375 73 \nQ 24.125 74.21875 28.421875 74.21875 \nQ 39.75 74.21875 46.484375 68.546875 \nQ 53.21875 62.890625 53.21875 53.421875 \nQ 53.21875 48.921875 51.53125 44.890625 \nQ 49.859375 40.875 45.40625 35.40625 \nQ 44.1875 33.984375 37.640625 27.21875 \nQ 31.109375 20.453125 19.1875 8.296875 \nz\n\" id=\"DejaVuSans-50\"/>\n    </defs>\n    <g style=\"fill:#262626;\" transform=\"translate(239.304241 16.318125)scale(0.12 -0.12)\">\n     <use xlink:href=\"#DejaVuSans-112\"/>\n     <use x=\"63.476562\" xlink:href=\"#DejaVuSans-114\"/>\n     <use x=\"102.339844\" xlink:href=\"#DejaVuSans-101\"/>\n     <use x=\"163.863281\" xlink:href=\"#DejaVuSans-100\"/>\n     <use x=\"227.339844\" xlink:href=\"#DejaVuSans-58\"/>\n     <use x=\"261.03125\" xlink:href=\"#DejaVuSans-32\"/>\n     <use x=\"292.818359\" xlink:href=\"#DejaVuSans-50\"/>\n    </g>\n    <!-- corr:  3 -->\n    <defs>\n     <path d=\"M 40.578125 39.3125 \nQ 47.65625 37.796875 51.625 33 \nQ 55.609375 28.21875 55.609375 21.1875 \nQ 55.609375 10.40625 48.1875 4.484375 \nQ 40.765625 -1.421875 27.09375 -1.421875 \nQ 22.515625 -1.421875 17.65625 -0.515625 \nQ 12.796875 0.390625 7.625 2.203125 \nL 7.625 11.71875 \nQ 11.71875 9.328125 16.59375 8.109375 \nQ 21.484375 6.890625 26.8125 6.890625 \nQ 36.078125 6.890625 40.9375 10.546875 \nQ 45.796875 14.203125 45.796875 21.1875 \nQ 45.796875 27.640625 41.28125 31.265625 \nQ 36.765625 34.90625 28.71875 34.90625 \nL 20.21875 34.90625 \nL 20.21875 43.015625 \nL 29.109375 43.015625 \nQ 36.375 43.015625 40.234375 45.921875 \nQ 44.09375 48.828125 44.09375 54.296875 \nQ 44.09375 59.90625 40.109375 62.90625 \nQ 36.140625 65.921875 28.71875 65.921875 \nQ 24.65625 65.921875 20.015625 65.03125 \nQ 15.375 64.15625 9.8125 62.3125 \nL 9.8125 71.09375 \nQ 15.4375 72.65625 20.34375 73.4375 \nQ 25.25 74.21875 29.59375 74.21875 \nQ 40.828125 74.21875 47.359375 69.109375 \nQ 53.90625 64.015625 53.90625 55.328125 \nQ 53.90625 49.265625 50.4375 45.09375 \nQ 46.96875 40.921875 40.578125 39.3125 \nz\n\" id=\"DejaVuSans-51\"/>\n    </defs>\n    <g style=\"fill:#262626;\" transform=\"translate(239.345491 29.7555)scale(0.12 -0.12)\">\n     <use xlink:href=\"#DejaVuSans-99\"/>\n     <use x=\"54.980469\" xlink:href=\"#DejaVuSans-111\"/>\n     <use x=\"116.162109\" xlink:href=\"#DejaVuSans-114\"/>\n     <use x=\"155.525391\" xlink:href=\"#DejaVuSans-114\"/>\n     <use x=\"194.888672\" xlink:href=\"#DejaVuSans-58\"/>\n     <use x=\"228.580078\" xlink:href=\"#DejaVuSans-32\"/>\n     <use x=\"260.367188\" xlink:href=\"#DejaVuSans-32\"/>\n     <use x=\"292.154297\" xlink:href=\"#DejaVuSans-51\"/>\n    </g>\n   </g>\n  </g>\n </g>\n <defs>\n  <clipPath id=\"pb9008f0f00\">\n   <rect height=\"47.828571\" width=\"47.828571\" x=\"7.2\" y=\"35.7555\"/>\n  </clipPath>\n  <clipPath id=\"p82fdb4ba88\">\n   <rect height=\"47.828571\" width=\"47.828571\" x=\"64.594286\" y=\"35.7555\"/>\n  </clipPath>\n  <clipPath id=\"p81db0f5857\">\n   <rect height=\"47.828571\" width=\"47.828571\" x=\"121.988571\" y=\"35.7555\"/>\n  </clipPath>\n  <clipPath id=\"pf10cb29536\">\n   <rect height=\"47.828571\" width=\"47.828571\" x=\"179.382857\" y=\"35.7555\"/>\n  </clipPath>\n  <clipPath id=\"p172e3dfb8a\">\n   <rect height=\"47.828571\" width=\"47.828571\" x=\"236.777143\" y=\"35.7555\"/>\n  </clipPath>\n </defs>\n</svg>\n"
          },
          "metadata": {}
        }
      ]
    },
    {
      "cell_type": "code",
      "metadata": {
        "id": "eGVYpF4Hgvsc",
        "outputId": "fd6c7d92-be10-445f-9b4a-c6c16085576a"
      },
      "source": [
        "scores = cross_validation.knn_cross_val_score(\n",
        "                    X=data[:10000],\n",
        "                    y=target[:10000], \n",
        "                    k_list=[3], \n",
        "                    score=None, \n",
        "                    cv=None,\n",
        "                    **params\n",
        ")\n",
        "print(scores)\n",
        "print(scores[3].mean())"
      ],
      "execution_count": null,
      "outputs": [
        {
          "output_type": "stream",
          "name": "stdout",
          "text": [
            "{3: array([0.94241152, 0.94689469, 0.9279928 ])}\n",
            "0.9390996688151119\n"
          ]
        }
      ]
    },
    {
      "cell_type": "markdown",
      "metadata": {
        "id": "hrn6Bm_Egvsd"
      },
      "source": [
        "Судя по https://www.kaggle.com/c/digit-recognizer/leaderboard, можно получить почти 100%-ю точность"
      ]
    },
    {
      "cell_type": "markdown",
      "metadata": {
        "id": "sIgCETQXgvsd"
      },
      "source": [
        "# Task 5"
      ]
    },
    {
      "cell_type": "code",
      "metadata": {
        "id": "BJDWmbQcgvse"
      },
      "source": [
        "import scipy.ndimage as ndimage\n",
        "from scipy.ndimage.interpolation import shift\n",
        "import skimage.filters as filters"
      ],
      "execution_count": 9,
      "outputs": []
    },
    {
      "cell_type": "markdown",
      "metadata": {
        "id": "DlUuw6ydgvse"
      },
      "source": [
        "sourse: https://towardsdatascience.com/improving-accuracy-on-mnist-using-data-augmentation-b5c38eb5a903"
      ]
    },
    {
      "cell_type": "code",
      "metadata": {
        "id": "4e94J1LVgvse"
      },
      "source": [
        "def rotate_image(image, deg):\n",
        "    image = image.reshape((28, 28))\n",
        "    rotated_image = ndimage.rotate(image, deg, reshape=False)\n",
        "    return  rotated_image.reshape([-1])"
      ],
      "execution_count": 10,
      "outputs": []
    },
    {
      "cell_type": "code",
      "metadata": {
        "id": "py7FnnWsgvse"
      },
      "source": [
        "def shift_image(image, dx, dy):\n",
        "    image = image.reshape((28, 28))\n",
        "    shifted_image = shift(image, [dy, dx], cval=0, mode=\"constant\")\n",
        "    return shifted_image.reshape([-1])"
      ],
      "execution_count": 11,
      "outputs": []
    },
    {
      "cell_type": "code",
      "metadata": {
        "id": "Gu-IJqNfgvsf"
      },
      "source": [
        "def gaussan_filter(image, sigma):\n",
        "    image = image.reshape((28, 28))\n",
        "    shifted_image = filters.gaussian(image, sigma)\n",
        "    return shifted_image.reshape([-1])"
      ],
      "execution_count": 75,
      "outputs": []
    },
    {
      "cell_type": "code",
      "metadata": {
        "id": "Xfct52o2gvsf",
        "colab": {
          "base_uri": "https://localhost:8080/",
          "height": 243
        },
        "outputId": "f1998183-d1c9-4eca-97a6-38a610b0f140"
      },
      "source": [
        "plt.subplot(1, 2, 1)\n",
        "plt.imshow(data[12].reshape((28, 28)), cmap='gray')\n",
        "plt.axis('off')\n",
        "plt.subplot(1, 2, 2)\n",
        "new_image = gaussan_filter(data[12], 1.5)\n",
        "plt.imshow(new_image.reshape((28, 28)), cmap='gray')\n",
        "plt.axis('off')\n",
        "plt.show()"
      ],
      "execution_count": 76,
      "outputs": [
        {
          "output_type": "display_data",
          "data": {
            "text/plain": [
              "<Figure size 432x288 with 2 Axes>"
            ],
            "image/svg+xml": "<?xml version=\"1.0\" encoding=\"utf-8\" standalone=\"no\"?>\n<!DOCTYPE svg PUBLIC \"-//W3C//DTD SVG 1.1//EN\"\n  \"http://www.w3.org/Graphics/SVG/1.1/DTD/svg11.dtd\">\n<!-- Created with matplotlib (https://matplotlib.org/) -->\n<svg height=\"166.581818pt\" version=\"1.1\" viewBox=\"0 0 349.2 166.581818\" width=\"349.2pt\" xmlns=\"http://www.w3.org/2000/svg\" xmlns:xlink=\"http://www.w3.org/1999/xlink\">\n <defs>\n  <style type=\"text/css\">\n*{stroke-linecap:butt;stroke-linejoin:round;}\n  </style>\n </defs>\n <g id=\"figure_1\">\n  <g id=\"patch_1\">\n   <path d=\"M 0 166.581818 \nL 349.2 166.581818 \nL 349.2 0 \nL 0 0 \nz\n\" style=\"fill:#ffffff;\"/>\n  </g>\n  <g id=\"axes_1\">\n   <g clip-path=\"url(#pc3aea50f4a)\">\n    <image height=\"153\" id=\"image8a730b6b14\" transform=\"scale(1 -1)translate(0 -153)\" width=\"153\" x=\"7.2\" xlink:href=\"data:image/png;base64,\niVBORw0KGgoAAAANSUhEUgAAAJkAAACZCAYAAAA8XJi6AAAABHNCSVQICAgIfAhkiAAABTpJREFUeJzt3U8oNW0cxvHxkj9FqKewkShWEiIpG0pZUGyQSEpWNsLGzsLCSnayllISVgpRLEj5m5CFjdhYKPnP867f7t+8zXnG9ThO38/y6p577nJ1N+OcmRPned5vDxD657sXgNhHySBHySBHySBHySBHySBHySBHySBHySBHySBHySBHySBHySBHySBHySCX8N0LiFRSUpKTNTc3m2Nra2ud7OLiwhzb1NQU6PxnZ2eBxnme562vrwee4+DgIPC8Pw07GeQoGeQoGeQoGeQoGeTivCh9WikvL8/Mx8bGnKytrU28mq/1/v7uZBMTE+bY+fl5J9vZ2fnyNSmxk0GOkkGOkkGOkkEuai/8e3t7zXxqairUvPv7+2Z+f38f6Pj09HQzLy0t/eM1/Z+Hhwcn8/sYbW1tTbKGsNjJIEfJIEfJIEfJIEfJIBe1X1qsq6sLPUdZWZmTnZ+fm2Ofnp4CzZmSkmLmw8PDTjYwMGCOTUtLC3Quv7ELCwvm2MbGRifb3NwMfC4VdjLIUTLIUTLIUTLIRe3HStnZ2Wa+srLiZMXFxebYzMxMJwv68dFXyMrKMnPrhmBoaCj0+Y6Pj52spKQk9LxhsZNBjpJBjpJBjpJBjpJBLmrvLv3k5OQ4md8XHK13TszNzX35miIVHx/vZNZds+fZ7/PwYz0F5Xf81tZW4HnDYieDHCWDHCWDHCWDXNR+n8zPzc2Nk42Ojn7DSv7cx8eHkx0eHppjI7nwT0hw/5xVVVXmWC78EVMoGeQoGeQoGeQoGeR+3N1lLLDuAsvLyyXnKiwslMwbCXYyyFEyyFEyyFEyyHHhL9TR0WHm/f39TlZZWSlZw+XlpWTeSLCTQY6SQY6SQY6SQY6SQe7HPa2kkpub62S/fv1yMr/3W7S0tDhZT0+POTYuLi7C1QVjvfDO72WCn5+fkjVY2MkgR8kgR8kgR8kgF9MfK1VXVzvZyMiIObaiosLJrAv/v826QPf7Adbx8fFAx/9t7GSQo2SQo2SQo2SQo2SQi+m7S+ujnoaGhm9YyX/t7e052fLysjnW+h2lk5OTL1+TEjsZ5CgZ5CgZ5CgZ5GL6+2TWE0Db29vmWOuN1JF4fX11submZnPs6uqqk729vYU6fzRjJ4McJYMcJYMcJYNcTP/Hf3d318nq6+vNsZ2dnU7W3d0d+FzWwyHWwymeZ99kcOEPhEDJIEfJIEfJIEfJIBfTHytFIjEx0ckmJyedrKuryzw+OTk58LnKysqc7ODgIPDxPw07GeQoGeQoGeQoGeS48I9Qe3u7mc/MzASe4+XlxclqamrMsdZDJz8NOxnkKBnkKBnkKBnkKBnkQt9dFhQUmLn1Y54XFxeB5318fDTzm5ubwHMopKWlmfnx8bGT+X1p0TI9PW3mfX19geeIVuxkkKNkkKNkkKNkkAv9tNLKyoqZ5+fnh5r37u7OzI+OjkLN6+f8/NzJioqKnCwjI8M8PpKLfMvS0lKo46MZOxnkKBnkKBnkKBnkKBnkQn+sZP2ej+d53uDgYJhpfxzrN4xOT0/NsbOzs4Eyz/O8q6urUOuKBuxkkKNkkKNkkKNkkAt94Z+ammrmra2tTvb8/GyOLS8vdzK/7211dHQ42cbGhjn2+vrazMO4vb0188XFRSeLhSeNvgI7GeQoGeQoGeQoGeQoGeR4Fwbk2MkgR8kgR8kgR8kgR8kgR8kgR8kgR8kgR8kgR8kgR8kgR8kgR8kgR8kgR8kgR8kgR8kgR8kgR8kgR8kgR8kgR8kgR8kgR8kgR8kgR8kg9y8Yhveh3LrBEwAAAABJRU5ErkJggg==\" y=\"-6.381818\"/>\n   </g>\n  </g>\n  <g id=\"axes_2\">\n   <g clip-path=\"url(#pbdcf5c7012)\">\n    <image height=\"153\" id=\"image967acb746a\" transform=\"scale(1 -1)translate(0 -153)\" width=\"153\" x=\"189.818182\" xlink:href=\"data:image/png;base64,\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\" y=\"-6.381818\"/>\n   </g>\n  </g>\n </g>\n <defs>\n  <clipPath id=\"pc3aea50f4a\">\n   <rect height=\"152.181818\" width=\"152.181818\" x=\"7.2\" y=\"7.2\"/>\n  </clipPath>\n  <clipPath id=\"pbdcf5c7012\">\n   <rect height=\"152.181818\" width=\"152.181818\" x=\"189.818182\" y=\"7.2\"/>\n  </clipPath>\n </defs>\n</svg>\n"
          },
          "metadata": {}
        }
      ]
    },
    {
      "cell_type": "code",
      "metadata": {
        "id": "3qf4S71EU5EK"
      },
      "source": [
        ""
      ],
      "execution_count": null,
      "outputs": []
    },
    {
      "cell_type": "code",
      "metadata": {
        "id": "u5FWuf1fgvsf"
      },
      "source": [
        "from tqdm.notebook import trange, tqdm\n",
        "import copy\n",
        "\n",
        "params = {\n",
        "    'k': 3,\n",
        "    'metric': 'cosine',\n",
        "    'strategy': 'brute',\n",
        "    'weights': True\n",
        "}"
      ],
      "execution_count": 26,
      "outputs": []
    },
    {
      "cell_type": "markdown",
      "metadata": {
        "id": "4TROL55goYB6"
      },
      "source": [
        "## Подбираем параметры"
      ]
    },
    {
      "cell_type": "code",
      "metadata": {
        "id": "ATVI_jk-oWXu"
      },
      "source": [
        "def get_augmented_dataset(data, target, shift_list=None, rotate_list=None, sigma_list=None):\n",
        "    # idx = np.random.choice(np.arange(data.shape[0]), 100)\n",
        "    data_augmented = [image for image in data]\n",
        "    targer_augmented = [image for image in target]\n",
        "    for image, label in tqdm(zip(data, target)):\n",
        "        if shift_list is not None:\n",
        "            dx = np.random.choice(shift_list)\n",
        "            dy = np.random.choice(shift_list)\n",
        "            data_augmented.append(shift_image(image, dx, dy))\n",
        "            targer_augmented.append(label)\n",
        "        if rotate_list is not None:\n",
        "            deg = np.random.choice(rotate_list)\n",
        "            data_augmented.append(rotate_image(image, deg))\n",
        "            targer_augmented.append(label)\n",
        "        if sigma_list is not None:\n",
        "            sigma = np.random.choice(sigma_list)\n",
        "            data_augmented.append(gaussan_filter(image, sigma))\n",
        "            targer_augmented.append(label)\n",
        "    data_augmented = np.array(data_augmented)\n",
        "    targer_augmented = np.array(targer_augmented)\n",
        "    return data_augmented, targer_augmented"
      ],
      "execution_count": 15,
      "outputs": []
    },
    {
      "cell_type": "code",
      "metadata": {
        "id": "soTUBSragvsg",
        "colab": {
          "base_uri": "https://localhost:8080/",
          "height": 149,
          "referenced_widgets": [
            "828e34765b43425db2e1b1cbf5ac4948",
            "ccd92544a2b34f3c8a6b17cd734affd5",
            "ad72c9b8d0cd4aa182e7dfc90de78530",
            "8bba278fc590435da556468f960c6e2f",
            "34354b931f3a4efa9e4217c31e9ca1fa",
            "aeebaf9f8e014102a713e50ae6ae3e7a",
            "a9ba32bea498463c97b983a4376554af",
            "437b551aeebe4ac1892fabe163467a89",
            "2e62359381dd43e7b1046950c22c1cda",
            "6e9f42d0916f410e84b20dbae49c568c",
            "fb9e7220ce4245958b6eff355e0fbdb7"
          ]
        },
        "outputId": "940a9225-1dd8-45e3-891f-1e5665e0a855"
      },
      "source": [
        "# data_augmented, targer_augmented = get_augmented_dataset(data, target, sigma_list=[1.5])\n",
        "# print(data_augmented.shape, targer_augmented.shape)\n",
        "# scores = cross_validation.knn_cross_val_score(\n",
        "#                     X=data_augmented,\n",
        "#                     y=targer_augmented, \n",
        "#                     k_list=[3], \n",
        "#                     score=None, \n",
        "#                     cv=None,\n",
        "#                     **params\n",
        "# )\n",
        "# print(\"sigma 1.5, acc: \", scores[3].mean())\n",
        "\n",
        "# data_augmented, targer_augmented = get_augmented_dataset(data, target, shift_list=[2, -2])\n",
        "# print(data_augmented.shape, targer_augmented.shape)\n",
        "# scores = cross_validation.knn_cross_val_score(\n",
        "#                     X=data_augmented,\n",
        "#                     y=targer_augmented, \n",
        "#                     k_list=[3], \n",
        "#                     score=None, \n",
        "#                     cv=None,\n",
        "#                     **para1ms\n",
        "# )\n",
        "# print(\"shift 1px, acc: \", scores[3].mean())\n",
        "\n",
        "# data_augmented, targer_augmented = get_augmented_dataset(data, target, shift_list=[-1, 1], rotate_list=[10, -10, 15, -15])\n",
        "# print(data_augmented.shape, targer_augmented.shape)\n",
        "# scores = cross_validation.knn_cross_val_score(\n",
        "#                     X=data_augmented,\n",
        "#                     y=targer_augmented, \n",
        "#                     k_list=[3], \n",
        "#                     score=None, \n",
        "#                     cv=None,\n",
        "#                     **params\n",
        "# )\n",
        "# print(\"comb, acc: \", scores[3].mean())"
      ],
      "execution_count": 20,
      "outputs": [
        {
          "output_type": "display_data",
          "data": {
            "application/vnd.jupyter.widget-view+json": {
              "model_id": "828e34765b43425db2e1b1cbf5ac4948",
              "version_minor": 0,
              "version_major": 2
            },
            "text/plain": [
              "0it [00:00, ?it/s]"
            ]
          },
          "metadata": {}
        },
        {
          "output_type": "stream",
          "name": "stdout",
          "text": [
            "(120000, 784) (120000,)\n",
            "sigma 1.5, acc:  0.9790166666666668\n"
          ]
        },
        {
          "output_type": "display_data",
          "data": {
            "application/vnd.jupyter.widget-view+json": {
              "model_id": "eecd5863f6c345d989ba8d950fdfee8f",
              "version_minor": 0,
              "version_major": 2
            },
            "text/plain": [
              "0it [00:00, ?it/s]"
            ]
          },
          "metadata": {}
        },
        {
          "output_type": "stream",
          "name": "stdout",
          "text": [
            "(180000, 784) (180000,)\n",
            "comb, acc:  0.9739222222222222\n"
          ]
        }
      ]
    },
    {
      "cell_type": "markdown",
      "metadata": {
        "id": "ICMXzqOvAMtS"
      },
      "source": [
        "без аугментации: 0.9731\n",
        "<br>\n",
        "shift: <br>\n",
        "- 1: 0.9651 (70000 примеров)\n",
        "- 2: 0.9130 (70000 примеров)\n",
        "- 3: 0.8712\n",
        "\n",
        "rotate: <br>\n",
        "- 5: 0.9788\n",
        "- 10: 0.9746\n",
        "- 15: 0.9703\n",
        "\n",
        "blur:\n",
        "- 0.5: 0.9786\n",
        "- 1.0: 0.9774\n",
        "- 1.5: 0.9683\n",
        "\n",
        "Ultimate perfomance: rotate 5, blur 0.5/1.0"
      ]
    },
    {
      "cell_type": "markdown",
      "metadata": {
        "id": "d1i87Kqut1tc"
      },
      "source": [
        "shift 1/rotate 10, acc:  0.9773000000000001"
      ]
    },
    {
      "cell_type": "code",
      "metadata": {
        "id": "mIFQJvsqgvsg",
        "colab": {
          "base_uri": "https://localhost:8080/",
          "height": 490,
          "referenced_widgets": [
            "9379add937504b89bb5197ca7d952522",
            "e4f8e0fd8ec84937adfbefae8418bd07",
            "22eb4fd198934546ba98eeceb1f7ad8e",
            "5227df24c4034fa097c1256a838763d1",
            "ee46c1286d574c7e82c623fe77733246",
            "1d1526ecfd584a8da74021d681a0ed18",
            "54c2c3e30e56478089a795a1d24ae9a7",
            "432005ee69ba4c4baf620d8ac1c1f937",
            "dc732feebc2d43658bbba093350b2eee",
            "e030c1decaa340178142adc67ea694a9",
            "faa1c1c3982c4867a0ecd5b93dd45e5a",
            "9b7a0a41b0094f31b0557fb060e2d5df",
            "58bd87dc8c574f45862d7d2c0be3ce8a",
            "0a5cbe1299e44efb81136ed0581f9c7d",
            "ed9697dfad7c44aba29d18f4f54e2941",
            "16aa84ea93124e0a87182f9ed4501ac8",
            "8a2542ab316740068bf1aa4f4f51d005",
            "84a79ab5a3834e0e83d1ada002ce2439",
            "cab549ccee414acc9cdd4fde512d93f9",
            "69b1ec9c6c654f5cb7254d29efd6fca2",
            "136d61352d2d47b798b1a679b20b15f9",
            "e862db13823c4ecabdfa264146172e47",
            "3566cb0ce65f4743a02fcc8d82b9abf7",
            "20c2eaea57fd40d4aa0333dd3747224c",
            "eecae692434d4e59ad55ea93f2ecfd52",
            "c6bc0275980a421280cf875f78e45fa8",
            "4fd2e5adb0fc4336aa52e047a012d504",
            "491d34476f4f477c8b1da34642b575ec",
            "81f52444dcbd4c55bbcdf91edf20d243",
            "e8c3264be6344c83af2c14ff74b28f8e",
            "dcef3e3ed50c4bacaf9dfda938f5dcaf",
            "8fed0bd859cb40edbaffed5424e670a6",
            "24b4ed5f11f84faf843ad40e392e8812"
          ]
        },
        "outputId": "cf72ef45-de5e-45ce-aebd-eebd15dec3fd"
      },
      "source": [
        "params = {\n",
        "    'k': 3,\n",
        "    'metric': 'cosine',\n",
        "    'strategy': 'brute',\n",
        "    'weights': True\n",
        "}\n",
        "# 1\n",
        "plt.figure(figsize=(17, 4))\n",
        "plt.subplot(1, 3, 1)\n",
        "data_augmented, targer_augmented = get_augmented_dataset(data, target)\n",
        "clf = nearest_neighbors.KNNClassifier(**params)\n",
        "clf.fit(data_augmented, targer_augmented)\n",
        "pred = clf.predict(data_test)\n",
        "cf_matrix1 = confusion_matrix(target_test, pred)\n",
        "sns.heatmap(cf_matrix1, annot=True, fmt='', )\n",
        "\n",
        "# 2\n",
        "plt.subplot(1, 3, 2)\n",
        "data_augmented, targer_augmented = get_augmented_dataset(data, target, rotate_list=[-5, 5])\n",
        "clf = nearest_neighbors.KNNClassifier(**params)\n",
        "clf.fit(data_augmented, targer_augmented)\n",
        "pred = clf.predict(data_test)\n",
        "cf_matrix2 = confusion_matrix(target_test, pred)\n",
        "sns.heatmap(cf_matrix2, annot=True, fmt='', )\n",
        "\n",
        "# 3\n",
        "plt.subplot(1, 3, 3)\n",
        "data_augmented, targer_augmented = get_augmented_dataset(data, target, sigma_list=[0.5, 1.0])\n",
        "clf = nearest_neighbors.KNNClassifier(**params)\n",
        "clf.fit(data_augmented, targer_augmented)\n",
        "pred = clf.predict(data_test)\n",
        "cf_matrix3 = confusion_matrix(target_test, pred)\n",
        "sns.heatmap(cf_matrix3, annot=True, fmt='', )"
      ],
      "execution_count": 133,
      "outputs": [
        {
          "output_type": "display_data",
          "data": {
            "application/vnd.jupyter.widget-view+json": {
              "model_id": "9379add937504b89bb5197ca7d952522",
              "version_minor": 0,
              "version_major": 2
            },
            "text/plain": [
              "0it [00:00, ?it/s]"
            ]
          },
          "metadata": {}
        },
        {
          "output_type": "display_data",
          "data": {
            "application/vnd.jupyter.widget-view+json": {
              "model_id": "9b7a0a41b0094f31b0557fb060e2d5df",
              "version_minor": 0,
              "version_major": 2
            },
            "text/plain": [
              "0it [00:00, ?it/s]"
            ]
          },
          "metadata": {}
        },
        {
          "output_type": "display_data",
          "data": {
            "application/vnd.jupyter.widget-view+json": {
              "model_id": "3566cb0ce65f4743a02fcc8d82b9abf7",
              "version_minor": 0,
              "version_major": 2
            },
            "text/plain": [
              "0it [00:00, ?it/s]"
            ]
          },
          "metadata": {}
        },
        {
          "output_type": "execute_result",
          "data": {
            "text/plain": [
              "<matplotlib.axes._subplots.AxesSubplot at 0x7f913f94f150>"
            ]
          },
          "metadata": {},
          "execution_count": 133
        },
        {
          "output_type": "display_data",
          "data": {
            "text/plain": [
              "<Figure size 1224x288 with 6 Axes>"
            ],
            "image/svg+xml": "<?xml version=\"1.0\" encoding=\"utf-8\" standalone=\"no\"?>\n<!DOCTYPE svg PUBLIC \"-//W3C//DTD SVG 1.1//EN\"\n  \"http://www.w3.org/Graphics/SVG/1.1/DTD/svg11.dtd\">\n<!-- Created with matplotlib (https://matplotlib.org/) -->\n<svg height=\"251.985937pt\" version=\"1.1\" viewBox=\"0 0 989.662937 251.985937\" width=\"989.662937pt\" xmlns=\"http://www.w3.org/2000/svg\" xmlns:xlink=\"http://www.w3.org/1999/xlink\">\n <defs>\n  <style type=\"text/css\">\n*{stroke-linecap:butt;stroke-linejoin:round;}\n  </style>\n </defs>\n <g id=\"figure_1\">\n  <g id=\"patch_1\">\n   <path d=\"M 0 251.985937 \nL 989.662937 251.985937 \nL 989.662937 0 \nL 0 0 \nz\n\" style=\"fill:#ffffff;\"/>\n  </g>\n  <g id=\"axes_1\">\n   <g id=\"patch_2\">\n    <path d=\"M 27.345938 224.64 \nL 250.545938 224.64 \nL 250.545938 7.2 \nL 27.345938 7.2 \nz\n\" style=\"fill:#eaeaf2;\"/>\n   </g>\n   <g id=\"matplotlib.axis_1\">\n    <g id=\"xtick_1\">\n     <g id=\"text_1\">\n      <!-- 0 -->\n      <defs>\n       <path d=\"M 31.78125 66.40625 \nQ 24.171875 66.40625 20.328125 58.90625 \nQ 16.5 51.421875 16.5 36.375 \nQ 16.5 21.390625 20.328125 13.890625 \nQ 24.171875 6.390625 31.78125 6.390625 \nQ 39.453125 6.390625 43.28125 13.890625 \nQ 47.125 21.390625 47.125 36.375 \nQ 47.125 51.421875 43.28125 58.90625 \nQ 39.453125 66.40625 31.78125 66.40625 \nz\nM 31.78125 74.21875 \nQ 44.046875 74.21875 50.515625 64.515625 \nQ 56.984375 54.828125 56.984375 36.375 \nQ 56.984375 17.96875 50.515625 8.265625 \nQ 44.046875 -1.421875 31.78125 -1.421875 \nQ 19.53125 -1.421875 13.0625 8.265625 \nQ 6.59375 17.96875 6.59375 36.375 \nQ 6.59375 54.828125 13.0625 64.515625 \nQ 19.53125 74.21875 31.78125 74.21875 \nz\n\" id=\"DejaVuSans-48\"/>\n      </defs>\n      <g style=\"fill:#262626;\" transform=\"translate(35.006563 242.498281)scale(0.11 -0.11)\">\n       <use xlink:href=\"#DejaVuSans-48\"/>\n      </g>\n     </g>\n    </g>\n    <g id=\"xtick_2\">\n     <g id=\"text_2\">\n      <!-- 1 -->\n      <defs>\n       <path d=\"M 12.40625 8.296875 \nL 28.515625 8.296875 \nL 28.515625 63.921875 \nL 10.984375 60.40625 \nL 10.984375 69.390625 \nL 28.421875 72.90625 \nL 38.28125 72.90625 \nL 38.28125 8.296875 \nL 54.390625 8.296875 \nL 54.390625 0 \nL 12.40625 0 \nz\n\" id=\"DejaVuSans-49\"/>\n      </defs>\n      <g style=\"fill:#262626;\" transform=\"translate(57.326563 242.498281)scale(0.11 -0.11)\">\n       <use xlink:href=\"#DejaVuSans-49\"/>\n      </g>\n     </g>\n    </g>\n    <g id=\"xtick_3\">\n     <g id=\"text_3\">\n      <!-- 2 -->\n      <defs>\n       <path d=\"M 19.1875 8.296875 \nL 53.609375 8.296875 \nL 53.609375 0 \nL 7.328125 0 \nL 7.328125 8.296875 \nQ 12.9375 14.109375 22.625 23.890625 \nQ 32.328125 33.6875 34.8125 36.53125 \nQ 39.546875 41.84375 41.421875 45.53125 \nQ 43.3125 49.21875 43.3125 52.78125 \nQ 43.3125 58.59375 39.234375 62.25 \nQ 35.15625 65.921875 28.609375 65.921875 \nQ 23.96875 65.921875 18.8125 64.3125 \nQ 13.671875 62.703125 7.8125 59.421875 \nL 7.8125 69.390625 \nQ 13.765625 71.78125 18.9375 73 \nQ 24.125 74.21875 28.421875 74.21875 \nQ 39.75 74.21875 46.484375 68.546875 \nQ 53.21875 62.890625 53.21875 53.421875 \nQ 53.21875 48.921875 51.53125 44.890625 \nQ 49.859375 40.875 45.40625 35.40625 \nQ 44.1875 33.984375 37.640625 27.21875 \nQ 31.109375 20.453125 19.1875 8.296875 \nz\n\" id=\"DejaVuSans-50\"/>\n      </defs>\n      <g style=\"fill:#262626;\" transform=\"translate(79.646563 242.498281)scale(0.11 -0.11)\">\n       <use xlink:href=\"#DejaVuSans-50\"/>\n      </g>\n     </g>\n    </g>\n    <g id=\"xtick_4\">\n     <g id=\"text_4\">\n      <!-- 3 -->\n      <defs>\n       <path d=\"M 40.578125 39.3125 \nQ 47.65625 37.796875 51.625 33 \nQ 55.609375 28.21875 55.609375 21.1875 \nQ 55.609375 10.40625 48.1875 4.484375 \nQ 40.765625 -1.421875 27.09375 -1.421875 \nQ 22.515625 -1.421875 17.65625 -0.515625 \nQ 12.796875 0.390625 7.625 2.203125 \nL 7.625 11.71875 \nQ 11.71875 9.328125 16.59375 8.109375 \nQ 21.484375 6.890625 26.8125 6.890625 \nQ 36.078125 6.890625 40.9375 10.546875 \nQ 45.796875 14.203125 45.796875 21.1875 \nQ 45.796875 27.640625 41.28125 31.265625 \nQ 36.765625 34.90625 28.71875 34.90625 \nL 20.21875 34.90625 \nL 20.21875 43.015625 \nL 29.109375 43.015625 \nQ 36.375 43.015625 40.234375 45.921875 \nQ 44.09375 48.828125 44.09375 54.296875 \nQ 44.09375 59.90625 40.109375 62.90625 \nQ 36.140625 65.921875 28.71875 65.921875 \nQ 24.65625 65.921875 20.015625 65.03125 \nQ 15.375 64.15625 9.8125 62.3125 \nL 9.8125 71.09375 \nQ 15.4375 72.65625 20.34375 73.4375 \nQ 25.25 74.21875 29.59375 74.21875 \nQ 40.828125 74.21875 47.359375 69.109375 \nQ 53.90625 64.015625 53.90625 55.328125 \nQ 53.90625 49.265625 50.4375 45.09375 \nQ 46.96875 40.921875 40.578125 39.3125 \nz\n\" id=\"DejaVuSans-51\"/>\n      </defs>\n      <g style=\"fill:#262626;\" transform=\"translate(101.966563 242.498281)scale(0.11 -0.11)\">\n       <use xlink:href=\"#DejaVuSans-51\"/>\n      </g>\n     </g>\n    </g>\n    <g id=\"xtick_5\">\n     <g id=\"text_5\">\n      <!-- 4 -->\n      <defs>\n       <path d=\"M 37.796875 64.3125 \nL 12.890625 25.390625 \nL 37.796875 25.390625 \nz\nM 35.203125 72.90625 \nL 47.609375 72.90625 \nL 47.609375 25.390625 \nL 58.015625 25.390625 \nL 58.015625 17.1875 \nL 47.609375 17.1875 \nL 47.609375 0 \nL 37.796875 0 \nL 37.796875 17.1875 \nL 4.890625 17.1875 \nL 4.890625 26.703125 \nz\n\" id=\"DejaVuSans-52\"/>\n      </defs>\n      <g style=\"fill:#262626;\" transform=\"translate(124.286563 242.498281)scale(0.11 -0.11)\">\n       <use xlink:href=\"#DejaVuSans-52\"/>\n      </g>\n     </g>\n    </g>\n    <g id=\"xtick_6\">\n     <g id=\"text_6\">\n      <!-- 5 -->\n      <defs>\n       <path d=\"M 10.796875 72.90625 \nL 49.515625 72.90625 \nL 49.515625 64.59375 \nL 19.828125 64.59375 \nL 19.828125 46.734375 \nQ 21.96875 47.46875 24.109375 47.828125 \nQ 26.265625 48.1875 28.421875 48.1875 \nQ 40.625 48.1875 47.75 41.5 \nQ 54.890625 34.8125 54.890625 23.390625 \nQ 54.890625 11.625 47.5625 5.09375 \nQ 40.234375 -1.421875 26.90625 -1.421875 \nQ 22.3125 -1.421875 17.546875 -0.640625 \nQ 12.796875 0.140625 7.71875 1.703125 \nL 7.71875 11.625 \nQ 12.109375 9.234375 16.796875 8.0625 \nQ 21.484375 6.890625 26.703125 6.890625 \nQ 35.15625 6.890625 40.078125 11.328125 \nQ 45.015625 15.765625 45.015625 23.390625 \nQ 45.015625 31 40.078125 35.4375 \nQ 35.15625 39.890625 26.703125 39.890625 \nQ 22.75 39.890625 18.8125 39.015625 \nQ 14.890625 38.140625 10.796875 36.28125 \nz\n\" id=\"DejaVuSans-53\"/>\n      </defs>\n      <g style=\"fill:#262626;\" transform=\"translate(146.606563 242.498281)scale(0.11 -0.11)\">\n       <use xlink:href=\"#DejaVuSans-53\"/>\n      </g>\n     </g>\n    </g>\n    <g id=\"xtick_7\">\n     <g id=\"text_7\">\n      <!-- 6 -->\n      <defs>\n       <path d=\"M 33.015625 40.375 \nQ 26.375 40.375 22.484375 35.828125 \nQ 18.609375 31.296875 18.609375 23.390625 \nQ 18.609375 15.53125 22.484375 10.953125 \nQ 26.375 6.390625 33.015625 6.390625 \nQ 39.65625 6.390625 43.53125 10.953125 \nQ 47.40625 15.53125 47.40625 23.390625 \nQ 47.40625 31.296875 43.53125 35.828125 \nQ 39.65625 40.375 33.015625 40.375 \nz\nM 52.59375 71.296875 \nL 52.59375 62.3125 \nQ 48.875 64.0625 45.09375 64.984375 \nQ 41.3125 65.921875 37.59375 65.921875 \nQ 27.828125 65.921875 22.671875 59.328125 \nQ 17.53125 52.734375 16.796875 39.40625 \nQ 19.671875 43.65625 24.015625 45.921875 \nQ 28.375 48.1875 33.59375 48.1875 \nQ 44.578125 48.1875 50.953125 41.515625 \nQ 57.328125 34.859375 57.328125 23.390625 \nQ 57.328125 12.15625 50.6875 5.359375 \nQ 44.046875 -1.421875 33.015625 -1.421875 \nQ 20.359375 -1.421875 13.671875 8.265625 \nQ 6.984375 17.96875 6.984375 36.375 \nQ 6.984375 53.65625 15.1875 63.9375 \nQ 23.390625 74.21875 37.203125 74.21875 \nQ 40.921875 74.21875 44.703125 73.484375 \nQ 48.484375 72.75 52.59375 71.296875 \nz\n\" id=\"DejaVuSans-54\"/>\n      </defs>\n      <g style=\"fill:#262626;\" transform=\"translate(168.926563 242.498281)scale(0.11 -0.11)\">\n       <use xlink:href=\"#DejaVuSans-54\"/>\n      </g>\n     </g>\n    </g>\n    <g id=\"xtick_8\">\n     <g id=\"text_8\">\n      <!-- 7 -->\n      <defs>\n       <path d=\"M 8.203125 72.90625 \nL 55.078125 72.90625 \nL 55.078125 68.703125 \nL 28.609375 0 \nL 18.3125 0 \nL 43.21875 64.59375 \nL 8.203125 64.59375 \nz\n\" id=\"DejaVuSans-55\"/>\n      </defs>\n      <g style=\"fill:#262626;\" transform=\"translate(191.246563 242.498281)scale(0.11 -0.11)\">\n       <use xlink:href=\"#DejaVuSans-55\"/>\n      </g>\n     </g>\n    </g>\n    <g id=\"xtick_9\">\n     <g id=\"text_9\">\n      <!-- 8 -->\n      <defs>\n       <path d=\"M 31.78125 34.625 \nQ 24.75 34.625 20.71875 30.859375 \nQ 16.703125 27.09375 16.703125 20.515625 \nQ 16.703125 13.921875 20.71875 10.15625 \nQ 24.75 6.390625 31.78125 6.390625 \nQ 38.8125 6.390625 42.859375 10.171875 \nQ 46.921875 13.96875 46.921875 20.515625 \nQ 46.921875 27.09375 42.890625 30.859375 \nQ 38.875 34.625 31.78125 34.625 \nz\nM 21.921875 38.8125 \nQ 15.578125 40.375 12.03125 44.71875 \nQ 8.5 49.078125 8.5 55.328125 \nQ 8.5 64.0625 14.71875 69.140625 \nQ 20.953125 74.21875 31.78125 74.21875 \nQ 42.671875 74.21875 48.875 69.140625 \nQ 55.078125 64.0625 55.078125 55.328125 \nQ 55.078125 49.078125 51.53125 44.71875 \nQ 48 40.375 41.703125 38.8125 \nQ 48.828125 37.15625 52.796875 32.3125 \nQ 56.78125 27.484375 56.78125 20.515625 \nQ 56.78125 9.90625 50.3125 4.234375 \nQ 43.84375 -1.421875 31.78125 -1.421875 \nQ 19.734375 -1.421875 13.25 4.234375 \nQ 6.78125 9.90625 6.78125 20.515625 \nQ 6.78125 27.484375 10.78125 32.3125 \nQ 14.796875 37.15625 21.921875 38.8125 \nz\nM 18.3125 54.390625 \nQ 18.3125 48.734375 21.84375 45.5625 \nQ 25.390625 42.390625 31.78125 42.390625 \nQ 38.140625 42.390625 41.71875 45.5625 \nQ 45.3125 48.734375 45.3125 54.390625 \nQ 45.3125 60.0625 41.71875 63.234375 \nQ 38.140625 66.40625 31.78125 66.40625 \nQ 25.390625 66.40625 21.84375 63.234375 \nQ 18.3125 60.0625 18.3125 54.390625 \nz\n\" id=\"DejaVuSans-56\"/>\n      </defs>\n      <g style=\"fill:#262626;\" transform=\"translate(213.566563 242.498281)scale(0.11 -0.11)\">\n       <use xlink:href=\"#DejaVuSans-56\"/>\n      </g>\n     </g>\n    </g>\n    <g id=\"xtick_10\">\n     <g id=\"text_10\">\n      <!-- 9 -->\n      <defs>\n       <path d=\"M 10.984375 1.515625 \nL 10.984375 10.5 \nQ 14.703125 8.734375 18.5 7.8125 \nQ 22.3125 6.890625 25.984375 6.890625 \nQ 35.75 6.890625 40.890625 13.453125 \nQ 46.046875 20.015625 46.78125 33.40625 \nQ 43.953125 29.203125 39.59375 26.953125 \nQ 35.25 24.703125 29.984375 24.703125 \nQ 19.046875 24.703125 12.671875 31.3125 \nQ 6.296875 37.9375 6.296875 49.421875 \nQ 6.296875 60.640625 12.9375 67.421875 \nQ 19.578125 74.21875 30.609375 74.21875 \nQ 43.265625 74.21875 49.921875 64.515625 \nQ 56.59375 54.828125 56.59375 36.375 \nQ 56.59375 19.140625 48.40625 8.859375 \nQ 40.234375 -1.421875 26.421875 -1.421875 \nQ 22.703125 -1.421875 18.890625 -0.6875 \nQ 15.09375 0.046875 10.984375 1.515625 \nz\nM 30.609375 32.421875 \nQ 37.25 32.421875 41.125 36.953125 \nQ 45.015625 41.5 45.015625 49.421875 \nQ 45.015625 57.28125 41.125 61.84375 \nQ 37.25 66.40625 30.609375 66.40625 \nQ 23.96875 66.40625 20.09375 61.84375 \nQ 16.21875 57.28125 16.21875 49.421875 \nQ 16.21875 41.5 20.09375 36.953125 \nQ 23.96875 32.421875 30.609375 32.421875 \nz\n\" id=\"DejaVuSans-57\"/>\n      </defs>\n      <g style=\"fill:#262626;\" transform=\"translate(235.886563 242.498281)scale(0.11 -0.11)\">\n       <use xlink:href=\"#DejaVuSans-57\"/>\n      </g>\n     </g>\n    </g>\n   </g>\n   <g id=\"matplotlib.axis_2\">\n    <g id=\"ytick_1\">\n     <g id=\"text_11\">\n      <!-- 0 -->\n      <g style=\"fill:#262626;\" transform=\"translate(15.558281 21.571375)rotate(-90)scale(0.11 -0.11)\">\n       <use xlink:href=\"#DejaVuSans-48\"/>\n      </g>\n     </g>\n    </g>\n    <g id=\"ytick_2\">\n     <g id=\"text_12\">\n      <!-- 1 -->\n      <g style=\"fill:#262626;\" transform=\"translate(15.558281 43.315375)rotate(-90)scale(0.11 -0.11)\">\n       <use xlink:href=\"#DejaVuSans-49\"/>\n      </g>\n     </g>\n    </g>\n    <g id=\"ytick_3\">\n     <g id=\"text_13\">\n      <!-- 2 -->\n      <g style=\"fill:#262626;\" transform=\"translate(15.558281 65.059375)rotate(-90)scale(0.11 -0.11)\">\n       <use xlink:href=\"#DejaVuSans-50\"/>\n      </g>\n     </g>\n    </g>\n    <g id=\"ytick_4\">\n     <g id=\"text_14\">\n      <!-- 3 -->\n      <g style=\"fill:#262626;\" transform=\"translate(15.558281 86.803375)rotate(-90)scale(0.11 -0.11)\">\n       <use xlink:href=\"#DejaVuSans-51\"/>\n      </g>\n     </g>\n    </g>\n    <g id=\"ytick_5\">\n     <g id=\"text_15\">\n      <!-- 4 -->\n      <g style=\"fill:#262626;\" transform=\"translate(15.558281 108.547375)rotate(-90)scale(0.11 -0.11)\">\n       <use xlink:href=\"#DejaVuSans-52\"/>\n      </g>\n     </g>\n    </g>\n    <g id=\"ytick_6\">\n     <g id=\"text_16\">\n      <!-- 5 -->\n      <g style=\"fill:#262626;\" transform=\"translate(15.558281 130.291375)rotate(-90)scale(0.11 -0.11)\">\n       <use xlink:href=\"#DejaVuSans-53\"/>\n      </g>\n     </g>\n    </g>\n    <g id=\"ytick_7\">\n     <g id=\"text_17\">\n      <!-- 6 -->\n      <g style=\"fill:#262626;\" transform=\"translate(15.558281 152.035375)rotate(-90)scale(0.11 -0.11)\">\n       <use xlink:href=\"#DejaVuSans-54\"/>\n      </g>\n     </g>\n    </g>\n    <g id=\"ytick_8\">\n     <g id=\"text_18\">\n      <!-- 7 -->\n      <g style=\"fill:#262626;\" transform=\"translate(15.558281 173.779375)rotate(-90)scale(0.11 -0.11)\">\n       <use xlink:href=\"#DejaVuSans-55\"/>\n      </g>\n     </g>\n    </g>\n    <g id=\"ytick_9\">\n     <g id=\"text_19\">\n      <!-- 8 -->\n      <g style=\"fill:#262626;\" transform=\"translate(15.558281 195.523375)rotate(-90)scale(0.11 -0.11)\">\n       <use xlink:href=\"#DejaVuSans-56\"/>\n      </g>\n     </g>\n    </g>\n    <g id=\"ytick_10\">\n     <g id=\"text_20\">\n      <!-- 9 -->\n      <g style=\"fill:#262626;\" transform=\"translate(15.558281 217.267375)rotate(-90)scale(0.11 -0.11)\">\n       <use xlink:href=\"#DejaVuSans-57\"/>\n      </g>\n     </g>\n    </g>\n   </g>\n   <g id=\"QuadMesh_1\">\n    <path clip-path=\"url(#pfbc445b1f9)\" d=\"M 27.345938 7.2 \nL 49.665938 7.2 \nL 49.665938 28.944 \nL 27.345938 28.944 \nL 27.345938 7.2 \n\" style=\"fill:#f6b893;\"/>\n    <path clip-path=\"url(#pfbc445b1f9)\" d=\"M 49.665938 7.2 \nL 71.985938 7.2 \nL 71.985938 28.944 \nL 49.665938 28.944 \nL 49.665938 7.2 \n\" style=\"fill:#03051a;\"/>\n    <path clip-path=\"url(#pfbc445b1f9)\" d=\"M 71.985938 7.2 \nL 94.305938 7.2 \nL 94.305938 28.944 \nL 71.985938 28.944 \nL 71.985938 7.2 \n\" style=\"fill:#03051a;\"/>\n    <path clip-path=\"url(#pfbc445b1f9)\" d=\"M 94.305938 7.2 \nL 116.625938 7.2 \nL 116.625938 28.944 \nL 94.305938 28.944 \nL 94.305938 7.2 \n\" style=\"fill:#03051a;\"/>\n    <path clip-path=\"url(#pfbc445b1f9)\" d=\"M 116.625938 7.2 \nL 138.945938 7.2 \nL 138.945938 28.944 \nL 116.625938 28.944 \nL 116.625938 7.2 \n\" style=\"fill:#03051a;\"/>\n    <path clip-path=\"url(#pfbc445b1f9)\" d=\"M 138.945938 7.2 \nL 161.265938 7.2 \nL 161.265938 28.944 \nL 138.945938 28.944 \nL 138.945938 7.2 \n\" style=\"fill:#03051a;\"/>\n    <path clip-path=\"url(#pfbc445b1f9)\" d=\"M 161.265938 7.2 \nL 183.585938 7.2 \nL 183.585938 28.944 \nL 161.265938 28.944 \nL 161.265938 7.2 \n\" style=\"fill:#03051a;\"/>\n    <path clip-path=\"url(#pfbc445b1f9)\" d=\"M 183.585938 7.2 \nL 205.905938 7.2 \nL 205.905938 28.944 \nL 183.585938 28.944 \nL 183.585938 7.2 \n\" style=\"fill:#03051a;\"/>\n    <path clip-path=\"url(#pfbc445b1f9)\" d=\"M 205.905938 7.2 \nL 228.225938 7.2 \nL 228.225938 28.944 \nL 205.905938 28.944 \nL 205.905938 7.2 \n\" style=\"fill:#03051a;\"/>\n    <path clip-path=\"url(#pfbc445b1f9)\" d=\"M 228.225938 7.2 \nL 250.545938 7.2 \nL 250.545938 28.944 \nL 228.225938 28.944 \nL 228.225938 7.2 \n\" style=\"fill:#03051a;\"/>\n    <path clip-path=\"url(#pfbc445b1f9)\" d=\"M 27.345938 28.944 \nL 49.665938 28.944 \nL 49.665938 50.688 \nL 27.345938 50.688 \nL 27.345938 28.944 \n\" style=\"fill:#03051a;\"/>\n    <path clip-path=\"url(#pfbc445b1f9)\" d=\"M 49.665938 28.944 \nL 71.985938 28.944 \nL 71.985938 50.688 \nL 49.665938 50.688 \nL 49.665938 28.944 \n\" style=\"fill:#faebdd;\"/>\n    <path clip-path=\"url(#pfbc445b1f9)\" d=\"M 71.985938 28.944 \nL 94.305938 28.944 \nL 94.305938 50.688 \nL 71.985938 50.688 \nL 71.985938 28.944 \n\" style=\"fill:#03051a;\"/>\n    <path clip-path=\"url(#pfbc445b1f9)\" d=\"M 94.305938 28.944 \nL 116.625938 28.944 \nL 116.625938 50.688 \nL 94.305938 50.688 \nL 94.305938 28.944 \n\" style=\"fill:#03051a;\"/>\n    <path clip-path=\"url(#pfbc445b1f9)\" d=\"M 116.625938 28.944 \nL 138.945938 28.944 \nL 138.945938 50.688 \nL 116.625938 50.688 \nL 116.625938 28.944 \n\" style=\"fill:#03051a;\"/>\n    <path clip-path=\"url(#pfbc445b1f9)\" d=\"M 138.945938 28.944 \nL 161.265938 28.944 \nL 161.265938 50.688 \nL 138.945938 50.688 \nL 138.945938 28.944 \n\" style=\"fill:#03051a;\"/>\n    <path clip-path=\"url(#pfbc445b1f9)\" d=\"M 161.265938 28.944 \nL 183.585938 28.944 \nL 183.585938 50.688 \nL 161.265938 50.688 \nL 161.265938 28.944 \n\" style=\"fill:#03051a;\"/>\n    <path clip-path=\"url(#pfbc445b1f9)\" d=\"M 183.585938 28.944 \nL 205.905938 28.944 \nL 205.905938 50.688 \nL 183.585938 50.688 \nL 183.585938 28.944 \n\" style=\"fill:#03051a;\"/>\n    <path clip-path=\"url(#pfbc445b1f9)\" d=\"M 205.905938 28.944 \nL 228.225938 28.944 \nL 228.225938 50.688 \nL 205.905938 50.688 \nL 205.905938 28.944 \n\" style=\"fill:#03051a;\"/>\n    <path clip-path=\"url(#pfbc445b1f9)\" d=\"M 228.225938 28.944 \nL 250.545938 28.944 \nL 250.545938 50.688 \nL 228.225938 50.688 \nL 228.225938 28.944 \n\" style=\"fill:#03051a;\"/>\n    <path clip-path=\"url(#pfbc445b1f9)\" d=\"M 27.345938 50.688 \nL 49.665938 50.688 \nL 49.665938 72.432 \nL 27.345938 72.432 \nL 27.345938 50.688 \n\" style=\"fill:#04051a;\"/>\n    <path clip-path=\"url(#pfbc445b1f9)\" d=\"M 49.665938 50.688 \nL 71.985938 50.688 \nL 71.985938 72.432 \nL 49.665938 72.432 \nL 49.665938 50.688 \n\" style=\"fill:#03051a;\"/>\n    <path clip-path=\"url(#pfbc445b1f9)\" d=\"M 71.985938 50.688 \nL 94.305938 50.688 \nL 94.305938 72.432 \nL 71.985938 72.432 \nL 71.985938 50.688 \n\" style=\"fill:#f7c2a2;\"/>\n    <path clip-path=\"url(#pfbc445b1f9)\" d=\"M 94.305938 50.688 \nL 116.625938 50.688 \nL 116.625938 72.432 \nL 94.305938 72.432 \nL 94.305938 50.688 \n\" style=\"fill:#03051a;\"/>\n    <path clip-path=\"url(#pfbc445b1f9)\" d=\"M 116.625938 50.688 \nL 138.945938 50.688 \nL 138.945938 72.432 \nL 116.625938 72.432 \nL 116.625938 50.688 \n\" style=\"fill:#03051a;\"/>\n    <path clip-path=\"url(#pfbc445b1f9)\" d=\"M 138.945938 50.688 \nL 161.265938 50.688 \nL 161.265938 72.432 \nL 138.945938 72.432 \nL 138.945938 50.688 \n\" style=\"fill:#03051a;\"/>\n    <path clip-path=\"url(#pfbc445b1f9)\" d=\"M 161.265938 50.688 \nL 183.585938 50.688 \nL 183.585938 72.432 \nL 161.265938 72.432 \nL 161.265938 50.688 \n\" style=\"fill:#03051a;\"/>\n    <path clip-path=\"url(#pfbc445b1f9)\" d=\"M 183.585938 50.688 \nL 205.905938 50.688 \nL 205.905938 72.432 \nL 183.585938 72.432 \nL 183.585938 50.688 \n\" style=\"fill:#04051a;\"/>\n    <path clip-path=\"url(#pfbc445b1f9)\" d=\"M 205.905938 50.688 \nL 228.225938 50.688 \nL 228.225938 72.432 \nL 205.905938 72.432 \nL 205.905938 50.688 \n\" style=\"fill:#03051a;\"/>\n    <path clip-path=\"url(#pfbc445b1f9)\" d=\"M 228.225938 50.688 \nL 250.545938 50.688 \nL 250.545938 72.432 \nL 228.225938 72.432 \nL 228.225938 50.688 \n\" style=\"fill:#03051a;\"/>\n    <path clip-path=\"url(#pfbc445b1f9)\" d=\"M 27.345938 72.432 \nL 49.665938 72.432 \nL 49.665938 94.176 \nL 27.345938 94.176 \nL 27.345938 72.432 \n\" style=\"fill:#03051a;\"/>\n    <path clip-path=\"url(#pfbc445b1f9)\" d=\"M 49.665938 72.432 \nL 71.985938 72.432 \nL 71.985938 94.176 \nL 49.665938 94.176 \nL 49.665938 72.432 \n\" style=\"fill:#03051a;\"/>\n    <path clip-path=\"url(#pfbc445b1f9)\" d=\"M 71.985938 72.432 \nL 94.305938 72.432 \nL 94.305938 94.176 \nL 71.985938 94.176 \nL 71.985938 72.432 \n\" style=\"fill:#03051a;\"/>\n    <path clip-path=\"url(#pfbc445b1f9)\" d=\"M 94.305938 72.432 \nL 116.625938 72.432 \nL 116.625938 94.176 \nL 94.305938 94.176 \nL 94.305938 72.432 \n\" style=\"fill:#f6b691;\"/>\n    <path clip-path=\"url(#pfbc445b1f9)\" d=\"M 116.625938 72.432 \nL 138.945938 72.432 \nL 138.945938 94.176 \nL 116.625938 94.176 \nL 116.625938 72.432 \n\" style=\"fill:#03051a;\"/>\n    <path clip-path=\"url(#pfbc445b1f9)\" d=\"M 138.945938 72.432 \nL 161.265938 72.432 \nL 161.265938 94.176 \nL 138.945938 94.176 \nL 138.945938 72.432 \n\" style=\"fill:#05061b;\"/>\n    <path clip-path=\"url(#pfbc445b1f9)\" d=\"M 161.265938 72.432 \nL 183.585938 72.432 \nL 183.585938 94.176 \nL 161.265938 94.176 \nL 161.265938 72.432 \n\" style=\"fill:#03051a;\"/>\n    <path clip-path=\"url(#pfbc445b1f9)\" d=\"M 183.585938 72.432 \nL 205.905938 72.432 \nL 205.905938 94.176 \nL 183.585938 94.176 \nL 183.585938 72.432 \n\" style=\"fill:#04051a;\"/>\n    <path clip-path=\"url(#pfbc445b1f9)\" d=\"M 205.905938 72.432 \nL 228.225938 72.432 \nL 228.225938 94.176 \nL 205.905938 94.176 \nL 205.905938 72.432 \n\" style=\"fill:#04051a;\"/>\n    <path clip-path=\"url(#pfbc445b1f9)\" d=\"M 228.225938 72.432 \nL 250.545938 72.432 \nL 250.545938 94.176 \nL 228.225938 94.176 \nL 228.225938 72.432 \n\" style=\"fill:#04051a;\"/>\n    <path clip-path=\"url(#pfbc445b1f9)\" d=\"M 27.345938 94.176 \nL 49.665938 94.176 \nL 49.665938 115.92 \nL 27.345938 115.92 \nL 27.345938 94.176 \n\" style=\"fill:#03051a;\"/>\n    <path clip-path=\"url(#pfbc445b1f9)\" d=\"M 49.665938 94.176 \nL 71.985938 94.176 \nL 71.985938 115.92 \nL 49.665938 115.92 \nL 49.665938 94.176 \n\" style=\"fill:#03051a;\"/>\n    <path clip-path=\"url(#pfbc445b1f9)\" d=\"M 71.985938 94.176 \nL 94.305938 94.176 \nL 94.305938 115.92 \nL 71.985938 115.92 \nL 71.985938 94.176 \n\" style=\"fill:#03051a;\"/>\n    <path clip-path=\"url(#pfbc445b1f9)\" d=\"M 94.305938 94.176 \nL 116.625938 94.176 \nL 116.625938 115.92 \nL 94.305938 115.92 \nL 94.305938 94.176 \n\" style=\"fill:#03051a;\"/>\n    <path clip-path=\"url(#pfbc445b1f9)\" d=\"M 116.625938 94.176 \nL 138.945938 94.176 \nL 138.945938 115.92 \nL 116.625938 115.92 \nL 116.625938 94.176 \n\" style=\"fill:#f6ad85;\"/>\n    <path clip-path=\"url(#pfbc445b1f9)\" d=\"M 138.945938 94.176 \nL 161.265938 94.176 \nL 161.265938 115.92 \nL 138.945938 115.92 \nL 138.945938 94.176 \n\" style=\"fill:#03051a;\"/>\n    <path clip-path=\"url(#pfbc445b1f9)\" d=\"M 161.265938 94.176 \nL 183.585938 94.176 \nL 183.585938 115.92 \nL 161.265938 115.92 \nL 161.265938 94.176 \n\" style=\"fill:#04051a;\"/>\n    <path clip-path=\"url(#pfbc445b1f9)\" d=\"M 183.585938 94.176 \nL 205.905938 94.176 \nL 205.905938 115.92 \nL 183.585938 115.92 \nL 183.585938 94.176 \n\" style=\"fill:#03051a;\"/>\n    <path clip-path=\"url(#pfbc445b1f9)\" d=\"M 205.905938 94.176 \nL 228.225938 94.176 \nL 228.225938 115.92 \nL 205.905938 115.92 \nL 205.905938 94.176 \n\" style=\"fill:#03051a;\"/>\n    <path clip-path=\"url(#pfbc445b1f9)\" d=\"M 228.225938 94.176 \nL 250.545938 94.176 \nL 250.545938 115.92 \nL 228.225938 115.92 \nL 228.225938 94.176 \n\" style=\"fill:#08081e;\"/>\n    <path clip-path=\"url(#pfbc445b1f9)\" d=\"M 27.345938 115.92 \nL 49.665938 115.92 \nL 49.665938 137.664 \nL 27.345938 137.664 \nL 27.345938 115.92 \n\" style=\"fill:#03051a;\"/>\n    <path clip-path=\"url(#pfbc445b1f9)\" d=\"M 49.665938 115.92 \nL 71.985938 115.92 \nL 71.985938 137.664 \nL 49.665938 137.664 \nL 49.665938 115.92 \n\" style=\"fill:#03051a;\"/>\n    <path clip-path=\"url(#pfbc445b1f9)\" d=\"M 71.985938 115.92 \nL 94.305938 115.92 \nL 94.305938 137.664 \nL 71.985938 137.664 \nL 71.985938 115.92 \n\" style=\"fill:#03051a;\"/>\n    <path clip-path=\"url(#pfbc445b1f9)\" d=\"M 94.305938 115.92 \nL 116.625938 115.92 \nL 116.625938 137.664 \nL 94.305938 137.664 \nL 94.305938 115.92 \n\" style=\"fill:#05061b;\"/>\n    <path clip-path=\"url(#pfbc445b1f9)\" d=\"M 116.625938 115.92 \nL 138.945938 115.92 \nL 138.945938 137.664 \nL 116.625938 137.664 \nL 116.625938 115.92 \n\" style=\"fill:#03051a;\"/>\n    <path clip-path=\"url(#pfbc445b1f9)\" d=\"M 138.945938 115.92 \nL 161.265938 115.92 \nL 161.265938 137.664 \nL 138.945938 137.664 \nL 138.945938 115.92 \n\" style=\"fill:#f58b63;\"/>\n    <path clip-path=\"url(#pfbc445b1f9)\" d=\"M 161.265938 115.92 \nL 183.585938 115.92 \nL 183.585938 137.664 \nL 161.265938 137.664 \nL 161.265938 115.92 \n\" style=\"fill:#04051a;\"/>\n    <path clip-path=\"url(#pfbc445b1f9)\" d=\"M 183.585938 115.92 \nL 205.905938 115.92 \nL 205.905938 137.664 \nL 183.585938 137.664 \nL 183.585938 115.92 \n\" style=\"fill:#03051a;\"/>\n    <path clip-path=\"url(#pfbc445b1f9)\" d=\"M 205.905938 115.92 \nL 228.225938 115.92 \nL 228.225938 137.664 \nL 205.905938 137.664 \nL 205.905938 115.92 \n\" style=\"fill:#04051a;\"/>\n    <path clip-path=\"url(#pfbc445b1f9)\" d=\"M 228.225938 115.92 \nL 250.545938 115.92 \nL 250.545938 137.664 \nL 228.225938 137.664 \nL 228.225938 115.92 \n\" style=\"fill:#04051a;\"/>\n    <path clip-path=\"url(#pfbc445b1f9)\" d=\"M 27.345938 137.664 \nL 49.665938 137.664 \nL 49.665938 159.408 \nL 27.345938 159.408 \nL 27.345938 137.664 \n\" style=\"fill:#03051a;\"/>\n    <path clip-path=\"url(#pfbc445b1f9)\" d=\"M 49.665938 137.664 \nL 71.985938 137.664 \nL 71.985938 159.408 \nL 49.665938 159.408 \nL 49.665938 137.664 \n\" style=\"fill:#03051a;\"/>\n    <path clip-path=\"url(#pfbc445b1f9)\" d=\"M 71.985938 137.664 \nL 94.305938 137.664 \nL 94.305938 159.408 \nL 71.985938 159.408 \nL 71.985938 137.664 \n\" style=\"fill:#03051a;\"/>\n    <path clip-path=\"url(#pfbc445b1f9)\" d=\"M 94.305938 137.664 \nL 116.625938 137.664 \nL 116.625938 159.408 \nL 94.305938 159.408 \nL 94.305938 137.664 \n\" style=\"fill:#03051a;\"/>\n    <path clip-path=\"url(#pfbc445b1f9)\" d=\"M 116.625938 137.664 \nL 138.945938 137.664 \nL 138.945938 159.408 \nL 116.625938 159.408 \nL 116.625938 137.664 \n\" style=\"fill:#03051a;\"/>\n    <path clip-path=\"url(#pfbc445b1f9)\" d=\"M 138.945938 137.664 \nL 161.265938 137.664 \nL 161.265938 159.408 \nL 138.945938 159.408 \nL 138.945938 137.664 \n\" style=\"fill:#03051a;\"/>\n    <path clip-path=\"url(#pfbc445b1f9)\" d=\"M 161.265938 137.664 \nL 183.585938 137.664 \nL 183.585938 159.408 \nL 161.265938 159.408 \nL 161.265938 137.664 \n\" style=\"fill:#f6ad85;\"/>\n    <path clip-path=\"url(#pfbc445b1f9)\" d=\"M 183.585938 137.664 \nL 205.905938 137.664 \nL 205.905938 159.408 \nL 183.585938 159.408 \nL 183.585938 137.664 \n\" style=\"fill:#03051a;\"/>\n    <path clip-path=\"url(#pfbc445b1f9)\" d=\"M 205.905938 137.664 \nL 228.225938 137.664 \nL 228.225938 159.408 \nL 205.905938 159.408 \nL 205.905938 137.664 \n\" style=\"fill:#03051a;\"/>\n    <path clip-path=\"url(#pfbc445b1f9)\" d=\"M 228.225938 137.664 \nL 250.545938 137.664 \nL 250.545938 159.408 \nL 228.225938 159.408 \nL 228.225938 137.664 \n\" style=\"fill:#03051a;\"/>\n    <path clip-path=\"url(#pfbc445b1f9)\" d=\"M 27.345938 159.408 \nL 49.665938 159.408 \nL 49.665938 181.152 \nL 27.345938 181.152 \nL 27.345938 159.408 \n\" style=\"fill:#03051a;\"/>\n    <path clip-path=\"url(#pfbc445b1f9)\" d=\"M 49.665938 159.408 \nL 71.985938 159.408 \nL 71.985938 181.152 \nL 49.665938 181.152 \nL 49.665938 159.408 \n\" style=\"fill:#05061b;\"/>\n    <path clip-path=\"url(#pfbc445b1f9)\" d=\"M 71.985938 159.408 \nL 94.305938 159.408 \nL 94.305938 181.152 \nL 71.985938 181.152 \nL 71.985938 159.408 \n\" style=\"fill:#04051a;\"/>\n    <path clip-path=\"url(#pfbc445b1f9)\" d=\"M 94.305938 159.408 \nL 116.625938 159.408 \nL 116.625938 181.152 \nL 94.305938 181.152 \nL 94.305938 159.408 \n\" style=\"fill:#03051a;\"/>\n    <path clip-path=\"url(#pfbc445b1f9)\" d=\"M 116.625938 159.408 \nL 138.945938 159.408 \nL 138.945938 181.152 \nL 116.625938 181.152 \nL 116.625938 159.408 \n\" style=\"fill:#03051a;\"/>\n    <path clip-path=\"url(#pfbc445b1f9)\" d=\"M 138.945938 159.408 \nL 161.265938 159.408 \nL 161.265938 181.152 \nL 138.945938 181.152 \nL 138.945938 159.408 \n\" style=\"fill:#03051a;\"/>\n    <path clip-path=\"url(#pfbc445b1f9)\" d=\"M 161.265938 159.408 \nL 183.585938 159.408 \nL 183.585938 181.152 \nL 161.265938 181.152 \nL 161.265938 159.408 \n\" style=\"fill:#03051a;\"/>\n    <path clip-path=\"url(#pfbc445b1f9)\" d=\"M 183.585938 159.408 \nL 205.905938 159.408 \nL 205.905938 181.152 \nL 183.585938 181.152 \nL 183.585938 159.408 \n\" style=\"fill:#f6be9b;\"/>\n    <path clip-path=\"url(#pfbc445b1f9)\" d=\"M 205.905938 159.408 \nL 228.225938 159.408 \nL 228.225938 181.152 \nL 205.905938 181.152 \nL 205.905938 159.408 \n\" style=\"fill:#03051a;\"/>\n    <path clip-path=\"url(#pfbc445b1f9)\" d=\"M 228.225938 159.408 \nL 250.545938 159.408 \nL 250.545938 181.152 \nL 228.225938 181.152 \nL 228.225938 159.408 \n\" style=\"fill:#06071c;\"/>\n    <path clip-path=\"url(#pfbc445b1f9)\" d=\"M 27.345938 181.152 \nL 49.665938 181.152 \nL 49.665938 202.896 \nL 27.345938 202.896 \nL 27.345938 181.152 \n\" style=\"fill:#04051a;\"/>\n    <path clip-path=\"url(#pfbc445b1f9)\" d=\"M 49.665938 181.152 \nL 71.985938 181.152 \nL 71.985938 202.896 \nL 49.665938 202.896 \nL 49.665938 181.152 \n\" style=\"fill:#03051a;\"/>\n    <path clip-path=\"url(#pfbc445b1f9)\" d=\"M 71.985938 181.152 \nL 94.305938 181.152 \nL 94.305938 202.896 \nL 71.985938 202.896 \nL 71.985938 181.152 \n\" style=\"fill:#03051a;\"/>\n    <path clip-path=\"url(#pfbc445b1f9)\" d=\"M 94.305938 181.152 \nL 116.625938 181.152 \nL 116.625938 202.896 \nL 94.305938 202.896 \nL 94.305938 181.152 \n\" style=\"fill:#05061b;\"/>\n    <path clip-path=\"url(#pfbc445b1f9)\" d=\"M 116.625938 181.152 \nL 138.945938 181.152 \nL 138.945938 202.896 \nL 116.625938 202.896 \nL 116.625938 181.152 \n\" style=\"fill:#03051a;\"/>\n    <path clip-path=\"url(#pfbc445b1f9)\" d=\"M 138.945938 181.152 \nL 161.265938 181.152 \nL 161.265938 202.896 \nL 138.945938 202.896 \nL 138.945938 181.152 \n\" style=\"fill:#03051a;\"/>\n    <path clip-path=\"url(#pfbc445b1f9)\" d=\"M 161.265938 181.152 \nL 183.585938 181.152 \nL 183.585938 202.896 \nL 161.265938 202.896 \nL 161.265938 181.152 \n\" style=\"fill:#03051a;\"/>\n    <path clip-path=\"url(#pfbc445b1f9)\" d=\"M 183.585938 181.152 \nL 205.905938 181.152 \nL 205.905938 202.896 \nL 183.585938 202.896 \nL 183.585938 181.152 \n\" style=\"fill:#03051a;\"/>\n    <path clip-path=\"url(#pfbc445b1f9)\" d=\"M 205.905938 181.152 \nL 228.225938 181.152 \nL 228.225938 202.896 \nL 205.905938 202.896 \nL 205.905938 181.152 \n\" style=\"fill:#f6a981;\"/>\n    <path clip-path=\"url(#pfbc445b1f9)\" d=\"M 228.225938 181.152 \nL 250.545938 181.152 \nL 250.545938 202.896 \nL 228.225938 202.896 \nL 228.225938 181.152 \n\" style=\"fill:#03051a;\"/>\n    <path clip-path=\"url(#pfbc445b1f9)\" d=\"M 27.345938 202.896 \nL 49.665938 202.896 \nL 49.665938 224.64 \nL 27.345938 224.64 \nL 27.345938 202.896 \n\" style=\"fill:#04051a;\"/>\n    <path clip-path=\"url(#pfbc445b1f9)\" d=\"M 49.665938 202.896 \nL 71.985938 202.896 \nL 71.985938 224.64 \nL 49.665938 224.64 \nL 49.665938 202.896 \n\" style=\"fill:#04051a;\"/>\n    <path clip-path=\"url(#pfbc445b1f9)\" d=\"M 71.985938 202.896 \nL 94.305938 202.896 \nL 94.305938 224.64 \nL 71.985938 224.64 \nL 71.985938 202.896 \n\" style=\"fill:#03051a;\"/>\n    <path clip-path=\"url(#pfbc445b1f9)\" d=\"M 94.305938 202.896 \nL 116.625938 202.896 \nL 116.625938 224.64 \nL 94.305938 224.64 \nL 94.305938 202.896 \n\" style=\"fill:#04051a;\"/>\n    <path clip-path=\"url(#pfbc445b1f9)\" d=\"M 116.625938 202.896 \nL 138.945938 202.896 \nL 138.945938 224.64 \nL 116.625938 224.64 \nL 116.625938 202.896 \n\" style=\"fill:#04051a;\"/>\n    <path clip-path=\"url(#pfbc445b1f9)\" d=\"M 138.945938 202.896 \nL 161.265938 202.896 \nL 161.265938 224.64 \nL 138.945938 224.64 \nL 138.945938 202.896 \n\" style=\"fill:#03051a;\"/>\n    <path clip-path=\"url(#pfbc445b1f9)\" d=\"M 161.265938 202.896 \nL 183.585938 202.896 \nL 183.585938 224.64 \nL 161.265938 224.64 \nL 161.265938 202.896 \n\" style=\"fill:#03051a;\"/>\n    <path clip-path=\"url(#pfbc445b1f9)\" d=\"M 183.585938 202.896 \nL 205.905938 202.896 \nL 205.905938 224.64 \nL 183.585938 224.64 \nL 183.585938 202.896 \n\" style=\"fill:#04051a;\"/>\n    <path clip-path=\"url(#pfbc445b1f9)\" d=\"M 205.905938 202.896 \nL 228.225938 202.896 \nL 228.225938 224.64 \nL 205.905938 224.64 \nL 205.905938 202.896 \n\" style=\"fill:#03051a;\"/>\n    <path clip-path=\"url(#pfbc445b1f9)\" d=\"M 228.225938 202.896 \nL 250.545938 202.896 \nL 250.545938 224.64 \nL 228.225938 224.64 \nL 228.225938 202.896 \n\" style=\"fill:#f6b48f;\"/>\n   </g>\n   <g id=\"text_21\">\n    <!-- 977 -->\n    <g style=\"fill:#262626;\" transform=\"translate(27.053438 21.38325)scale(0.12 -0.12)\">\n     <use xlink:href=\"#DejaVuSans-57\"/>\n     <use x=\"63.623047\" xlink:href=\"#DejaVuSans-55\"/>\n     <use x=\"127.246094\" xlink:href=\"#DejaVuSans-55\"/>\n    </g>\n   </g>\n   <g id=\"text_22\">\n    <!-- 1 -->\n    <g style=\"fill:#ffffff;\" transform=\"translate(57.008438 21.38325)scale(0.12 -0.12)\">\n     <use xlink:href=\"#DejaVuSans-49\"/>\n    </g>\n   </g>\n   <g id=\"text_23\">\n    <!-- 0 -->\n    <g style=\"fill:#ffffff;\" transform=\"translate(79.328438 21.38325)scale(0.12 -0.12)\">\n     <use xlink:href=\"#DejaVuSans-48\"/>\n    </g>\n   </g>\n   <g id=\"text_24\">\n    <!-- 0 -->\n    <g style=\"fill:#ffffff;\" transform=\"translate(101.648438 21.38325)scale(0.12 -0.12)\">\n     <use xlink:href=\"#DejaVuSans-48\"/>\n    </g>\n   </g>\n   <g id=\"text_25\">\n    <!-- 0 -->\n    <g style=\"fill:#ffffff;\" transform=\"translate(123.968438 21.38325)scale(0.12 -0.12)\">\n     <use xlink:href=\"#DejaVuSans-48\"/>\n    </g>\n   </g>\n   <g id=\"text_26\">\n    <!-- 0 -->\n    <g style=\"fill:#ffffff;\" transform=\"translate(146.288438 21.38325)scale(0.12 -0.12)\">\n     <use xlink:href=\"#DejaVuSans-48\"/>\n    </g>\n   </g>\n   <g id=\"text_27\">\n    <!-- 1 -->\n    <g style=\"fill:#ffffff;\" transform=\"translate(168.608438 21.38325)scale(0.12 -0.12)\">\n     <use xlink:href=\"#DejaVuSans-49\"/>\n    </g>\n   </g>\n   <g id=\"text_28\">\n    <!-- 1 -->\n    <g style=\"fill:#ffffff;\" transform=\"translate(190.928438 21.38325)scale(0.12 -0.12)\">\n     <use xlink:href=\"#DejaVuSans-49\"/>\n    </g>\n   </g>\n   <g id=\"text_29\">\n    <!-- 0 -->\n    <g style=\"fill:#ffffff;\" transform=\"translate(213.248438 21.38325)scale(0.12 -0.12)\">\n     <use xlink:href=\"#DejaVuSans-48\"/>\n    </g>\n   </g>\n   <g id=\"text_30\">\n    <!-- 0 -->\n    <g style=\"fill:#ffffff;\" transform=\"translate(235.568438 21.38325)scale(0.12 -0.12)\">\n     <use xlink:href=\"#DejaVuSans-48\"/>\n    </g>\n   </g>\n   <g id=\"text_31\">\n    <!-- 0 -->\n    <g style=\"fill:#ffffff;\" transform=\"translate(34.688438 43.12725)scale(0.12 -0.12)\">\n     <use xlink:href=\"#DejaVuSans-48\"/>\n    </g>\n   </g>\n   <g id=\"text_32\">\n    <!-- 1130 -->\n    <g style=\"fill:#262626;\" transform=\"translate(45.555938 43.12725)scale(0.12 -0.12)\">\n     <use xlink:href=\"#DejaVuSans-49\"/>\n     <use x=\"63.623047\" xlink:href=\"#DejaVuSans-49\"/>\n     <use x=\"127.246094\" xlink:href=\"#DejaVuSans-51\"/>\n     <use x=\"190.869141\" xlink:href=\"#DejaVuSans-48\"/>\n    </g>\n   </g>\n   <g id=\"text_33\">\n    <!-- 3 -->\n    <g style=\"fill:#ffffff;\" transform=\"translate(79.328438 43.12725)scale(0.12 -0.12)\">\n     <use xlink:href=\"#DejaVuSans-51\"/>\n    </g>\n   </g>\n   <g id=\"text_34\">\n    <!-- 1 -->\n    <g style=\"fill:#ffffff;\" transform=\"translate(101.648438 43.12725)scale(0.12 -0.12)\">\n     <use xlink:href=\"#DejaVuSans-49\"/>\n    </g>\n   </g>\n   <g id=\"text_35\">\n    <!-- 0 -->\n    <g style=\"fill:#ffffff;\" transform=\"translate(123.968438 43.12725)scale(0.12 -0.12)\">\n     <use xlink:href=\"#DejaVuSans-48\"/>\n    </g>\n   </g>\n   <g id=\"text_36\">\n    <!-- 0 -->\n    <g style=\"fill:#ffffff;\" transform=\"translate(146.288438 43.12725)scale(0.12 -0.12)\">\n     <use xlink:href=\"#DejaVuSans-48\"/>\n    </g>\n   </g>\n   <g id=\"text_37\">\n    <!-- 1 -->\n    <g style=\"fill:#ffffff;\" transform=\"translate(168.608438 43.12725)scale(0.12 -0.12)\">\n     <use xlink:href=\"#DejaVuSans-49\"/>\n    </g>\n   </g>\n   <g id=\"text_38\">\n    <!-- 0 -->\n    <g style=\"fill:#ffffff;\" transform=\"translate(190.928438 43.12725)scale(0.12 -0.12)\">\n     <use xlink:href=\"#DejaVuSans-48\"/>\n    </g>\n   </g>\n   <g id=\"text_39\">\n    <!-- 0 -->\n    <g style=\"fill:#ffffff;\" transform=\"translate(213.248438 43.12725)scale(0.12 -0.12)\">\n     <use xlink:href=\"#DejaVuSans-48\"/>\n    </g>\n   </g>\n   <g id=\"text_40\">\n    <!-- 0 -->\n    <g style=\"fill:#ffffff;\" transform=\"translate(235.568438 43.12725)scale(0.12 -0.12)\">\n     <use xlink:href=\"#DejaVuSans-48\"/>\n    </g>\n   </g>\n   <g id=\"text_41\">\n    <!-- 8 -->\n    <g style=\"fill:#ffffff;\" transform=\"translate(34.688438 64.87125)scale(0.12 -0.12)\">\n     <use xlink:href=\"#DejaVuSans-56\"/>\n    </g>\n   </g>\n   <g id=\"text_42\">\n    <!-- 1 -->\n    <g style=\"fill:#ffffff;\" transform=\"translate(57.008438 64.87125)scale(0.12 -0.12)\">\n     <use xlink:href=\"#DejaVuSans-49\"/>\n    </g>\n   </g>\n   <g id=\"text_43\">\n    <!-- 1009 -->\n    <g style=\"fill:#262626;\" transform=\"translate(67.875938 64.87125)scale(0.12 -0.12)\">\n     <use xlink:href=\"#DejaVuSans-49\"/>\n     <use x=\"63.623047\" xlink:href=\"#DejaVuSans-48\"/>\n     <use x=\"127.246094\" xlink:href=\"#DejaVuSans-48\"/>\n     <use x=\"190.869141\" xlink:href=\"#DejaVuSans-57\"/>\n    </g>\n   </g>\n   <g id=\"text_44\">\n    <!-- 1 -->\n    <g style=\"fill:#ffffff;\" transform=\"translate(101.648438 64.87125)scale(0.12 -0.12)\">\n     <use xlink:href=\"#DejaVuSans-49\"/>\n    </g>\n   </g>\n   <g id=\"text_45\">\n    <!-- 1 -->\n    <g style=\"fill:#ffffff;\" transform=\"translate(123.968438 64.87125)scale(0.12 -0.12)\">\n     <use xlink:href=\"#DejaVuSans-49\"/>\n    </g>\n   </g>\n   <g id=\"text_46\">\n    <!-- 0 -->\n    <g style=\"fill:#ffffff;\" transform=\"translate(146.288438 64.87125)scale(0.12 -0.12)\">\n     <use xlink:href=\"#DejaVuSans-48\"/>\n    </g>\n   </g>\n   <g id=\"text_47\">\n    <!-- 0 -->\n    <g style=\"fill:#ffffff;\" transform=\"translate(168.608438 64.87125)scale(0.12 -0.12)\">\n     <use xlink:href=\"#DejaVuSans-48\"/>\n    </g>\n   </g>\n   <g id=\"text_48\">\n    <!-- 8 -->\n    <g style=\"fill:#ffffff;\" transform=\"translate(190.928438 64.87125)scale(0.12 -0.12)\">\n     <use xlink:href=\"#DejaVuSans-56\"/>\n    </g>\n   </g>\n   <g id=\"text_49\">\n    <!-- 4 -->\n    <g style=\"fill:#ffffff;\" transform=\"translate(213.248438 64.87125)scale(0.12 -0.12)\">\n     <use xlink:href=\"#DejaVuSans-52\"/>\n    </g>\n   </g>\n   <g id=\"text_50\">\n    <!-- 0 -->\n    <g style=\"fill:#ffffff;\" transform=\"translate(235.568438 64.87125)scale(0.12 -0.12)\">\n     <use xlink:href=\"#DejaVuSans-48\"/>\n    </g>\n   </g>\n   <g id=\"text_51\">\n    <!-- 0 -->\n    <g style=\"fill:#ffffff;\" transform=\"translate(34.688438 86.61525)scale(0.12 -0.12)\">\n     <use xlink:href=\"#DejaVuSans-48\"/>\n    </g>\n   </g>\n   <g id=\"text_52\">\n    <!-- 1 -->\n    <g style=\"fill:#ffffff;\" transform=\"translate(57.008438 86.61525)scale(0.12 -0.12)\">\n     <use xlink:href=\"#DejaVuSans-49\"/>\n    </g>\n   </g>\n   <g id=\"text_53\">\n    <!-- 3 -->\n    <g style=\"fill:#ffffff;\" transform=\"translate(79.328438 86.61525)scale(0.12 -0.12)\">\n     <use xlink:href=\"#DejaVuSans-51\"/>\n    </g>\n   </g>\n   <g id=\"text_54\">\n    <!-- 975 -->\n    <g style=\"fill:#262626;\" transform=\"translate(94.013438 86.61525)scale(0.12 -0.12)\">\n     <use xlink:href=\"#DejaVuSans-57\"/>\n     <use x=\"63.623047\" xlink:href=\"#DejaVuSans-55\"/>\n     <use x=\"127.246094\" xlink:href=\"#DejaVuSans-53\"/>\n    </g>\n   </g>\n   <g id=\"text_55\">\n    <!-- 0 -->\n    <g style=\"fill:#ffffff;\" transform=\"translate(123.968438 86.61525)scale(0.12 -0.12)\">\n     <use xlink:href=\"#DejaVuSans-48\"/>\n    </g>\n   </g>\n   <g id=\"text_56\">\n    <!-- 13 -->\n    <g style=\"fill:#ffffff;\" transform=\"translate(142.470938 86.61525)scale(0.12 -0.12)\">\n     <use xlink:href=\"#DejaVuSans-49\"/>\n     <use x=\"63.623047\" xlink:href=\"#DejaVuSans-51\"/>\n    </g>\n   </g>\n   <g id=\"text_57\">\n    <!-- 0 -->\n    <g style=\"fill:#ffffff;\" transform=\"translate(168.608438 86.61525)scale(0.12 -0.12)\">\n     <use xlink:href=\"#DejaVuSans-48\"/>\n    </g>\n   </g>\n   <g id=\"text_58\">\n    <!-- 5 -->\n    <g style=\"fill:#ffffff;\" transform=\"translate(190.928438 86.61525)scale(0.12 -0.12)\">\n     <use xlink:href=\"#DejaVuSans-53\"/>\n    </g>\n   </g>\n   <g id=\"text_59\">\n    <!-- 7 -->\n    <g style=\"fill:#ffffff;\" transform=\"translate(213.248438 86.61525)scale(0.12 -0.12)\">\n     <use xlink:href=\"#DejaVuSans-55\"/>\n    </g>\n   </g>\n   <g id=\"text_60\">\n    <!-- 6 -->\n    <g style=\"fill:#ffffff;\" transform=\"translate(235.568438 86.61525)scale(0.12 -0.12)\">\n     <use xlink:href=\"#DejaVuSans-54\"/>\n    </g>\n   </g>\n   <g id=\"text_61\">\n    <!-- 2 -->\n    <g style=\"fill:#ffffff;\" transform=\"translate(34.688438 108.35925)scale(0.12 -0.12)\">\n     <use xlink:href=\"#DejaVuSans-50\"/>\n    </g>\n   </g>\n   <g id=\"text_62\">\n    <!-- 2 -->\n    <g style=\"fill:#ffffff;\" transform=\"translate(57.008438 108.35925)scale(0.12 -0.12)\">\n     <use xlink:href=\"#DejaVuSans-50\"/>\n    </g>\n   </g>\n   <g id=\"text_63\">\n    <!-- 0 -->\n    <g style=\"fill:#ffffff;\" transform=\"translate(79.328438 108.35925)scale(0.12 -0.12)\">\n     <use xlink:href=\"#DejaVuSans-48\"/>\n    </g>\n   </g>\n   <g id=\"text_64\">\n    <!-- 0 -->\n    <g style=\"fill:#ffffff;\" transform=\"translate(101.648438 108.35925)scale(0.12 -0.12)\">\n     <use xlink:href=\"#DejaVuSans-48\"/>\n    </g>\n   </g>\n   <g id=\"text_65\">\n    <!-- 946 -->\n    <g style=\"fill:#262626;\" transform=\"translate(116.333438 108.35925)scale(0.12 -0.12)\">\n     <use xlink:href=\"#DejaVuSans-57\"/>\n     <use x=\"63.623047\" xlink:href=\"#DejaVuSans-52\"/>\n     <use x=\"127.246094\" xlink:href=\"#DejaVuSans-54\"/>\n    </g>\n   </g>\n   <g id=\"text_66\">\n    <!-- 0 -->\n    <g style=\"fill:#ffffff;\" transform=\"translate(146.288438 108.35925)scale(0.12 -0.12)\">\n     <use xlink:href=\"#DejaVuSans-48\"/>\n    </g>\n   </g>\n   <g id=\"text_67\">\n    <!-- 6 -->\n    <g style=\"fill:#ffffff;\" transform=\"translate(168.608438 108.35925)scale(0.12 -0.12)\">\n     <use xlink:href=\"#DejaVuSans-54\"/>\n    </g>\n   </g>\n   <g id=\"text_68\">\n    <!-- 1 -->\n    <g style=\"fill:#ffffff;\" transform=\"translate(190.928438 108.35925)scale(0.12 -0.12)\">\n     <use xlink:href=\"#DejaVuSans-49\"/>\n    </g>\n   </g>\n   <g id=\"text_69\">\n    <!-- 1 -->\n    <g style=\"fill:#ffffff;\" transform=\"translate(213.248438 108.35925)scale(0.12 -0.12)\">\n     <use xlink:href=\"#DejaVuSans-49\"/>\n    </g>\n   </g>\n   <g id=\"text_70\">\n    <!-- 24 -->\n    <g style=\"fill:#ffffff;\" transform=\"translate(231.750938 108.35925)scale(0.12 -0.12)\">\n     <use xlink:href=\"#DejaVuSans-50\"/>\n     <use x=\"63.623047\" xlink:href=\"#DejaVuSans-52\"/>\n    </g>\n   </g>\n   <g id=\"text_71\">\n    <!-- 4 -->\n    <g style=\"fill:#ffffff;\" transform=\"translate(34.688438 130.10325)scale(0.12 -0.12)\">\n     <use xlink:href=\"#DejaVuSans-52\"/>\n    </g>\n   </g>\n   <g id=\"text_72\">\n    <!-- 0 -->\n    <g style=\"fill:#ffffff;\" transform=\"translate(57.008438 130.10325)scale(0.12 -0.12)\">\n     <use xlink:href=\"#DejaVuSans-48\"/>\n    </g>\n   </g>\n   <g id=\"text_73\">\n    <!-- 0 -->\n    <g style=\"fill:#ffffff;\" transform=\"translate(79.328438 130.10325)scale(0.12 -0.12)\">\n     <use xlink:href=\"#DejaVuSans-48\"/>\n    </g>\n   </g>\n   <g id=\"text_74\">\n    <!-- 9 -->\n    <g style=\"fill:#ffffff;\" transform=\"translate(101.648438 130.10325)scale(0.12 -0.12)\">\n     <use xlink:href=\"#DejaVuSans-57\"/>\n    </g>\n   </g>\n   <g id=\"text_75\">\n    <!-- 1 -->\n    <g style=\"fill:#ffffff;\" transform=\"translate(123.968438 130.10325)scale(0.12 -0.12)\">\n     <use xlink:href=\"#DejaVuSans-49\"/>\n    </g>\n   </g>\n   <g id=\"text_76\">\n    <!-- 859 -->\n    <g style=\"fill:#ffffff;\" transform=\"translate(138.653438 130.10325)scale(0.12 -0.12)\">\n     <use xlink:href=\"#DejaVuSans-56\"/>\n     <use x=\"63.623047\" xlink:href=\"#DejaVuSans-53\"/>\n     <use x=\"127.246094\" xlink:href=\"#DejaVuSans-57\"/>\n    </g>\n   </g>\n   <g id=\"text_77\">\n    <!-- 7 -->\n    <g style=\"fill:#ffffff;\" transform=\"translate(168.608438 130.10325)scale(0.12 -0.12)\">\n     <use xlink:href=\"#DejaVuSans-55\"/>\n    </g>\n   </g>\n   <g id=\"text_78\">\n    <!-- 1 -->\n    <g style=\"fill:#ffffff;\" transform=\"translate(190.928438 130.10325)scale(0.12 -0.12)\">\n     <use xlink:href=\"#DejaVuSans-49\"/>\n    </g>\n   </g>\n   <g id=\"text_79\">\n    <!-- 6 -->\n    <g style=\"fill:#ffffff;\" transform=\"translate(213.248438 130.10325)scale(0.12 -0.12)\">\n     <use xlink:href=\"#DejaVuSans-54\"/>\n    </g>\n   </g>\n   <g id=\"text_80\">\n    <!-- 5 -->\n    <g style=\"fill:#ffffff;\" transform=\"translate(235.568438 130.10325)scale(0.12 -0.12)\">\n     <use xlink:href=\"#DejaVuSans-53\"/>\n    </g>\n   </g>\n   <g id=\"text_81\">\n    <!-- 4 -->\n    <g style=\"fill:#ffffff;\" transform=\"translate(34.688438 151.84725)scale(0.12 -0.12)\">\n     <use xlink:href=\"#DejaVuSans-52\"/>\n    </g>\n   </g>\n   <g id=\"text_82\">\n    <!-- 2 -->\n    <g style=\"fill:#ffffff;\" transform=\"translate(57.008438 151.84725)scale(0.12 -0.12)\">\n     <use xlink:href=\"#DejaVuSans-50\"/>\n    </g>\n   </g>\n   <g id=\"text_83\">\n    <!-- 0 -->\n    <g style=\"fill:#ffffff;\" transform=\"translate(79.328438 151.84725)scale(0.12 -0.12)\">\n     <use xlink:href=\"#DejaVuSans-48\"/>\n    </g>\n   </g>\n   <g id=\"text_84\">\n    <!-- 0 -->\n    <g style=\"fill:#ffffff;\" transform=\"translate(101.648438 151.84725)scale(0.12 -0.12)\">\n     <use xlink:href=\"#DejaVuSans-48\"/>\n    </g>\n   </g>\n   <g id=\"text_85\">\n    <!-- 2 -->\n    <g style=\"fill:#ffffff;\" transform=\"translate(123.968438 151.84725)scale(0.12 -0.12)\">\n     <use xlink:href=\"#DejaVuSans-50\"/>\n    </g>\n   </g>\n   <g id=\"text_86\">\n    <!-- 3 -->\n    <g style=\"fill:#ffffff;\" transform=\"translate(146.288438 151.84725)scale(0.12 -0.12)\">\n     <use xlink:href=\"#DejaVuSans-51\"/>\n    </g>\n   </g>\n   <g id=\"text_87\">\n    <!-- 947 -->\n    <g style=\"fill:#262626;\" transform=\"translate(160.973438 151.84725)scale(0.12 -0.12)\">\n     <use xlink:href=\"#DejaVuSans-57\"/>\n     <use x=\"63.623047\" xlink:href=\"#DejaVuSans-52\"/>\n     <use x=\"127.246094\" xlink:href=\"#DejaVuSans-55\"/>\n    </g>\n   </g>\n   <g id=\"text_88\">\n    <!-- 0 -->\n    <g style=\"fill:#ffffff;\" transform=\"translate(190.928438 151.84725)scale(0.12 -0.12)\">\n     <use xlink:href=\"#DejaVuSans-48\"/>\n    </g>\n   </g>\n   <g id=\"text_89\">\n    <!-- 0 -->\n    <g style=\"fill:#ffffff;\" transform=\"translate(213.248438 151.84725)scale(0.12 -0.12)\">\n     <use xlink:href=\"#DejaVuSans-48\"/>\n    </g>\n   </g>\n   <g id=\"text_90\">\n    <!-- 0 -->\n    <g style=\"fill:#ffffff;\" transform=\"translate(235.568438 151.84725)scale(0.12 -0.12)\">\n     <use xlink:href=\"#DejaVuSans-48\"/>\n    </g>\n   </g>\n   <g id=\"text_91\">\n    <!-- 1 -->\n    <g style=\"fill:#ffffff;\" transform=\"translate(34.688438 173.59125)scale(0.12 -0.12)\">\n     <use xlink:href=\"#DejaVuSans-49\"/>\n    </g>\n   </g>\n   <g id=\"text_92\">\n    <!-- 10 -->\n    <g style=\"fill:#ffffff;\" transform=\"translate(53.190938 173.59125)scale(0.12 -0.12)\">\n     <use xlink:href=\"#DejaVuSans-49\"/>\n     <use x=\"63.623047\" xlink:href=\"#DejaVuSans-48\"/>\n    </g>\n   </g>\n   <g id=\"text_93\">\n    <!-- 6 -->\n    <g style=\"fill:#ffffff;\" transform=\"translate(79.328438 173.59125)scale(0.12 -0.12)\">\n     <use xlink:href=\"#DejaVuSans-54\"/>\n    </g>\n   </g>\n   <g id=\"text_94\">\n    <!-- 0 -->\n    <g style=\"fill:#ffffff;\" transform=\"translate(101.648438 173.59125)scale(0.12 -0.12)\">\n     <use xlink:href=\"#DejaVuSans-48\"/>\n    </g>\n   </g>\n   <g id=\"text_95\">\n    <!-- 1 -->\n    <g style=\"fill:#ffffff;\" transform=\"translate(123.968438 173.59125)scale(0.12 -0.12)\">\n     <use xlink:href=\"#DejaVuSans-49\"/>\n    </g>\n   </g>\n   <g id=\"text_96\">\n    <!-- 0 -->\n    <g style=\"fill:#ffffff;\" transform=\"translate(146.288438 173.59125)scale(0.12 -0.12)\">\n     <use xlink:href=\"#DejaVuSans-48\"/>\n    </g>\n   </g>\n   <g id=\"text_97\">\n    <!-- 0 -->\n    <g style=\"fill:#ffffff;\" transform=\"translate(168.608438 173.59125)scale(0.12 -0.12)\">\n     <use xlink:href=\"#DejaVuSans-48\"/>\n    </g>\n   </g>\n   <g id=\"text_98\">\n    <!-- 996 -->\n    <g style=\"fill:#262626;\" transform=\"translate(183.293438 173.59125)scale(0.12 -0.12)\">\n     <use xlink:href=\"#DejaVuSans-57\"/>\n     <use x=\"63.623047\" xlink:href=\"#DejaVuSans-57\"/>\n     <use x=\"127.246094\" xlink:href=\"#DejaVuSans-54\"/>\n    </g>\n   </g>\n   <g id=\"text_99\">\n    <!-- 0 -->\n    <g style=\"fill:#ffffff;\" transform=\"translate(213.248438 173.59125)scale(0.12 -0.12)\">\n     <use xlink:href=\"#DejaVuSans-48\"/>\n    </g>\n   </g>\n   <g id=\"text_100\">\n    <!-- 14 -->\n    <g style=\"fill:#ffffff;\" transform=\"translate(231.750938 173.59125)scale(0.12 -0.12)\">\n     <use xlink:href=\"#DejaVuSans-49\"/>\n     <use x=\"63.623047\" xlink:href=\"#DejaVuSans-52\"/>\n    </g>\n   </g>\n   <g id=\"text_101\">\n    <!-- 6 -->\n    <g style=\"fill:#ffffff;\" transform=\"translate(34.688438 195.33525)scale(0.12 -0.12)\">\n     <use xlink:href=\"#DejaVuSans-54\"/>\n    </g>\n   </g>\n   <g id=\"text_102\">\n    <!-- 2 -->\n    <g style=\"fill:#ffffff;\" transform=\"translate(57.008438 195.33525)scale(0.12 -0.12)\">\n     <use xlink:href=\"#DejaVuSans-50\"/>\n    </g>\n   </g>\n   <g id=\"text_103\">\n    <!-- 2 -->\n    <g style=\"fill:#ffffff;\" transform=\"translate(79.328438 195.33525)scale(0.12 -0.12)\">\n     <use xlink:href=\"#DejaVuSans-50\"/>\n    </g>\n   </g>\n   <g id=\"text_104\">\n    <!-- 10 -->\n    <g style=\"fill:#ffffff;\" transform=\"translate(97.830938 195.33525)scale(0.12 -0.12)\">\n     <use xlink:href=\"#DejaVuSans-49\"/>\n     <use x=\"63.623047\" xlink:href=\"#DejaVuSans-48\"/>\n    </g>\n   </g>\n   <g id=\"text_105\">\n    <!-- 4 -->\n    <g style=\"fill:#ffffff;\" transform=\"translate(123.968438 195.33525)scale(0.12 -0.12)\">\n     <use xlink:href=\"#DejaVuSans-52\"/>\n    </g>\n   </g>\n   <g id=\"text_106\">\n    <!-- 4 -->\n    <g style=\"fill:#ffffff;\" transform=\"translate(146.288438 195.33525)scale(0.12 -0.12)\">\n     <use xlink:href=\"#DejaVuSans-52\"/>\n    </g>\n   </g>\n   <g id=\"text_107\">\n    <!-- 4 -->\n    <g style=\"fill:#ffffff;\" transform=\"translate(168.608438 195.33525)scale(0.12 -0.12)\">\n     <use xlink:href=\"#DejaVuSans-52\"/>\n    </g>\n   </g>\n   <g id=\"text_108\">\n    <!-- 3 -->\n    <g style=\"fill:#ffffff;\" transform=\"translate(190.928438 195.33525)scale(0.12 -0.12)\">\n     <use xlink:href=\"#DejaVuSans-51\"/>\n    </g>\n   </g>\n   <g id=\"text_109\">\n    <!-- 936 -->\n    <g style=\"fill:#262626;\" transform=\"translate(205.613438 195.33525)scale(0.12 -0.12)\">\n     <use xlink:href=\"#DejaVuSans-57\"/>\n     <use x=\"63.623047\" xlink:href=\"#DejaVuSans-51\"/>\n     <use x=\"127.246094\" xlink:href=\"#DejaVuSans-54\"/>\n    </g>\n   </g>\n   <g id=\"text_110\">\n    <!-- 3 -->\n    <g style=\"fill:#ffffff;\" transform=\"translate(235.568438 195.33525)scale(0.12 -0.12)\">\n     <use xlink:href=\"#DejaVuSans-51\"/>\n    </g>\n   </g>\n   <g id=\"text_111\">\n    <!-- 8 -->\n    <g style=\"fill:#ffffff;\" transform=\"translate(34.688438 217.07925)scale(0.12 -0.12)\">\n     <use xlink:href=\"#DejaVuSans-56\"/>\n    </g>\n   </g>\n   <g id=\"text_112\">\n    <!-- 7 -->\n    <g style=\"fill:#ffffff;\" transform=\"translate(57.008438 217.07925)scale(0.12 -0.12)\">\n     <use xlink:href=\"#DejaVuSans-55\"/>\n    </g>\n   </g>\n   <g id=\"text_113\">\n    <!-- 2 -->\n    <g style=\"fill:#ffffff;\" transform=\"translate(79.328438 217.07925)scale(0.12 -0.12)\">\n     <use xlink:href=\"#DejaVuSans-50\"/>\n    </g>\n   </g>\n   <g id=\"text_114\">\n    <!-- 5 -->\n    <g style=\"fill:#ffffff;\" transform=\"translate(101.648438 217.07925)scale(0.12 -0.12)\">\n     <use xlink:href=\"#DejaVuSans-53\"/>\n    </g>\n   </g>\n   <g id=\"text_115\">\n    <!-- 7 -->\n    <g style=\"fill:#ffffff;\" transform=\"translate(123.968438 217.07925)scale(0.12 -0.12)\">\n     <use xlink:href=\"#DejaVuSans-55\"/>\n    </g>\n   </g>\n   <g id=\"text_116\">\n    <!-- 3 -->\n    <g style=\"fill:#ffffff;\" transform=\"translate(146.288438 217.07925)scale(0.12 -0.12)\">\n     <use xlink:href=\"#DejaVuSans-51\"/>\n    </g>\n   </g>\n   <g id=\"text_117\">\n    <!-- 1 -->\n    <g style=\"fill:#ffffff;\" transform=\"translate(168.608438 217.07925)scale(0.12 -0.12)\">\n     <use xlink:href=\"#DejaVuSans-49\"/>\n    </g>\n   </g>\n   <g id=\"text_118\">\n    <!-- 6 -->\n    <g style=\"fill:#ffffff;\" transform=\"translate(190.928438 217.07925)scale(0.12 -0.12)\">\n     <use xlink:href=\"#DejaVuSans-54\"/>\n    </g>\n   </g>\n   <g id=\"text_119\">\n    <!-- 3 -->\n    <g style=\"fill:#ffffff;\" transform=\"translate(213.248438 217.07925)scale(0.12 -0.12)\">\n     <use xlink:href=\"#DejaVuSans-51\"/>\n    </g>\n   </g>\n   <g id=\"text_120\">\n    <!-- 967 -->\n    <g style=\"fill:#262626;\" transform=\"translate(227.933438 217.07925)scale(0.12 -0.12)\">\n     <use xlink:href=\"#DejaVuSans-57\"/>\n     <use x=\"63.623047\" xlink:href=\"#DejaVuSans-54\"/>\n     <use x=\"127.246094\" xlink:href=\"#DejaVuSans-55\"/>\n    </g>\n   </g>\n  </g>\n  <g id=\"axes_2\">\n   <g id=\"patch_3\">\n    <path clip-path=\"url(#pdcba49e282)\" d=\"M 264.495938 224.64 \nL 264.495938 223.790625 \nL 264.495938 8.049375 \nL 264.495938 7.2 \nL 275.367938 7.2 \nL 275.367938 8.049375 \nL 275.367938 223.790625 \nL 275.367938 224.64 \nz\n\" style=\"fill:#eaeaf2;stroke:#eaeaf2;stroke-linejoin:miter;stroke-width:0.01;\"/>\n   </g>\n   <g id=\"matplotlib.axis_3\"/>\n   <g id=\"matplotlib.axis_4\">\n    <g id=\"ytick_11\">\n     <g id=\"line2d_1\">\n      <defs>\n       <path d=\"M 0 0 \nL 6 0 \n\" id=\"m660eb104a9\" style=\"stroke:#262626;stroke-width:1.25;\"/>\n      </defs>\n      <g>\n       <use style=\"fill:#262626;stroke:#262626;stroke-width:1.25;\" x=\"275.367938\" xlink:href=\"#m660eb104a9\" y=\"224.64\"/>\n      </g>\n     </g>\n     <g id=\"text_121\">\n      <!-- 0 -->\n      <g style=\"fill:#262626;\" transform=\"translate(284.867938 228.819141)scale(0.11 -0.11)\">\n       <use xlink:href=\"#DejaVuSans-48\"/>\n      </g>\n     </g>\n    </g>\n    <g id=\"ytick_12\">\n     <g id=\"line2d_2\">\n      <g>\n       <use style=\"fill:#262626;stroke:#262626;stroke-width:1.25;\" x=\"275.367938\" xlink:href=\"#m660eb104a9\" y=\"186.155044\"/>\n      </g>\n     </g>\n     <g id=\"text_122\">\n      <!-- 200 -->\n      <g style=\"fill:#262626;\" transform=\"translate(284.867938 190.334185)scale(0.11 -0.11)\">\n       <use xlink:href=\"#DejaVuSans-50\"/>\n       <use x=\"63.623047\" xlink:href=\"#DejaVuSans-48\"/>\n       <use x=\"127.246094\" xlink:href=\"#DejaVuSans-48\"/>\n      </g>\n     </g>\n    </g>\n    <g id=\"ytick_13\">\n     <g id=\"line2d_3\">\n      <g>\n       <use style=\"fill:#262626;stroke:#262626;stroke-width:1.25;\" x=\"275.367938\" xlink:href=\"#m660eb104a9\" y=\"147.670088\"/>\n      </g>\n     </g>\n     <g id=\"text_123\">\n      <!-- 400 -->\n      <g style=\"fill:#262626;\" transform=\"translate(284.867938 151.849229)scale(0.11 -0.11)\">\n       <use xlink:href=\"#DejaVuSans-52\"/>\n       <use x=\"63.623047\" xlink:href=\"#DejaVuSans-48\"/>\n       <use x=\"127.246094\" xlink:href=\"#DejaVuSans-48\"/>\n      </g>\n     </g>\n    </g>\n    <g id=\"ytick_14\">\n     <g id=\"line2d_4\">\n      <g>\n       <use style=\"fill:#262626;stroke:#262626;stroke-width:1.25;\" x=\"275.367938\" xlink:href=\"#m660eb104a9\" y=\"109.185133\"/>\n      </g>\n     </g>\n     <g id=\"text_124\">\n      <!-- 600 -->\n      <g style=\"fill:#262626;\" transform=\"translate(284.867938 113.364273)scale(0.11 -0.11)\">\n       <use xlink:href=\"#DejaVuSans-54\"/>\n       <use x=\"63.623047\" xlink:href=\"#DejaVuSans-48\"/>\n       <use x=\"127.246094\" xlink:href=\"#DejaVuSans-48\"/>\n      </g>\n     </g>\n    </g>\n    <g id=\"ytick_15\">\n     <g id=\"line2d_5\">\n      <g>\n       <use style=\"fill:#262626;stroke:#262626;stroke-width:1.25;\" x=\"275.367938\" xlink:href=\"#m660eb104a9\" y=\"70.700177\"/>\n      </g>\n     </g>\n     <g id=\"text_125\">\n      <!-- 800 -->\n      <g style=\"fill:#262626;\" transform=\"translate(284.867938 74.879318)scale(0.11 -0.11)\">\n       <use xlink:href=\"#DejaVuSans-56\"/>\n       <use x=\"63.623047\" xlink:href=\"#DejaVuSans-48\"/>\n       <use x=\"127.246094\" xlink:href=\"#DejaVuSans-48\"/>\n      </g>\n     </g>\n    </g>\n    <g id=\"ytick_16\">\n     <g id=\"line2d_6\">\n      <g>\n       <use style=\"fill:#262626;stroke:#262626;stroke-width:1.25;\" x=\"275.367938\" xlink:href=\"#m660eb104a9\" y=\"32.215221\"/>\n      </g>\n     </g>\n     <g id=\"text_126\">\n      <!-- 1000 -->\n      <g style=\"fill:#262626;\" transform=\"translate(284.867938 36.394362)scale(0.11 -0.11)\">\n       <use xlink:href=\"#DejaVuSans-49\"/>\n       <use x=\"63.623047\" xlink:href=\"#DejaVuSans-48\"/>\n       <use x=\"127.246094\" xlink:href=\"#DejaVuSans-48\"/>\n       <use x=\"190.869141\" xlink:href=\"#DejaVuSans-48\"/>\n      </g>\n     </g>\n    </g>\n   </g>\n   <image height=\"218\" id=\"image6accada83b\" transform=\"scale(1 -1)translate(0 -218)\" width=\"11\" x=\"264\" xlink:href=\"data:image/png;base64,\niVBORw0KGgoAAAANSUhEUgAAAAsAAADaCAYAAABwzrisAAAABHNCSVQICAgIfAhkiAAAAWRJREFUaIHt2kGKgzEMg9E4Ti8x9z/n/N12mTcg8EC7FuKz7LhpaPXr51mXn1O3yrXW2Xvfi2vde58qEG8RE0ZLgXtIgeQszLskjRnMyTRaxKkRDQ5/rt1U4JR2z1gFueiupTwbM9LA4R+BcZ9yNOeOTR0VGNwbgnGCuw4wcs7/s93kDOITG6RkdCA+zwiM4K4T53P9YylcoIhjzEfEJRhD0ri/xEdz3uve2jBs8z+CIc5D0ihxtuEn5qAziBtOLDKTs4htkMS59y9gAEcyjRhGdywNOLHB6HYLhjFfa9U5hrHh3mNNgacCTgOcF80GrH7EsDRizlYgXLaxwJTzEueCbxV0tgJjGA3vdYiRcg5G1/B0j8yxnOXF1ZzhN1AQIxidtVsw5CUQT0oujfvVj2fQZiMmpqZIGlOYyTlXYK7dOedvGh/i6lfIeUoaMwos+atAMg0a/tytgKL7FvhHZxl+edtbb2flKyWOo4sRAAAAAElFTkSuQmCC\" y=\"-6\"/>\n   <g id=\"patch_4\">\n    <path d=\"M 264.495938 224.64 \nL 264.495938 223.790625 \nL 264.495938 8.049375 \nL 264.495938 7.2 \nL 275.367938 7.2 \nL 275.367938 8.049375 \nL 275.367938 223.790625 \nL 275.367938 224.64 \nz\n\" style=\"fill:none;\"/>\n   </g>\n  </g>\n  <g id=\"axes_3\">\n   <g id=\"patch_5\">\n    <path d=\"M 362.145938 224.64 \nL 585.345937 224.64 \nL 585.345937 7.2 \nL 362.145938 7.2 \nz\n\" style=\"fill:#eaeaf2;\"/>\n   </g>\n   <g id=\"matplotlib.axis_5\">\n    <g id=\"xtick_11\">\n     <g id=\"text_127\">\n      <!-- 0 -->\n      <g style=\"fill:#262626;\" transform=\"translate(369.806563 242.498281)scale(0.11 -0.11)\">\n       <use xlink:href=\"#DejaVuSans-48\"/>\n      </g>\n     </g>\n    </g>\n    <g id=\"xtick_12\">\n     <g id=\"text_128\">\n      <!-- 1 -->\n      <g style=\"fill:#262626;\" transform=\"translate(392.126563 242.498281)scale(0.11 -0.11)\">\n       <use xlink:href=\"#DejaVuSans-49\"/>\n      </g>\n     </g>\n    </g>\n    <g id=\"xtick_13\">\n     <g id=\"text_129\">\n      <!-- 2 -->\n      <g style=\"fill:#262626;\" transform=\"translate(414.446563 242.498281)scale(0.11 -0.11)\">\n       <use xlink:href=\"#DejaVuSans-50\"/>\n      </g>\n     </g>\n    </g>\n    <g id=\"xtick_14\">\n     <g id=\"text_130\">\n      <!-- 3 -->\n      <g style=\"fill:#262626;\" transform=\"translate(436.766563 242.498281)scale(0.11 -0.11)\">\n       <use xlink:href=\"#DejaVuSans-51\"/>\n      </g>\n     </g>\n    </g>\n    <g id=\"xtick_15\">\n     <g id=\"text_131\">\n      <!-- 4 -->\n      <g style=\"fill:#262626;\" transform=\"translate(459.086563 242.498281)scale(0.11 -0.11)\">\n       <use xlink:href=\"#DejaVuSans-52\"/>\n      </g>\n     </g>\n    </g>\n    <g id=\"xtick_16\">\n     <g id=\"text_132\">\n      <!-- 5 -->\n      <g style=\"fill:#262626;\" transform=\"translate(481.406563 242.498281)scale(0.11 -0.11)\">\n       <use xlink:href=\"#DejaVuSans-53\"/>\n      </g>\n     </g>\n    </g>\n    <g id=\"xtick_17\">\n     <g id=\"text_133\">\n      <!-- 6 -->\n      <g style=\"fill:#262626;\" transform=\"translate(503.726562 242.498281)scale(0.11 -0.11)\">\n       <use xlink:href=\"#DejaVuSans-54\"/>\n      </g>\n     </g>\n    </g>\n    <g id=\"xtick_18\">\n     <g id=\"text_134\">\n      <!-- 7 -->\n      <g style=\"fill:#262626;\" transform=\"translate(526.046563 242.498281)scale(0.11 -0.11)\">\n       <use xlink:href=\"#DejaVuSans-55\"/>\n      </g>\n     </g>\n    </g>\n    <g id=\"xtick_19\">\n     <g id=\"text_135\">\n      <!-- 8 -->\n      <g style=\"fill:#262626;\" transform=\"translate(548.366562 242.498281)scale(0.11 -0.11)\">\n       <use xlink:href=\"#DejaVuSans-56\"/>\n      </g>\n     </g>\n    </g>\n    <g id=\"xtick_20\">\n     <g id=\"text_136\">\n      <!-- 9 -->\n      <g style=\"fill:#262626;\" transform=\"translate(570.686563 242.498281)scale(0.11 -0.11)\">\n       <use xlink:href=\"#DejaVuSans-57\"/>\n      </g>\n     </g>\n    </g>\n   </g>\n   <g id=\"matplotlib.axis_6\">\n    <g id=\"ytick_17\">\n     <g id=\"text_137\">\n      <!-- 0 -->\n      <g style=\"fill:#262626;\" transform=\"translate(350.358281 21.571375)rotate(-90)scale(0.11 -0.11)\">\n       <use xlink:href=\"#DejaVuSans-48\"/>\n      </g>\n     </g>\n    </g>\n    <g id=\"ytick_18\">\n     <g id=\"text_138\">\n      <!-- 1 -->\n      <g style=\"fill:#262626;\" transform=\"translate(350.358281 43.315375)rotate(-90)scale(0.11 -0.11)\">\n       <use xlink:href=\"#DejaVuSans-49\"/>\n      </g>\n     </g>\n    </g>\n    <g id=\"ytick_19\">\n     <g id=\"text_139\">\n      <!-- 2 -->\n      <g style=\"fill:#262626;\" transform=\"translate(350.358281 65.059375)rotate(-90)scale(0.11 -0.11)\">\n       <use xlink:href=\"#DejaVuSans-50\"/>\n      </g>\n     </g>\n    </g>\n    <g id=\"ytick_20\">\n     <g id=\"text_140\">\n      <!-- 3 -->\n      <g style=\"fill:#262626;\" transform=\"translate(350.358281 86.803375)rotate(-90)scale(0.11 -0.11)\">\n       <use xlink:href=\"#DejaVuSans-51\"/>\n      </g>\n     </g>\n    </g>\n    <g id=\"ytick_21\">\n     <g id=\"text_141\">\n      <!-- 4 -->\n      <g style=\"fill:#262626;\" transform=\"translate(350.358281 108.547375)rotate(-90)scale(0.11 -0.11)\">\n       <use xlink:href=\"#DejaVuSans-52\"/>\n      </g>\n     </g>\n    </g>\n    <g id=\"ytick_22\">\n     <g id=\"text_142\">\n      <!-- 5 -->\n      <g style=\"fill:#262626;\" transform=\"translate(350.358281 130.291375)rotate(-90)scale(0.11 -0.11)\">\n       <use xlink:href=\"#DejaVuSans-53\"/>\n      </g>\n     </g>\n    </g>\n    <g id=\"ytick_23\">\n     <g id=\"text_143\">\n      <!-- 6 -->\n      <g style=\"fill:#262626;\" transform=\"translate(350.358281 152.035375)rotate(-90)scale(0.11 -0.11)\">\n       <use xlink:href=\"#DejaVuSans-54\"/>\n      </g>\n     </g>\n    </g>\n    <g id=\"ytick_24\">\n     <g id=\"text_144\">\n      <!-- 7 -->\n      <g style=\"fill:#262626;\" transform=\"translate(350.358281 173.779375)rotate(-90)scale(0.11 -0.11)\">\n       <use xlink:href=\"#DejaVuSans-55\"/>\n      </g>\n     </g>\n    </g>\n    <g id=\"ytick_25\">\n     <g id=\"text_145\">\n      <!-- 8 -->\n      <g style=\"fill:#262626;\" transform=\"translate(350.358281 195.523375)rotate(-90)scale(0.11 -0.11)\">\n       <use xlink:href=\"#DejaVuSans-56\"/>\n      </g>\n     </g>\n    </g>\n    <g id=\"ytick_26\">\n     <g id=\"text_146\">\n      <!-- 9 -->\n      <g style=\"fill:#262626;\" transform=\"translate(350.358281 217.267375)rotate(-90)scale(0.11 -0.11)\">\n       <use xlink:href=\"#DejaVuSans-57\"/>\n      </g>\n     </g>\n    </g>\n   </g>\n   <g id=\"QuadMesh_2\">\n    <path clip-path=\"url(#p805661d64a)\" d=\"M 362.145938 7.2 \nL 384.465938 7.2 \nL 384.465938 28.944 \nL 362.145938 28.944 \nL 362.145938 7.2 \n\" style=\"fill:#f6b893;\"/>\n    <path clip-path=\"url(#p805661d64a)\" d=\"M 384.465938 7.2 \nL 406.785938 7.2 \nL 406.785938 28.944 \nL 384.465938 28.944 \nL 384.465938 7.2 \n\" style=\"fill:#03051a;\"/>\n    <path clip-path=\"url(#p805661d64a)\" d=\"M 406.785938 7.2 \nL 429.105938 7.2 \nL 429.105938 28.944 \nL 406.785938 28.944 \nL 406.785938 7.2 \n\" style=\"fill:#03051a;\"/>\n    <path clip-path=\"url(#p805661d64a)\" d=\"M 429.105938 7.2 \nL 451.425938 7.2 \nL 451.425938 28.944 \nL 429.105938 28.944 \nL 429.105938 7.2 \n\" style=\"fill:#03051a;\"/>\n    <path clip-path=\"url(#p805661d64a)\" d=\"M 451.425938 7.2 \nL 473.745938 7.2 \nL 473.745938 28.944 \nL 451.425938 28.944 \nL 451.425938 7.2 \n\" style=\"fill:#03051a;\"/>\n    <path clip-path=\"url(#p805661d64a)\" d=\"M 473.745938 7.2 \nL 496.065938 7.2 \nL 496.065938 28.944 \nL 473.745938 28.944 \nL 473.745938 7.2 \n\" style=\"fill:#03051a;\"/>\n    <path clip-path=\"url(#p805661d64a)\" d=\"M 496.065938 7.2 \nL 518.385937 7.2 \nL 518.385937 28.944 \nL 496.065938 28.944 \nL 496.065938 7.2 \n\" style=\"fill:#03051a;\"/>\n    <path clip-path=\"url(#p805661d64a)\" d=\"M 518.385937 7.2 \nL 540.705938 7.2 \nL 540.705938 28.944 \nL 518.385937 28.944 \nL 518.385937 7.2 \n\" style=\"fill:#03051a;\"/>\n    <path clip-path=\"url(#p805661d64a)\" d=\"M 540.705938 7.2 \nL 563.025938 7.2 \nL 563.025938 28.944 \nL 540.705938 28.944 \nL 540.705938 7.2 \n\" style=\"fill:#03051a;\"/>\n    <path clip-path=\"url(#p805661d64a)\" d=\"M 563.025938 7.2 \nL 585.345937 7.2 \nL 585.345937 28.944 \nL 563.025938 28.944 \nL 563.025938 7.2 \n\" style=\"fill:#03051a;\"/>\n    <path clip-path=\"url(#p805661d64a)\" d=\"M 362.145938 28.944 \nL 384.465938 28.944 \nL 384.465938 50.688 \nL 362.145938 50.688 \nL 362.145938 28.944 \n\" style=\"fill:#03051a;\"/>\n    <path clip-path=\"url(#p805661d64a)\" d=\"M 384.465938 28.944 \nL 406.785938 28.944 \nL 406.785938 50.688 \nL 384.465938 50.688 \nL 384.465938 28.944 \n\" style=\"fill:#faebdd;\"/>\n    <path clip-path=\"url(#p805661d64a)\" d=\"M 406.785938 28.944 \nL 429.105938 28.944 \nL 429.105938 50.688 \nL 406.785938 50.688 \nL 406.785938 28.944 \n\" style=\"fill:#03051a;\"/>\n    <path clip-path=\"url(#p805661d64a)\" d=\"M 429.105938 28.944 \nL 451.425938 28.944 \nL 451.425938 50.688 \nL 429.105938 50.688 \nL 429.105938 28.944 \n\" style=\"fill:#03051a;\"/>\n    <path clip-path=\"url(#p805661d64a)\" d=\"M 451.425938 28.944 \nL 473.745938 28.944 \nL 473.745938 50.688 \nL 451.425938 50.688 \nL 451.425938 28.944 \n\" style=\"fill:#03051a;\"/>\n    <path clip-path=\"url(#p805661d64a)\" d=\"M 473.745938 28.944 \nL 496.065938 28.944 \nL 496.065938 50.688 \nL 473.745938 50.688 \nL 473.745938 28.944 \n\" style=\"fill:#03051a;\"/>\n    <path clip-path=\"url(#p805661d64a)\" d=\"M 496.065938 28.944 \nL 518.385937 28.944 \nL 518.385937 50.688 \nL 496.065938 50.688 \nL 496.065938 28.944 \n\" style=\"fill:#03051a;\"/>\n    <path clip-path=\"url(#p805661d64a)\" d=\"M 518.385937 28.944 \nL 540.705938 28.944 \nL 540.705938 50.688 \nL 518.385937 50.688 \nL 518.385937 28.944 \n\" style=\"fill:#03051a;\"/>\n    <path clip-path=\"url(#p805661d64a)\" d=\"M 540.705938 28.944 \nL 563.025938 28.944 \nL 563.025938 50.688 \nL 540.705938 50.688 \nL 540.705938 28.944 \n\" style=\"fill:#03051a;\"/>\n    <path clip-path=\"url(#p805661d64a)\" d=\"M 563.025938 28.944 \nL 585.345937 28.944 \nL 585.345937 50.688 \nL 563.025938 50.688 \nL 563.025938 28.944 \n\" style=\"fill:#03051a;\"/>\n    <path clip-path=\"url(#p805661d64a)\" d=\"M 362.145938 50.688 \nL 384.465938 50.688 \nL 384.465938 72.432 \nL 362.145938 72.432 \nL 362.145938 50.688 \n\" style=\"fill:#04051a;\"/>\n    <path clip-path=\"url(#p805661d64a)\" d=\"M 384.465938 50.688 \nL 406.785938 50.688 \nL 406.785938 72.432 \nL 384.465938 72.432 \nL 384.465938 50.688 \n\" style=\"fill:#03051a;\"/>\n    <path clip-path=\"url(#p805661d64a)\" d=\"M 406.785938 50.688 \nL 429.105938 50.688 \nL 429.105938 72.432 \nL 406.785938 72.432 \nL 406.785938 50.688 \n\" style=\"fill:#f7c2a2;\"/>\n    <path clip-path=\"url(#p805661d64a)\" d=\"M 429.105938 50.688 \nL 451.425938 50.688 \nL 451.425938 72.432 \nL 429.105938 72.432 \nL 429.105938 50.688 \n\" style=\"fill:#03051a;\"/>\n    <path clip-path=\"url(#p805661d64a)\" d=\"M 451.425938 50.688 \nL 473.745938 50.688 \nL 473.745938 72.432 \nL 451.425938 72.432 \nL 451.425938 50.688 \n\" style=\"fill:#03051a;\"/>\n    <path clip-path=\"url(#p805661d64a)\" d=\"M 473.745938 50.688 \nL 496.065938 50.688 \nL 496.065938 72.432 \nL 473.745938 72.432 \nL 473.745938 50.688 \n\" style=\"fill:#03051a;\"/>\n    <path clip-path=\"url(#p805661d64a)\" d=\"M 496.065938 50.688 \nL 518.385937 50.688 \nL 518.385937 72.432 \nL 496.065938 72.432 \nL 496.065938 50.688 \n\" style=\"fill:#03051a;\"/>\n    <path clip-path=\"url(#p805661d64a)\" d=\"M 518.385937 50.688 \nL 540.705938 50.688 \nL 540.705938 72.432 \nL 518.385937 72.432 \nL 518.385937 50.688 \n\" style=\"fill:#04051a;\"/>\n    <path clip-path=\"url(#p805661d64a)\" d=\"M 540.705938 50.688 \nL 563.025938 50.688 \nL 563.025938 72.432 \nL 540.705938 72.432 \nL 540.705938 50.688 \n\" style=\"fill:#03051a;\"/>\n    <path clip-path=\"url(#p805661d64a)\" d=\"M 563.025938 50.688 \nL 585.345937 50.688 \nL 585.345937 72.432 \nL 563.025938 72.432 \nL 563.025938 50.688 \n\" style=\"fill:#03051a;\"/>\n    <path clip-path=\"url(#p805661d64a)\" d=\"M 362.145938 72.432 \nL 384.465938 72.432 \nL 384.465938 94.176 \nL 362.145938 94.176 \nL 362.145938 72.432 \n\" style=\"fill:#03051a;\"/>\n    <path clip-path=\"url(#p805661d64a)\" d=\"M 384.465938 72.432 \nL 406.785938 72.432 \nL 406.785938 94.176 \nL 384.465938 94.176 \nL 384.465938 72.432 \n\" style=\"fill:#03051a;\"/>\n    <path clip-path=\"url(#p805661d64a)\" d=\"M 406.785938 72.432 \nL 429.105938 72.432 \nL 429.105938 94.176 \nL 406.785938 94.176 \nL 406.785938 72.432 \n\" style=\"fill:#03051a;\"/>\n    <path clip-path=\"url(#p805661d64a)\" d=\"M 429.105938 72.432 \nL 451.425938 72.432 \nL 451.425938 94.176 \nL 429.105938 94.176 \nL 429.105938 72.432 \n\" style=\"fill:#f6b893;\"/>\n    <path clip-path=\"url(#p805661d64a)\" d=\"M 451.425938 72.432 \nL 473.745938 72.432 \nL 473.745938 94.176 \nL 451.425938 94.176 \nL 451.425938 72.432 \n\" style=\"fill:#03051a;\"/>\n    <path clip-path=\"url(#p805661d64a)\" d=\"M 473.745938 72.432 \nL 496.065938 72.432 \nL 496.065938 94.176 \nL 473.745938 94.176 \nL 473.745938 72.432 \n\" style=\"fill:#05061b;\"/>\n    <path clip-path=\"url(#p805661d64a)\" d=\"M 496.065938 72.432 \nL 518.385937 72.432 \nL 518.385937 94.176 \nL 496.065938 94.176 \nL 496.065938 72.432 \n\" style=\"fill:#03051a;\"/>\n    <path clip-path=\"url(#p805661d64a)\" d=\"M 518.385937 72.432 \nL 540.705938 72.432 \nL 540.705938 94.176 \nL 518.385937 94.176 \nL 518.385937 72.432 \n\" style=\"fill:#04051a;\"/>\n    <path clip-path=\"url(#p805661d64a)\" d=\"M 540.705938 72.432 \nL 563.025938 72.432 \nL 563.025938 94.176 \nL 540.705938 94.176 \nL 540.705938 72.432 \n\" style=\"fill:#04051a;\"/>\n    <path clip-path=\"url(#p805661d64a)\" d=\"M 563.025938 72.432 \nL 585.345937 72.432 \nL 585.345937 94.176 \nL 563.025938 94.176 \nL 563.025938 72.432 \n\" style=\"fill:#04051a;\"/>\n    <path clip-path=\"url(#p805661d64a)\" d=\"M 362.145938 94.176 \nL 384.465938 94.176 \nL 384.465938 115.92 \nL 362.145938 115.92 \nL 362.145938 94.176 \n\" style=\"fill:#03051a;\"/>\n    <path clip-path=\"url(#p805661d64a)\" d=\"M 384.465938 94.176 \nL 406.785938 94.176 \nL 406.785938 115.92 \nL 384.465938 115.92 \nL 384.465938 94.176 \n\" style=\"fill:#03051a;\"/>\n    <path clip-path=\"url(#p805661d64a)\" d=\"M 406.785938 94.176 \nL 429.105938 94.176 \nL 429.105938 115.92 \nL 406.785938 115.92 \nL 406.785938 94.176 \n\" style=\"fill:#03051a;\"/>\n    <path clip-path=\"url(#p805661d64a)\" d=\"M 429.105938 94.176 \nL 451.425938 94.176 \nL 451.425938 115.92 \nL 429.105938 115.92 \nL 429.105938 94.176 \n\" style=\"fill:#03051a;\"/>\n    <path clip-path=\"url(#p805661d64a)\" d=\"M 451.425938 94.176 \nL 473.745938 94.176 \nL 473.745938 115.92 \nL 451.425938 115.92 \nL 451.425938 94.176 \n\" style=\"fill:#f6a981;\"/>\n    <path clip-path=\"url(#p805661d64a)\" d=\"M 473.745938 94.176 \nL 496.065938 94.176 \nL 496.065938 115.92 \nL 473.745938 115.92 \nL 473.745938 94.176 \n\" style=\"fill:#03051a;\"/>\n    <path clip-path=\"url(#p805661d64a)\" d=\"M 496.065938 94.176 \nL 518.385937 94.176 \nL 518.385937 115.92 \nL 496.065938 115.92 \nL 496.065938 94.176 \n\" style=\"fill:#04051a;\"/>\n    <path clip-path=\"url(#p805661d64a)\" d=\"M 518.385937 94.176 \nL 540.705938 94.176 \nL 540.705938 115.92 \nL 518.385937 115.92 \nL 518.385937 94.176 \n\" style=\"fill:#03051a;\"/>\n    <path clip-path=\"url(#p805661d64a)\" d=\"M 540.705938 94.176 \nL 563.025938 94.176 \nL 563.025938 115.92 \nL 540.705938 115.92 \nL 540.705938 94.176 \n\" style=\"fill:#03051a;\"/>\n    <path clip-path=\"url(#p805661d64a)\" d=\"M 563.025938 94.176 \nL 585.345937 94.176 \nL 585.345937 115.92 \nL 563.025938 115.92 \nL 563.025938 94.176 \n\" style=\"fill:#0b0920;\"/>\n    <path clip-path=\"url(#p805661d64a)\" d=\"M 362.145938 115.92 \nL 384.465938 115.92 \nL 384.465938 137.664 \nL 362.145938 137.664 \nL 362.145938 115.92 \n\" style=\"fill:#03051a;\"/>\n    <path clip-path=\"url(#p805661d64a)\" d=\"M 384.465938 115.92 \nL 406.785938 115.92 \nL 406.785938 137.664 \nL 384.465938 137.664 \nL 384.465938 115.92 \n\" style=\"fill:#03051a;\"/>\n    <path clip-path=\"url(#p805661d64a)\" d=\"M 406.785938 115.92 \nL 429.105938 115.92 \nL 429.105938 137.664 \nL 406.785938 137.664 \nL 406.785938 115.92 \n\" style=\"fill:#03051a;\"/>\n    <path clip-path=\"url(#p805661d64a)\" d=\"M 429.105938 115.92 \nL 451.425938 115.92 \nL 451.425938 137.664 \nL 429.105938 137.664 \nL 429.105938 115.92 \n\" style=\"fill:#05061b;\"/>\n    <path clip-path=\"url(#p805661d64a)\" d=\"M 451.425938 115.92 \nL 473.745938 115.92 \nL 473.745938 137.664 \nL 451.425938 137.664 \nL 451.425938 115.92 \n\" style=\"fill:#03051a;\"/>\n    <path clip-path=\"url(#p805661d64a)\" d=\"M 473.745938 115.92 \nL 496.065938 115.92 \nL 496.065938 137.664 \nL 473.745938 137.664 \nL 473.745938 115.92 \n\" style=\"fill:#f58b63;\"/>\n    <path clip-path=\"url(#p805661d64a)\" d=\"M 496.065938 115.92 \nL 518.385937 115.92 \nL 518.385937 137.664 \nL 496.065938 137.664 \nL 496.065938 115.92 \n\" style=\"fill:#04051a;\"/>\n    <path clip-path=\"url(#p805661d64a)\" d=\"M 518.385937 115.92 \nL 540.705938 115.92 \nL 540.705938 137.664 \nL 518.385937 137.664 \nL 518.385937 115.92 \n\" style=\"fill:#03051a;\"/>\n    <path clip-path=\"url(#p805661d64a)\" d=\"M 540.705938 115.92 \nL 563.025938 115.92 \nL 563.025938 137.664 \nL 540.705938 137.664 \nL 540.705938 115.92 \n\" style=\"fill:#04051a;\"/>\n    <path clip-path=\"url(#p805661d64a)\" d=\"M 563.025938 115.92 \nL 585.345937 115.92 \nL 585.345937 137.664 \nL 563.025938 137.664 \nL 563.025938 115.92 \n\" style=\"fill:#04051a;\"/>\n    <path clip-path=\"url(#p805661d64a)\" d=\"M 362.145938 137.664 \nL 384.465938 137.664 \nL 384.465938 159.408 \nL 362.145938 159.408 \nL 362.145938 137.664 \n\" style=\"fill:#04051a;\"/>\n    <path clip-path=\"url(#p805661d64a)\" d=\"M 384.465938 137.664 \nL 406.785938 137.664 \nL 406.785938 159.408 \nL 384.465938 159.408 \nL 384.465938 137.664 \n\" style=\"fill:#03051a;\"/>\n    <path clip-path=\"url(#p805661d64a)\" d=\"M 406.785938 137.664 \nL 429.105938 137.664 \nL 429.105938 159.408 \nL 406.785938 159.408 \nL 406.785938 137.664 \n\" style=\"fill:#03051a;\"/>\n    <path clip-path=\"url(#p805661d64a)\" d=\"M 429.105938 137.664 \nL 451.425938 137.664 \nL 451.425938 159.408 \nL 429.105938 159.408 \nL 429.105938 137.664 \n\" style=\"fill:#03051a;\"/>\n    <path clip-path=\"url(#p805661d64a)\" d=\"M 451.425938 137.664 \nL 473.745938 137.664 \nL 473.745938 159.408 \nL 451.425938 159.408 \nL 451.425938 137.664 \n\" style=\"fill:#03051a;\"/>\n    <path clip-path=\"url(#p805661d64a)\" d=\"M 473.745938 137.664 \nL 496.065938 137.664 \nL 496.065938 159.408 \nL 473.745938 159.408 \nL 473.745938 137.664 \n\" style=\"fill:#03051a;\"/>\n    <path clip-path=\"url(#p805661d64a)\" d=\"M 496.065938 137.664 \nL 518.385937 137.664 \nL 518.385937 159.408 \nL 496.065938 159.408 \nL 496.065938 137.664 \n\" style=\"fill:#f6ad85;\"/>\n    <path clip-path=\"url(#p805661d64a)\" d=\"M 518.385937 137.664 \nL 540.705938 137.664 \nL 540.705938 159.408 \nL 518.385937 159.408 \nL 518.385937 137.664 \n\" style=\"fill:#03051a;\"/>\n    <path clip-path=\"url(#p805661d64a)\" d=\"M 540.705938 137.664 \nL 563.025938 137.664 \nL 563.025938 159.408 \nL 540.705938 159.408 \nL 540.705938 137.664 \n\" style=\"fill:#03051a;\"/>\n    <path clip-path=\"url(#p805661d64a)\" d=\"M 563.025938 137.664 \nL 585.345937 137.664 \nL 585.345937 159.408 \nL 563.025938 159.408 \nL 563.025938 137.664 \n\" style=\"fill:#03051a;\"/>\n    <path clip-path=\"url(#p805661d64a)\" d=\"M 362.145938 159.408 \nL 384.465938 159.408 \nL 384.465938 181.152 \nL 362.145938 181.152 \nL 362.145938 159.408 \n\" style=\"fill:#03051a;\"/>\n    <path clip-path=\"url(#p805661d64a)\" d=\"M 384.465938 159.408 \nL 406.785938 159.408 \nL 406.785938 181.152 \nL 384.465938 181.152 \nL 384.465938 159.408 \n\" style=\"fill:#05061b;\"/>\n    <path clip-path=\"url(#p805661d64a)\" d=\"M 406.785938 159.408 \nL 429.105938 159.408 \nL 429.105938 181.152 \nL 406.785938 181.152 \nL 406.785938 159.408 \n\" style=\"fill:#04051a;\"/>\n    <path clip-path=\"url(#p805661d64a)\" d=\"M 429.105938 159.408 \nL 451.425938 159.408 \nL 451.425938 181.152 \nL 429.105938 181.152 \nL 429.105938 159.408 \n\" style=\"fill:#03051a;\"/>\n    <path clip-path=\"url(#p805661d64a)\" d=\"M 451.425938 159.408 \nL 473.745938 159.408 \nL 473.745938 181.152 \nL 451.425938 181.152 \nL 451.425938 159.408 \n\" style=\"fill:#03051a;\"/>\n    <path clip-path=\"url(#p805661d64a)\" d=\"M 473.745938 159.408 \nL 496.065938 159.408 \nL 496.065938 181.152 \nL 473.745938 181.152 \nL 473.745938 159.408 \n\" style=\"fill:#03051a;\"/>\n    <path clip-path=\"url(#p805661d64a)\" d=\"M 496.065938 159.408 \nL 518.385937 159.408 \nL 518.385937 181.152 \nL 496.065938 181.152 \nL 496.065938 159.408 \n\" style=\"fill:#03051a;\"/>\n    <path clip-path=\"url(#p805661d64a)\" d=\"M 518.385937 159.408 \nL 540.705938 159.408 \nL 540.705938 181.152 \nL 518.385937 181.152 \nL 518.385937 159.408 \n\" style=\"fill:#f6bf9d;\"/>\n    <path clip-path=\"url(#p805661d64a)\" d=\"M 540.705938 159.408 \nL 563.025938 159.408 \nL 563.025938 181.152 \nL 540.705938 181.152 \nL 540.705938 159.408 \n\" style=\"fill:#03051a;\"/>\n    <path clip-path=\"url(#p805661d64a)\" d=\"M 563.025938 159.408 \nL 585.345937 159.408 \nL 585.345937 181.152 \nL 563.025938 181.152 \nL 563.025938 159.408 \n\" style=\"fill:#05061b;\"/>\n    <path clip-path=\"url(#p805661d64a)\" d=\"M 362.145938 181.152 \nL 384.465938 181.152 \nL 384.465938 202.896 \nL 362.145938 202.896 \nL 362.145938 181.152 \n\" style=\"fill:#04051a;\"/>\n    <path clip-path=\"url(#p805661d64a)\" d=\"M 384.465938 181.152 \nL 406.785938 181.152 \nL 406.785938 202.896 \nL 384.465938 202.896 \nL 384.465938 181.152 \n\" style=\"fill:#03051a;\"/>\n    <path clip-path=\"url(#p805661d64a)\" d=\"M 406.785938 181.152 \nL 429.105938 181.152 \nL 429.105938 202.896 \nL 406.785938 202.896 \nL 406.785938 181.152 \n\" style=\"fill:#03051a;\"/>\n    <path clip-path=\"url(#p805661d64a)\" d=\"M 429.105938 181.152 \nL 451.425938 181.152 \nL 451.425938 202.896 \nL 429.105938 202.896 \nL 429.105938 181.152 \n\" style=\"fill:#05061b;\"/>\n    <path clip-path=\"url(#p805661d64a)\" d=\"M 451.425938 181.152 \nL 473.745938 181.152 \nL 473.745938 202.896 \nL 451.425938 202.896 \nL 451.425938 181.152 \n\" style=\"fill:#03051a;\"/>\n    <path clip-path=\"url(#p805661d64a)\" d=\"M 473.745938 181.152 \nL 496.065938 181.152 \nL 496.065938 202.896 \nL 473.745938 202.896 \nL 473.745938 181.152 \n\" style=\"fill:#03051a;\"/>\n    <path clip-path=\"url(#p805661d64a)\" d=\"M 496.065938 181.152 \nL 518.385937 181.152 \nL 518.385937 202.896 \nL 496.065938 202.896 \nL 496.065938 181.152 \n\" style=\"fill:#03051a;\"/>\n    <path clip-path=\"url(#p805661d64a)\" d=\"M 518.385937 181.152 \nL 540.705938 181.152 \nL 540.705938 202.896 \nL 518.385937 202.896 \nL 518.385937 181.152 \n\" style=\"fill:#03051a;\"/>\n    <path clip-path=\"url(#p805661d64a)\" d=\"M 540.705938 181.152 \nL 563.025938 181.152 \nL 563.025938 202.896 \nL 540.705938 202.896 \nL 540.705938 181.152 \n\" style=\"fill:#f6a981;\"/>\n    <path clip-path=\"url(#p805661d64a)\" d=\"M 563.025938 181.152 \nL 585.345937 181.152 \nL 585.345937 202.896 \nL 563.025938 202.896 \nL 563.025938 181.152 \n\" style=\"fill:#03051a;\"/>\n    <path clip-path=\"url(#p805661d64a)\" d=\"M 362.145938 202.896 \nL 384.465938 202.896 \nL 384.465938 224.64 \nL 362.145938 224.64 \nL 362.145938 202.896 \n\" style=\"fill:#04051a;\"/>\n    <path clip-path=\"url(#p805661d64a)\" d=\"M 384.465938 202.896 \nL 406.785938 202.896 \nL 406.785938 224.64 \nL 384.465938 224.64 \nL 384.465938 202.896 \n\" style=\"fill:#04051a;\"/>\n    <path clip-path=\"url(#p805661d64a)\" d=\"M 406.785938 202.896 \nL 429.105938 202.896 \nL 429.105938 224.64 \nL 406.785938 224.64 \nL 406.785938 202.896 \n\" style=\"fill:#03051a;\"/>\n    <path clip-path=\"url(#p805661d64a)\" d=\"M 429.105938 202.896 \nL 451.425938 202.896 \nL 451.425938 224.64 \nL 429.105938 224.64 \nL 429.105938 202.896 \n\" style=\"fill:#04051a;\"/>\n    <path clip-path=\"url(#p805661d64a)\" d=\"M 451.425938 202.896 \nL 473.745938 202.896 \nL 473.745938 224.64 \nL 451.425938 224.64 \nL 451.425938 202.896 \n\" style=\"fill:#04051a;\"/>\n    <path clip-path=\"url(#p805661d64a)\" d=\"M 473.745938 202.896 \nL 496.065938 202.896 \nL 496.065938 224.64 \nL 473.745938 224.64 \nL 473.745938 202.896 \n\" style=\"fill:#03051a;\"/>\n    <path clip-path=\"url(#p805661d64a)\" d=\"M 496.065938 202.896 \nL 518.385937 202.896 \nL 518.385937 224.64 \nL 496.065938 224.64 \nL 496.065938 202.896 \n\" style=\"fill:#03051a;\"/>\n    <path clip-path=\"url(#p805661d64a)\" d=\"M 518.385937 202.896 \nL 540.705938 202.896 \nL 540.705938 224.64 \nL 518.385937 224.64 \nL 518.385937 202.896 \n\" style=\"fill:#04051a;\"/>\n    <path clip-path=\"url(#p805661d64a)\" d=\"M 540.705938 202.896 \nL 563.025938 202.896 \nL 563.025938 224.64 \nL 540.705938 224.64 \nL 540.705938 202.896 \n\" style=\"fill:#03051a;\"/>\n    <path clip-path=\"url(#p805661d64a)\" d=\"M 563.025938 202.896 \nL 585.345937 202.896 \nL 585.345937 224.64 \nL 563.025938 224.64 \nL 563.025938 202.896 \n\" style=\"fill:#f6b48f;\"/>\n   </g>\n   <g id=\"text_147\">\n    <!-- 976 -->\n    <g style=\"fill:#262626;\" transform=\"translate(361.853438 21.38325)scale(0.12 -0.12)\">\n     <use xlink:href=\"#DejaVuSans-57\"/>\n     <use x=\"63.623047\" xlink:href=\"#DejaVuSans-55\"/>\n     <use x=\"127.246094\" xlink:href=\"#DejaVuSans-54\"/>\n    </g>\n   </g>\n   <g id=\"text_148\">\n    <!-- 1 -->\n    <g style=\"fill:#ffffff;\" transform=\"translate(391.808438 21.38325)scale(0.12 -0.12)\">\n     <use xlink:href=\"#DejaVuSans-49\"/>\n    </g>\n   </g>\n   <g id=\"text_149\">\n    <!-- 0 -->\n    <g style=\"fill:#ffffff;\" transform=\"translate(414.128438 21.38325)scale(0.12 -0.12)\">\n     <use xlink:href=\"#DejaVuSans-48\"/>\n    </g>\n   </g>\n   <g id=\"text_150\">\n    <!-- 0 -->\n    <g style=\"fill:#ffffff;\" transform=\"translate(436.448438 21.38325)scale(0.12 -0.12)\">\n     <use xlink:href=\"#DejaVuSans-48\"/>\n    </g>\n   </g>\n   <g id=\"text_151\">\n    <!-- 0 -->\n    <g style=\"fill:#ffffff;\" transform=\"translate(458.768438 21.38325)scale(0.12 -0.12)\">\n     <use xlink:href=\"#DejaVuSans-48\"/>\n    </g>\n   </g>\n   <g id=\"text_152\">\n    <!-- 0 -->\n    <g style=\"fill:#ffffff;\" transform=\"translate(481.088438 21.38325)scale(0.12 -0.12)\">\n     <use xlink:href=\"#DejaVuSans-48\"/>\n    </g>\n   </g>\n   <g id=\"text_153\">\n    <!-- 2 -->\n    <g style=\"fill:#ffffff;\" transform=\"translate(503.408437 21.38325)scale(0.12 -0.12)\">\n     <use xlink:href=\"#DejaVuSans-50\"/>\n    </g>\n   </g>\n   <g id=\"text_154\">\n    <!-- 1 -->\n    <g style=\"fill:#ffffff;\" transform=\"translate(525.728438 21.38325)scale(0.12 -0.12)\">\n     <use xlink:href=\"#DejaVuSans-49\"/>\n    </g>\n   </g>\n   <g id=\"text_155\">\n    <!-- 0 -->\n    <g style=\"fill:#ffffff;\" transform=\"translate(548.048437 21.38325)scale(0.12 -0.12)\">\n     <use xlink:href=\"#DejaVuSans-48\"/>\n    </g>\n   </g>\n   <g id=\"text_156\">\n    <!-- 0 -->\n    <g style=\"fill:#ffffff;\" transform=\"translate(570.368438 21.38325)scale(0.12 -0.12)\">\n     <use xlink:href=\"#DejaVuSans-48\"/>\n    </g>\n   </g>\n   <g id=\"text_157\">\n    <!-- 0 -->\n    <g style=\"fill:#ffffff;\" transform=\"translate(369.488438 43.12725)scale(0.12 -0.12)\">\n     <use xlink:href=\"#DejaVuSans-48\"/>\n    </g>\n   </g>\n   <g id=\"text_158\">\n    <!-- 1130 -->\n    <g style=\"fill:#262626;\" transform=\"translate(380.355938 43.12725)scale(0.12 -0.12)\">\n     <use xlink:href=\"#DejaVuSans-49\"/>\n     <use x=\"63.623047\" xlink:href=\"#DejaVuSans-49\"/>\n     <use x=\"127.246094\" xlink:href=\"#DejaVuSans-51\"/>\n     <use x=\"190.869141\" xlink:href=\"#DejaVuSans-48\"/>\n    </g>\n   </g>\n   <g id=\"text_159\">\n    <!-- 3 -->\n    <g style=\"fill:#ffffff;\" transform=\"translate(414.128438 43.12725)scale(0.12 -0.12)\">\n     <use xlink:href=\"#DejaVuSans-51\"/>\n    </g>\n   </g>\n   <g id=\"text_160\">\n    <!-- 1 -->\n    <g style=\"fill:#ffffff;\" transform=\"translate(436.448438 43.12725)scale(0.12 -0.12)\">\n     <use xlink:href=\"#DejaVuSans-49\"/>\n    </g>\n   </g>\n   <g id=\"text_161\">\n    <!-- 0 -->\n    <g style=\"fill:#ffffff;\" transform=\"translate(458.768438 43.12725)scale(0.12 -0.12)\">\n     <use xlink:href=\"#DejaVuSans-48\"/>\n    </g>\n   </g>\n   <g id=\"text_162\">\n    <!-- 0 -->\n    <g style=\"fill:#ffffff;\" transform=\"translate(481.088438 43.12725)scale(0.12 -0.12)\">\n     <use xlink:href=\"#DejaVuSans-48\"/>\n    </g>\n   </g>\n   <g id=\"text_163\">\n    <!-- 1 -->\n    <g style=\"fill:#ffffff;\" transform=\"translate(503.408437 43.12725)scale(0.12 -0.12)\">\n     <use xlink:href=\"#DejaVuSans-49\"/>\n    </g>\n   </g>\n   <g id=\"text_164\">\n    <!-- 0 -->\n    <g style=\"fill:#ffffff;\" transform=\"translate(525.728438 43.12725)scale(0.12 -0.12)\">\n     <use xlink:href=\"#DejaVuSans-48\"/>\n    </g>\n   </g>\n   <g id=\"text_165\">\n    <!-- 0 -->\n    <g style=\"fill:#ffffff;\" transform=\"translate(548.048437 43.12725)scale(0.12 -0.12)\">\n     <use xlink:href=\"#DejaVuSans-48\"/>\n    </g>\n   </g>\n   <g id=\"text_166\">\n    <!-- 0 -->\n    <g style=\"fill:#ffffff;\" transform=\"translate(570.368438 43.12725)scale(0.12 -0.12)\">\n     <use xlink:href=\"#DejaVuSans-48\"/>\n    </g>\n   </g>\n   <g id=\"text_167\">\n    <!-- 8 -->\n    <g style=\"fill:#ffffff;\" transform=\"translate(369.488438 64.87125)scale(0.12 -0.12)\">\n     <use xlink:href=\"#DejaVuSans-56\"/>\n    </g>\n   </g>\n   <g id=\"text_168\">\n    <!-- 0 -->\n    <g style=\"fill:#ffffff;\" transform=\"translate(391.808438 64.87125)scale(0.12 -0.12)\">\n     <use xlink:href=\"#DejaVuSans-48\"/>\n    </g>\n   </g>\n   <g id=\"text_169\">\n    <!-- 1008 -->\n    <g style=\"fill:#262626;\" transform=\"translate(402.675938 64.87125)scale(0.12 -0.12)\">\n     <use xlink:href=\"#DejaVuSans-49\"/>\n     <use x=\"63.623047\" xlink:href=\"#DejaVuSans-48\"/>\n     <use x=\"127.246094\" xlink:href=\"#DejaVuSans-48\"/>\n     <use x=\"190.869141\" xlink:href=\"#DejaVuSans-56\"/>\n    </g>\n   </g>\n   <g id=\"text_170\">\n    <!-- 3 -->\n    <g style=\"fill:#ffffff;\" transform=\"translate(436.448438 64.87125)scale(0.12 -0.12)\">\n     <use xlink:href=\"#DejaVuSans-51\"/>\n    </g>\n   </g>\n   <g id=\"text_171\">\n    <!-- 1 -->\n    <g style=\"fill:#ffffff;\" transform=\"translate(458.768438 64.87125)scale(0.12 -0.12)\">\n     <use xlink:href=\"#DejaVuSans-49\"/>\n    </g>\n   </g>\n   <g id=\"text_172\">\n    <!-- 0 -->\n    <g style=\"fill:#ffffff;\" transform=\"translate(481.088438 64.87125)scale(0.12 -0.12)\">\n     <use xlink:href=\"#DejaVuSans-48\"/>\n    </g>\n   </g>\n   <g id=\"text_173\">\n    <!-- 1 -->\n    <g style=\"fill:#ffffff;\" transform=\"translate(503.408437 64.87125)scale(0.12 -0.12)\">\n     <use xlink:href=\"#DejaVuSans-49\"/>\n    </g>\n   </g>\n   <g id=\"text_174\">\n    <!-- 8 -->\n    <g style=\"fill:#ffffff;\" transform=\"translate(525.728438 64.87125)scale(0.12 -0.12)\">\n     <use xlink:href=\"#DejaVuSans-56\"/>\n    </g>\n   </g>\n   <g id=\"text_175\">\n    <!-- 3 -->\n    <g style=\"fill:#ffffff;\" transform=\"translate(548.048437 64.87125)scale(0.12 -0.12)\">\n     <use xlink:href=\"#DejaVuSans-51\"/>\n    </g>\n   </g>\n   <g id=\"text_176\">\n    <!-- 0 -->\n    <g style=\"fill:#ffffff;\" transform=\"translate(570.368438 64.87125)scale(0.12 -0.12)\">\n     <use xlink:href=\"#DejaVuSans-48\"/>\n    </g>\n   </g>\n   <g id=\"text_177\">\n    <!-- 0 -->\n    <g style=\"fill:#ffffff;\" transform=\"translate(369.488438 86.61525)scale(0.12 -0.12)\">\n     <use xlink:href=\"#DejaVuSans-48\"/>\n    </g>\n   </g>\n   <g id=\"text_178\">\n    <!-- 1 -->\n    <g style=\"fill:#ffffff;\" transform=\"translate(391.808438 86.61525)scale(0.12 -0.12)\">\n     <use xlink:href=\"#DejaVuSans-49\"/>\n    </g>\n   </g>\n   <g id=\"text_179\">\n    <!-- 3 -->\n    <g style=\"fill:#ffffff;\" transform=\"translate(414.128438 86.61525)scale(0.12 -0.12)\">\n     <use xlink:href=\"#DejaVuSans-51\"/>\n    </g>\n   </g>\n   <g id=\"text_180\">\n    <!-- 978 -->\n    <g style=\"fill:#262626;\" transform=\"translate(428.813438 86.61525)scale(0.12 -0.12)\">\n     <use xlink:href=\"#DejaVuSans-57\"/>\n     <use x=\"63.623047\" xlink:href=\"#DejaVuSans-55\"/>\n     <use x=\"127.246094\" xlink:href=\"#DejaVuSans-56\"/>\n    </g>\n   </g>\n   <g id=\"text_181\">\n    <!-- 0 -->\n    <g style=\"fill:#ffffff;\" transform=\"translate(458.768438 86.61525)scale(0.12 -0.12)\">\n     <use xlink:href=\"#DejaVuSans-48\"/>\n    </g>\n   </g>\n   <g id=\"text_182\">\n    <!-- 11 -->\n    <g style=\"fill:#ffffff;\" transform=\"translate(477.270938 86.61525)scale(0.12 -0.12)\">\n     <use xlink:href=\"#DejaVuSans-49\"/>\n     <use x=\"63.623047\" xlink:href=\"#DejaVuSans-49\"/>\n    </g>\n   </g>\n   <g id=\"text_183\">\n    <!-- 0 -->\n    <g style=\"fill:#ffffff;\" transform=\"translate(503.408437 86.61525)scale(0.12 -0.12)\">\n     <use xlink:href=\"#DejaVuSans-48\"/>\n    </g>\n   </g>\n   <g id=\"text_184\">\n    <!-- 5 -->\n    <g style=\"fill:#ffffff;\" transform=\"translate(525.728438 86.61525)scale(0.12 -0.12)\">\n     <use xlink:href=\"#DejaVuSans-53\"/>\n    </g>\n   </g>\n   <g id=\"text_185\">\n    <!-- 7 -->\n    <g style=\"fill:#ffffff;\" transform=\"translate(548.048437 86.61525)scale(0.12 -0.12)\">\n     <use xlink:href=\"#DejaVuSans-55\"/>\n    </g>\n   </g>\n   <g id=\"text_186\">\n    <!-- 5 -->\n    <g style=\"fill:#ffffff;\" transform=\"translate(570.368438 86.61525)scale(0.12 -0.12)\">\n     <use xlink:href=\"#DejaVuSans-53\"/>\n    </g>\n   </g>\n   <g id=\"text_187\">\n    <!-- 0 -->\n    <g style=\"fill:#ffffff;\" transform=\"translate(369.488438 108.35925)scale(0.12 -0.12)\">\n     <use xlink:href=\"#DejaVuSans-48\"/>\n    </g>\n   </g>\n   <g id=\"text_188\">\n    <!-- 1 -->\n    <g style=\"fill:#ffffff;\" transform=\"translate(391.808438 108.35925)scale(0.12 -0.12)\">\n     <use xlink:href=\"#DejaVuSans-49\"/>\n    </g>\n   </g>\n   <g id=\"text_189\">\n    <!-- 1 -->\n    <g style=\"fill:#ffffff;\" transform=\"translate(414.128438 108.35925)scale(0.12 -0.12)\">\n     <use xlink:href=\"#DejaVuSans-49\"/>\n    </g>\n   </g>\n   <g id=\"text_190\">\n    <!-- 0 -->\n    <g style=\"fill:#ffffff;\" transform=\"translate(436.448438 108.35925)scale(0.12 -0.12)\">\n     <use xlink:href=\"#DejaVuSans-48\"/>\n    </g>\n   </g>\n   <g id=\"text_191\">\n    <!-- 940 -->\n    <g style=\"fill:#262626;\" transform=\"translate(451.133438 108.35925)scale(0.12 -0.12)\">\n     <use xlink:href=\"#DejaVuSans-57\"/>\n     <use x=\"63.623047\" xlink:href=\"#DejaVuSans-52\"/>\n     <use x=\"127.246094\" xlink:href=\"#DejaVuSans-48\"/>\n    </g>\n   </g>\n   <g id=\"text_192\">\n    <!-- 0 -->\n    <g style=\"fill:#ffffff;\" transform=\"translate(481.088438 108.35925)scale(0.12 -0.12)\">\n     <use xlink:href=\"#DejaVuSans-48\"/>\n    </g>\n   </g>\n   <g id=\"text_193\">\n    <!-- 7 -->\n    <g style=\"fill:#ffffff;\" transform=\"translate(503.408437 108.35925)scale(0.12 -0.12)\">\n     <use xlink:href=\"#DejaVuSans-55\"/>\n    </g>\n   </g>\n   <g id=\"text_194\">\n    <!-- 1 -->\n    <g style=\"fill:#ffffff;\" transform=\"translate(525.728438 108.35925)scale(0.12 -0.12)\">\n     <use xlink:href=\"#DejaVuSans-49\"/>\n    </g>\n   </g>\n   <g id=\"text_195\">\n    <!-- 0 -->\n    <g style=\"fill:#ffffff;\" transform=\"translate(548.048437 108.35925)scale(0.12 -0.12)\">\n     <use xlink:href=\"#DejaVuSans-48\"/>\n    </g>\n   </g>\n   <g id=\"text_196\">\n    <!-- 32 -->\n    <g style=\"fill:#ffffff;\" transform=\"translate(566.550938 108.35925)scale(0.12 -0.12)\">\n     <use xlink:href=\"#DejaVuSans-51\"/>\n     <use x=\"63.623047\" xlink:href=\"#DejaVuSans-50\"/>\n    </g>\n   </g>\n   <g id=\"text_197\">\n    <!-- 4 -->\n    <g style=\"fill:#ffffff;\" transform=\"translate(369.488438 130.10325)scale(0.12 -0.12)\">\n     <use xlink:href=\"#DejaVuSans-52\"/>\n    </g>\n   </g>\n   <g id=\"text_198\">\n    <!-- 1 -->\n    <g style=\"fill:#ffffff;\" transform=\"translate(391.808438 130.10325)scale(0.12 -0.12)\">\n     <use xlink:href=\"#DejaVuSans-49\"/>\n    </g>\n   </g>\n   <g id=\"text_199\">\n    <!-- 0 -->\n    <g style=\"fill:#ffffff;\" transform=\"translate(414.128438 130.10325)scale(0.12 -0.12)\">\n     <use xlink:href=\"#DejaVuSans-48\"/>\n    </g>\n   </g>\n   <g id=\"text_200\">\n    <!-- 10 -->\n    <g style=\"fill:#ffffff;\" transform=\"translate(432.630938 130.10325)scale(0.12 -0.12)\">\n     <use xlink:href=\"#DejaVuSans-49\"/>\n     <use x=\"63.623047\" xlink:href=\"#DejaVuSans-48\"/>\n    </g>\n   </g>\n   <g id=\"text_201\">\n    <!-- 1 -->\n    <g style=\"fill:#ffffff;\" transform=\"translate(458.768438 130.10325)scale(0.12 -0.12)\">\n     <use xlink:href=\"#DejaVuSans-49\"/>\n    </g>\n   </g>\n   <g id=\"text_202\">\n    <!-- 858 -->\n    <g style=\"fill:#ffffff;\" transform=\"translate(473.453438 130.10325)scale(0.12 -0.12)\">\n     <use xlink:href=\"#DejaVuSans-56\"/>\n     <use x=\"63.623047\" xlink:href=\"#DejaVuSans-53\"/>\n     <use x=\"127.246094\" xlink:href=\"#DejaVuSans-56\"/>\n    </g>\n   </g>\n   <g id=\"text_203\">\n    <!-- 7 -->\n    <g style=\"fill:#ffffff;\" transform=\"translate(503.408437 130.10325)scale(0.12 -0.12)\">\n     <use xlink:href=\"#DejaVuSans-55\"/>\n    </g>\n   </g>\n   <g id=\"text_204\">\n    <!-- 1 -->\n    <g style=\"fill:#ffffff;\" transform=\"translate(525.728438 130.10325)scale(0.12 -0.12)\">\n     <use xlink:href=\"#DejaVuSans-49\"/>\n    </g>\n   </g>\n   <g id=\"text_205\">\n    <!-- 5 -->\n    <g style=\"fill:#ffffff;\" transform=\"translate(548.048437 130.10325)scale(0.12 -0.12)\">\n     <use xlink:href=\"#DejaVuSans-53\"/>\n    </g>\n   </g>\n   <g id=\"text_206\">\n    <!-- 5 -->\n    <g style=\"fill:#ffffff;\" transform=\"translate(570.368438 130.10325)scale(0.12 -0.12)\">\n     <use xlink:href=\"#DejaVuSans-53\"/>\n    </g>\n   </g>\n   <g id=\"text_207\">\n    <!-- 5 -->\n    <g style=\"fill:#ffffff;\" transform=\"translate(369.488438 151.84725)scale(0.12 -0.12)\">\n     <use xlink:href=\"#DejaVuSans-53\"/>\n    </g>\n   </g>\n   <g id=\"text_208\">\n    <!-- 2 -->\n    <g style=\"fill:#ffffff;\" transform=\"translate(391.808438 151.84725)scale(0.12 -0.12)\">\n     <use xlink:href=\"#DejaVuSans-50\"/>\n    </g>\n   </g>\n   <g id=\"text_209\">\n    <!-- 0 -->\n    <g style=\"fill:#ffffff;\" transform=\"translate(414.128438 151.84725)scale(0.12 -0.12)\">\n     <use xlink:href=\"#DejaVuSans-48\"/>\n    </g>\n   </g>\n   <g id=\"text_210\">\n    <!-- 0 -->\n    <g style=\"fill:#ffffff;\" transform=\"translate(436.448438 151.84725)scale(0.12 -0.12)\">\n     <use xlink:href=\"#DejaVuSans-48\"/>\n    </g>\n   </g>\n   <g id=\"text_211\">\n    <!-- 2 -->\n    <g style=\"fill:#ffffff;\" transform=\"translate(458.768438 151.84725)scale(0.12 -0.12)\">\n     <use xlink:href=\"#DejaVuSans-50\"/>\n    </g>\n   </g>\n   <g id=\"text_212\">\n    <!-- 3 -->\n    <g style=\"fill:#ffffff;\" transform=\"translate(481.088438 151.84725)scale(0.12 -0.12)\">\n     <use xlink:href=\"#DejaVuSans-51\"/>\n    </g>\n   </g>\n   <g id=\"text_213\">\n    <!-- 946 -->\n    <g style=\"fill:#262626;\" transform=\"translate(495.773438 151.84725)scale(0.12 -0.12)\">\n     <use xlink:href=\"#DejaVuSans-57\"/>\n     <use x=\"63.623047\" xlink:href=\"#DejaVuSans-52\"/>\n     <use x=\"127.246094\" xlink:href=\"#DejaVuSans-54\"/>\n    </g>\n   </g>\n   <g id=\"text_214\">\n    <!-- 0 -->\n    <g style=\"fill:#ffffff;\" transform=\"translate(525.728438 151.84725)scale(0.12 -0.12)\">\n     <use xlink:href=\"#DejaVuSans-48\"/>\n    </g>\n   </g>\n   <g id=\"text_215\">\n    <!-- 0 -->\n    <g style=\"fill:#ffffff;\" transform=\"translate(548.048437 151.84725)scale(0.12 -0.12)\">\n     <use xlink:href=\"#DejaVuSans-48\"/>\n    </g>\n   </g>\n   <g id=\"text_216\">\n    <!-- 0 -->\n    <g style=\"fill:#ffffff;\" transform=\"translate(570.368438 151.84725)scale(0.12 -0.12)\">\n     <use xlink:href=\"#DejaVuSans-48\"/>\n    </g>\n   </g>\n   <g id=\"text_217\">\n    <!-- 1 -->\n    <g style=\"fill:#ffffff;\" transform=\"translate(369.488438 173.59125)scale(0.12 -0.12)\">\n     <use xlink:href=\"#DejaVuSans-49\"/>\n    </g>\n   </g>\n   <g id=\"text_218\">\n    <!-- 11 -->\n    <g style=\"fill:#ffffff;\" transform=\"translate(387.990938 173.59125)scale(0.12 -0.12)\">\n     <use xlink:href=\"#DejaVuSans-49\"/>\n     <use x=\"63.623047\" xlink:href=\"#DejaVuSans-49\"/>\n    </g>\n   </g>\n   <g id=\"text_219\">\n    <!-- 5 -->\n    <g style=\"fill:#ffffff;\" transform=\"translate(414.128438 173.59125)scale(0.12 -0.12)\">\n     <use xlink:href=\"#DejaVuSans-53\"/>\n    </g>\n   </g>\n   <g id=\"text_220\">\n    <!-- 0 -->\n    <g style=\"fill:#ffffff;\" transform=\"translate(436.448438 173.59125)scale(0.12 -0.12)\">\n     <use xlink:href=\"#DejaVuSans-48\"/>\n    </g>\n   </g>\n   <g id=\"text_221\">\n    <!-- 1 -->\n    <g style=\"fill:#ffffff;\" transform=\"translate(458.768438 173.59125)scale(0.12 -0.12)\">\n     <use xlink:href=\"#DejaVuSans-49\"/>\n    </g>\n   </g>\n   <g id=\"text_222\">\n    <!-- 0 -->\n    <g style=\"fill:#ffffff;\" transform=\"translate(481.088438 173.59125)scale(0.12 -0.12)\">\n     <use xlink:href=\"#DejaVuSans-48\"/>\n    </g>\n   </g>\n   <g id=\"text_223\">\n    <!-- 1 -->\n    <g style=\"fill:#ffffff;\" transform=\"translate(503.408437 173.59125)scale(0.12 -0.12)\">\n     <use xlink:href=\"#DejaVuSans-49\"/>\n    </g>\n   </g>\n   <g id=\"text_224\">\n    <!-- 998 -->\n    <g style=\"fill:#262626;\" transform=\"translate(518.093438 173.59125)scale(0.12 -0.12)\">\n     <use xlink:href=\"#DejaVuSans-57\"/>\n     <use x=\"63.623047\" xlink:href=\"#DejaVuSans-57\"/>\n     <use x=\"127.246094\" xlink:href=\"#DejaVuSans-56\"/>\n    </g>\n   </g>\n   <g id=\"text_225\">\n    <!-- 0 -->\n    <g style=\"fill:#ffffff;\" transform=\"translate(548.048437 173.59125)scale(0.12 -0.12)\">\n     <use xlink:href=\"#DejaVuSans-48\"/>\n    </g>\n   </g>\n   <g id=\"text_226\">\n    <!-- 11 -->\n    <g style=\"fill:#ffffff;\" transform=\"translate(566.550938 173.59125)scale(0.12 -0.12)\">\n     <use xlink:href=\"#DejaVuSans-49\"/>\n     <use x=\"63.623047\" xlink:href=\"#DejaVuSans-49\"/>\n    </g>\n   </g>\n   <g id=\"text_227\">\n    <!-- 6 -->\n    <g style=\"fill:#ffffff;\" transform=\"translate(369.488438 195.33525)scale(0.12 -0.12)\">\n     <use xlink:href=\"#DejaVuSans-54\"/>\n    </g>\n   </g>\n   <g id=\"text_228\">\n    <!-- 3 -->\n    <g style=\"fill:#ffffff;\" transform=\"translate(391.808438 195.33525)scale(0.12 -0.12)\">\n     <use xlink:href=\"#DejaVuSans-51\"/>\n    </g>\n   </g>\n   <g id=\"text_229\">\n    <!-- 2 -->\n    <g style=\"fill:#ffffff;\" transform=\"translate(414.128438 195.33525)scale(0.12 -0.12)\">\n     <use xlink:href=\"#DejaVuSans-50\"/>\n    </g>\n   </g>\n   <g id=\"text_230\">\n    <!-- 9 -->\n    <g style=\"fill:#ffffff;\" transform=\"translate(436.448438 195.33525)scale(0.12 -0.12)\">\n     <use xlink:href=\"#DejaVuSans-57\"/>\n    </g>\n   </g>\n   <g id=\"text_231\">\n    <!-- 4 -->\n    <g style=\"fill:#ffffff;\" transform=\"translate(458.768438 195.33525)scale(0.12 -0.12)\">\n     <use xlink:href=\"#DejaVuSans-52\"/>\n    </g>\n   </g>\n   <g id=\"text_232\">\n    <!-- 3 -->\n    <g style=\"fill:#ffffff;\" transform=\"translate(481.088438 195.33525)scale(0.12 -0.12)\">\n     <use xlink:href=\"#DejaVuSans-51\"/>\n    </g>\n   </g>\n   <g id=\"text_233\">\n    <!-- 4 -->\n    <g style=\"fill:#ffffff;\" transform=\"translate(503.408437 195.33525)scale(0.12 -0.12)\">\n     <use xlink:href=\"#DejaVuSans-52\"/>\n    </g>\n   </g>\n   <g id=\"text_234\">\n    <!-- 3 -->\n    <g style=\"fill:#ffffff;\" transform=\"translate(525.728438 195.33525)scale(0.12 -0.12)\">\n     <use xlink:href=\"#DejaVuSans-51\"/>\n    </g>\n   </g>\n   <g id=\"text_235\">\n    <!-- 936 -->\n    <g style=\"fill:#262626;\" transform=\"translate(540.413437 195.33525)scale(0.12 -0.12)\">\n     <use xlink:href=\"#DejaVuSans-57\"/>\n     <use x=\"63.623047\" xlink:href=\"#DejaVuSans-51\"/>\n     <use x=\"127.246094\" xlink:href=\"#DejaVuSans-54\"/>\n    </g>\n   </g>\n   <g id=\"text_236\">\n    <!-- 4 -->\n    <g style=\"fill:#ffffff;\" transform=\"translate(570.368438 195.33525)scale(0.12 -0.12)\">\n     <use xlink:href=\"#DejaVuSans-52\"/>\n    </g>\n   </g>\n   <g id=\"text_237\">\n    <!-- 7 -->\n    <g style=\"fill:#ffffff;\" transform=\"translate(369.488438 217.07925)scale(0.12 -0.12)\">\n     <use xlink:href=\"#DejaVuSans-55\"/>\n    </g>\n   </g>\n   <g id=\"text_238\">\n    <!-- 7 -->\n    <g style=\"fill:#ffffff;\" transform=\"translate(391.808438 217.07925)scale(0.12 -0.12)\">\n     <use xlink:href=\"#DejaVuSans-55\"/>\n    </g>\n   </g>\n   <g id=\"text_239\">\n    <!-- 2 -->\n    <g style=\"fill:#ffffff;\" transform=\"translate(414.128438 217.07925)scale(0.12 -0.12)\">\n     <use xlink:href=\"#DejaVuSans-50\"/>\n    </g>\n   </g>\n   <g id=\"text_240\">\n    <!-- 6 -->\n    <g style=\"fill:#ffffff;\" transform=\"translate(436.448438 217.07925)scale(0.12 -0.12)\">\n     <use xlink:href=\"#DejaVuSans-54\"/>\n    </g>\n   </g>\n   <g id=\"text_241\">\n    <!-- 6 -->\n    <g style=\"fill:#ffffff;\" transform=\"translate(458.768438 217.07925)scale(0.12 -0.12)\">\n     <use xlink:href=\"#DejaVuSans-54\"/>\n    </g>\n   </g>\n   <g id=\"text_242\">\n    <!-- 3 -->\n    <g style=\"fill:#ffffff;\" transform=\"translate(481.088438 217.07925)scale(0.12 -0.12)\">\n     <use xlink:href=\"#DejaVuSans-51\"/>\n    </g>\n   </g>\n   <g id=\"text_243\">\n    <!-- 1 -->\n    <g style=\"fill:#ffffff;\" transform=\"translate(503.408437 217.07925)scale(0.12 -0.12)\">\n     <use xlink:href=\"#DejaVuSans-49\"/>\n    </g>\n   </g>\n   <g id=\"text_244\">\n    <!-- 6 -->\n    <g style=\"fill:#ffffff;\" transform=\"translate(525.728438 217.07925)scale(0.12 -0.12)\">\n     <use xlink:href=\"#DejaVuSans-54\"/>\n    </g>\n   </g>\n   <g id=\"text_245\">\n    <!-- 3 -->\n    <g style=\"fill:#ffffff;\" transform=\"translate(548.048437 217.07925)scale(0.12 -0.12)\">\n     <use xlink:href=\"#DejaVuSans-51\"/>\n    </g>\n   </g>\n   <g id=\"text_246\">\n    <!-- 968 -->\n    <g style=\"fill:#262626;\" transform=\"translate(562.733438 217.07925)scale(0.12 -0.12)\">\n     <use xlink:href=\"#DejaVuSans-57\"/>\n     <use x=\"63.623047\" xlink:href=\"#DejaVuSans-54\"/>\n     <use x=\"127.246094\" xlink:href=\"#DejaVuSans-56\"/>\n    </g>\n   </g>\n  </g>\n  <g id=\"axes_4\">\n   <g id=\"patch_6\">\n    <path clip-path=\"url(#pf5456be299)\" d=\"M 599.295938 224.64 \nL 599.295938 223.790625 \nL 599.295938 8.049375 \nL 599.295938 7.2 \nL 610.167937 7.2 \nL 610.167937 8.049375 \nL 610.167937 223.790625 \nL 610.167937 224.64 \nz\n\" style=\"fill:#eaeaf2;stroke:#eaeaf2;stroke-linejoin:miter;stroke-width:0.01;\"/>\n   </g>\n   <g id=\"matplotlib.axis_7\"/>\n   <g id=\"matplotlib.axis_8\">\n    <g id=\"ytick_27\">\n     <g id=\"line2d_7\">\n      <g>\n       <use style=\"fill:#262626;stroke:#262626;stroke-width:1.25;\" x=\"610.167937\" xlink:href=\"#m660eb104a9\" y=\"224.64\"/>\n      </g>\n     </g>\n     <g id=\"text_247\">\n      <!-- 0 -->\n      <g style=\"fill:#262626;\" transform=\"translate(619.667937 228.819141)scale(0.11 -0.11)\">\n       <use xlink:href=\"#DejaVuSans-48\"/>\n      </g>\n     </g>\n    </g>\n    <g id=\"ytick_28\">\n     <g id=\"line2d_8\">\n      <g>\n       <use style=\"fill:#262626;stroke:#262626;stroke-width:1.25;\" x=\"610.167937\" xlink:href=\"#m660eb104a9\" y=\"186.155044\"/>\n      </g>\n     </g>\n     <g id=\"text_248\">\n      <!-- 200 -->\n      <g style=\"fill:#262626;\" transform=\"translate(619.667937 190.334185)scale(0.11 -0.11)\">\n       <use xlink:href=\"#DejaVuSans-50\"/>\n       <use x=\"63.623047\" xlink:href=\"#DejaVuSans-48\"/>\n       <use x=\"127.246094\" xlink:href=\"#DejaVuSans-48\"/>\n      </g>\n     </g>\n    </g>\n    <g id=\"ytick_29\">\n     <g id=\"line2d_9\">\n      <g>\n       <use style=\"fill:#262626;stroke:#262626;stroke-width:1.25;\" x=\"610.167937\" xlink:href=\"#m660eb104a9\" y=\"147.670088\"/>\n      </g>\n     </g>\n     <g id=\"text_249\">\n      <!-- 400 -->\n      <g style=\"fill:#262626;\" transform=\"translate(619.667937 151.849229)scale(0.11 -0.11)\">\n       <use xlink:href=\"#DejaVuSans-52\"/>\n       <use x=\"63.623047\" xlink:href=\"#DejaVuSans-48\"/>\n       <use x=\"127.246094\" xlink:href=\"#DejaVuSans-48\"/>\n      </g>\n     </g>\n    </g>\n    <g id=\"ytick_30\">\n     <g id=\"line2d_10\">\n      <g>\n       <use style=\"fill:#262626;stroke:#262626;stroke-width:1.25;\" x=\"610.167937\" xlink:href=\"#m660eb104a9\" y=\"109.185133\"/>\n      </g>\n     </g>\n     <g id=\"text_250\">\n      <!-- 600 -->\n      <g style=\"fill:#262626;\" transform=\"translate(619.667937 113.364273)scale(0.11 -0.11)\">\n       <use xlink:href=\"#DejaVuSans-54\"/>\n       <use x=\"63.623047\" xlink:href=\"#DejaVuSans-48\"/>\n       <use x=\"127.246094\" xlink:href=\"#DejaVuSans-48\"/>\n      </g>\n     </g>\n    </g>\n    <g id=\"ytick_31\">\n     <g id=\"line2d_11\">\n      <g>\n       <use style=\"fill:#262626;stroke:#262626;stroke-width:1.25;\" x=\"610.167937\" xlink:href=\"#m660eb104a9\" y=\"70.700177\"/>\n      </g>\n     </g>\n     <g id=\"text_251\">\n      <!-- 800 -->\n      <g style=\"fill:#262626;\" transform=\"translate(619.667937 74.879318)scale(0.11 -0.11)\">\n       <use xlink:href=\"#DejaVuSans-56\"/>\n       <use x=\"63.623047\" xlink:href=\"#DejaVuSans-48\"/>\n       <use x=\"127.246094\" xlink:href=\"#DejaVuSans-48\"/>\n      </g>\n     </g>\n    </g>\n    <g id=\"ytick_32\">\n     <g id=\"line2d_12\">\n      <g>\n       <use style=\"fill:#262626;stroke:#262626;stroke-width:1.25;\" x=\"610.167937\" xlink:href=\"#m660eb104a9\" y=\"32.215221\"/>\n      </g>\n     </g>\n     <g id=\"text_252\">\n      <!-- 1000 -->\n      <g style=\"fill:#262626;\" transform=\"translate(619.667937 36.394362)scale(0.11 -0.11)\">\n       <use xlink:href=\"#DejaVuSans-49\"/>\n       <use x=\"63.623047\" xlink:href=\"#DejaVuSans-48\"/>\n       <use x=\"127.246094\" xlink:href=\"#DejaVuSans-48\"/>\n       <use x=\"190.869141\" xlink:href=\"#DejaVuSans-48\"/>\n      </g>\n     </g>\n    </g>\n   </g>\n   <image height=\"218\" id=\"image2fb3d9abe6\" transform=\"scale(1 -1)translate(0 -218)\" width=\"11\" x=\"599\" xlink:href=\"data:image/png;base64,\niVBORw0KGgoAAAANSUhEUgAAAAsAAADaCAYAAABwzrisAAAABHNCSVQICAgIfAhkiAAAAWRJREFUaIHt2kGKgzEMg9E4Ti8x9z/n/N12mTcg8EC7FuKz7LhpaPXr51mXn1O3yrXW2Xvfi2vde58qEG8RE0ZLgXtIgeQszLskjRnMyTRaxKkRDQ5/rt1U4JR2z1gFueiupTwbM9LA4R+BcZ9yNOeOTR0VGNwbgnGCuw4wcs7/s93kDOITG6RkdCA+zwiM4K4T53P9YylcoIhjzEfEJRhD0ri/xEdz3uve2jBs8z+CIc5D0ihxtuEn5qAziBtOLDKTs4htkMS59y9gAEcyjRhGdywNOLHB6HYLhjFfa9U5hrHh3mNNgacCTgOcF80GrH7EsDRizlYgXLaxwJTzEueCbxV0tgJjGA3vdYiRcg5G1/B0j8yxnOXF1ZzhN1AQIxidtVsw5CUQT0oujfvVj2fQZiMmpqZIGlOYyTlXYK7dOedvGh/i6lfIeUoaMwos+atAMg0a/tytgKL7FvhHZxl+edtbb2flKyWOo4sRAAAAAElFTkSuQmCC\" y=\"-6\"/>\n   <g id=\"patch_7\">\n    <path d=\"M 599.295938 224.64 \nL 599.295938 223.790625 \nL 599.295938 8.049375 \nL 599.295938 7.2 \nL 610.167937 7.2 \nL 610.167937 8.049375 \nL 610.167937 223.790625 \nL 610.167937 224.64 \nz\n\" style=\"fill:none;\"/>\n   </g>\n  </g>\n  <g id=\"axes_5\">\n   <g id=\"patch_8\">\n    <path d=\"M 696.945938 224.64 \nL 920.145938 224.64 \nL 920.145938 7.2 \nL 696.945938 7.2 \nz\n\" style=\"fill:#eaeaf2;\"/>\n   </g>\n   <g id=\"matplotlib.axis_9\">\n    <g id=\"xtick_21\">\n     <g id=\"text_253\">\n      <!-- 0 -->\n      <g style=\"fill:#262626;\" transform=\"translate(704.606562 242.498281)scale(0.11 -0.11)\">\n       <use xlink:href=\"#DejaVuSans-48\"/>\n      </g>\n     </g>\n    </g>\n    <g id=\"xtick_22\">\n     <g id=\"text_254\">\n      <!-- 1 -->\n      <g style=\"fill:#262626;\" transform=\"translate(726.926563 242.498281)scale(0.11 -0.11)\">\n       <use xlink:href=\"#DejaVuSans-49\"/>\n      </g>\n     </g>\n    </g>\n    <g id=\"xtick_23\">\n     <g id=\"text_255\">\n      <!-- 2 -->\n      <g style=\"fill:#262626;\" transform=\"translate(749.246563 242.498281)scale(0.11 -0.11)\">\n       <use xlink:href=\"#DejaVuSans-50\"/>\n      </g>\n     </g>\n    </g>\n    <g id=\"xtick_24\">\n     <g id=\"text_256\">\n      <!-- 3 -->\n      <g style=\"fill:#262626;\" transform=\"translate(771.566563 242.498281)scale(0.11 -0.11)\">\n       <use xlink:href=\"#DejaVuSans-51\"/>\n      </g>\n     </g>\n    </g>\n    <g id=\"xtick_25\">\n     <g id=\"text_257\">\n      <!-- 4 -->\n      <g style=\"fill:#262626;\" transform=\"translate(793.886563 242.498281)scale(0.11 -0.11)\">\n       <use xlink:href=\"#DejaVuSans-52\"/>\n      </g>\n     </g>\n    </g>\n    <g id=\"xtick_26\">\n     <g id=\"text_258\">\n      <!-- 5 -->\n      <g style=\"fill:#262626;\" transform=\"translate(816.206563 242.498281)scale(0.11 -0.11)\">\n       <use xlink:href=\"#DejaVuSans-53\"/>\n      </g>\n     </g>\n    </g>\n    <g id=\"xtick_27\">\n     <g id=\"text_259\">\n      <!-- 6 -->\n      <g style=\"fill:#262626;\" transform=\"translate(838.526563 242.498281)scale(0.11 -0.11)\">\n       <use xlink:href=\"#DejaVuSans-54\"/>\n      </g>\n     </g>\n    </g>\n    <g id=\"xtick_28\">\n     <g id=\"text_260\">\n      <!-- 7 -->\n      <g style=\"fill:#262626;\" transform=\"translate(860.846563 242.498281)scale(0.11 -0.11)\">\n       <use xlink:href=\"#DejaVuSans-55\"/>\n      </g>\n     </g>\n    </g>\n    <g id=\"xtick_29\">\n     <g id=\"text_261\">\n      <!-- 8 -->\n      <g style=\"fill:#262626;\" transform=\"translate(883.166563 242.498281)scale(0.11 -0.11)\">\n       <use xlink:href=\"#DejaVuSans-56\"/>\n      </g>\n     </g>\n    </g>\n    <g id=\"xtick_30\">\n     <g id=\"text_262\">\n      <!-- 9 -->\n      <g style=\"fill:#262626;\" transform=\"translate(905.486563 242.498281)scale(0.11 -0.11)\">\n       <use xlink:href=\"#DejaVuSans-57\"/>\n      </g>\n     </g>\n    </g>\n   </g>\n   <g id=\"matplotlib.axis_10\">\n    <g id=\"ytick_33\">\n     <g id=\"text_263\">\n      <!-- 0 -->\n      <g style=\"fill:#262626;\" transform=\"translate(685.158281 21.571375)rotate(-90)scale(0.11 -0.11)\">\n       <use xlink:href=\"#DejaVuSans-48\"/>\n      </g>\n     </g>\n    </g>\n    <g id=\"ytick_34\">\n     <g id=\"text_264\">\n      <!-- 1 -->\n      <g style=\"fill:#262626;\" transform=\"translate(685.158281 43.315375)rotate(-90)scale(0.11 -0.11)\">\n       <use xlink:href=\"#DejaVuSans-49\"/>\n      </g>\n     </g>\n    </g>\n    <g id=\"ytick_35\">\n     <g id=\"text_265\">\n      <!-- 2 -->\n      <g style=\"fill:#262626;\" transform=\"translate(685.158281 65.059375)rotate(-90)scale(0.11 -0.11)\">\n       <use xlink:href=\"#DejaVuSans-50\"/>\n      </g>\n     </g>\n    </g>\n    <g id=\"ytick_36\">\n     <g id=\"text_266\">\n      <!-- 3 -->\n      <g style=\"fill:#262626;\" transform=\"translate(685.158281 86.803375)rotate(-90)scale(0.11 -0.11)\">\n       <use xlink:href=\"#DejaVuSans-51\"/>\n      </g>\n     </g>\n    </g>\n    <g id=\"ytick_37\">\n     <g id=\"text_267\">\n      <!-- 4 -->\n      <g style=\"fill:#262626;\" transform=\"translate(685.158281 108.547375)rotate(-90)scale(0.11 -0.11)\">\n       <use xlink:href=\"#DejaVuSans-52\"/>\n      </g>\n     </g>\n    </g>\n    <g id=\"ytick_38\">\n     <g id=\"text_268\">\n      <!-- 5 -->\n      <g style=\"fill:#262626;\" transform=\"translate(685.158281 130.291375)rotate(-90)scale(0.11 -0.11)\">\n       <use xlink:href=\"#DejaVuSans-53\"/>\n      </g>\n     </g>\n    </g>\n    <g id=\"ytick_39\">\n     <g id=\"text_269\">\n      <!-- 6 -->\n      <g style=\"fill:#262626;\" transform=\"translate(685.158281 152.035375)rotate(-90)scale(0.11 -0.11)\">\n       <use xlink:href=\"#DejaVuSans-54\"/>\n      </g>\n     </g>\n    </g>\n    <g id=\"ytick_40\">\n     <g id=\"text_270\">\n      <!-- 7 -->\n      <g style=\"fill:#262626;\" transform=\"translate(685.158281 173.779375)rotate(-90)scale(0.11 -0.11)\">\n       <use xlink:href=\"#DejaVuSans-55\"/>\n      </g>\n     </g>\n    </g>\n    <g id=\"ytick_41\">\n     <g id=\"text_271\">\n      <!-- 8 -->\n      <g style=\"fill:#262626;\" transform=\"translate(685.158281 195.523375)rotate(-90)scale(0.11 -0.11)\">\n       <use xlink:href=\"#DejaVuSans-56\"/>\n      </g>\n     </g>\n    </g>\n    <g id=\"ytick_42\">\n     <g id=\"text_272\">\n      <!-- 9 -->\n      <g style=\"fill:#262626;\" transform=\"translate(685.158281 217.267375)rotate(-90)scale(0.11 -0.11)\">\n       <use xlink:href=\"#DejaVuSans-57\"/>\n      </g>\n     </g>\n    </g>\n   </g>\n   <g id=\"QuadMesh_3\">\n    <path clip-path=\"url(#pd8f3623311)\" d=\"M 696.945938 7.2 \nL 719.265938 7.2 \nL 719.265938 28.944 \nL 696.945938 28.944 \nL 696.945938 7.2 \n\" style=\"fill:#f6b893;\"/>\n    <path clip-path=\"url(#pd8f3623311)\" d=\"M 719.265938 7.2 \nL 741.585938 7.2 \nL 741.585938 28.944 \nL 719.265938 28.944 \nL 719.265938 7.2 \n\" style=\"fill:#03051a;\"/>\n    <path clip-path=\"url(#pd8f3623311)\" d=\"M 741.585938 7.2 \nL 763.905938 7.2 \nL 763.905938 28.944 \nL 741.585938 28.944 \nL 741.585938 7.2 \n\" style=\"fill:#03051a;\"/>\n    <path clip-path=\"url(#pd8f3623311)\" d=\"M 763.905938 7.2 \nL 786.225938 7.2 \nL 786.225938 28.944 \nL 763.905938 28.944 \nL 763.905938 7.2 \n\" style=\"fill:#03051a;\"/>\n    <path clip-path=\"url(#pd8f3623311)\" d=\"M 786.225938 7.2 \nL 808.545938 7.2 \nL 808.545938 28.944 \nL 786.225938 28.944 \nL 786.225938 7.2 \n\" style=\"fill:#03051a;\"/>\n    <path clip-path=\"url(#pd8f3623311)\" d=\"M 808.545938 7.2 \nL 830.865938 7.2 \nL 830.865938 28.944 \nL 808.545938 28.944 \nL 808.545938 7.2 \n\" style=\"fill:#03051a;\"/>\n    <path clip-path=\"url(#pd8f3623311)\" d=\"M 830.865938 7.2 \nL 853.185938 7.2 \nL 853.185938 28.944 \nL 830.865938 28.944 \nL 830.865938 7.2 \n\" style=\"fill:#03051a;\"/>\n    <path clip-path=\"url(#pd8f3623311)\" d=\"M 853.185938 7.2 \nL 875.505938 7.2 \nL 875.505938 28.944 \nL 853.185938 28.944 \nL 853.185938 7.2 \n\" style=\"fill:#03051a;\"/>\n    <path clip-path=\"url(#pd8f3623311)\" d=\"M 875.505938 7.2 \nL 897.825938 7.2 \nL 897.825938 28.944 \nL 875.505938 28.944 \nL 875.505938 7.2 \n\" style=\"fill:#03051a;\"/>\n    <path clip-path=\"url(#pd8f3623311)\" d=\"M 897.825938 7.2 \nL 920.145938 7.2 \nL 920.145938 28.944 \nL 897.825938 28.944 \nL 897.825938 7.2 \n\" style=\"fill:#03051a;\"/>\n    <path clip-path=\"url(#pd8f3623311)\" d=\"M 696.945938 28.944 \nL 719.265938 28.944 \nL 719.265938 50.688 \nL 696.945938 50.688 \nL 696.945938 28.944 \n\" style=\"fill:#03051a;\"/>\n    <path clip-path=\"url(#pd8f3623311)\" d=\"M 719.265938 28.944 \nL 741.585938 28.944 \nL 741.585938 50.688 \nL 719.265938 50.688 \nL 719.265938 28.944 \n\" style=\"fill:#faebdd;\"/>\n    <path clip-path=\"url(#pd8f3623311)\" d=\"M 741.585938 28.944 \nL 763.905938 28.944 \nL 763.905938 50.688 \nL 741.585938 50.688 \nL 741.585938 28.944 \n\" style=\"fill:#03051a;\"/>\n    <path clip-path=\"url(#pd8f3623311)\" d=\"M 763.905938 28.944 \nL 786.225938 28.944 \nL 786.225938 50.688 \nL 763.905938 50.688 \nL 763.905938 28.944 \n\" style=\"fill:#03051a;\"/>\n    <path clip-path=\"url(#pd8f3623311)\" d=\"M 786.225938 28.944 \nL 808.545938 28.944 \nL 808.545938 50.688 \nL 786.225938 50.688 \nL 786.225938 28.944 \n\" style=\"fill:#03051a;\"/>\n    <path clip-path=\"url(#pd8f3623311)\" d=\"M 808.545938 28.944 \nL 830.865938 28.944 \nL 830.865938 50.688 \nL 808.545938 50.688 \nL 808.545938 28.944 \n\" style=\"fill:#03051a;\"/>\n    <path clip-path=\"url(#pd8f3623311)\" d=\"M 830.865938 28.944 \nL 853.185938 28.944 \nL 853.185938 50.688 \nL 830.865938 50.688 \nL 830.865938 28.944 \n\" style=\"fill:#03051a;\"/>\n    <path clip-path=\"url(#pd8f3623311)\" d=\"M 853.185938 28.944 \nL 875.505938 28.944 \nL 875.505938 50.688 \nL 853.185938 50.688 \nL 853.185938 28.944 \n\" style=\"fill:#03051a;\"/>\n    <path clip-path=\"url(#pd8f3623311)\" d=\"M 875.505938 28.944 \nL 897.825938 28.944 \nL 897.825938 50.688 \nL 875.505938 50.688 \nL 875.505938 28.944 \n\" style=\"fill:#03051a;\"/>\n    <path clip-path=\"url(#pd8f3623311)\" d=\"M 897.825938 28.944 \nL 920.145938 28.944 \nL 920.145938 50.688 \nL 897.825938 50.688 \nL 897.825938 28.944 \n\" style=\"fill:#03051a;\"/>\n    <path clip-path=\"url(#pd8f3623311)\" d=\"M 696.945938 50.688 \nL 719.265938 50.688 \nL 719.265938 72.432 \nL 696.945938 72.432 \nL 696.945938 50.688 \n\" style=\"fill:#05061b;\"/>\n    <path clip-path=\"url(#pd8f3623311)\" d=\"M 719.265938 50.688 \nL 741.585938 50.688 \nL 741.585938 72.432 \nL 719.265938 72.432 \nL 719.265938 50.688 \n\" style=\"fill:#03051a;\"/>\n    <path clip-path=\"url(#pd8f3623311)\" d=\"M 741.585938 50.688 \nL 763.905938 50.688 \nL 763.905938 72.432 \nL 741.585938 72.432 \nL 741.585938 50.688 \n\" style=\"fill:#f6c19f;\"/>\n    <path clip-path=\"url(#pd8f3623311)\" d=\"M 763.905938 50.688 \nL 786.225938 50.688 \nL 786.225938 72.432 \nL 763.905938 72.432 \nL 763.905938 50.688 \n\" style=\"fill:#03051a;\"/>\n    <path clip-path=\"url(#pd8f3623311)\" d=\"M 786.225938 50.688 \nL 808.545938 50.688 \nL 808.545938 72.432 \nL 786.225938 72.432 \nL 786.225938 50.688 \n\" style=\"fill:#03051a;\"/>\n    <path clip-path=\"url(#pd8f3623311)\" d=\"M 808.545938 50.688 \nL 830.865938 50.688 \nL 830.865938 72.432 \nL 808.545938 72.432 \nL 808.545938 50.688 \n\" style=\"fill:#03051a;\"/>\n    <path clip-path=\"url(#pd8f3623311)\" d=\"M 830.865938 50.688 \nL 853.185938 50.688 \nL 853.185938 72.432 \nL 830.865938 72.432 \nL 830.865938 50.688 \n\" style=\"fill:#03051a;\"/>\n    <path clip-path=\"url(#pd8f3623311)\" d=\"M 853.185938 50.688 \nL 875.505938 50.688 \nL 875.505938 72.432 \nL 853.185938 72.432 \nL 853.185938 50.688 \n\" style=\"fill:#05061b;\"/>\n    <path clip-path=\"url(#pd8f3623311)\" d=\"M 875.505938 50.688 \nL 897.825938 50.688 \nL 897.825938 72.432 \nL 875.505938 72.432 \nL 875.505938 50.688 \n\" style=\"fill:#04051a;\"/>\n    <path clip-path=\"url(#pd8f3623311)\" d=\"M 897.825938 50.688 \nL 920.145938 50.688 \nL 920.145938 72.432 \nL 897.825938 72.432 \nL 897.825938 50.688 \n\" style=\"fill:#03051a;\"/>\n    <path clip-path=\"url(#pd8f3623311)\" d=\"M 696.945938 72.432 \nL 719.265938 72.432 \nL 719.265938 94.176 \nL 696.945938 94.176 \nL 696.945938 72.432 \n\" style=\"fill:#03051a;\"/>\n    <path clip-path=\"url(#pd8f3623311)\" d=\"M 719.265938 72.432 \nL 741.585938 72.432 \nL 741.585938 94.176 \nL 719.265938 94.176 \nL 719.265938 72.432 \n\" style=\"fill:#03051a;\"/>\n    <path clip-path=\"url(#pd8f3623311)\" d=\"M 741.585938 72.432 \nL 763.905938 72.432 \nL 763.905938 94.176 \nL 741.585938 94.176 \nL 741.585938 72.432 \n\" style=\"fill:#03051a;\"/>\n    <path clip-path=\"url(#pd8f3623311)\" d=\"M 763.905938 72.432 \nL 786.225938 72.432 \nL 786.225938 94.176 \nL 763.905938 94.176 \nL 763.905938 72.432 \n\" style=\"fill:#f6b995;\"/>\n    <path clip-path=\"url(#pd8f3623311)\" d=\"M 786.225938 72.432 \nL 808.545938 72.432 \nL 808.545938 94.176 \nL 786.225938 94.176 \nL 786.225938 72.432 \n\" style=\"fill:#03051a;\"/>\n    <path clip-path=\"url(#pd8f3623311)\" d=\"M 808.545938 72.432 \nL 830.865938 72.432 \nL 830.865938 94.176 \nL 808.545938 94.176 \nL 808.545938 72.432 \n\" style=\"fill:#05061b;\"/>\n    <path clip-path=\"url(#pd8f3623311)\" d=\"M 830.865938 72.432 \nL 853.185938 72.432 \nL 853.185938 94.176 \nL 830.865938 94.176 \nL 830.865938 72.432 \n\" style=\"fill:#03051a;\"/>\n    <path clip-path=\"url(#pd8f3623311)\" d=\"M 853.185938 72.432 \nL 875.505938 72.432 \nL 875.505938 94.176 \nL 853.185938 94.176 \nL 853.185938 72.432 \n\" style=\"fill:#04051a;\"/>\n    <path clip-path=\"url(#pd8f3623311)\" d=\"M 875.505938 72.432 \nL 897.825938 72.432 \nL 897.825938 94.176 \nL 875.505938 94.176 \nL 875.505938 72.432 \n\" style=\"fill:#03051a;\"/>\n    <path clip-path=\"url(#pd8f3623311)\" d=\"M 897.825938 72.432 \nL 920.145938 72.432 \nL 920.145938 94.176 \nL 897.825938 94.176 \nL 897.825938 72.432 \n\" style=\"fill:#04051a;\"/>\n    <path clip-path=\"url(#pd8f3623311)\" d=\"M 696.945938 94.176 \nL 719.265938 94.176 \nL 719.265938 115.92 \nL 696.945938 115.92 \nL 696.945938 94.176 \n\" style=\"fill:#03051a;\"/>\n    <path clip-path=\"url(#pd8f3623311)\" d=\"M 719.265938 94.176 \nL 741.585938 94.176 \nL 741.585938 115.92 \nL 719.265938 115.92 \nL 719.265938 94.176 \n\" style=\"fill:#03051a;\"/>\n    <path clip-path=\"url(#pd8f3623311)\" d=\"M 741.585938 94.176 \nL 763.905938 94.176 \nL 763.905938 115.92 \nL 741.585938 115.92 \nL 741.585938 94.176 \n\" style=\"fill:#03051a;\"/>\n    <path clip-path=\"url(#pd8f3623311)\" d=\"M 763.905938 94.176 \nL 786.225938 94.176 \nL 786.225938 115.92 \nL 763.905938 115.92 \nL 763.905938 94.176 \n\" style=\"fill:#03051a;\"/>\n    <path clip-path=\"url(#pd8f3623311)\" d=\"M 786.225938 94.176 \nL 808.545938 94.176 \nL 808.545938 115.92 \nL 786.225938 115.92 \nL 786.225938 94.176 \n\" style=\"fill:#f6ad85;\"/>\n    <path clip-path=\"url(#pd8f3623311)\" d=\"M 808.545938 94.176 \nL 830.865938 94.176 \nL 830.865938 115.92 \nL 808.545938 115.92 \nL 808.545938 94.176 \n\" style=\"fill:#03051a;\"/>\n    <path clip-path=\"url(#pd8f3623311)\" d=\"M 830.865938 94.176 \nL 853.185938 94.176 \nL 853.185938 115.92 \nL 830.865938 115.92 \nL 830.865938 94.176 \n\" style=\"fill:#04051a;\"/>\n    <path clip-path=\"url(#pd8f3623311)\" d=\"M 853.185938 94.176 \nL 875.505938 94.176 \nL 875.505938 115.92 \nL 853.185938 115.92 \nL 853.185938 94.176 \n\" style=\"fill:#03051a;\"/>\n    <path clip-path=\"url(#pd8f3623311)\" d=\"M 875.505938 94.176 \nL 897.825938 94.176 \nL 897.825938 115.92 \nL 875.505938 115.92 \nL 875.505938 94.176 \n\" style=\"fill:#03051a;\"/>\n    <path clip-path=\"url(#pd8f3623311)\" d=\"M 897.825938 94.176 \nL 920.145938 94.176 \nL 920.145938 115.92 \nL 897.825938 115.92 \nL 897.825938 94.176 \n\" style=\"fill:#0a091f;\"/>\n    <path clip-path=\"url(#pd8f3623311)\" d=\"M 696.945938 115.92 \nL 719.265938 115.92 \nL 719.265938 137.664 \nL 696.945938 137.664 \nL 696.945938 115.92 \n\" style=\"fill:#03051a;\"/>\n    <path clip-path=\"url(#pd8f3623311)\" d=\"M 719.265938 115.92 \nL 741.585938 115.92 \nL 741.585938 137.664 \nL 719.265938 137.664 \nL 719.265938 115.92 \n\" style=\"fill:#03051a;\"/>\n    <path clip-path=\"url(#pd8f3623311)\" d=\"M 741.585938 115.92 \nL 763.905938 115.92 \nL 763.905938 137.664 \nL 741.585938 137.664 \nL 741.585938 115.92 \n\" style=\"fill:#03051a;\"/>\n    <path clip-path=\"url(#pd8f3623311)\" d=\"M 763.905938 115.92 \nL 786.225938 115.92 \nL 786.225938 137.664 \nL 763.905938 137.664 \nL 763.905938 115.92 \n\" style=\"fill:#06071c;\"/>\n    <path clip-path=\"url(#pd8f3623311)\" d=\"M 786.225938 115.92 \nL 808.545938 115.92 \nL 808.545938 137.664 \nL 786.225938 137.664 \nL 786.225938 115.92 \n\" style=\"fill:#03051a;\"/>\n    <path clip-path=\"url(#pd8f3623311)\" d=\"M 808.545938 115.92 \nL 830.865938 115.92 \nL 830.865938 137.664 \nL 808.545938 137.664 \nL 808.545938 115.92 \n\" style=\"fill:#f58860;\"/>\n    <path clip-path=\"url(#pd8f3623311)\" d=\"M 830.865938 115.92 \nL 853.185938 115.92 \nL 853.185938 137.664 \nL 830.865938 137.664 \nL 830.865938 115.92 \n\" style=\"fill:#05061b;\"/>\n    <path clip-path=\"url(#pd8f3623311)\" d=\"M 853.185938 115.92 \nL 875.505938 115.92 \nL 875.505938 137.664 \nL 853.185938 137.664 \nL 853.185938 115.92 \n\" style=\"fill:#03051a;\"/>\n    <path clip-path=\"url(#pd8f3623311)\" d=\"M 875.505938 115.92 \nL 897.825938 115.92 \nL 897.825938 137.664 \nL 875.505938 137.664 \nL 875.505938 115.92 \n\" style=\"fill:#03051a;\"/>\n    <path clip-path=\"url(#pd8f3623311)\" d=\"M 897.825938 115.92 \nL 920.145938 115.92 \nL 920.145938 137.664 \nL 897.825938 137.664 \nL 897.825938 115.92 \n\" style=\"fill:#04051a;\"/>\n    <path clip-path=\"url(#pd8f3623311)\" d=\"M 696.945938 137.664 \nL 719.265938 137.664 \nL 719.265938 159.408 \nL 696.945938 159.408 \nL 696.945938 137.664 \n\" style=\"fill:#03051a;\"/>\n    <path clip-path=\"url(#pd8f3623311)\" d=\"M 719.265938 137.664 \nL 741.585938 137.664 \nL 741.585938 159.408 \nL 719.265938 159.408 \nL 719.265938 137.664 \n\" style=\"fill:#03051a;\"/>\n    <path clip-path=\"url(#pd8f3623311)\" d=\"M 741.585938 137.664 \nL 763.905938 137.664 \nL 763.905938 159.408 \nL 741.585938 159.408 \nL 741.585938 137.664 \n\" style=\"fill:#03051a;\"/>\n    <path clip-path=\"url(#pd8f3623311)\" d=\"M 763.905938 137.664 \nL 786.225938 137.664 \nL 786.225938 159.408 \nL 763.905938 159.408 \nL 763.905938 137.664 \n\" style=\"fill:#03051a;\"/>\n    <path clip-path=\"url(#pd8f3623311)\" d=\"M 786.225938 137.664 \nL 808.545938 137.664 \nL 808.545938 159.408 \nL 786.225938 159.408 \nL 786.225938 137.664 \n\" style=\"fill:#03051a;\"/>\n    <path clip-path=\"url(#pd8f3623311)\" d=\"M 808.545938 137.664 \nL 830.865938 137.664 \nL 830.865938 159.408 \nL 808.545938 159.408 \nL 808.545938 137.664 \n\" style=\"fill:#03051a;\"/>\n    <path clip-path=\"url(#pd8f3623311)\" d=\"M 830.865938 137.664 \nL 853.185938 137.664 \nL 853.185938 159.408 \nL 830.865938 159.408 \nL 830.865938 137.664 \n\" style=\"fill:#f6ad85;\"/>\n    <path clip-path=\"url(#pd8f3623311)\" d=\"M 853.185938 137.664 \nL 875.505938 137.664 \nL 875.505938 159.408 \nL 853.185938 159.408 \nL 853.185938 137.664 \n\" style=\"fill:#03051a;\"/>\n    <path clip-path=\"url(#pd8f3623311)\" d=\"M 875.505938 137.664 \nL 897.825938 137.664 \nL 897.825938 159.408 \nL 875.505938 159.408 \nL 875.505938 137.664 \n\" style=\"fill:#03051a;\"/>\n    <path clip-path=\"url(#pd8f3623311)\" d=\"M 897.825938 137.664 \nL 920.145938 137.664 \nL 920.145938 159.408 \nL 897.825938 159.408 \nL 897.825938 137.664 \n\" style=\"fill:#03051a;\"/>\n    <path clip-path=\"url(#pd8f3623311)\" d=\"M 696.945938 159.408 \nL 719.265938 159.408 \nL 719.265938 181.152 \nL 696.945938 181.152 \nL 696.945938 159.408 \n\" style=\"fill:#03051a;\"/>\n    <path clip-path=\"url(#pd8f3623311)\" d=\"M 719.265938 159.408 \nL 741.585938 159.408 \nL 741.585938 181.152 \nL 719.265938 181.152 \nL 719.265938 159.408 \n\" style=\"fill:#05061b;\"/>\n    <path clip-path=\"url(#pd8f3623311)\" d=\"M 741.585938 159.408 \nL 763.905938 159.408 \nL 763.905938 181.152 \nL 741.585938 181.152 \nL 741.585938 159.408 \n\" style=\"fill:#04051a;\"/>\n    <path clip-path=\"url(#pd8f3623311)\" d=\"M 763.905938 159.408 \nL 786.225938 159.408 \nL 786.225938 181.152 \nL 763.905938 181.152 \nL 763.905938 159.408 \n\" style=\"fill:#03051a;\"/>\n    <path clip-path=\"url(#pd8f3623311)\" d=\"M 786.225938 159.408 \nL 808.545938 159.408 \nL 808.545938 181.152 \nL 786.225938 181.152 \nL 786.225938 159.408 \n\" style=\"fill:#03051a;\"/>\n    <path clip-path=\"url(#pd8f3623311)\" d=\"M 808.545938 159.408 \nL 830.865938 159.408 \nL 830.865938 181.152 \nL 808.545938 181.152 \nL 808.545938 159.408 \n\" style=\"fill:#03051a;\"/>\n    <path clip-path=\"url(#pd8f3623311)\" d=\"M 830.865938 159.408 \nL 853.185938 159.408 \nL 853.185938 181.152 \nL 830.865938 181.152 \nL 830.865938 159.408 \n\" style=\"fill:#03051a;\"/>\n    <path clip-path=\"url(#pd8f3623311)\" d=\"M 853.185938 159.408 \nL 875.505938 159.408 \nL 875.505938 181.152 \nL 853.185938 181.152 \nL 853.185938 159.408 \n\" style=\"fill:#f6bf9d;\"/>\n    <path clip-path=\"url(#pd8f3623311)\" d=\"M 875.505938 159.408 \nL 897.825938 159.408 \nL 897.825938 181.152 \nL 875.505938 181.152 \nL 875.505938 159.408 \n\" style=\"fill:#03051a;\"/>\n    <path clip-path=\"url(#pd8f3623311)\" d=\"M 897.825938 159.408 \nL 920.145938 159.408 \nL 920.145938 181.152 \nL 897.825938 181.152 \nL 897.825938 159.408 \n\" style=\"fill:#05061b;\"/>\n    <path clip-path=\"url(#pd8f3623311)\" d=\"M 696.945938 181.152 \nL 719.265938 181.152 \nL 719.265938 202.896 \nL 696.945938 202.896 \nL 696.945938 181.152 \n\" style=\"fill:#03051a;\"/>\n    <path clip-path=\"url(#pd8f3623311)\" d=\"M 719.265938 181.152 \nL 741.585938 181.152 \nL 741.585938 202.896 \nL 719.265938 202.896 \nL 719.265938 181.152 \n\" style=\"fill:#03051a;\"/>\n    <path clip-path=\"url(#pd8f3623311)\" d=\"M 741.585938 181.152 \nL 763.905938 181.152 \nL 763.905938 202.896 \nL 741.585938 202.896 \nL 741.585938 181.152 \n\" style=\"fill:#03051a;\"/>\n    <path clip-path=\"url(#pd8f3623311)\" d=\"M 763.905938 181.152 \nL 786.225938 181.152 \nL 786.225938 202.896 \nL 763.905938 202.896 \nL 763.905938 181.152 \n\" style=\"fill:#05061b;\"/>\n    <path clip-path=\"url(#pd8f3623311)\" d=\"M 786.225938 181.152 \nL 808.545938 181.152 \nL 808.545938 202.896 \nL 786.225938 202.896 \nL 786.225938 181.152 \n\" style=\"fill:#03051a;\"/>\n    <path clip-path=\"url(#pd8f3623311)\" d=\"M 808.545938 181.152 \nL 830.865938 181.152 \nL 830.865938 202.896 \nL 808.545938 202.896 \nL 808.545938 181.152 \n\" style=\"fill:#04051a;\"/>\n    <path clip-path=\"url(#pd8f3623311)\" d=\"M 830.865938 181.152 \nL 853.185938 181.152 \nL 853.185938 202.896 \nL 830.865938 202.896 \nL 830.865938 181.152 \n\" style=\"fill:#04051a;\"/>\n    <path clip-path=\"url(#pd8f3623311)\" d=\"M 853.185938 181.152 \nL 875.505938 181.152 \nL 875.505938 202.896 \nL 853.185938 202.896 \nL 853.185938 181.152 \n\" style=\"fill:#03051a;\"/>\n    <path clip-path=\"url(#pd8f3623311)\" d=\"M 875.505938 181.152 \nL 897.825938 181.152 \nL 897.825938 202.896 \nL 875.505938 202.896 \nL 875.505938 181.152 \n\" style=\"fill:#f6a67e;\"/>\n    <path clip-path=\"url(#pd8f3623311)\" d=\"M 897.825938 181.152 \nL 920.145938 181.152 \nL 920.145938 202.896 \nL 897.825938 202.896 \nL 897.825938 181.152 \n\" style=\"fill:#04051a;\"/>\n    <path clip-path=\"url(#pd8f3623311)\" d=\"M 696.945938 202.896 \nL 719.265938 202.896 \nL 719.265938 224.64 \nL 696.945938 224.64 \nL 696.945938 202.896 \n\" style=\"fill:#04051a;\"/>\n    <path clip-path=\"url(#pd8f3623311)\" d=\"M 719.265938 202.896 \nL 741.585938 202.896 \nL 741.585938 224.64 \nL 719.265938 224.64 \nL 719.265938 202.896 \n\" style=\"fill:#04051a;\"/>\n    <path clip-path=\"url(#pd8f3623311)\" d=\"M 741.585938 202.896 \nL 763.905938 202.896 \nL 763.905938 224.64 \nL 741.585938 224.64 \nL 741.585938 202.896 \n\" style=\"fill:#03051a;\"/>\n    <path clip-path=\"url(#pd8f3623311)\" d=\"M 763.905938 202.896 \nL 786.225938 202.896 \nL 786.225938 224.64 \nL 763.905938 224.64 \nL 763.905938 202.896 \n\" style=\"fill:#04051a;\"/>\n    <path clip-path=\"url(#pd8f3623311)\" d=\"M 786.225938 202.896 \nL 808.545938 202.896 \nL 808.545938 224.64 \nL 786.225938 224.64 \nL 786.225938 202.896 \n\" style=\"fill:#04051a;\"/>\n    <path clip-path=\"url(#pd8f3623311)\" d=\"M 808.545938 202.896 \nL 830.865938 202.896 \nL 830.865938 224.64 \nL 808.545938 224.64 \nL 808.545938 202.896 \n\" style=\"fill:#03051a;\"/>\n    <path clip-path=\"url(#pd8f3623311)\" d=\"M 830.865938 202.896 \nL 853.185938 202.896 \nL 853.185938 224.64 \nL 830.865938 224.64 \nL 830.865938 202.896 \n\" style=\"fill:#03051a;\"/>\n    <path clip-path=\"url(#pd8f3623311)\" d=\"M 853.185938 202.896 \nL 875.505938 202.896 \nL 875.505938 224.64 \nL 853.185938 224.64 \nL 853.185938 202.896 \n\" style=\"fill:#03051a;\"/>\n    <path clip-path=\"url(#pd8f3623311)\" d=\"M 875.505938 202.896 \nL 897.825938 202.896 \nL 897.825938 224.64 \nL 875.505938 224.64 \nL 875.505938 202.896 \n\" style=\"fill:#03051a;\"/>\n    <path clip-path=\"url(#pd8f3623311)\" d=\"M 897.825938 202.896 \nL 920.145938 202.896 \nL 920.145938 224.64 \nL 897.825938 224.64 \nL 897.825938 202.896 \n\" style=\"fill:#f6b691;\"/>\n   </g>\n   <g id=\"text_273\">\n    <!-- 976 -->\n    <g style=\"fill:#262626;\" transform=\"translate(696.653437 21.38325)scale(0.12 -0.12)\">\n     <use xlink:href=\"#DejaVuSans-57\"/>\n     <use x=\"63.623047\" xlink:href=\"#DejaVuSans-55\"/>\n     <use x=\"127.246094\" xlink:href=\"#DejaVuSans-54\"/>\n    </g>\n   </g>\n   <g id=\"text_274\">\n    <!-- 1 -->\n    <g style=\"fill:#ffffff;\" transform=\"translate(726.608438 21.38325)scale(0.12 -0.12)\">\n     <use xlink:href=\"#DejaVuSans-49\"/>\n    </g>\n   </g>\n   <g id=\"text_275\">\n    <!-- 0 -->\n    <g style=\"fill:#ffffff;\" transform=\"translate(748.928438 21.38325)scale(0.12 -0.12)\">\n     <use xlink:href=\"#DejaVuSans-48\"/>\n    </g>\n   </g>\n   <g id=\"text_276\">\n    <!-- 0 -->\n    <g style=\"fill:#ffffff;\" transform=\"translate(771.248438 21.38325)scale(0.12 -0.12)\">\n     <use xlink:href=\"#DejaVuSans-48\"/>\n    </g>\n   </g>\n   <g id=\"text_277\">\n    <!-- 0 -->\n    <g style=\"fill:#ffffff;\" transform=\"translate(793.568438 21.38325)scale(0.12 -0.12)\">\n     <use xlink:href=\"#DejaVuSans-48\"/>\n    </g>\n   </g>\n   <g id=\"text_278\">\n    <!-- 0 -->\n    <g style=\"fill:#ffffff;\" transform=\"translate(815.888438 21.38325)scale(0.12 -0.12)\">\n     <use xlink:href=\"#DejaVuSans-48\"/>\n    </g>\n   </g>\n   <g id=\"text_279\">\n    <!-- 2 -->\n    <g style=\"fill:#ffffff;\" transform=\"translate(838.208438 21.38325)scale(0.12 -0.12)\">\n     <use xlink:href=\"#DejaVuSans-50\"/>\n    </g>\n   </g>\n   <g id=\"text_280\">\n    <!-- 1 -->\n    <g style=\"fill:#ffffff;\" transform=\"translate(860.528438 21.38325)scale(0.12 -0.12)\">\n     <use xlink:href=\"#DejaVuSans-49\"/>\n    </g>\n   </g>\n   <g id=\"text_281\">\n    <!-- 0 -->\n    <g style=\"fill:#ffffff;\" transform=\"translate(882.848438 21.38325)scale(0.12 -0.12)\">\n     <use xlink:href=\"#DejaVuSans-48\"/>\n    </g>\n   </g>\n   <g id=\"text_282\">\n    <!-- 0 -->\n    <g style=\"fill:#ffffff;\" transform=\"translate(905.168438 21.38325)scale(0.12 -0.12)\">\n     <use xlink:href=\"#DejaVuSans-48\"/>\n    </g>\n   </g>\n   <g id=\"text_283\">\n    <!-- 0 -->\n    <g style=\"fill:#ffffff;\" transform=\"translate(704.288437 43.12725)scale(0.12 -0.12)\">\n     <use xlink:href=\"#DejaVuSans-48\"/>\n    </g>\n   </g>\n   <g id=\"text_284\">\n    <!-- 1130 -->\n    <g style=\"fill:#262626;\" transform=\"translate(715.155938 43.12725)scale(0.12 -0.12)\">\n     <use xlink:href=\"#DejaVuSans-49\"/>\n     <use x=\"63.623047\" xlink:href=\"#DejaVuSans-49\"/>\n     <use x=\"127.246094\" xlink:href=\"#DejaVuSans-51\"/>\n     <use x=\"190.869141\" xlink:href=\"#DejaVuSans-48\"/>\n    </g>\n   </g>\n   <g id=\"text_285\">\n    <!-- 3 -->\n    <g style=\"fill:#ffffff;\" transform=\"translate(748.928438 43.12725)scale(0.12 -0.12)\">\n     <use xlink:href=\"#DejaVuSans-51\"/>\n    </g>\n   </g>\n   <g id=\"text_286\">\n    <!-- 1 -->\n    <g style=\"fill:#ffffff;\" transform=\"translate(771.248438 43.12725)scale(0.12 -0.12)\">\n     <use xlink:href=\"#DejaVuSans-49\"/>\n    </g>\n   </g>\n   <g id=\"text_287\">\n    <!-- 0 -->\n    <g style=\"fill:#ffffff;\" transform=\"translate(793.568438 43.12725)scale(0.12 -0.12)\">\n     <use xlink:href=\"#DejaVuSans-48\"/>\n    </g>\n   </g>\n   <g id=\"text_288\">\n    <!-- 0 -->\n    <g style=\"fill:#ffffff;\" transform=\"translate(815.888438 43.12725)scale(0.12 -0.12)\">\n     <use xlink:href=\"#DejaVuSans-48\"/>\n    </g>\n   </g>\n   <g id=\"text_289\">\n    <!-- 1 -->\n    <g style=\"fill:#ffffff;\" transform=\"translate(838.208438 43.12725)scale(0.12 -0.12)\">\n     <use xlink:href=\"#DejaVuSans-49\"/>\n    </g>\n   </g>\n   <g id=\"text_290\">\n    <!-- 0 -->\n    <g style=\"fill:#ffffff;\" transform=\"translate(860.528438 43.12725)scale(0.12 -0.12)\">\n     <use xlink:href=\"#DejaVuSans-48\"/>\n    </g>\n   </g>\n   <g id=\"text_291\">\n    <!-- 0 -->\n    <g style=\"fill:#ffffff;\" transform=\"translate(882.848438 43.12725)scale(0.12 -0.12)\">\n     <use xlink:href=\"#DejaVuSans-48\"/>\n    </g>\n   </g>\n   <g id=\"text_292\">\n    <!-- 0 -->\n    <g style=\"fill:#ffffff;\" transform=\"translate(905.168438 43.12725)scale(0.12 -0.12)\">\n     <use xlink:href=\"#DejaVuSans-48\"/>\n    </g>\n   </g>\n   <g id=\"text_293\">\n    <!-- 9 -->\n    <g style=\"fill:#ffffff;\" transform=\"translate(704.288437 64.87125)scale(0.12 -0.12)\">\n     <use xlink:href=\"#DejaVuSans-57\"/>\n    </g>\n   </g>\n   <g id=\"text_294\">\n    <!-- 2 -->\n    <g style=\"fill:#ffffff;\" transform=\"translate(726.608438 64.87125)scale(0.12 -0.12)\">\n     <use xlink:href=\"#DejaVuSans-50\"/>\n    </g>\n   </g>\n   <g id=\"text_295\">\n    <!-- 1004 -->\n    <g style=\"fill:#262626;\" transform=\"translate(737.475938 64.87125)scale(0.12 -0.12)\">\n     <use xlink:href=\"#DejaVuSans-49\"/>\n     <use x=\"63.623047\" xlink:href=\"#DejaVuSans-48\"/>\n     <use x=\"127.246094\" xlink:href=\"#DejaVuSans-48\"/>\n     <use x=\"190.869141\" xlink:href=\"#DejaVuSans-52\"/>\n    </g>\n   </g>\n   <g id=\"text_296\">\n    <!-- 2 -->\n    <g style=\"fill:#ffffff;\" transform=\"translate(771.248438 64.87125)scale(0.12 -0.12)\">\n     <use xlink:href=\"#DejaVuSans-50\"/>\n    </g>\n   </g>\n   <g id=\"text_297\">\n    <!-- 1 -->\n    <g style=\"fill:#ffffff;\" transform=\"translate(793.568438 64.87125)scale(0.12 -0.12)\">\n     <use xlink:href=\"#DejaVuSans-49\"/>\n    </g>\n   </g>\n   <g id=\"text_298\">\n    <!-- 0 -->\n    <g style=\"fill:#ffffff;\" transform=\"translate(815.888438 64.87125)scale(0.12 -0.12)\">\n     <use xlink:href=\"#DejaVuSans-48\"/>\n    </g>\n   </g>\n   <g id=\"text_299\">\n    <!-- 0 -->\n    <g style=\"fill:#ffffff;\" transform=\"translate(838.208438 64.87125)scale(0.12 -0.12)\">\n     <use xlink:href=\"#DejaVuSans-48\"/>\n    </g>\n   </g>\n   <g id=\"text_300\">\n    <!-- 9 -->\n    <g style=\"fill:#ffffff;\" transform=\"translate(860.528438 64.87125)scale(0.12 -0.12)\">\n     <use xlink:href=\"#DejaVuSans-57\"/>\n    </g>\n   </g>\n   <g id=\"text_301\">\n    <!-- 5 -->\n    <g style=\"fill:#ffffff;\" transform=\"translate(882.848438 64.87125)scale(0.12 -0.12)\">\n     <use xlink:href=\"#DejaVuSans-53\"/>\n    </g>\n   </g>\n   <g id=\"text_302\">\n    <!-- 0 -->\n    <g style=\"fill:#ffffff;\" transform=\"translate(905.168438 64.87125)scale(0.12 -0.12)\">\n     <use xlink:href=\"#DejaVuSans-48\"/>\n    </g>\n   </g>\n   <g id=\"text_303\">\n    <!-- 0 -->\n    <g style=\"fill:#ffffff;\" transform=\"translate(704.288437 86.61525)scale(0.12 -0.12)\">\n     <use xlink:href=\"#DejaVuSans-48\"/>\n    </g>\n   </g>\n   <g id=\"text_304\">\n    <!-- 1 -->\n    <g style=\"fill:#ffffff;\" transform=\"translate(726.608438 86.61525)scale(0.12 -0.12)\">\n     <use xlink:href=\"#DejaVuSans-49\"/>\n    </g>\n   </g>\n   <g id=\"text_305\">\n    <!-- 1 -->\n    <g style=\"fill:#ffffff;\" transform=\"translate(748.928438 86.61525)scale(0.12 -0.12)\">\n     <use xlink:href=\"#DejaVuSans-49\"/>\n    </g>\n   </g>\n   <g id=\"text_306\">\n    <!-- 982 -->\n    <g style=\"fill:#262626;\" transform=\"translate(763.613438 86.61525)scale(0.12 -0.12)\">\n     <use xlink:href=\"#DejaVuSans-57\"/>\n     <use x=\"63.623047\" xlink:href=\"#DejaVuSans-56\"/>\n     <use x=\"127.246094\" xlink:href=\"#DejaVuSans-50\"/>\n    </g>\n   </g>\n   <g id=\"text_307\">\n    <!-- 0 -->\n    <g style=\"fill:#ffffff;\" transform=\"translate(793.568438 86.61525)scale(0.12 -0.12)\">\n     <use xlink:href=\"#DejaVuSans-48\"/>\n    </g>\n   </g>\n   <g id=\"text_308\">\n    <!-- 11 -->\n    <g style=\"fill:#ffffff;\" transform=\"translate(812.070938 86.61525)scale(0.12 -0.12)\">\n     <use xlink:href=\"#DejaVuSans-49\"/>\n     <use x=\"63.623047\" xlink:href=\"#DejaVuSans-49\"/>\n    </g>\n   </g>\n   <g id=\"text_309\">\n    <!-- 0 -->\n    <g style=\"fill:#ffffff;\" transform=\"translate(838.208438 86.61525)scale(0.12 -0.12)\">\n     <use xlink:href=\"#DejaVuSans-48\"/>\n    </g>\n   </g>\n   <g id=\"text_310\">\n    <!-- 5 -->\n    <g style=\"fill:#ffffff;\" transform=\"translate(860.528438 86.61525)scale(0.12 -0.12)\">\n     <use xlink:href=\"#DejaVuSans-53\"/>\n    </g>\n   </g>\n   <g id=\"text_311\">\n    <!-- 4 -->\n    <g style=\"fill:#ffffff;\" transform=\"translate(882.848438 86.61525)scale(0.12 -0.12)\">\n     <use xlink:href=\"#DejaVuSans-52\"/>\n    </g>\n   </g>\n   <g id=\"text_312\">\n    <!-- 6 -->\n    <g style=\"fill:#ffffff;\" transform=\"translate(905.168438 86.61525)scale(0.12 -0.12)\">\n     <use xlink:href=\"#DejaVuSans-54\"/>\n    </g>\n   </g>\n   <g id=\"text_313\">\n    <!-- 0 -->\n    <g style=\"fill:#ffffff;\" transform=\"translate(704.288437 108.35925)scale(0.12 -0.12)\">\n     <use xlink:href=\"#DejaVuSans-48\"/>\n    </g>\n   </g>\n   <g id=\"text_314\">\n    <!-- 1 -->\n    <g style=\"fill:#ffffff;\" transform=\"translate(726.608438 108.35925)scale(0.12 -0.12)\">\n     <use xlink:href=\"#DejaVuSans-49\"/>\n    </g>\n   </g>\n   <g id=\"text_315\">\n    <!-- 0 -->\n    <g style=\"fill:#ffffff;\" transform=\"translate(748.928438 108.35925)scale(0.12 -0.12)\">\n     <use xlink:href=\"#DejaVuSans-48\"/>\n    </g>\n   </g>\n   <g id=\"text_316\">\n    <!-- 0 -->\n    <g style=\"fill:#ffffff;\" transform=\"translate(771.248438 108.35925)scale(0.12 -0.12)\">\n     <use xlink:href=\"#DejaVuSans-48\"/>\n    </g>\n   </g>\n   <g id=\"text_317\">\n    <!-- 947 -->\n    <g style=\"fill:#262626;\" transform=\"translate(785.933438 108.35925)scale(0.12 -0.12)\">\n     <use xlink:href=\"#DejaVuSans-57\"/>\n     <use x=\"63.623047\" xlink:href=\"#DejaVuSans-52\"/>\n     <use x=\"127.246094\" xlink:href=\"#DejaVuSans-55\"/>\n    </g>\n   </g>\n   <g id=\"text_318\">\n    <!-- 0 -->\n    <g style=\"fill:#ffffff;\" transform=\"translate(815.888438 108.35925)scale(0.12 -0.12)\">\n     <use xlink:href=\"#DejaVuSans-48\"/>\n    </g>\n   </g>\n   <g id=\"text_319\">\n    <!-- 5 -->\n    <g style=\"fill:#ffffff;\" transform=\"translate(838.208438 108.35925)scale(0.12 -0.12)\">\n     <use xlink:href=\"#DejaVuSans-53\"/>\n    </g>\n   </g>\n   <g id=\"text_320\">\n    <!-- 2 -->\n    <g style=\"fill:#ffffff;\" transform=\"translate(860.528438 108.35925)scale(0.12 -0.12)\">\n     <use xlink:href=\"#DejaVuSans-50\"/>\n    </g>\n   </g>\n   <g id=\"text_321\">\n    <!-- 0 -->\n    <g style=\"fill:#ffffff;\" transform=\"translate(882.848438 108.35925)scale(0.12 -0.12)\">\n     <use xlink:href=\"#DejaVuSans-48\"/>\n    </g>\n   </g>\n   <g id=\"text_322\">\n    <!-- 27 -->\n    <g style=\"fill:#ffffff;\" transform=\"translate(901.350938 108.35925)scale(0.12 -0.12)\">\n     <use xlink:href=\"#DejaVuSans-50\"/>\n     <use x=\"63.623047\" xlink:href=\"#DejaVuSans-55\"/>\n    </g>\n   </g>\n   <g id=\"text_323\">\n    <!-- 4 -->\n    <g style=\"fill:#ffffff;\" transform=\"translate(704.288437 130.10325)scale(0.12 -0.12)\">\n     <use xlink:href=\"#DejaVuSans-52\"/>\n    </g>\n   </g>\n   <g id=\"text_324\">\n    <!-- 0 -->\n    <g style=\"fill:#ffffff;\" transform=\"translate(726.608438 130.10325)scale(0.12 -0.12)\">\n     <use xlink:href=\"#DejaVuSans-48\"/>\n    </g>\n   </g>\n   <g id=\"text_325\">\n    <!-- 0 -->\n    <g style=\"fill:#ffffff;\" transform=\"translate(748.928438 130.10325)scale(0.12 -0.12)\">\n     <use xlink:href=\"#DejaVuSans-48\"/>\n    </g>\n   </g>\n   <g id=\"text_326\">\n    <!-- 14 -->\n    <g style=\"fill:#ffffff;\" transform=\"translate(767.430938 130.10325)scale(0.12 -0.12)\">\n     <use xlink:href=\"#DejaVuSans-49\"/>\n     <use x=\"63.623047\" xlink:href=\"#DejaVuSans-52\"/>\n    </g>\n   </g>\n   <g id=\"text_327\">\n    <!-- 1 -->\n    <g style=\"fill:#ffffff;\" transform=\"translate(793.568438 130.10325)scale(0.12 -0.12)\">\n     <use xlink:href=\"#DejaVuSans-49\"/>\n    </g>\n   </g>\n   <g id=\"text_328\">\n    <!-- 851 -->\n    <g style=\"fill:#ffffff;\" transform=\"translate(808.253438 130.10325)scale(0.12 -0.12)\">\n     <use xlink:href=\"#DejaVuSans-56\"/>\n     <use x=\"63.623047\" xlink:href=\"#DejaVuSans-53\"/>\n     <use x=\"127.246094\" xlink:href=\"#DejaVuSans-49\"/>\n    </g>\n   </g>\n   <g id=\"text_329\">\n    <!-- 12 -->\n    <g style=\"fill:#ffffff;\" transform=\"translate(834.390938 130.10325)scale(0.12 -0.12)\">\n     <use xlink:href=\"#DejaVuSans-49\"/>\n     <use x=\"63.623047\" xlink:href=\"#DejaVuSans-50\"/>\n    </g>\n   </g>\n   <g id=\"text_330\">\n    <!-- 1 -->\n    <g style=\"fill:#ffffff;\" transform=\"translate(860.528438 130.10325)scale(0.12 -0.12)\">\n     <use xlink:href=\"#DejaVuSans-49\"/>\n    </g>\n   </g>\n   <g id=\"text_331\">\n    <!-- 2 -->\n    <g style=\"fill:#ffffff;\" transform=\"translate(882.848438 130.10325)scale(0.12 -0.12)\">\n     <use xlink:href=\"#DejaVuSans-50\"/>\n    </g>\n   </g>\n   <g id=\"text_332\">\n    <!-- 7 -->\n    <g style=\"fill:#ffffff;\" transform=\"translate(905.168438 130.10325)scale(0.12 -0.12)\">\n     <use xlink:href=\"#DejaVuSans-55\"/>\n    </g>\n   </g>\n   <g id=\"text_333\">\n    <!-- 4 -->\n    <g style=\"fill:#ffffff;\" transform=\"translate(704.288437 151.84725)scale(0.12 -0.12)\">\n     <use xlink:href=\"#DejaVuSans-52\"/>\n    </g>\n   </g>\n   <g id=\"text_334\">\n    <!-- 2 -->\n    <g style=\"fill:#ffffff;\" transform=\"translate(726.608438 151.84725)scale(0.12 -0.12)\">\n     <use xlink:href=\"#DejaVuSans-50\"/>\n    </g>\n   </g>\n   <g id=\"text_335\">\n    <!-- 0 -->\n    <g style=\"fill:#ffffff;\" transform=\"translate(748.928438 151.84725)scale(0.12 -0.12)\">\n     <use xlink:href=\"#DejaVuSans-48\"/>\n    </g>\n   </g>\n   <g id=\"text_336\">\n    <!-- 0 -->\n    <g style=\"fill:#ffffff;\" transform=\"translate(771.248438 151.84725)scale(0.12 -0.12)\">\n     <use xlink:href=\"#DejaVuSans-48\"/>\n    </g>\n   </g>\n   <g id=\"text_337\">\n    <!-- 3 -->\n    <g style=\"fill:#ffffff;\" transform=\"translate(793.568438 151.84725)scale(0.12 -0.12)\">\n     <use xlink:href=\"#DejaVuSans-51\"/>\n    </g>\n   </g>\n   <g id=\"text_338\">\n    <!-- 1 -->\n    <g style=\"fill:#ffffff;\" transform=\"translate(815.888438 151.84725)scale(0.12 -0.12)\">\n     <use xlink:href=\"#DejaVuSans-49\"/>\n    </g>\n   </g>\n   <g id=\"text_339\">\n    <!-- 947 -->\n    <g style=\"fill:#262626;\" transform=\"translate(830.573438 151.84725)scale(0.12 -0.12)\">\n     <use xlink:href=\"#DejaVuSans-57\"/>\n     <use x=\"63.623047\" xlink:href=\"#DejaVuSans-52\"/>\n     <use x=\"127.246094\" xlink:href=\"#DejaVuSans-55\"/>\n    </g>\n   </g>\n   <g id=\"text_340\">\n    <!-- 0 -->\n    <g style=\"fill:#ffffff;\" transform=\"translate(860.528438 151.84725)scale(0.12 -0.12)\">\n     <use xlink:href=\"#DejaVuSans-48\"/>\n    </g>\n   </g>\n   <g id=\"text_341\">\n    <!-- 1 -->\n    <g style=\"fill:#ffffff;\" transform=\"translate(882.848438 151.84725)scale(0.12 -0.12)\">\n     <use xlink:href=\"#DejaVuSans-49\"/>\n    </g>\n   </g>\n   <g id=\"text_342\">\n    <!-- 0 -->\n    <g style=\"fill:#ffffff;\" transform=\"translate(905.168438 151.84725)scale(0.12 -0.12)\">\n     <use xlink:href=\"#DejaVuSans-48\"/>\n    </g>\n   </g>\n   <g id=\"text_343\">\n    <!-- 1 -->\n    <g style=\"fill:#ffffff;\" transform=\"translate(704.288437 173.59125)scale(0.12 -0.12)\">\n     <use xlink:href=\"#DejaVuSans-49\"/>\n    </g>\n   </g>\n   <g id=\"text_344\">\n    <!-- 10 -->\n    <g style=\"fill:#ffffff;\" transform=\"translate(722.790938 173.59125)scale(0.12 -0.12)\">\n     <use xlink:href=\"#DejaVuSans-49\"/>\n     <use x=\"63.623047\" xlink:href=\"#DejaVuSans-48\"/>\n    </g>\n   </g>\n   <g id=\"text_345\">\n    <!-- 7 -->\n    <g style=\"fill:#ffffff;\" transform=\"translate(748.928438 173.59125)scale(0.12 -0.12)\">\n     <use xlink:href=\"#DejaVuSans-55\"/>\n    </g>\n   </g>\n   <g id=\"text_346\">\n    <!-- 0 -->\n    <g style=\"fill:#ffffff;\" transform=\"translate(771.248438 173.59125)scale(0.12 -0.12)\">\n     <use xlink:href=\"#DejaVuSans-48\"/>\n    </g>\n   </g>\n   <g id=\"text_347\">\n    <!-- 2 -->\n    <g style=\"fill:#ffffff;\" transform=\"translate(793.568438 173.59125)scale(0.12 -0.12)\">\n     <use xlink:href=\"#DejaVuSans-50\"/>\n    </g>\n   </g>\n   <g id=\"text_348\">\n    <!-- 0 -->\n    <g style=\"fill:#ffffff;\" transform=\"translate(815.888438 173.59125)scale(0.12 -0.12)\">\n     <use xlink:href=\"#DejaVuSans-48\"/>\n    </g>\n   </g>\n   <g id=\"text_349\">\n    <!-- 0 -->\n    <g style=\"fill:#ffffff;\" transform=\"translate(838.208438 173.59125)scale(0.12 -0.12)\">\n     <use xlink:href=\"#DejaVuSans-48\"/>\n    </g>\n   </g>\n   <g id=\"text_350\">\n    <!-- 998 -->\n    <g style=\"fill:#262626;\" transform=\"translate(852.893438 173.59125)scale(0.12 -0.12)\">\n     <use xlink:href=\"#DejaVuSans-57\"/>\n     <use x=\"63.623047\" xlink:href=\"#DejaVuSans-57\"/>\n     <use x=\"127.246094\" xlink:href=\"#DejaVuSans-56\"/>\n    </g>\n   </g>\n   <g id=\"text_351\">\n    <!-- 0 -->\n    <g style=\"fill:#ffffff;\" transform=\"translate(882.848438 173.59125)scale(0.12 -0.12)\">\n     <use xlink:href=\"#DejaVuSans-48\"/>\n    </g>\n   </g>\n   <g id=\"text_352\">\n    <!-- 10 -->\n    <g style=\"fill:#ffffff;\" transform=\"translate(901.350938 173.59125)scale(0.12 -0.12)\">\n     <use xlink:href=\"#DejaVuSans-49\"/>\n     <use x=\"63.623047\" xlink:href=\"#DejaVuSans-48\"/>\n    </g>\n   </g>\n   <g id=\"text_353\">\n    <!-- 4 -->\n    <g style=\"fill:#ffffff;\" transform=\"translate(704.288437 195.33525)scale(0.12 -0.12)\">\n     <use xlink:href=\"#DejaVuSans-52\"/>\n    </g>\n   </g>\n   <g id=\"text_354\">\n    <!-- 0 -->\n    <g style=\"fill:#ffffff;\" transform=\"translate(726.608438 195.33525)scale(0.12 -0.12)\">\n     <use xlink:href=\"#DejaVuSans-48\"/>\n    </g>\n   </g>\n   <g id=\"text_355\">\n    <!-- 2 -->\n    <g style=\"fill:#ffffff;\" transform=\"translate(748.928438 195.33525)scale(0.12 -0.12)\">\n     <use xlink:href=\"#DejaVuSans-50\"/>\n    </g>\n   </g>\n   <g id=\"text_356\">\n    <!-- 11 -->\n    <g style=\"fill:#ffffff;\" transform=\"translate(767.430938 195.33525)scale(0.12 -0.12)\">\n     <use xlink:href=\"#DejaVuSans-49\"/>\n     <use x=\"63.623047\" xlink:href=\"#DejaVuSans-49\"/>\n    </g>\n   </g>\n   <g id=\"text_357\">\n    <!-- 2 -->\n    <g style=\"fill:#ffffff;\" transform=\"translate(793.568438 195.33525)scale(0.12 -0.12)\">\n     <use xlink:href=\"#DejaVuSans-50\"/>\n    </g>\n   </g>\n   <g id=\"text_358\">\n    <!-- 7 -->\n    <g style=\"fill:#ffffff;\" transform=\"translate(815.888438 195.33525)scale(0.12 -0.12)\">\n     <use xlink:href=\"#DejaVuSans-55\"/>\n    </g>\n   </g>\n   <g id=\"text_359\">\n    <!-- 6 -->\n    <g style=\"fill:#ffffff;\" transform=\"translate(838.208438 195.33525)scale(0.12 -0.12)\">\n     <use xlink:href=\"#DejaVuSans-54\"/>\n    </g>\n   </g>\n   <g id=\"text_360\">\n    <!-- 4 -->\n    <g style=\"fill:#ffffff;\" transform=\"translate(860.528438 195.33525)scale(0.12 -0.12)\">\n     <use xlink:href=\"#DejaVuSans-52\"/>\n    </g>\n   </g>\n   <g id=\"text_361\">\n    <!-- 931 -->\n    <g style=\"fill:#262626;\" transform=\"translate(875.213438 195.33525)scale(0.12 -0.12)\">\n     <use xlink:href=\"#DejaVuSans-57\"/>\n     <use x=\"63.623047\" xlink:href=\"#DejaVuSans-51\"/>\n     <use x=\"127.246094\" xlink:href=\"#DejaVuSans-49\"/>\n    </g>\n   </g>\n   <g id=\"text_362\">\n    <!-- 7 -->\n    <g style=\"fill:#ffffff;\" transform=\"translate(905.168438 195.33525)scale(0.12 -0.12)\">\n     <use xlink:href=\"#DejaVuSans-55\"/>\n    </g>\n   </g>\n   <g id=\"text_363\">\n    <!-- 5 -->\n    <g style=\"fill:#ffffff;\" transform=\"translate(704.288437 217.07925)scale(0.12 -0.12)\">\n     <use xlink:href=\"#DejaVuSans-53\"/>\n    </g>\n   </g>\n   <g id=\"text_364\">\n    <!-- 5 -->\n    <g style=\"fill:#ffffff;\" transform=\"translate(726.608438 217.07925)scale(0.12 -0.12)\">\n     <use xlink:href=\"#DejaVuSans-53\"/>\n    </g>\n   </g>\n   <g id=\"text_365\">\n    <!-- 3 -->\n    <g style=\"fill:#ffffff;\" transform=\"translate(748.928438 217.07925)scale(0.12 -0.12)\">\n     <use xlink:href=\"#DejaVuSans-51\"/>\n    </g>\n   </g>\n   <g id=\"text_366\">\n    <!-- 5 -->\n    <g style=\"fill:#ffffff;\" transform=\"translate(771.248438 217.07925)scale(0.12 -0.12)\">\n     <use xlink:href=\"#DejaVuSans-53\"/>\n    </g>\n   </g>\n   <g id=\"text_367\">\n    <!-- 6 -->\n    <g style=\"fill:#ffffff;\" transform=\"translate(793.568438 217.07925)scale(0.12 -0.12)\">\n     <use xlink:href=\"#DejaVuSans-54\"/>\n    </g>\n   </g>\n   <g id=\"text_368\">\n    <!-- 2 -->\n    <g style=\"fill:#ffffff;\" transform=\"translate(815.888438 217.07925)scale(0.12 -0.12)\">\n     <use xlink:href=\"#DejaVuSans-50\"/>\n    </g>\n   </g>\n   <g id=\"text_369\">\n    <!-- 1 -->\n    <g style=\"fill:#ffffff;\" transform=\"translate(838.208438 217.07925)scale(0.12 -0.12)\">\n     <use xlink:href=\"#DejaVuSans-49\"/>\n    </g>\n   </g>\n   <g id=\"text_370\">\n    <!-- 4 -->\n    <g style=\"fill:#ffffff;\" transform=\"translate(860.528438 217.07925)scale(0.12 -0.12)\">\n     <use xlink:href=\"#DejaVuSans-52\"/>\n    </g>\n   </g>\n   <g id=\"text_371\">\n    <!-- 3 -->\n    <g style=\"fill:#ffffff;\" transform=\"translate(882.848438 217.07925)scale(0.12 -0.12)\">\n     <use xlink:href=\"#DejaVuSans-51\"/>\n    </g>\n   </g>\n   <g id=\"text_372\">\n    <!-- 975 -->\n    <g style=\"fill:#262626;\" transform=\"translate(897.533438 217.07925)scale(0.12 -0.12)\">\n     <use xlink:href=\"#DejaVuSans-57\"/>\n     <use x=\"63.623047\" xlink:href=\"#DejaVuSans-55\"/>\n     <use x=\"127.246094\" xlink:href=\"#DejaVuSans-53\"/>\n    </g>\n   </g>\n  </g>\n  <g id=\"axes_6\">\n   <g id=\"patch_9\">\n    <path clip-path=\"url(#p75ef984a34)\" d=\"M 934.095938 224.64 \nL 934.095938 223.790625 \nL 934.095938 8.049375 \nL 934.095938 7.2 \nL 944.967938 7.2 \nL 944.967938 8.049375 \nL 944.967938 223.790625 \nL 944.967938 224.64 \nz\n\" style=\"fill:#eaeaf2;stroke:#eaeaf2;stroke-linejoin:miter;stroke-width:0.01;\"/>\n   </g>\n   <g id=\"matplotlib.axis_11\"/>\n   <g id=\"matplotlib.axis_12\">\n    <g id=\"ytick_43\">\n     <g id=\"line2d_13\">\n      <g>\n       <use style=\"fill:#262626;stroke:#262626;stroke-width:1.25;\" x=\"944.967938\" xlink:href=\"#m660eb104a9\" y=\"224.64\"/>\n      </g>\n     </g>\n     <g id=\"text_373\">\n      <!-- 0 -->\n      <g style=\"fill:#262626;\" transform=\"translate(954.467938 228.819141)scale(0.11 -0.11)\">\n       <use xlink:href=\"#DejaVuSans-48\"/>\n      </g>\n     </g>\n    </g>\n    <g id=\"ytick_44\">\n     <g id=\"line2d_14\">\n      <g>\n       <use style=\"fill:#262626;stroke:#262626;stroke-width:1.25;\" x=\"944.967938\" xlink:href=\"#m660eb104a9\" y=\"186.155044\"/>\n      </g>\n     </g>\n     <g id=\"text_374\">\n      <!-- 200 -->\n      <g style=\"fill:#262626;\" transform=\"translate(954.467938 190.334185)scale(0.11 -0.11)\">\n       <use xlink:href=\"#DejaVuSans-50\"/>\n       <use x=\"63.623047\" xlink:href=\"#DejaVuSans-48\"/>\n       <use x=\"127.246094\" xlink:href=\"#DejaVuSans-48\"/>\n      </g>\n     </g>\n    </g>\n    <g id=\"ytick_45\">\n     <g id=\"line2d_15\">\n      <g>\n       <use style=\"fill:#262626;stroke:#262626;stroke-width:1.25;\" x=\"944.967938\" xlink:href=\"#m660eb104a9\" y=\"147.670088\"/>\n      </g>\n     </g>\n     <g id=\"text_375\">\n      <!-- 400 -->\n      <g style=\"fill:#262626;\" transform=\"translate(954.467938 151.849229)scale(0.11 -0.11)\">\n       <use xlink:href=\"#DejaVuSans-52\"/>\n       <use x=\"63.623047\" xlink:href=\"#DejaVuSans-48\"/>\n       <use x=\"127.246094\" xlink:href=\"#DejaVuSans-48\"/>\n      </g>\n     </g>\n    </g>\n    <g id=\"ytick_46\">\n     <g id=\"line2d_16\">\n      <g>\n       <use style=\"fill:#262626;stroke:#262626;stroke-width:1.25;\" x=\"944.967938\" xlink:href=\"#m660eb104a9\" y=\"109.185133\"/>\n      </g>\n     </g>\n     <g id=\"text_376\">\n      <!-- 600 -->\n      <g style=\"fill:#262626;\" transform=\"translate(954.467938 113.364273)scale(0.11 -0.11)\">\n       <use xlink:href=\"#DejaVuSans-54\"/>\n       <use x=\"63.623047\" xlink:href=\"#DejaVuSans-48\"/>\n       <use x=\"127.246094\" xlink:href=\"#DejaVuSans-48\"/>\n      </g>\n     </g>\n    </g>\n    <g id=\"ytick_47\">\n     <g id=\"line2d_17\">\n      <g>\n       <use style=\"fill:#262626;stroke:#262626;stroke-width:1.25;\" x=\"944.967938\" xlink:href=\"#m660eb104a9\" y=\"70.700177\"/>\n      </g>\n     </g>\n     <g id=\"text_377\">\n      <!-- 800 -->\n      <g style=\"fill:#262626;\" transform=\"translate(954.467938 74.879318)scale(0.11 -0.11)\">\n       <use xlink:href=\"#DejaVuSans-56\"/>\n       <use x=\"63.623047\" xlink:href=\"#DejaVuSans-48\"/>\n       <use x=\"127.246094\" xlink:href=\"#DejaVuSans-48\"/>\n      </g>\n     </g>\n    </g>\n    <g id=\"ytick_48\">\n     <g id=\"line2d_18\">\n      <g>\n       <use style=\"fill:#262626;stroke:#262626;stroke-width:1.25;\" x=\"944.967938\" xlink:href=\"#m660eb104a9\" y=\"32.215221\"/>\n      </g>\n     </g>\n     <g id=\"text_378\">\n      <!-- 1000 -->\n      <g style=\"fill:#262626;\" transform=\"translate(954.467938 36.394362)scale(0.11 -0.11)\">\n       <use xlink:href=\"#DejaVuSans-49\"/>\n       <use x=\"63.623047\" xlink:href=\"#DejaVuSans-48\"/>\n       <use x=\"127.246094\" xlink:href=\"#DejaVuSans-48\"/>\n       <use x=\"190.869141\" xlink:href=\"#DejaVuSans-48\"/>\n      </g>\n     </g>\n    </g>\n   </g>\n   <image height=\"218\" id=\"imagef7c4a5ab92\" transform=\"scale(1 -1)translate(0 -218)\" width=\"11\" x=\"934\" xlink:href=\"data:image/png;base64,\niVBORw0KGgoAAAANSUhEUgAAAAsAAADaCAYAAABwzrisAAAABHNCSVQICAgIfAhkiAAAAWRJREFUaIHt2kGKgzEMg9E4Ti8x9z/n/N12mTcg8EC7FuKz7LhpaPXr51mXn1O3yrXW2Xvfi2vde58qEG8RE0ZLgXtIgeQszLskjRnMyTRaxKkRDQ5/rt1U4JR2z1gFueiupTwbM9LA4R+BcZ9yNOeOTR0VGNwbgnGCuw4wcs7/s93kDOITG6RkdCA+zwiM4K4T53P9YylcoIhjzEfEJRhD0ri/xEdz3uve2jBs8z+CIc5D0ihxtuEn5qAziBtOLDKTs4htkMS59y9gAEcyjRhGdywNOLHB6HYLhjFfa9U5hrHh3mNNgacCTgOcF80GrH7EsDRizlYgXLaxwJTzEueCbxV0tgJjGA3vdYiRcg5G1/B0j8yxnOXF1ZzhN1AQIxidtVsw5CUQT0oujfvVj2fQZiMmpqZIGlOYyTlXYK7dOedvGh/i6lfIeUoaMwos+atAMg0a/tytgKL7FvhHZxl+edtbb2flKyWOo4sRAAAAAElFTkSuQmCC\" y=\"-6\"/>\n   <g id=\"patch_10\">\n    <path d=\"M 934.095938 224.64 \nL 934.095938 223.790625 \nL 934.095938 8.049375 \nL 934.095938 7.2 \nL 944.967938 7.2 \nL 944.967938 8.049375 \nL 944.967938 223.790625 \nL 944.967938 224.64 \nz\n\" style=\"fill:none;\"/>\n   </g>\n  </g>\n </g>\n <defs>\n  <clipPath id=\"pfbc445b1f9\">\n   <rect height=\"217.44\" width=\"223.2\" x=\"27.345938\" y=\"7.2\"/>\n  </clipPath>\n  <clipPath id=\"pdcba49e282\">\n   <rect height=\"217.44\" width=\"10.872\" x=\"264.495938\" y=\"7.2\"/>\n  </clipPath>\n  <clipPath id=\"p805661d64a\">\n   <rect height=\"217.44\" width=\"223.2\" x=\"362.145938\" y=\"7.2\"/>\n  </clipPath>\n  <clipPath id=\"pf5456be299\">\n   <rect height=\"217.44\" width=\"10.872\" x=\"599.295938\" y=\"7.2\"/>\n  </clipPath>\n  <clipPath id=\"pd8f3623311\">\n   <rect height=\"217.44\" width=\"223.2\" x=\"696.945938\" y=\"7.2\"/>\n  </clipPath>\n  <clipPath id=\"p75ef984a34\">\n   <rect height=\"217.44\" width=\"10.872\" x=\"934.095938\" y=\"7.2\"/>\n  </clipPath>\n </defs>\n</svg>\n"
          },
          "metadata": {}
        }
      ]
    },
    {
      "cell_type": "code",
      "metadata": {
        "colab": {
          "base_uri": "https://localhost:8080/",
          "height": 83,
          "referenced_widgets": [
            "d09b849f99b6473680af626d36a4a4d1",
            "cafa7af0b6624acab200d1d681f4f7f7",
            "b14cc51f9fc44dc4b18abed4b852ef7d",
            "d36125179bd2485cb3abca17139bf2e3",
            "05123ed0d0734ac29d136861197ecc88",
            "8f5b2e8fb32a4a76bbfc646c8e343798",
            "de7e948a633944648db12ec5018125d4",
            "98927167715b4bf0851847fd4c0125b7",
            "0243ad59ac4e4b1682656574dbc177bc",
            "6b95633794de400eba34adb8c0fc2224",
            "416013aec04c4a6695a2eaae562c603b"
          ]
        },
        "id": "s3CdNFMiGBdD",
        "outputId": "0a09ed1f-d64b-49c1-ad04-29505fce80dc"
      },
      "source": [
        "clf1 = nearest_neighbors.KNNClassifier(**params)\n",
        "data_augmented, target_augmented = get_augmented_dataset(data, target, shift_list=[-1, 1], rotate_list=[15, -15], sigma_list=[1.5])\n",
        "clf1.fit(data, target)\n",
        "pred1 = clf1.predict(data_test)\n",
        "cf_matrix1 = confusion_matrix(target_test, pred1, labels=np.unique(target))\n",
        "print(\"without augmentation: \", cross_validation.accuracy(pred1, target_test))\n",
        "\n",
        "clf1 = nearest_neighbors.KNNClassifier(**params)\n",
        "clf1.fit(data_augmented, target_augmented)\n",
        "pred1 = clf1.predict(data_test)\n",
        "cf_matrix2 = confusion_matrix(target_test, pred1, labels=np.unique(target))\n",
        "print(\"with augmentation: \", cross_validation.accuracy(pred1, target_test))"
      ],
      "execution_count": 27,
      "outputs": [
        {
          "output_type": "display_data",
          "data": {
            "application/vnd.jupyter.widget-view+json": {
              "model_id": "d09b849f99b6473680af626d36a4a4d1",
              "version_minor": 0,
              "version_major": 2
            },
            "text/plain": [
              "0it [00:00, ?it/s]"
            ]
          },
          "metadata": {}
        },
        {
          "output_type": "stream",
          "name": "stdout",
          "text": [
            "without augmentation:  0.9742\n",
            "with augmentation:  0.9808\n"
          ]
        }
      ]
    },
    {
      "cell_type": "code",
      "metadata": {
        "colab": {
          "base_uri": "https://localhost:8080/",
          "height": 378
        },
        "id": "PoLS81m3ZlAl",
        "outputId": "6a107dc6-dafd-4043-975d-5abf3a570e9e"
      },
      "source": [
        "sns.heatmap(cf_matrix2-cf_matrix1, annot=True, fmt='', )\n",
        "plt.xlabel('accuracy: 0.9808')\n",
        "plt.savefig('task51.pdf')\n",
        "plt.show()"
      ],
      "execution_count": 91,
      "outputs": [
        {
          "output_type": "display_data",
          "data": {
            "text/plain": [
              "<Figure size 432x288 with 2 Axes>"
            ],
            "image/svg+xml": "<?xml version=\"1.0\" encoding=\"utf-8\" standalone=\"no\"?>\n<!DOCTYPE svg PUBLIC \"-//W3C//DTD SVG 1.1//EN\"\n  \"http://www.w3.org/Graphics/SVG/1.1/DTD/svg11.dtd\">\n<!-- Created with matplotlib (https://matplotlib.org/) -->\n<svg height=\"267.599687pt\" version=\"1.1\" viewBox=\"0 0 355.714344 267.599687\" width=\"355.714344pt\" xmlns=\"http://www.w3.org/2000/svg\" xmlns:xlink=\"http://www.w3.org/1999/xlink\">\n <defs>\n  <style type=\"text/css\">\n*{stroke-linecap:butt;stroke-linejoin:round;}\n  </style>\n </defs>\n <g id=\"figure_1\">\n  <g id=\"patch_1\">\n   <path d=\"M 0 267.599687 \nL 355.714344 267.599687 \nL 355.714344 0 \nL 0 0 \nz\n\" style=\"fill:#ffffff;\"/>\n  </g>\n  <g id=\"axes_1\">\n   <g id=\"patch_2\">\n    <path d=\"M 27.345938 224.64 \nL 295.185938 224.64 \nL 295.185938 7.2 \nL 27.345938 7.2 \nz\n\" style=\"fill:#eaeaf2;\"/>\n   </g>\n   <g id=\"matplotlib.axis_1\">\n    <g id=\"xtick_1\">\n     <g id=\"text_1\">\n      <!-- 0 -->\n      <defs>\n       <path d=\"M 31.78125 66.40625 \nQ 24.171875 66.40625 20.328125 58.90625 \nQ 16.5 51.421875 16.5 36.375 \nQ 16.5 21.390625 20.328125 13.890625 \nQ 24.171875 6.390625 31.78125 6.390625 \nQ 39.453125 6.390625 43.28125 13.890625 \nQ 47.125 21.390625 47.125 36.375 \nQ 47.125 51.421875 43.28125 58.90625 \nQ 39.453125 66.40625 31.78125 66.40625 \nz\nM 31.78125 74.21875 \nQ 44.046875 74.21875 50.515625 64.515625 \nQ 56.984375 54.828125 56.984375 36.375 \nQ 56.984375 17.96875 50.515625 8.265625 \nQ 44.046875 -1.421875 31.78125 -1.421875 \nQ 19.53125 -1.421875 13.0625 8.265625 \nQ 6.59375 17.96875 6.59375 36.375 \nQ 6.59375 54.828125 13.0625 64.515625 \nQ 19.53125 74.21875 31.78125 74.21875 \nz\n\" id=\"DejaVuSans-48\"/>\n      </defs>\n      <g style=\"fill:#262626;\" transform=\"translate(37.238563 242.498281)scale(0.11 -0.11)\">\n       <use xlink:href=\"#DejaVuSans-48\"/>\n      </g>\n     </g>\n    </g>\n    <g id=\"xtick_2\">\n     <g id=\"text_2\">\n      <!-- 1 -->\n      <defs>\n       <path d=\"M 12.40625 8.296875 \nL 28.515625 8.296875 \nL 28.515625 63.921875 \nL 10.984375 60.40625 \nL 10.984375 69.390625 \nL 28.421875 72.90625 \nL 38.28125 72.90625 \nL 38.28125 8.296875 \nL 54.390625 8.296875 \nL 54.390625 0 \nL 12.40625 0 \nz\n\" id=\"DejaVuSans-49\"/>\n      </defs>\n      <g style=\"fill:#262626;\" transform=\"translate(64.022563 242.498281)scale(0.11 -0.11)\">\n       <use xlink:href=\"#DejaVuSans-49\"/>\n      </g>\n     </g>\n    </g>\n    <g id=\"xtick_3\">\n     <g id=\"text_3\">\n      <!-- 2 -->\n      <defs>\n       <path d=\"M 19.1875 8.296875 \nL 53.609375 8.296875 \nL 53.609375 0 \nL 7.328125 0 \nL 7.328125 8.296875 \nQ 12.9375 14.109375 22.625 23.890625 \nQ 32.328125 33.6875 34.8125 36.53125 \nQ 39.546875 41.84375 41.421875 45.53125 \nQ 43.3125 49.21875 43.3125 52.78125 \nQ 43.3125 58.59375 39.234375 62.25 \nQ 35.15625 65.921875 28.609375 65.921875 \nQ 23.96875 65.921875 18.8125 64.3125 \nQ 13.671875 62.703125 7.8125 59.421875 \nL 7.8125 69.390625 \nQ 13.765625 71.78125 18.9375 73 \nQ 24.125 74.21875 28.421875 74.21875 \nQ 39.75 74.21875 46.484375 68.546875 \nQ 53.21875 62.890625 53.21875 53.421875 \nQ 53.21875 48.921875 51.53125 44.890625 \nQ 49.859375 40.875 45.40625 35.40625 \nQ 44.1875 33.984375 37.640625 27.21875 \nQ 31.109375 20.453125 19.1875 8.296875 \nz\n\" id=\"DejaVuSans-50\"/>\n      </defs>\n      <g style=\"fill:#262626;\" transform=\"translate(90.806563 242.498281)scale(0.11 -0.11)\">\n       <use xlink:href=\"#DejaVuSans-50\"/>\n      </g>\n     </g>\n    </g>\n    <g id=\"xtick_4\">\n     <g id=\"text_4\">\n      <!-- 3 -->\n      <defs>\n       <path d=\"M 40.578125 39.3125 \nQ 47.65625 37.796875 51.625 33 \nQ 55.609375 28.21875 55.609375 21.1875 \nQ 55.609375 10.40625 48.1875 4.484375 \nQ 40.765625 -1.421875 27.09375 -1.421875 \nQ 22.515625 -1.421875 17.65625 -0.515625 \nQ 12.796875 0.390625 7.625 2.203125 \nL 7.625 11.71875 \nQ 11.71875 9.328125 16.59375 8.109375 \nQ 21.484375 6.890625 26.8125 6.890625 \nQ 36.078125 6.890625 40.9375 10.546875 \nQ 45.796875 14.203125 45.796875 21.1875 \nQ 45.796875 27.640625 41.28125 31.265625 \nQ 36.765625 34.90625 28.71875 34.90625 \nL 20.21875 34.90625 \nL 20.21875 43.015625 \nL 29.109375 43.015625 \nQ 36.375 43.015625 40.234375 45.921875 \nQ 44.09375 48.828125 44.09375 54.296875 \nQ 44.09375 59.90625 40.109375 62.90625 \nQ 36.140625 65.921875 28.71875 65.921875 \nQ 24.65625 65.921875 20.015625 65.03125 \nQ 15.375 64.15625 9.8125 62.3125 \nL 9.8125 71.09375 \nQ 15.4375 72.65625 20.34375 73.4375 \nQ 25.25 74.21875 29.59375 74.21875 \nQ 40.828125 74.21875 47.359375 69.109375 \nQ 53.90625 64.015625 53.90625 55.328125 \nQ 53.90625 49.265625 50.4375 45.09375 \nQ 46.96875 40.921875 40.578125 39.3125 \nz\n\" id=\"DejaVuSans-51\"/>\n      </defs>\n      <g style=\"fill:#262626;\" transform=\"translate(117.590563 242.498281)scale(0.11 -0.11)\">\n       <use xlink:href=\"#DejaVuSans-51\"/>\n      </g>\n     </g>\n    </g>\n    <g id=\"xtick_5\">\n     <g id=\"text_5\">\n      <!-- 4 -->\n      <defs>\n       <path d=\"M 37.796875 64.3125 \nL 12.890625 25.390625 \nL 37.796875 25.390625 \nz\nM 35.203125 72.90625 \nL 47.609375 72.90625 \nL 47.609375 25.390625 \nL 58.015625 25.390625 \nL 58.015625 17.1875 \nL 47.609375 17.1875 \nL 47.609375 0 \nL 37.796875 0 \nL 37.796875 17.1875 \nL 4.890625 17.1875 \nL 4.890625 26.703125 \nz\n\" id=\"DejaVuSans-52\"/>\n      </defs>\n      <g style=\"fill:#262626;\" transform=\"translate(144.374563 242.498281)scale(0.11 -0.11)\">\n       <use xlink:href=\"#DejaVuSans-52\"/>\n      </g>\n     </g>\n    </g>\n    <g id=\"xtick_6\">\n     <g id=\"text_6\">\n      <!-- 5 -->\n      <defs>\n       <path d=\"M 10.796875 72.90625 \nL 49.515625 72.90625 \nL 49.515625 64.59375 \nL 19.828125 64.59375 \nL 19.828125 46.734375 \nQ 21.96875 47.46875 24.109375 47.828125 \nQ 26.265625 48.1875 28.421875 48.1875 \nQ 40.625 48.1875 47.75 41.5 \nQ 54.890625 34.8125 54.890625 23.390625 \nQ 54.890625 11.625 47.5625 5.09375 \nQ 40.234375 -1.421875 26.90625 -1.421875 \nQ 22.3125 -1.421875 17.546875 -0.640625 \nQ 12.796875 0.140625 7.71875 1.703125 \nL 7.71875 11.625 \nQ 12.109375 9.234375 16.796875 8.0625 \nQ 21.484375 6.890625 26.703125 6.890625 \nQ 35.15625 6.890625 40.078125 11.328125 \nQ 45.015625 15.765625 45.015625 23.390625 \nQ 45.015625 31 40.078125 35.4375 \nQ 35.15625 39.890625 26.703125 39.890625 \nQ 22.75 39.890625 18.8125 39.015625 \nQ 14.890625 38.140625 10.796875 36.28125 \nz\n\" id=\"DejaVuSans-53\"/>\n      </defs>\n      <g style=\"fill:#262626;\" transform=\"translate(171.158563 242.498281)scale(0.11 -0.11)\">\n       <use xlink:href=\"#DejaVuSans-53\"/>\n      </g>\n     </g>\n    </g>\n    <g id=\"xtick_7\">\n     <g id=\"text_7\">\n      <!-- 6 -->\n      <defs>\n       <path d=\"M 33.015625 40.375 \nQ 26.375 40.375 22.484375 35.828125 \nQ 18.609375 31.296875 18.609375 23.390625 \nQ 18.609375 15.53125 22.484375 10.953125 \nQ 26.375 6.390625 33.015625 6.390625 \nQ 39.65625 6.390625 43.53125 10.953125 \nQ 47.40625 15.53125 47.40625 23.390625 \nQ 47.40625 31.296875 43.53125 35.828125 \nQ 39.65625 40.375 33.015625 40.375 \nz\nM 52.59375 71.296875 \nL 52.59375 62.3125 \nQ 48.875 64.0625 45.09375 64.984375 \nQ 41.3125 65.921875 37.59375 65.921875 \nQ 27.828125 65.921875 22.671875 59.328125 \nQ 17.53125 52.734375 16.796875 39.40625 \nQ 19.671875 43.65625 24.015625 45.921875 \nQ 28.375 48.1875 33.59375 48.1875 \nQ 44.578125 48.1875 50.953125 41.515625 \nQ 57.328125 34.859375 57.328125 23.390625 \nQ 57.328125 12.15625 50.6875 5.359375 \nQ 44.046875 -1.421875 33.015625 -1.421875 \nQ 20.359375 -1.421875 13.671875 8.265625 \nQ 6.984375 17.96875 6.984375 36.375 \nQ 6.984375 53.65625 15.1875 63.9375 \nQ 23.390625 74.21875 37.203125 74.21875 \nQ 40.921875 74.21875 44.703125 73.484375 \nQ 48.484375 72.75 52.59375 71.296875 \nz\n\" id=\"DejaVuSans-54\"/>\n      </defs>\n      <g style=\"fill:#262626;\" transform=\"translate(197.942563 242.498281)scale(0.11 -0.11)\">\n       <use xlink:href=\"#DejaVuSans-54\"/>\n      </g>\n     </g>\n    </g>\n    <g id=\"xtick_8\">\n     <g id=\"text_8\">\n      <!-- 7 -->\n      <defs>\n       <path d=\"M 8.203125 72.90625 \nL 55.078125 72.90625 \nL 55.078125 68.703125 \nL 28.609375 0 \nL 18.3125 0 \nL 43.21875 64.59375 \nL 8.203125 64.59375 \nz\n\" id=\"DejaVuSans-55\"/>\n      </defs>\n      <g style=\"fill:#262626;\" transform=\"translate(224.726563 242.498281)scale(0.11 -0.11)\">\n       <use xlink:href=\"#DejaVuSans-55\"/>\n      </g>\n     </g>\n    </g>\n    <g id=\"xtick_9\">\n     <g id=\"text_9\">\n      <!-- 8 -->\n      <defs>\n       <path d=\"M 31.78125 34.625 \nQ 24.75 34.625 20.71875 30.859375 \nQ 16.703125 27.09375 16.703125 20.515625 \nQ 16.703125 13.921875 20.71875 10.15625 \nQ 24.75 6.390625 31.78125 6.390625 \nQ 38.8125 6.390625 42.859375 10.171875 \nQ 46.921875 13.96875 46.921875 20.515625 \nQ 46.921875 27.09375 42.890625 30.859375 \nQ 38.875 34.625 31.78125 34.625 \nz\nM 21.921875 38.8125 \nQ 15.578125 40.375 12.03125 44.71875 \nQ 8.5 49.078125 8.5 55.328125 \nQ 8.5 64.0625 14.71875 69.140625 \nQ 20.953125 74.21875 31.78125 74.21875 \nQ 42.671875 74.21875 48.875 69.140625 \nQ 55.078125 64.0625 55.078125 55.328125 \nQ 55.078125 49.078125 51.53125 44.71875 \nQ 48 40.375 41.703125 38.8125 \nQ 48.828125 37.15625 52.796875 32.3125 \nQ 56.78125 27.484375 56.78125 20.515625 \nQ 56.78125 9.90625 50.3125 4.234375 \nQ 43.84375 -1.421875 31.78125 -1.421875 \nQ 19.734375 -1.421875 13.25 4.234375 \nQ 6.78125 9.90625 6.78125 20.515625 \nQ 6.78125 27.484375 10.78125 32.3125 \nQ 14.796875 37.15625 21.921875 38.8125 \nz\nM 18.3125 54.390625 \nQ 18.3125 48.734375 21.84375 45.5625 \nQ 25.390625 42.390625 31.78125 42.390625 \nQ 38.140625 42.390625 41.71875 45.5625 \nQ 45.3125 48.734375 45.3125 54.390625 \nQ 45.3125 60.0625 41.71875 63.234375 \nQ 38.140625 66.40625 31.78125 66.40625 \nQ 25.390625 66.40625 21.84375 63.234375 \nQ 18.3125 60.0625 18.3125 54.390625 \nz\n\" id=\"DejaVuSans-56\"/>\n      </defs>\n      <g style=\"fill:#262626;\" transform=\"translate(251.510563 242.498281)scale(0.11 -0.11)\">\n       <use xlink:href=\"#DejaVuSans-56\"/>\n      </g>\n     </g>\n    </g>\n    <g id=\"xtick_10\">\n     <g id=\"text_10\">\n      <!-- 9 -->\n      <defs>\n       <path d=\"M 10.984375 1.515625 \nL 10.984375 10.5 \nQ 14.703125 8.734375 18.5 7.8125 \nQ 22.3125 6.890625 25.984375 6.890625 \nQ 35.75 6.890625 40.890625 13.453125 \nQ 46.046875 20.015625 46.78125 33.40625 \nQ 43.953125 29.203125 39.59375 26.953125 \nQ 35.25 24.703125 29.984375 24.703125 \nQ 19.046875 24.703125 12.671875 31.3125 \nQ 6.296875 37.9375 6.296875 49.421875 \nQ 6.296875 60.640625 12.9375 67.421875 \nQ 19.578125 74.21875 30.609375 74.21875 \nQ 43.265625 74.21875 49.921875 64.515625 \nQ 56.59375 54.828125 56.59375 36.375 \nQ 56.59375 19.140625 48.40625 8.859375 \nQ 40.234375 -1.421875 26.421875 -1.421875 \nQ 22.703125 -1.421875 18.890625 -0.6875 \nQ 15.09375 0.046875 10.984375 1.515625 \nz\nM 30.609375 32.421875 \nQ 37.25 32.421875 41.125 36.953125 \nQ 45.015625 41.5 45.015625 49.421875 \nQ 45.015625 57.28125 41.125 61.84375 \nQ 37.25 66.40625 30.609375 66.40625 \nQ 23.96875 66.40625 20.09375 61.84375 \nQ 16.21875 57.28125 16.21875 49.421875 \nQ 16.21875 41.5 20.09375 36.953125 \nQ 23.96875 32.421875 30.609375 32.421875 \nz\n\" id=\"DejaVuSans-57\"/>\n      </defs>\n      <g style=\"fill:#262626;\" transform=\"translate(278.294563 242.498281)scale(0.11 -0.11)\">\n       <use xlink:href=\"#DejaVuSans-57\"/>\n      </g>\n     </g>\n    </g>\n    <g id=\"text_11\">\n     <!-- accuracy: 0.9808 -->\n     <defs>\n      <path d=\"M 34.28125 27.484375 \nQ 23.390625 27.484375 19.1875 25 \nQ 14.984375 22.515625 14.984375 16.5 \nQ 14.984375 11.71875 18.140625 8.90625 \nQ 21.296875 6.109375 26.703125 6.109375 \nQ 34.1875 6.109375 38.703125 11.40625 \nQ 43.21875 16.703125 43.21875 25.484375 \nL 43.21875 27.484375 \nz\nM 52.203125 31.203125 \nL 52.203125 0 \nL 43.21875 0 \nL 43.21875 8.296875 \nQ 40.140625 3.328125 35.546875 0.953125 \nQ 30.953125 -1.421875 24.3125 -1.421875 \nQ 15.921875 -1.421875 10.953125 3.296875 \nQ 6 8.015625 6 15.921875 \nQ 6 25.140625 12.171875 29.828125 \nQ 18.359375 34.515625 30.609375 34.515625 \nL 43.21875 34.515625 \nL 43.21875 35.40625 \nQ 43.21875 41.609375 39.140625 45 \nQ 35.0625 48.390625 27.6875 48.390625 \nQ 23 48.390625 18.546875 47.265625 \nQ 14.109375 46.140625 10.015625 43.890625 \nL 10.015625 52.203125 \nQ 14.9375 54.109375 19.578125 55.046875 \nQ 24.21875 56 28.609375 56 \nQ 40.484375 56 46.34375 49.84375 \nQ 52.203125 43.703125 52.203125 31.203125 \nz\n\" id=\"DejaVuSans-97\"/>\n      <path d=\"M 48.78125 52.59375 \nL 48.78125 44.1875 \nQ 44.96875 46.296875 41.140625 47.34375 \nQ 37.3125 48.390625 33.40625 48.390625 \nQ 24.65625 48.390625 19.8125 42.84375 \nQ 14.984375 37.3125 14.984375 27.296875 \nQ 14.984375 17.28125 19.8125 11.734375 \nQ 24.65625 6.203125 33.40625 6.203125 \nQ 37.3125 6.203125 41.140625 7.25 \nQ 44.96875 8.296875 48.78125 10.40625 \nL 48.78125 2.09375 \nQ 45.015625 0.34375 40.984375 -0.53125 \nQ 36.96875 -1.421875 32.421875 -1.421875 \nQ 20.0625 -1.421875 12.78125 6.34375 \nQ 5.515625 14.109375 5.515625 27.296875 \nQ 5.515625 40.671875 12.859375 48.328125 \nQ 20.21875 56 33.015625 56 \nQ 37.15625 56 41.109375 55.140625 \nQ 45.0625 54.296875 48.78125 52.59375 \nz\n\" id=\"DejaVuSans-99\"/>\n      <path d=\"M 8.5 21.578125 \nL 8.5 54.6875 \nL 17.484375 54.6875 \nL 17.484375 21.921875 \nQ 17.484375 14.15625 20.5 10.265625 \nQ 23.53125 6.390625 29.59375 6.390625 \nQ 36.859375 6.390625 41.078125 11.03125 \nQ 45.3125 15.671875 45.3125 23.6875 \nL 45.3125 54.6875 \nL 54.296875 54.6875 \nL 54.296875 0 \nL 45.3125 0 \nL 45.3125 8.40625 \nQ 42.046875 3.421875 37.71875 1 \nQ 33.40625 -1.421875 27.6875 -1.421875 \nQ 18.265625 -1.421875 13.375 4.4375 \nQ 8.5 10.296875 8.5 21.578125 \nz\nM 31.109375 56 \nz\n\" id=\"DejaVuSans-117\"/>\n      <path d=\"M 41.109375 46.296875 \nQ 39.59375 47.171875 37.8125 47.578125 \nQ 36.03125 48 33.890625 48 \nQ 26.265625 48 22.1875 43.046875 \nQ 18.109375 38.09375 18.109375 28.8125 \nL 18.109375 0 \nL 9.078125 0 \nL 9.078125 54.6875 \nL 18.109375 54.6875 \nL 18.109375 46.1875 \nQ 20.953125 51.171875 25.484375 53.578125 \nQ 30.03125 56 36.53125 56 \nQ 37.453125 56 38.578125 55.875 \nQ 39.703125 55.765625 41.0625 55.515625 \nz\n\" id=\"DejaVuSans-114\"/>\n      <path d=\"M 32.171875 -5.078125 \nQ 28.375 -14.84375 24.75 -17.8125 \nQ 21.140625 -20.796875 15.09375 -20.796875 \nL 7.90625 -20.796875 \nL 7.90625 -13.28125 \nL 13.1875 -13.28125 \nQ 16.890625 -13.28125 18.9375 -11.515625 \nQ 21 -9.765625 23.484375 -3.21875 \nL 25.09375 0.875 \nL 2.984375 54.6875 \nL 12.5 54.6875 \nL 29.59375 11.921875 \nL 46.6875 54.6875 \nL 56.203125 54.6875 \nz\n\" id=\"DejaVuSans-121\"/>\n      <path d=\"M 11.71875 12.40625 \nL 22.015625 12.40625 \nL 22.015625 0 \nL 11.71875 0 \nz\nM 11.71875 51.703125 \nL 22.015625 51.703125 \nL 22.015625 39.3125 \nL 11.71875 39.3125 \nz\n\" id=\"DejaVuSans-58\"/>\n      <path id=\"DejaVuSans-32\"/>\n      <path d=\"M 10.6875 12.40625 \nL 21 12.40625 \nL 21 0 \nL 10.6875 0 \nz\n\" id=\"DejaVuSans-46\"/>\n     </defs>\n     <g style=\"fill:#262626;\" transform=\"translate(109.707188 257.904062)scale(0.12 -0.12)\">\n      <use xlink:href=\"#DejaVuSans-97\"/>\n      <use x=\"61.279297\" xlink:href=\"#DejaVuSans-99\"/>\n      <use x=\"116.259766\" xlink:href=\"#DejaVuSans-99\"/>\n      <use x=\"171.240234\" xlink:href=\"#DejaVuSans-117\"/>\n      <use x=\"234.619141\" xlink:href=\"#DejaVuSans-114\"/>\n      <use x=\"275.732422\" xlink:href=\"#DejaVuSans-97\"/>\n      <use x=\"337.011719\" xlink:href=\"#DejaVuSans-99\"/>\n      <use x=\"391.992188\" xlink:href=\"#DejaVuSans-121\"/>\n      <use x=\"443.921875\" xlink:href=\"#DejaVuSans-58\"/>\n      <use x=\"477.613281\" xlink:href=\"#DejaVuSans-32\"/>\n      <use x=\"509.400391\" xlink:href=\"#DejaVuSans-48\"/>\n      <use x=\"573.023438\" xlink:href=\"#DejaVuSans-46\"/>\n      <use x=\"604.810547\" xlink:href=\"#DejaVuSans-57\"/>\n      <use x=\"668.433594\" xlink:href=\"#DejaVuSans-56\"/>\n      <use x=\"732.056641\" xlink:href=\"#DejaVuSans-48\"/>\n      <use x=\"795.679688\" xlink:href=\"#DejaVuSans-56\"/>\n     </g>\n    </g>\n   </g>\n   <g id=\"matplotlib.axis_2\">\n    <g id=\"ytick_1\">\n     <g id=\"text_12\">\n      <!-- 0 -->\n      <g style=\"fill:#262626;\" transform=\"translate(15.558281 21.571375)rotate(-90)scale(0.11 -0.11)\">\n       <use xlink:href=\"#DejaVuSans-48\"/>\n      </g>\n     </g>\n    </g>\n    <g id=\"ytick_2\">\n     <g id=\"text_13\">\n      <!-- 1 -->\n      <g style=\"fill:#262626;\" transform=\"translate(15.558281 43.315375)rotate(-90)scale(0.11 -0.11)\">\n       <use xlink:href=\"#DejaVuSans-49\"/>\n      </g>\n     </g>\n    </g>\n    <g id=\"ytick_3\">\n     <g id=\"text_14\">\n      <!-- 2 -->\n      <g style=\"fill:#262626;\" transform=\"translate(15.558281 65.059375)rotate(-90)scale(0.11 -0.11)\">\n       <use xlink:href=\"#DejaVuSans-50\"/>\n      </g>\n     </g>\n    </g>\n    <g id=\"ytick_4\">\n     <g id=\"text_15\">\n      <!-- 3 -->\n      <g style=\"fill:#262626;\" transform=\"translate(15.558281 86.803375)rotate(-90)scale(0.11 -0.11)\">\n       <use xlink:href=\"#DejaVuSans-51\"/>\n      </g>\n     </g>\n    </g>\n    <g id=\"ytick_5\">\n     <g id=\"text_16\">\n      <!-- 4 -->\n      <g style=\"fill:#262626;\" transform=\"translate(15.558281 108.547375)rotate(-90)scale(0.11 -0.11)\">\n       <use xlink:href=\"#DejaVuSans-52\"/>\n      </g>\n     </g>\n    </g>\n    <g id=\"ytick_6\">\n     <g id=\"text_17\">\n      <!-- 5 -->\n      <g style=\"fill:#262626;\" transform=\"translate(15.558281 130.291375)rotate(-90)scale(0.11 -0.11)\">\n       <use xlink:href=\"#DejaVuSans-53\"/>\n      </g>\n     </g>\n    </g>\n    <g id=\"ytick_7\">\n     <g id=\"text_18\">\n      <!-- 6 -->\n      <g style=\"fill:#262626;\" transform=\"translate(15.558281 152.035375)rotate(-90)scale(0.11 -0.11)\">\n       <use xlink:href=\"#DejaVuSans-54\"/>\n      </g>\n     </g>\n    </g>\n    <g id=\"ytick_8\">\n     <g id=\"text_19\">\n      <!-- 7 -->\n      <g style=\"fill:#262626;\" transform=\"translate(15.558281 173.779375)rotate(-90)scale(0.11 -0.11)\">\n       <use xlink:href=\"#DejaVuSans-55\"/>\n      </g>\n     </g>\n    </g>\n    <g id=\"ytick_9\">\n     <g id=\"text_20\">\n      <!-- 8 -->\n      <g style=\"fill:#262626;\" transform=\"translate(15.558281 195.523375)rotate(-90)scale(0.11 -0.11)\">\n       <use xlink:href=\"#DejaVuSans-56\"/>\n      </g>\n     </g>\n    </g>\n    <g id=\"ytick_10\">\n     <g id=\"text_21\">\n      <!-- 9 -->\n      <g style=\"fill:#262626;\" transform=\"translate(15.558281 217.267375)rotate(-90)scale(0.11 -0.11)\">\n       <use xlink:href=\"#DejaVuSans-57\"/>\n      </g>\n     </g>\n    </g>\n   </g>\n   <g id=\"QuadMesh_1\">\n    <path clip-path=\"url(#pe2a0e7ee2f)\" d=\"M 27.345938 7.2 \nL 54.129938 7.2 \nL 54.129938 28.944 \nL 27.345938 28.944 \nL 27.345938 7.2 \n\" style=\"fill:#611f53;\"/>\n    <path clip-path=\"url(#pe2a0e7ee2f)\" d=\"M 54.129938 7.2 \nL 80.913938 7.2 \nL 80.913938 28.944 \nL 54.129938 28.944 \nL 54.129938 7.2 \n\" style=\"fill:#711f57;\"/>\n    <path clip-path=\"url(#pe2a0e7ee2f)\" d=\"M 80.913938 7.2 \nL 107.697938 7.2 \nL 107.697938 28.944 \nL 80.913938 28.944 \nL 80.913938 7.2 \n\" style=\"fill:#711f57;\"/>\n    <path clip-path=\"url(#pe2a0e7ee2f)\" d=\"M 107.697938 7.2 \nL 134.481938 7.2 \nL 134.481938 28.944 \nL 107.697938 28.944 \nL 107.697938 7.2 \n\" style=\"fill:#711f57;\"/>\n    <path clip-path=\"url(#pe2a0e7ee2f)\" d=\"M 134.481938 7.2 \nL 161.265938 7.2 \nL 161.265938 28.944 \nL 134.481938 28.944 \nL 134.481938 7.2 \n\" style=\"fill:#711f57;\"/>\n    <path clip-path=\"url(#pe2a0e7ee2f)\" d=\"M 161.265938 7.2 \nL 188.049938 7.2 \nL 188.049938 28.944 \nL 161.265938 28.944 \nL 161.265938 7.2 \n\" style=\"fill:#711f57;\"/>\n    <path clip-path=\"url(#pe2a0e7ee2f)\" d=\"M 188.049938 7.2 \nL 214.833938 7.2 \nL 214.833938 28.944 \nL 188.049938 28.944 \nL 188.049938 7.2 \n\" style=\"fill:#711f57;\"/>\n    <path clip-path=\"url(#pe2a0e7ee2f)\" d=\"M 214.833938 7.2 \nL 241.617938 7.2 \nL 241.617938 28.944 \nL 214.833938 28.944 \nL 214.833938 7.2 \n\" style=\"fill:#841e5a;\"/>\n    <path clip-path=\"url(#pe2a0e7ee2f)\" d=\"M 241.617938 7.2 \nL 268.401938 7.2 \nL 268.401938 28.944 \nL 241.617938 28.944 \nL 241.617938 7.2 \n\" style=\"fill:#711f57;\"/>\n    <path clip-path=\"url(#pe2a0e7ee2f)\" d=\"M 268.401938 7.2 \nL 295.185938 7.2 \nL 295.185938 28.944 \nL 268.401938 28.944 \nL 268.401938 7.2 \n\" style=\"fill:#711f57;\"/>\n    <path clip-path=\"url(#pe2a0e7ee2f)\" d=\"M 27.345938 28.944 \nL 54.129938 28.944 \nL 54.129938 50.688 \nL 27.345938 50.688 \nL 27.345938 28.944 \n\" style=\"fill:#711f57;\"/>\n    <path clip-path=\"url(#pe2a0e7ee2f)\" d=\"M 54.129938 28.944 \nL 80.913938 28.944 \nL 80.913938 50.688 \nL 54.129938 50.688 \nL 54.129938 28.944 \n\" style=\"fill:#a8185a;\"/>\n    <path clip-path=\"url(#pe2a0e7ee2f)\" d=\"M 80.913938 28.944 \nL 107.697938 28.944 \nL 107.697938 50.688 \nL 80.913938 50.688 \nL 80.913938 28.944 \n\" style=\"fill:#611f53;\"/>\n    <path clip-path=\"url(#pe2a0e7ee2f)\" d=\"M 107.697938 28.944 \nL 134.481938 28.944 \nL 134.481938 50.688 \nL 107.697938 50.688 \nL 107.697938 28.944 \n\" style=\"fill:#611f53;\"/>\n    <path clip-path=\"url(#pe2a0e7ee2f)\" d=\"M 134.481938 28.944 \nL 161.265938 28.944 \nL 161.265938 50.688 \nL 134.481938 50.688 \nL 134.481938 28.944 \n\" style=\"fill:#711f57;\"/>\n    <path clip-path=\"url(#pe2a0e7ee2f)\" d=\"M 161.265938 28.944 \nL 188.049938 28.944 \nL 188.049938 50.688 \nL 161.265938 50.688 \nL 161.265938 28.944 \n\" style=\"fill:#711f57;\"/>\n    <path clip-path=\"url(#pe2a0e7ee2f)\" d=\"M 188.049938 28.944 \nL 214.833938 28.944 \nL 214.833938 50.688 \nL 188.049938 50.688 \nL 188.049938 28.944 \n\" style=\"fill:#611f53;\"/>\n    <path clip-path=\"url(#pe2a0e7ee2f)\" d=\"M 214.833938 28.944 \nL 241.617938 28.944 \nL 241.617938 50.688 \nL 214.833938 50.688 \nL 214.833938 28.944 \n\" style=\"fill:#711f57;\"/>\n    <path clip-path=\"url(#pe2a0e7ee2f)\" d=\"M 241.617938 28.944 \nL 268.401938 28.944 \nL 268.401938 50.688 \nL 241.617938 50.688 \nL 241.617938 28.944 \n\" style=\"fill:#711f57;\"/>\n    <path clip-path=\"url(#pe2a0e7ee2f)\" d=\"M 268.401938 28.944 \nL 295.185938 28.944 \nL 295.185938 50.688 \nL 268.401938 50.688 \nL 268.401938 28.944 \n\" style=\"fill:#711f57;\"/>\n    <path clip-path=\"url(#pe2a0e7ee2f)\" d=\"M 27.345938 50.688 \nL 54.129938 50.688 \nL 54.129938 72.432 \nL 27.345938 72.432 \nL 27.345938 50.688 \n\" style=\"fill:#3f1b43;\"/>\n    <path clip-path=\"url(#pe2a0e7ee2f)\" d=\"M 54.129938 50.688 \nL 80.913938 50.688 \nL 80.913938 72.432 \nL 54.129938 72.432 \nL 54.129938 50.688 \n\" style=\"fill:#841e5a;\"/>\n    <path clip-path=\"url(#pe2a0e7ee2f)\" d=\"M 80.913938 50.688 \nL 107.697938 50.688 \nL 107.697938 72.432 \nL 80.913938 72.432 \nL 80.913938 50.688 \n\" style=\"fill:#3f1b43;\"/>\n    <path clip-path=\"url(#pe2a0e7ee2f)\" d=\"M 107.697938 50.688 \nL 134.481938 50.688 \nL 134.481938 72.432 \nL 107.697938 72.432 \nL 107.697938 50.688 \n\" style=\"fill:#711f57;\"/>\n    <path clip-path=\"url(#pe2a0e7ee2f)\" d=\"M 134.481938 50.688 \nL 161.265938 50.688 \nL 161.265938 72.432 \nL 134.481938 72.432 \nL 134.481938 50.688 \n\" style=\"fill:#611f53;\"/>\n    <path clip-path=\"url(#pe2a0e7ee2f)\" d=\"M 161.265938 50.688 \nL 188.049938 50.688 \nL 188.049938 72.432 \nL 161.265938 72.432 \nL 161.265938 50.688 \n\" style=\"fill:#711f57;\"/>\n    <path clip-path=\"url(#pe2a0e7ee2f)\" d=\"M 188.049938 50.688 \nL 214.833938 50.688 \nL 214.833938 72.432 \nL 188.049938 72.432 \nL 188.049938 50.688 \n\" style=\"fill:#971c5b;\"/>\n    <path clip-path=\"url(#pe2a0e7ee2f)\" d=\"M 214.833938 50.688 \nL 241.617938 50.688 \nL 241.617938 72.432 \nL 214.833938 72.432 \nL 214.833938 50.688 \n\" style=\"fill:#cb1b4f;\"/>\n    <path clip-path=\"url(#pe2a0e7ee2f)\" d=\"M 241.617938 50.688 \nL 268.401938 50.688 \nL 268.401938 72.432 \nL 241.617938 72.432 \nL 241.617938 50.688 \n\" style=\"fill:#611f53;\"/>\n    <path clip-path=\"url(#pe2a0e7ee2f)\" d=\"M 268.401938 50.688 \nL 295.185938 50.688 \nL 295.185938 72.432 \nL 268.401938 72.432 \nL 268.401938 50.688 \n\" style=\"fill:#711f57;\"/>\n    <path clip-path=\"url(#pe2a0e7ee2f)\" d=\"M 27.345938 72.432 \nL 54.129938 72.432 \nL 54.129938 94.176 \nL 27.345938 94.176 \nL 27.345938 72.432 \n\" style=\"fill:#711f57;\"/>\n    <path clip-path=\"url(#pe2a0e7ee2f)\" d=\"M 54.129938 72.432 \nL 80.913938 72.432 \nL 80.913938 94.176 \nL 54.129938 94.176 \nL 54.129938 72.432 \n\" style=\"fill:#711f57;\"/>\n    <path clip-path=\"url(#pe2a0e7ee2f)\" d=\"M 80.913938 72.432 \nL 107.697938 72.432 \nL 107.697938 94.176 \nL 80.913938 94.176 \nL 80.913938 72.432 \n\" style=\"fill:#611f53;\"/>\n    <path clip-path=\"url(#pe2a0e7ee2f)\" d=\"M 107.697938 72.432 \nL 134.481938 72.432 \nL 134.481938 94.176 \nL 107.697938 94.176 \nL 107.697938 72.432 \n\" style=\"fill:#f58860;\"/>\n    <path clip-path=\"url(#pe2a0e7ee2f)\" d=\"M 134.481938 72.432 \nL 161.265938 72.432 \nL 161.265938 94.176 \nL 134.481938 94.176 \nL 134.481938 72.432 \n\" style=\"fill:#841e5a;\"/>\n    <path clip-path=\"url(#pe2a0e7ee2f)\" d=\"M 161.265938 72.432 \nL 188.049938 72.432 \nL 188.049938 94.176 \nL 161.265938 94.176 \nL 161.265938 72.432 \n\" style=\"fill:#03051a;\"/>\n    <path clip-path=\"url(#pe2a0e7ee2f)\" d=\"M 188.049938 72.432 \nL 214.833938 72.432 \nL 214.833938 94.176 \nL 188.049938 94.176 \nL 188.049938 72.432 \n\" style=\"fill:#711f57;\"/>\n    <path clip-path=\"url(#pe2a0e7ee2f)\" d=\"M 214.833938 72.432 \nL 241.617938 72.432 \nL 241.617938 94.176 \nL 214.833938 94.176 \nL 214.833938 72.432 \n\" style=\"fill:#611f53;\"/>\n    <path clip-path=\"url(#pe2a0e7ee2f)\" d=\"M 241.617938 72.432 \nL 268.401938 72.432 \nL 268.401938 94.176 \nL 241.617938 94.176 \nL 241.617938 72.432 \n\" style=\"fill:#3f1b43;\"/>\n    <path clip-path=\"url(#pe2a0e7ee2f)\" d=\"M 268.401938 72.432 \nL 295.185938 72.432 \nL 295.185938 94.176 \nL 268.401938 94.176 \nL 268.401938 72.432 \n\" style=\"fill:#711f57;\"/>\n    <path clip-path=\"url(#pe2a0e7ee2f)\" d=\"M 27.345938 94.176 \nL 54.129938 94.176 \nL 54.129938 115.92 \nL 27.345938 115.92 \nL 27.345938 94.176 \n\" style=\"fill:#501d4c;\"/>\n    <path clip-path=\"url(#pe2a0e7ee2f)\" d=\"M 54.129938 94.176 \nL 80.913938 94.176 \nL 80.913938 115.92 \nL 54.129938 115.92 \nL 54.129938 94.176 \n\" style=\"fill:#611f53;\"/>\n    <path clip-path=\"url(#pe2a0e7ee2f)\" d=\"M 80.913938 94.176 \nL 107.697938 94.176 \nL 107.697938 115.92 \nL 80.913938 115.92 \nL 80.913938 94.176 \n\" style=\"fill:#711f57;\"/>\n    <path clip-path=\"url(#pe2a0e7ee2f)\" d=\"M 107.697938 94.176 \nL 134.481938 94.176 \nL 134.481938 115.92 \nL 107.697938 115.92 \nL 107.697938 94.176 \n\" style=\"fill:#711f57;\"/>\n    <path clip-path=\"url(#pe2a0e7ee2f)\" d=\"M 134.481938 94.176 \nL 161.265938 94.176 \nL 161.265938 115.92 \nL 134.481938 115.92 \nL 134.481938 94.176 \n\" style=\"fill:#f06043;\"/>\n    <path clip-path=\"url(#pe2a0e7ee2f)\" d=\"M 161.265938 94.176 \nL 188.049938 94.176 \nL 188.049938 115.92 \nL 161.265938 115.92 \nL 161.265938 94.176 \n\" style=\"fill:#711f57;\"/>\n    <path clip-path=\"url(#pe2a0e7ee2f)\" d=\"M 188.049938 94.176 \nL 214.833938 94.176 \nL 214.833938 115.92 \nL 188.049938 115.92 \nL 188.049938 94.176 \n\" style=\"fill:#3f1b43;\"/>\n    <path clip-path=\"url(#pe2a0e7ee2f)\" d=\"M 214.833938 94.176 \nL 241.617938 94.176 \nL 241.617938 115.92 \nL 214.833938 115.92 \nL 214.833938 94.176 \n\" style=\"fill:#711f57;\"/>\n    <path clip-path=\"url(#pe2a0e7ee2f)\" d=\"M 241.617938 94.176 \nL 268.401938 94.176 \nL 268.401938 115.92 \nL 241.617938 115.92 \nL 241.617938 94.176 \n\" style=\"fill:#611f53;\"/>\n    <path clip-path=\"url(#pe2a0e7ee2f)\" d=\"M 268.401938 94.176 \nL 295.185938 94.176 \nL 295.185938 115.92 \nL 268.401938 115.92 \nL 268.401938 94.176 \n\" style=\"fill:#501d4c;\"/>\n    <path clip-path=\"url(#pe2a0e7ee2f)\" d=\"M 27.345938 115.92 \nL 54.129938 115.92 \nL 54.129938 137.664 \nL 27.345938 137.664 \nL 27.345938 115.92 \n\" style=\"fill:#501d4c;\"/>\n    <path clip-path=\"url(#pe2a0e7ee2f)\" d=\"M 54.129938 115.92 \nL 80.913938 115.92 \nL 80.913938 137.664 \nL 54.129938 137.664 \nL 54.129938 115.92 \n\" style=\"fill:#711f57;\"/>\n    <path clip-path=\"url(#pe2a0e7ee2f)\" d=\"M 80.913938 115.92 \nL 107.697938 115.92 \nL 107.697938 137.664 \nL 80.913938 137.664 \nL 80.913938 115.92 \n\" style=\"fill:#711f57;\"/>\n    <path clip-path=\"url(#pe2a0e7ee2f)\" d=\"M 107.697938 115.92 \nL 134.481938 115.92 \nL 134.481938 137.664 \nL 107.697938 137.664 \nL 107.697938 115.92 \n\" style=\"fill:#30173a;\"/>\n    <path clip-path=\"url(#pe2a0e7ee2f)\" d=\"M 134.481938 115.92 \nL 161.265938 115.92 \nL 161.265938 137.664 \nL 134.481938 137.664 \nL 134.481938 115.92 \n\" style=\"fill:#711f57;\"/>\n    <path clip-path=\"url(#pe2a0e7ee2f)\" d=\"M 161.265938 115.92 \nL 188.049938 115.92 \nL 188.049938 137.664 \nL 161.265938 137.664 \nL 161.265938 115.92 \n\" style=\"fill:#f6bc99;\"/>\n    <path clip-path=\"url(#pe2a0e7ee2f)\" d=\"M 188.049938 115.92 \nL 214.833938 115.92 \nL 214.833938 137.664 \nL 188.049938 137.664 \nL 188.049938 115.92 \n\" style=\"fill:#30173a;\"/>\n    <path clip-path=\"url(#pe2a0e7ee2f)\" d=\"M 214.833938 115.92 \nL 241.617938 115.92 \nL 241.617938 137.664 \nL 214.833938 137.664 \nL 214.833938 115.92 \n\" style=\"fill:#841e5a;\"/>\n    <path clip-path=\"url(#pe2a0e7ee2f)\" d=\"M 241.617938 115.92 \nL 268.401938 115.92 \nL 268.401938 137.664 \nL 241.617938 137.664 \nL 241.617938 115.92 \n\" style=\"fill:#30173a;\"/>\n    <path clip-path=\"url(#pe2a0e7ee2f)\" d=\"M 268.401938 115.92 \nL 295.185938 115.92 \nL 295.185938 137.664 \nL 268.401938 137.664 \nL 268.401938 115.92 \n\" style=\"fill:#611f53;\"/>\n    <path clip-path=\"url(#pe2a0e7ee2f)\" d=\"M 27.345938 137.664 \nL 54.129938 137.664 \nL 54.129938 159.408 \nL 27.345938 159.408 \nL 27.345938 137.664 \n\" style=\"fill:#501d4c;\"/>\n    <path clip-path=\"url(#pe2a0e7ee2f)\" d=\"M 54.129938 137.664 \nL 80.913938 137.664 \nL 80.913938 159.408 \nL 54.129938 159.408 \nL 54.129938 137.664 \n\" style=\"fill:#841e5a;\"/>\n    <path clip-path=\"url(#pe2a0e7ee2f)\" d=\"M 80.913938 137.664 \nL 107.697938 137.664 \nL 107.697938 159.408 \nL 80.913938 159.408 \nL 80.913938 137.664 \n\" style=\"fill:#711f57;\"/>\n    <path clip-path=\"url(#pe2a0e7ee2f)\" d=\"M 107.697938 137.664 \nL 134.481938 137.664 \nL 134.481938 159.408 \nL 107.697938 159.408 \nL 107.697938 137.664 \n\" style=\"fill:#711f57;\"/>\n    <path clip-path=\"url(#pe2a0e7ee2f)\" d=\"M 134.481938 137.664 \nL 161.265938 137.664 \nL 161.265938 159.408 \nL 134.481938 159.408 \nL 134.481938 137.664 \n\" style=\"fill:#501d4c;\"/>\n    <path clip-path=\"url(#pe2a0e7ee2f)\" d=\"M 161.265938 137.664 \nL 188.049938 137.664 \nL 188.049938 159.408 \nL 161.265938 159.408 \nL 161.265938 137.664 \n\" style=\"fill:#501d4c;\"/>\n    <path clip-path=\"url(#pe2a0e7ee2f)\" d=\"M 188.049938 137.664 \nL 214.833938 137.664 \nL 214.833938 159.408 \nL 188.049938 159.408 \nL 188.049938 137.664 \n\" style=\"fill:#ba1656;\"/>\n    <path clip-path=\"url(#pe2a0e7ee2f)\" d=\"M 214.833938 137.664 \nL 241.617938 137.664 \nL 241.617938 159.408 \nL 214.833938 159.408 \nL 214.833938 137.664 \n\" style=\"fill:#711f57;\"/>\n    <path clip-path=\"url(#pe2a0e7ee2f)\" d=\"M 241.617938 137.664 \nL 268.401938 137.664 \nL 268.401938 159.408 \nL 241.617938 159.408 \nL 241.617938 137.664 \n\" style=\"fill:#841e5a;\"/>\n    <path clip-path=\"url(#pe2a0e7ee2f)\" d=\"M 268.401938 137.664 \nL 295.185938 137.664 \nL 295.185938 159.408 \nL 268.401938 159.408 \nL 268.401938 137.664 \n\" style=\"fill:#711f57;\"/>\n    <path clip-path=\"url(#pe2a0e7ee2f)\" d=\"M 27.345938 159.408 \nL 54.129938 159.408 \nL 54.129938 181.152 \nL 27.345938 181.152 \nL 27.345938 159.408 \n\" style=\"fill:#611f53;\"/>\n    <path clip-path=\"url(#pe2a0e7ee2f)\" d=\"M 54.129938 159.408 \nL 80.913938 159.408 \nL 80.913938 181.152 \nL 54.129938 181.152 \nL 54.129938 159.408 \n\" style=\"fill:#711f57;\"/>\n    <path clip-path=\"url(#pe2a0e7ee2f)\" d=\"M 80.913938 159.408 \nL 107.697938 159.408 \nL 107.697938 181.152 \nL 80.913938 181.152 \nL 80.913938 159.408 \n\" style=\"fill:#611f53;\"/>\n    <path clip-path=\"url(#pe2a0e7ee2f)\" d=\"M 107.697938 159.408 \nL 134.481938 159.408 \nL 134.481938 181.152 \nL 107.697938 181.152 \nL 107.697938 159.408 \n\" style=\"fill:#a8185a;\"/>\n    <path clip-path=\"url(#pe2a0e7ee2f)\" d=\"M 134.481938 159.408 \nL 161.265938 159.408 \nL 161.265938 181.152 \nL 134.481938 181.152 \nL 134.481938 159.408 \n\" style=\"fill:#611f53;\"/>\n    <path clip-path=\"url(#pe2a0e7ee2f)\" d=\"M 161.265938 159.408 \nL 188.049938 159.408 \nL 188.049938 181.152 \nL 161.265938 181.152 \nL 161.265938 159.408 \n\" style=\"fill:#711f57;\"/>\n    <path clip-path=\"url(#pe2a0e7ee2f)\" d=\"M 188.049938 159.408 \nL 214.833938 159.408 \nL 214.833938 181.152 \nL 188.049938 181.152 \nL 188.049938 159.408 \n\" style=\"fill:#841e5a;\"/>\n    <path clip-path=\"url(#pe2a0e7ee2f)\" d=\"M 214.833938 159.408 \nL 241.617938 159.408 \nL 241.617938 181.152 \nL 214.833938 181.152 \nL 214.833938 159.408 \n\" style=\"fill:#d82748;\"/>\n    <path clip-path=\"url(#pe2a0e7ee2f)\" d=\"M 241.617938 159.408 \nL 268.401938 159.408 \nL 268.401938 181.152 \nL 241.617938 181.152 \nL 241.617938 159.408 \n\" style=\"fill:#711f57;\"/>\n    <path clip-path=\"url(#pe2a0e7ee2f)\" d=\"M 268.401938 159.408 \nL 295.185938 159.408 \nL 295.185938 181.152 \nL 268.401938 181.152 \nL 268.401938 159.408 \n\" style=\"fill:#03051a;\"/>\n    <path clip-path=\"url(#pe2a0e7ee2f)\" d=\"M 27.345938 181.152 \nL 54.129938 181.152 \nL 54.129938 202.896 \nL 27.345938 202.896 \nL 27.345938 181.152 \n\" style=\"fill:#3f1b43;\"/>\n    <path clip-path=\"url(#pe2a0e7ee2f)\" d=\"M 54.129938 181.152 \nL 80.913938 181.152 \nL 80.913938 202.896 \nL 54.129938 202.896 \nL 54.129938 181.152 \n\" style=\"fill:#501d4c;\"/>\n    <path clip-path=\"url(#pe2a0e7ee2f)\" d=\"M 80.913938 181.152 \nL 107.697938 181.152 \nL 107.697938 202.896 \nL 80.913938 202.896 \nL 80.913938 181.152 \n\" style=\"fill:#711f57;\"/>\n    <path clip-path=\"url(#pe2a0e7ee2f)\" d=\"M 107.697938 181.152 \nL 134.481938 181.152 \nL 134.481938 202.896 \nL 107.697938 202.896 \nL 107.697938 181.152 \n\" style=\"fill:#100b23;\"/>\n    <path clip-path=\"url(#pe2a0e7ee2f)\" d=\"M 134.481938 181.152 \nL 161.265938 181.152 \nL 161.265938 202.896 \nL 134.481938 202.896 \nL 134.481938 181.152 \n\" style=\"fill:#711f57;\"/>\n    <path clip-path=\"url(#pe2a0e7ee2f)\" d=\"M 161.265938 181.152 \nL 188.049938 181.152 \nL 188.049938 202.896 \nL 161.265938 202.896 \nL 161.265938 181.152 \n\" style=\"fill:#a8185a;\"/>\n    <path clip-path=\"url(#pe2a0e7ee2f)\" d=\"M 188.049938 181.152 \nL 214.833938 181.152 \nL 214.833938 202.896 \nL 188.049938 202.896 \nL 188.049938 181.152 \n\" style=\"fill:#611f53;\"/>\n    <path clip-path=\"url(#pe2a0e7ee2f)\" d=\"M 214.833938 181.152 \nL 241.617938 181.152 \nL 241.617938 202.896 \nL 214.833938 202.896 \nL 214.833938 181.152 \n\" style=\"fill:#841e5a;\"/>\n    <path clip-path=\"url(#pe2a0e7ee2f)\" d=\"M 241.617938 181.152 \nL 268.401938 181.152 \nL 268.401938 202.896 \nL 241.617938 202.896 \nL 241.617938 181.152 \n\" style=\"fill:#d82748;\"/>\n    <path clip-path=\"url(#pe2a0e7ee2f)\" d=\"M 268.401938 181.152 \nL 295.185938 181.152 \nL 295.185938 202.896 \nL 268.401938 202.896 \nL 268.401938 181.152 \n\" style=\"fill:#971c5b;\"/>\n    <path clip-path=\"url(#pe2a0e7ee2f)\" d=\"M 27.345938 202.896 \nL 54.129938 202.896 \nL 54.129938 224.64 \nL 27.345938 224.64 \nL 27.345938 202.896 \n\" style=\"fill:#20122e;\"/>\n    <path clip-path=\"url(#pe2a0e7ee2f)\" d=\"M 54.129938 202.896 \nL 80.913938 202.896 \nL 80.913938 224.64 \nL 54.129938 224.64 \nL 54.129938 202.896 \n\" style=\"fill:#501d4c;\"/>\n    <path clip-path=\"url(#pe2a0e7ee2f)\" d=\"M 80.913938 202.896 \nL 107.697938 202.896 \nL 107.697938 224.64 \nL 80.913938 224.64 \nL 80.913938 202.896 \n\" style=\"fill:#501d4c;\"/>\n    <path clip-path=\"url(#pe2a0e7ee2f)\" d=\"M 107.697938 202.896 \nL 134.481938 202.896 \nL 134.481938 224.64 \nL 107.697938 224.64 \nL 107.697938 202.896 \n\" style=\"fill:#30173a;\"/>\n    <path clip-path=\"url(#pe2a0e7ee2f)\" d=\"M 134.481938 202.896 \nL 161.265938 202.896 \nL 161.265938 224.64 \nL 134.481938 224.64 \nL 134.481938 202.896 \n\" style=\"fill:#3f1b43;\"/>\n    <path clip-path=\"url(#pe2a0e7ee2f)\" d=\"M 161.265938 202.896 \nL 188.049938 202.896 \nL 188.049938 224.64 \nL 161.265938 224.64 \nL 161.265938 202.896 \n\" style=\"fill:#501d4c;\"/>\n    <path clip-path=\"url(#pe2a0e7ee2f)\" d=\"M 188.049938 202.896 \nL 214.833938 202.896 \nL 214.833938 224.64 \nL 188.049938 224.64 \nL 188.049938 202.896 \n\" style=\"fill:#611f53;\"/>\n    <path clip-path=\"url(#pe2a0e7ee2f)\" d=\"M 214.833938 202.896 \nL 241.617938 202.896 \nL 241.617938 224.64 \nL 214.833938 224.64 \nL 214.833938 202.896 \n\" style=\"fill:#971c5b;\"/>\n    <path clip-path=\"url(#pe2a0e7ee2f)\" d=\"M 241.617938 202.896 \nL 268.401938 202.896 \nL 268.401938 224.64 \nL 241.617938 224.64 \nL 241.617938 202.896 \n\" style=\"fill:#711f57;\"/>\n    <path clip-path=\"url(#pe2a0e7ee2f)\" d=\"M 268.401938 202.896 \nL 295.185938 202.896 \nL 295.185938 224.64 \nL 268.401938 224.64 \nL 268.401938 202.896 \n\" style=\"fill:#faebdd;\"/>\n   </g>\n   <g id=\"text_22\">\n    <!-- -1 -->\n    <defs>\n     <path d=\"M 4.890625 31.390625 \nL 31.203125 31.390625 \nL 31.203125 23.390625 \nL 4.890625 23.390625 \nz\n\" id=\"DejaVuSans-45\"/>\n    </defs>\n    <g style=\"fill:#ffffff;\" transform=\"translate(34.75575 21.38325)scale(0.12 -0.12)\">\n     <use xlink:href=\"#DejaVuSans-45\"/>\n     <use x=\"36.083984\" xlink:href=\"#DejaVuSans-49\"/>\n    </g>\n   </g>\n   <g id=\"text_23\">\n    <!-- 0 -->\n    <g style=\"fill:#ffffff;\" transform=\"translate(63.704438 21.38325)scale(0.12 -0.12)\">\n     <use xlink:href=\"#DejaVuSans-48\"/>\n    </g>\n   </g>\n   <g id=\"text_24\">\n    <!-- 0 -->\n    <g style=\"fill:#ffffff;\" transform=\"translate(90.488438 21.38325)scale(0.12 -0.12)\">\n     <use xlink:href=\"#DejaVuSans-48\"/>\n    </g>\n   </g>\n   <g id=\"text_25\">\n    <!-- 0 -->\n    <g style=\"fill:#ffffff;\" transform=\"translate(117.272438 21.38325)scale(0.12 -0.12)\">\n     <use xlink:href=\"#DejaVuSans-48\"/>\n    </g>\n   </g>\n   <g id=\"text_26\">\n    <!-- 0 -->\n    <g style=\"fill:#ffffff;\" transform=\"translate(144.056438 21.38325)scale(0.12 -0.12)\">\n     <use xlink:href=\"#DejaVuSans-48\"/>\n    </g>\n   </g>\n   <g id=\"text_27\">\n    <!-- 0 -->\n    <g style=\"fill:#ffffff;\" transform=\"translate(170.840438 21.38325)scale(0.12 -0.12)\">\n     <use xlink:href=\"#DejaVuSans-48\"/>\n    </g>\n   </g>\n   <g id=\"text_28\">\n    <!-- 0 -->\n    <g style=\"fill:#ffffff;\" transform=\"translate(197.624438 21.38325)scale(0.12 -0.12)\">\n     <use xlink:href=\"#DejaVuSans-48\"/>\n    </g>\n   </g>\n   <g id=\"text_29\">\n    <!-- 1 -->\n    <g style=\"fill:#ffffff;\" transform=\"translate(224.408438 21.38325)scale(0.12 -0.12)\">\n     <use xlink:href=\"#DejaVuSans-49\"/>\n    </g>\n   </g>\n   <g id=\"text_30\">\n    <!-- 0 -->\n    <g style=\"fill:#ffffff;\" transform=\"translate(251.192438 21.38325)scale(0.12 -0.12)\">\n     <use xlink:href=\"#DejaVuSans-48\"/>\n    </g>\n   </g>\n   <g id=\"text_31\">\n    <!-- 0 -->\n    <g style=\"fill:#ffffff;\" transform=\"translate(277.976438 21.38325)scale(0.12 -0.12)\">\n     <use xlink:href=\"#DejaVuSans-48\"/>\n    </g>\n   </g>\n   <g id=\"text_32\">\n    <!-- 0 -->\n    <g style=\"fill:#ffffff;\" transform=\"translate(36.920438 43.12725)scale(0.12 -0.12)\">\n     <use xlink:href=\"#DejaVuSans-48\"/>\n    </g>\n   </g>\n   <g id=\"text_33\">\n    <!-- 3 -->\n    <g style=\"fill:#ffffff;\" transform=\"translate(63.704438 43.12725)scale(0.12 -0.12)\">\n     <use xlink:href=\"#DejaVuSans-51\"/>\n    </g>\n   </g>\n   <g id=\"text_34\">\n    <!-- -1 -->\n    <g style=\"fill:#ffffff;\" transform=\"translate(88.32375 43.12725)scale(0.12 -0.12)\">\n     <use xlink:href=\"#DejaVuSans-45\"/>\n     <use x=\"36.083984\" xlink:href=\"#DejaVuSans-49\"/>\n    </g>\n   </g>\n   <g id=\"text_35\">\n    <!-- -1 -->\n    <g style=\"fill:#ffffff;\" transform=\"translate(115.10775 43.12725)scale(0.12 -0.12)\">\n     <use xlink:href=\"#DejaVuSans-45\"/>\n     <use x=\"36.083984\" xlink:href=\"#DejaVuSans-49\"/>\n    </g>\n   </g>\n   <g id=\"text_36\">\n    <!-- 0 -->\n    <g style=\"fill:#ffffff;\" transform=\"translate(144.056438 43.12725)scale(0.12 -0.12)\">\n     <use xlink:href=\"#DejaVuSans-48\"/>\n    </g>\n   </g>\n   <g id=\"text_37\">\n    <!-- 0 -->\n    <g style=\"fill:#ffffff;\" transform=\"translate(170.840438 43.12725)scale(0.12 -0.12)\">\n     <use xlink:href=\"#DejaVuSans-48\"/>\n    </g>\n   </g>\n   <g id=\"text_38\">\n    <!-- -1 -->\n    <g style=\"fill:#ffffff;\" transform=\"translate(195.45975 43.12725)scale(0.12 -0.12)\">\n     <use xlink:href=\"#DejaVuSans-45\"/>\n     <use x=\"36.083984\" xlink:href=\"#DejaVuSans-49\"/>\n    </g>\n   </g>\n   <g id=\"text_39\">\n    <!-- 0 -->\n    <g style=\"fill:#ffffff;\" transform=\"translate(224.408438 43.12725)scale(0.12 -0.12)\">\n     <use xlink:href=\"#DejaVuSans-48\"/>\n    </g>\n   </g>\n   <g id=\"text_40\">\n    <!-- 0 -->\n    <g style=\"fill:#ffffff;\" transform=\"translate(251.192438 43.12725)scale(0.12 -0.12)\">\n     <use xlink:href=\"#DejaVuSans-48\"/>\n    </g>\n   </g>\n   <g id=\"text_41\">\n    <!-- 0 -->\n    <g style=\"fill:#ffffff;\" transform=\"translate(277.976438 43.12725)scale(0.12 -0.12)\">\n     <use xlink:href=\"#DejaVuSans-48\"/>\n    </g>\n   </g>\n   <g id=\"text_42\">\n    <!-- -3 -->\n    <g style=\"fill:#ffffff;\" transform=\"translate(34.75575 64.87125)scale(0.12 -0.12)\">\n     <use xlink:href=\"#DejaVuSans-45\"/>\n     <use x=\"36.083984\" xlink:href=\"#DejaVuSans-51\"/>\n    </g>\n   </g>\n   <g id=\"text_43\">\n    <!-- 1 -->\n    <g style=\"fill:#ffffff;\" transform=\"translate(63.704438 64.87125)scale(0.12 -0.12)\">\n     <use xlink:href=\"#DejaVuSans-49\"/>\n    </g>\n   </g>\n   <g id=\"text_44\">\n    <!-- -3 -->\n    <g style=\"fill:#ffffff;\" transform=\"translate(88.32375 64.87125)scale(0.12 -0.12)\">\n     <use xlink:href=\"#DejaVuSans-45\"/>\n     <use x=\"36.083984\" xlink:href=\"#DejaVuSans-51\"/>\n    </g>\n   </g>\n   <g id=\"text_45\">\n    <!-- 0 -->\n    <g style=\"fill:#ffffff;\" transform=\"translate(117.272438 64.87125)scale(0.12 -0.12)\">\n     <use xlink:href=\"#DejaVuSans-48\"/>\n    </g>\n   </g>\n   <g id=\"text_46\">\n    <!-- -1 -->\n    <g style=\"fill:#ffffff;\" transform=\"translate(141.89175 64.87125)scale(0.12 -0.12)\">\n     <use xlink:href=\"#DejaVuSans-45\"/>\n     <use x=\"36.083984\" xlink:href=\"#DejaVuSans-49\"/>\n    </g>\n   </g>\n   <g id=\"text_47\">\n    <!-- 0 -->\n    <g style=\"fill:#ffffff;\" transform=\"translate(170.840438 64.87125)scale(0.12 -0.12)\">\n     <use xlink:href=\"#DejaVuSans-48\"/>\n    </g>\n   </g>\n   <g id=\"text_48\">\n    <!-- 2 -->\n    <g style=\"fill:#ffffff;\" transform=\"translate(197.624438 64.87125)scale(0.12 -0.12)\">\n     <use xlink:href=\"#DejaVuSans-50\"/>\n    </g>\n   </g>\n   <g id=\"text_49\">\n    <!-- 5 -->\n    <g style=\"fill:#ffffff;\" transform=\"translate(224.408438 64.87125)scale(0.12 -0.12)\">\n     <use xlink:href=\"#DejaVuSans-53\"/>\n    </g>\n   </g>\n   <g id=\"text_50\">\n    <!-- -1 -->\n    <g style=\"fill:#ffffff;\" transform=\"translate(249.02775 64.87125)scale(0.12 -0.12)\">\n     <use xlink:href=\"#DejaVuSans-45\"/>\n     <use x=\"36.083984\" xlink:href=\"#DejaVuSans-49\"/>\n    </g>\n   </g>\n   <g id=\"text_51\">\n    <!-- 0 -->\n    <g style=\"fill:#ffffff;\" transform=\"translate(277.976438 64.87125)scale(0.12 -0.12)\">\n     <use xlink:href=\"#DejaVuSans-48\"/>\n    </g>\n   </g>\n   <g id=\"text_52\">\n    <!-- 0 -->\n    <g style=\"fill:#ffffff;\" transform=\"translate(36.920438 86.61525)scale(0.12 -0.12)\">\n     <use xlink:href=\"#DejaVuSans-48\"/>\n    </g>\n   </g>\n   <g id=\"text_53\">\n    <!-- 0 -->\n    <g style=\"fill:#ffffff;\" transform=\"translate(63.704438 86.61525)scale(0.12 -0.12)\">\n     <use xlink:href=\"#DejaVuSans-48\"/>\n    </g>\n   </g>\n   <g id=\"text_54\">\n    <!-- -1 -->\n    <g style=\"fill:#ffffff;\" transform=\"translate(88.32375 86.61525)scale(0.12 -0.12)\">\n     <use xlink:href=\"#DejaVuSans-45\"/>\n     <use x=\"36.083984\" xlink:href=\"#DejaVuSans-49\"/>\n    </g>\n   </g>\n   <g id=\"text_55\">\n    <!-- 11 -->\n    <g style=\"fill:#ffffff;\" transform=\"translate(113.454938 86.61525)scale(0.12 -0.12)\">\n     <use xlink:href=\"#DejaVuSans-49\"/>\n     <use x=\"63.623047\" xlink:href=\"#DejaVuSans-49\"/>\n    </g>\n   </g>\n   <g id=\"text_56\">\n    <!-- 1 -->\n    <g style=\"fill:#ffffff;\" transform=\"translate(144.056438 86.61525)scale(0.12 -0.12)\">\n     <use xlink:href=\"#DejaVuSans-49\"/>\n    </g>\n   </g>\n   <g id=\"text_57\">\n    <!-- -7 -->\n    <g style=\"fill:#ffffff;\" transform=\"translate(168.67575 86.61525)scale(0.12 -0.12)\">\n     <use xlink:href=\"#DejaVuSans-45\"/>\n     <use x=\"36.083984\" xlink:href=\"#DejaVuSans-55\"/>\n    </g>\n   </g>\n   <g id=\"text_58\">\n    <!-- 0 -->\n    <g style=\"fill:#ffffff;\" transform=\"translate(197.624438 86.61525)scale(0.12 -0.12)\">\n     <use xlink:href=\"#DejaVuSans-48\"/>\n    </g>\n   </g>\n   <g id=\"text_59\">\n    <!-- -1 -->\n    <g style=\"fill:#ffffff;\" transform=\"translate(222.24375 86.61525)scale(0.12 -0.12)\">\n     <use xlink:href=\"#DejaVuSans-45\"/>\n     <use x=\"36.083984\" xlink:href=\"#DejaVuSans-49\"/>\n    </g>\n   </g>\n   <g id=\"text_60\">\n    <!-- -3 -->\n    <g style=\"fill:#ffffff;\" transform=\"translate(249.02775 86.61525)scale(0.12 -0.12)\">\n     <use xlink:href=\"#DejaVuSans-45\"/>\n     <use x=\"36.083984\" xlink:href=\"#DejaVuSans-51\"/>\n    </g>\n   </g>\n   <g id=\"text_61\">\n    <!-- 0 -->\n    <g style=\"fill:#ffffff;\" transform=\"translate(277.976438 86.61525)scale(0.12 -0.12)\">\n     <use xlink:href=\"#DejaVuSans-48\"/>\n    </g>\n   </g>\n   <g id=\"text_62\">\n    <!-- -2 -->\n    <g style=\"fill:#ffffff;\" transform=\"translate(34.75575 108.35925)scale(0.12 -0.12)\">\n     <use xlink:href=\"#DejaVuSans-45\"/>\n     <use x=\"36.083984\" xlink:href=\"#DejaVuSans-50\"/>\n    </g>\n   </g>\n   <g id=\"text_63\">\n    <!-- -1 -->\n    <g style=\"fill:#ffffff;\" transform=\"translate(61.53975 108.35925)scale(0.12 -0.12)\">\n     <use xlink:href=\"#DejaVuSans-45\"/>\n     <use x=\"36.083984\" xlink:href=\"#DejaVuSans-49\"/>\n    </g>\n   </g>\n   <g id=\"text_64\">\n    <!-- 0 -->\n    <g style=\"fill:#ffffff;\" transform=\"translate(90.488438 108.35925)scale(0.12 -0.12)\">\n     <use xlink:href=\"#DejaVuSans-48\"/>\n    </g>\n   </g>\n   <g id=\"text_65\">\n    <!-- 0 -->\n    <g style=\"fill:#ffffff;\" transform=\"translate(117.272438 108.35925)scale(0.12 -0.12)\">\n     <use xlink:href=\"#DejaVuSans-48\"/>\n    </g>\n   </g>\n   <g id=\"text_66\">\n    <!-- 9 -->\n    <g style=\"fill:#ffffff;\" transform=\"translate(144.056438 108.35925)scale(0.12 -0.12)\">\n     <use xlink:href=\"#DejaVuSans-57\"/>\n    </g>\n   </g>\n   <g id=\"text_67\">\n    <!-- 0 -->\n    <g style=\"fill:#ffffff;\" transform=\"translate(170.840438 108.35925)scale(0.12 -0.12)\">\n     <use xlink:href=\"#DejaVuSans-48\"/>\n    </g>\n   </g>\n   <g id=\"text_68\">\n    <!-- -3 -->\n    <g style=\"fill:#ffffff;\" transform=\"translate(195.45975 108.35925)scale(0.12 -0.12)\">\n     <use xlink:href=\"#DejaVuSans-45\"/>\n     <use x=\"36.083984\" xlink:href=\"#DejaVuSans-51\"/>\n    </g>\n   </g>\n   <g id=\"text_69\">\n    <!-- 0 -->\n    <g style=\"fill:#ffffff;\" transform=\"translate(224.408438 108.35925)scale(0.12 -0.12)\">\n     <use xlink:href=\"#DejaVuSans-48\"/>\n    </g>\n   </g>\n   <g id=\"text_70\">\n    <!-- -1 -->\n    <g style=\"fill:#ffffff;\" transform=\"translate(249.02775 108.35925)scale(0.12 -0.12)\">\n     <use xlink:href=\"#DejaVuSans-45\"/>\n     <use x=\"36.083984\" xlink:href=\"#DejaVuSans-49\"/>\n    </g>\n   </g>\n   <g id=\"text_71\">\n    <!-- -2 -->\n    <g style=\"fill:#ffffff;\" transform=\"translate(275.81175 108.35925)scale(0.12 -0.12)\">\n     <use xlink:href=\"#DejaVuSans-45\"/>\n     <use x=\"36.083984\" xlink:href=\"#DejaVuSans-50\"/>\n    </g>\n   </g>\n   <g id=\"text_72\">\n    <!-- -2 -->\n    <g style=\"fill:#ffffff;\" transform=\"translate(34.75575 130.10325)scale(0.12 -0.12)\">\n     <use xlink:href=\"#DejaVuSans-45\"/>\n     <use x=\"36.083984\" xlink:href=\"#DejaVuSans-50\"/>\n    </g>\n   </g>\n   <g id=\"text_73\">\n    <!-- 0 -->\n    <g style=\"fill:#ffffff;\" transform=\"translate(63.704438 130.10325)scale(0.12 -0.12)\">\n     <use xlink:href=\"#DejaVuSans-48\"/>\n    </g>\n   </g>\n   <g id=\"text_74\">\n    <!-- 0 -->\n    <g style=\"fill:#ffffff;\" transform=\"translate(90.488438 130.10325)scale(0.12 -0.12)\">\n     <use xlink:href=\"#DejaVuSans-48\"/>\n    </g>\n   </g>\n   <g id=\"text_75\">\n    <!-- -4 -->\n    <g style=\"fill:#ffffff;\" transform=\"translate(115.10775 130.10325)scale(0.12 -0.12)\">\n     <use xlink:href=\"#DejaVuSans-45\"/>\n     <use x=\"36.083984\" xlink:href=\"#DejaVuSans-52\"/>\n    </g>\n   </g>\n   <g id=\"text_76\">\n    <!-- 0 -->\n    <g style=\"fill:#ffffff;\" transform=\"translate(144.056438 130.10325)scale(0.12 -0.12)\">\n     <use xlink:href=\"#DejaVuSans-48\"/>\n    </g>\n   </g>\n   <g id=\"text_77\">\n    <!-- 14 -->\n    <g style=\"fill:#262626;\" transform=\"translate(167.022938 130.10325)scale(0.12 -0.12)\">\n     <use xlink:href=\"#DejaVuSans-49\"/>\n     <use x=\"63.623047\" xlink:href=\"#DejaVuSans-52\"/>\n    </g>\n   </g>\n   <g id=\"text_78\">\n    <!-- -4 -->\n    <g style=\"fill:#ffffff;\" transform=\"translate(195.45975 130.10325)scale(0.12 -0.12)\">\n     <use xlink:href=\"#DejaVuSans-45\"/>\n     <use x=\"36.083984\" xlink:href=\"#DejaVuSans-52\"/>\n    </g>\n   </g>\n   <g id=\"text_79\">\n    <!-- 1 -->\n    <g style=\"fill:#ffffff;\" transform=\"translate(224.408438 130.10325)scale(0.12 -0.12)\">\n     <use xlink:href=\"#DejaVuSans-49\"/>\n    </g>\n   </g>\n   <g id=\"text_80\">\n    <!-- -4 -->\n    <g style=\"fill:#ffffff;\" transform=\"translate(249.02775 130.10325)scale(0.12 -0.12)\">\n     <use xlink:href=\"#DejaVuSans-45\"/>\n     <use x=\"36.083984\" xlink:href=\"#DejaVuSans-52\"/>\n    </g>\n   </g>\n   <g id=\"text_81\">\n    <!-- -1 -->\n    <g style=\"fill:#ffffff;\" transform=\"translate(275.81175 130.10325)scale(0.12 -0.12)\">\n     <use xlink:href=\"#DejaVuSans-45\"/>\n     <use x=\"36.083984\" xlink:href=\"#DejaVuSans-49\"/>\n    </g>\n   </g>\n   <g id=\"text_82\">\n    <!-- -2 -->\n    <g style=\"fill:#ffffff;\" transform=\"translate(34.75575 151.84725)scale(0.12 -0.12)\">\n     <use xlink:href=\"#DejaVuSans-45\"/>\n     <use x=\"36.083984\" xlink:href=\"#DejaVuSans-50\"/>\n    </g>\n   </g>\n   <g id=\"text_83\">\n    <!-- 1 -->\n    <g style=\"fill:#ffffff;\" transform=\"translate(63.704438 151.84725)scale(0.12 -0.12)\">\n     <use xlink:href=\"#DejaVuSans-49\"/>\n    </g>\n   </g>\n   <g id=\"text_84\">\n    <!-- 0 -->\n    <g style=\"fill:#ffffff;\" transform=\"translate(90.488438 151.84725)scale(0.12 -0.12)\">\n     <use xlink:href=\"#DejaVuSans-48\"/>\n    </g>\n   </g>\n   <g id=\"text_85\">\n    <!-- 0 -->\n    <g style=\"fill:#ffffff;\" transform=\"translate(117.272438 151.84725)scale(0.12 -0.12)\">\n     <use xlink:href=\"#DejaVuSans-48\"/>\n    </g>\n   </g>\n   <g id=\"text_86\">\n    <!-- -2 -->\n    <g style=\"fill:#ffffff;\" transform=\"translate(141.89175 151.84725)scale(0.12 -0.12)\">\n     <use xlink:href=\"#DejaVuSans-45\"/>\n     <use x=\"36.083984\" xlink:href=\"#DejaVuSans-50\"/>\n    </g>\n   </g>\n   <g id=\"text_87\">\n    <!-- -2 -->\n    <g style=\"fill:#ffffff;\" transform=\"translate(168.67575 151.84725)scale(0.12 -0.12)\">\n     <use xlink:href=\"#DejaVuSans-45\"/>\n     <use x=\"36.083984\" xlink:href=\"#DejaVuSans-50\"/>\n    </g>\n   </g>\n   <g id=\"text_88\">\n    <!-- 4 -->\n    <g style=\"fill:#ffffff;\" transform=\"translate(197.624438 151.84725)scale(0.12 -0.12)\">\n     <use xlink:href=\"#DejaVuSans-52\"/>\n    </g>\n   </g>\n   <g id=\"text_89\">\n    <!-- 0 -->\n    <g style=\"fill:#ffffff;\" transform=\"translate(224.408438 151.84725)scale(0.12 -0.12)\">\n     <use xlink:href=\"#DejaVuSans-48\"/>\n    </g>\n   </g>\n   <g id=\"text_90\">\n    <!-- 1 -->\n    <g style=\"fill:#ffffff;\" transform=\"translate(251.192438 151.84725)scale(0.12 -0.12)\">\n     <use xlink:href=\"#DejaVuSans-49\"/>\n    </g>\n   </g>\n   <g id=\"text_91\">\n    <!-- 0 -->\n    <g style=\"fill:#ffffff;\" transform=\"translate(277.976438 151.84725)scale(0.12 -0.12)\">\n     <use xlink:href=\"#DejaVuSans-48\"/>\n    </g>\n   </g>\n   <g id=\"text_92\">\n    <!-- -1 -->\n    <g style=\"fill:#ffffff;\" transform=\"translate(34.75575 173.59125)scale(0.12 -0.12)\">\n     <use xlink:href=\"#DejaVuSans-45\"/>\n     <use x=\"36.083984\" xlink:href=\"#DejaVuSans-49\"/>\n    </g>\n   </g>\n   <g id=\"text_93\">\n    <!-- 0 -->\n    <g style=\"fill:#ffffff;\" transform=\"translate(63.704438 173.59125)scale(0.12 -0.12)\">\n     <use xlink:href=\"#DejaVuSans-48\"/>\n    </g>\n   </g>\n   <g id=\"text_94\">\n    <!-- -1 -->\n    <g style=\"fill:#ffffff;\" transform=\"translate(88.32375 173.59125)scale(0.12 -0.12)\">\n     <use xlink:href=\"#DejaVuSans-45\"/>\n     <use x=\"36.083984\" xlink:href=\"#DejaVuSans-49\"/>\n    </g>\n   </g>\n   <g id=\"text_95\">\n    <!-- 3 -->\n    <g style=\"fill:#ffffff;\" transform=\"translate(117.272438 173.59125)scale(0.12 -0.12)\">\n     <use xlink:href=\"#DejaVuSans-51\"/>\n    </g>\n   </g>\n   <g id=\"text_96\">\n    <!-- -1 -->\n    <g style=\"fill:#ffffff;\" transform=\"translate(141.89175 173.59125)scale(0.12 -0.12)\">\n     <use xlink:href=\"#DejaVuSans-45\"/>\n     <use x=\"36.083984\" xlink:href=\"#DejaVuSans-49\"/>\n    </g>\n   </g>\n   <g id=\"text_97\">\n    <!-- 0 -->\n    <g style=\"fill:#ffffff;\" transform=\"translate(170.840438 173.59125)scale(0.12 -0.12)\">\n     <use xlink:href=\"#DejaVuSans-48\"/>\n    </g>\n   </g>\n   <g id=\"text_98\">\n    <!-- 1 -->\n    <g style=\"fill:#ffffff;\" transform=\"translate(197.624438 173.59125)scale(0.12 -0.12)\">\n     <use xlink:href=\"#DejaVuSans-49\"/>\n    </g>\n   </g>\n   <g id=\"text_99\">\n    <!-- 6 -->\n    <g style=\"fill:#ffffff;\" transform=\"translate(224.408438 173.59125)scale(0.12 -0.12)\">\n     <use xlink:href=\"#DejaVuSans-54\"/>\n    </g>\n   </g>\n   <g id=\"text_100\">\n    <!-- 0 -->\n    <g style=\"fill:#ffffff;\" transform=\"translate(251.192438 173.59125)scale(0.12 -0.12)\">\n     <use xlink:href=\"#DejaVuSans-48\"/>\n    </g>\n   </g>\n   <g id=\"text_101\">\n    <!-- -7 -->\n    <g style=\"fill:#ffffff;\" transform=\"translate(275.81175 173.59125)scale(0.12 -0.12)\">\n     <use xlink:href=\"#DejaVuSans-45\"/>\n     <use x=\"36.083984\" xlink:href=\"#DejaVuSans-55\"/>\n    </g>\n   </g>\n   <g id=\"text_102\">\n    <!-- -3 -->\n    <g style=\"fill:#ffffff;\" transform=\"translate(34.75575 195.33525)scale(0.12 -0.12)\">\n     <use xlink:href=\"#DejaVuSans-45\"/>\n     <use x=\"36.083984\" xlink:href=\"#DejaVuSans-51\"/>\n    </g>\n   </g>\n   <g id=\"text_103\">\n    <!-- -2 -->\n    <g style=\"fill:#ffffff;\" transform=\"translate(61.53975 195.33525)scale(0.12 -0.12)\">\n     <use xlink:href=\"#DejaVuSans-45\"/>\n     <use x=\"36.083984\" xlink:href=\"#DejaVuSans-50\"/>\n    </g>\n   </g>\n   <g id=\"text_104\">\n    <!-- 0 -->\n    <g style=\"fill:#ffffff;\" transform=\"translate(90.488438 195.33525)scale(0.12 -0.12)\">\n     <use xlink:href=\"#DejaVuSans-48\"/>\n    </g>\n   </g>\n   <g id=\"text_105\">\n    <!-- -6 -->\n    <g style=\"fill:#ffffff;\" transform=\"translate(115.10775 195.33525)scale(0.12 -0.12)\">\n     <use xlink:href=\"#DejaVuSans-45\"/>\n     <use x=\"36.083984\" xlink:href=\"#DejaVuSans-54\"/>\n    </g>\n   </g>\n   <g id=\"text_106\">\n    <!-- 0 -->\n    <g style=\"fill:#ffffff;\" transform=\"translate(144.056438 195.33525)scale(0.12 -0.12)\">\n     <use xlink:href=\"#DejaVuSans-48\"/>\n    </g>\n   </g>\n   <g id=\"text_107\">\n    <!-- 3 -->\n    <g style=\"fill:#ffffff;\" transform=\"translate(170.840438 195.33525)scale(0.12 -0.12)\">\n     <use xlink:href=\"#DejaVuSans-51\"/>\n    </g>\n   </g>\n   <g id=\"text_108\">\n    <!-- -1 -->\n    <g style=\"fill:#ffffff;\" transform=\"translate(195.45975 195.33525)scale(0.12 -0.12)\">\n     <use xlink:href=\"#DejaVuSans-45\"/>\n     <use x=\"36.083984\" xlink:href=\"#DejaVuSans-49\"/>\n    </g>\n   </g>\n   <g id=\"text_109\">\n    <!-- 1 -->\n    <g style=\"fill:#ffffff;\" transform=\"translate(224.408438 195.33525)scale(0.12 -0.12)\">\n     <use xlink:href=\"#DejaVuSans-49\"/>\n    </g>\n   </g>\n   <g id=\"text_110\">\n    <!-- 6 -->\n    <g style=\"fill:#ffffff;\" transform=\"translate(251.192438 195.33525)scale(0.12 -0.12)\">\n     <use xlink:href=\"#DejaVuSans-54\"/>\n    </g>\n   </g>\n   <g id=\"text_111\">\n    <!-- 2 -->\n    <g style=\"fill:#ffffff;\" transform=\"translate(277.976438 195.33525)scale(0.12 -0.12)\">\n     <use xlink:href=\"#DejaVuSans-50\"/>\n    </g>\n   </g>\n   <g id=\"text_112\">\n    <!-- -5 -->\n    <g style=\"fill:#ffffff;\" transform=\"translate(34.75575 217.07925)scale(0.12 -0.12)\">\n     <use xlink:href=\"#DejaVuSans-45\"/>\n     <use x=\"36.083984\" xlink:href=\"#DejaVuSans-53\"/>\n    </g>\n   </g>\n   <g id=\"text_113\">\n    <!-- -2 -->\n    <g style=\"fill:#ffffff;\" transform=\"translate(61.53975 217.07925)scale(0.12 -0.12)\">\n     <use xlink:href=\"#DejaVuSans-45\"/>\n     <use x=\"36.083984\" xlink:href=\"#DejaVuSans-50\"/>\n    </g>\n   </g>\n   <g id=\"text_114\">\n    <!-- -2 -->\n    <g style=\"fill:#ffffff;\" transform=\"translate(88.32375 217.07925)scale(0.12 -0.12)\">\n     <use xlink:href=\"#DejaVuSans-45\"/>\n     <use x=\"36.083984\" xlink:href=\"#DejaVuSans-50\"/>\n    </g>\n   </g>\n   <g id=\"text_115\">\n    <!-- -4 -->\n    <g style=\"fill:#ffffff;\" transform=\"translate(115.10775 217.07925)scale(0.12 -0.12)\">\n     <use xlink:href=\"#DejaVuSans-45\"/>\n     <use x=\"36.083984\" xlink:href=\"#DejaVuSans-52\"/>\n    </g>\n   </g>\n   <g id=\"text_116\">\n    <!-- -3 -->\n    <g style=\"fill:#ffffff;\" transform=\"translate(141.89175 217.07925)scale(0.12 -0.12)\">\n     <use xlink:href=\"#DejaVuSans-45\"/>\n     <use x=\"36.083984\" xlink:href=\"#DejaVuSans-51\"/>\n    </g>\n   </g>\n   <g id=\"text_117\">\n    <!-- -2 -->\n    <g style=\"fill:#ffffff;\" transform=\"translate(168.67575 217.07925)scale(0.12 -0.12)\">\n     <use xlink:href=\"#DejaVuSans-45\"/>\n     <use x=\"36.083984\" xlink:href=\"#DejaVuSans-50\"/>\n    </g>\n   </g>\n   <g id=\"text_118\">\n    <!-- -1 -->\n    <g style=\"fill:#ffffff;\" transform=\"translate(195.45975 217.07925)scale(0.12 -0.12)\">\n     <use xlink:href=\"#DejaVuSans-45\"/>\n     <use x=\"36.083984\" xlink:href=\"#DejaVuSans-49\"/>\n    </g>\n   </g>\n   <g id=\"text_119\">\n    <!-- 2 -->\n    <g style=\"fill:#ffffff;\" transform=\"translate(224.408438 217.07925)scale(0.12 -0.12)\">\n     <use xlink:href=\"#DejaVuSans-50\"/>\n    </g>\n   </g>\n   <g id=\"text_120\">\n    <!-- 0 -->\n    <g style=\"fill:#ffffff;\" transform=\"translate(251.192438 217.07925)scale(0.12 -0.12)\">\n     <use xlink:href=\"#DejaVuSans-48\"/>\n    </g>\n   </g>\n   <g id=\"text_121\">\n    <!-- 17 -->\n    <g style=\"fill:#262626;\" transform=\"translate(274.158938 217.07925)scale(0.12 -0.12)\">\n     <use xlink:href=\"#DejaVuSans-49\"/>\n     <use x=\"63.623047\" xlink:href=\"#DejaVuSans-55\"/>\n    </g>\n   </g>\n  </g>\n  <g id=\"axes_2\">\n   <g id=\"patch_3\">\n    <path clip-path=\"url(#pc1a007a5ba)\" d=\"M 311.925938 224.64 \nL 311.925938 223.790625 \nL 311.925938 8.049375 \nL 311.925938 7.2 \nL 322.797938 7.2 \nL 322.797938 8.049375 \nL 322.797938 223.790625 \nL 322.797938 224.64 \nz\n\" style=\"fill:#eaeaf2;stroke:#eaeaf2;stroke-linejoin:miter;stroke-width:0.01;\"/>\n   </g>\n   <g id=\"matplotlib.axis_3\"/>\n   <g id=\"matplotlib.axis_4\">\n    <g id=\"ytick_11\">\n     <g id=\"line2d_1\">\n      <defs>\n       <path d=\"M 0 0 \nL 6 0 \n\" id=\"m8351fe49f3\" style=\"stroke:#262626;stroke-width:1.25;\"/>\n      </defs>\n      <g>\n       <use style=\"fill:#262626;stroke:#262626;stroke-width:1.25;\" x=\"322.797938\" xlink:href=\"#m8351fe49f3\" y=\"206.52\"/>\n      </g>\n     </g>\n     <g id=\"text_122\">\n      <!-- −5 -->\n      <defs>\n       <path d=\"M 10.59375 35.5 \nL 73.1875 35.5 \nL 73.1875 27.203125 \nL 10.59375 27.203125 \nz\n\" id=\"DejaVuSans-8722\"/>\n      </defs>\n      <g style=\"fill:#262626;\" transform=\"translate(332.297938 210.699141)scale(0.11 -0.11)\">\n       <use xlink:href=\"#DejaVuSans-8722\"/>\n       <use x=\"83.789062\" xlink:href=\"#DejaVuSans-53\"/>\n      </g>\n     </g>\n    </g>\n    <g id=\"ytick_12\">\n     <g id=\"line2d_2\">\n      <g>\n       <use style=\"fill:#262626;stroke:#262626;stroke-width:1.25;\" x=\"322.797938\" xlink:href=\"#m8351fe49f3\" y=\"161.22\"/>\n      </g>\n     </g>\n     <g id=\"text_123\">\n      <!-- 0 -->\n      <g style=\"fill:#262626;\" transform=\"translate(332.297938 165.399141)scale(0.11 -0.11)\">\n       <use xlink:href=\"#DejaVuSans-48\"/>\n      </g>\n     </g>\n    </g>\n    <g id=\"ytick_13\">\n     <g id=\"line2d_3\">\n      <g>\n       <use style=\"fill:#262626;stroke:#262626;stroke-width:1.25;\" x=\"322.797938\" xlink:href=\"#m8351fe49f3\" y=\"115.92\"/>\n      </g>\n     </g>\n     <g id=\"text_124\">\n      <!-- 5 -->\n      <g style=\"fill:#262626;\" transform=\"translate(332.297938 120.099141)scale(0.11 -0.11)\">\n       <use xlink:href=\"#DejaVuSans-53\"/>\n      </g>\n     </g>\n    </g>\n    <g id=\"ytick_14\">\n     <g id=\"line2d_4\">\n      <g>\n       <use style=\"fill:#262626;stroke:#262626;stroke-width:1.25;\" x=\"322.797938\" xlink:href=\"#m8351fe49f3\" y=\"70.62\"/>\n      </g>\n     </g>\n     <g id=\"text_125\">\n      <!-- 10 -->\n      <g style=\"fill:#262626;\" transform=\"translate(332.297938 74.799141)scale(0.11 -0.11)\">\n       <use xlink:href=\"#DejaVuSans-49\"/>\n       <use x=\"63.623047\" xlink:href=\"#DejaVuSans-48\"/>\n      </g>\n     </g>\n    </g>\n    <g id=\"ytick_15\">\n     <g id=\"line2d_5\">\n      <g>\n       <use style=\"fill:#262626;stroke:#262626;stroke-width:1.25;\" x=\"322.797938\" xlink:href=\"#m8351fe49f3\" y=\"25.32\"/>\n      </g>\n     </g>\n     <g id=\"text_126\">\n      <!-- 15 -->\n      <g style=\"fill:#262626;\" transform=\"translate(332.297938 29.499141)scale(0.11 -0.11)\">\n       <use xlink:href=\"#DejaVuSans-49\"/>\n       <use x=\"63.623047\" xlink:href=\"#DejaVuSans-53\"/>\n      </g>\n     </g>\n    </g>\n   </g>\n   <image height=\"217\" id=\"image510f9a7e15\" transform=\"scale(1 -1)translate(0 -217)\" width=\"11\" x=\"312\" xlink:href=\"data:image/png;base64,\niVBORw0KGgoAAAANSUhEUgAAAAsAAADZCAYAAAD2WsoCAAAABHNCSVQICAgIfAhkiAAAAVlJREFUaIHVmNsNw0AIBHmlifRfZ5wWmI+RsL9Xq2XgOJ1zPt8nlt9k5lZLxWE5d9ZeXFqBpRWIMiMaXgc9zqzdrCkEnUeDOIvD/8YCtTPIaGgxJtCI7j9zNrzNT2jspe7mJ+Lx7pS1VG03ioHa7Q2/iQ44t3cGSQyz3e/L7MVozbnWzwOZBhDD4ScxCA2vwLkRg7VbG6QrNLQY8+ytzTN4IwaikWFlhgVaMTp+wBmAFjMn2AXTRFxEjGJA57WW0gBbxiyQxVhroXMXGH7wqwCi82jUkAI1ziY64Fzgpp/QYnhi8ISNybkRA1wqtEDkTN6DWmYxBrhj2d8elBmKSWZSIItB/hJ7NJLQiN6/6cWmHOGc4A+H2m7ijM7g7Le52hRyYL0YiAbbdaiDFjomZqvgRoHIudHw38j8QhqZ2iBdoeFdE1aB2R/J2Rx+i3N6q+BGgezAIhpWgX8Q+yojYgoAGwAAAABJRU5ErkJggg==\" y=\"-7\"/>\n   <g id=\"patch_4\">\n    <path d=\"M 311.925938 224.64 \nL 311.925938 223.790625 \nL 311.925938 8.049375 \nL 311.925938 7.2 \nL 322.797938 7.2 \nL 322.797938 8.049375 \nL 322.797938 223.790625 \nL 322.797938 224.64 \nz\n\" style=\"fill:none;\"/>\n   </g>\n  </g>\n </g>\n <defs>\n  <clipPath id=\"pe2a0e7ee2f\">\n   <rect height=\"217.44\" width=\"267.84\" x=\"27.345938\" y=\"7.2\"/>\n  </clipPath>\n  <clipPath id=\"pc1a007a5ba\">\n   <rect height=\"217.44\" width=\"10.872\" x=\"311.925938\" y=\"7.2\"/>\n  </clipPath>\n </defs>\n</svg>\n"
          },
          "metadata": {}
        }
      ]
    },
    {
      "cell_type": "markdown",
      "metadata": {
        "id": "_ZklDXv2gvsg"
      },
      "source": [
        "# Task 6"
      ]
    },
    {
      "cell_type": "code",
      "metadata": {
        "id": "ElMmmmjPgvsg",
        "colab": {
          "base_uri": "https://localhost:8080/"
        },
        "outputId": "0a61b0e1-9547-4469-85c9-9092f8d0f61f"
      },
      "source": [
        "data_test_augmented.shape"
      ],
      "execution_count": 42,
      "outputs": [
        {
          "output_type": "execute_result",
          "data": {
            "text/plain": [
              "(40000, 784)"
            ]
          },
          "metadata": {},
          "execution_count": 42
        }
      ]
    },
    {
      "cell_type": "code",
      "metadata": {
        "colab": {
          "base_uri": "https://localhost:8080/"
        },
        "id": "EIO2j3gLQNxY",
        "outputId": "3887b1db-bd73-431c-85fa-ac6240791c7f"
      },
      "source": [
        "params"
      ],
      "execution_count": 43,
      "outputs": [
        {
          "output_type": "execute_result",
          "data": {
            "text/plain": [
              "{'k': 3, 'metric': 'cosine', 'strategy': 'brute', 'weights': True}"
            ]
          },
          "metadata": {},
          "execution_count": 43
        }
      ]
    },
    {
      "cell_type": "code",
      "metadata": {
        "id": "WN6E7Mougvsh",
        "colab": {
          "base_uri": "https://localhost:8080/",
          "height": 177
        },
        "outputId": "c0893335-284a-460d-87df-26d5bd762036"
      },
      "source": [
        "clf1 = nearest_neighbors.KNNClassifier(**params)\n",
        "clf1.fit(data, target)\n",
        "pred1 = clf1.predict(data_test)\n",
        "\n",
        "# data_test_augmented2, targer_test_augmented2 = get_augmented_dataset(data_test, target_test, shift_list=[1, -1])\n",
        "# clf1 = nearest_neighbors.KNNClassifier(**params)\n",
        "# clf1.fit(data, target)\n",
        "# pred2 = clf1.predict(data_test_augmented2[10000:])\n",
        "\n",
        "data_test_augmented3, targer_test_augmented3 = get_augmented_dataset(data_test, target_test, rotate_list=[5, -5])\n",
        "clf1 = nearest_neighbors.KNNClassifier(**params)\n",
        "clf1.fit(data, target)\n",
        "pred3 = clf1.predict(data_test_augmented3[10000:])\n",
        "\n",
        "data_test_augmented4, targer_test_augmented4 = get_augmented_dataset(data_test, target_test, sigma_list=[1.0])\n",
        "clf1 = nearest_neighbors.KNNClassifier(**params)\n",
        "clf1.fit(data, target)\n",
        "pred4 = clf1.predict(data_test_augmented4[10000:])\n",
        "\n",
        "data_test_augmented5, targer_test_augmented5 = get_augmented_dataset(data_test, target_test, sigma_list=[0.5])\n",
        "clf1 = nearest_neighbors.KNNClassifier(**params)\n",
        "clf1.fit(data, target)\n",
        "pred5 = clf1.predict(data_test_augmented5[10000:])\n",
        "\n",
        "data_test_augmented6, targer_test_augmented6 = get_augmented_dataset(data_test, target_test, rotate_list=[10, -10])\n",
        "clf1 = nearest_neighbors.KNNClassifier(**params)\n",
        "clf1.fit(data, target)\n",
        "pred6 = clf1.predict(data_test_augmented6[10000:])\n",
        "\n",
        "data_test_augmented7, targer_test_augmented7 = get_augmented_dataset(data_test, target_test, rotate_list=[15, -15])\n",
        "clf1 = nearest_neighbors.KNNClassifier(**params)\n",
        "clf1.fit(data, target)\n",
        "pred7 = clf1.predict(data_test_augmented7[10000:])"
      ],
      "execution_count": 102,
      "outputs": [
        {
          "output_type": "display_data",
          "data": {
            "application/vnd.jupyter.widget-view+json": {
              "model_id": "9d8fc0d84aba42849e5aef76417fe928",
              "version_minor": 0,
              "version_major": 2
            },
            "text/plain": [
              "0it [00:00, ?it/s]"
            ]
          },
          "metadata": {}
        },
        {
          "output_type": "display_data",
          "data": {
            "application/vnd.jupyter.widget-view+json": {
              "model_id": "d30333a0001f4f49a494adf2f9fef356",
              "version_minor": 0,
              "version_major": 2
            },
            "text/plain": [
              "0it [00:00, ?it/s]"
            ]
          },
          "metadata": {}
        },
        {
          "output_type": "display_data",
          "data": {
            "application/vnd.jupyter.widget-view+json": {
              "model_id": "8dd844417d444c22919a578ff2582ac1",
              "version_minor": 0,
              "version_major": 2
            },
            "text/plain": [
              "0it [00:00, ?it/s]"
            ]
          },
          "metadata": {}
        },
        {
          "output_type": "display_data",
          "data": {
            "application/vnd.jupyter.widget-view+json": {
              "model_id": "834c72dcde3a4d329134dae0861223fb",
              "version_minor": 0,
              "version_major": 2
            },
            "text/plain": [
              "0it [00:00, ?it/s]"
            ]
          },
          "metadata": {}
        },
        {
          "output_type": "display_data",
          "data": {
            "application/vnd.jupyter.widget-view+json": {
              "model_id": "40deefd58af44615936cd150bfe41b36",
              "version_minor": 0,
              "version_major": 2
            },
            "text/plain": [
              "0it [00:00, ?it/s]"
            ]
          },
          "metadata": {}
        }
      ]
    },
    {
      "cell_type": "code",
      "metadata": {
        "colab": {
          "base_uri": "https://localhost:8080/"
        },
        "id": "09Io35_HIjE6",
        "outputId": "71efbc47-0618-42b4-8245-6d18f059f47e"
      },
      "source": [
        "accuracy_score(pred7, target_test)"
      ],
      "execution_count": 98,
      "outputs": [
        {
          "output_type": "execute_result",
          "data": {
            "text/plain": [
              "0.9458"
            ]
          },
          "metadata": {},
          "execution_count": 98
        }
      ]
    },
    {
      "cell_type": "code",
      "metadata": {
        "colab": {
          "base_uri": "https://localhost:8080/"
        },
        "id": "EkdeJrgyYG7P",
        "outputId": "7ad40cad-31a7-4e53-9f6a-6575febf3889"
      },
      "source": [
        "sum_pred = np.zeros(pred1.shape[0])\n",
        "for i in range(pred1.shape[0]):\n",
        "    voices = np.array([pred1[i], pred3[i], pred4[i], pred6[i]]).astype(int)\n",
        "    major = np.argmax(np.bincount(voices))\n",
        "    sum_pred[i] = major\n",
        "accuracy_score(sum_pred, target_test)"
      ],
      "execution_count": 105,
      "outputs": [
        {
          "output_type": "execute_result",
          "data": {
            "text/plain": [
              "0.9753"
            ]
          },
          "metadata": {},
          "execution_count": 105
        }
      ]
    },
    {
      "cell_type": "code",
      "metadata": {
        "colab": {
          "base_uri": "https://localhost:8080/",
          "height": 378
        },
        "id": "asRP9CCOF4Ym",
        "outputId": "90b86779-19c6-4a82-a9a7-b9578387c260"
      },
      "source": [
        "cf_matrix3 = confusion_matrix(target_test, sum_pred)\n",
        "sns.heatmap(cf_matrix3-cf_matrix1, annot=True, fmt='')\n",
        "plt.xlabel('accuracy: 0.9757')\n",
        "plt.savefig('task61.pdf')\n",
        "plt.show()"
      ],
      "execution_count": 101,
      "outputs": [
        {
          "output_type": "display_data",
          "data": {
            "text/plain": [
              "<Figure size 432x288 with 2 Axes>"
            ],
            "image/svg+xml": "<?xml version=\"1.0\" encoding=\"utf-8\" standalone=\"no\"?>\n<!DOCTYPE svg PUBLIC \"-//W3C//DTD SVG 1.1//EN\"\n  \"http://www.w3.org/Graphics/SVG/1.1/DTD/svg11.dtd\">\n<!-- Created with matplotlib (https://matplotlib.org/) -->\n<svg height=\"267.599687pt\" version=\"1.1\" viewBox=\"0 0 355.714344 267.599687\" width=\"355.714344pt\" xmlns=\"http://www.w3.org/2000/svg\" xmlns:xlink=\"http://www.w3.org/1999/xlink\">\n <defs>\n  <style type=\"text/css\">\n*{stroke-linecap:butt;stroke-linejoin:round;}\n  </style>\n </defs>\n <g id=\"figure_1\">\n  <g id=\"patch_1\">\n   <path d=\"M 0 267.599687 \nL 355.714344 267.599687 \nL 355.714344 0 \nL 0 0 \nz\n\" style=\"fill:#ffffff;\"/>\n  </g>\n  <g id=\"axes_1\">\n   <g id=\"patch_2\">\n    <path d=\"M 27.345938 224.64 \nL 295.185938 224.64 \nL 295.185938 7.2 \nL 27.345938 7.2 \nz\n\" style=\"fill:#eaeaf2;\"/>\n   </g>\n   <g id=\"matplotlib.axis_1\">\n    <g id=\"xtick_1\">\n     <g id=\"text_1\">\n      <!-- 0 -->\n      <defs>\n       <path d=\"M 31.78125 66.40625 \nQ 24.171875 66.40625 20.328125 58.90625 \nQ 16.5 51.421875 16.5 36.375 \nQ 16.5 21.390625 20.328125 13.890625 \nQ 24.171875 6.390625 31.78125 6.390625 \nQ 39.453125 6.390625 43.28125 13.890625 \nQ 47.125 21.390625 47.125 36.375 \nQ 47.125 51.421875 43.28125 58.90625 \nQ 39.453125 66.40625 31.78125 66.40625 \nz\nM 31.78125 74.21875 \nQ 44.046875 74.21875 50.515625 64.515625 \nQ 56.984375 54.828125 56.984375 36.375 \nQ 56.984375 17.96875 50.515625 8.265625 \nQ 44.046875 -1.421875 31.78125 -1.421875 \nQ 19.53125 -1.421875 13.0625 8.265625 \nQ 6.59375 17.96875 6.59375 36.375 \nQ 6.59375 54.828125 13.0625 64.515625 \nQ 19.53125 74.21875 31.78125 74.21875 \nz\n\" id=\"DejaVuSans-48\"/>\n      </defs>\n      <g style=\"fill:#262626;\" transform=\"translate(37.238563 242.498281)scale(0.11 -0.11)\">\n       <use xlink:href=\"#DejaVuSans-48\"/>\n      </g>\n     </g>\n    </g>\n    <g id=\"xtick_2\">\n     <g id=\"text_2\">\n      <!-- 1 -->\n      <defs>\n       <path d=\"M 12.40625 8.296875 \nL 28.515625 8.296875 \nL 28.515625 63.921875 \nL 10.984375 60.40625 \nL 10.984375 69.390625 \nL 28.421875 72.90625 \nL 38.28125 72.90625 \nL 38.28125 8.296875 \nL 54.390625 8.296875 \nL 54.390625 0 \nL 12.40625 0 \nz\n\" id=\"DejaVuSans-49\"/>\n      </defs>\n      <g style=\"fill:#262626;\" transform=\"translate(64.022563 242.498281)scale(0.11 -0.11)\">\n       <use xlink:href=\"#DejaVuSans-49\"/>\n      </g>\n     </g>\n    </g>\n    <g id=\"xtick_3\">\n     <g id=\"text_3\">\n      <!-- 2 -->\n      <defs>\n       <path d=\"M 19.1875 8.296875 \nL 53.609375 8.296875 \nL 53.609375 0 \nL 7.328125 0 \nL 7.328125 8.296875 \nQ 12.9375 14.109375 22.625 23.890625 \nQ 32.328125 33.6875 34.8125 36.53125 \nQ 39.546875 41.84375 41.421875 45.53125 \nQ 43.3125 49.21875 43.3125 52.78125 \nQ 43.3125 58.59375 39.234375 62.25 \nQ 35.15625 65.921875 28.609375 65.921875 \nQ 23.96875 65.921875 18.8125 64.3125 \nQ 13.671875 62.703125 7.8125 59.421875 \nL 7.8125 69.390625 \nQ 13.765625 71.78125 18.9375 73 \nQ 24.125 74.21875 28.421875 74.21875 \nQ 39.75 74.21875 46.484375 68.546875 \nQ 53.21875 62.890625 53.21875 53.421875 \nQ 53.21875 48.921875 51.53125 44.890625 \nQ 49.859375 40.875 45.40625 35.40625 \nQ 44.1875 33.984375 37.640625 27.21875 \nQ 31.109375 20.453125 19.1875 8.296875 \nz\n\" id=\"DejaVuSans-50\"/>\n      </defs>\n      <g style=\"fill:#262626;\" transform=\"translate(90.806563 242.498281)scale(0.11 -0.11)\">\n       <use xlink:href=\"#DejaVuSans-50\"/>\n      </g>\n     </g>\n    </g>\n    <g id=\"xtick_4\">\n     <g id=\"text_4\">\n      <!-- 3 -->\n      <defs>\n       <path d=\"M 40.578125 39.3125 \nQ 47.65625 37.796875 51.625 33 \nQ 55.609375 28.21875 55.609375 21.1875 \nQ 55.609375 10.40625 48.1875 4.484375 \nQ 40.765625 -1.421875 27.09375 -1.421875 \nQ 22.515625 -1.421875 17.65625 -0.515625 \nQ 12.796875 0.390625 7.625 2.203125 \nL 7.625 11.71875 \nQ 11.71875 9.328125 16.59375 8.109375 \nQ 21.484375 6.890625 26.8125 6.890625 \nQ 36.078125 6.890625 40.9375 10.546875 \nQ 45.796875 14.203125 45.796875 21.1875 \nQ 45.796875 27.640625 41.28125 31.265625 \nQ 36.765625 34.90625 28.71875 34.90625 \nL 20.21875 34.90625 \nL 20.21875 43.015625 \nL 29.109375 43.015625 \nQ 36.375 43.015625 40.234375 45.921875 \nQ 44.09375 48.828125 44.09375 54.296875 \nQ 44.09375 59.90625 40.109375 62.90625 \nQ 36.140625 65.921875 28.71875 65.921875 \nQ 24.65625 65.921875 20.015625 65.03125 \nQ 15.375 64.15625 9.8125 62.3125 \nL 9.8125 71.09375 \nQ 15.4375 72.65625 20.34375 73.4375 \nQ 25.25 74.21875 29.59375 74.21875 \nQ 40.828125 74.21875 47.359375 69.109375 \nQ 53.90625 64.015625 53.90625 55.328125 \nQ 53.90625 49.265625 50.4375 45.09375 \nQ 46.96875 40.921875 40.578125 39.3125 \nz\n\" id=\"DejaVuSans-51\"/>\n      </defs>\n      <g style=\"fill:#262626;\" transform=\"translate(117.590563 242.498281)scale(0.11 -0.11)\">\n       <use xlink:href=\"#DejaVuSans-51\"/>\n      </g>\n     </g>\n    </g>\n    <g id=\"xtick_5\">\n     <g id=\"text_5\">\n      <!-- 4 -->\n      <defs>\n       <path d=\"M 37.796875 64.3125 \nL 12.890625 25.390625 \nL 37.796875 25.390625 \nz\nM 35.203125 72.90625 \nL 47.609375 72.90625 \nL 47.609375 25.390625 \nL 58.015625 25.390625 \nL 58.015625 17.1875 \nL 47.609375 17.1875 \nL 47.609375 0 \nL 37.796875 0 \nL 37.796875 17.1875 \nL 4.890625 17.1875 \nL 4.890625 26.703125 \nz\n\" id=\"DejaVuSans-52\"/>\n      </defs>\n      <g style=\"fill:#262626;\" transform=\"translate(144.374563 242.498281)scale(0.11 -0.11)\">\n       <use xlink:href=\"#DejaVuSans-52\"/>\n      </g>\n     </g>\n    </g>\n    <g id=\"xtick_6\">\n     <g id=\"text_6\">\n      <!-- 5 -->\n      <defs>\n       <path d=\"M 10.796875 72.90625 \nL 49.515625 72.90625 \nL 49.515625 64.59375 \nL 19.828125 64.59375 \nL 19.828125 46.734375 \nQ 21.96875 47.46875 24.109375 47.828125 \nQ 26.265625 48.1875 28.421875 48.1875 \nQ 40.625 48.1875 47.75 41.5 \nQ 54.890625 34.8125 54.890625 23.390625 \nQ 54.890625 11.625 47.5625 5.09375 \nQ 40.234375 -1.421875 26.90625 -1.421875 \nQ 22.3125 -1.421875 17.546875 -0.640625 \nQ 12.796875 0.140625 7.71875 1.703125 \nL 7.71875 11.625 \nQ 12.109375 9.234375 16.796875 8.0625 \nQ 21.484375 6.890625 26.703125 6.890625 \nQ 35.15625 6.890625 40.078125 11.328125 \nQ 45.015625 15.765625 45.015625 23.390625 \nQ 45.015625 31 40.078125 35.4375 \nQ 35.15625 39.890625 26.703125 39.890625 \nQ 22.75 39.890625 18.8125 39.015625 \nQ 14.890625 38.140625 10.796875 36.28125 \nz\n\" id=\"DejaVuSans-53\"/>\n      </defs>\n      <g style=\"fill:#262626;\" transform=\"translate(171.158563 242.498281)scale(0.11 -0.11)\">\n       <use xlink:href=\"#DejaVuSans-53\"/>\n      </g>\n     </g>\n    </g>\n    <g id=\"xtick_7\">\n     <g id=\"text_7\">\n      <!-- 6 -->\n      <defs>\n       <path d=\"M 33.015625 40.375 \nQ 26.375 40.375 22.484375 35.828125 \nQ 18.609375 31.296875 18.609375 23.390625 \nQ 18.609375 15.53125 22.484375 10.953125 \nQ 26.375 6.390625 33.015625 6.390625 \nQ 39.65625 6.390625 43.53125 10.953125 \nQ 47.40625 15.53125 47.40625 23.390625 \nQ 47.40625 31.296875 43.53125 35.828125 \nQ 39.65625 40.375 33.015625 40.375 \nz\nM 52.59375 71.296875 \nL 52.59375 62.3125 \nQ 48.875 64.0625 45.09375 64.984375 \nQ 41.3125 65.921875 37.59375 65.921875 \nQ 27.828125 65.921875 22.671875 59.328125 \nQ 17.53125 52.734375 16.796875 39.40625 \nQ 19.671875 43.65625 24.015625 45.921875 \nQ 28.375 48.1875 33.59375 48.1875 \nQ 44.578125 48.1875 50.953125 41.515625 \nQ 57.328125 34.859375 57.328125 23.390625 \nQ 57.328125 12.15625 50.6875 5.359375 \nQ 44.046875 -1.421875 33.015625 -1.421875 \nQ 20.359375 -1.421875 13.671875 8.265625 \nQ 6.984375 17.96875 6.984375 36.375 \nQ 6.984375 53.65625 15.1875 63.9375 \nQ 23.390625 74.21875 37.203125 74.21875 \nQ 40.921875 74.21875 44.703125 73.484375 \nQ 48.484375 72.75 52.59375 71.296875 \nz\n\" id=\"DejaVuSans-54\"/>\n      </defs>\n      <g style=\"fill:#262626;\" transform=\"translate(197.942563 242.498281)scale(0.11 -0.11)\">\n       <use xlink:href=\"#DejaVuSans-54\"/>\n      </g>\n     </g>\n    </g>\n    <g id=\"xtick_8\">\n     <g id=\"text_8\">\n      <!-- 7 -->\n      <defs>\n       <path d=\"M 8.203125 72.90625 \nL 55.078125 72.90625 \nL 55.078125 68.703125 \nL 28.609375 0 \nL 18.3125 0 \nL 43.21875 64.59375 \nL 8.203125 64.59375 \nz\n\" id=\"DejaVuSans-55\"/>\n      </defs>\n      <g style=\"fill:#262626;\" transform=\"translate(224.726563 242.498281)scale(0.11 -0.11)\">\n       <use xlink:href=\"#DejaVuSans-55\"/>\n      </g>\n     </g>\n    </g>\n    <g id=\"xtick_9\">\n     <g id=\"text_9\">\n      <!-- 8 -->\n      <defs>\n       <path d=\"M 31.78125 34.625 \nQ 24.75 34.625 20.71875 30.859375 \nQ 16.703125 27.09375 16.703125 20.515625 \nQ 16.703125 13.921875 20.71875 10.15625 \nQ 24.75 6.390625 31.78125 6.390625 \nQ 38.8125 6.390625 42.859375 10.171875 \nQ 46.921875 13.96875 46.921875 20.515625 \nQ 46.921875 27.09375 42.890625 30.859375 \nQ 38.875 34.625 31.78125 34.625 \nz\nM 21.921875 38.8125 \nQ 15.578125 40.375 12.03125 44.71875 \nQ 8.5 49.078125 8.5 55.328125 \nQ 8.5 64.0625 14.71875 69.140625 \nQ 20.953125 74.21875 31.78125 74.21875 \nQ 42.671875 74.21875 48.875 69.140625 \nQ 55.078125 64.0625 55.078125 55.328125 \nQ 55.078125 49.078125 51.53125 44.71875 \nQ 48 40.375 41.703125 38.8125 \nQ 48.828125 37.15625 52.796875 32.3125 \nQ 56.78125 27.484375 56.78125 20.515625 \nQ 56.78125 9.90625 50.3125 4.234375 \nQ 43.84375 -1.421875 31.78125 -1.421875 \nQ 19.734375 -1.421875 13.25 4.234375 \nQ 6.78125 9.90625 6.78125 20.515625 \nQ 6.78125 27.484375 10.78125 32.3125 \nQ 14.796875 37.15625 21.921875 38.8125 \nz\nM 18.3125 54.390625 \nQ 18.3125 48.734375 21.84375 45.5625 \nQ 25.390625 42.390625 31.78125 42.390625 \nQ 38.140625 42.390625 41.71875 45.5625 \nQ 45.3125 48.734375 45.3125 54.390625 \nQ 45.3125 60.0625 41.71875 63.234375 \nQ 38.140625 66.40625 31.78125 66.40625 \nQ 25.390625 66.40625 21.84375 63.234375 \nQ 18.3125 60.0625 18.3125 54.390625 \nz\n\" id=\"DejaVuSans-56\"/>\n      </defs>\n      <g style=\"fill:#262626;\" transform=\"translate(251.510563 242.498281)scale(0.11 -0.11)\">\n       <use xlink:href=\"#DejaVuSans-56\"/>\n      </g>\n     </g>\n    </g>\n    <g id=\"xtick_10\">\n     <g id=\"text_10\">\n      <!-- 9 -->\n      <defs>\n       <path d=\"M 10.984375 1.515625 \nL 10.984375 10.5 \nQ 14.703125 8.734375 18.5 7.8125 \nQ 22.3125 6.890625 25.984375 6.890625 \nQ 35.75 6.890625 40.890625 13.453125 \nQ 46.046875 20.015625 46.78125 33.40625 \nQ 43.953125 29.203125 39.59375 26.953125 \nQ 35.25 24.703125 29.984375 24.703125 \nQ 19.046875 24.703125 12.671875 31.3125 \nQ 6.296875 37.9375 6.296875 49.421875 \nQ 6.296875 60.640625 12.9375 67.421875 \nQ 19.578125 74.21875 30.609375 74.21875 \nQ 43.265625 74.21875 49.921875 64.515625 \nQ 56.59375 54.828125 56.59375 36.375 \nQ 56.59375 19.140625 48.40625 8.859375 \nQ 40.234375 -1.421875 26.421875 -1.421875 \nQ 22.703125 -1.421875 18.890625 -0.6875 \nQ 15.09375 0.046875 10.984375 1.515625 \nz\nM 30.609375 32.421875 \nQ 37.25 32.421875 41.125 36.953125 \nQ 45.015625 41.5 45.015625 49.421875 \nQ 45.015625 57.28125 41.125 61.84375 \nQ 37.25 66.40625 30.609375 66.40625 \nQ 23.96875 66.40625 20.09375 61.84375 \nQ 16.21875 57.28125 16.21875 49.421875 \nQ 16.21875 41.5 20.09375 36.953125 \nQ 23.96875 32.421875 30.609375 32.421875 \nz\n\" id=\"DejaVuSans-57\"/>\n      </defs>\n      <g style=\"fill:#262626;\" transform=\"translate(278.294563 242.498281)scale(0.11 -0.11)\">\n       <use xlink:href=\"#DejaVuSans-57\"/>\n      </g>\n     </g>\n    </g>\n    <g id=\"text_11\">\n     <!-- accuracy: 0.9757 -->\n     <defs>\n      <path d=\"M 34.28125 27.484375 \nQ 23.390625 27.484375 19.1875 25 \nQ 14.984375 22.515625 14.984375 16.5 \nQ 14.984375 11.71875 18.140625 8.90625 \nQ 21.296875 6.109375 26.703125 6.109375 \nQ 34.1875 6.109375 38.703125 11.40625 \nQ 43.21875 16.703125 43.21875 25.484375 \nL 43.21875 27.484375 \nz\nM 52.203125 31.203125 \nL 52.203125 0 \nL 43.21875 0 \nL 43.21875 8.296875 \nQ 40.140625 3.328125 35.546875 0.953125 \nQ 30.953125 -1.421875 24.3125 -1.421875 \nQ 15.921875 -1.421875 10.953125 3.296875 \nQ 6 8.015625 6 15.921875 \nQ 6 25.140625 12.171875 29.828125 \nQ 18.359375 34.515625 30.609375 34.515625 \nL 43.21875 34.515625 \nL 43.21875 35.40625 \nQ 43.21875 41.609375 39.140625 45 \nQ 35.0625 48.390625 27.6875 48.390625 \nQ 23 48.390625 18.546875 47.265625 \nQ 14.109375 46.140625 10.015625 43.890625 \nL 10.015625 52.203125 \nQ 14.9375 54.109375 19.578125 55.046875 \nQ 24.21875 56 28.609375 56 \nQ 40.484375 56 46.34375 49.84375 \nQ 52.203125 43.703125 52.203125 31.203125 \nz\n\" id=\"DejaVuSans-97\"/>\n      <path d=\"M 48.78125 52.59375 \nL 48.78125 44.1875 \nQ 44.96875 46.296875 41.140625 47.34375 \nQ 37.3125 48.390625 33.40625 48.390625 \nQ 24.65625 48.390625 19.8125 42.84375 \nQ 14.984375 37.3125 14.984375 27.296875 \nQ 14.984375 17.28125 19.8125 11.734375 \nQ 24.65625 6.203125 33.40625 6.203125 \nQ 37.3125 6.203125 41.140625 7.25 \nQ 44.96875 8.296875 48.78125 10.40625 \nL 48.78125 2.09375 \nQ 45.015625 0.34375 40.984375 -0.53125 \nQ 36.96875 -1.421875 32.421875 -1.421875 \nQ 20.0625 -1.421875 12.78125 6.34375 \nQ 5.515625 14.109375 5.515625 27.296875 \nQ 5.515625 40.671875 12.859375 48.328125 \nQ 20.21875 56 33.015625 56 \nQ 37.15625 56 41.109375 55.140625 \nQ 45.0625 54.296875 48.78125 52.59375 \nz\n\" id=\"DejaVuSans-99\"/>\n      <path d=\"M 8.5 21.578125 \nL 8.5 54.6875 \nL 17.484375 54.6875 \nL 17.484375 21.921875 \nQ 17.484375 14.15625 20.5 10.265625 \nQ 23.53125 6.390625 29.59375 6.390625 \nQ 36.859375 6.390625 41.078125 11.03125 \nQ 45.3125 15.671875 45.3125 23.6875 \nL 45.3125 54.6875 \nL 54.296875 54.6875 \nL 54.296875 0 \nL 45.3125 0 \nL 45.3125 8.40625 \nQ 42.046875 3.421875 37.71875 1 \nQ 33.40625 -1.421875 27.6875 -1.421875 \nQ 18.265625 -1.421875 13.375 4.4375 \nQ 8.5 10.296875 8.5 21.578125 \nz\nM 31.109375 56 \nz\n\" id=\"DejaVuSans-117\"/>\n      <path d=\"M 41.109375 46.296875 \nQ 39.59375 47.171875 37.8125 47.578125 \nQ 36.03125 48 33.890625 48 \nQ 26.265625 48 22.1875 43.046875 \nQ 18.109375 38.09375 18.109375 28.8125 \nL 18.109375 0 \nL 9.078125 0 \nL 9.078125 54.6875 \nL 18.109375 54.6875 \nL 18.109375 46.1875 \nQ 20.953125 51.171875 25.484375 53.578125 \nQ 30.03125 56 36.53125 56 \nQ 37.453125 56 38.578125 55.875 \nQ 39.703125 55.765625 41.0625 55.515625 \nz\n\" id=\"DejaVuSans-114\"/>\n      <path d=\"M 32.171875 -5.078125 \nQ 28.375 -14.84375 24.75 -17.8125 \nQ 21.140625 -20.796875 15.09375 -20.796875 \nL 7.90625 -20.796875 \nL 7.90625 -13.28125 \nL 13.1875 -13.28125 \nQ 16.890625 -13.28125 18.9375 -11.515625 \nQ 21 -9.765625 23.484375 -3.21875 \nL 25.09375 0.875 \nL 2.984375 54.6875 \nL 12.5 54.6875 \nL 29.59375 11.921875 \nL 46.6875 54.6875 \nL 56.203125 54.6875 \nz\n\" id=\"DejaVuSans-121\"/>\n      <path d=\"M 11.71875 12.40625 \nL 22.015625 12.40625 \nL 22.015625 0 \nL 11.71875 0 \nz\nM 11.71875 51.703125 \nL 22.015625 51.703125 \nL 22.015625 39.3125 \nL 11.71875 39.3125 \nz\n\" id=\"DejaVuSans-58\"/>\n      <path id=\"DejaVuSans-32\"/>\n      <path d=\"M 10.6875 12.40625 \nL 21 12.40625 \nL 21 0 \nL 10.6875 0 \nz\n\" id=\"DejaVuSans-46\"/>\n     </defs>\n     <g style=\"fill:#262626;\" transform=\"translate(109.707188 257.904062)scale(0.12 -0.12)\">\n      <use xlink:href=\"#DejaVuSans-97\"/>\n      <use x=\"61.279297\" xlink:href=\"#DejaVuSans-99\"/>\n      <use x=\"116.259766\" xlink:href=\"#DejaVuSans-99\"/>\n      <use x=\"171.240234\" xlink:href=\"#DejaVuSans-117\"/>\n      <use x=\"234.619141\" xlink:href=\"#DejaVuSans-114\"/>\n      <use x=\"275.732422\" xlink:href=\"#DejaVuSans-97\"/>\n      <use x=\"337.011719\" xlink:href=\"#DejaVuSans-99\"/>\n      <use x=\"391.992188\" xlink:href=\"#DejaVuSans-121\"/>\n      <use x=\"443.921875\" xlink:href=\"#DejaVuSans-58\"/>\n      <use x=\"477.613281\" xlink:href=\"#DejaVuSans-32\"/>\n      <use x=\"509.400391\" xlink:href=\"#DejaVuSans-48\"/>\n      <use x=\"573.023438\" xlink:href=\"#DejaVuSans-46\"/>\n      <use x=\"604.810547\" xlink:href=\"#DejaVuSans-57\"/>\n      <use x=\"668.433594\" xlink:href=\"#DejaVuSans-55\"/>\n      <use x=\"732.056641\" xlink:href=\"#DejaVuSans-53\"/>\n      <use x=\"795.679688\" xlink:href=\"#DejaVuSans-55\"/>\n     </g>\n    </g>\n   </g>\n   <g id=\"matplotlib.axis_2\">\n    <g id=\"ytick_1\">\n     <g id=\"text_12\">\n      <!-- 0 -->\n      <g style=\"fill:#262626;\" transform=\"translate(15.558281 21.571375)rotate(-90)scale(0.11 -0.11)\">\n       <use xlink:href=\"#DejaVuSans-48\"/>\n      </g>\n     </g>\n    </g>\n    <g id=\"ytick_2\">\n     <g id=\"text_13\">\n      <!-- 1 -->\n      <g style=\"fill:#262626;\" transform=\"translate(15.558281 43.315375)rotate(-90)scale(0.11 -0.11)\">\n       <use xlink:href=\"#DejaVuSans-49\"/>\n      </g>\n     </g>\n    </g>\n    <g id=\"ytick_3\">\n     <g id=\"text_14\">\n      <!-- 2 -->\n      <g style=\"fill:#262626;\" transform=\"translate(15.558281 65.059375)rotate(-90)scale(0.11 -0.11)\">\n       <use xlink:href=\"#DejaVuSans-50\"/>\n      </g>\n     </g>\n    </g>\n    <g id=\"ytick_4\">\n     <g id=\"text_15\">\n      <!-- 3 -->\n      <g style=\"fill:#262626;\" transform=\"translate(15.558281 86.803375)rotate(-90)scale(0.11 -0.11)\">\n       <use xlink:href=\"#DejaVuSans-51\"/>\n      </g>\n     </g>\n    </g>\n    <g id=\"ytick_5\">\n     <g id=\"text_16\">\n      <!-- 4 -->\n      <g style=\"fill:#262626;\" transform=\"translate(15.558281 108.547375)rotate(-90)scale(0.11 -0.11)\">\n       <use xlink:href=\"#DejaVuSans-52\"/>\n      </g>\n     </g>\n    </g>\n    <g id=\"ytick_6\">\n     <g id=\"text_17\">\n      <!-- 5 -->\n      <g style=\"fill:#262626;\" transform=\"translate(15.558281 130.291375)rotate(-90)scale(0.11 -0.11)\">\n       <use xlink:href=\"#DejaVuSans-53\"/>\n      </g>\n     </g>\n    </g>\n    <g id=\"ytick_7\">\n     <g id=\"text_18\">\n      <!-- 6 -->\n      <g style=\"fill:#262626;\" transform=\"translate(15.558281 152.035375)rotate(-90)scale(0.11 -0.11)\">\n       <use xlink:href=\"#DejaVuSans-54\"/>\n      </g>\n     </g>\n    </g>\n    <g id=\"ytick_8\">\n     <g id=\"text_19\">\n      <!-- 7 -->\n      <g style=\"fill:#262626;\" transform=\"translate(15.558281 173.779375)rotate(-90)scale(0.11 -0.11)\">\n       <use xlink:href=\"#DejaVuSans-55\"/>\n      </g>\n     </g>\n    </g>\n    <g id=\"ytick_9\">\n     <g id=\"text_20\">\n      <!-- 8 -->\n      <g style=\"fill:#262626;\" transform=\"translate(15.558281 195.523375)rotate(-90)scale(0.11 -0.11)\">\n       <use xlink:href=\"#DejaVuSans-56\"/>\n      </g>\n     </g>\n    </g>\n    <g id=\"ytick_10\">\n     <g id=\"text_21\">\n      <!-- 9 -->\n      <g style=\"fill:#262626;\" transform=\"translate(15.558281 217.267375)rotate(-90)scale(0.11 -0.11)\">\n       <use xlink:href=\"#DejaVuSans-57\"/>\n      </g>\n     </g>\n    </g>\n   </g>\n   <g id=\"QuadMesh_1\">\n    <path clip-path=\"url(#p961b65432c)\" d=\"M 27.345938 7.2 \nL 54.129938 7.2 \nL 54.129938 28.944 \nL 27.345938 28.944 \nL 27.345938 7.2 \n\" style=\"fill:#bf1654;\"/>\n    <path clip-path=\"url(#p961b65432c)\" d=\"M 54.129938 7.2 \nL 80.913938 7.2 \nL 80.913938 28.944 \nL 54.129938 28.944 \nL 54.129938 7.2 \n\" style=\"fill:#bf1654;\"/>\n    <path clip-path=\"url(#p961b65432c)\" d=\"M 80.913938 7.2 \nL 107.697938 7.2 \nL 107.697938 28.944 \nL 80.913938 28.944 \nL 80.913938 7.2 \n\" style=\"fill:#bf1654;\"/>\n    <path clip-path=\"url(#p961b65432c)\" d=\"M 107.697938 7.2 \nL 134.481938 7.2 \nL 134.481938 28.944 \nL 107.697938 28.944 \nL 107.697938 7.2 \n\" style=\"fill:#bf1654;\"/>\n    <path clip-path=\"url(#p961b65432c)\" d=\"M 134.481938 7.2 \nL 161.265938 7.2 \nL 161.265938 28.944 \nL 134.481938 28.944 \nL 134.481938 7.2 \n\" style=\"fill:#bf1654;\"/>\n    <path clip-path=\"url(#p961b65432c)\" d=\"M 161.265938 7.2 \nL 188.049938 7.2 \nL 188.049938 28.944 \nL 161.265938 28.944 \nL 161.265938 7.2 \n\" style=\"fill:#bf1654;\"/>\n    <path clip-path=\"url(#p961b65432c)\" d=\"M 188.049938 7.2 \nL 214.833938 7.2 \nL 214.833938 28.944 \nL 188.049938 28.944 \nL 188.049938 7.2 \n\" style=\"fill:#bf1654;\"/>\n    <path clip-path=\"url(#p961b65432c)\" d=\"M 214.833938 7.2 \nL 241.617938 7.2 \nL 241.617938 28.944 \nL 214.833938 28.944 \nL 214.833938 7.2 \n\" style=\"fill:#bf1654;\"/>\n    <path clip-path=\"url(#p961b65432c)\" d=\"M 241.617938 7.2 \nL 268.401938 7.2 \nL 268.401938 28.944 \nL 241.617938 28.944 \nL 241.617938 7.2 \n\" style=\"fill:#bf1654;\"/>\n    <path clip-path=\"url(#p961b65432c)\" d=\"M 268.401938 7.2 \nL 295.185938 7.2 \nL 295.185938 28.944 \nL 268.401938 28.944 \nL 268.401938 7.2 \n\" style=\"fill:#bf1654;\"/>\n    <path clip-path=\"url(#p961b65432c)\" d=\"M 27.345938 28.944 \nL 54.129938 28.944 \nL 54.129938 50.688 \nL 27.345938 50.688 \nL 27.345938 28.944 \n\" style=\"fill:#bf1654;\"/>\n    <path clip-path=\"url(#p961b65432c)\" d=\"M 54.129938 28.944 \nL 80.913938 28.944 \nL 80.913938 50.688 \nL 54.129938 50.688 \nL 54.129938 28.944 \n\" style=\"fill:#d5224a;\"/>\n    <path clip-path=\"url(#p961b65432c)\" d=\"M 80.913938 28.944 \nL 107.697938 28.944 \nL 107.697938 50.688 \nL 80.913938 50.688 \nL 80.913938 28.944 \n\" style=\"fill:#a6195a;\"/>\n    <path clip-path=\"url(#p961b65432c)\" d=\"M 107.697938 28.944 \nL 134.481938 28.944 \nL 134.481938 50.688 \nL 107.697938 50.688 \nL 107.697938 28.944 \n\" style=\"fill:#bf1654;\"/>\n    <path clip-path=\"url(#p961b65432c)\" d=\"M 134.481938 28.944 \nL 161.265938 28.944 \nL 161.265938 50.688 \nL 134.481938 50.688 \nL 134.481938 28.944 \n\" style=\"fill:#bf1654;\"/>\n    <path clip-path=\"url(#p961b65432c)\" d=\"M 161.265938 28.944 \nL 188.049938 28.944 \nL 188.049938 50.688 \nL 161.265938 50.688 \nL 161.265938 28.944 \n\" style=\"fill:#d5224a;\"/>\n    <path clip-path=\"url(#p961b65432c)\" d=\"M 188.049938 28.944 \nL 214.833938 28.944 \nL 214.833938 50.688 \nL 188.049938 50.688 \nL 188.049938 28.944 \n\" style=\"fill:#a6195a;\"/>\n    <path clip-path=\"url(#p961b65432c)\" d=\"M 214.833938 28.944 \nL 241.617938 28.944 \nL 241.617938 50.688 \nL 214.833938 50.688 \nL 214.833938 28.944 \n\" style=\"fill:#bf1654;\"/>\n    <path clip-path=\"url(#p961b65432c)\" d=\"M 241.617938 28.944 \nL 268.401938 28.944 \nL 268.401938 50.688 \nL 241.617938 50.688 \nL 241.617938 28.944 \n\" style=\"fill:#bf1654;\"/>\n    <path clip-path=\"url(#p961b65432c)\" d=\"M 268.401938 28.944 \nL 295.185938 28.944 \nL 295.185938 50.688 \nL 268.401938 50.688 \nL 268.401938 28.944 \n\" style=\"fill:#bf1654;\"/>\n    <path clip-path=\"url(#p961b65432c)\" d=\"M 27.345938 50.688 \nL 54.129938 50.688 \nL 54.129938 72.432 \nL 27.345938 72.432 \nL 27.345938 50.688 \n\" style=\"fill:#e53940;\"/>\n    <path clip-path=\"url(#p961b65432c)\" d=\"M 54.129938 50.688 \nL 80.913938 50.688 \nL 80.913938 72.432 \nL 54.129938 72.432 \nL 54.129938 50.688 \n\" style=\"fill:#bf1654;\"/>\n    <path clip-path=\"url(#p961b65432c)\" d=\"M 80.913938 50.688 \nL 107.697938 50.688 \nL 107.697938 72.432 \nL 80.913938 72.432 \nL 80.913938 50.688 \n\" style=\"fill:#bf1654;\"/>\n    <path clip-path=\"url(#p961b65432c)\" d=\"M 107.697938 50.688 \nL 134.481938 50.688 \nL 134.481938 72.432 \nL 107.697938 72.432 \nL 107.697938 50.688 \n\" style=\"fill:#a6195a;\"/>\n    <path clip-path=\"url(#p961b65432c)\" d=\"M 134.481938 50.688 \nL 161.265938 50.688 \nL 161.265938 72.432 \nL 134.481938 72.432 \nL 134.481938 50.688 \n\" style=\"fill:#bf1654;\"/>\n    <path clip-path=\"url(#p961b65432c)\" d=\"M 161.265938 50.688 \nL 188.049938 50.688 \nL 188.049938 72.432 \nL 161.265938 72.432 \nL 161.265938 50.688 \n\" style=\"fill:#bf1654;\"/>\n    <path clip-path=\"url(#p961b65432c)\" d=\"M 188.049938 50.688 \nL 214.833938 50.688 \nL 214.833938 72.432 \nL 188.049938 72.432 \nL 188.049938 50.688 \n\" style=\"fill:#bf1654;\"/>\n    <path clip-path=\"url(#p961b65432c)\" d=\"M 214.833938 50.688 \nL 241.617938 50.688 \nL 241.617938 72.432 \nL 214.833938 72.432 \nL 214.833938 50.688 \n\" style=\"fill:#bf1654;\"/>\n    <path clip-path=\"url(#p961b65432c)\" d=\"M 241.617938 50.688 \nL 268.401938 50.688 \nL 268.401938 72.432 \nL 241.617938 72.432 \nL 241.617938 50.688 \n\" style=\"fill:#a6195a;\"/>\n    <path clip-path=\"url(#p961b65432c)\" d=\"M 268.401938 50.688 \nL 295.185938 50.688 \nL 295.185938 72.432 \nL 268.401938 72.432 \nL 268.401938 50.688 \n\" style=\"fill:#bf1654;\"/>\n    <path clip-path=\"url(#p961b65432c)\" d=\"M 27.345938 72.432 \nL 54.129938 72.432 \nL 54.129938 94.176 \nL 27.345938 94.176 \nL 27.345938 72.432 \n\" style=\"fill:#d5224a;\"/>\n    <path clip-path=\"url(#p961b65432c)\" d=\"M 54.129938 72.432 \nL 80.913938 72.432 \nL 80.913938 94.176 \nL 54.129938 94.176 \nL 54.129938 72.432 \n\" style=\"fill:#a6195a;\"/>\n    <path clip-path=\"url(#p961b65432c)\" d=\"M 80.913938 72.432 \nL 107.697938 72.432 \nL 107.697938 94.176 \nL 80.913938 94.176 \nL 80.913938 72.432 \n\" style=\"fill:#a6195a;\"/>\n    <path clip-path=\"url(#p961b65432c)\" d=\"M 107.697938 72.432 \nL 134.481938 72.432 \nL 134.481938 94.176 \nL 107.697938 94.176 \nL 107.697938 72.432 \n\" style=\"fill:#faebdd;\"/>\n    <path clip-path=\"url(#p961b65432c)\" d=\"M 134.481938 72.432 \nL 161.265938 72.432 \nL 161.265938 94.176 \nL 134.481938 94.176 \nL 134.481938 72.432 \n\" style=\"fill:#d5224a;\"/>\n    <path clip-path=\"url(#p961b65432c)\" d=\"M 161.265938 72.432 \nL 188.049938 72.432 \nL 188.049938 94.176 \nL 161.265938 94.176 \nL 161.265938 72.432 \n\" style=\"fill:#03051a;\"/>\n    <path clip-path=\"url(#p961b65432c)\" d=\"M 188.049938 72.432 \nL 214.833938 72.432 \nL 214.833938 94.176 \nL 188.049938 94.176 \nL 188.049938 72.432 \n\" style=\"fill:#bf1654;\"/>\n    <path clip-path=\"url(#p961b65432c)\" d=\"M 214.833938 72.432 \nL 241.617938 72.432 \nL 241.617938 94.176 \nL 214.833938 94.176 \nL 214.833938 72.432 \n\" style=\"fill:#a6195a;\"/>\n    <path clip-path=\"url(#p961b65432c)\" d=\"M 241.617938 72.432 \nL 268.401938 72.432 \nL 268.401938 94.176 \nL 241.617938 94.176 \nL 241.617938 72.432 \n\" style=\"fill:#e53940;\"/>\n    <path clip-path=\"url(#p961b65432c)\" d=\"M 268.401938 72.432 \nL 295.185938 72.432 \nL 295.185938 94.176 \nL 268.401938 94.176 \nL 268.401938 72.432 \n\" style=\"fill:#8c1d5b;\"/>\n    <path clip-path=\"url(#p961b65432c)\" d=\"M 27.345938 94.176 \nL 54.129938 94.176 \nL 54.129938 115.92 \nL 27.345938 115.92 \nL 27.345938 94.176 \n\" style=\"fill:#bf1654;\"/>\n    <path clip-path=\"url(#p961b65432c)\" d=\"M 54.129938 94.176 \nL 80.913938 94.176 \nL 80.913938 115.92 \nL 54.129938 115.92 \nL 54.129938 94.176 \n\" style=\"fill:#bf1654;\"/>\n    <path clip-path=\"url(#p961b65432c)\" d=\"M 80.913938 94.176 \nL 107.697938 94.176 \nL 107.697938 115.92 \nL 80.913938 115.92 \nL 80.913938 94.176 \n\" style=\"fill:#d5224a;\"/>\n    <path clip-path=\"url(#p961b65432c)\" d=\"M 107.697938 94.176 \nL 134.481938 94.176 \nL 134.481938 115.92 \nL 107.697938 115.92 \nL 107.697938 94.176 \n\" style=\"fill:#bf1654;\"/>\n    <path clip-path=\"url(#p961b65432c)\" d=\"M 134.481938 94.176 \nL 161.265938 94.176 \nL 161.265938 115.92 \nL 134.481938 115.92 \nL 134.481938 94.176 \n\" style=\"fill:#5b1e51;\"/>\n    <path clip-path=\"url(#p961b65432c)\" d=\"M 161.265938 94.176 \nL 188.049938 94.176 \nL 188.049938 115.92 \nL 161.265938 115.92 \nL 161.265938 94.176 \n\" style=\"fill:#bf1654;\"/>\n    <path clip-path=\"url(#p961b65432c)\" d=\"M 188.049938 94.176 \nL 214.833938 94.176 \nL 214.833938 115.92 \nL 188.049938 115.92 \nL 188.049938 94.176 \n\" style=\"fill:#d5224a;\"/>\n    <path clip-path=\"url(#p961b65432c)\" d=\"M 214.833938 94.176 \nL 241.617938 94.176 \nL 241.617938 115.92 \nL 214.833938 115.92 \nL 214.833938 94.176 \n\" style=\"fill:#bf1654;\"/>\n    <path clip-path=\"url(#p961b65432c)\" d=\"M 241.617938 94.176 \nL 268.401938 94.176 \nL 268.401938 115.92 \nL 241.617938 115.92 \nL 241.617938 94.176 \n\" style=\"fill:#bf1654;\"/>\n    <path clip-path=\"url(#p961b65432c)\" d=\"M 268.401938 94.176 \nL 295.185938 94.176 \nL 295.185938 115.92 \nL 268.401938 115.92 \nL 268.401938 94.176 \n\" style=\"fill:#e53940;\"/>\n    <path clip-path=\"url(#p961b65432c)\" d=\"M 27.345938 115.92 \nL 54.129938 115.92 \nL 54.129938 137.664 \nL 27.345938 137.664 \nL 27.345938 115.92 \n\" style=\"fill:#d5224a;\"/>\n    <path clip-path=\"url(#p961b65432c)\" d=\"M 54.129938 115.92 \nL 80.913938 115.92 \nL 80.913938 137.664 \nL 54.129938 137.664 \nL 54.129938 115.92 \n\" style=\"fill:#bf1654;\"/>\n    <path clip-path=\"url(#p961b65432c)\" d=\"M 80.913938 115.92 \nL 107.697938 115.92 \nL 107.697938 137.664 \nL 80.913938 137.664 \nL 80.913938 115.92 \n\" style=\"fill:#bf1654;\"/>\n    <path clip-path=\"url(#p961b65432c)\" d=\"M 107.697938 115.92 \nL 134.481938 115.92 \nL 134.481938 137.664 \nL 107.697938 137.664 \nL 107.697938 115.92 \n\" style=\"fill:#8c1d5b;\"/>\n    <path clip-path=\"url(#p961b65432c)\" d=\"M 134.481938 115.92 \nL 161.265938 115.92 \nL 161.265938 137.664 \nL 134.481938 137.664 \nL 134.481938 115.92 \n\" style=\"fill:#d5224a;\"/>\n    <path clip-path=\"url(#p961b65432c)\" d=\"M 161.265938 115.92 \nL 188.049938 115.92 \nL 188.049938 137.664 \nL 161.265938 137.664 \nL 161.265938 115.92 \n\" style=\"fill:#e53940;\"/>\n    <path clip-path=\"url(#p961b65432c)\" d=\"M 188.049938 115.92 \nL 214.833938 115.92 \nL 214.833938 137.664 \nL 188.049938 137.664 \nL 188.049938 115.92 \n\" style=\"fill:#ef5640;\"/>\n    <path clip-path=\"url(#p961b65432c)\" d=\"M 214.833938 115.92 \nL 241.617938 115.92 \nL 241.617938 137.664 \nL 214.833938 137.664 \nL 214.833938 115.92 \n\" style=\"fill:#bf1654;\"/>\n    <path clip-path=\"url(#p961b65432c)\" d=\"M 241.617938 115.92 \nL 268.401938 115.92 \nL 268.401938 137.664 \nL 241.617938 137.664 \nL 241.617938 115.92 \n\" style=\"fill:#8c1d5b;\"/>\n    <path clip-path=\"url(#p961b65432c)\" d=\"M 268.401938 115.92 \nL 295.185938 115.92 \nL 295.185938 137.664 \nL 268.401938 137.664 \nL 268.401938 115.92 \n\" style=\"fill:#731f58;\"/>\n    <path clip-path=\"url(#p961b65432c)\" d=\"M 27.345938 137.664 \nL 54.129938 137.664 \nL 54.129938 159.408 \nL 27.345938 159.408 \nL 27.345938 137.664 \n\" style=\"fill:#e53940;\"/>\n    <path clip-path=\"url(#p961b65432c)\" d=\"M 54.129938 137.664 \nL 80.913938 137.664 \nL 80.913938 159.408 \nL 54.129938 159.408 \nL 54.129938 137.664 \n\" style=\"fill:#bf1654;\"/>\n    <path clip-path=\"url(#p961b65432c)\" d=\"M 80.913938 137.664 \nL 107.697938 137.664 \nL 107.697938 159.408 \nL 80.913938 159.408 \nL 80.913938 137.664 \n\" style=\"fill:#bf1654;\"/>\n    <path clip-path=\"url(#p961b65432c)\" d=\"M 107.697938 137.664 \nL 134.481938 137.664 \nL 134.481938 159.408 \nL 107.697938 159.408 \nL 107.697938 137.664 \n\" style=\"fill:#bf1654;\"/>\n    <path clip-path=\"url(#p961b65432c)\" d=\"M 134.481938 137.664 \nL 161.265938 137.664 \nL 161.265938 159.408 \nL 134.481938 159.408 \nL 134.481938 137.664 \n\" style=\"fill:#bf1654;\"/>\n    <path clip-path=\"url(#p961b65432c)\" d=\"M 161.265938 137.664 \nL 188.049938 137.664 \nL 188.049938 159.408 \nL 161.265938 159.408 \nL 161.265938 137.664 \n\" style=\"fill:#8c1d5b;\"/>\n    <path clip-path=\"url(#p961b65432c)\" d=\"M 188.049938 137.664 \nL 214.833938 137.664 \nL 214.833938 159.408 \nL 188.049938 159.408 \nL 188.049938 137.664 \n\" style=\"fill:#bf1654;\"/>\n    <path clip-path=\"url(#p961b65432c)\" d=\"M 214.833938 137.664 \nL 241.617938 137.664 \nL 241.617938 159.408 \nL 214.833938 159.408 \nL 214.833938 137.664 \n\" style=\"fill:#bf1654;\"/>\n    <path clip-path=\"url(#p961b65432c)\" d=\"M 241.617938 137.664 \nL 268.401938 137.664 \nL 268.401938 159.408 \nL 241.617938 159.408 \nL 241.617938 137.664 \n\" style=\"fill:#bf1654;\"/>\n    <path clip-path=\"url(#p961b65432c)\" d=\"M 268.401938 137.664 \nL 295.185938 137.664 \nL 295.185938 159.408 \nL 268.401938 159.408 \nL 268.401938 137.664 \n\" style=\"fill:#bf1654;\"/>\n    <path clip-path=\"url(#p961b65432c)\" d=\"M 27.345938 159.408 \nL 54.129938 159.408 \nL 54.129938 181.152 \nL 27.345938 181.152 \nL 27.345938 159.408 \n\" style=\"fill:#d5224a;\"/>\n    <path clip-path=\"url(#p961b65432c)\" d=\"M 54.129938 159.408 \nL 80.913938 159.408 \nL 80.913938 181.152 \nL 54.129938 181.152 \nL 54.129938 159.408 \n\" style=\"fill:#a6195a;\"/>\n    <path clip-path=\"url(#p961b65432c)\" d=\"M 80.913938 159.408 \nL 107.697938 159.408 \nL 107.697938 181.152 \nL 80.913938 181.152 \nL 80.913938 159.408 \n\" style=\"fill:#bf1654;\"/>\n    <path clip-path=\"url(#p961b65432c)\" d=\"M 107.697938 159.408 \nL 134.481938 159.408 \nL 134.481938 181.152 \nL 107.697938 181.152 \nL 107.697938 159.408 \n\" style=\"fill:#bf1654;\"/>\n    <path clip-path=\"url(#p961b65432c)\" d=\"M 134.481938 159.408 \nL 161.265938 159.408 \nL 161.265938 181.152 \nL 134.481938 181.152 \nL 134.481938 159.408 \n\" style=\"fill:#a6195a;\"/>\n    <path clip-path=\"url(#p961b65432c)\" d=\"M 161.265938 159.408 \nL 188.049938 159.408 \nL 188.049938 181.152 \nL 161.265938 181.152 \nL 161.265938 159.408 \n\" style=\"fill:#bf1654;\"/>\n    <path clip-path=\"url(#p961b65432c)\" d=\"M 188.049938 159.408 \nL 214.833938 159.408 \nL 214.833938 181.152 \nL 188.049938 181.152 \nL 188.049938 159.408 \n\" style=\"fill:#bf1654;\"/>\n    <path clip-path=\"url(#p961b65432c)\" d=\"M 214.833938 159.408 \nL 241.617938 159.408 \nL 241.617938 181.152 \nL 214.833938 181.152 \nL 214.833938 159.408 \n\" style=\"fill:#ef5640;\"/>\n    <path clip-path=\"url(#p961b65432c)\" d=\"M 241.617938 159.408 \nL 268.401938 159.408 \nL 268.401938 181.152 \nL 241.617938 181.152 \nL 241.617938 159.408 \n\" style=\"fill:#bf1654;\"/>\n    <path clip-path=\"url(#p961b65432c)\" d=\"M 268.401938 159.408 \nL 295.185938 159.408 \nL 295.185938 181.152 \nL 268.401938 181.152 \nL 268.401938 159.408 \n\" style=\"fill:#8c1d5b;\"/>\n    <path clip-path=\"url(#p961b65432c)\" d=\"M 27.345938 181.152 \nL 54.129938 181.152 \nL 54.129938 202.896 \nL 27.345938 202.896 \nL 27.345938 181.152 \n\" style=\"fill:#bf1654;\"/>\n    <path clip-path=\"url(#p961b65432c)\" d=\"M 54.129938 181.152 \nL 80.913938 181.152 \nL 80.913938 202.896 \nL 54.129938 202.896 \nL 54.129938 181.152 \n\" style=\"fill:#a6195a;\"/>\n    <path clip-path=\"url(#p961b65432c)\" d=\"M 80.913938 181.152 \nL 107.697938 181.152 \nL 107.697938 202.896 \nL 80.913938 202.896 \nL 80.913938 181.152 \n\" style=\"fill:#d5224a;\"/>\n    <path clip-path=\"url(#p961b65432c)\" d=\"M 107.697938 181.152 \nL 134.481938 181.152 \nL 134.481938 202.896 \nL 107.697938 202.896 \nL 107.697938 181.152 \n\" style=\"fill:#731f58;\"/>\n    <path clip-path=\"url(#p961b65432c)\" d=\"M 134.481938 181.152 \nL 161.265938 181.152 \nL 161.265938 202.896 \nL 134.481938 202.896 \nL 134.481938 181.152 \n\" style=\"fill:#a6195a;\"/>\n    <path clip-path=\"url(#p961b65432c)\" d=\"M 161.265938 181.152 \nL 188.049938 181.152 \nL 188.049938 202.896 \nL 161.265938 202.896 \nL 161.265938 181.152 \n\" style=\"fill:#a6195a;\"/>\n    <path clip-path=\"url(#p961b65432c)\" d=\"M 188.049938 181.152 \nL 214.833938 181.152 \nL 214.833938 202.896 \nL 188.049938 202.896 \nL 188.049938 181.152 \n\" style=\"fill:#bf1654;\"/>\n    <path clip-path=\"url(#p961b65432c)\" d=\"M 214.833938 181.152 \nL 241.617938 181.152 \nL 241.617938 202.896 \nL 214.833938 202.896 \nL 214.833938 181.152 \n\" style=\"fill:#d5224a;\"/>\n    <path clip-path=\"url(#p961b65432c)\" d=\"M 241.617938 181.152 \nL 268.401938 181.152 \nL 268.401938 202.896 \nL 241.617938 202.896 \nL 241.617938 181.152 \n\" style=\"fill:#f3734e;\"/>\n    <path clip-path=\"url(#p961b65432c)\" d=\"M 268.401938 181.152 \nL 295.185938 181.152 \nL 295.185938 202.896 \nL 268.401938 202.896 \nL 268.401938 181.152 \n\" style=\"fill:#bf1654;\"/>\n    <path clip-path=\"url(#p961b65432c)\" d=\"M 27.345938 202.896 \nL 54.129938 202.896 \nL 54.129938 224.64 \nL 27.345938 224.64 \nL 27.345938 202.896 \n\" style=\"fill:#d5224a;\"/>\n    <path clip-path=\"url(#p961b65432c)\" d=\"M 54.129938 202.896 \nL 80.913938 202.896 \nL 80.913938 224.64 \nL 54.129938 224.64 \nL 54.129938 202.896 \n\" style=\"fill:#d5224a;\"/>\n    <path clip-path=\"url(#p961b65432c)\" d=\"M 80.913938 202.896 \nL 107.697938 202.896 \nL 107.697938 224.64 \nL 80.913938 224.64 \nL 80.913938 202.896 \n\" style=\"fill:#bf1654;\"/>\n    <path clip-path=\"url(#p961b65432c)\" d=\"M 107.697938 202.896 \nL 134.481938 202.896 \nL 134.481938 224.64 \nL 107.697938 224.64 \nL 107.697938 202.896 \n\" style=\"fill:#bf1654;\"/>\n    <path clip-path=\"url(#p961b65432c)\" d=\"M 134.481938 202.896 \nL 161.265938 202.896 \nL 161.265938 224.64 \nL 134.481938 224.64 \nL 134.481938 202.896 \n\" style=\"fill:#bf1654;\"/>\n    <path clip-path=\"url(#p961b65432c)\" d=\"M 161.265938 202.896 \nL 188.049938 202.896 \nL 188.049938 224.64 \nL 161.265938 224.64 \nL 161.265938 202.896 \n\" style=\"fill:#bf1654;\"/>\n    <path clip-path=\"url(#p961b65432c)\" d=\"M 188.049938 202.896 \nL 214.833938 202.896 \nL 214.833938 224.64 \nL 188.049938 224.64 \nL 188.049938 202.896 \n\" style=\"fill:#bf1654;\"/>\n    <path clip-path=\"url(#p961b65432c)\" d=\"M 214.833938 202.896 \nL 241.617938 202.896 \nL 241.617938 224.64 \nL 214.833938 224.64 \nL 214.833938 202.896 \n\" style=\"fill:#731f58;\"/>\n    <path clip-path=\"url(#p961b65432c)\" d=\"M 241.617938 202.896 \nL 268.401938 202.896 \nL 268.401938 224.64 \nL 241.617938 224.64 \nL 241.617938 202.896 \n\" style=\"fill:#d5224a;\"/>\n    <path clip-path=\"url(#p961b65432c)\" d=\"M 268.401938 202.896 \nL 295.185938 202.896 \nL 295.185938 224.64 \nL 268.401938 224.64 \nL 268.401938 202.896 \n\" style=\"fill:#bf1654;\"/>\n   </g>\n   <g id=\"text_22\">\n    <!-- 0 -->\n    <g style=\"fill:#ffffff;\" transform=\"translate(36.920438 21.38325)scale(0.12 -0.12)\">\n     <use xlink:href=\"#DejaVuSans-48\"/>\n    </g>\n   </g>\n   <g id=\"text_23\">\n    <!-- 0 -->\n    <g style=\"fill:#ffffff;\" transform=\"translate(63.704438 21.38325)scale(0.12 -0.12)\">\n     <use xlink:href=\"#DejaVuSans-48\"/>\n    </g>\n   </g>\n   <g id=\"text_24\">\n    <!-- 0 -->\n    <g style=\"fill:#ffffff;\" transform=\"translate(90.488438 21.38325)scale(0.12 -0.12)\">\n     <use xlink:href=\"#DejaVuSans-48\"/>\n    </g>\n   </g>\n   <g id=\"text_25\">\n    <!-- 0 -->\n    <g style=\"fill:#ffffff;\" transform=\"translate(117.272438 21.38325)scale(0.12 -0.12)\">\n     <use xlink:href=\"#DejaVuSans-48\"/>\n    </g>\n   </g>\n   <g id=\"text_26\">\n    <!-- 0 -->\n    <g style=\"fill:#ffffff;\" transform=\"translate(144.056438 21.38325)scale(0.12 -0.12)\">\n     <use xlink:href=\"#DejaVuSans-48\"/>\n    </g>\n   </g>\n   <g id=\"text_27\">\n    <!-- 0 -->\n    <g style=\"fill:#ffffff;\" transform=\"translate(170.840438 21.38325)scale(0.12 -0.12)\">\n     <use xlink:href=\"#DejaVuSans-48\"/>\n    </g>\n   </g>\n   <g id=\"text_28\">\n    <!-- 0 -->\n    <g style=\"fill:#ffffff;\" transform=\"translate(197.624438 21.38325)scale(0.12 -0.12)\">\n     <use xlink:href=\"#DejaVuSans-48\"/>\n    </g>\n   </g>\n   <g id=\"text_29\">\n    <!-- 0 -->\n    <g style=\"fill:#ffffff;\" transform=\"translate(224.408438 21.38325)scale(0.12 -0.12)\">\n     <use xlink:href=\"#DejaVuSans-48\"/>\n    </g>\n   </g>\n   <g id=\"text_30\">\n    <!-- 0 -->\n    <g style=\"fill:#ffffff;\" transform=\"translate(251.192438 21.38325)scale(0.12 -0.12)\">\n     <use xlink:href=\"#DejaVuSans-48\"/>\n    </g>\n   </g>\n   <g id=\"text_31\">\n    <!-- 0 -->\n    <g style=\"fill:#ffffff;\" transform=\"translate(277.976438 21.38325)scale(0.12 -0.12)\">\n     <use xlink:href=\"#DejaVuSans-48\"/>\n    </g>\n   </g>\n   <g id=\"text_32\">\n    <!-- 0 -->\n    <g style=\"fill:#ffffff;\" transform=\"translate(36.920438 43.12725)scale(0.12 -0.12)\">\n     <use xlink:href=\"#DejaVuSans-48\"/>\n    </g>\n   </g>\n   <g id=\"text_33\">\n    <!-- 1 -->\n    <g style=\"fill:#ffffff;\" transform=\"translate(63.704438 43.12725)scale(0.12 -0.12)\">\n     <use xlink:href=\"#DejaVuSans-49\"/>\n    </g>\n   </g>\n   <g id=\"text_34\">\n    <!-- -1 -->\n    <defs>\n     <path d=\"M 4.890625 31.390625 \nL 31.203125 31.390625 \nL 31.203125 23.390625 \nL 4.890625 23.390625 \nz\n\" id=\"DejaVuSans-45\"/>\n    </defs>\n    <g style=\"fill:#ffffff;\" transform=\"translate(88.32375 43.12725)scale(0.12 -0.12)\">\n     <use xlink:href=\"#DejaVuSans-45\"/>\n     <use x=\"36.083984\" xlink:href=\"#DejaVuSans-49\"/>\n    </g>\n   </g>\n   <g id=\"text_35\">\n    <!-- 0 -->\n    <g style=\"fill:#ffffff;\" transform=\"translate(117.272438 43.12725)scale(0.12 -0.12)\">\n     <use xlink:href=\"#DejaVuSans-48\"/>\n    </g>\n   </g>\n   <g id=\"text_36\">\n    <!-- 0 -->\n    <g style=\"fill:#ffffff;\" transform=\"translate(144.056438 43.12725)scale(0.12 -0.12)\">\n     <use xlink:href=\"#DejaVuSans-48\"/>\n    </g>\n   </g>\n   <g id=\"text_37\">\n    <!-- 1 -->\n    <g style=\"fill:#ffffff;\" transform=\"translate(170.840438 43.12725)scale(0.12 -0.12)\">\n     <use xlink:href=\"#DejaVuSans-49\"/>\n    </g>\n   </g>\n   <g id=\"text_38\">\n    <!-- -1 -->\n    <g style=\"fill:#ffffff;\" transform=\"translate(195.45975 43.12725)scale(0.12 -0.12)\">\n     <use xlink:href=\"#DejaVuSans-45\"/>\n     <use x=\"36.083984\" xlink:href=\"#DejaVuSans-49\"/>\n    </g>\n   </g>\n   <g id=\"text_39\">\n    <!-- 0 -->\n    <g style=\"fill:#ffffff;\" transform=\"translate(224.408438 43.12725)scale(0.12 -0.12)\">\n     <use xlink:href=\"#DejaVuSans-48\"/>\n    </g>\n   </g>\n   <g id=\"text_40\">\n    <!-- 0 -->\n    <g style=\"fill:#ffffff;\" transform=\"translate(251.192438 43.12725)scale(0.12 -0.12)\">\n     <use xlink:href=\"#DejaVuSans-48\"/>\n    </g>\n   </g>\n   <g id=\"text_41\">\n    <!-- 0 -->\n    <g style=\"fill:#ffffff;\" transform=\"translate(277.976438 43.12725)scale(0.12 -0.12)\">\n     <use xlink:href=\"#DejaVuSans-48\"/>\n    </g>\n   </g>\n   <g id=\"text_42\">\n    <!-- 2 -->\n    <g style=\"fill:#ffffff;\" transform=\"translate(36.920438 64.87125)scale(0.12 -0.12)\">\n     <use xlink:href=\"#DejaVuSans-50\"/>\n    </g>\n   </g>\n   <g id=\"text_43\">\n    <!-- 0 -->\n    <g style=\"fill:#ffffff;\" transform=\"translate(63.704438 64.87125)scale(0.12 -0.12)\">\n     <use xlink:href=\"#DejaVuSans-48\"/>\n    </g>\n   </g>\n   <g id=\"text_44\">\n    <!-- 0 -->\n    <g style=\"fill:#ffffff;\" transform=\"translate(90.488438 64.87125)scale(0.12 -0.12)\">\n     <use xlink:href=\"#DejaVuSans-48\"/>\n    </g>\n   </g>\n   <g id=\"text_45\">\n    <!-- -1 -->\n    <g style=\"fill:#ffffff;\" transform=\"translate(115.10775 64.87125)scale(0.12 -0.12)\">\n     <use xlink:href=\"#DejaVuSans-45\"/>\n     <use x=\"36.083984\" xlink:href=\"#DejaVuSans-49\"/>\n    </g>\n   </g>\n   <g id=\"text_46\">\n    <!-- 0 -->\n    <g style=\"fill:#ffffff;\" transform=\"translate(144.056438 64.87125)scale(0.12 -0.12)\">\n     <use xlink:href=\"#DejaVuSans-48\"/>\n    </g>\n   </g>\n   <g id=\"text_47\">\n    <!-- 0 -->\n    <g style=\"fill:#ffffff;\" transform=\"translate(170.840438 64.87125)scale(0.12 -0.12)\">\n     <use xlink:href=\"#DejaVuSans-48\"/>\n    </g>\n   </g>\n   <g id=\"text_48\">\n    <!-- 0 -->\n    <g style=\"fill:#ffffff;\" transform=\"translate(197.624438 64.87125)scale(0.12 -0.12)\">\n     <use xlink:href=\"#DejaVuSans-48\"/>\n    </g>\n   </g>\n   <g id=\"text_49\">\n    <!-- 0 -->\n    <g style=\"fill:#ffffff;\" transform=\"translate(224.408438 64.87125)scale(0.12 -0.12)\">\n     <use xlink:href=\"#DejaVuSans-48\"/>\n    </g>\n   </g>\n   <g id=\"text_50\">\n    <!-- -1 -->\n    <g style=\"fill:#ffffff;\" transform=\"translate(249.02775 64.87125)scale(0.12 -0.12)\">\n     <use xlink:href=\"#DejaVuSans-45\"/>\n     <use x=\"36.083984\" xlink:href=\"#DejaVuSans-49\"/>\n    </g>\n   </g>\n   <g id=\"text_51\">\n    <!-- 0 -->\n    <g style=\"fill:#ffffff;\" transform=\"translate(277.976438 64.87125)scale(0.12 -0.12)\">\n     <use xlink:href=\"#DejaVuSans-48\"/>\n    </g>\n   </g>\n   <g id=\"text_52\">\n    <!-- 1 -->\n    <g style=\"fill:#ffffff;\" transform=\"translate(36.920438 86.61525)scale(0.12 -0.12)\">\n     <use xlink:href=\"#DejaVuSans-49\"/>\n    </g>\n   </g>\n   <g id=\"text_53\">\n    <!-- -1 -->\n    <g style=\"fill:#ffffff;\" transform=\"translate(61.53975 86.61525)scale(0.12 -0.12)\">\n     <use xlink:href=\"#DejaVuSans-45\"/>\n     <use x=\"36.083984\" xlink:href=\"#DejaVuSans-49\"/>\n    </g>\n   </g>\n   <g id=\"text_54\">\n    <!-- -1 -->\n    <g style=\"fill:#ffffff;\" transform=\"translate(88.32375 86.61525)scale(0.12 -0.12)\">\n     <use xlink:href=\"#DejaVuSans-45\"/>\n     <use x=\"36.083984\" xlink:href=\"#DejaVuSans-49\"/>\n    </g>\n   </g>\n   <g id=\"text_55\">\n    <!-- 9 -->\n    <g style=\"fill:#262626;\" transform=\"translate(117.272438 86.61525)scale(0.12 -0.12)\">\n     <use xlink:href=\"#DejaVuSans-57\"/>\n    </g>\n   </g>\n   <g id=\"text_56\">\n    <!-- 1 -->\n    <g style=\"fill:#ffffff;\" transform=\"translate(144.056438 86.61525)scale(0.12 -0.12)\">\n     <use xlink:href=\"#DejaVuSans-49\"/>\n    </g>\n   </g>\n   <g id=\"text_57\">\n    <!-- -8 -->\n    <g style=\"fill:#ffffff;\" transform=\"translate(168.67575 86.61525)scale(0.12 -0.12)\">\n     <use xlink:href=\"#DejaVuSans-45\"/>\n     <use x=\"36.083984\" xlink:href=\"#DejaVuSans-56\"/>\n    </g>\n   </g>\n   <g id=\"text_58\">\n    <!-- 0 -->\n    <g style=\"fill:#ffffff;\" transform=\"translate(197.624438 86.61525)scale(0.12 -0.12)\">\n     <use xlink:href=\"#DejaVuSans-48\"/>\n    </g>\n   </g>\n   <g id=\"text_59\">\n    <!-- -1 -->\n    <g style=\"fill:#ffffff;\" transform=\"translate(222.24375 86.61525)scale(0.12 -0.12)\">\n     <use xlink:href=\"#DejaVuSans-45\"/>\n     <use x=\"36.083984\" xlink:href=\"#DejaVuSans-49\"/>\n    </g>\n   </g>\n   <g id=\"text_60\">\n    <!-- 2 -->\n    <g style=\"fill:#ffffff;\" transform=\"translate(251.192438 86.61525)scale(0.12 -0.12)\">\n     <use xlink:href=\"#DejaVuSans-50\"/>\n    </g>\n   </g>\n   <g id=\"text_61\">\n    <!-- -2 -->\n    <g style=\"fill:#ffffff;\" transform=\"translate(275.81175 86.61525)scale(0.12 -0.12)\">\n     <use xlink:href=\"#DejaVuSans-45\"/>\n     <use x=\"36.083984\" xlink:href=\"#DejaVuSans-50\"/>\n    </g>\n   </g>\n   <g id=\"text_62\">\n    <!-- 0 -->\n    <g style=\"fill:#ffffff;\" transform=\"translate(36.920438 108.35925)scale(0.12 -0.12)\">\n     <use xlink:href=\"#DejaVuSans-48\"/>\n    </g>\n   </g>\n   <g id=\"text_63\">\n    <!-- 0 -->\n    <g style=\"fill:#ffffff;\" transform=\"translate(63.704438 108.35925)scale(0.12 -0.12)\">\n     <use xlink:href=\"#DejaVuSans-48\"/>\n    </g>\n   </g>\n   <g id=\"text_64\">\n    <!-- 1 -->\n    <g style=\"fill:#ffffff;\" transform=\"translate(90.488438 108.35925)scale(0.12 -0.12)\">\n     <use xlink:href=\"#DejaVuSans-49\"/>\n    </g>\n   </g>\n   <g id=\"text_65\">\n    <!-- 0 -->\n    <g style=\"fill:#ffffff;\" transform=\"translate(117.272438 108.35925)scale(0.12 -0.12)\">\n     <use xlink:href=\"#DejaVuSans-48\"/>\n    </g>\n   </g>\n   <g id=\"text_66\">\n    <!-- -4 -->\n    <g style=\"fill:#ffffff;\" transform=\"translate(141.89175 108.35925)scale(0.12 -0.12)\">\n     <use xlink:href=\"#DejaVuSans-45\"/>\n     <use x=\"36.083984\" xlink:href=\"#DejaVuSans-52\"/>\n    </g>\n   </g>\n   <g id=\"text_67\">\n    <!-- 0 -->\n    <g style=\"fill:#ffffff;\" transform=\"translate(170.840438 108.35925)scale(0.12 -0.12)\">\n     <use xlink:href=\"#DejaVuSans-48\"/>\n    </g>\n   </g>\n   <g id=\"text_68\">\n    <!-- 1 -->\n    <g style=\"fill:#ffffff;\" transform=\"translate(197.624438 108.35925)scale(0.12 -0.12)\">\n     <use xlink:href=\"#DejaVuSans-49\"/>\n    </g>\n   </g>\n   <g id=\"text_69\">\n    <!-- 0 -->\n    <g style=\"fill:#ffffff;\" transform=\"translate(224.408438 108.35925)scale(0.12 -0.12)\">\n     <use xlink:href=\"#DejaVuSans-48\"/>\n    </g>\n   </g>\n   <g id=\"text_70\">\n    <!-- 0 -->\n    <g style=\"fill:#ffffff;\" transform=\"translate(251.192438 108.35925)scale(0.12 -0.12)\">\n     <use xlink:href=\"#DejaVuSans-48\"/>\n    </g>\n   </g>\n   <g id=\"text_71\">\n    <!-- 2 -->\n    <g style=\"fill:#ffffff;\" transform=\"translate(277.976438 108.35925)scale(0.12 -0.12)\">\n     <use xlink:href=\"#DejaVuSans-50\"/>\n    </g>\n   </g>\n   <g id=\"text_72\">\n    <!-- 1 -->\n    <g style=\"fill:#ffffff;\" transform=\"translate(36.920438 130.10325)scale(0.12 -0.12)\">\n     <use xlink:href=\"#DejaVuSans-49\"/>\n    </g>\n   </g>\n   <g id=\"text_73\">\n    <!-- 0 -->\n    <g style=\"fill:#ffffff;\" transform=\"translate(63.704438 130.10325)scale(0.12 -0.12)\">\n     <use xlink:href=\"#DejaVuSans-48\"/>\n    </g>\n   </g>\n   <g id=\"text_74\">\n    <!-- 0 -->\n    <g style=\"fill:#ffffff;\" transform=\"translate(90.488438 130.10325)scale(0.12 -0.12)\">\n     <use xlink:href=\"#DejaVuSans-48\"/>\n    </g>\n   </g>\n   <g id=\"text_75\">\n    <!-- -2 -->\n    <g style=\"fill:#ffffff;\" transform=\"translate(115.10775 130.10325)scale(0.12 -0.12)\">\n     <use xlink:href=\"#DejaVuSans-45\"/>\n     <use x=\"36.083984\" xlink:href=\"#DejaVuSans-50\"/>\n    </g>\n   </g>\n   <g id=\"text_76\">\n    <!-- 1 -->\n    <g style=\"fill:#ffffff;\" transform=\"translate(144.056438 130.10325)scale(0.12 -0.12)\">\n     <use xlink:href=\"#DejaVuSans-49\"/>\n    </g>\n   </g>\n   <g id=\"text_77\">\n    <!-- 2 -->\n    <g style=\"fill:#ffffff;\" transform=\"translate(170.840438 130.10325)scale(0.12 -0.12)\">\n     <use xlink:href=\"#DejaVuSans-50\"/>\n    </g>\n   </g>\n   <g id=\"text_78\">\n    <!-- 3 -->\n    <g style=\"fill:#ffffff;\" transform=\"translate(197.624438 130.10325)scale(0.12 -0.12)\">\n     <use xlink:href=\"#DejaVuSans-51\"/>\n    </g>\n   </g>\n   <g id=\"text_79\">\n    <!-- 0 -->\n    <g style=\"fill:#ffffff;\" transform=\"translate(224.408438 130.10325)scale(0.12 -0.12)\">\n     <use xlink:href=\"#DejaVuSans-48\"/>\n    </g>\n   </g>\n   <g id=\"text_80\">\n    <!-- -2 -->\n    <g style=\"fill:#ffffff;\" transform=\"translate(249.02775 130.10325)scale(0.12 -0.12)\">\n     <use xlink:href=\"#DejaVuSans-45\"/>\n     <use x=\"36.083984\" xlink:href=\"#DejaVuSans-50\"/>\n    </g>\n   </g>\n   <g id=\"text_81\">\n    <!-- -3 -->\n    <g style=\"fill:#ffffff;\" transform=\"translate(275.81175 130.10325)scale(0.12 -0.12)\">\n     <use xlink:href=\"#DejaVuSans-45\"/>\n     <use x=\"36.083984\" xlink:href=\"#DejaVuSans-51\"/>\n    </g>\n   </g>\n   <g id=\"text_82\">\n    <!-- 2 -->\n    <g style=\"fill:#ffffff;\" transform=\"translate(36.920438 151.84725)scale(0.12 -0.12)\">\n     <use xlink:href=\"#DejaVuSans-50\"/>\n    </g>\n   </g>\n   <g id=\"text_83\">\n    <!-- 0 -->\n    <g style=\"fill:#ffffff;\" transform=\"translate(63.704438 151.84725)scale(0.12 -0.12)\">\n     <use xlink:href=\"#DejaVuSans-48\"/>\n    </g>\n   </g>\n   <g id=\"text_84\">\n    <!-- 0 -->\n    <g style=\"fill:#ffffff;\" transform=\"translate(90.488438 151.84725)scale(0.12 -0.12)\">\n     <use xlink:href=\"#DejaVuSans-48\"/>\n    </g>\n   </g>\n   <g id=\"text_85\">\n    <!-- 0 -->\n    <g style=\"fill:#ffffff;\" transform=\"translate(117.272438 151.84725)scale(0.12 -0.12)\">\n     <use xlink:href=\"#DejaVuSans-48\"/>\n    </g>\n   </g>\n   <g id=\"text_86\">\n    <!-- 0 -->\n    <g style=\"fill:#ffffff;\" transform=\"translate(144.056438 151.84725)scale(0.12 -0.12)\">\n     <use xlink:href=\"#DejaVuSans-48\"/>\n    </g>\n   </g>\n   <g id=\"text_87\">\n    <!-- -2 -->\n    <g style=\"fill:#ffffff;\" transform=\"translate(168.67575 151.84725)scale(0.12 -0.12)\">\n     <use xlink:href=\"#DejaVuSans-45\"/>\n     <use x=\"36.083984\" xlink:href=\"#DejaVuSans-50\"/>\n    </g>\n   </g>\n   <g id=\"text_88\">\n    <!-- 0 -->\n    <g style=\"fill:#ffffff;\" transform=\"translate(197.624438 151.84725)scale(0.12 -0.12)\">\n     <use xlink:href=\"#DejaVuSans-48\"/>\n    </g>\n   </g>\n   <g id=\"text_89\">\n    <!-- 0 -->\n    <g style=\"fill:#ffffff;\" transform=\"translate(224.408438 151.84725)scale(0.12 -0.12)\">\n     <use xlink:href=\"#DejaVuSans-48\"/>\n    </g>\n   </g>\n   <g id=\"text_90\">\n    <!-- 0 -->\n    <g style=\"fill:#ffffff;\" transform=\"translate(251.192438 151.84725)scale(0.12 -0.12)\">\n     <use xlink:href=\"#DejaVuSans-48\"/>\n    </g>\n   </g>\n   <g id=\"text_91\">\n    <!-- 0 -->\n    <g style=\"fill:#ffffff;\" transform=\"translate(277.976438 151.84725)scale(0.12 -0.12)\">\n     <use xlink:href=\"#DejaVuSans-48\"/>\n    </g>\n   </g>\n   <g id=\"text_92\">\n    <!-- 1 -->\n    <g style=\"fill:#ffffff;\" transform=\"translate(36.920438 173.59125)scale(0.12 -0.12)\">\n     <use xlink:href=\"#DejaVuSans-49\"/>\n    </g>\n   </g>\n   <g id=\"text_93\">\n    <!-- -1 -->\n    <g style=\"fill:#ffffff;\" transform=\"translate(61.53975 173.59125)scale(0.12 -0.12)\">\n     <use xlink:href=\"#DejaVuSans-45\"/>\n     <use x=\"36.083984\" xlink:href=\"#DejaVuSans-49\"/>\n    </g>\n   </g>\n   <g id=\"text_94\">\n    <!-- 0 -->\n    <g style=\"fill:#ffffff;\" transform=\"translate(90.488438 173.59125)scale(0.12 -0.12)\">\n     <use xlink:href=\"#DejaVuSans-48\"/>\n    </g>\n   </g>\n   <g id=\"text_95\">\n    <!-- 0 -->\n    <g style=\"fill:#ffffff;\" transform=\"translate(117.272438 173.59125)scale(0.12 -0.12)\">\n     <use xlink:href=\"#DejaVuSans-48\"/>\n    </g>\n   </g>\n   <g id=\"text_96\">\n    <!-- -1 -->\n    <g style=\"fill:#ffffff;\" transform=\"translate(141.89175 173.59125)scale(0.12 -0.12)\">\n     <use xlink:href=\"#DejaVuSans-45\"/>\n     <use x=\"36.083984\" xlink:href=\"#DejaVuSans-49\"/>\n    </g>\n   </g>\n   <g id=\"text_97\">\n    <!-- 0 -->\n    <g style=\"fill:#ffffff;\" transform=\"translate(170.840438 173.59125)scale(0.12 -0.12)\">\n     <use xlink:href=\"#DejaVuSans-48\"/>\n    </g>\n   </g>\n   <g id=\"text_98\">\n    <!-- 0 -->\n    <g style=\"fill:#ffffff;\" transform=\"translate(197.624438 173.59125)scale(0.12 -0.12)\">\n     <use xlink:href=\"#DejaVuSans-48\"/>\n    </g>\n   </g>\n   <g id=\"text_99\">\n    <!-- 3 -->\n    <g style=\"fill:#ffffff;\" transform=\"translate(224.408438 173.59125)scale(0.12 -0.12)\">\n     <use xlink:href=\"#DejaVuSans-51\"/>\n    </g>\n   </g>\n   <g id=\"text_100\">\n    <!-- 0 -->\n    <g style=\"fill:#ffffff;\" transform=\"translate(251.192438 173.59125)scale(0.12 -0.12)\">\n     <use xlink:href=\"#DejaVuSans-48\"/>\n    </g>\n   </g>\n   <g id=\"text_101\">\n    <!-- -2 -->\n    <g style=\"fill:#ffffff;\" transform=\"translate(275.81175 173.59125)scale(0.12 -0.12)\">\n     <use xlink:href=\"#DejaVuSans-45\"/>\n     <use x=\"36.083984\" xlink:href=\"#DejaVuSans-50\"/>\n    </g>\n   </g>\n   <g id=\"text_102\">\n    <!-- 0 -->\n    <g style=\"fill:#ffffff;\" transform=\"translate(36.920438 195.33525)scale(0.12 -0.12)\">\n     <use xlink:href=\"#DejaVuSans-48\"/>\n    </g>\n   </g>\n   <g id=\"text_103\">\n    <!-- -1 -->\n    <g style=\"fill:#ffffff;\" transform=\"translate(61.53975 195.33525)scale(0.12 -0.12)\">\n     <use xlink:href=\"#DejaVuSans-45\"/>\n     <use x=\"36.083984\" xlink:href=\"#DejaVuSans-49\"/>\n    </g>\n   </g>\n   <g id=\"text_104\">\n    <!-- 1 -->\n    <g style=\"fill:#ffffff;\" transform=\"translate(90.488438 195.33525)scale(0.12 -0.12)\">\n     <use xlink:href=\"#DejaVuSans-49\"/>\n    </g>\n   </g>\n   <g id=\"text_105\">\n    <!-- -3 -->\n    <g style=\"fill:#ffffff;\" transform=\"translate(115.10775 195.33525)scale(0.12 -0.12)\">\n     <use xlink:href=\"#DejaVuSans-45\"/>\n     <use x=\"36.083984\" xlink:href=\"#DejaVuSans-51\"/>\n    </g>\n   </g>\n   <g id=\"text_106\">\n    <!-- -1 -->\n    <g style=\"fill:#ffffff;\" transform=\"translate(141.89175 195.33525)scale(0.12 -0.12)\">\n     <use xlink:href=\"#DejaVuSans-45\"/>\n     <use x=\"36.083984\" xlink:href=\"#DejaVuSans-49\"/>\n    </g>\n   </g>\n   <g id=\"text_107\">\n    <!-- -1 -->\n    <g style=\"fill:#ffffff;\" transform=\"translate(168.67575 195.33525)scale(0.12 -0.12)\">\n     <use xlink:href=\"#DejaVuSans-45\"/>\n     <use x=\"36.083984\" xlink:href=\"#DejaVuSans-49\"/>\n    </g>\n   </g>\n   <g id=\"text_108\">\n    <!-- 0 -->\n    <g style=\"fill:#ffffff;\" transform=\"translate(197.624438 195.33525)scale(0.12 -0.12)\">\n     <use xlink:href=\"#DejaVuSans-48\"/>\n    </g>\n   </g>\n   <g id=\"text_109\">\n    <!-- 1 -->\n    <g style=\"fill:#ffffff;\" transform=\"translate(224.408438 195.33525)scale(0.12 -0.12)\">\n     <use xlink:href=\"#DejaVuSans-49\"/>\n    </g>\n   </g>\n   <g id=\"text_110\">\n    <!-- 4 -->\n    <g style=\"fill:#ffffff;\" transform=\"translate(251.192438 195.33525)scale(0.12 -0.12)\">\n     <use xlink:href=\"#DejaVuSans-52\"/>\n    </g>\n   </g>\n   <g id=\"text_111\">\n    <!-- 0 -->\n    <g style=\"fill:#ffffff;\" transform=\"translate(277.976438 195.33525)scale(0.12 -0.12)\">\n     <use xlink:href=\"#DejaVuSans-48\"/>\n    </g>\n   </g>\n   <g id=\"text_112\">\n    <!-- 1 -->\n    <g style=\"fill:#ffffff;\" transform=\"translate(36.920438 217.07925)scale(0.12 -0.12)\">\n     <use xlink:href=\"#DejaVuSans-49\"/>\n    </g>\n   </g>\n   <g id=\"text_113\">\n    <!-- 1 -->\n    <g style=\"fill:#ffffff;\" transform=\"translate(63.704438 217.07925)scale(0.12 -0.12)\">\n     <use xlink:href=\"#DejaVuSans-49\"/>\n    </g>\n   </g>\n   <g id=\"text_114\">\n    <!-- 0 -->\n    <g style=\"fill:#ffffff;\" transform=\"translate(90.488438 217.07925)scale(0.12 -0.12)\">\n     <use xlink:href=\"#DejaVuSans-48\"/>\n    </g>\n   </g>\n   <g id=\"text_115\">\n    <!-- 0 -->\n    <g style=\"fill:#ffffff;\" transform=\"translate(117.272438 217.07925)scale(0.12 -0.12)\">\n     <use xlink:href=\"#DejaVuSans-48\"/>\n    </g>\n   </g>\n   <g id=\"text_116\">\n    <!-- 0 -->\n    <g style=\"fill:#ffffff;\" transform=\"translate(144.056438 217.07925)scale(0.12 -0.12)\">\n     <use xlink:href=\"#DejaVuSans-48\"/>\n    </g>\n   </g>\n   <g id=\"text_117\">\n    <!-- 0 -->\n    <g style=\"fill:#ffffff;\" transform=\"translate(170.840438 217.07925)scale(0.12 -0.12)\">\n     <use xlink:href=\"#DejaVuSans-48\"/>\n    </g>\n   </g>\n   <g id=\"text_118\">\n    <!-- 0 -->\n    <g style=\"fill:#ffffff;\" transform=\"translate(197.624438 217.07925)scale(0.12 -0.12)\">\n     <use xlink:href=\"#DejaVuSans-48\"/>\n    </g>\n   </g>\n   <g id=\"text_119\">\n    <!-- -3 -->\n    <g style=\"fill:#ffffff;\" transform=\"translate(222.24375 217.07925)scale(0.12 -0.12)\">\n     <use xlink:href=\"#DejaVuSans-45\"/>\n     <use x=\"36.083984\" xlink:href=\"#DejaVuSans-51\"/>\n    </g>\n   </g>\n   <g id=\"text_120\">\n    <!-- 1 -->\n    <g style=\"fill:#ffffff;\" transform=\"translate(251.192438 217.07925)scale(0.12 -0.12)\">\n     <use xlink:href=\"#DejaVuSans-49\"/>\n    </g>\n   </g>\n   <g id=\"text_121\">\n    <!-- 0 -->\n    <g style=\"fill:#ffffff;\" transform=\"translate(277.976438 217.07925)scale(0.12 -0.12)\">\n     <use xlink:href=\"#DejaVuSans-48\"/>\n    </g>\n   </g>\n  </g>\n  <g id=\"axes_2\">\n   <g id=\"patch_3\">\n    <path clip-path=\"url(#p05c8c81685)\" d=\"M 311.925938 224.64 \nL 311.925938 223.790625 \nL 311.925938 8.049375 \nL 311.925938 7.2 \nL 322.797938 7.2 \nL 322.797938 8.049375 \nL 322.797938 223.790625 \nL 322.797938 224.64 \nz\n\" style=\"fill:#eaeaf2;stroke:#eaeaf2;stroke-linejoin:miter;stroke-width:0.01;\"/>\n   </g>\n   <g id=\"matplotlib.axis_3\"/>\n   <g id=\"matplotlib.axis_4\">\n    <g id=\"ytick_11\">\n     <g id=\"line2d_1\">\n      <defs>\n       <path d=\"M 0 0 \nL 6 0 \n\" id=\"mbdbda6f75b\" style=\"stroke:#262626;stroke-width:1.25;\"/>\n      </defs>\n      <g>\n       <use style=\"fill:#262626;stroke:#262626;stroke-width:1.25;\" x=\"322.797938\" xlink:href=\"#mbdbda6f75b\" y=\"224.64\"/>\n      </g>\n     </g>\n     <g id=\"text_122\">\n      <!-- −8 -->\n      <defs>\n       <path d=\"M 10.59375 35.5 \nL 73.1875 35.5 \nL 73.1875 27.203125 \nL 10.59375 27.203125 \nz\n\" id=\"DejaVuSans-8722\"/>\n      </defs>\n      <g style=\"fill:#262626;\" transform=\"translate(332.297938 228.819141)scale(0.11 -0.11)\">\n       <use xlink:href=\"#DejaVuSans-8722\"/>\n       <use x=\"83.789062\" xlink:href=\"#DejaVuSans-56\"/>\n      </g>\n     </g>\n    </g>\n    <g id=\"ytick_12\">\n     <g id=\"line2d_2\">\n      <g>\n       <use style=\"fill:#262626;stroke:#262626;stroke-width:1.25;\" x=\"322.797938\" xlink:href=\"#mbdbda6f75b\" y=\"199.058824\"/>\n      </g>\n     </g>\n     <g id=\"text_123\">\n      <!-- −6 -->\n      <g style=\"fill:#262626;\" transform=\"translate(332.297938 203.237964)scale(0.11 -0.11)\">\n       <use xlink:href=\"#DejaVuSans-8722\"/>\n       <use x=\"83.789062\" xlink:href=\"#DejaVuSans-54\"/>\n      </g>\n     </g>\n    </g>\n    <g id=\"ytick_13\">\n     <g id=\"line2d_3\">\n      <g>\n       <use style=\"fill:#262626;stroke:#262626;stroke-width:1.25;\" x=\"322.797938\" xlink:href=\"#mbdbda6f75b\" y=\"173.477647\"/>\n      </g>\n     </g>\n     <g id=\"text_124\">\n      <!-- −4 -->\n      <g style=\"fill:#262626;\" transform=\"translate(332.297938 177.656788)scale(0.11 -0.11)\">\n       <use xlink:href=\"#DejaVuSans-8722\"/>\n       <use x=\"83.789062\" xlink:href=\"#DejaVuSans-52\"/>\n      </g>\n     </g>\n    </g>\n    <g id=\"ytick_14\">\n     <g id=\"line2d_4\">\n      <g>\n       <use style=\"fill:#262626;stroke:#262626;stroke-width:1.25;\" x=\"322.797938\" xlink:href=\"#mbdbda6f75b\" y=\"147.896471\"/>\n      </g>\n     </g>\n     <g id=\"text_125\">\n      <!-- −2 -->\n      <g style=\"fill:#262626;\" transform=\"translate(332.297938 152.075611)scale(0.11 -0.11)\">\n       <use xlink:href=\"#DejaVuSans-8722\"/>\n       <use x=\"83.789062\" xlink:href=\"#DejaVuSans-50\"/>\n      </g>\n     </g>\n    </g>\n    <g id=\"ytick_15\">\n     <g id=\"line2d_5\">\n      <g>\n       <use style=\"fill:#262626;stroke:#262626;stroke-width:1.25;\" x=\"322.797938\" xlink:href=\"#mbdbda6f75b\" y=\"122.315294\"/>\n      </g>\n     </g>\n     <g id=\"text_126\">\n      <!-- 0 -->\n      <g style=\"fill:#262626;\" transform=\"translate(332.297938 126.494435)scale(0.11 -0.11)\">\n       <use xlink:href=\"#DejaVuSans-48\"/>\n      </g>\n     </g>\n    </g>\n    <g id=\"ytick_16\">\n     <g id=\"line2d_6\">\n      <g>\n       <use style=\"fill:#262626;stroke:#262626;stroke-width:1.25;\" x=\"322.797938\" xlink:href=\"#mbdbda6f75b\" y=\"96.734118\"/>\n      </g>\n     </g>\n     <g id=\"text_127\">\n      <!-- 2 -->\n      <g style=\"fill:#262626;\" transform=\"translate(332.297938 100.913258)scale(0.11 -0.11)\">\n       <use xlink:href=\"#DejaVuSans-50\"/>\n      </g>\n     </g>\n    </g>\n    <g id=\"ytick_17\">\n     <g id=\"line2d_7\">\n      <g>\n       <use style=\"fill:#262626;stroke:#262626;stroke-width:1.25;\" x=\"322.797938\" xlink:href=\"#mbdbda6f75b\" y=\"71.152941\"/>\n      </g>\n     </g>\n     <g id=\"text_128\">\n      <!-- 4 -->\n      <g style=\"fill:#262626;\" transform=\"translate(332.297938 75.332082)scale(0.11 -0.11)\">\n       <use xlink:href=\"#DejaVuSans-52\"/>\n      </g>\n     </g>\n    </g>\n    <g id=\"ytick_18\">\n     <g id=\"line2d_8\">\n      <g>\n       <use style=\"fill:#262626;stroke:#262626;stroke-width:1.25;\" x=\"322.797938\" xlink:href=\"#mbdbda6f75b\" y=\"45.571765\"/>\n      </g>\n     </g>\n     <g id=\"text_129\">\n      <!-- 6 -->\n      <g style=\"fill:#262626;\" transform=\"translate(332.297938 49.750905)scale(0.11 -0.11)\">\n       <use xlink:href=\"#DejaVuSans-54\"/>\n      </g>\n     </g>\n    </g>\n    <g id=\"ytick_19\">\n     <g id=\"line2d_9\">\n      <g>\n       <use style=\"fill:#262626;stroke:#262626;stroke-width:1.25;\" x=\"322.797938\" xlink:href=\"#mbdbda6f75b\" y=\"19.990588\"/>\n      </g>\n     </g>\n     <g id=\"text_130\">\n      <!-- 8 -->\n      <g style=\"fill:#262626;\" transform=\"translate(332.297938 24.169729)scale(0.11 -0.11)\">\n       <use xlink:href=\"#DejaVuSans-56\"/>\n      </g>\n     </g>\n    </g>\n   </g>\n   <image height=\"217\" id=\"image85f6b0042b\" transform=\"scale(1 -1)translate(0 -217)\" width=\"11\" x=\"312\" xlink:href=\"data:image/png;base64,\niVBORw0KGgoAAAANSUhEUgAAAAsAAADZCAYAAAD2WsoCAAAABHNCSVQICAgIfAhkiAAAAVlJREFUaIHVmNsNw0AIBHmlifRfZ5wWmI+RsL9Xq2XgOJ1zPt8nlt9k5lZLxWE5d9ZeXFqBpRWIMiMaXgc9zqzdrCkEnUeDOIvD/8YCtTPIaGgxJtCI7j9zNrzNT2jspe7mJ+Lx7pS1VG03ioHa7Q2/iQ44t3cGSQyz3e/L7MVozbnWzwOZBhDD4ScxCA2vwLkRg7VbG6QrNLQY8+ytzTN4IwaikWFlhgVaMTp+wBmAFjMn2AXTRFxEjGJA57WW0gBbxiyQxVhroXMXGH7wqwCi82jUkAI1ziY64Fzgpp/QYnhi8ISNybkRA1wqtEDkTN6DWmYxBrhj2d8elBmKSWZSIItB/hJ7NJLQiN6/6cWmHOGc4A+H2m7ijM7g7Le52hRyYL0YiAbbdaiDFjomZqvgRoHIudHw38j8QhqZ2iBdoeFdE1aB2R/J2Rx+i3N6q+BGgezAIhpWgX8Q+yojYgoAGwAAAABJRU5ErkJggg==\" y=\"-7\"/>\n   <g id=\"patch_4\">\n    <path d=\"M 311.925938 224.64 \nL 311.925938 223.790625 \nL 311.925938 8.049375 \nL 311.925938 7.2 \nL 322.797938 7.2 \nL 322.797938 8.049375 \nL 322.797938 223.790625 \nL 322.797938 224.64 \nz\n\" style=\"fill:none;\"/>\n   </g>\n  </g>\n </g>\n <defs>\n  <clipPath id=\"p961b65432c\">\n   <rect height=\"217.44\" width=\"267.84\" x=\"27.345938\" y=\"7.2\"/>\n  </clipPath>\n  <clipPath id=\"p05c8c81685\">\n   <rect height=\"217.44\" width=\"10.872\" x=\"311.925938\" y=\"7.2\"/>\n  </clipPath>\n </defs>\n</svg>\n"
          },
          "metadata": {}
        }
      ]
    },
    {
      "cell_type": "code",
      "metadata": {
        "id": "fGHlqUdegvsh",
        "outputId": "2ff413d1-8886-4c84-b39e-da092cfb712f"
      },
      "source": [
        "a = np.array([1, 2, 3, 4, 5, 6, 7])\n",
        "cross_validation.kfold(8, 3)"
      ],
      "execution_count": null,
      "outputs": [
        {
          "output_type": "execute_result",
          "data": {
            "text/plain": [
              "[(array([3, 4, 5, 6, 7]), array([0, 1, 2])),\n",
              " (array([0, 1, 2, 6, 7]), array([3, 4, 5])),\n",
              " (array([0, 1, 2, 3, 4, 5]), array([6, 7]))]"
            ]
          },
          "metadata": {},
          "execution_count": 177
        }
      ]
    }
  ]
}