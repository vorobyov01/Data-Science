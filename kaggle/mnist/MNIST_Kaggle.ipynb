{
  "nbformat": 4,
  "nbformat_minor": 0,
  "metadata": {
    "colab": {
      "name": "MNIST_Kaggle.ipynb",
      "provenance": [],
      "collapsed_sections": [
        "KQCWby4jILy5",
        "_6wgQSA5IJpo",
        "jOyPzb5sH0Uk",
        "-ruaXh6OHuwe",
        "a2qmUavjHmGR"
      ]
    },
    "kernelspec": {
      "name": "python3",
      "display_name": "Python 3"
    },
    "language_info": {
      "name": "python"
    },
    "accelerator": "GPU"
  },
  "cells": [
    {
      "cell_type": "markdown",
      "metadata": {
        "id": "KQCWby4jILy5"
      },
      "source": [
        "### Imports"
      ]
    },
    {
      "cell_type": "code",
      "metadata": {
        "id": "truhWkztoBpi"
      },
      "source": [
        "import numpy as np\n",
        "import pandas as pd\n",
        "import matplotlib.pyplot as plt\n",
        "from sklearn.model_selection import train_test_split"
      ],
      "execution_count": 1,
      "outputs": []
    },
    {
      "cell_type": "code",
      "metadata": {
        "id": "1mPGHMB1oVih"
      },
      "source": [
        "import torch\n",
        "import torch.nn as nn\n",
        "import torchvision\n",
        "import torchvision.transforms as transforms\n",
        "from torch.autograd import Variable\n",
        "from tqdm import tqdm"
      ],
      "execution_count": 2,
      "outputs": []
    },
    {
      "cell_type": "markdown",
      "metadata": {
        "id": "_6wgQSA5IJpo"
      },
      "source": [
        "### Dataloader"
      ]
    },
    {
      "cell_type": "code",
      "metadata": {
        "id": "Vw1B4FWyB8PI"
      },
      "source": [
        "train_path = '/content/drive/MyDrive/Datasets/MNIST/train.csv'\n",
        "test_path = '/content/drive/MyDrive/Datasets/MNIST/test.csv'"
      ],
      "execution_count": 3,
      "outputs": []
    },
    {
      "cell_type": "code",
      "metadata": {
        "id": "xB_C6BPmoVbd",
        "colab": {
          "base_uri": "https://localhost:8080/"
        },
        "outputId": "c3c93d7d-2472-4630-8236-c34803e0b93f"
      },
      "source": [
        "train_df = pd.read_csv(train_path)\n",
        "print(train_df.shape)"
      ],
      "execution_count": 4,
      "outputs": [
        {
          "output_type": "stream",
          "text": [
            "(42000, 785)\n"
          ],
          "name": "stdout"
        }
      ]
    },
    {
      "cell_type": "code",
      "metadata": {
        "id": "Hi0HZFiGY0Wr",
        "colab": {
          "base_uri": "https://localhost:8080/"
        },
        "outputId": "aaa533ef-7885-4e15-b66e-3da2c880c334"
      },
      "source": [
        "from keras.datasets import mnist\n",
        "(x_train1, y_train1), (x_test1, y_test1) = mnist.load_data()\n",
        "train1 = np.concatenate([x_train1, x_test1], axis=0).reshape(-1, 784)\n",
        "y_train1 = np.concatenate([y_train1, y_test1], axis=0)"
      ],
      "execution_count": 5,
      "outputs": [
        {
          "output_type": "stream",
          "text": [
            "Downloading data from https://storage.googleapis.com/tensorflow/tf-keras-datasets/mnist.npz\n",
            "11493376/11490434 [==============================] - 0s 0us/step\n",
            "11501568/11490434 [==============================] - 0s 0us/step\n"
          ],
          "name": "stdout"
        }
      ]
    },
    {
      "cell_type": "code",
      "metadata": {
        "id": "pXRbDXyXbJhD"
      },
      "source": [
        "new_train_df = np.concatenate([y_train1.reshape(-1, 1), train1], axis=1)\n",
        "new_train_df = pd.DataFrame(new_train_df, index=[str(i) for i in range(42001, 112001)],\n",
        "                            columns=['label']+['pixel'+str(i) for i in range(784)])\n",
        "train_df = pd.concat([train_df, new_train_df], axis=0)"
      ],
      "execution_count": 6,
      "outputs": []
    },
    {
      "cell_type": "code",
      "metadata": {
        "id": "m9UOUYPeoVY7"
      },
      "source": [
        "X = train_df.loc[:,train_df.columns != \"label\"].values/255\n",
        "Y = train_df.label.values\n",
        "features_train, features_test, targets_train, targets_test = train_test_split(X,Y,test_size=0.2,\n",
        "                                                                              random_state=42)\n",
        "X_train = torch.from_numpy(features_train)\n",
        "X_test = torch.from_numpy(features_test)\n",
        "\n",
        "Y_train = torch.from_numpy(targets_train).type(torch.LongTensor) \n",
        "Y_test = torch.from_numpy(targets_test).type(torch.LongTensor)\n",
        "\n",
        "train = torch.utils.data.TensorDataset(X_train.view(-1,1,28,28),Y_train)\n",
        "test = torch.utils.data.TensorDataset(X_test.view(-1,1,28,28),Y_test)\n",
        "\n",
        "\n",
        "train_loader = torch.utils.data.DataLoader(train, batch_size=64, shuffle = False)\n",
        "test_loader = torch.utils.data.DataLoader(test, batch_size=64, shuffle = False)"
      ],
      "execution_count": 7,
      "outputs": []
    },
    {
      "cell_type": "code",
      "metadata": {
        "colab": {
          "base_uri": "https://localhost:8080/"
        },
        "id": "DomE3y0qsek9",
        "outputId": "909018d6-c5e8-4136-f291-693d81d748bd"
      },
      "source": [
        "device = \"cuda\" if torch.cuda.is_available() else \"cpu\"\n",
        "print(\"Using {} device\".format(device))"
      ],
      "execution_count": 8,
      "outputs": [
        {
          "output_type": "stream",
          "text": [
            "Using cuda device\n"
          ],
          "name": "stdout"
        }
      ]
    },
    {
      "cell_type": "markdown",
      "metadata": {
        "id": "-ruaXh6OHuwe"
      },
      "source": [
        "### Training & Validation"
      ]
    },
    {
      "cell_type": "code",
      "metadata": {
        "id": "wjP7xKTJIG2s"
      },
      "source": [
        "class CNN(nn.Module):\n",
        "    def __init__(self):\n",
        "        super(CNN,self).__init__()\n",
        "        self.cnn_1 = nn.Conv2d(in_channels = 1, out_channels = 16, kernel_size = 5, stride=1, padding=0)\n",
        "        self.cnn_2 = nn.Conv2d(in_channels = 16, out_channels = 32, kernel_size = 5, stride=1, padding=0)\n",
        "        self.relu = nn.ReLU()\n",
        "        self.maxpool = nn.MaxPool2d(2,2)\n",
        "        self.dropout = nn.Dropout(p=0.2)\n",
        "        self.dropout2d = nn.Dropout2d(p=0.2)\n",
        "        \n",
        "        self.fc1 = nn.Linear(32 * 4 * 4, 128) \n",
        "        self.fc2 = nn.Linear(128, 64) \n",
        "        self.out = nn.Linear(64, 10) \n",
        "        \n",
        "    def forward(self,x):\n",
        "        \n",
        "        out = self.cnn_1(x)\n",
        "        out = self.relu(out)\n",
        "        out = self.dropout2d(out)\n",
        "        out = self.maxpool(out)\n",
        "        \n",
        "        out = self.cnn_2(out)\n",
        "        out = self.relu(out)\n",
        "        out = self.dropout2d(out)\n",
        "        out = self.maxpool(out)\n",
        "        \n",
        "        out = out.view(out.size(0), -1)\n",
        "        out = self.fc1(out)\n",
        "        out = self.dropout(out)\n",
        "        out = self.fc2(out)\n",
        "        out = self.dropout(out)\n",
        "        out = self.out(out)\n",
        "        \n",
        "        return out"
      ],
      "execution_count": null,
      "outputs": []
    },
    {
      "cell_type": "code",
      "metadata": {
        "id": "uBJmufOQICPE"
      },
      "source": [
        "model = CNN()\n",
        "model = model.double()\n",
        "criterion = nn.CrossEntropyLoss()\n",
        "optimizer = torch.optim.Adam(model.parameters(),lr=0.003)"
      ],
      "execution_count": null,
      "outputs": []
    },
    {
      "cell_type": "code",
      "metadata": {
        "colab": {
          "base_uri": "https://localhost:8080/"
        },
        "id": "nR9GfbPqoVAm",
        "outputId": "63fc38d6-d249-4665-fdfa-6882bcddb12e"
      },
      "source": [
        "epochs = 5\n",
        "train_losses, test_losses = [] ,[]\n",
        "for epoch in range(epochs):\n",
        "    running_loss = 0\n",
        "    for images,labels in train_loader:\n",
        "        train = Variable(images.view(-1,1,28,28))\n",
        "        labels = Variable(labels)\n",
        "        \n",
        "        optimizer.zero_grad()\n",
        "        \n",
        "        output = model(train)\n",
        "        loss = criterion(output,labels)\n",
        "        loss.backward()\n",
        "        optimizer.step()\n",
        "        \n",
        "        running_loss += loss.item()\n",
        "    else:\n",
        "        test_loss = 0\n",
        "        accuracy = 0\n",
        "        \n",
        "        with torch.no_grad(): #Turning off gradients to speed up\n",
        "            model.eval()\n",
        "            for images,labels in test_loader:\n",
        "                \n",
        "                test = Variable(images.view(-1,1,28,28))\n",
        "                labels = Variable(labels)\n",
        "                \n",
        "                log_ps = model(test)\n",
        "                test_loss += criterion(log_ps,labels)\n",
        "                \n",
        "                ps = torch.exp(log_ps)\n",
        "                top_p, top_class = ps.topk(1, dim = 1)\n",
        "                equals = top_class == labels.view(*top_class.shape)\n",
        "                accuracy += torch.mean(equals.type(torch.FloatTensor))\n",
        "        model.train()        \n",
        "        train_losses.append(running_loss/len(train_loader))\n",
        "        test_losses.append(test_loss/len(test_loader))\n",
        "\n",
        "        print(\"Epoch: {}/{}.. \".format(epoch+1, epochs),\n",
        "              \"Training Loss: {:.3f}.. \".format(running_loss/len(train_loader)),\n",
        "              \"Test Loss: {:.3f}.. \".format(test_loss/len(test_loader)),\n",
        "              \"Test Accuracy: {:.3f}\".format(accuracy/len(test_loader)))\n"
      ],
      "execution_count": null,
      "outputs": [
        {
          "output_type": "stream",
          "text": [
            "Epoch: 1/5..  Training Loss: 0.178..  Test Loss: 0.057..  Test Accuracy: 0.983\n",
            "Epoch: 2/5..  Training Loss: 0.097..  Test Loss: 0.054..  Test Accuracy: 0.985\n",
            "Epoch: 3/5..  Training Loss: 0.092..  Test Loss: 0.044..  Test Accuracy: 0.988\n",
            "Epoch: 4/5..  Training Loss: 0.084..  Test Loss: 0.048..  Test Accuracy: 0.987\n",
            "Epoch: 5/5..  Training Loss: 0.082..  Test Loss: 0.044..  Test Accuracy: 0.987\n"
          ],
          "name": "stdout"
        }
      ]
    },
    {
      "cell_type": "code",
      "metadata": {
        "colab": {
          "base_uri": "https://localhost:8080/",
          "height": 282
        },
        "id": "ZDD3UuWuByvC",
        "outputId": "41da8e00-87d0-42aa-f588-7b6a40e0a56d"
      },
      "source": [
        "plt.plot(train_losses, label='Training loss')\n",
        "plt.plot(test_losses, label='Validation loss')\n",
        "plt.legend(frameon=False)"
      ],
      "execution_count": null,
      "outputs": [
        {
          "output_type": "execute_result",
          "data": {
            "text/plain": [
              "<matplotlib.legend.Legend at 0x7f27f886d550>"
            ]
          },
          "metadata": {
            "tags": []
          },
          "execution_count": 49
        },
        {
          "output_type": "display_data",
          "data": {
            "image/png": "[encoded data removed]",
            "text/plain": [
              "<Figure size 432x288 with 1 Axes>"
            ]
          },
          "metadata": {
            "tags": [],
            "needs_background": "light"
          }
        }
      ]
    },
    {
      "cell_type": "markdown",
      "metadata": {
        "id": "a2qmUavjHmGR"
      },
      "source": [
        "### Subbmision"
      ]
    },
    {
      "cell_type": "code",
      "metadata": {
        "id": "hrTGKxLLB3Ky",
        "colab": {
          "base_uri": "https://localhost:8080/",
          "height": 232
        },
        "outputId": "2b2a6ca3-12b9-427c-8b30-876483219adc"
      },
      "source": [
        "test_images = pd.read_csv(test_path)\n",
        "test_image = test_images.loc[:,test_images.columns != \"label\"].values/255\n",
        "test_dataset = torch.from_numpy(test_image)\n",
        "#test_dataset_1 = torch.utils.data.TensorDataset(test_dataset)\n",
        "new_test_loader = torch.utils.data.DataLoader(test_dataset, batch_size = 100, shuffle = False)"
      ],
      "execution_count": 1,
      "outputs": [
        {
          "output_type": "error",
          "ename": "NameError",
          "evalue": "ignored",
          "traceback": [
            "\u001b[0;31m---------------------------------------------------------------------------\u001b[0m",
            "\u001b[0;31mNameError\u001b[0m                                 Traceback (most recent call last)",
            "\u001b[0;32m<ipython-input-1-c35ae33c647e>\u001b[0m in \u001b[0;36m<module>\u001b[0;34m()\u001b[0m\n\u001b[0;32m----> 1\u001b[0;31m \u001b[0mtest_images\u001b[0m \u001b[0;34m=\u001b[0m \u001b[0mpd\u001b[0m\u001b[0;34m.\u001b[0m\u001b[0mread_csv\u001b[0m\u001b[0;34m(\u001b[0m\u001b[0mtest_path\u001b[0m\u001b[0;34m)\u001b[0m\u001b[0;34m\u001b[0m\u001b[0;34m\u001b[0m\u001b[0m\n\u001b[0m\u001b[1;32m      2\u001b[0m \u001b[0mtest_image\u001b[0m \u001b[0;34m=\u001b[0m \u001b[0mtest_images\u001b[0m\u001b[0;34m.\u001b[0m\u001b[0mloc\u001b[0m\u001b[0;34m[\u001b[0m\u001b[0;34m:\u001b[0m\u001b[0;34m,\u001b[0m\u001b[0mtest_images\u001b[0m\u001b[0;34m.\u001b[0m\u001b[0mcolumns\u001b[0m \u001b[0;34m!=\u001b[0m \u001b[0;34m\"label\"\u001b[0m\u001b[0;34m]\u001b[0m\u001b[0;34m.\u001b[0m\u001b[0mvalues\u001b[0m\u001b[0;34m/\u001b[0m\u001b[0;36m255\u001b[0m\u001b[0;34m\u001b[0m\u001b[0;34m\u001b[0m\u001b[0m\n\u001b[1;32m      3\u001b[0m \u001b[0mtest_dataset\u001b[0m \u001b[0;34m=\u001b[0m \u001b[0mtorch\u001b[0m\u001b[0;34m.\u001b[0m\u001b[0mfrom_numpy\u001b[0m\u001b[0;34m(\u001b[0m\u001b[0mtest_image\u001b[0m\u001b[0;34m)\u001b[0m\u001b[0;34m\u001b[0m\u001b[0;34m\u001b[0m\u001b[0m\n\u001b[1;32m      4\u001b[0m \u001b[0;31m#test_dataset_1 = torch.utils.data.TensorDataset(test_dataset)\u001b[0m\u001b[0;34m\u001b[0m\u001b[0;34m\u001b[0m\u001b[0;34m\u001b[0m\u001b[0m\n\u001b[1;32m      5\u001b[0m \u001b[0mnew_test_loader\u001b[0m \u001b[0;34m=\u001b[0m \u001b[0mtorch\u001b[0m\u001b[0;34m.\u001b[0m\u001b[0mutils\u001b[0m\u001b[0;34m.\u001b[0m\u001b[0mdata\u001b[0m\u001b[0;34m.\u001b[0m\u001b[0mDataLoader\u001b[0m\u001b[0;34m(\u001b[0m\u001b[0mtest_dataset\u001b[0m\u001b[0;34m,\u001b[0m \u001b[0mbatch_size\u001b[0m \u001b[0;34m=\u001b[0m \u001b[0;36m100\u001b[0m\u001b[0;34m,\u001b[0m \u001b[0mshuffle\u001b[0m \u001b[0;34m=\u001b[0m \u001b[0;32mFalse\u001b[0m\u001b[0;34m)\u001b[0m\u001b[0;34m\u001b[0m\u001b[0;34m\u001b[0m\u001b[0m\n",
            "\u001b[0;31mNameError\u001b[0m: name 'pd' is not defined"
          ]
        }
      ]
    },
    {
      "cell_type": "code",
      "metadata": {
        "id": "L1ZFi1LlCGcu"
      },
      "source": [
        "results = []\n",
        "with torch.no_grad():\n",
        "    model.eval()\n",
        "    for images in new_test_loader:\n",
        "        test = Variable(images.view(-1,1,28,28))#.to(device)\n",
        "        output = model(test)\n",
        "        ps = torch.exp(output)\n",
        "        top_p, top_class = ps.topk(1, dim = 1)\n",
        "        results += top_class.numpy().tolist()"
      ],
      "execution_count": null,
      "outputs": []
    },
    {
      "cell_type": "code",
      "metadata": {
        "id": "f6nChi2LCJwS"
      },
      "source": [
        "predictions = np.array(results).flatten()"
      ],
      "execution_count": null,
      "outputs": []
    },
    {
      "cell_type": "code",
      "metadata": {
        "id": "697zZW5KCOKE"
      },
      "source": [
        "submissions=pd.DataFrame({\"ImageId\": list(range(1,len(predictions)+1)),\n",
        "                         \"Label\": predictions})\n",
        "submissions.to_csv(\"my_submissions.csv\", index=False, header=True)"
      ],
      "execution_count": null,
      "outputs": []
    },
    {
      "cell_type": "code",
      "metadata": {
        "id": "Ju5kFbLbR-T7"
      },
      "source": [
        "### best on kaggle - 0.98828"
      ],
      "execution_count": null,
      "outputs": []
    }
  ]
}