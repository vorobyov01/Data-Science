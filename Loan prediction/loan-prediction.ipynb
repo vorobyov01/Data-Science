{
 "cells": [
  {
   "cell_type": "markdown",
   "metadata": {},
   "source": [
    "##### Воробьёв Сергей, ВМК МГУ, 2021\n",
    "Решение задачи https://www.kaggle.com/c/iml2020-bank"
   ]
  },
  {
   "cell_type": "markdown",
   "metadata": {},
   "source": [
    "### Imports"
   ]
  },
  {
   "cell_type": "code",
   "execution_count": 1,
   "metadata": {
    "_cell_guid": "b1076dfc-b9ad-4769-8c92-a6c4dae69d19",
    "_uuid": "8f2839f25d086af736a60e9eeb907d3b93b6e0e5"
   },
   "outputs": [],
   "source": [
    "import numpy as np\n",
    "import pandas as pd\n",
    "import seaborn as sns\n",
    "from hyperopt import hp"
   ]
  },
  {
   "cell_type": "code",
   "execution_count": 2,
   "metadata": {
    "_cell_guid": "79c7e3d0-c299-4dcb-8224-4455121ee9b0",
    "_uuid": "d629ff2d2480ee46fbb7e2d37f6b5fab8052498a"
   },
   "outputs": [
    {
     "name": "stdout",
     "output_type": "stream",
     "text": [
      "Populating the interactive namespace from numpy and matplotlib\n"
     ]
    }
   ],
   "source": [
    "%pylab inline\n",
    "plt.style.use('seaborn-dark')\n",
    "import warnings\n",
    "warnings.filterwarnings(\"ignore\")\n",
    "pd.set_option('display.max_columns', None) # pd.options.display.max_columns = None \n",
    "import matplotlib.pyplot as plt\n",
    "import matplotlib as mpl\n",
    "import seaborn as sns\n",
    "plt.rc('font', size=14)"
   ]
  },
  {
   "cell_type": "code",
   "execution_count": 3,
   "metadata": {},
   "outputs": [],
   "source": [
    "from sklearn.metrics import accuracy_score, roc_auc_score, \\\n",
    "confusion_matrix, precision_score, recall_score, mean_squared_error, \\\n",
    "f1_score\n",
    "from sklearn.preprocessing import StandardScaler "
   ]
  },
  {
   "cell_type": "markdown",
   "metadata": {},
   "source": [
    "### Data"
   ]
  },
  {
   "cell_type": "code",
   "execution_count": 4,
   "metadata": {},
   "outputs": [
    {
     "name": "stdout",
     "output_type": "stream",
     "text": [
      "(112500, 11) (37500, 10)\n"
     ]
    },
    {
     "data": {
      "text/html": [
       "<div>\n",
       "<style scoped>\n",
       "    .dataframe tbody tr th:only-of-type {\n",
       "        vertical-align: middle;\n",
       "    }\n",
       "\n",
       "    .dataframe tbody tr th {\n",
       "        vertical-align: top;\n",
       "    }\n",
       "\n",
       "    .dataframe thead th {\n",
       "        text-align: right;\n",
       "    }\n",
       "</style>\n",
       "<table border=\"1\" class=\"dataframe\">\n",
       "  <thead>\n",
       "    <tr style=\"text-align: right;\">\n",
       "      <th></th>\n",
       "      <th>плохой_клиент</th>\n",
       "      <th>линии</th>\n",
       "      <th>возраст</th>\n",
       "      <th>поведение_30-59_дней</th>\n",
       "      <th>Debt_Ratio</th>\n",
       "      <th>доход</th>\n",
       "      <th>число_кредитов</th>\n",
       "      <th>поведение_90_дней</th>\n",
       "      <th>недвижимость</th>\n",
       "      <th>поведение_60-89_дней</th>\n",
       "      <th>семья</th>\n",
       "    </tr>\n",
       "  </thead>\n",
       "  <tbody>\n",
       "    <tr>\n",
       "      <th>68290</th>\n",
       "      <td>0</td>\n",
       "      <td>0.194534</td>\n",
       "      <td>53</td>\n",
       "      <td>1</td>\n",
       "      <td>0.446851</td>\n",
       "      <td>3000.0</td>\n",
       "      <td>8</td>\n",
       "      <td>0</td>\n",
       "      <td>2</td>\n",
       "      <td>0</td>\n",
       "      <td>1.0</td>\n",
       "    </tr>\n",
       "    <tr>\n",
       "      <th>37993</th>\n",
       "      <td>0</td>\n",
       "      <td>0.294455</td>\n",
       "      <td>31</td>\n",
       "      <td>0</td>\n",
       "      <td>0.195893</td>\n",
       "      <td>4430.0</td>\n",
       "      <td>7</td>\n",
       "      <td>0</td>\n",
       "      <td>0</td>\n",
       "      <td>0</td>\n",
       "      <td>0.0</td>\n",
       "    </tr>\n",
       "    <tr>\n",
       "      <th>110140</th>\n",
       "      <td>0</td>\n",
       "      <td>0.721329</td>\n",
       "      <td>38</td>\n",
       "      <td>0</td>\n",
       "      <td>0.828586</td>\n",
       "      <td>2000.0</td>\n",
       "      <td>6</td>\n",
       "      <td>0</td>\n",
       "      <td>1</td>\n",
       "      <td>0</td>\n",
       "      <td>0.0</td>\n",
       "    </tr>\n",
       "    <tr>\n",
       "      <th>6476</th>\n",
       "      <td>0</td>\n",
       "      <td>0.173605</td>\n",
       "      <td>45</td>\n",
       "      <td>0</td>\n",
       "      <td>0.129263</td>\n",
       "      <td>5600.0</td>\n",
       "      <td>5</td>\n",
       "      <td>0</td>\n",
       "      <td>0</td>\n",
       "      <td>0</td>\n",
       "      <td>1.0</td>\n",
       "    </tr>\n",
       "    <tr>\n",
       "      <th>77363</th>\n",
       "      <td>0</td>\n",
       "      <td>0.011049</td>\n",
       "      <td>75</td>\n",
       "      <td>0</td>\n",
       "      <td>316.000000</td>\n",
       "      <td>NaN</td>\n",
       "      <td>12</td>\n",
       "      <td>0</td>\n",
       "      <td>0</td>\n",
       "      <td>0</td>\n",
       "      <td>0.0</td>\n",
       "    </tr>\n",
       "  </tbody>\n",
       "</table>\n",
       "</div>"
      ],
      "text/plain": [
       "        плохой_клиент     линии  возраст  поведение_30-59_дней  Debt_Ratio  \\\n",
       "68290               0  0.194534       53                     1    0.446851   \n",
       "37993               0  0.294455       31                     0    0.195893   \n",
       "110140              0  0.721329       38                     0    0.828586   \n",
       "6476                0  0.173605       45                     0    0.129263   \n",
       "77363               0  0.011049       75                     0  316.000000   \n",
       "\n",
       "         доход  число_кредитов  поведение_90_дней  недвижимость  \\\n",
       "68290   3000.0               8                  0             2   \n",
       "37993   4430.0               7                  0             0   \n",
       "110140  2000.0               6                  0             1   \n",
       "6476    5600.0               5                  0             0   \n",
       "77363      NaN              12                  0             0   \n",
       "\n",
       "        поведение_60-89_дней  семья  \n",
       "68290                      0    1.0  \n",
       "37993                      0    0.0  \n",
       "110140                     0    0.0  \n",
       "6476                       0    1.0  \n",
       "77363                      0    0.0  "
      ]
     },
     "execution_count": 4,
     "metadata": {},
     "output_type": "execute_result"
    }
   ],
   "source": [
    "train = pd.read_csv('input/train.csv')\n",
    "test = pd.read_csv('input/test.csv')\n",
    "print(train.shape, test.shape)\n",
    "train.sample(5)"
   ]
  },
  {
   "cell_type": "code",
   "execution_count": 5,
   "metadata": {},
   "outputs": [
    {
     "data": {
      "text/html": [
       "<div>\n",
       "<style scoped>\n",
       "    .dataframe tbody tr th:only-of-type {\n",
       "        vertical-align: middle;\n",
       "    }\n",
       "\n",
       "    .dataframe tbody tr th {\n",
       "        vertical-align: top;\n",
       "    }\n",
       "\n",
       "    .dataframe thead th {\n",
       "        text-align: right;\n",
       "    }\n",
       "</style>\n",
       "<table border=\"1\" class=\"dataframe\">\n",
       "  <thead>\n",
       "    <tr style=\"text-align: right;\">\n",
       "      <th></th>\n",
       "      <th>плохой_клиент</th>\n",
       "      <th>линии</th>\n",
       "      <th>возраст</th>\n",
       "      <th>поведение_30-59_дней</th>\n",
       "      <th>Debt_Ratio</th>\n",
       "      <th>доход</th>\n",
       "      <th>число_кредитов</th>\n",
       "      <th>поведение_90_дней</th>\n",
       "      <th>недвижимость</th>\n",
       "      <th>поведение_60-89_дней</th>\n",
       "      <th>семья</th>\n",
       "    </tr>\n",
       "  </thead>\n",
       "  <tbody>\n",
       "    <tr>\n",
       "      <th>count</th>\n",
       "      <td>112500.000000</td>\n",
       "      <td>112500.000000</td>\n",
       "      <td>112500.000000</td>\n",
       "      <td>112500.000000</td>\n",
       "      <td>112500.000000</td>\n",
       "      <td>9.027400e+04</td>\n",
       "      <td>112500.000000</td>\n",
       "      <td>112500.000000</td>\n",
       "      <td>112500.000000</td>\n",
       "      <td>112500.000000</td>\n",
       "      <td>109549.000000</td>\n",
       "    </tr>\n",
       "    <tr>\n",
       "      <th>mean</th>\n",
       "      <td>0.067058</td>\n",
       "      <td>6.057904</td>\n",
       "      <td>52.292702</td>\n",
       "      <td>0.425538</td>\n",
       "      <td>350.965444</td>\n",
       "      <td>6.662380e+03</td>\n",
       "      <td>8.464267</td>\n",
       "      <td>0.271627</td>\n",
       "      <td>1.019680</td>\n",
       "      <td>0.245333</td>\n",
       "      <td>0.755662</td>\n",
       "    </tr>\n",
       "    <tr>\n",
       "      <th>std</th>\n",
       "      <td>0.250123</td>\n",
       "      <td>257.959993</td>\n",
       "      <td>14.765029</td>\n",
       "      <td>4.246085</td>\n",
       "      <td>1864.557746</td>\n",
       "      <td>1.540162e+04</td>\n",
       "      <td>5.149137</td>\n",
       "      <td>4.223498</td>\n",
       "      <td>1.130324</td>\n",
       "      <td>4.208686</td>\n",
       "      <td>1.113419</td>\n",
       "    </tr>\n",
       "    <tr>\n",
       "      <th>min</th>\n",
       "      <td>0.000000</td>\n",
       "      <td>0.000000</td>\n",
       "      <td>0.000000</td>\n",
       "      <td>0.000000</td>\n",
       "      <td>0.000000</td>\n",
       "      <td>0.000000e+00</td>\n",
       "      <td>0.000000</td>\n",
       "      <td>0.000000</td>\n",
       "      <td>0.000000</td>\n",
       "      <td>0.000000</td>\n",
       "      <td>0.000000</td>\n",
       "    </tr>\n",
       "    <tr>\n",
       "      <th>25%</th>\n",
       "      <td>0.000000</td>\n",
       "      <td>0.029840</td>\n",
       "      <td>41.000000</td>\n",
       "      <td>0.000000</td>\n",
       "      <td>0.175069</td>\n",
       "      <td>3.400000e+03</td>\n",
       "      <td>5.000000</td>\n",
       "      <td>0.000000</td>\n",
       "      <td>0.000000</td>\n",
       "      <td>0.000000</td>\n",
       "      <td>0.000000</td>\n",
       "    </tr>\n",
       "    <tr>\n",
       "      <th>50%</th>\n",
       "      <td>0.000000</td>\n",
       "      <td>0.154015</td>\n",
       "      <td>52.000000</td>\n",
       "      <td>0.000000</td>\n",
       "      <td>0.366336</td>\n",
       "      <td>5.400000e+03</td>\n",
       "      <td>8.000000</td>\n",
       "      <td>0.000000</td>\n",
       "      <td>1.000000</td>\n",
       "      <td>0.000000</td>\n",
       "      <td>0.000000</td>\n",
       "    </tr>\n",
       "    <tr>\n",
       "      <th>75%</th>\n",
       "      <td>0.000000</td>\n",
       "      <td>0.559389</td>\n",
       "      <td>63.000000</td>\n",
       "      <td>0.000000</td>\n",
       "      <td>0.863569</td>\n",
       "      <td>8.250000e+03</td>\n",
       "      <td>11.000000</td>\n",
       "      <td>0.000000</td>\n",
       "      <td>2.000000</td>\n",
       "      <td>0.000000</td>\n",
       "      <td>1.000000</td>\n",
       "    </tr>\n",
       "    <tr>\n",
       "      <th>max</th>\n",
       "      <td>1.000000</td>\n",
       "      <td>50708.000000</td>\n",
       "      <td>109.000000</td>\n",
       "      <td>98.000000</td>\n",
       "      <td>326442.000000</td>\n",
       "      <td>3.008750e+06</td>\n",
       "      <td>58.000000</td>\n",
       "      <td>98.000000</td>\n",
       "      <td>54.000000</td>\n",
       "      <td>98.000000</td>\n",
       "      <td>13.000000</td>\n",
       "    </tr>\n",
       "  </tbody>\n",
       "</table>\n",
       "</div>"
      ],
      "text/plain": [
       "       плохой_клиент          линии        возраст  поведение_30-59_дней  \\\n",
       "count  112500.000000  112500.000000  112500.000000         112500.000000   \n",
       "mean        0.067058       6.057904      52.292702              0.425538   \n",
       "std         0.250123     257.959993      14.765029              4.246085   \n",
       "min         0.000000       0.000000       0.000000              0.000000   \n",
       "25%         0.000000       0.029840      41.000000              0.000000   \n",
       "50%         0.000000       0.154015      52.000000              0.000000   \n",
       "75%         0.000000       0.559389      63.000000              0.000000   \n",
       "max         1.000000   50708.000000     109.000000             98.000000   \n",
       "\n",
       "          Debt_Ratio         доход  число_кредитов  поведение_90_дней  \\\n",
       "count  112500.000000  9.027400e+04   112500.000000      112500.000000   \n",
       "mean      350.965444  6.662380e+03        8.464267           0.271627   \n",
       "std      1864.557746  1.540162e+04        5.149137           4.223498   \n",
       "min         0.000000  0.000000e+00        0.000000           0.000000   \n",
       "25%         0.175069  3.400000e+03        5.000000           0.000000   \n",
       "50%         0.366336  5.400000e+03        8.000000           0.000000   \n",
       "75%         0.863569  8.250000e+03       11.000000           0.000000   \n",
       "max    326442.000000  3.008750e+06       58.000000          98.000000   \n",
       "\n",
       "        недвижимость  поведение_60-89_дней          семья  \n",
       "count  112500.000000         112500.000000  109549.000000  \n",
       "mean        1.019680              0.245333       0.755662  \n",
       "std         1.130324              4.208686       1.113419  \n",
       "min         0.000000              0.000000       0.000000  \n",
       "25%         0.000000              0.000000       0.000000  \n",
       "50%         1.000000              0.000000       0.000000  \n",
       "75%         2.000000              0.000000       1.000000  \n",
       "max        54.000000             98.000000      13.000000  "
      ]
     },
     "execution_count": 5,
     "metadata": {},
     "output_type": "execute_result"
    }
   ],
   "source": [
    "train.describe()"
   ]
  },
  {
   "cell_type": "code",
   "execution_count": 6,
   "metadata": {},
   "outputs": [
    {
     "data": {
      "text/plain": [
       "((112500, 10), (112500,))"
      ]
     },
     "execution_count": 6,
     "metadata": {},
     "output_type": "execute_result"
    }
   ],
   "source": [
    "y = train.pop('плохой_клиент')\n",
    "train.fillna(train.mean(), inplace=True) ## было -11\n",
    "test.fillna(train.mean(), inplace=True)\n",
    "\n",
    "\n",
    "ss =StandardScaler()\n",
    "train = ss.fit_transform(train)\n",
    "test = ss.transform(test)\n",
    "\n",
    "train.shape, y.shape"
   ]
  },
  {
   "cell_type": "markdown",
   "metadata": {},
   "source": [
    "### Training & Validation"
   ]
  },
  {
   "cell_type": "code",
   "execution_count": 7,
   "metadata": {},
   "outputs": [],
   "source": [
    "from sklearn.model_selection import train_test_split\n",
    "X_train, X_test, y_train, y_test = train_test_split(train, y, test_size=0.2, random_state=42)"
   ]
  },
  {
   "cell_type": "code",
   "execution_count": 8,
   "metadata": {},
   "outputs": [],
   "source": [
    "from sklearn.ensemble import RandomForestClassifier, GradientBoostingClassifier\n",
    "from sklearn.linear_model import LogisticRegression\n",
    "from sklearn.svm import SVC\n",
    "import lightgbm as lgb\n",
    "from IPython.display import clear_output"
   ]
  },
  {
   "cell_type": "code",
   "execution_count": 9,
   "metadata": {},
   "outputs": [],
   "source": [
    "def fit_predict(X, y, test, par): \n",
    "    d_train=lgb.Dataset(X, label=y)\n",
    "    #train the model \n",
    "    clf=lgb.train(par, d_train, 200) #train the model on 100 epocs\n",
    "    #prediction on the test set\n",
    "    y_pred=clf.predict(test)\n",
    "    clear_output()\n",
    "    return clf, y_pred"
   ]
  },
  {
   "cell_type": "code",
   "execution_count": 10,
   "metadata": {},
   "outputs": [],
   "source": [
    "#Best result\n",
    "\"\"\" \n",
    "        precision:  0.047238855622089154\n",
    "        recall   :  0.7717391304347826\n",
    "        f-score  :  0.08902821316614419\n",
    "        accuracy :  0.9354222222222223   \n",
    "\"\"\"\n",
    "best_params={\n",
    "    'learning_rate': 0.025,\n",
    "    'num_iterations': 59,\n",
    "    #'is_unbalance': True,\n",
    "    'boosting_type':'dart',\n",
    "    'objective': 'binary',\n",
    "    'metric':'binary_logloss',\n",
    "    'max_depth': 8,\n",
    "}\n",
    "\n",
    "params={\n",
    "    'num_iterations': 154,\n",
    "    'learning_rate': 0.00755,\n",
    "    'boosting_type':'gbdt',\n",
    "    'objective': 'binary',\n",
    "    'metric':'binary_logloss',\n",
    "    'num_leaves': 35,\n",
    "    'max_depth': 16,\n",
    "    \n",
    "}\n",
    "\n",
    "clf, y_pred = fit_predict(X_train, y_train, X_test, params)"
   ]
  },
  {
   "cell_type": "code",
   "execution_count": 11,
   "metadata": {},
   "outputs": [
    {
     "name": "stdout",
     "output_type": "stream",
     "text": [
      "precision:  0.01330671989354624\n",
      "recall   :  1.0\n",
      "f-score  :  0.026263952724885097\n",
      "auc-roc  :  0.9670151245551601\n",
      "accuracy :  0.9340888888888889\n",
      "\n",
      "\n",
      "[[20997     0]\n",
      " [ 1483    20]]\n"
     ]
    }
   ],
   "source": [
    "print(\"precision: \", precision_score(np.where(y_pred > 0.5, 1, 0), y_test))\n",
    "print(\"recall   : \", recall_score(np.where(y_pred > 0.5, 1, 0), y_test))\n",
    "print(\"f-score  : \", f1_score(np.where(y_pred > 0.5, 1, 0), y_test))\n",
    "print(\"auc-roc  : \", roc_auc_score(np.where(y_pred > 0.5, 1, 0), y_test))\n",
    "print(\"accuracy : \", accuracy_score(np.where(y_pred > 0.5, 1, 0), y_test))\n",
    "print(\"\\n\")\n",
    "print(confusion_matrix(y_test, np.where(y_pred > 0.5, 1, 0)))"
   ]
  },
  {
   "cell_type": "markdown",
   "metadata": {},
   "source": [
    "### Solution for Kaggle"
   ]
  },
  {
   "cell_type": "code",
   "execution_count": 12,
   "metadata": {},
   "outputs": [],
   "source": [
    "d_train=lgb.Dataset(train, label=y)\n",
    "best_model=lgb.train(params, d_train, 200) #train the model on 100 epocs\n",
    "clear_output()"
   ]
  },
  {
   "cell_type": "code",
   "execution_count": 13,
   "metadata": {},
   "outputs": [],
   "source": [
    "a = best_model.predict(test)\n",
    "pd.DataFrame({'id': np.arange(37500), 'a':a}).to_csv('solution.csv', index=False)"
   ]
  }
 ],
 "metadata": {
  "kernelspec": {
   "display_name": "Python 3",
   "language": "python",
   "name": "python3"
  },
  "language_info": {
   "codemirror_mode": {
    "name": "ipython",
    "version": 3
   },
   "file_extension": ".py",
   "mimetype": "text/x-python",
   "name": "python",
   "nbconvert_exporter": "python",
   "pygments_lexer": "ipython3",
   "version": "3.7.6"
  }
 },
 "nbformat": 4,
 "nbformat_minor": 4
}
